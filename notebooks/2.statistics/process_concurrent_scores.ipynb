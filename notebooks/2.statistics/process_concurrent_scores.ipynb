{
 "cells": [
  {
   "cell_type": "code",
   "execution_count": 1,
   "metadata": {},
   "outputs": [],
   "source": [
    "import pandas as pd\n",
    "import pickle\n",
    "import time\n",
    "import os\n",
    "import re\n",
    "import numpy as np"
   ]
  },
  {
   "cell_type": "code",
   "execution_count": 2,
   "metadata": {},
   "outputs": [],
   "source": [
    "import matplotlib.pyplot as plt\n",
    "%matplotlib inline"
   ]
  },
  {
   "cell_type": "code",
   "execution_count": 3,
   "metadata": {},
   "outputs": [],
   "source": [
    "from functools import reduce"
   ]
  },
  {
   "cell_type": "code",
   "execution_count": 4,
   "metadata": {},
   "outputs": [],
   "source": [
    "PATH_TO_DATA_UK = '/media/andrii/earth/Katia/CS_MasterThesis/data/ukwiki/ukwiki_20180920/'\n",
    "PATH_TO_DATA_EN = '/media/andrii/earth/Katia/CS_MasterThesis/data/enwiki/enwiki_20180920/'\n",
    "PATH_TO_DATA_RL = '/media/andrii/earth/Katia/CS_MasterThesis/data/ukwiki/uk_red_links/'\n",
    "PATH_TO_WIKIDATA_UK = '/media/andrii/earth/Katia/CS_MasterThesis/data/ukwiki/uk_wikidata/'\n",
    "PATH_TO_WIKIDATA_EN = '/media/andrii/earth/Katia/CS_MasterThesis/data/enwiki/en_wikidata/'"
   ]
  },
  {
   "cell_type": "code",
   "execution_count": 5,
   "metadata": {},
   "outputs": [],
   "source": [
    "candidate_pairs = pd.read_csv(PATH_TO_DATA_RL+'red_links_uk_with_features_with_uniqueid.csv', sep='^')"
   ]
  },
  {
   "cell_type": "code",
   "execution_count": 6,
   "metadata": {},
   "outputs": [],
   "source": [
    "concur_folders = [f for f in os.listdir(PATH_TO_DATA_RL) if re.match(r'concurrent_scores', f)]"
   ]
  },
  {
   "cell_type": "code",
   "execution_count": 7,
   "metadata": {
    "scrolled": true
   },
   "outputs": [
    {
     "data": {
      "text/plain": [
       "['concurrent_scores_4',\n",
       " 'concurrent_scores_2',\n",
       " 'concurrent_scores_3',\n",
       " 'concurrent_scores']"
      ]
     },
     "execution_count": 7,
     "metadata": {},
     "output_type": "execute_result"
    }
   ],
   "source": [
    "concur_folders"
   ]
  },
  {
   "cell_type": "code",
   "execution_count": 8,
   "metadata": {},
   "outputs": [],
   "source": [
    "def files_to_df(path_folder):\n",
    "    files = os.listdir(path_folder)\n",
    "    scores_per_folder = []\n",
    "    for file in files:\n",
    "        with open(path_folder+file, 'rb') as fp:\n",
    "            concurrent_scores = pickle.load(fp)\n",
    "        scores_per_folder += concurrent_scores\n",
    "    df = pd.DataFrame(scores_per_folder)\n",
    "    df.columns = ['pair_id', 'concur_score']\n",
    "    df = df.dropna()\n",
    "    return df"
   ]
  },
  {
   "cell_type": "code",
   "execution_count": 9,
   "metadata": {},
   "outputs": [],
   "source": [
    "concurrent_scores_1_df = files_to_df(PATH_TO_DATA_RL+'concurrent_scores/')"
   ]
  },
  {
   "cell_type": "code",
   "execution_count": 10,
   "metadata": {},
   "outputs": [],
   "source": [
    "concurrent_scores_2_df = files_to_df(PATH_TO_DATA_RL+'concurrent_scores_2/')"
   ]
  },
  {
   "cell_type": "code",
   "execution_count": 11,
   "metadata": {},
   "outputs": [],
   "source": [
    "concurrent_scores_3_df = files_to_df(PATH_TO_DATA_RL+'concurrent_scores_3/')"
   ]
  },
  {
   "cell_type": "code",
   "execution_count": 12,
   "metadata": {},
   "outputs": [],
   "source": [
    "concurrent_scores_4_df = files_to_df(PATH_TO_DATA_RL+'concurrent_scores_4/')"
   ]
  },
  {
   "cell_type": "code",
   "execution_count": 13,
   "metadata": {},
   "outputs": [],
   "source": [
    "dfs = [concurrent_scores_1_df, concurrent_scores_2_df, concurrent_scores_3_df, concurrent_scores_4_df]"
   ]
  },
  {
   "cell_type": "code",
   "execution_count": 14,
   "metadata": {},
   "outputs": [],
   "source": [
    "concurrent_scores = pd.concat(dfs)"
   ]
  },
  {
   "cell_type": "code",
   "execution_count": 15,
   "metadata": {
    "scrolled": true
   },
   "outputs": [],
   "source": [
    "concurrent_scores = concurrent_scores.drop_duplicates().reset_index(drop=True)"
   ]
  },
  {
   "cell_type": "code",
   "execution_count": 16,
   "metadata": {},
   "outputs": [],
   "source": [
    "concurrent_scores = concurrent_scores.sort_values(by=['pair_id'])"
   ]
  },
  {
   "cell_type": "code",
   "execution_count": 17,
   "metadata": {},
   "outputs": [
    {
     "data": {
      "text/plain": [
       "(2959153, 2)"
      ]
     },
     "execution_count": 17,
     "metadata": {},
     "output_type": "execute_result"
    }
   ],
   "source": [
    "concurrent_scores.shape"
   ]
  },
  {
   "cell_type": "code",
   "execution_count": 18,
   "metadata": {},
   "outputs": [
    {
     "data": {
      "text/html": [
       "<div>\n",
       "<style scoped>\n",
       "    .dataframe tbody tr th:only-of-type {\n",
       "        vertical-align: middle;\n",
       "    }\n",
       "\n",
       "    .dataframe tbody tr th {\n",
       "        vertical-align: top;\n",
       "    }\n",
       "\n",
       "    .dataframe thead th {\n",
       "        text-align: right;\n",
       "    }\n",
       "</style>\n",
       "<table border=\"1\" class=\"dataframe\">\n",
       "  <thead>\n",
       "    <tr style=\"text-align: right;\">\n",
       "      <th></th>\n",
       "      <th>pair_id</th>\n",
       "      <th>concur_score</th>\n",
       "    </tr>\n",
       "  </thead>\n",
       "  <tbody>\n",
       "    <tr>\n",
       "      <th>1761889</th>\n",
       "      <td>0</td>\n",
       "      <td>0.03060</td>\n",
       "    </tr>\n",
       "    <tr>\n",
       "      <th>1761890</th>\n",
       "      <td>1</td>\n",
       "      <td>0.03053</td>\n",
       "    </tr>\n",
       "    <tr>\n",
       "      <th>1761891</th>\n",
       "      <td>2</td>\n",
       "      <td>0.03026</td>\n",
       "    </tr>\n",
       "    <tr>\n",
       "      <th>1761892</th>\n",
       "      <td>3</td>\n",
       "      <td>0.03271</td>\n",
       "    </tr>\n",
       "    <tr>\n",
       "      <th>1761893</th>\n",
       "      <td>4</td>\n",
       "      <td>0.03297</td>\n",
       "    </tr>\n",
       "  </tbody>\n",
       "</table>\n",
       "</div>"
      ],
      "text/plain": [
       "         pair_id  concur_score\n",
       "1761889        0       0.03060\n",
       "1761890        1       0.03053\n",
       "1761891        2       0.03026\n",
       "1761892        3       0.03271\n",
       "1761893        4       0.03297"
      ]
     },
     "execution_count": 18,
     "metadata": {},
     "output_type": "execute_result"
    }
   ],
   "source": [
    "concurrent_scores.head()"
   ]
  },
  {
   "cell_type": "code",
   "execution_count": 19,
   "metadata": {},
   "outputs": [
    {
     "data": {
      "text/html": [
       "<div>\n",
       "<style scoped>\n",
       "    .dataframe tbody tr th:only-of-type {\n",
       "        vertical-align: middle;\n",
       "    }\n",
       "\n",
       "    .dataframe tbody tr th {\n",
       "        vertical-align: top;\n",
       "    }\n",
       "\n",
       "    .dataframe thead th {\n",
       "        text-align: right;\n",
       "    }\n",
       "</style>\n",
       "<table border=\"1\" class=\"dataframe\">\n",
       "  <thead>\n",
       "    <tr style=\"text-align: right;\">\n",
       "      <th></th>\n",
       "      <th>pair_unique_id</th>\n",
       "      <th>red_link_name</th>\n",
       "      <th>candidate</th>\n",
       "      <th>true_label</th>\n",
       "      <th>BN_results</th>\n",
       "      <th>jaccard_score</th>\n",
       "      <th>levenstein_score</th>\n",
       "    </tr>\n",
       "  </thead>\n",
       "  <tbody>\n",
       "    <tr>\n",
       "      <th>0</th>\n",
       "      <td>0</td>\n",
       "      <td>Pachetra sagittigera</td>\n",
       "      <td>Phytometra viridaria</td>\n",
       "      <td>False</td>\n",
       "      <td>0</td>\n",
       "      <td>0.081</td>\n",
       "      <td>0.650</td>\n",
       "    </tr>\n",
       "    <tr>\n",
       "      <th>1</th>\n",
       "      <td>1</td>\n",
       "      <td>Pachetra sagittigera</td>\n",
       "      <td>Conistra rubiginea</td>\n",
       "      <td>False</td>\n",
       "      <td>0</td>\n",
       "      <td>0.076</td>\n",
       "      <td>0.600</td>\n",
       "    </tr>\n",
       "    <tr>\n",
       "      <th>2</th>\n",
       "      <td>2</td>\n",
       "      <td>Pachetra sagittigera</td>\n",
       "      <td>Tholera decimalis</td>\n",
       "      <td>False</td>\n",
       "      <td>0</td>\n",
       "      <td>0.068</td>\n",
       "      <td>0.750</td>\n",
       "    </tr>\n",
       "    <tr>\n",
       "      <th>3</th>\n",
       "      <td>3</td>\n",
       "      <td>Pachetra sagittigera</td>\n",
       "      <td>Pachetra sagittigera</td>\n",
       "      <td>True</td>\n",
       "      <td>0</td>\n",
       "      <td>0.066</td>\n",
       "      <td>0.000</td>\n",
       "    </tr>\n",
       "    <tr>\n",
       "      <th>4</th>\n",
       "      <td>4</td>\n",
       "      <td>Pachetra sagittigera</td>\n",
       "      <td>Hoplodrina octogenaria</td>\n",
       "      <td>False</td>\n",
       "      <td>0</td>\n",
       "      <td>0.066</td>\n",
       "      <td>0.727</td>\n",
       "    </tr>\n",
       "  </tbody>\n",
       "</table>\n",
       "</div>"
      ],
      "text/plain": [
       "   pair_unique_id         red_link_name               candidate  true_label  \\\n",
       "0               0  Pachetra sagittigera    Phytometra viridaria       False   \n",
       "1               1  Pachetra sagittigera      Conistra rubiginea       False   \n",
       "2               2  Pachetra sagittigera       Tholera decimalis       False   \n",
       "3               3  Pachetra sagittigera    Pachetra sagittigera        True   \n",
       "4               4  Pachetra sagittigera  Hoplodrina octogenaria       False   \n",
       "\n",
       "   BN_results  jaccard_score  levenstein_score  \n",
       "0           0          0.081             0.650  \n",
       "1           0          0.076             0.600  \n",
       "2           0          0.068             0.750  \n",
       "3           0          0.066             0.000  \n",
       "4           0          0.066             0.727  "
      ]
     },
     "execution_count": 19,
     "metadata": {},
     "output_type": "execute_result"
    }
   ],
   "source": [
    "candidate_pairs.head()"
   ]
  },
  {
   "cell_type": "code",
   "execution_count": 20,
   "metadata": {},
   "outputs": [],
   "source": [
    "features_with_concur_scores =\\\n",
    "    pd.merge(candidate_pairs, concurrent_scores, how='right', left_on=['pair_unique_id'], right_on=['pair_id'])"
   ]
  },
  {
   "cell_type": "code",
   "execution_count": 21,
   "metadata": {},
   "outputs": [],
   "source": [
    "features_with_concur_scores =\\\n",
    "    features_with_concur_scores[['pair_unique_id', 'red_link_name', 'candidate', 'true_label', 'BN_results',\\\n",
    "                                'jaccard_score', 'levenstein_score', 'concur_score']]"
   ]
  },
  {
   "cell_type": "code",
   "execution_count": 22,
   "metadata": {},
   "outputs": [],
   "source": [
    "features_with_concur_scores.to_csv(PATH_TO_DATA_RL+'red_links_uk_with_features.csv', sep=\"^\", header=True, index=False)"
   ]
  },
  {
   "cell_type": "code",
   "execution_count": 23,
   "metadata": {},
   "outputs": [
    {
     "data": {
      "text/html": [
       "<div>\n",
       "<style scoped>\n",
       "    .dataframe tbody tr th:only-of-type {\n",
       "        vertical-align: middle;\n",
       "    }\n",
       "\n",
       "    .dataframe tbody tr th {\n",
       "        vertical-align: top;\n",
       "    }\n",
       "\n",
       "    .dataframe thead th {\n",
       "        text-align: right;\n",
       "    }\n",
       "</style>\n",
       "<table border=\"1\" class=\"dataframe\">\n",
       "  <thead>\n",
       "    <tr style=\"text-align: right;\">\n",
       "      <th></th>\n",
       "      <th>pair_unique_id</th>\n",
       "      <th>red_link_name</th>\n",
       "      <th>candidate</th>\n",
       "      <th>true_label</th>\n",
       "      <th>BN_results</th>\n",
       "      <th>jaccard_score</th>\n",
       "      <th>levenstein_score</th>\n",
       "      <th>concur_score</th>\n",
       "    </tr>\n",
       "  </thead>\n",
       "  <tbody>\n",
       "    <tr>\n",
       "      <th>2959117</th>\n",
       "      <td>2964346</td>\n",
       "      <td>Ді (округ)</td>\n",
       "      <td>Vercors Massif</td>\n",
       "      <td>False</td>\n",
       "      <td>0</td>\n",
       "      <td>0.009</td>\n",
       "      <td>0.929</td>\n",
       "      <td>0.00108</td>\n",
       "    </tr>\n",
       "    <tr>\n",
       "      <th>2959118</th>\n",
       "      <td>2964347</td>\n",
       "      <td>Ді (округ)</td>\n",
       "      <td>Vocontii</td>\n",
       "      <td>False</td>\n",
       "      <td>0</td>\n",
       "      <td>0.009</td>\n",
       "      <td>0.900</td>\n",
       "      <td>0.00174</td>\n",
       "    </tr>\n",
       "    <tr>\n",
       "      <th>2959119</th>\n",
       "      <td>2964348</td>\n",
       "      <td>Ді (округ)</td>\n",
       "      <td>Velay</td>\n",
       "      <td>False</td>\n",
       "      <td>0</td>\n",
       "      <td>0.009</td>\n",
       "      <td>1.000</td>\n",
       "      <td>0.00158</td>\n",
       "    </tr>\n",
       "    <tr>\n",
       "      <th>2959120</th>\n",
       "      <td>2964349</td>\n",
       "      <td>Ді (округ)</td>\n",
       "      <td>Roman Catholic Diocese of Valence</td>\n",
       "      <td>False</td>\n",
       "      <td>0</td>\n",
       "      <td>0.009</td>\n",
       "      <td>0.909</td>\n",
       "      <td>0.00053</td>\n",
       "    </tr>\n",
       "    <tr>\n",
       "      <th>2959121</th>\n",
       "      <td>2964350</td>\n",
       "      <td>Ді (округ)</td>\n",
       "      <td>Maquis du Vercors</td>\n",
       "      <td>False</td>\n",
       "      <td>0</td>\n",
       "      <td>0.009</td>\n",
       "      <td>0.824</td>\n",
       "      <td>0.00104</td>\n",
       "    </tr>\n",
       "    <tr>\n",
       "      <th>2959122</th>\n",
       "      <td>2964351</td>\n",
       "      <td>Ді (округ)</td>\n",
       "      <td>Vivarais</td>\n",
       "      <td>False</td>\n",
       "      <td>0</td>\n",
       "      <td>0.008</td>\n",
       "      <td>0.800</td>\n",
       "      <td>0.00100</td>\n",
       "    </tr>\n",
       "    <tr>\n",
       "      <th>2959123</th>\n",
       "      <td>2964352</td>\n",
       "      <td>Ді (округ)</td>\n",
       "      <td>Peter II</td>\n",
       "      <td>False</td>\n",
       "      <td>0</td>\n",
       "      <td>0.008</td>\n",
       "      <td>0.900</td>\n",
       "      <td>0.00000</td>\n",
       "    </tr>\n",
       "    <tr>\n",
       "      <th>2959124</th>\n",
       "      <td>2964353</td>\n",
       "      <td>Ді (округ)</td>\n",
       "      <td>Goat cheese</td>\n",
       "      <td>False</td>\n",
       "      <td>0</td>\n",
       "      <td>0.008</td>\n",
       "      <td>1.000</td>\n",
       "      <td>0.00051</td>\n",
       "    </tr>\n",
       "    <tr>\n",
       "      <th>2959125</th>\n",
       "      <td>2964354</td>\n",
       "      <td>Ді (округ)</td>\n",
       "      <td>Wirksworth</td>\n",
       "      <td>False</td>\n",
       "      <td>0</td>\n",
       "      <td>0.008</td>\n",
       "      <td>0.800</td>\n",
       "      <td>0.00000</td>\n",
       "    </tr>\n",
       "    <tr>\n",
       "      <th>2959126</th>\n",
       "      <td>2964355</td>\n",
       "      <td>Ді (округ)</td>\n",
       "      <td>Cromer</td>\n",
       "      <td>False</td>\n",
       "      <td>0</td>\n",
       "      <td>0.008</td>\n",
       "      <td>0.900</td>\n",
       "      <td>0.00005</td>\n",
       "    </tr>\n",
       "    <tr>\n",
       "      <th>2959127</th>\n",
       "      <td>2964356</td>\n",
       "      <td>Ді (округ)</td>\n",
       "      <td>Barn (disambiguation)</td>\n",
       "      <td>False</td>\n",
       "      <td>0</td>\n",
       "      <td>0.008</td>\n",
       "      <td>0.810</td>\n",
       "      <td>0.00014</td>\n",
       "    </tr>\n",
       "    <tr>\n",
       "      <th>2959128</th>\n",
       "      <td>2964357</td>\n",
       "      <td>Ді (округ)</td>\n",
       "      <td>Subprefectures in France</td>\n",
       "      <td>False</td>\n",
       "      <td>0</td>\n",
       "      <td>0.008</td>\n",
       "      <td>0.917</td>\n",
       "      <td>0.00030</td>\n",
       "    </tr>\n",
       "    <tr>\n",
       "      <th>2959129</th>\n",
       "      <td>2964358</td>\n",
       "      <td>Ді (округ)</td>\n",
       "      <td>KEEP</td>\n",
       "      <td>False</td>\n",
       "      <td>0</td>\n",
       "      <td>0.007</td>\n",
       "      <td>1.000</td>\n",
       "      <td>0.00012</td>\n",
       "    </tr>\n",
       "    <tr>\n",
       "      <th>2959130</th>\n",
       "      <td>2964359</td>\n",
       "      <td>Ді (округ)</td>\n",
       "      <td>Goat (disambiguation)</td>\n",
       "      <td>False</td>\n",
       "      <td>0</td>\n",
       "      <td>0.007</td>\n",
       "      <td>0.810</td>\n",
       "      <td>0.00007</td>\n",
       "    </tr>\n",
       "    <tr>\n",
       "      <th>2959131</th>\n",
       "      <td>2964360</td>\n",
       "      <td>Ді (округ)</td>\n",
       "      <td>Cave (company)</td>\n",
       "      <td>False</td>\n",
       "      <td>0</td>\n",
       "      <td>0.007</td>\n",
       "      <td>0.714</td>\n",
       "      <td>0.00006</td>\n",
       "    </tr>\n",
       "  </tbody>\n",
       "</table>\n",
       "</div>"
      ],
      "text/plain": [
       "         pair_unique_id red_link_name                          candidate  \\\n",
       "2959117         2964346    Ді (округ)                     Vercors Massif   \n",
       "2959118         2964347    Ді (округ)                           Vocontii   \n",
       "2959119         2964348    Ді (округ)                              Velay   \n",
       "2959120         2964349    Ді (округ)  Roman Catholic Diocese of Valence   \n",
       "2959121         2964350    Ді (округ)                  Maquis du Vercors   \n",
       "2959122         2964351    Ді (округ)                           Vivarais   \n",
       "2959123         2964352    Ді (округ)                           Peter II   \n",
       "2959124         2964353    Ді (округ)                        Goat cheese   \n",
       "2959125         2964354    Ді (округ)                         Wirksworth   \n",
       "2959126         2964355    Ді (округ)                             Cromer   \n",
       "2959127         2964356    Ді (округ)              Barn (disambiguation)   \n",
       "2959128         2964357    Ді (округ)           Subprefectures in France   \n",
       "2959129         2964358    Ді (округ)                               KEEP   \n",
       "2959130         2964359    Ді (округ)              Goat (disambiguation)   \n",
       "2959131         2964360    Ді (округ)                     Cave (company)   \n",
       "\n",
       "         true_label  BN_results  jaccard_score  levenstein_score  concur_score  \n",
       "2959117       False           0          0.009             0.929       0.00108  \n",
       "2959118       False           0          0.009             0.900       0.00174  \n",
       "2959119       False           0          0.009             1.000       0.00158  \n",
       "2959120       False           0          0.009             0.909       0.00053  \n",
       "2959121       False           0          0.009             0.824       0.00104  \n",
       "2959122       False           0          0.008             0.800       0.00100  \n",
       "2959123       False           0          0.008             0.900       0.00000  \n",
       "2959124       False           0          0.008             1.000       0.00051  \n",
       "2959125       False           0          0.008             0.800       0.00000  \n",
       "2959126       False           0          0.008             0.900       0.00005  \n",
       "2959127       False           0          0.008             0.810       0.00014  \n",
       "2959128       False           0          0.008             0.917       0.00030  \n",
       "2959129       False           0          0.007             1.000       0.00012  \n",
       "2959130       False           0          0.007             0.810       0.00007  \n",
       "2959131       False           0          0.007             0.714       0.00006  "
      ]
     },
     "execution_count": 23,
     "metadata": {},
     "output_type": "execute_result"
    }
   ],
   "source": [
    "features_with_concur_scores[features_with_concur_scores['red_link_name']=='Ді (округ)']"
   ]
  },
  {
   "cell_type": "code",
   "execution_count": 24,
   "metadata": {},
   "outputs": [
    {
     "data": {
      "text/plain": [
       "array([[<matplotlib.axes._subplots.AxesSubplot object at 0x7fef9f8e9be0>]],\n",
       "      dtype=object)"
      ]
     },
     "execution_count": 24,
     "metadata": {},
     "output_type": "execute_result"
    },
    {
     "data": {
      "image/png": "[encoded data removed]",
      "text/plain": [
       "<Figure size 432x288 with 1 Axes>"
      ]
     },
     "metadata": {
      "needs_background": "light"
     },
     "output_type": "display_data"
    }
   ],
   "source": [
    "features_with_concur_scores.hist(column='concur_score', bins=50)"
   ]
  },
  {
   "cell_type": "code",
   "execution_count": 36,
   "metadata": {},
   "outputs": [
    {
     "name": "stdout",
     "output_type": "stream",
     "text": [
      "Number of items with bigger then 0.3 score is 415\n",
      "Number of items with bigger then 0.3 score and still TRUE is 8\n"
     ]
    }
   ],
   "source": [
    "score_df = features_with_concur_scores[features_with_concur_scores['concur_score'] > 0.3]\n",
    "print('Number of items with bigger then 0.3 score is', len(score_df))\n",
    "print('Number of items with bigger then 0.3 score and still TRUE is', len(score_df[score_df['true_label'] == True]))"
   ]
  },
  {
   "cell_type": "markdown",
   "metadata": {},
   "source": [
    "## Plot relative true distribution"
   ]
  },
  {
   "cell_type": "code",
   "execution_count": 26,
   "metadata": {},
   "outputs": [],
   "source": [
    "# define number of bins and round its values\n",
    "bins_j = np.linspace(0,1,100).tolist()\n",
    "bins_j = list(map(lambda x: round(x, 2), bins_j))"
   ]
  },
  {
   "cell_type": "code",
   "execution_count": 27,
   "metadata": {},
   "outputs": [],
   "source": [
    "# get number of scores in each bin and indexes of scores in each bin\n",
    "indexes = [[] for _ in range(len(bins_j)-1)]\n",
    "\n",
    "for index in range(features_with_concur_scores.shape[0]):\n",
    "    for b in range(len(bins_j)-1):\n",
    "        score = features_with_concur_scores['concur_score'][index]\n",
    "        if score < bins_j[b+1]:\n",
    "            indexes[b].append(index)\n",
    "            break"
   ]
  },
  {
   "cell_type": "code",
   "execution_count": 28,
   "metadata": {},
   "outputs": [],
   "source": [
    "number_of_scores_in_bin = list(map(lambda x: len(x), indexes))"
   ]
  },
  {
   "cell_type": "code",
   "execution_count": 29,
   "metadata": {},
   "outputs": [
    {
     "data": {
      "image/png": "[encoded data removed]",
      "text/plain": [
       "<Figure size 432x288 with 1 Axes>"
      ]
     },
     "metadata": {
      "needs_background": "light"
     },
     "output_type": "display_data"
    }
   ],
   "source": [
    "# plot Jaccard score on concurrent links distribution\n",
    "plt.bar(bins_j[:-1], number_of_scores_in_bin, width=0.02, align='edge')\n",
    "plt.xlabel('Concurrent Jaccard score')\n",
    "plt.ylabel('Number of candidate pairs')\n",
    "plt.title('Concurrent Jaccard score distribution')\n",
    "plt.show()"
   ]
  },
  {
   "cell_type": "code",
   "execution_count": null,
   "metadata": {},
   "outputs": [],
   "source": []
  },
  {
   "cell_type": "code",
   "execution_count": 30,
   "metadata": {},
   "outputs": [],
   "source": [
    "# get a number of true values in each bin\n",
    "trues_all = []\n",
    "for i in indexes:\n",
    "    trues = list(map(lambda x: features_with_concur_scores['true_label'][x], i))\n",
    "    trues_all.append(trues)\n",
    "\n",
    "truess = list(map(lambda x: x.count(True), trues_all))"
   ]
  },
  {
   "cell_type": "code",
   "execution_count": 31,
   "metadata": {},
   "outputs": [
    {
     "data": {
      "image/png": "[encoded data removed]",
      "text/plain": [
       "<Figure size 432x288 with 1 Axes>"
      ]
     },
     "metadata": {
      "needs_background": "light"
     },
     "output_type": "display_data"
    }
   ],
   "source": [
    "# plot distribution of true values\n",
    "plt.bar(bins_j[1:], truess, width=0.03, align='edge')\n",
    "plt.xlabel('Concurrent Jaccard score')\n",
    "plt.ylabel('Number of candidate pairs')\n",
    "plt.title('Distribution of true values for Concurrent Jaccard score distribution')\n",
    "plt.show()"
   ]
  },
  {
   "cell_type": "code",
   "execution_count": 32,
   "metadata": {},
   "outputs": [
    {
     "name": "stderr",
     "output_type": "stream",
     "text": [
      "/home/andrii/apps/anaconda3/lib/python3.6/site-packages/ipykernel_launcher.py:1: RuntimeWarning: invalid value encountered in true_divide\n",
      "  \"\"\"Entry point for launching an IPython kernel.\n"
     ]
    },
    {
     "data": {
      "image/png": "[encoded data removed]",
      "text/plain": [
       "<Figure size 432x288 with 1 Axes>"
      ]
     },
     "metadata": {
      "needs_background": "light"
     },
     "output_type": "display_data"
    }
   ],
   "source": [
    "plt.bar(bins_j[:-1], np.array(truess) / np.array(number_of_scores_in_bin), width=0.02, align='edge')\n",
    "plt.xlabel('Concurrent Jaccard score')\n",
    "plt.ylabel('# of true labels / # of candidate pairs')\n",
    "plt.title('Fraction of true labels for Concurrent Jaccard distribution')\n",
    "plt.show()"
   ]
  },
  {
   "cell_type": "code",
   "execution_count": null,
   "metadata": {},
   "outputs": [],
   "source": []
  }
 ],
 "metadata": {
  "kernelspec": {
   "display_name": "Python 3",
   "language": "python",
   "name": "python3"
  },
  "language_info": {
   "codemirror_mode": {
    "name": "ipython",
    "version": 3
   },
   "file_extension": ".py",
   "mimetype": "text/x-python",
   "name": "python",
   "nbconvert_exporter": "python",
   "pygments_lexer": "ipython3",
   "version": "3.6.7"
  }
 },
 "nbformat": 4,
 "nbformat_minor": 2
}
