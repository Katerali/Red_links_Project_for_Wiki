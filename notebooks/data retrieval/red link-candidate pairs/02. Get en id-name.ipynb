{
 "cells": [
  {
   "cell_type": "code",
   "execution_count": 1,
   "metadata": {},
   "outputs": [],
   "source": [
    "import codecs\n",
    "import csv\n",
    "import time\n",
    "import os\n",
    "import re\n",
    "import gzip\n",
    "import pandas as pd\n",
    "import numpy as np"
   ]
  },
  {
   "cell_type": "code",
   "execution_count": 2,
   "metadata": {},
   "outputs": [],
   "source": [
    "PATH_TO_DATA = '/media/andrii/earth/Katia/CS_MasterThesis/data/enwiki/en_parsed/'\n",
    "data_time = '20180920'"
   ]
  },
  {
   "cell_type": "code",
   "execution_count": 3,
   "metadata": {},
   "outputs": [],
   "source": [
    "ENWIKI_ART_FNMS = []\n",
    "for file in os.listdir(PATH_TO_DATA):\n",
    "    if file.endswith(\"art.csv.gz\"):\n",
    "        ENWIKI_ART_FNMS.append(file)\n",
    "ENWIKI_RED_FNMS = []\n",
    "for file in os.listdir(PATH_TO_DATA):\n",
    "    if file.endswith(\"red.csv.gz\"):\n",
    "        ENWIKI_RED_FNMS.append(file)     "
   ]
  },
  {
   "cell_type": "code",
   "execution_count": 4,
   "metadata": {},
   "outputs": [
    {
     "data": {
      "text/plain": [
       "55"
      ]
     },
     "execution_count": 4,
     "metadata": {},
     "output_type": "execute_result"
    }
   ],
   "source": [
    "len(ENWIKI_ART_FNMS)"
   ]
  },
  {
   "cell_type": "code",
   "execution_count": 6,
   "metadata": {},
   "outputs": [],
   "source": [
    "def unpack(file_name):\n",
    "    file_name_new = file_name.replace(\".gz\",\"\")\n",
    "    with gzip.open(file_name, 'rb') as f_in, open(file_name_new, 'wb') as f_out:\n",
    "        f_out.writelines(f_in)\n",
    "    return file_name_new"
   ]
  },
  {
   "cell_type": "code",
   "execution_count": 7,
   "metadata": {},
   "outputs": [],
   "source": [
    "def pack_and_remove(file_name):\n",
    "    file_name_new = file_name+'.gz'\n",
    "    with open(file_name, 'rb') as f_in, gzip.open(file_name_new, 'wb') as f_out:\n",
    "        f_out.writelines(f_in)\n",
    "    os.remove(file_name)\n",
    "    return file_name_new"
   ]
  },
  {
   "cell_type": "code",
   "execution_count": 8,
   "metadata": {},
   "outputs": [
    {
     "name": "stdout",
     "output_type": "stream",
     "text": [
      "/media/andrii/earth/Katia/CS_MasterThesis/data/enwiki/en_parsed/enwiki-20180920-pages-meta-current14.xml-p6197598p7697598.bz2_art.csv.gz\n",
      "df_en_id_name size: (157412, 3)\n",
      "/media/andrii/earth/Katia/CS_MasterThesis/data/enwiki/en_parsed/enwiki-20180920-pages-meta-current27.xml-p54663462p56163462.bz2_art.csv.gz\n",
      "df_en_id_name size: (260290, 3)\n",
      "/media/andrii/earth/Katia/CS_MasterThesis/data/enwiki/en_parsed/enwiki-20180920-pages-meta-current27.xml-p53163462p54663462.bz2_art.csv.gz\n",
      "df_en_id_name size: (380560, 3)\n",
      "/media/andrii/earth/Katia/CS_MasterThesis/data/enwiki/en_parsed/enwiki-20180920-pages-meta-current15.xml-p7744803p9244803.bz2_art.csv.gz\n",
      "df_en_id_name size: (521020, 3)\n",
      "/media/andrii/earth/Katia/CS_MasterThesis/data/enwiki/en_parsed/enwiki-20180920-pages-meta-current25.xml-p35452816p36952816.bz2_art.csv.gz\n",
      "df_en_id_name size: (672146, 3)\n",
      "/media/andrii/earth/Katia/CS_MasterThesis/data/enwiki/en_parsed/enwiki-20180920-pages-meta-current17.xml-p11539268p13039268.bz2_art.csv.gz\n",
      "df_en_id_name size: (844652, 3)\n",
      "/media/andrii/earth/Katia/CS_MasterThesis/data/enwiki/en_parsed/enwiki-20180920-pages-meta-current27.xml-p48663462p50163462.bz2_art.csv.gz\n",
      "df_en_id_name size: (953980, 3)\n",
      "/media/andrii/earth/Katia/CS_MasterThesis/data/enwiki/en_parsed/enwiki-20180920-pages-meta-current15.xml-p9244803p9518048.bz2_art.csv.gz\n",
      "df_en_id_name size: (978290, 3)\n",
      "/media/andrii/earth/Katia/CS_MasterThesis/data/enwiki/en_parsed/enwiki-20180920-pages-meta-current18.xml-p15193074p16120542.bz2_art.csv.gz\n",
      "df_en_id_name size: (1076070, 3)\n",
      "/media/andrii/earth/Katia/CS_MasterThesis/data/enwiki/en_parsed/enwiki-20180920-pages-meta-current27.xml-p45663462p47163462.bz2_art.csv.gz\n",
      "df_en_id_name size: (1166654, 3)\n",
      "/media/andrii/earth/Katia/CS_MasterThesis/data/enwiki/en_parsed/enwiki-20180920-pages-meta-current26.xml-p42567203p42663461.bz2_art.csv.gz\n",
      "df_en_id_name size: (1175055, 3)\n",
      "/media/andrii/earth/Katia/CS_MasterThesis/data/enwiki/en_parsed/enwiki-20180920-pages-meta-current24.xml-p32003451p33503451.bz2_art.csv.gz\n",
      "df_en_id_name size: (1304724, 3)\n",
      "/media/andrii/earth/Katia/CS_MasterThesis/data/enwiki/en_parsed/enwiki-20180920-pages-meta-current14.xml-p7697598p7744799.bz2_art.csv.gz\n",
      "df_en_id_name size: (1309275, 3)\n",
      "/media/andrii/earth/Katia/CS_MasterThesis/data/enwiki/en_parsed/enwiki-20180920-pages-meta-current27.xml-p57663462p58534506.bz2_art.csv.gz\n",
      "df_en_id_name size: (1369185, 3)\n",
      "/media/andrii/earth/Katia/CS_MasterThesis/data/enwiki/en_parsed/enwiki-20180920-pages-meta-current19.xml-p17620543p18754735.bz2_art.csv.gz\n",
      "df_en_id_name size: (1476699, 3)\n",
      "/media/andrii/earth/Katia/CS_MasterThesis/data/enwiki/en_parsed/enwiki-20180920-pages-meta-current27.xml-p51663462p53163462.bz2_art.csv.gz\n",
      "df_en_id_name size: (1588500, 3)\n",
      "/media/andrii/earth/Katia/CS_MasterThesis/data/enwiki/en_parsed/enwiki-20180920-pages-meta-current8.xml-p1268692p1791079.bz2_art.csv.gz\n",
      "df_en_id_name size: (1693533, 3)\n",
      "/media/andrii/earth/Katia/CS_MasterThesis/data/enwiki/en_parsed/enwiki-20180920-pages-meta-current23.xml-p29823661p30503449.bz2_art.csv.gz\n",
      "df_en_id_name size: (1739215, 3)\n",
      "/media/andrii/earth/Katia/CS_MasterThesis/data/enwiki/en_parsed/enwiki-20180920-pages-meta-current6.xml-p565314p892912.bz2_art.csv.gz\n",
      "df_en_id_name size: (1817384, 3)\n",
      "/media/andrii/earth/Katia/CS_MasterThesis/data/enwiki/en_parsed/enwiki-20180920-pages-meta-current5.xml-p352690p565313.bz2_art.csv.gz\n",
      "df_en_id_name size: (1882343, 3)\n",
      "/media/andrii/earth/Katia/CS_MasterThesis/data/enwiki/en_parsed/enwiki-20180920-pages-meta-current3.xml-p88445p200507.bz2_art.csv.gz\n",
      "df_en_id_name size: (1947869, 3)\n",
      "/media/andrii/earth/Katia/CS_MasterThesis/data/enwiki/en_parsed/enwiki-20180920-pages-meta-current22.xml-p23927984p25427984.bz2_art.csv.gz\n",
      "df_en_id_name size: (2091612, 3)\n",
      "/media/andrii/earth/Katia/CS_MasterThesis/data/enwiki/en_parsed/enwiki-20180920-pages-meta-current24.xml-p30503451p32003451.bz2_art.csv.gz\n",
      "df_en_id_name size: (2223527, 3)\n",
      "/media/andrii/earth/Katia/CS_MasterThesis/data/enwiki/en_parsed/enwiki-20180920-pages-meta-current26.xml-p41067203p42567203.bz2_art.csv.gz\n",
      "df_en_id_name size: (2364365, 3)\n",
      "/media/andrii/earth/Katia/CS_MasterThesis/data/enwiki/en_parsed/enwiki-20180920-pages-meta-current16.xml-p11018050p11539266.bz2_art.csv.gz\n",
      "df_en_id_name size: (2410706, 3)\n",
      "/media/andrii/earth/Katia/CS_MasterThesis/data/enwiki/en_parsed/enwiki-20180920-pages-meta-current7.xml-p892914p1268691.bz2_art.csv.gz\n",
      "df_en_id_name size: (2501499, 3)\n",
      "/media/andrii/earth/Katia/CS_MasterThesis/data/enwiki/en_parsed/enwiki-20180920-pages-meta-current18.xml-p13693074p15193074.bz2_art.csv.gz\n",
      "df_en_id_name size: (2637035, 3)\n",
      "/media/andrii/earth/Katia/CS_MasterThesis/data/enwiki/en_parsed/enwiki-20180920-pages-meta-current21.xml-p22722158p23927983.bz2_art.csv.gz\n",
      "df_en_id_name size: (2755696, 3)\n",
      "/media/andrii/earth/Katia/CS_MasterThesis/data/enwiki/en_parsed/enwiki-20180920-pages-meta-current10.xml-p2336425p3046511.bz2_art.csv.gz\n",
      "df_en_id_name size: (2878731, 3)\n",
      "/media/andrii/earth/Katia/CS_MasterThesis/data/enwiki/en_parsed/enwiki-20180920-pages-meta-current22.xml-p25427984p26823660.bz2_art.csv.gz\n",
      "df_en_id_name size: (3001580, 3)\n",
      "/media/andrii/earth/Katia/CS_MasterThesis/data/enwiki/en_parsed/enwiki-20180920-pages-meta-current11.xml-p3046514p3926861.bz2_art.csv.gz\n",
      "df_en_id_name size: (3134696, 3)\n",
      "/media/andrii/earth/Katia/CS_MasterThesis/data/enwiki/en_parsed/enwiki-20180920-pages-meta-current17.xml-p13039268p13693071.bz2_art.csv.gz\n",
      "df_en_id_name size: (3197300, 3)\n",
      "/media/andrii/earth/Katia/CS_MasterThesis/data/enwiki/en_parsed/enwiki-20180920-pages-meta-current27.xml-p56163462p57663462.bz2_art.csv.gz\n",
      "df_en_id_name size: (3330361, 3)\n",
      "/media/andrii/earth/Katia/CS_MasterThesis/data/enwiki/en_parsed/enwiki-20180920-pages-meta-current24.xml-p33503451p33952815.bz2_art.csv.gz\n",
      "df_en_id_name size: (3369717, 3)\n",
      "/media/andrii/earth/Katia/CS_MasterThesis/data/enwiki/en_parsed/enwiki-20180920-pages-meta-current27.xml-p42663462p44163462.bz2_art.csv.gz\n",
      "df_en_id_name size: (3509613, 3)\n",
      "/media/andrii/earth/Katia/CS_MasterThesis/data/enwiki/en_parsed/enwiki-20180920-pages-meta-current20.xml-p18754736p20254736.bz2_art.csv.gz\n",
      "df_en_id_name size: (3653421, 3)\n",
      "/media/andrii/earth/Katia/CS_MasterThesis/data/enwiki/en_parsed/enwiki-20180920-pages-meta-current16.xml-p9518050p11018050.bz2_art.csv.gz\n",
      "df_en_id_name size: (3772646, 3)\n",
      "/media/andrii/earth/Katia/CS_MasterThesis/data/enwiki/en_parsed/enwiki-20180920-pages-meta-current27.xml-p47163462p48663462.bz2_art.csv.gz\n",
      "df_en_id_name size: (3888068, 3)\n",
      "/media/andrii/earth/Katia/CS_MasterThesis/data/enwiki/en_parsed/enwiki-20180920-pages-meta-current19.xml-p16120543p17620543.bz2_art.csv.gz\n",
      "df_en_id_name size: (4000279, 3)\n",
      "/media/andrii/earth/Katia/CS_MasterThesis/data/enwiki/en_parsed/enwiki-20180920-pages-meta-current4.xml-p200511p352689.bz2_art.csv.gz\n",
      "df_en_id_name size: (4049384, 3)\n",
      "/media/andrii/earth/Katia/CS_MasterThesis/data/enwiki/en_parsed/enwiki-20180920-pages-meta-current23.xml-p26823661p28323661.bz2_art.csv.gz\n",
      "df_en_id_name size: (4188322, 3)\n",
      "/media/andrii/earth/Katia/CS_MasterThesis/data/enwiki/en_parsed/enwiki-20180920-pages-meta-current27.xml-p44163462p45663462.bz2_art.csv.gz\n",
      "df_en_id_name size: (4311569, 3)\n",
      "/media/andrii/earth/Katia/CS_MasterThesis/data/enwiki/en_parsed/enwiki-20180920-pages-meta-current26.xml-p38067203p39567203.bz2_art.csv.gz\n",
      "df_en_id_name size: (4443055, 3)\n",
      "/media/andrii/earth/Katia/CS_MasterThesis/data/enwiki/en_parsed/enwiki-20180920-pages-meta-current25.xml-p36952816p38067202.bz2_art.csv.gz\n",
      "df_en_id_name size: (4538676, 3)\n",
      "/media/andrii/earth/Katia/CS_MasterThesis/data/enwiki/en_parsed/enwiki-20180920-pages-meta-current12.xml-p3926863p5040436.bz2_art.csv.gz\n",
      "df_en_id_name size: (4683930, 3)\n",
      "/media/andrii/earth/Katia/CS_MasterThesis/data/enwiki/en_parsed/enwiki-20180920-pages-meta-current9.xml-p1791080p2336422.bz2_art.csv.gz\n",
      "df_en_id_name size: (4790686, 3)\n",
      "/media/andrii/earth/Katia/CS_MasterThesis/data/enwiki/en_parsed/enwiki-20180920-pages-meta-current2.xml-p30304p88444.bz2_art.csv.gz\n",
      "df_en_id_name size: (4817519, 3)\n",
      "/media/andrii/earth/Katia/CS_MasterThesis/data/enwiki/en_parsed/enwiki-20180920-pages-meta-current13.xml-p5040438p6197594.bz2_art.csv.gz\n",
      "df_en_id_name size: (4965253, 3)\n",
      "/media/andrii/earth/Katia/CS_MasterThesis/data/enwiki/en_parsed/enwiki-20180920-pages-meta-current1.xml-p10p30303.bz2_art.csv.gz\n"
     ]
    },
    {
     "name": "stdout",
     "output_type": "stream",
     "text": [
      "df_en_id_name size: (4980294, 3)\n",
      "/media/andrii/earth/Katia/CS_MasterThesis/data/enwiki/en_parsed/enwiki-20180920-pages-meta-current20.xml-p20254736p21222156.bz2_art.csv.gz\n",
      "df_en_id_name size: (5066250, 3)\n",
      "/media/andrii/earth/Katia/CS_MasterThesis/data/enwiki/en_parsed/enwiki-20180920-pages-meta-current21.xml-p21222158p22722158.bz2_art.csv.gz\n",
      "df_en_id_name size: (5221305, 3)\n",
      "/media/andrii/earth/Katia/CS_MasterThesis/data/enwiki/en_parsed/enwiki-20180920-pages-meta-current26.xml-p39567203p41067203.bz2_art.csv.gz\n",
      "df_en_id_name size: (5361932, 3)\n",
      "/media/andrii/earth/Katia/CS_MasterThesis/data/enwiki/en_parsed/enwiki-20180920-pages-meta-current27.xml-p50163462p51663462.bz2_art.csv.gz\n",
      "df_en_id_name size: (5483776, 3)\n",
      "/media/andrii/earth/Katia/CS_MasterThesis/data/enwiki/en_parsed/enwiki-20180920-pages-meta-current25.xml-p33952816p35452816.bz2_art.csv.gz\n",
      "df_en_id_name size: (5597214, 3)\n",
      "/media/andrii/earth/Katia/CS_MasterThesis/data/enwiki/en_parsed/enwiki-20180920-pages-meta-current23.xml-p28323661p29823661.bz2_art.csv.gz\n",
      "df_en_id_name size: (5719743, 3)\n"
     ]
    }
   ],
   "source": [
    "df_en_id_name = None\n",
    "for fn in ENWIKI_ART_FNMS:\n",
    "    fn = PATH_TO_DATA+fn\n",
    "    print(fn)\n",
    "    fn_new = unpack(fn)\n",
    "    df_articles = pd.read_csv(fn_new, encoding='ISO-8859-1', quotechar=\"\\\"\")\n",
    "    df_en_id_name_tmp = df_articles[['id', 'title', 'text_len']].drop_duplicates()\n",
    "    df_en_id_name_tmp.columns = ['id', 'title', 'length']\n",
    "    #print(\"df_id_name_tmp size: {}\".format(df_id_name_tmp.shape))\n",
    "    if df_en_id_name is not None:\n",
    "        df_en_id_name = df_en_id_name.append(df_en_id_name_tmp)        \n",
    "        #print(\"append\")\n",
    "    else:\n",
    "        df_en_id_name = df_en_id_name_tmp\n",
    "        #print(\"assign\")\n",
    "    print(\"df_en_id_name size: {}\".format(df_en_id_name.shape))\n",
    "    os.remove(fn_new)"
   ]
  },
  {
   "cell_type": "code",
   "execution_count": 9,
   "metadata": {},
   "outputs": [],
   "source": [
    "df_en_id_name = df_en_id_name.drop_duplicates()"
   ]
  },
  {
   "cell_type": "code",
   "execution_count": 10,
   "metadata": {},
   "outputs": [
    {
     "data": {
      "text/html": [
       "<div>\n",
       "<style scoped>\n",
       "    .dataframe tbody tr th:only-of-type {\n",
       "        vertical-align: middle;\n",
       "    }\n",
       "\n",
       "    .dataframe tbody tr th {\n",
       "        vertical-align: top;\n",
       "    }\n",
       "\n",
       "    .dataframe thead th {\n",
       "        text-align: right;\n",
       "    }\n",
       "</style>\n",
       "<table border=\"1\" class=\"dataframe\">\n",
       "  <thead>\n",
       "    <tr style=\"text-align: right;\">\n",
       "      <th></th>\n",
       "      <th>id</th>\n",
       "      <th>title</th>\n",
       "    </tr>\n",
       "  </thead>\n",
       "  <tbody>\n",
       "    <tr>\n",
       "      <th>0</th>\n",
       "      <td>6197600</td>\n",
       "      <td>Flying Tigers (film)</td>\n",
       "    </tr>\n",
       "    <tr>\n",
       "      <th>60</th>\n",
       "      <td>6197604</td>\n",
       "      <td>Mariano Andreu</td>\n",
       "    </tr>\n",
       "    <tr>\n",
       "      <th>82</th>\n",
       "      <td>6197607</td>\n",
       "      <td>David Prain</td>\n",
       "    </tr>\n",
       "    <tr>\n",
       "      <th>111</th>\n",
       "      <td>6197617</td>\n",
       "      <td>Rut Brandt</td>\n",
       "    </tr>\n",
       "    <tr>\n",
       "      <th>115</th>\n",
       "      <td>6197621</td>\n",
       "      <td>Gregory C. Coleman</td>\n",
       "    </tr>\n",
       "  </tbody>\n",
       "</table>\n",
       "</div>"
      ],
      "text/plain": [
       "          id                 title\n",
       "0    6197600  Flying Tigers (film)\n",
       "60   6197604        Mariano Andreu\n",
       "82   6197607           David Prain\n",
       "111  6197617            Rut Brandt\n",
       "115  6197621    Gregory C. Coleman"
      ]
     },
     "execution_count": 10,
     "metadata": {},
     "output_type": "execute_result"
    }
   ],
   "source": [
    "df_en_id_name = df_en_id_name[['id', 'title']]\n",
    "df_en_id_name.head()"
   ]
  },
  {
   "cell_type": "code",
   "execution_count": 12,
   "metadata": {},
   "outputs": [],
   "source": [
    "f = lambda x: str(x).encode('ISO-8859-1')\n",
    "df_en_id_name = df_en_id_name.applymap(f)"
   ]
  },
  {
   "cell_type": "code",
   "execution_count": 13,
   "metadata": {},
   "outputs": [],
   "source": [
    "f_decode = lambda x: x.decode('utf8')\n",
    "df_en_id_name = df_en_id_name.applymap(f_decode)"
   ]
  },
  {
   "cell_type": "code",
   "execution_count": 14,
   "metadata": {},
   "outputs": [],
   "source": [
    "df_en_id_name.to_csv(PATH_TO_DATA+'enwiki-' + data_time + '-id_name.csv', index = False, encoding='utf8', sep ='^')"
   ]
  },
  {
   "cell_type": "code",
   "execution_count": 15,
   "metadata": {},
   "outputs": [],
   "source": [
    "df_en_id_name_read = pd.read_csv(PATH_TO_DATA+'enwiki-' + data_time + '-id_name.csv', encoding='utf8', sep ='^')"
   ]
  },
  {
   "cell_type": "code",
   "execution_count": 17,
   "metadata": {},
   "outputs": [
    {
     "data": {
      "text/html": [
       "<div>\n",
       "<style scoped>\n",
       "    .dataframe tbody tr th:only-of-type {\n",
       "        vertical-align: middle;\n",
       "    }\n",
       "\n",
       "    .dataframe tbody tr th {\n",
       "        vertical-align: top;\n",
       "    }\n",
       "\n",
       "    .dataframe thead th {\n",
       "        text-align: right;\n",
       "    }\n",
       "</style>\n",
       "<table border=\"1\" class=\"dataframe\">\n",
       "  <thead>\n",
       "    <tr style=\"text-align: right;\">\n",
       "      <th></th>\n",
       "      <th>id</th>\n",
       "      <th>title</th>\n",
       "    </tr>\n",
       "  </thead>\n",
       "  <tbody>\n",
       "    <tr>\n",
       "      <th>0</th>\n",
       "      <td>6197600</td>\n",
       "      <td>Flying Tigers (film)</td>\n",
       "    </tr>\n",
       "    <tr>\n",
       "      <th>1</th>\n",
       "      <td>6197604</td>\n",
       "      <td>Mariano Andreu</td>\n",
       "    </tr>\n",
       "    <tr>\n",
       "      <th>2</th>\n",
       "      <td>6197607</td>\n",
       "      <td>David Prain</td>\n",
       "    </tr>\n",
       "    <tr>\n",
       "      <th>3</th>\n",
       "      <td>6197617</td>\n",
       "      <td>Rut Brandt</td>\n",
       "    </tr>\n",
       "    <tr>\n",
       "      <th>4</th>\n",
       "      <td>6197621</td>\n",
       "      <td>Gregory C. Coleman</td>\n",
       "    </tr>\n",
       "  </tbody>\n",
       "</table>\n",
       "</div>"
      ],
      "text/plain": [
       "        id                 title\n",
       "0  6197600  Flying Tigers (film)\n",
       "1  6197604        Mariano Andreu\n",
       "2  6197607           David Prain\n",
       "3  6197617            Rut Brandt\n",
       "4  6197621    Gregory C. Coleman"
      ]
     },
     "execution_count": 17,
     "metadata": {},
     "output_type": "execute_result"
    }
   ],
   "source": [
    "df_en_id_name_read.head()"
   ]
  },
  {
   "cell_type": "code",
   "execution_count": null,
   "metadata": {},
   "outputs": [],
   "source": []
  }
 ],
 "metadata": {
  "kernelspec": {
   "display_name": "Python 3",
   "language": "python",
   "name": "python3"
  },
  "language_info": {
   "codemirror_mode": {
    "name": "ipython",
    "version": 3
   },
   "file_extension": ".py",
   "mimetype": "text/x-python",
   "name": "python",
   "nbconvert_exporter": "python",
   "pygments_lexer": "ipython3",
   "version": "3.6.9"
  }
 },
 "nbformat": 4,
 "nbformat_minor": 2
}
