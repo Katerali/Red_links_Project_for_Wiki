{
 "cells": [
  {
   "cell_type": "code",
   "execution_count": null,
   "metadata": {},
   "outputs": [],
   "source": [
    "import pandas as pd\n",
    "import pickle\n",
    "import os\n",
    "import re\n",
    "\n",
    "from functools import reduce"
   ]
  },
  {
   "cell_type": "code",
   "execution_count": null,
   "metadata": {},
   "outputs": [],
   "source": [
    "import sys\n",
    "sys.path.insert(0, '/media/andrii/earth/Katia/CS_MasterThesis/Red_links_Project_for_Wiki_draft/py')\n",
    "import utils"
   ]
  },
  {
   "cell_type": "code",
   "execution_count": null,
   "metadata": {},
   "outputs": [],
   "source": [
    "PATH_TO_DATA = '/media/andrii/earth/Katia/CS_MasterThesis/data/ukwiki/'"
   ]
  },
  {
   "cell_type": "code",
   "execution_count": null,
   "metadata": {},
   "outputs": [],
   "source": [
    "# get all the candidates with true lable\n",
    "df_with_all_candidates = pd.read_csv(PATH_TO_DATA+'ukredlinks_with_all_candidates&true_label', sep='^')"
   ]
  },
  {
   "cell_type": "code",
   "execution_count": null,
   "metadata": {},
   "outputs": [],
   "source": [
    "df_with_all_candidates.head()"
   ]
  },
  {
   "cell_type": "markdown",
   "metadata": {},
   "source": [
    "# 1. BabelNet results"
   ]
  },
  {
   "cell_type": "code",
   "execution_count": null,
   "metadata": {},
   "outputs": [],
   "source": [
    "BN_results = pd.read_csv(PATH_TO_DATA+'BN_ukredlinks_wiki_evaluated.csv', encoding = 'UTF-8')"
   ]
  },
  {
   "cell_type": "code",
   "execution_count": null,
   "metadata": {},
   "outputs": [],
   "source": [
    "BN_results.head()"
   ]
  },
  {
   "cell_type": "code",
   "execution_count": null,
   "metadata": {},
   "outputs": [],
   "source": [
    "df_with_BN = pd.merge(df_with_all_candidates, BN_results, how='left', left_on='red_link', right_on='red link name')\n",
    "df_with_BN.shape"
   ]
  },
  {
   "cell_type": "code",
   "execution_count": null,
   "metadata": {},
   "outputs": [],
   "source": [
    "df_with_BN.columns\n",
    "df_with_BN = df_with_BN[['red_link','candidate', 'true_label', 'EN BN']]\n",
    "\n",
    "# strip all string values in a dataframe\n",
    "df_with_BN_obj = df_with_BN.select_dtypes(['object'])\n",
    "df_with_BN[df_with_BN_obj.columns] = df_with_BN_obj.apply(lambda x: x.str.strip())\n",
    "\n",
    "bn_results = []\n",
    "for index, row in df_with_BN.iterrows():\n",
    "    bn_result = row['candidate'] == row['EN BN']\n",
    "    bn_results.append(bn_result)\n",
    "BN_df = pd.DataFrame(bn_results)\n",
    "\n",
    "with_BN_df = pd.concat([df_with_BN, BN_df], axis=1)\n",
    "with_BN_df.columns = ['red_link_name', 'candidate', 'true_label', 'EN BN', 'BN_results']\n",
    "with_BN_df = with_BN_df[['red_link_name', 'candidate', 'true_label', 'BN_results']]\n",
    "\n",
    "with_BN_df['BN_results'] = with_BN_df['BN_results'].replace({False: '0'})\n",
    "with_BN_df['BN_results'] = with_BN_df['BN_results'].replace({True: '1'})\n",
    "\n",
    "with_BN_df = with_BN_df.reset_index(level=0, drop=True)\n",
    "print(with_BN_df.shape)\n",
    "with_BN_df.head()"
   ]
  },
  {
   "cell_type": "markdown",
   "metadata": {},
   "source": [
    "# 2. Jaccard similarity on incoming links"
   ]
  },
  {
   "cell_type": "code",
   "execution_count": null,
   "metadata": {},
   "outputs": [],
   "source": [
    "# get all the candidates with true lable\n",
    "df_with_all_candidates = pd.read_csv(PATH_TO_DATA+'ukredlinks_with_all_candidates&true_label.csv', sep='^')\n",
    "df_with_all_candidates.head()"
   ]
  },
  {
   "cell_type": "code",
   "execution_count": null,
   "metadata": {},
   "outputs": [],
   "source": [
    "candidates = pd.read_csv(PATH_TO_DATA+'uk_red_links_results_all_candidates.csv', sep='^')\n",
    "candidates.head()"
   ]
  },
  {
   "cell_type": "code",
   "execution_count": null,
   "metadata": {},
   "outputs": [],
   "source": [
    "all_results_scores = {}\n",
    "all_results_list = [[]] * candidates.shape[0]\n",
    "\n",
    "for i in range(candidates.shape[0]):\n",
    "    if candidates['en_similar'][i] == '[]':\n",
    "        all_results_scores[candidates['red_link_name'][i]] = []\n",
    "        all_results_list[i] = []\n",
    "    else:\n",
    "        res = utils.extract_score(candidates['en_similar'][i])\n",
    "        all_results_scores[candidates['red_link_name'][i]] = res\n",
    "        all_results_list[i] = res\n",
    "\n",
    "df = pd.DataFrame.from_dict(all_results_scores, orient = 'index')\n",
    "\n",
    "rl_with_score = df.stack().reset_index(level=0, drop=True).to_frame(name='jaccard_score')\n",
    "rl_with_score = rl_with_score.reset_index(level=0, drop=True)\n",
    "df = pd.concat([with_BN_df, rl_with_score], axis=1)\n",
    "df.head()"
   ]
  },
  {
   "cell_type": "markdown",
   "metadata": {},
   "source": [
    "# 3. Jaccard scores on concurrent links "
   ]
  },
  {
   "cell_type": "markdown",
   "metadata": {},
   "source": [
    "## 3.1. get scores on concurrent links for uk red links"
   ]
  },
  {
   "cell_type": "markdown",
   "metadata": {},
   "source": [
    "## 3.2. get scores on concurrent links for en candidates"
   ]
  },
  {
   "cell_type": "markdown",
   "metadata": {},
   "source": [
    "## 3.3. calculate scores and save to file"
   ]
  },
  {
   "cell_type": "code",
   "execution_count": null,
   "metadata": {},
   "outputs": [],
   "source": [
    "candidate_pairs = pd.read_csv(PATH_TO_DATA_UK+'red_links_uk_with_features_with_uniqueid.csv', sep='^')"
   ]
  },
  {
   "cell_type": "code",
   "execution_count": null,
   "metadata": {},
   "outputs": [],
   "source": [
    "concur_folders = [f for f in os.listdir(PATH_TO_DATA_UK) if re.match(r'concurrent_scores', f)]"
   ]
  },
  {
   "cell_type": "code",
   "execution_count": null,
   "metadata": {},
   "outputs": [],
   "source": [
    "concurrent_scores_1_df = utils.files_to_df(PATH_TO_DATA_UK+'concurrent_scores/')\n",
    "concurrent_scores_2_df = utils.files_to_df(PATH_TO_DATA_UK+'concurrent_scores_2/')\n",
    "concurrent_scores_3_df = utils.files_to_df(PATH_TO_DATA_UK+'concurrent_scores_3/')\n",
    "concurrent_scores_4_df = utils.files_to_df(PATH_TO_DATA_UK+'concurrent_scores_4/')\n",
    "\n",
    "dfs = [concurrent_scores_1_df, concurrent_scores_2_df, concurrent_scores_3_df, concurrent_scores_4_df]\n",
    "\n",
    "concurrent_scores = pd.concat(dfs)\n",
    "concurrent_scores = concurrent_scores.drop_duplicates().reset_index(drop=True)\n",
    "concurrent_scores = concurrent_scores.sort_values(by=['pair_id'])\n",
    "print(concurrent_scores.shape)\n",
    "concurrent_scores.head()"
   ]
  },
  {
   "cell_type": "code",
   "execution_count": null,
   "metadata": {},
   "outputs": [],
   "source": [
    "features_with_concur_scores =\\\n",
    "    pd.merge(candidate_pairs, concurrent_scores, how='right', left_on=['pair_unique_id'], right_on=['pair_id'])\n",
    "\n",
    "features_with_concur_scores =\\\n",
    "    features_with_concur_scores[['pair_unique_id', 'red_link_name', 'candidate', 'true_label', 'BN_results',\\\n",
    "                                'jaccard_score', 'levenstein_score', 'concur_score']]\n",
    "\n",
    "features_with_concur_scores.head()"
   ]
  },
  {
   "cell_type": "code",
   "execution_count": null,
   "metadata": {},
   "outputs": [],
   "source": [
    "features_with_concur_scores.to_csv(PATH_TO_DATA_UK+'red_links_uk_with_3features.csv', sep=\"^\", header=True, index=False)"
   ]
  },
  {
   "cell_type": "markdown",
   "metadata": {},
   "source": [
    "# 4. Levenshtein edit distance scores on titles"
   ]
  },
  {
   "cell_type": "code",
   "execution_count": null,
   "metadata": {},
   "outputs": [],
   "source": [
    "df['levenstein_score'] = df.apply(utils.calculate_norm_levenstein_df, axis=1)\n",
    "df.to_csv(PATH_TO_DATA+'red_links_uk_with_3features.csv', header=True, index=False)\n",
    "df.head()"
   ]
  }
 ],
 "metadata": {
  "kernelspec": {
   "display_name": "Python 3",
   "language": "python",
   "name": "python3"
  },
  "language_info": {
   "codemirror_mode": {
    "name": "ipython",
    "version": 3
   },
   "file_extension": ".py",
   "mimetype": "text/x-python",
   "name": "python",
   "nbconvert_exporter": "python",
   "pygments_lexer": "ipython3",
   "version": "3.6.9"
  }
 },
 "nbformat": 4,
 "nbformat_minor": 2
}
