{
 "cells": [
  {
   "cell_type": "code",
   "execution_count": 7,
   "metadata": {},
   "outputs": [],
   "source": [
    "import os\n",
    "import pandas as pd\n",
    "import re"
   ]
  },
  {
   "cell_type": "code",
   "execution_count": 4,
   "metadata": {},
   "outputs": [],
   "source": [
    "PATH_WIKI = '/media/andrii/earth/Katia/CS_MasterThesis/data/ukwiki/'\n",
    "data_time = '20180920'"
   ]
  },
  {
   "cell_type": "markdown",
   "metadata": {},
   "source": [
    "## Get all article names"
   ]
  },
  {
   "cell_type": "code",
   "execution_count": 8,
   "metadata": {},
   "outputs": [
    {
     "name": "stdout",
     "output_type": "stream",
     "text": [
      "UKWIKI_ART_FNMS: ['ukwiki-20180920-pages-meta-current.xml_art.csv']\n"
     ]
    }
   ],
   "source": [
    "UKWIKI_ART_FNMS = []\n",
    "for file in os.listdir(PATH_WIKI):\n",
    "    if re.match(r\"ukwiki-\" + data_time + \"-pages-meta-current.xml_art.csv\", file):\n",
    "        UKWIKI_ART_FNMS.append(file)\n",
    "print('UKWIKI_ART_FNMS:', UKWIKI_ART_FNMS)"
   ]
  },
  {
   "cell_type": "code",
   "execution_count": 9,
   "metadata": {},
   "outputs": [
    {
     "name": "stdout",
     "output_type": "stream",
     "text": [
      "/media/andrii/earth/Katia/CS_MasterThesis/data/ukwiki/ukwiki-20180920-pages-meta-current.xml_art.csv\n",
      "     id             title  text_len  link_pos            link_val  \\\n",
      "0     3  Головна сторінка      3197         0                 NaN   \n",
      "1    13         Географія     16843      1228  Об'єкт (філософія)   \n",
      "2    13         Географія     16843      1533           Ератосфен   \n",
      "3    13         Географія     16843      1599             географ   \n",
      "4    13         Географія     16843      1611    Клавдій Птолемей   \n",
      "..  ...               ...       ...       ...                 ...   \n",
      "95  584              Атом     35112      3645              протон   \n",
      "96  584              Атом     35112      3659            електрон   \n",
      "97  584              Атом     35112      3678             нейтрон   \n",
      "98  584              Атом     35112      3921  Періодична система   \n",
      "99  584              Атом     35112      4006   електричний заряд   \n",
      "\n",
      "               link_txt  \n",
      "0                   NaN  \n",
      "1                Об'єкт  \n",
      "2                   NaN  \n",
      "3                   NaN  \n",
      "4                   NaN  \n",
      "..                  ...  \n",
      "95                  NaN  \n",
      "96                  NaN  \n",
      "97                  NaN  \n",
      "98  періодичній системі  \n",
      "99                заряд  \n",
      "\n",
      "[100 rows x 6 columns]\n",
      "df_uk_id_name size: (819212, 3)\n"
     ]
    }
   ],
   "source": [
    "df_uk_id_name = None\n",
    "for fn in UKWIKI_ART_FNMS:\n",
    "    fn = PATH_WIKI+fn\n",
    "    print(fn)\n",
    "    df_articles = pd.read_csv(fn, encoding='UTF-8', quotechar=\"\\\"\")\n",
    "    print(df_articles.head(100))\n",
    "    df_id_name_tmp = df_articles[['id', 'title', 'text_len']].drop_duplicates()\n",
    "    df_id_name_tmp.columns = ['id', 'title', 'length']\n",
    "    #print(\"df_id_name_tmp size: {}\".format(df_id_name_tmp.shape))\n",
    "    if df_uk_id_name is not None:\n",
    "        df_uk_id_name = df_uk_id_name.append(df_id_name_tmp)        \n",
    "        #print(\"append\")\n",
    "    else:\n",
    "        df_uk_id_name = df_id_name_tmp\n",
    "        #print(\"assign\")\n",
    "    print(\"df_uk_id_name size: {}\".format(df_uk_id_name.shape))\n",
    "df_uk_id_name = df_uk_id_name.drop_duplicates()"
   ]
  },
  {
   "cell_type": "code",
   "execution_count": 11,
   "metadata": {},
   "outputs": [],
   "source": [
    "df_uk_id_name.to_csv(PATH_WIKI+\"ukwiki-\" + data_time + \"-id_name.csv\", \n",
    "                     index = False, encoding='UTF-8', quotechar=\"\\\"\", sep =\"^\")"
   ]
  },
  {
   "cell_type": "code",
   "execution_count": null,
   "metadata": {
    "collapsed": true
   },
   "outputs": [],
   "source": [
    "# results in a file \"ukwiki-\" + data_time + \"-id_name.csv\""
   ]
  },
  {
   "cell_type": "code",
   "execution_count": null,
   "metadata": {},
   "outputs": [],
   "source": []
  }
 ],
 "metadata": {
  "kernelspec": {
   "display_name": "Python 3",
   "language": "python",
   "name": "python3"
  },
  "language_info": {
   "codemirror_mode": {
    "name": "ipython",
    "version": 3
   },
   "file_extension": ".py",
   "mimetype": "text/x-python",
   "name": "python",
   "nbconvert_exporter": "python",
   "pygments_lexer": "ipython3",
   "version": "3.6.9"
  }
 },
 "nbformat": 4,
 "nbformat_minor": 2
}
