{
 "cells": [
  {
   "cell_type": "code",
   "execution_count": 27,
   "metadata": {},
   "outputs": [],
   "source": [
    "import pandas as pd\n",
    "import os\n",
    "import re\n",
    "import numpy as np"
   ]
  },
  {
   "cell_type": "code",
   "execution_count": 68,
   "metadata": {},
   "outputs": [],
   "source": [
    "import pickle"
   ]
  },
  {
   "cell_type": "code",
   "execution_count": 8,
   "metadata": {},
   "outputs": [],
   "source": [
    "import sys\n",
    "sys.path.insert(0, '/media/andrii/earth/Katia/CS_MasterThesis/Red_links_Project_for_Wiki_draft/py')\n",
    "import functions"
   ]
  },
  {
   "cell_type": "code",
   "execution_count": 97,
   "metadata": {},
   "outputs": [],
   "source": [
    "PATH_TO_DATA_UK = '/media/andrii/earth/Katia/CS_MasterThesis/data/ukwiki/ukwiki_20180920/'\n",
    "PATH_TO_DATA_EN = '/media/andrii/earth/Katia/CS_MasterThesis/data/enwiki/enwiki_20180920/'\n",
    "PATH_TO_DATA_RL = '/media/andrii/earth/Katia/CS_MasterThesis/data/ukwiki/uk_red_links/'\n",
    "PATH_TO_WIKIDATA_UK = '/media/andrii/earth/Katia/CS_MasterThesis/data/ukwiki/uk_wikidata/'\n",
    "PATH_TO_WIKIDATA_EN = '/media/andrii/earth/Katia/CS_MasterThesis/data/enwiki/en_wikidata/'"
   ]
  },
  {
   "cell_type": "markdown",
   "metadata": {},
   "source": [
    "### Get Wikidata-Wikipedia correspondences for Ukrainian pages"
   ]
  },
  {
   "cell_type": "code",
   "execution_count": 79,
   "metadata": {},
   "outputs": [],
   "source": [
    "ukwikidata = pd.read_csv(PATH_TO_WIKIDATA_UK+'ukwikidata.csv')"
   ]
  },
  {
   "cell_type": "code",
   "execution_count": 99,
   "metadata": {},
   "outputs": [],
   "source": [
    "uk_id_name = pd.read_csv(PATH_TO_DATA_UK+'ukwiki-20180920-id_name.csv', sep='^')"
   ]
  },
  {
   "cell_type": "code",
   "execution_count": 101,
   "metadata": {},
   "outputs": [],
   "source": [
    "uk_wikidata_wikipedia = pd.merge(ukwikidata, uk_id_name, how='left', left_on=['ips_site_page'], right_on=['title'])"
   ]
  },
  {
   "cell_type": "code",
   "execution_count": 103,
   "metadata": {},
   "outputs": [],
   "source": [
    "uk_wikidata_wikipedia = uk_wikidata_wikipedia[['ips_item_id', 'title', 'id']]\n",
    "uk_wikidata_wikipedia.columns = ['wikidata_id', 'title', 'uk_wikipedia_id']"
   ]
  },
  {
   "cell_type": "code",
   "execution_count": 104,
   "metadata": {},
   "outputs": [
    {
     "data": {
      "text/html": [
       "<div>\n",
       "<style scoped>\n",
       "    .dataframe tbody tr th:only-of-type {\n",
       "        vertical-align: middle;\n",
       "    }\n",
       "\n",
       "    .dataframe tbody tr th {\n",
       "        vertical-align: top;\n",
       "    }\n",
       "\n",
       "    .dataframe thead th {\n",
       "        text-align: right;\n",
       "    }\n",
       "</style>\n",
       "<table border=\"1\" class=\"dataframe\">\n",
       "  <thead>\n",
       "    <tr style=\"text-align: right;\">\n",
       "      <th></th>\n",
       "      <th>wikidata_id</th>\n",
       "      <th>title</th>\n",
       "      <th>uk_wikipedia_id</th>\n",
       "    </tr>\n",
       "  </thead>\n",
       "  <tbody>\n",
       "    <tr>\n",
       "      <th>0</th>\n",
       "      <td>4405243</td>\n",
       "      <td>'Lac Motion</td>\n",
       "      <td>1499746.0</td>\n",
       "    </tr>\n",
       "    <tr>\n",
       "      <th>1</th>\n",
       "      <td>4027892</td>\n",
       "      <td>+100500</td>\n",
       "      <td>1309248.0</td>\n",
       "    </tr>\n",
       "    <tr>\n",
       "      <th>2</th>\n",
       "      <td>1993825</td>\n",
       "      <td>06</td>\n",
       "      <td>699990.0</td>\n",
       "    </tr>\n",
       "    <tr>\n",
       "      <th>3</th>\n",
       "      <td>4206146</td>\n",
       "      <td>06704 Чайка-Б (тип атомних підводних човнів СРСР)</td>\n",
       "      <td>1415954.0</td>\n",
       "    </tr>\n",
       "    <tr>\n",
       "      <th>4</th>\n",
       "      <td>821727</td>\n",
       "      <td>1-й військовий округ (Третій Рейх)</td>\n",
       "      <td>1131096.0</td>\n",
       "    </tr>\n",
       "  </tbody>\n",
       "</table>\n",
       "</div>"
      ],
      "text/plain": [
       "   wikidata_id                                              title  \\\n",
       "0      4405243                                        'Lac Motion   \n",
       "1      4027892                                            +100500   \n",
       "2      1993825                                                 06   \n",
       "3      4206146  06704 Чайка-Б (тип атомних підводних човнів СРСР)   \n",
       "4       821727                 1-й військовий округ (Третій Рейх)   \n",
       "\n",
       "   uk_wikipedia_id  \n",
       "0        1499746.0  \n",
       "1        1309248.0  \n",
       "2         699990.0  \n",
       "3        1415954.0  \n",
       "4        1131096.0  "
      ]
     },
     "execution_count": 104,
     "metadata": {},
     "output_type": "execute_result"
    }
   ],
   "source": [
    "uk_wikidata_wikipedia.head()"
   ]
  },
  {
   "cell_type": "markdown",
   "metadata": {},
   "source": [
    "### Get Wikidata-Wikipedia correspondences for English pages"
   ]
  },
  {
   "cell_type": "code",
   "execution_count": 106,
   "metadata": {},
   "outputs": [
    {
     "name": "stderr",
     "output_type": "stream",
     "text": [
      "/home/andrii/apps/anaconda3/lib/python3.6/site-packages/numpy/lib/arraysetops.py:522: FutureWarning: elementwise comparison failed; returning scalar instead, but in the future will perform elementwise comparison\n",
      "  mask |= (ar1 == a)\n"
     ]
    },
    {
     "data": {
      "text/html": [
       "<div>\n",
       "<style scoped>\n",
       "    .dataframe tbody tr th:only-of-type {\n",
       "        vertical-align: middle;\n",
       "    }\n",
       "\n",
       "    .dataframe tbody tr th {\n",
       "        vertical-align: top;\n",
       "    }\n",
       "\n",
       "    .dataframe thead th {\n",
       "        text-align: right;\n",
       "    }\n",
       "</style>\n",
       "<table border=\"1\" class=\"dataframe\">\n",
       "  <thead>\n",
       "    <tr style=\"text-align: right;\">\n",
       "      <th></th>\n",
       "      <th>ips_item_id</th>\n",
       "      <th>ips_site_id</th>\n",
       "      <th>ips_site_page</th>\n",
       "    </tr>\n",
       "  </thead>\n",
       "  <tbody>\n",
       "    <tr>\n",
       "      <th>189385</th>\n",
       "      <td>3466056</td>\n",
       "      <td>enwiki</td>\n",
       "      <td>!PAUS3</td>\n",
       "    </tr>\n",
       "    <tr>\n",
       "      <th>189386</th>\n",
       "      <td>4540212</td>\n",
       "      <td>enwiki</td>\n",
       "      <td>\"And\" theory of conservatism</td>\n",
       "    </tr>\n",
       "    <tr>\n",
       "      <th>189387</th>\n",
       "      <td>3284078</td>\n",
       "      <td>enwiki</td>\n",
       "      <td>\"Buzz!!\" The Movie</td>\n",
       "    </tr>\n",
       "    <tr>\n",
       "      <th>189388</th>\n",
       "      <td>4540290</td>\n",
       "      <td>enwiki</td>\n",
       "      <td>\"In\" Jazz for the Culture Set</td>\n",
       "    </tr>\n",
       "    <tr>\n",
       "      <th>189389</th>\n",
       "      <td>4540291</td>\n",
       "      <td>enwiki</td>\n",
       "      <td>\"Isis\" of the Suebi</td>\n",
       "    </tr>\n",
       "  </tbody>\n",
       "</table>\n",
       "</div>"
      ],
      "text/plain": [
       "        ips_item_id ips_site_id                  ips_site_page\n",
       "189385      3466056      enwiki                         !PAUS3\n",
       "189386      4540212      enwiki   \"And\" theory of conservatism\n",
       "189387      3284078      enwiki             \"Buzz!!\" The Movie\n",
       "189388      4540290      enwiki  \"In\" Jazz for the Culture Set\n",
       "189389      4540291      enwiki            \"Isis\" of the Suebi"
      ]
     },
     "execution_count": 106,
     "metadata": {},
     "output_type": "execute_result"
    }
   ],
   "source": [
    "enwikidata = pd.read_csv(PATH_TO_WIKIDATA_EN+'enwikidataItem.csv', index_col=0)"
   ]
  },
  {
   "cell_type": "code",
   "execution_count": 107,
   "metadata": {},
   "outputs": [],
   "source": [
    "en_id_name = pd.read_csv(PATH_TO_DATA_EN+'enwiki-20180920-id_name.csv', sep='^')"
   ]
  },
  {
   "cell_type": "code",
   "execution_count": 109,
   "metadata": {},
   "outputs": [],
   "source": [
    "en_wikidata_wikipedia = pd.merge(enwikidata, en_id_name, how='left', left_on=['ips_site_page'], right_on=['title'])"
   ]
  },
  {
   "cell_type": "code",
   "execution_count": 110,
   "metadata": {},
   "outputs": [],
   "source": [
    "en_wikidata_wikipedia = en_wikidata_wikipedia[['ips_item_id', 'title', 'id']]\n",
    "en_wikidata_wikipedia.columns = ['wikidata_id', 'title', 'en_wikipedia_id']"
   ]
  },
  {
   "cell_type": "code",
   "execution_count": 111,
   "metadata": {},
   "outputs": [
    {
     "data": {
      "text/html": [
       "<div>\n",
       "<style scoped>\n",
       "    .dataframe tbody tr th:only-of-type {\n",
       "        vertical-align: middle;\n",
       "    }\n",
       "\n",
       "    .dataframe tbody tr th {\n",
       "        vertical-align: top;\n",
       "    }\n",
       "\n",
       "    .dataframe thead th {\n",
       "        text-align: right;\n",
       "    }\n",
       "</style>\n",
       "<table border=\"1\" class=\"dataframe\">\n",
       "  <thead>\n",
       "    <tr style=\"text-align: right;\">\n",
       "      <th></th>\n",
       "      <th>wikidata_id</th>\n",
       "      <th>title</th>\n",
       "      <th>en_wikipedia_id</th>\n",
       "    </tr>\n",
       "  </thead>\n",
       "  <tbody>\n",
       "    <tr>\n",
       "      <th>0</th>\n",
       "      <td>3466056</td>\n",
       "      <td>!PAUS3</td>\n",
       "      <td>33744797.0</td>\n",
       "    </tr>\n",
       "    <tr>\n",
       "      <th>1</th>\n",
       "      <td>4540212</td>\n",
       "      <td>\"And\" theory of conservatism</td>\n",
       "      <td>9003666.0</td>\n",
       "    </tr>\n",
       "    <tr>\n",
       "      <th>2</th>\n",
       "      <td>3284078</td>\n",
       "      <td>\"Buzz!!\" The Movie</td>\n",
       "      <td>13623996.0</td>\n",
       "    </tr>\n",
       "    <tr>\n",
       "      <th>3</th>\n",
       "      <td>4540290</td>\n",
       "      <td>\"In\" Jazz for the Culture Set</td>\n",
       "      <td>32066421.0</td>\n",
       "    </tr>\n",
       "    <tr>\n",
       "      <th>4</th>\n",
       "      <td>4540291</td>\n",
       "      <td>\"Isis\" of the Suebi</td>\n",
       "      <td>31500663.0</td>\n",
       "    </tr>\n",
       "  </tbody>\n",
       "</table>\n",
       "</div>"
      ],
      "text/plain": [
       "   wikidata_id                          title  en_wikipedia_id\n",
       "0      3466056                         !PAUS3       33744797.0\n",
       "1      4540212   \"And\" theory of conservatism        9003666.0\n",
       "2      3284078             \"Buzz!!\" The Movie       13623996.0\n",
       "3      4540290  \"In\" Jazz for the Culture Set       32066421.0\n",
       "4      4540291            \"Isis\" of the Suebi       31500663.0"
      ]
     },
     "execution_count": 111,
     "metadata": {},
     "output_type": "execute_result"
    }
   ],
   "source": [
    "en_wikidata_wikipedia.head()"
   ]
  },
  {
   "cell_type": "code",
   "execution_count": null,
   "metadata": {},
   "outputs": [],
   "source": []
  },
  {
   "cell_type": "code",
   "execution_count": null,
   "metadata": {},
   "outputs": [],
   "source": []
  },
  {
   "cell_type": "code",
   "execution_count": null,
   "metadata": {},
   "outputs": [],
   "source": []
  },
  {
   "cell_type": "code",
   "execution_count": null,
   "metadata": {},
   "outputs": [],
   "source": []
  },
  {
   "cell_type": "code",
   "execution_count": null,
   "metadata": {},
   "outputs": [],
   "source": []
  },
  {
   "cell_type": "code",
   "execution_count": null,
   "metadata": {},
   "outputs": [],
   "source": []
  },
  {
   "cell_type": "code",
   "execution_count": 13,
   "metadata": {},
   "outputs": [],
   "source": [
    "# rerun creating candidates\n",
    "files = [f for f in os.listdir(PATH_TO_DATA_RL+'candidates/') if re.match(r'[a-zA-Z]+_\\d+.csv', f)]"
   ]
  },
  {
   "cell_type": "code",
   "execution_count": 14,
   "metadata": {},
   "outputs": [
    {
     "name": "stdout",
     "output_type": "stream",
     "text": [
      "100\n",
      "1/100\n",
      "/media/andrii/earth/Katia/CS_MasterThesis/data/ukwiki/uk_red_links/candidates/candidates_93.csv\n",
      "2/100\n",
      "/media/andrii/earth/Katia/CS_MasterThesis/data/ukwiki/uk_red_links/candidates/candidates_68.csv\n",
      "3/100\n",
      "/media/andrii/earth/Katia/CS_MasterThesis/data/ukwiki/uk_red_links/candidates/candidates_45.csv\n",
      "4/100\n",
      "/media/andrii/earth/Katia/CS_MasterThesis/data/ukwiki/uk_red_links/candidates/candidates_23.csv\n",
      "5/100\n",
      "/media/andrii/earth/Katia/CS_MasterThesis/data/ukwiki/uk_red_links/candidates/candidates_79.csv\n",
      "6/100\n",
      "/media/andrii/earth/Katia/CS_MasterThesis/data/ukwiki/uk_red_links/candidates/candidates_74.csv\n",
      "7/100\n",
      "/media/andrii/earth/Katia/CS_MasterThesis/data/ukwiki/uk_red_links/candidates/candidates_42.csv\n",
      "8/100\n",
      "/media/andrii/earth/Katia/CS_MasterThesis/data/ukwiki/uk_red_links/candidates/candidates_88.csv\n",
      "9/100\n",
      "/media/andrii/earth/Katia/CS_MasterThesis/data/ukwiki/uk_red_links/candidates/candidates_35.csv\n",
      "10/100\n",
      "/media/andrii/earth/Katia/CS_MasterThesis/data/ukwiki/uk_red_links/candidates/candidates_17.csv\n",
      "11/100\n",
      "/media/andrii/earth/Katia/CS_MasterThesis/data/ukwiki/uk_red_links/candidates/candidates_3.csv\n",
      "12/100\n",
      "/media/andrii/earth/Katia/CS_MasterThesis/data/ukwiki/uk_red_links/candidates/candidates_47.csv\n",
      "13/100\n",
      "/media/andrii/earth/Katia/CS_MasterThesis/data/ukwiki/uk_red_links/candidates/candidates_1.csv\n",
      "14/100\n",
      "/media/andrii/earth/Katia/CS_MasterThesis/data/ukwiki/uk_red_links/candidates/candidates_9.csv\n",
      "15/100\n",
      "/media/andrii/earth/Katia/CS_MasterThesis/data/ukwiki/uk_red_links/candidates/candidates_30.csv\n",
      "16/100\n",
      "/media/andrii/earth/Katia/CS_MasterThesis/data/ukwiki/uk_red_links/candidates/candidates_34.csv\n",
      "17/100\n",
      "/media/andrii/earth/Katia/CS_MasterThesis/data/ukwiki/uk_red_links/candidates/candidates_69.csv\n",
      "18/100\n",
      "/media/andrii/earth/Katia/CS_MasterThesis/data/ukwiki/uk_red_links/candidates/candidates_89.csv\n",
      "19/100\n",
      "/media/andrii/earth/Katia/CS_MasterThesis/data/ukwiki/uk_red_links/candidates/candidates_90.csv\n",
      "20/100\n",
      "/media/andrii/earth/Katia/CS_MasterThesis/data/ukwiki/uk_red_links/candidates/candidates_73.csv\n",
      "21/100\n",
      "/media/andrii/earth/Katia/CS_MasterThesis/data/ukwiki/uk_red_links/candidates/candidates_5.csv\n",
      "22/100\n",
      "/media/andrii/earth/Katia/CS_MasterThesis/data/ukwiki/uk_red_links/candidates/candidates_31.csv\n",
      "23/100\n",
      "/media/andrii/earth/Katia/CS_MasterThesis/data/ukwiki/uk_red_links/candidates/candidates_6.csv\n",
      "24/100\n",
      "/media/andrii/earth/Katia/CS_MasterThesis/data/ukwiki/uk_red_links/candidates/candidates_76.csv\n",
      "25/100\n",
      "/media/andrii/earth/Katia/CS_MasterThesis/data/ukwiki/uk_red_links/candidates/candidates_80.csv\n",
      "26/100\n",
      "/media/andrii/earth/Katia/CS_MasterThesis/data/ukwiki/uk_red_links/candidates/candidates_81.csv\n",
      "27/100\n",
      "/media/andrii/earth/Katia/CS_MasterThesis/data/ukwiki/uk_red_links/candidates/candidates_21.csv\n",
      "28/100\n",
      "/media/andrii/earth/Katia/CS_MasterThesis/data/ukwiki/uk_red_links/candidates/candidates_87.csv\n",
      "29/100\n",
      "/media/andrii/earth/Katia/CS_MasterThesis/data/ukwiki/uk_red_links/candidates/candidates_98.csv\n",
      "30/100\n",
      "/media/andrii/earth/Katia/CS_MasterThesis/data/ukwiki/uk_red_links/candidates/candidates_11.csv\n",
      "31/100\n",
      "/media/andrii/earth/Katia/CS_MasterThesis/data/ukwiki/uk_red_links/candidates/candidates_58.csv\n",
      "32/100\n",
      "/media/andrii/earth/Katia/CS_MasterThesis/data/ukwiki/uk_red_links/candidates/candidates_100.csv\n",
      "33/100\n",
      "/media/andrii/earth/Katia/CS_MasterThesis/data/ukwiki/uk_red_links/candidates/candidates_10.csv\n",
      "34/100\n",
      "/media/andrii/earth/Katia/CS_MasterThesis/data/ukwiki/uk_red_links/candidates/candidates_57.csv\n",
      "35/100\n",
      "/media/andrii/earth/Katia/CS_MasterThesis/data/ukwiki/uk_red_links/candidates/candidates_36.csv\n",
      "36/100\n",
      "/media/andrii/earth/Katia/CS_MasterThesis/data/ukwiki/uk_red_links/candidates/candidates_37.csv\n",
      "37/100\n",
      "/media/andrii/earth/Katia/CS_MasterThesis/data/ukwiki/uk_red_links/candidates/candidates_95.csv\n",
      "38/100\n",
      "/media/andrii/earth/Katia/CS_MasterThesis/data/ukwiki/uk_red_links/candidates/candidates_40.csv\n",
      "39/100\n",
      "/media/andrii/earth/Katia/CS_MasterThesis/data/ukwiki/uk_red_links/candidates/candidates_66.csv\n",
      "40/100\n",
      "/media/andrii/earth/Katia/CS_MasterThesis/data/ukwiki/uk_red_links/candidates/candidates_4.csv\n",
      "41/100\n",
      "/media/andrii/earth/Katia/CS_MasterThesis/data/ukwiki/uk_red_links/candidates/candidates_38.csv\n",
      "42/100\n",
      "/media/andrii/earth/Katia/CS_MasterThesis/data/ukwiki/uk_red_links/candidates/candidates_44.csv\n",
      "43/100\n",
      "/media/andrii/earth/Katia/CS_MasterThesis/data/ukwiki/uk_red_links/candidates/candidates_14.csv\n",
      "44/100\n",
      "/media/andrii/earth/Katia/CS_MasterThesis/data/ukwiki/uk_red_links/candidates/candidates_97.csv\n",
      "45/100\n",
      "/media/andrii/earth/Katia/CS_MasterThesis/data/ukwiki/uk_red_links/candidates/candidates_63.csv\n",
      "46/100\n",
      "/media/andrii/earth/Katia/CS_MasterThesis/data/ukwiki/uk_red_links/candidates/candidates_94.csv\n",
      "47/100\n",
      "/media/andrii/earth/Katia/CS_MasterThesis/data/ukwiki/uk_red_links/candidates/candidates_77.csv\n",
      "48/100\n",
      "/media/andrii/earth/Katia/CS_MasterThesis/data/ukwiki/uk_red_links/candidates/candidates_67.csv\n",
      "49/100\n",
      "/media/andrii/earth/Katia/CS_MasterThesis/data/ukwiki/uk_red_links/candidates/candidates_62.csv\n",
      "50/100\n",
      "/media/andrii/earth/Katia/CS_MasterThesis/data/ukwiki/uk_red_links/candidates/candidates_50.csv\n",
      "51/100\n",
      "/media/andrii/earth/Katia/CS_MasterThesis/data/ukwiki/uk_red_links/candidates/candidates_78.csv\n",
      "52/100\n",
      "/media/andrii/earth/Katia/CS_MasterThesis/data/ukwiki/uk_red_links/candidates/candidates_70.csv\n",
      "53/100\n",
      "/media/andrii/earth/Katia/CS_MasterThesis/data/ukwiki/uk_red_links/candidates/candidates_101.csv\n",
      "54/100\n",
      "/media/andrii/earth/Katia/CS_MasterThesis/data/ukwiki/uk_red_links/candidates/candidates_28.csv\n",
      "55/100\n",
      "/media/andrii/earth/Katia/CS_MasterThesis/data/ukwiki/uk_red_links/candidates/candidates_59.csv\n",
      "56/100\n",
      "/media/andrii/earth/Katia/CS_MasterThesis/data/ukwiki/uk_red_links/candidates/candidates_72.csv\n",
      "57/100\n",
      "/media/andrii/earth/Katia/CS_MasterThesis/data/ukwiki/uk_red_links/candidates/candidates_65.csv\n",
      "58/100\n",
      "/media/andrii/earth/Katia/CS_MasterThesis/data/ukwiki/uk_red_links/candidates/candidates_19.csv\n",
      "59/100\n",
      "/media/andrii/earth/Katia/CS_MasterThesis/data/ukwiki/uk_red_links/candidates/candidates_82.csv\n",
      "60/100\n",
      "/media/andrii/earth/Katia/CS_MasterThesis/data/ukwiki/uk_red_links/candidates/candidates_83.csv\n",
      "61/100\n",
      "/media/andrii/earth/Katia/CS_MasterThesis/data/ukwiki/uk_red_links/candidates/candidates_20.csv\n",
      "62/100\n",
      "/media/andrii/earth/Katia/CS_MasterThesis/data/ukwiki/uk_red_links/candidates/candidates_46.csv\n",
      "63/100\n",
      "/media/andrii/earth/Katia/CS_MasterThesis/data/ukwiki/uk_red_links/candidates/candidates_56.csv\n",
      "64/100\n",
      "/media/andrii/earth/Katia/CS_MasterThesis/data/ukwiki/uk_red_links/candidates/candidates_33.csv\n",
      "65/100\n",
      "/media/andrii/earth/Katia/CS_MasterThesis/data/ukwiki/uk_red_links/candidates/candidates_52.csv\n",
      "66/100\n",
      "/media/andrii/earth/Katia/CS_MasterThesis/data/ukwiki/uk_red_links/candidates/candidates_32.csv\n",
      "67/100\n",
      "/media/andrii/earth/Katia/CS_MasterThesis/data/ukwiki/uk_red_links/candidates/candidates_99.csv\n",
      "68/100\n",
      "/media/andrii/earth/Katia/CS_MasterThesis/data/ukwiki/uk_red_links/candidates/candidates_24.csv\n",
      "69/100\n",
      "/media/andrii/earth/Katia/CS_MasterThesis/data/ukwiki/uk_red_links/candidates/candidates_13.csv\n",
      "70/100\n",
      "/media/andrii/earth/Katia/CS_MasterThesis/data/ukwiki/uk_red_links/candidates/candidates_91.csv\n",
      "71/100\n",
      "/media/andrii/earth/Katia/CS_MasterThesis/data/ukwiki/uk_red_links/candidates/candidates_54.csv\n",
      "72/100\n",
      "/media/andrii/earth/Katia/CS_MasterThesis/data/ukwiki/uk_red_links/candidates/candidates_86.csv\n",
      "73/100\n",
      "/media/andrii/earth/Katia/CS_MasterThesis/data/ukwiki/uk_red_links/candidates/candidates_92.csv\n",
      "74/100\n",
      "/media/andrii/earth/Katia/CS_MasterThesis/data/ukwiki/uk_red_links/candidates/candidates_60.csv\n",
      "75/100\n",
      "/media/andrii/earth/Katia/CS_MasterThesis/data/ukwiki/uk_red_links/candidates/candidates_53.csv\n",
      "76/100\n",
      "/media/andrii/earth/Katia/CS_MasterThesis/data/ukwiki/uk_red_links/candidates/candidates_16.csv\n",
      "77/100\n",
      "/media/andrii/earth/Katia/CS_MasterThesis/data/ukwiki/uk_red_links/candidates/candidates_75.csv\n",
      "78/100\n",
      "/media/andrii/earth/Katia/CS_MasterThesis/data/ukwiki/uk_red_links/candidates/candidates_7.csv\n",
      "79/100\n",
      "/media/andrii/earth/Katia/CS_MasterThesis/data/ukwiki/uk_red_links/candidates/candidates_85.csv\n",
      "80/100\n",
      "/media/andrii/earth/Katia/CS_MasterThesis/data/ukwiki/uk_red_links/candidates/candidates_49.csv\n"
     ]
    },
    {
     "name": "stdout",
     "output_type": "stream",
     "text": [
      "81/100\n",
      "/media/andrii/earth/Katia/CS_MasterThesis/data/ukwiki/uk_red_links/candidates/candidates_84.csv\n",
      "82/100\n",
      "/media/andrii/earth/Katia/CS_MasterThesis/data/ukwiki/uk_red_links/candidates/candidates_51.csv\n",
      "83/100\n",
      "/media/andrii/earth/Katia/CS_MasterThesis/data/ukwiki/uk_red_links/candidates/candidates_43.csv\n",
      "84/100\n",
      "/media/andrii/earth/Katia/CS_MasterThesis/data/ukwiki/uk_red_links/candidates/candidates_8.csv\n",
      "85/100\n",
      "/media/andrii/earth/Katia/CS_MasterThesis/data/ukwiki/uk_red_links/candidates/candidates_61.csv\n",
      "86/100\n",
      "/media/andrii/earth/Katia/CS_MasterThesis/data/ukwiki/uk_red_links/candidates/candidates_39.csv\n",
      "87/100\n",
      "/media/andrii/earth/Katia/CS_MasterThesis/data/ukwiki/uk_red_links/candidates/candidates_64.csv\n",
      "88/100\n",
      "/media/andrii/earth/Katia/CS_MasterThesis/data/ukwiki/uk_red_links/candidates/candidates_41.csv\n",
      "89/100\n",
      "/media/andrii/earth/Katia/CS_MasterThesis/data/ukwiki/uk_red_links/candidates/candidates_48.csv\n",
      "90/100\n",
      "/media/andrii/earth/Katia/CS_MasterThesis/data/ukwiki/uk_red_links/candidates/candidates_29.csv\n",
      "91/100\n",
      "/media/andrii/earth/Katia/CS_MasterThesis/data/ukwiki/uk_red_links/candidates/candidates_26.csv\n",
      "92/100\n",
      "/media/andrii/earth/Katia/CS_MasterThesis/data/ukwiki/uk_red_links/candidates/candidates_22.csv\n",
      "93/100\n",
      "/media/andrii/earth/Katia/CS_MasterThesis/data/ukwiki/uk_red_links/candidates/candidates_55.csv\n",
      "94/100\n",
      "/media/andrii/earth/Katia/CS_MasterThesis/data/ukwiki/uk_red_links/candidates/candidates_2.csv\n",
      "95/100\n",
      "/media/andrii/earth/Katia/CS_MasterThesis/data/ukwiki/uk_red_links/candidates/candidates_18.csv\n",
      "96/100\n",
      "/media/andrii/earth/Katia/CS_MasterThesis/data/ukwiki/uk_red_links/candidates/candidates_12.csv\n",
      "97/100\n",
      "/media/andrii/earth/Katia/CS_MasterThesis/data/ukwiki/uk_red_links/candidates/candidates_25.csv\n",
      "98/100\n",
      "/media/andrii/earth/Katia/CS_MasterThesis/data/ukwiki/uk_red_links/candidates/candidates_71.csv\n",
      "99/100\n",
      "/media/andrii/earth/Katia/CS_MasterThesis/data/ukwiki/uk_red_links/candidates/candidates_27.csv\n",
      "100/100\n",
      "/media/andrii/earth/Katia/CS_MasterThesis/data/ukwiki/uk_red_links/candidates/candidates_96.csv\n",
      "Total time: 0.2 minutes\n"
     ]
    }
   ],
   "source": [
    "candidate_pairs = functions.load_csvs_to_df_general(PATH_TO_DATA_RL+'candidates/', files)"
   ]
  },
  {
   "cell_type": "code",
   "execution_count": 15,
   "metadata": {},
   "outputs": [
    {
     "data": {
      "text/html": [
       "<div>\n",
       "<style scoped>\n",
       "    .dataframe tbody tr th:only-of-type {\n",
       "        vertical-align: middle;\n",
       "    }\n",
       "\n",
       "    .dataframe tbody tr th {\n",
       "        vertical-align: top;\n",
       "    }\n",
       "\n",
       "    .dataframe thead th {\n",
       "        text-align: right;\n",
       "    }\n",
       "</style>\n",
       "<table border=\"1\" class=\"dataframe\">\n",
       "  <thead>\n",
       "    <tr style=\"text-align: right;\">\n",
       "      <th></th>\n",
       "      <th>red_link</th>\n",
       "      <th>candidate</th>\n",
       "    </tr>\n",
       "  </thead>\n",
       "  <tbody>\n",
       "    <tr>\n",
       "      <th>0</th>\n",
       "      <td>Штефан Коубек</td>\n",
       "      <td>Alexander Popp</td>\n",
       "    </tr>\n",
       "    <tr>\n",
       "      <th>1</th>\n",
       "      <td>Штефан Коубек</td>\n",
       "      <td>Stefan Koubek</td>\n",
       "    </tr>\n",
       "    <tr>\n",
       "      <th>2</th>\n",
       "      <td>Штефан Коубек</td>\n",
       "      <td>Markus Hipfl</td>\n",
       "    </tr>\n",
       "    <tr>\n",
       "      <th>3</th>\n",
       "      <td>Штефан Коубек</td>\n",
       "      <td>Cyril Saulnier</td>\n",
       "    </tr>\n",
       "    <tr>\n",
       "      <th>4</th>\n",
       "      <td>Штефан Коубек</td>\n",
       "      <td>Julien Boutter</td>\n",
       "    </tr>\n",
       "  </tbody>\n",
       "</table>\n",
       "</div>"
      ],
      "text/plain": [
       "        red_link       candidate\n",
       "0  Штефан Коубек  Alexander Popp\n",
       "1  Штефан Коубек   Stefan Koubek\n",
       "2  Штефан Коубек    Markus Hipfl\n",
       "3  Штефан Коубек  Cyril Saulnier\n",
       "4  Штефан Коубек  Julien Boutter"
      ]
     },
     "execution_count": 15,
     "metadata": {},
     "output_type": "execute_result"
    }
   ],
   "source": [
    "candidate_pairs.head()"
   ]
  },
  {
   "cell_type": "code",
   "execution_count": 22,
   "metadata": {
    "scrolled": false
   },
   "outputs": [
    {
     "name": "stderr",
     "output_type": "stream",
     "text": [
      "/home/andrii/apps/anaconda3/lib/python3.6/site-packages/IPython/core/interactiveshell.py:3020: DtypeWarning: Columns (2) have mixed types. Specify dtype option on import or set low_memory=False.\n",
      "  interactivity=interactivity, compiler=compiler, result=result)\n"
     ]
    }
   ],
   "source": [
    "# load parent pages for uk red links\n",
    "\n",
    "red_links_with_parent_ids = pd.read_csv(PATH_TO_DATA_RL+'all_uk_redlinks_with_parent_ids.csv')\n",
    "\n",
    "red_links_with_parent_ids.head()"
   ]
  },
  {
   "cell_type": "code",
   "execution_count": 30,
   "metadata": {},
   "outputs": [],
   "source": [
    "# load en links for all pages\n",
    "en_pagelinks_np = np.load(PATH_TO_DATA_EN+'results_save.npy')"
   ]
  },
  {
   "cell_type": "code",
   "execution_count": 31,
   "metadata": {},
   "outputs": [],
   "source": [
    "en_pagelinks = pd.DataFrame(en_pagelinks_np)\n",
    "en_pagelinks.columns = ['parent_id', 'child_id']"
   ]
  },
  {
   "cell_type": "code",
   "execution_count": 36,
   "metadata": {},
   "outputs": [],
   "source": [
    "candidates_list = candidate_pairs['candidate'].drop_duplicates().values.tolist()"
   ]
  },
  {
   "cell_type": "code",
   "execution_count": 41,
   "metadata": {},
   "outputs": [],
   "source": [
    "example = candidates_list[0]"
   ]
  },
  {
   "cell_type": "code",
   "execution_count": 44,
   "metadata": {},
   "outputs": [],
   "source": [
    "nontransl_en_ids = pd.read_csv(PATH_TO_DATA_EN+'non_translated_en_articles.csv', encoding = 'UTF-8', sep='^')"
   ]
  },
  {
   "cell_type": "code",
   "execution_count": 45,
   "metadata": {},
   "outputs": [
    {
     "data": {
      "text/html": [
       "<div>\n",
       "<style scoped>\n",
       "    .dataframe tbody tr th:only-of-type {\n",
       "        vertical-align: middle;\n",
       "    }\n",
       "\n",
       "    .dataframe tbody tr th {\n",
       "        vertical-align: top;\n",
       "    }\n",
       "\n",
       "    .dataframe thead th {\n",
       "        text-align: right;\n",
       "    }\n",
       "</style>\n",
       "<table border=\"1\" class=\"dataframe\">\n",
       "  <thead>\n",
       "    <tr style=\"text-align: right;\">\n",
       "      <th></th>\n",
       "      <th>id</th>\n",
       "      <th>title</th>\n",
       "    </tr>\n",
       "  </thead>\n",
       "  <tbody>\n",
       "    <tr>\n",
       "      <th>0</th>\n",
       "      <td>309</td>\n",
       "      <td>An American in Paris</td>\n",
       "    </tr>\n",
       "    <tr>\n",
       "      <th>1</th>\n",
       "      <td>330</td>\n",
       "      <td>Actrius</td>\n",
       "    </tr>\n",
       "    <tr>\n",
       "      <th>2</th>\n",
       "      <td>332</td>\n",
       "      <td>Animalia (book)</td>\n",
       "    </tr>\n",
       "    <tr>\n",
       "      <th>3</th>\n",
       "      <td>344</td>\n",
       "      <td>Allan Dwan</td>\n",
       "    </tr>\n",
       "    <tr>\n",
       "      <th>4</th>\n",
       "      <td>359</td>\n",
       "      <td>List of Atlas Shrugged characters</td>\n",
       "    </tr>\n",
       "  </tbody>\n",
       "</table>\n",
       "</div>"
      ],
      "text/plain": [
       "    id                              title\n",
       "0  309               An American in Paris\n",
       "1  330                            Actrius\n",
       "2  332                    Animalia (book)\n",
       "3  344                         Allan Dwan\n",
       "4  359  List of Atlas Shrugged characters"
      ]
     },
     "execution_count": 45,
     "metadata": {},
     "output_type": "execute_result"
    }
   ],
   "source": [
    "nontransl_en_ids.head()"
   ]
  },
  {
   "cell_type": "code",
   "execution_count": 59,
   "metadata": {},
   "outputs": [],
   "source": [
    "cand_id = nontransl_en_ids.loc[nontransl_en_ids['title'] == example, 'id'].iloc[0]"
   ]
  },
  {
   "cell_type": "code",
   "execution_count": 60,
   "metadata": {},
   "outputs": [
    {
     "data": {
      "text/plain": [
       "8217387"
      ]
     },
     "execution_count": 60,
     "metadata": {},
     "output_type": "execute_result"
    }
   ],
   "source": [
    "cand_id"
   ]
  },
  {
   "cell_type": "code",
   "execution_count": 61,
   "metadata": {
    "scrolled": true
   },
   "outputs": [],
   "source": [
    "en_pagelinks_filtered = en_pagelinks[en_pagelinks['child_id'] == cand_id]"
   ]
  },
  {
   "cell_type": "code",
   "execution_count": 65,
   "metadata": {},
   "outputs": [],
   "source": [
    "parent_pages_ids = en_pagelinks_filtered['parent_id'].drop_duplicates().values.tolist()"
   ]
  },
  {
   "cell_type": "code",
   "execution_count": 66,
   "metadata": {},
   "outputs": [],
   "source": [
    "en_pagelinks_dict = {k: v['child_id'].tolist() for k,v in en_pagelinks.groupby('parent_id')}"
   ]
  },
  {
   "cell_type": "code",
   "execution_count": 69,
   "metadata": {},
   "outputs": [],
   "source": [
    "# save en pagelinks dictionary as a pickle file\n",
    "with open(PATH_TO_DATA_EN+'en_pagelinks_dict.p', 'wb') as fp:\n",
    "    pickle.dump(en_pagelinks_dict, fp, protocol=pickle.HIGHEST_PROTOCOL)"
   ]
  },
  {
   "cell_type": "code",
   "execution_count": 71,
   "metadata": {},
   "outputs": [],
   "source": [
    "# load pickle file\n",
    "# with open(PATH_TO_DATA_EN+'en_pagelinks_dict.p', 'rb') as fp:\n",
    "#     data = pickle.load(fp)"
   ]
  },
  {
   "cell_type": "code",
   "execution_count": null,
   "metadata": {},
   "outputs": [],
   "source": []
  }
 ],
 "metadata": {
  "kernelspec": {
   "display_name": "Python 3",
   "language": "python",
   "name": "python3"
  },
  "language_info": {
   "codemirror_mode": {
    "name": "ipython",
    "version": 3
   },
   "file_extension": ".py",
   "mimetype": "text/x-python",
   "name": "python",
   "nbconvert_exporter": "python",
   "pygments_lexer": "ipython3",
   "version": "3.6.7"
  }
 },
 "nbformat": 4,
 "nbformat_minor": 2
}
