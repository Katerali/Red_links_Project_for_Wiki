{
 "cells": [
  {
   "cell_type": "code",
   "execution_count": 1,
   "metadata": {},
   "outputs": [],
   "source": [
    "import pandas as pd\n",
    "import pickle\n",
    "import time\n",
    "import os\n",
    "import re\n",
    "import numpy as np\n",
    "\n",
    "import matplotlib.pyplot as plt\n",
    "%matplotlib inline"
   ]
  },
  {
   "cell_type": "code",
   "execution_count": 2,
   "metadata": {},
   "outputs": [],
   "source": [
    "%load_ext autoreload\n",
    "%autoreload 2"
   ]
  },
  {
   "cell_type": "code",
   "execution_count": 3,
   "metadata": {},
   "outputs": [],
   "source": [
    "import sys\n",
    "sys.path.insert(0, '/media/andrii/earth/Katia/CS_MasterThesis/Red_links_Project_for_Wiki_draft/py')\n",
    "import utils"
   ]
  },
  {
   "cell_type": "code",
   "execution_count": 4,
   "metadata": {},
   "outputs": [],
   "source": [
    "PATH_TO_DATA_RL = '/media/andrii/earth/Katia/CS_MasterThesis/data/ukwiki/uk_red_links/'"
   ]
  },
  {
   "cell_type": "code",
   "execution_count": 5,
   "metadata": {},
   "outputs": [],
   "source": [
    "candidate_pairs = pd.read_pickle(PATH_TO_DATA_RL+'ukredlinks_pairs_final.pkl')"
   ]
  },
  {
   "cell_type": "code",
   "execution_count": 6,
   "metadata": {},
   "outputs": [
    {
     "data": {
      "text/plain": [
       "(2957927, 10)"
      ]
     },
     "execution_count": 6,
     "metadata": {},
     "output_type": "execute_result"
    }
   ],
   "source": [
    "candidate_pairs.shape"
   ]
  },
  {
   "cell_type": "code",
   "execution_count": 7,
   "metadata": {},
   "outputs": [
    {
     "data": {
      "text/html": [
       "<div>\n",
       "<style scoped>\n",
       "    .dataframe tbody tr th:only-of-type {\n",
       "        vertical-align: middle;\n",
       "    }\n",
       "\n",
       "    .dataframe tbody tr th {\n",
       "        vertical-align: top;\n",
       "    }\n",
       "\n",
       "    .dataframe thead th {\n",
       "        text-align: right;\n",
       "    }\n",
       "</style>\n",
       "<table border=\"1\" class=\"dataframe\">\n",
       "  <thead>\n",
       "    <tr style=\"text-align: right;\">\n",
       "      <th></th>\n",
       "      <th>red_link_cand</th>\n",
       "      <th>ground truth</th>\n",
       "      <th>concur_score</th>\n",
       "      <th>pair_unique_id</th>\n",
       "      <th>red_link_name</th>\n",
       "      <th>candidate</th>\n",
       "      <th>true_label</th>\n",
       "      <th>BN_results</th>\n",
       "      <th>jaccard_score</th>\n",
       "      <th>levenstein_score</th>\n",
       "    </tr>\n",
       "  </thead>\n",
       "  <tbody>\n",
       "    <tr>\n",
       "      <th>0</th>\n",
       "      <td>Pachetra sagittigera Phytometra viridaria</td>\n",
       "      <td>Pachetra sagittigera</td>\n",
       "      <td>0.03060</td>\n",
       "      <td>0</td>\n",
       "      <td>Pachetra sagittigera</td>\n",
       "      <td>Phytometra viridaria</td>\n",
       "      <td>False</td>\n",
       "      <td>0</td>\n",
       "      <td>0.081</td>\n",
       "      <td>0.650</td>\n",
       "    </tr>\n",
       "    <tr>\n",
       "      <th>1</th>\n",
       "      <td>Pachetra sagittigera Conistra rubiginea</td>\n",
       "      <td>Pachetra sagittigera</td>\n",
       "      <td>0.03053</td>\n",
       "      <td>1</td>\n",
       "      <td>Pachetra sagittigera</td>\n",
       "      <td>Conistra rubiginea</td>\n",
       "      <td>False</td>\n",
       "      <td>0</td>\n",
       "      <td>0.076</td>\n",
       "      <td>0.600</td>\n",
       "    </tr>\n",
       "    <tr>\n",
       "      <th>2</th>\n",
       "      <td>Pachetra sagittigera Tholera decimalis</td>\n",
       "      <td>Pachetra sagittigera</td>\n",
       "      <td>0.03026</td>\n",
       "      <td>2</td>\n",
       "      <td>Pachetra sagittigera</td>\n",
       "      <td>Tholera decimalis</td>\n",
       "      <td>False</td>\n",
       "      <td>0</td>\n",
       "      <td>0.068</td>\n",
       "      <td>0.750</td>\n",
       "    </tr>\n",
       "    <tr>\n",
       "      <th>3</th>\n",
       "      <td>Pachetra sagittigera Pachetra sagittigera</td>\n",
       "      <td>Pachetra sagittigera</td>\n",
       "      <td>0.03271</td>\n",
       "      <td>3</td>\n",
       "      <td>Pachetra sagittigera</td>\n",
       "      <td>Pachetra sagittigera</td>\n",
       "      <td>True</td>\n",
       "      <td>0</td>\n",
       "      <td>0.066</td>\n",
       "      <td>0.000</td>\n",
       "    </tr>\n",
       "    <tr>\n",
       "      <th>4</th>\n",
       "      <td>Pachetra sagittigera Hoplodrina octogenaria</td>\n",
       "      <td>Pachetra sagittigera</td>\n",
       "      <td>0.03297</td>\n",
       "      <td>4</td>\n",
       "      <td>Pachetra sagittigera</td>\n",
       "      <td>Hoplodrina octogenaria</td>\n",
       "      <td>False</td>\n",
       "      <td>0</td>\n",
       "      <td>0.066</td>\n",
       "      <td>0.727</td>\n",
       "    </tr>\n",
       "  </tbody>\n",
       "</table>\n",
       "</div>"
      ],
      "text/plain": [
       "                                 red_link_cand          ground truth  \\\n",
       "0    Pachetra sagittigera Phytometra viridaria  Pachetra sagittigera   \n",
       "1      Pachetra sagittigera Conistra rubiginea  Pachetra sagittigera   \n",
       "2       Pachetra sagittigera Tholera decimalis  Pachetra sagittigera   \n",
       "3    Pachetra sagittigera Pachetra sagittigera  Pachetra sagittigera   \n",
       "4  Pachetra sagittigera Hoplodrina octogenaria  Pachetra sagittigera   \n",
       "\n",
       "   concur_score  pair_unique_id         red_link_name               candidate  \\\n",
       "0       0.03060               0  Pachetra sagittigera    Phytometra viridaria   \n",
       "1       0.03053               1  Pachetra sagittigera      Conistra rubiginea   \n",
       "2       0.03026               2  Pachetra sagittigera       Tholera decimalis   \n",
       "3       0.03271               3  Pachetra sagittigera    Pachetra sagittigera   \n",
       "4       0.03297               4  Pachetra sagittigera  Hoplodrina octogenaria   \n",
       "\n",
       "   true_label  BN_results  jaccard_score  levenstein_score  \n",
       "0       False           0          0.081             0.650  \n",
       "1       False           0          0.076             0.600  \n",
       "2       False           0          0.068             0.750  \n",
       "3        True           0          0.066             0.000  \n",
       "4       False           0          0.066             0.727  "
      ]
     },
     "execution_count": 7,
     "metadata": {},
     "output_type": "execute_result"
    }
   ],
   "source": [
    "candidate_pairs.head()"
   ]
  },
  {
   "cell_type": "code",
   "execution_count": null,
   "metadata": {},
   "outputs": [],
   "source": []
  },
  {
   "cell_type": "code",
   "execution_count": null,
   "metadata": {},
   "outputs": [],
   "source": []
  },
  {
   "cell_type": "code",
   "execution_count": null,
   "metadata": {},
   "outputs": [],
   "source": []
  },
  {
   "cell_type": "markdown",
   "metadata": {},
   "source": [
    "### Load data"
   ]
  },
  {
   "cell_type": "code",
   "execution_count": 35,
   "metadata": {},
   "outputs": [],
   "source": [
    "RUN ONCE!\n",
    "train_test_split_update(PATH_TO_DATA_RL+'ukredlinks_pairs_final.pkl', \n",
    "                        PATH_TO_DATA_RL+'ukredlinks_final.pkl', \n",
    "                        PATH_TO_DATA_RL)"
   ]
  },
  {
   "cell_type": "code",
   "execution_count": 8,
   "metadata": {},
   "outputs": [],
   "source": [
    "train_pairs = pd.read_csv(PATH_TO_DATA_RL+'redlinks_train_set.csv', sep='^')\n",
    "test_pairs = pd.read_csv(PATH_TO_DATA_RL+'redlinks_test_set.csv', sep='^')"
   ]
  },
  {
   "cell_type": "code",
   "execution_count": 9,
   "metadata": {},
   "outputs": [
    {
     "name": "stdout",
     "output_type": "stream",
     "text": [
      "(2337270, 10)\n",
      "(620657, 10)\n"
     ]
    }
   ],
   "source": [
    "print(train_pairs.shape)\n",
    "print(test_pairs.shape)"
   ]
  },
  {
   "cell_type": "code",
   "execution_count": null,
   "metadata": {},
   "outputs": [],
   "source": []
  },
  {
   "cell_type": "markdown",
   "metadata": {},
   "source": [
    "### BN on test set"
   ]
  },
  {
   "cell_type": "code",
   "execution_count": 10,
   "metadata": {},
   "outputs": [],
   "source": [
    "sample = pd.read_pickle(PATH_TO_DATA_RL+'ukredlinks_final.pkl')"
   ]
  },
  {
   "cell_type": "code",
   "execution_count": 11,
   "metadata": {},
   "outputs": [
    {
     "data": {
      "text/plain": [
       "(3171, 14)"
      ]
     },
     "execution_count": 11,
     "metadata": {},
     "output_type": "execute_result"
    }
   ],
   "source": [
    "sample.shape"
   ]
  },
  {
   "cell_type": "code",
   "execution_count": 12,
   "metadata": {},
   "outputs": [],
   "source": [
    "red_link_name_test = test_pairs.red_link_name.unique()\n",
    "sample_test = sample[sample['red_link_name'].isin(red_link_name_test)]"
   ]
  },
  {
   "cell_type": "code",
   "execution_count": 13,
   "metadata": {},
   "outputs": [
    {
     "data": {
      "text/plain": [
       "(635, 14)"
      ]
     },
     "execution_count": 13,
     "metadata": {},
     "output_type": "execute_result"
    }
   ],
   "source": [
    "sample_test.shape"
   ]
  },
  {
   "cell_type": "code",
   "execution_count": 16,
   "metadata": {},
   "outputs": [
    {
     "name": "stdout",
     "output_type": "stream",
     "text": [
      "BabelNet result (all)\n",
      "\n",
      "FP = 15\n",
      "TN = 346\n",
      "TP = 482\n",
      "FN = 2319\n",
      "precision = 0.97\n",
      "recall = 0.172\n",
      "f1_score = 0.292\n",
      "\n",
      "BabelNet result (test)\n",
      "\n",
      "FP = 4\n",
      "TN = 65\n",
      "TP = 108\n",
      "FN = 456\n",
      "precision = 0.964\n",
      "recall = 0.191\n",
      "f1_score = 0.32\n"
     ]
    },
    {
     "data": {
      "text/plain": [
       "(0.9642857142857143, 0.19148936170212766, 0.3195266272189349)"
      ]
     },
     "execution_count": 16,
     "metadata": {},
     "output_type": "execute_result"
    }
   ],
   "source": [
    "print('BabelNet result (all)')\n",
    "print()\n",
    "utils.f1_score(sample['Evaluation_BN'])\n",
    "print()\n",
    "\n",
    "print('BabelNet result (test)')\n",
    "print()\n",
    "utils.f1_score(sample_test['Evaluation_BN'])"
   ]
  },
  {
   "cell_type": "markdown",
   "metadata": {},
   "source": [
    "### Jaccard train"
   ]
  },
  {
   "cell_type": "code",
   "execution_count": 17,
   "metadata": {},
   "outputs": [],
   "source": [
    "pick_n = 1"
   ]
  },
  {
   "cell_type": "code",
   "execution_count": 18,
   "metadata": {},
   "outputs": [],
   "source": [
    "train_res = pd.DataFrame(columns=['ground truth', 'red_link_name', 'candidate', 'true_label', 'jaccard_score'])\n",
    "grouped = train_pairs.groupby('red_link_name')\n",
    "for name, group in grouped:\n",
    "    group_sorted = group.sort_values(by=['jaccard_score'], ascending=False)\n",
    "\n",
    "    for i in range(min(group_sorted.shape[0], pick_n)):\n",
    "        new_values = {'ground truth': group_sorted.iloc[i]['ground truth'], \n",
    "                          'red_link_name': group_sorted.iloc[i]['red_link_name'], \n",
    "                          'candidate': group_sorted.iloc[i]['candidate'], \n",
    "                          'true_label': group_sorted.iloc[i]['true_label'], \n",
    "                          'jaccard_score': group_sorted.iloc[i]['jaccard_score']}\n",
    "        train_res = train_res.append(new_values, ignore_index=True)"
   ]
  },
  {
   "cell_type": "code",
   "execution_count": 19,
   "metadata": {},
   "outputs": [
    {
     "name": "stdout",
     "output_type": "stream",
     "text": [
      "FP = 1534\n",
      "TN = 555\n",
      "TP = 292\n",
      "FN = 155\n",
      "precision = 0.16\n",
      "recall = 0.653\n",
      "f1_score = 0.257\n"
     ]
    }
   ],
   "source": [
    "# one item\n",
    "train_res_copy = train_res.copy()\n",
    "\n",
    "threshold = 0.26\n",
    "train_res_copy['prediction'] = train_res.jaccard_score > threshold\n",
    "\n",
    "res_np = np.zeros(train_res_copy.shape[0]).astype(np.str)\n",
    "res_np[(train_res_copy.true_label) & (train_res_copy.prediction)] = 'TP'\n",
    "res_np[(train_res_copy.true_label == False) & (train_res_copy.prediction)] = 'FP'\n",
    "res_np[(train_res_copy.true_label == False) & (train_res_copy.prediction == False)] ='TN'\n",
    "res_np[(train_res_copy.true_label) & (train_res_copy.prediction == False)] = 'FN'\n",
    "\n",
    "train_res_copy['eval'] = res_np\n",
    "\n",
    "p, r, f1 = utils.f1_score(train_res_copy['eval'])"
   ]
  },
  {
   "cell_type": "code",
   "execution_count": 91,
   "metadata": {},
   "outputs": [],
   "source": [
    "n = 101\n",
    "ts = np.linspace(0, 1, n) # thresholds\n",
    "ps = np.zeros(n)\n",
    "rs = np.zeros(n)\n",
    "fs = np.zeros(n)\n",
    "for (i,t) in enumerate(ts):\n",
    "    \n",
    "    train_res_copy = train_res.copy()\n",
    "\n",
    "    threshold = t\n",
    "    train_res_copy['prediction'] = train_res.jaccard_score > threshold\n",
    "\n",
    "    res_np = np.zeros(train_res_copy.shape[0]).astype(np.str)\n",
    "    res_np[(train_res_copy.true_label) & (train_res_copy.prediction)] = 'TP'\n",
    "    res_np[(train_res_copy.true_label == False) & (train_res_copy.prediction)] = 'FP'\n",
    "    res_np[(train_res_copy.true_label == False) & (train_res_copy.prediction == False)] ='TN'\n",
    "    res_np[(train_res_copy.true_label) & (train_res_copy.prediction == False)] = 'FN'\n",
    "\n",
    "    train_res_copy['eval'] = res_np\n",
    "\n",
    "    p, r, f = functions.f1_score(train_res_copy['eval'], with_print=False)\n",
    "    \n",
    "    ps[i] = p\n",
    "    rs[i] = r\n",
    "    fs[i] = f"
   ]
  },
  {
   "cell_type": "code",
   "execution_count": 97,
   "metadata": {},
   "outputs": [
    {
     "data": {
      "text/plain": [
       "<matplotlib.legend.Legend at 0x7f5fa51d96a0>"
      ]
     },
     "execution_count": 97,
     "metadata": {},
     "output_type": "execute_result"
    },
    {
     "data": {
      "image/png": "[encoded data removed]",
      "text/plain": [
       "<Figure size 432x288 with 1 Axes>"
      ]
     },
     "metadata": {
      "needs_background": "light"
     },
     "output_type": "display_data"
    }
   ],
   "source": [
    "plt.plot(ts, fs, label='F_1 score')\n",
    "plt.plot(ts, rs, label='recall')\n",
    "plt.plot(ts, ps, label='precision')\n",
    "plt.xlabel('Jaccard Score', fontsize=14)\n",
    "plt.ylabel('Evaluation metrics score', fontsize=14)\n",
    "plt.legend()"
   ]
  },
  {
   "cell_type": "code",
   "execution_count": 211,
   "metadata": {},
   "outputs": [
    {
     "data": {
      "text/plain": [
       "array([0.29969829, 0.27697715, 0.25416365, 0.24807903, 0.24631268,\n",
       "       0.24377555, 0.24276588, 0.2419416 , 0.24272588, 0.24410969,\n",
       "       0.24601012, 0.24726135, 0.24831949, 0.2504    , 0.25191147,\n",
       "       0.25333873, 0.25457503, 0.25450082, 0.25556472, 0.25643154,\n",
       "       0.2556391 , 0.25348542, 0.25308905, 0.25385935, 0.25399568,\n",
       "       0.25502183, 0.25692917, 0.25579323, 0.25562556, 0.25399726,\n",
       "       0.24651163, 0.24677188, 0.24132877, 0.23236936, 0.21778012,\n",
       "       0.21651176, 0.20169014, 0.19529006, 0.18579882, 0.16521739,\n",
       "       0.15070243, 0.13675214, 0.12920592, 0.12361111, 0.10655148,\n",
       "       0.0987285 , 0.08662026, 0.07460317, 0.0555102 , 0.04187605,\n",
       "       0.02749141, 0.02753873, 0.01926445, 0.01771479, 0.01269266,\n",
       "       0.00743494, 0.00585366, 0.00628931, 0.00451977, 0.        ,\n",
       "       0.        , 0.        , 0.        , 0.        , 0.        ,\n",
       "       0.        , 0.        , 0.        , 0.        , 0.        ,\n",
       "       0.        , 0.        , 0.        , 0.        , 0.        ,\n",
       "       0.        , 0.        , 0.        , 0.        , 0.        ,\n",
       "       0.        , 0.        , 0.        , 0.        , 0.        ,\n",
       "       0.        , 0.        , 0.        , 0.        , 0.        ,\n",
       "       0.        , 0.        , 0.        , 0.        , 0.        ,\n",
       "       0.        , 0.        , 0.        , 0.        , 0.        ,\n",
       "       0.        ])"
      ]
     },
     "execution_count": 211,
     "metadata": {},
     "output_type": "execute_result"
    }
   ],
   "source": [
    "fs"
   ]
  },
  {
   "cell_type": "code",
   "execution_count": 212,
   "metadata": {},
   "outputs": [
    {
     "name": "stdout",
     "output_type": "stream",
     "text": [
      "best f1 (train):  0.25692916849978004\n",
      "best threshold (train):  0.26\n"
     ]
    }
   ],
   "source": [
    "index_start = 2\n",
    "best_f1_index = np.argmax(fs[index_start:]) + index_start\n",
    "print(\"best f1 (train): \", fs[best_f1_index])\n",
    "print(\"best threshold (train): \", ts[best_f1_index])"
   ]
  },
  {
   "cell_type": "code",
   "execution_count": 213,
   "metadata": {},
   "outputs": [
    {
     "data": {
      "text/plain": [
       "<matplotlib.legend.Legend at 0x7fe0880c8c50>"
      ]
     },
     "execution_count": 213,
     "metadata": {},
     "output_type": "execute_result"
    },
    {
     "data": {
      "image/png": "[encoded data removed]",
      "text/plain": [
       "<Figure size 432x288 with 1 Axes>"
      ]
     },
     "metadata": {
      "needs_background": "light"
     },
     "output_type": "display_data"
    }
   ],
   "source": [
    "plt.plot(ts[2:], fs[2:], label='f')\n",
    "plt.plot(ts[2:], rs[2:], label='r')\n",
    "plt.plot(ts[2:], ps[2:], label='p')\n",
    "plt.legend()"
   ]
  },
  {
   "cell_type": "code",
   "execution_count": null,
   "metadata": {},
   "outputs": [],
   "source": []
  },
  {
   "cell_type": "markdown",
   "metadata": {},
   "source": [
    "### Jaccard test"
   ]
  },
  {
   "cell_type": "code",
   "execution_count": 20,
   "metadata": {},
   "outputs": [],
   "source": [
    "pick_n = 1"
   ]
  },
  {
   "cell_type": "code",
   "execution_count": 21,
   "metadata": {},
   "outputs": [],
   "source": [
    "test_res = pd.DataFrame(columns=['ground truth', 'red_link_name', 'candidate', 'true_label', 'jaccard_score'])\n",
    "grouped = test_pairs.groupby('red_link_name')\n",
    "for name, group in grouped:\n",
    "    group_sorted = group.sort_values(by=['jaccard_score'], ascending=False)\n",
    "\n",
    "    for i in range(min(group_sorted.shape[0], pick_n)):\n",
    "        new_values = {'ground truth': group_sorted.iloc[i]['ground truth'], \n",
    "                          'red_link_name': group_sorted.iloc[i]['red_link_name'], \n",
    "                          'candidate': group_sorted.iloc[i]['candidate'], \n",
    "                          'true_label': group_sorted.iloc[i]['true_label'], \n",
    "                          'jaccard_score': group_sorted.iloc[i]['jaccard_score']}\n",
    "        test_res = test_res.append(new_values, ignore_index=True)"
   ]
  },
  {
   "cell_type": "code",
   "execution_count": 23,
   "metadata": {},
   "outputs": [
    {
     "name": "stdout",
     "output_type": "stream",
     "text": [
      "FP = 385\n",
      "TN = 149\n",
      "TP = 64\n",
      "FN = 37\n",
      "precision = 0.143\n",
      "recall = 0.634\n",
      "f1_score = 0.233\n"
     ]
    }
   ],
   "source": [
    "# one item\n",
    "test_res_copy = test_res.copy()\n",
    "\n",
    "threshold = 0.26\n",
    "test_res_copy['prediction'] = test_res.jaccard_score > threshold\n",
    "\n",
    "res_np = np.zeros(test_res_copy.shape[0]).astype(np.str)\n",
    "res_np[(test_res_copy.true_label) & (test_res_copy.prediction)] = 'TP'\n",
    "res_np[(test_res_copy.true_label == False) & (test_res_copy.prediction)] = 'FP'\n",
    "res_np[(test_res_copy.true_label == False) & (test_res_copy.prediction == False)] ='TN'\n",
    "res_np[(test_res_copy.true_label) & (test_res_copy.prediction == False)] = 'FN'\n",
    "\n",
    "test_res_copy['eval'] = res_np\n",
    "\n",
    "p, r, f1 = utils.f1_score(test_res_copy['eval'])"
   ]
  },
  {
   "cell_type": "code",
   "execution_count": 11,
   "metadata": {},
   "outputs": [],
   "source": [
    "n = 101\n",
    "ts = np.linspace(0, 1, n) # thresholds\n",
    "ps = np.zeros(n)\n",
    "rs = np.zeros(n)\n",
    "fs = np.zeros(n)\n",
    "for (i,t) in enumerate(ts):\n",
    "    \n",
    "    test_res_copy = test_res.copy()\n",
    "\n",
    "    threshold = t\n",
    "    test_res_copy['prediction'] = test_res.jaccard_score > threshold\n",
    "\n",
    "    res_np = np.zeros(test_res_copy.shape[0]).astype(np.str)\n",
    "    res_np[(test_res_copy.true_label) & (test_res_copy.prediction)] = 'TP'\n",
    "    res_np[(test_res_copy.true_label == False) & (test_res_copy.prediction)] = 'FP'\n",
    "    res_np[(test_res_copy.true_label == False) & (test_res_copy.prediction == False)] ='TN'\n",
    "    res_np[(test_res_copy.true_label) & (test_res_copy.prediction == False)] = 'FN'\n",
    "\n",
    "    test_res_copy['eval'] = res_np\n",
    "\n",
    "    p, r, f = functions.f1_score(test_res_copy['eval'], with_print=False)\n",
    "    \n",
    "    ps[i] = p\n",
    "    rs[i] = r\n",
    "    fs[i] = f"
   ]
  },
  {
   "cell_type": "code",
   "execution_count": 12,
   "metadata": {},
   "outputs": [
    {
     "data": {
      "text/plain": [
       "<matplotlib.legend.Legend at 0x7f5fbfd75668>"
      ]
     },
     "execution_count": 12,
     "metadata": {},
     "output_type": "execute_result"
    },
    {
     "data": {
      "image/png": "[encoded data removed]",
      "text/plain": [
       "<Figure size 432x288 with 1 Axes>"
      ]
     },
     "metadata": {
      "needs_background": "light"
     },
     "output_type": "display_data"
    }
   ],
   "source": [
    "plt.plot(ts, fs, label='f')\n",
    "plt.plot(ts, rs, label='r')\n",
    "plt.plot(ts, ps, label='p')\n",
    "plt.legend()"
   ]
  },
  {
   "cell_type": "code",
   "execution_count": 14,
   "metadata": {},
   "outputs": [
    {
     "name": "stdout",
     "output_type": "stream",
     "text": [
      "best f1 (train):  0.2434782608695652\n",
      "best threshold (train):  0.22\n"
     ]
    }
   ],
   "source": [
    "index_start = 2\n",
    "best_f1_index = np.argmax(fs[index_start:]) + index_start\n",
    "print(\"best f1 (train): \", fs[best_f1_index])\n",
    "print(\"best threshold (train): \", ts[best_f1_index])"
   ]
  },
  {
   "cell_type": "code",
   "execution_count": null,
   "metadata": {},
   "outputs": [],
   "source": []
  },
  {
   "cell_type": "code",
   "execution_count": null,
   "metadata": {},
   "outputs": [],
   "source": []
  },
  {
   "cell_type": "markdown",
   "metadata": {},
   "source": [
    "### Levenstein train"
   ]
  },
  {
   "cell_type": "code",
   "execution_count": null,
   "metadata": {},
   "outputs": [],
   "source": []
  },
  {
   "cell_type": "code",
   "execution_count": 124,
   "metadata": {},
   "outputs": [],
   "source": [
    "pick_n = 1"
   ]
  },
  {
   "cell_type": "code",
   "execution_count": null,
   "metadata": {},
   "outputs": [],
   "source": []
  },
  {
   "cell_type": "code",
   "execution_count": 125,
   "metadata": {},
   "outputs": [],
   "source": [
    "train_res = pd.DataFrame(columns=['ground truth', 'red_link_name', 'candidate', 'true_label', 'levenstein_score'])\n",
    "grouped = train_pairs.groupby('red_link_name')\n",
    "for name, group in grouped:\n",
    "    group_sorted = group.sort_values(by=['levenstein_score'], ascending=True)\n",
    "\n",
    "    for i in range(min(group_sorted.shape[0], pick_n)):\n",
    "        new_values = {'ground truth': group_sorted.iloc[i]['ground truth'], \n",
    "                          'red_link_name': group_sorted.iloc[i]['red_link_name'], \n",
    "                          'candidate': group_sorted.iloc[i]['candidate'], \n",
    "                          'true_label': group_sorted.iloc[i]['true_label'], \n",
    "                          'levenstein_score': group_sorted.iloc[i]['levenstein_score']}\n",
    "        train_res = train_res.append(new_values, ignore_index=True)"
   ]
  },
  {
   "cell_type": "code",
   "execution_count": null,
   "metadata": {},
   "outputs": [],
   "source": []
  },
  {
   "cell_type": "code",
   "execution_count": 230,
   "metadata": {},
   "outputs": [
    {
     "name": "stdout",
     "output_type": "stream",
     "text": [
      "FP = 3623\n",
      "TN = 179\n",
      "TP = 349\n",
      "FN = 899\n",
      "precision = 0.087865055387714\n",
      "recall = 0.2796474358974359\n",
      "f1_score = 0.13371647509578544\n"
     ]
    }
   ],
   "source": [
    "# one item\n",
    "train_res_copy = train_res.copy()\n",
    "\n",
    "threshold = 0.26\n",
    "train_res_copy['prediction'] = train_res.levenstein_score > threshold\n",
    "\n",
    "res_np = np.zeros(train_res_copy.shape[0]).astype(np.str)\n",
    "res_np[(train_res_copy.true_label) & (train_res_copy.prediction)] = 'TP'\n",
    "res_np[(train_res_copy.true_label == False) & (train_res_copy.prediction)] = 'FP'\n",
    "res_np[(train_res_copy.true_label == False) & (train_res_copy.prediction == False)] ='TN'\n",
    "res_np[(train_res_copy.true_label) & (train_res_copy.prediction == False)] = 'FN'\n",
    "\n",
    "train_res_copy['eval'] = res_np\n",
    "\n",
    "p, r, f1 = functions.f1_score(train_res_copy['eval'])"
   ]
  },
  {
   "cell_type": "code",
   "execution_count": 126,
   "metadata": {},
   "outputs": [],
   "source": [
    "n = 101\n",
    "ts = np.linspace(0, 1, n) # thresholds\n",
    "ps = np.zeros(n)\n",
    "rs = np.zeros(n)\n",
    "fs = np.zeros(n)\n",
    "for (i,t) in enumerate(ts):\n",
    "    \n",
    "    train_res_copy = train_res.copy()\n",
    "\n",
    "    threshold = t\n",
    "    train_res_copy['prediction'] = train_res.levenstein_score > threshold\n",
    "\n",
    "    res_np = np.zeros(train_res_copy.shape[0]).astype(np.str)\n",
    "    res_np[(train_res_copy.true_label) & (train_res_copy.prediction)] = 'TP'\n",
    "    res_np[(train_res_copy.true_label == False) & (train_res_copy.prediction)] = 'FP'\n",
    "    res_np[(train_res_copy.true_label == False) & (train_res_copy.prediction == False)] ='TN'\n",
    "    res_np[(train_res_copy.true_label) & (train_res_copy.prediction == False)] = 'FN'\n",
    "\n",
    "    train_res_copy['eval'] = res_np\n",
    "\n",
    "    p, r, f = functions.f1_score(train_res_copy['eval'], with_print=False)\n",
    "    \n",
    "    ps[i] = p\n",
    "    rs[i] = r\n",
    "    fs[i] = f"
   ]
  },
  {
   "cell_type": "code",
   "execution_count": 127,
   "metadata": {},
   "outputs": [
    {
     "data": {
      "text/plain": [
       "<matplotlib.legend.Legend at 0x7f5fb1359860>"
      ]
     },
     "execution_count": 127,
     "metadata": {},
     "output_type": "execute_result"
    },
    {
     "data": {
      "image/png": "[encoded data removed]",
      "text/plain": [
       "<Figure size 432x288 with 1 Axes>"
      ]
     },
     "metadata": {
      "needs_background": "light"
     },
     "output_type": "display_data"
    }
   ],
   "source": [
    "plt.plot(ts, fs, label='F_1 score')\n",
    "plt.plot(ts, rs, label='recall')\n",
    "plt.plot(ts, ps, label='precision')\n",
    "plt.xlabel('Levenshtein Score', fontsize=14)\n",
    "plt.ylabel('Evaluation metrics score', fontsize=14)\n",
    "plt.legend()"
   ]
  },
  {
   "cell_type": "code",
   "execution_count": 128,
   "metadata": {},
   "outputs": [
    {
     "name": "stdout",
     "output_type": "stream",
     "text": [
      "best f1 (train):  0.38804071246819344\n",
      "best threshold (train):  0.0\n"
     ]
    }
   ],
   "source": [
    "index_start = 0\n",
    "best_f1_index = np.argmax(fs[index_start:]) + index_start\n",
    "print(\"best f1 (train): \", fs[best_f1_index])\n",
    "print(\"best threshold (train): \", ts[best_f1_index])"
   ]
  },
  {
   "cell_type": "code",
   "execution_count": 236,
   "metadata": {},
   "outputs": [
    {
     "data": {
      "text/plain": [
       "<matplotlib.legend.Legend at 0x7fe085acadd8>"
      ]
     },
     "execution_count": 236,
     "metadata": {},
     "output_type": "execute_result"
    },
    {
     "data": {
      "image/png": "[encoded data removed]",
      "text/plain": [
       "<Figure size 432x288 with 1 Axes>"
      ]
     },
     "metadata": {
      "needs_background": "light"
     },
     "output_type": "display_data"
    }
   ],
   "source": [
    "plt.plot(ts[2:], fs[2:], label='f')\n",
    "plt.plot(ts[2:], rs[2:], label='r')\n",
    "plt.plot(ts[2:], ps[2:], label='p')\n",
    "plt.legend()"
   ]
  },
  {
   "cell_type": "code",
   "execution_count": null,
   "metadata": {},
   "outputs": [],
   "source": []
  },
  {
   "cell_type": "markdown",
   "metadata": {},
   "source": [
    "### Levenstein test"
   ]
  },
  {
   "cell_type": "code",
   "execution_count": 24,
   "metadata": {},
   "outputs": [],
   "source": [
    "pick_n = 1"
   ]
  },
  {
   "cell_type": "code",
   "execution_count": 25,
   "metadata": {},
   "outputs": [],
   "source": [
    "test_res = pd.DataFrame(columns=['ground truth', 'red_link_name', 'candidate', 'true_label', 'levenstein_score'])\n",
    "grouped = test_pairs.groupby('red_link_name')\n",
    "for name, group in grouped:\n",
    "    group_sorted = group.sort_values(by=['levenstein_score'], ascending=True)\n",
    "\n",
    "    for i in range(min(group_sorted.shape[0], pick_n)):\n",
    "        new_values = {'ground truth': group_sorted.iloc[i]['ground truth'], \n",
    "                          'red_link_name': group_sorted.iloc[i]['red_link_name'], \n",
    "                          'candidate': group_sorted.iloc[i]['candidate'], \n",
    "                          'true_label': group_sorted.iloc[i]['true_label'], \n",
    "                          'levenstein_score': group_sorted.iloc[i]['levenstein_score']}\n",
    "        test_res = test_res.append(new_values, ignore_index=True)"
   ]
  },
  {
   "cell_type": "code",
   "execution_count": 28,
   "metadata": {},
   "outputs": [
    {
     "name": "stdout",
     "output_type": "stream",
     "text": [
      "FP = 295\n",
      "TN = 24\n",
      "TP = 41\n",
      "FN = 275\n",
      "precision = 0.122\n",
      "recall = 0.13\n",
      "f1_score = 0.126\n"
     ]
    }
   ],
   "source": [
    "# one item\n",
    "test_res_copy = test_res.copy()\n",
    "\n",
    "threshold = 0.39\n",
    "test_res_copy['prediction'] = test_res.levenstein_score > threshold\n",
    "\n",
    "res_np = np.zeros(test_res_copy.shape[0]).astype(np.str)\n",
    "res_np[(test_res_copy.true_label) & (test_res_copy.prediction)] = 'TP'\n",
    "res_np[(test_res_copy.true_label == False) & (test_res_copy.prediction)] = 'FP'\n",
    "res_np[(test_res_copy.true_label == False) & (test_res_copy.prediction == False)] ='TN'\n",
    "res_np[(test_res_copy.true_label) & (test_res_copy.prediction == False)] = 'FN'\n",
    "\n",
    "test_res_copy['eval'] = res_np\n",
    "\n",
    "p, r, f1 = utils.f1_score(test_res_copy['eval'])"
   ]
  },
  {
   "cell_type": "code",
   "execution_count": 17,
   "metadata": {},
   "outputs": [],
   "source": [
    "n = 101\n",
    "ts = np.linspace(0, 1, n) # thresholds\n",
    "ps = np.zeros(n)\n",
    "rs = np.zeros(n)\n",
    "fs = np.zeros(n)\n",
    "for (i,t) in enumerate(ts):\n",
    "    \n",
    "    test_res_copy = test_res.copy()\n",
    "\n",
    "    threshold = t\n",
    "    test_res_copy['prediction'] = test_res.levenstein_score > threshold\n",
    "\n",
    "    res_np = np.zeros(test_res_copy.shape[0]).astype(np.str)\n",
    "    res_np[(test_res_copy.true_label) & (test_res_copy.prediction)] = 'TP'\n",
    "    res_np[(test_res_copy.true_label == False) & (test_res_copy.prediction)] = 'FP'\n",
    "    res_np[(test_res_copy.true_label == False) & (test_res_copy.prediction == False)] ='TN'\n",
    "    res_np[(test_res_copy.true_label) & (test_res_copy.prediction == False)] = 'FN'\n",
    "\n",
    "    test_res_copy['eval'] = res_np\n",
    "\n",
    "    p, r, f = functions.f1_score(test_res_copy['eval'], with_print=False)\n",
    "    \n",
    "    ps[i] = p\n",
    "    rs[i] = r\n",
    "    fs[i] = f"
   ]
  },
  {
   "cell_type": "code",
   "execution_count": 20,
   "metadata": {
    "scrolled": true
   },
   "outputs": [
    {
     "data": {
      "text/plain": [
       "<matplotlib.legend.Legend at 0x7f5fbfc96d68>"
      ]
     },
     "execution_count": 20,
     "metadata": {},
     "output_type": "execute_result"
    },
    {
     "data": {
      "image/png": "[encoded data removed]",
      "text/plain": [
       "<Figure size 432x288 with 1 Axes>"
      ]
     },
     "metadata": {
      "needs_background": "light"
     },
     "output_type": "display_data"
    }
   ],
   "source": [
    "plt.plot(ts, fs, label='f')\n",
    "plt.plot(ts, rs, label='r')\n",
    "plt.plot(ts, ps, label='p')\n",
    "plt.legend()"
   ]
  },
  {
   "cell_type": "code",
   "execution_count": 21,
   "metadata": {},
   "outputs": [
    {
     "name": "stdout",
     "output_type": "stream",
     "text": [
      "best f1 (train):  0.3883248730964467\n",
      "best threshold (train):  0.0\n"
     ]
    }
   ],
   "source": [
    "index_start = 0\n",
    "best_f1_index = np.argmax(fs[index_start:]) + index_start\n",
    "print(\"best f1 (train): \", fs[best_f1_index])\n",
    "print(\"best threshold (train): \", ts[best_f1_index])"
   ]
  },
  {
   "cell_type": "code",
   "execution_count": null,
   "metadata": {},
   "outputs": [],
   "source": []
  },
  {
   "cell_type": "markdown",
   "metadata": {},
   "source": [
    "### Concurrent train"
   ]
  },
  {
   "cell_type": "code",
   "execution_count": 103,
   "metadata": {},
   "outputs": [],
   "source": [
    "pick_n = 1"
   ]
  },
  {
   "cell_type": "code",
   "execution_count": null,
   "metadata": {},
   "outputs": [],
   "source": []
  },
  {
   "cell_type": "code",
   "execution_count": 104,
   "metadata": {},
   "outputs": [],
   "source": [
    "train_res = pd.DataFrame(columns=['ground truth', 'red_link_name', 'candidate', 'true_label', 'concur_score'])\n",
    "grouped = train_pairs.groupby('red_link_name')\n",
    "for name, group in grouped:\n",
    "    group_sorted = group.sort_values(by=['concur_score'], ascending=False)\n",
    "\n",
    "    for i in range(min(group_sorted.shape[0], pick_n)):\n",
    "        new_values = {'ground truth': group_sorted.iloc[i]['ground truth'], \n",
    "                          'red_link_name': group_sorted.iloc[i]['red_link_name'], \n",
    "                          'candidate': group_sorted.iloc[i]['candidate'], \n",
    "                          'true_label': group_sorted.iloc[i]['true_label'], \n",
    "                          'concur_score': group_sorted.iloc[i]['concur_score']}\n",
    "        train_res = train_res.append(new_values, ignore_index=True)"
   ]
  },
  {
   "cell_type": "code",
   "execution_count": null,
   "metadata": {},
   "outputs": [],
   "source": []
  },
  {
   "cell_type": "code",
   "execution_count": 248,
   "metadata": {},
   "outputs": [
    {
     "name": "stdout",
     "output_type": "stream",
     "text": [
      "FP = 129\n",
      "TN = 4843\n",
      "TP = 4\n",
      "FN = 74\n",
      "precision = 0.03007518796992481\n",
      "recall = 0.05128205128205128\n",
      "f1_score = 0.037914691943127965\n"
     ]
    }
   ],
   "source": [
    "# one item\n",
    "train_res_copy = train_res.copy()\n",
    "\n",
    "threshold = 0.26\n",
    "train_res_copy['prediction'] = train_res.concur_score > threshold\n",
    "\n",
    "res_np = np.zeros(train_res_copy.shape[0]).astype(np.str)\n",
    "res_np[(train_res_copy.true_label) & (train_res_copy.prediction)] = 'TP'\n",
    "res_np[(train_res_copy.true_label == False) & (train_res_copy.prediction)] = 'FP'\n",
    "res_np[(train_res_copy.true_label == False) & (train_res_copy.prediction == False)] ='TN'\n",
    "res_np[(train_res_copy.true_label) & (train_res_copy.prediction == False)] = 'FN'\n",
    "\n",
    "train_res_copy['eval'] = res_np\n",
    "\n",
    "p, r, f1 = functions.f1_score(train_res_copy['eval'])"
   ]
  },
  {
   "cell_type": "code",
   "execution_count": 105,
   "metadata": {},
   "outputs": [],
   "source": [
    "n = 101\n",
    "ts = np.linspace(0, 1, n) # thresholds\n",
    "ps = np.zeros(n)\n",
    "rs = np.zeros(n)\n",
    "fs = np.zeros(n)\n",
    "for (i,t) in enumerate(ts):\n",
    "    \n",
    "    train_res_copy = train_res.copy()\n",
    "\n",
    "    threshold = t\n",
    "    train_res_copy['prediction'] = train_res.concur_score > threshold\n",
    "\n",
    "    res_np = np.zeros(train_res_copy.shape[0]).astype(np.str)\n",
    "    res_np[(train_res_copy.true_label) & (train_res_copy.prediction)] = 'TP'\n",
    "    res_np[(train_res_copy.true_label == False) & (train_res_copy.prediction)] = 'FP'\n",
    "    res_np[(train_res_copy.true_label == False) & (train_res_copy.prediction == False)] ='TN'\n",
    "    res_np[(train_res_copy.true_label) & (train_res_copy.prediction == False)] = 'FN'\n",
    "\n",
    "    train_res_copy['eval'] = res_np\n",
    "\n",
    "    p, r, f = functions.f1_score(train_res_copy['eval'], with_print=False)\n",
    "    \n",
    "    ps[i] = p\n",
    "    rs[i] = r\n",
    "    fs[i] = f"
   ]
  },
  {
   "cell_type": "code",
   "execution_count": 106,
   "metadata": {},
   "outputs": [
    {
     "data": {
      "text/plain": [
       "<matplotlib.legend.Legend at 0x7f5fa5340128>"
      ]
     },
     "execution_count": 106,
     "metadata": {},
     "output_type": "execute_result"
    },
    {
     "data": {
      "image/png": "[encoded data removed]",
      "text/plain": [
       "<Figure size 432x288 with 1 Axes>"
      ]
     },
     "metadata": {
      "needs_background": "light"
     },
     "output_type": "display_data"
    }
   ],
   "source": [
    "plt.plot(ts, fs, label='F_1 score')\n",
    "plt.plot(ts, rs, label='recall')\n",
    "plt.plot(ts, ps, label='precision')\n",
    "plt.xlabel('Jaccard Score', fontsize=14)\n",
    "plt.ylabel('Evaluation metrics score', fontsize=14)\n",
    "plt.legend()"
   ]
  },
  {
   "cell_type": "code",
   "execution_count": 107,
   "metadata": {},
   "outputs": [
    {
     "data": {
      "text/plain": [
       "array([0.04095827, 0.03639441, 0.03157895, 0.03116652, 0.02756086,\n",
       "       0.02724284, 0.03459321, 0.03058511, 0.03214535, 0.03437967,\n",
       "       0.03885135, 0.0436019 , 0.04259851, 0.04398148, 0.04188482,\n",
       "       0.04360465, 0.04304636, 0.04571429, 0.04954955, 0.05449591,\n",
       "       0.05369128, 0.05217391, 0.05405405, 0.05333333, 0.05755396,\n",
       "       0.06153846, 0.064     , 0.05      , 0.05042017, 0.05128205,\n",
       "       0.05128205, 0.05128205, 0.05309735, 0.05405405, 0.05607477,\n",
       "       0.05714286, 0.06521739, 0.09230769, 0.10169492, 0.10344828,\n",
       "       0.10344828, 0.10344828, 0.10344828, 0.10344828, 0.10344828,\n",
       "       0.07017544, 0.07017544, 0.07017544, 0.07017544, 0.03703704,\n",
       "       0.03703704, 0.03703704, 0.        , 0.        , 0.        ,\n",
       "       0.        , 0.        , 0.        , 0.        , 0.        ,\n",
       "       0.        , 0.        , 0.        , 0.        , 0.        ,\n",
       "       0.        , 0.        , 0.        , 0.        , 0.        ,\n",
       "       0.        , 0.        , 0.        , 0.        , 0.        ,\n",
       "       0.        , 0.        , 0.        , 0.        , 0.        ,\n",
       "       0.        , 0.        , 0.        , 0.        , 0.        ,\n",
       "       0.        , 0.        , 0.        , 0.        , 0.        ,\n",
       "       0.        , 0.        , 0.        , 0.        , 0.        ,\n",
       "       0.        , 0.        , 0.        , 0.        , 0.        ,\n",
       "       0.        ])"
      ]
     },
     "execution_count": 107,
     "metadata": {},
     "output_type": "execute_result"
    }
   ],
   "source": [
    "fs"
   ]
  },
  {
   "cell_type": "code",
   "execution_count": 108,
   "metadata": {},
   "outputs": [
    {
     "name": "stdout",
     "output_type": "stream",
     "text": [
      "best f1 (train):  0.10344827586206896\n",
      "best threshold (train):  0.39\n"
     ]
    }
   ],
   "source": [
    "index_start = 0\n",
    "best_f1_index = np.argmax(fs[index_start:]) + index_start\n",
    "print(\"best f1 (train): \", fs[best_f1_index])\n",
    "print(\"best threshold (train): \", ts[best_f1_index])"
   ]
  },
  {
   "cell_type": "code",
   "execution_count": 253,
   "metadata": {},
   "outputs": [
    {
     "data": {
      "text/plain": [
       "<matplotlib.legend.Legend at 0x7fe087e415f8>"
      ]
     },
     "execution_count": 253,
     "metadata": {},
     "output_type": "execute_result"
    },
    {
     "data": {
      "image/png": "[encoded data removed]",
      "text/plain": [
       "<Figure size 432x288 with 1 Axes>"
      ]
     },
     "metadata": {
      "needs_background": "light"
     },
     "output_type": "display_data"
    }
   ],
   "source": [
    "plt.plot(ts[2:], fs[2:], label='f')\n",
    "plt.plot(ts[2:], rs[2:], label='r')\n",
    "plt.plot(ts[2:], ps[2:], label='p')\n",
    "plt.legend()"
   ]
  },
  {
   "cell_type": "code",
   "execution_count": null,
   "metadata": {},
   "outputs": [],
   "source": []
  },
  {
   "cell_type": "markdown",
   "metadata": {},
   "source": [
    "### Concurrent test"
   ]
  },
  {
   "cell_type": "code",
   "execution_count": 29,
   "metadata": {},
   "outputs": [],
   "source": [
    "pick_n = 1"
   ]
  },
  {
   "cell_type": "code",
   "execution_count": 30,
   "metadata": {},
   "outputs": [],
   "source": [
    "test_res = pd.DataFrame(columns=['ground truth', 'red_link_name', 'candidate', 'true_label', 'concur_score'])\n",
    "grouped = test_pairs.groupby('red_link_name')\n",
    "for name, group in grouped:\n",
    "    group_sorted = group.sort_values(by=['concur_score'], ascending=False)\n",
    "\n",
    "    for i in range(min(group_sorted.shape[0], pick_n)):\n",
    "        new_values = {'ground truth': group_sorted.iloc[i]['ground truth'], \n",
    "                          'red_link_name': group_sorted.iloc[i]['red_link_name'], \n",
    "                          'candidate': group_sorted.iloc[i]['candidate'], \n",
    "                          'true_label': group_sorted.iloc[i]['true_label'], \n",
    "                          'concur_score': group_sorted.iloc[i]['concur_score']}\n",
    "        test_res = test_res.append(new_values, ignore_index=True)"
   ]
  },
  {
   "cell_type": "code",
   "execution_count": 32,
   "metadata": {},
   "outputs": [
    {
     "name": "stdout",
     "output_type": "stream",
     "text": [
      "FP = 263\n",
      "TN = 360\n",
      "TP = 2\n",
      "FN = 10\n",
      "precision = 0.008\n",
      "recall = 0.167\n",
      "f1_score = 0.014\n"
     ]
    }
   ],
   "source": [
    "# one item\n",
    "test_res_copy = test_res.copy()\n",
    "\n",
    "threshold = 0.10\n",
    "test_res_copy['prediction'] = test_res.concur_score > threshold\n",
    "\n",
    "res_np = np.zeros(test_res_copy.shape[0]).astype(np.str)\n",
    "res_np[(test_res_copy.true_label) & (test_res_copy.prediction)] = 'TP'\n",
    "res_np[(test_res_copy.true_label == False) & (test_res_copy.prediction)] = 'FP'\n",
    "res_np[(test_res_copy.true_label == False) & (test_res_copy.prediction == False)] ='TN'\n",
    "res_np[(test_res_copy.true_label) & (test_res_copy.prediction == False)] = 'FN'\n",
    "\n",
    "test_res_copy['eval'] = res_np\n",
    "\n",
    "p, r, f1 = utils.f1_score(test_res_copy['eval'])"
   ]
  },
  {
   "cell_type": "code",
   "execution_count": 121,
   "metadata": {},
   "outputs": [],
   "source": [
    "n = 101\n",
    "ts = np.linspace(0, 1, n) # thresholds\n",
    "ps = np.zeros(n)\n",
    "rs = np.zeros(n)\n",
    "fs = np.zeros(n)\n",
    "for (i,t) in enumerate(ts):\n",
    "    \n",
    "    test_res_copy = test_res.copy()\n",
    "\n",
    "    threshold = t\n",
    "    test_res_copy['prediction'] = test_res.concur_score > threshold\n",
    "\n",
    "    res_np = np.zeros(test_res_copy.shape[0]).astype(np.str)\n",
    "    res_np[(test_res_copy.true_label) & (test_res_copy.prediction)] = 'TP'\n",
    "    res_np[(test_res_copy.true_label == False) & (test_res_copy.prediction)] = 'FP'\n",
    "    res_np[(test_res_copy.true_label == False) & (test_res_copy.prediction == False)] ='TN'\n",
    "    res_np[(test_res_copy.true_label) & (test_res_copy.prediction == False)] = 'FN'\n",
    "\n",
    "    test_res_copy['eval'] = res_np\n",
    "\n",
    "    p, r, f = functions.f1_score(test_res_copy['eval'], with_print=False)\n",
    "    \n",
    "    ps[i] = p\n",
    "    rs[i] = r\n",
    "    fs[i] = f"
   ]
  },
  {
   "cell_type": "code",
   "execution_count": 122,
   "metadata": {
    "scrolled": true
   },
   "outputs": [
    {
     "data": {
      "text/plain": [
       "<matplotlib.legend.Legend at 0x7f5faba2fac8>"
      ]
     },
     "execution_count": 122,
     "metadata": {},
     "output_type": "execute_result"
    },
    {
     "data": {
      "image/png": "[encoded data removed]",
      "text/plain": [
       "<Figure size 432x288 with 1 Axes>"
      ]
     },
     "metadata": {
      "needs_background": "light"
     },
     "output_type": "display_data"
    }
   ],
   "source": [
    "plt.plot(ts, fs, label='f')\n",
    "plt.plot(ts, rs, label='r')\n",
    "plt.plot(ts, ps, label='p')\n",
    "plt.legend()"
   ]
  },
  {
   "cell_type": "code",
   "execution_count": 123,
   "metadata": {},
   "outputs": [
    {
     "name": "stdout",
     "output_type": "stream",
     "text": [
      "best f1 (test):  0.03709428129829984\n",
      "best threshold (test):  0.0\n"
     ]
    }
   ],
   "source": [
    "index_start = 0\n",
    "best_f1_index = np.argmax(fs[index_start:]) + index_start\n",
    "print(\"best f1 (test): \", fs[best_f1_index])\n",
    "print(\"best threshold (test): \", ts[best_f1_index])"
   ]
  },
  {
   "cell_type": "code",
   "execution_count": null,
   "metadata": {},
   "outputs": [],
   "source": []
  },
  {
   "cell_type": "markdown",
   "metadata": {},
   "source": [
    "## Run Logistic regression"
   ]
  },
  {
   "cell_type": "markdown",
   "metadata": {},
   "source": [
    "### LR on Train"
   ]
  },
  {
   "cell_type": "code",
   "execution_count": 33,
   "metadata": {},
   "outputs": [],
   "source": [
    "import sklearn\n",
    "from sklearn.linear_model import LogisticRegression\n",
    "from sklearn import metrics"
   ]
  },
  {
   "cell_type": "code",
   "execution_count": 34,
   "metadata": {},
   "outputs": [],
   "source": [
    "pick_n = 1"
   ]
  },
  {
   "cell_type": "code",
   "execution_count": 35,
   "metadata": {},
   "outputs": [],
   "source": [
    "grouped = train_pairs.groupby('red_link_name')\n",
    "\n",
    "train_res_jac = pd.DataFrame(columns=['ground truth', 'red_link_name', 'candidate', \n",
    "                                      'true_label', 'jaccard_score', 'levenstein_score', \n",
    "                                      'concur_score', 'BN_results'])\n",
    "for name, group in grouped:\n",
    "    group_sorted = group.sort_values(by=['jaccard_score'], ascending=False)\n",
    "    for i in range(min(group_sorted.shape[0], pick_n)):\n",
    "        new_values = {'ground truth': group_sorted.iloc[i]['ground truth'], \n",
    "                      'red_link_name': group_sorted.iloc[i]['red_link_name'], \n",
    "                      'candidate': group_sorted.iloc[i]['candidate'], \n",
    "                      'true_label': group_sorted.iloc[i]['true_label'], \n",
    "                      'jaccard_score': group_sorted.iloc[i]['jaccard_score'],\n",
    "                      'levenstein_score': group_sorted.iloc[i]['levenstein_score'],\n",
    "                      'concur_score': group_sorted.iloc[i]['concur_score'],\n",
    "                      'BN_results': group_sorted.iloc[i]['BN_results']\n",
    "                     }\n",
    "        train_res_jac = train_res_jac.append(new_values, ignore_index=True)\n",
    "        \n",
    "train_res_lev = pd.DataFrame(columns=['ground truth', 'red_link_name', 'candidate', \n",
    "                                      'true_label', 'jaccard_score', 'levenstein_score', \n",
    "                                      'concur_score', 'BN_results'])\n",
    "for name, group in grouped:\n",
    "    group_sorted = group.sort_values(by=['levenstein_score'], ascending=True)\n",
    "\n",
    "    for i in range(min(group_sorted.shape[0], pick_n)):\n",
    "        new_values = {'ground truth': group_sorted.iloc[i]['ground truth'], \n",
    "                      'red_link_name': group_sorted.iloc[i]['red_link_name'], \n",
    "                      'candidate': group_sorted.iloc[i]['candidate'], \n",
    "                      'true_label': group_sorted.iloc[i]['true_label'], \n",
    "                      'jaccard_score': group_sorted.iloc[i]['jaccard_score'],\n",
    "                      'levenstein_score': group_sorted.iloc[i]['levenstein_score'],\n",
    "                      'concur_score': group_sorted.iloc[i]['concur_score'],\n",
    "                      'BN_results': group_sorted.iloc[i]['BN_results']\n",
    "                     }\n",
    "        train_res_lev = train_res_lev.append(new_values, ignore_index=True)   \n",
    "        \n",
    "train_res_conc = pd.DataFrame(columns=['ground truth', 'red_link_name', 'candidate', \n",
    "                                      'true_label', 'jaccard_score', 'levenstein_score', \n",
    "                                      'concur_score', 'BN_results'])\n",
    "for name, group in grouped:\n",
    "    group_sorted = group.sort_values(by=['concur_score'], ascending=False)\n",
    "\n",
    "    for i in range(min(group_sorted.shape[0], pick_n)):\n",
    "        new_values = {'ground truth': group_sorted.iloc[i]['ground truth'], \n",
    "                      'red_link_name': group_sorted.iloc[i]['red_link_name'], \n",
    "                      'candidate': group_sorted.iloc[i]['candidate'], \n",
    "                      'true_label': group_sorted.iloc[i]['true_label'], \n",
    "                      'jaccard_score': group_sorted.iloc[i]['jaccard_score'],\n",
    "                      'levenstein_score': group_sorted.iloc[i]['levenstein_score'],\n",
    "                      'concur_score': group_sorted.iloc[i]['concur_score'],\n",
    "                      'BN_results': group_sorted.iloc[i]['BN_results']\n",
    "                     }\n",
    "        train_res_conc = train_res_conc.append(new_values, ignore_index=True)      "
   ]
  },
  {
   "cell_type": "code",
   "execution_count": 36,
   "metadata": {},
   "outputs": [],
   "source": [
    "train_res_all = train_res_jac.copy()\n",
    "train_res_all = train_res_all.append(train_res_lev)\n",
    "train_res_all = train_res_all.append(train_res_conc)"
   ]
  },
  {
   "cell_type": "code",
   "execution_count": 37,
   "metadata": {},
   "outputs": [
    {
     "data": {
      "text/html": [
       "<div>\n",
       "<style scoped>\n",
       "    .dataframe tbody tr th:only-of-type {\n",
       "        vertical-align: middle;\n",
       "    }\n",
       "\n",
       "    .dataframe tbody tr th {\n",
       "        vertical-align: top;\n",
       "    }\n",
       "\n",
       "    .dataframe thead th {\n",
       "        text-align: right;\n",
       "    }\n",
       "</style>\n",
       "<table border=\"1\" class=\"dataframe\">\n",
       "  <thead>\n",
       "    <tr style=\"text-align: right;\">\n",
       "      <th></th>\n",
       "      <th>ground truth</th>\n",
       "      <th>red_link_name</th>\n",
       "      <th>candidate</th>\n",
       "      <th>true_label</th>\n",
       "      <th>jaccard_score</th>\n",
       "      <th>levenstein_score</th>\n",
       "      <th>concur_score</th>\n",
       "      <th>BN_results</th>\n",
       "    </tr>\n",
       "  </thead>\n",
       "  <tbody>\n",
       "    <tr>\n",
       "      <th>0</th>\n",
       "      <td>Constellation</td>\n",
       "      <td>(сузір'я)</td>\n",
       "      <td>Angular distance</td>\n",
       "      <td>False</td>\n",
       "      <td>0.317</td>\n",
       "      <td>0.812</td>\n",
       "      <td>0.00450</td>\n",
       "      <td>0</td>\n",
       "    </tr>\n",
       "    <tr>\n",
       "      <th>1</th>\n",
       "      <td>1753 in science</td>\n",
       "      <td>1753 у науці</td>\n",
       "      <td>Sarracenia purpurea</td>\n",
       "      <td>False</td>\n",
       "      <td>0.619</td>\n",
       "      <td>0.842</td>\n",
       "      <td>0.05066</td>\n",
       "      <td>0</td>\n",
       "    </tr>\n",
       "    <tr>\n",
       "      <th>2</th>\n",
       "      <td>NaN</td>\n",
       "      <td>200 метрів, комплексне плавання</td>\n",
       "      <td>World record progression 200 metres individual...</td>\n",
       "      <td>False</td>\n",
       "      <td>0.270</td>\n",
       "      <td>0.830</td>\n",
       "      <td>0.02746</td>\n",
       "      <td>0</td>\n",
       "    </tr>\n",
       "    <tr>\n",
       "      <th>3</th>\n",
       "      <td>NaN</td>\n",
       "      <td>400 метрів, комплексне плавання</td>\n",
       "      <td>World record progression 400 metres individual...</td>\n",
       "      <td>False</td>\n",
       "      <td>0.452</td>\n",
       "      <td>0.830</td>\n",
       "      <td>0.02698</td>\n",
       "      <td>0</td>\n",
       "    </tr>\n",
       "    <tr>\n",
       "      <th>4</th>\n",
       "      <td>480i</td>\n",
       "      <td>480i</td>\n",
       "      <td>AMC-18</td>\n",
       "      <td>False</td>\n",
       "      <td>0.390</td>\n",
       "      <td>1.000</td>\n",
       "      <td>0.02073</td>\n",
       "      <td>0</td>\n",
       "    </tr>\n",
       "  </tbody>\n",
       "</table>\n",
       "</div>"
      ],
      "text/plain": [
       "      ground truth                    red_link_name  \\\n",
       "0    Constellation                        (сузір'я)   \n",
       "1  1753 in science                     1753 у науці   \n",
       "2              NaN  200 метрів, комплексне плавання   \n",
       "3              NaN  400 метрів, комплексне плавання   \n",
       "4             480i                             480i   \n",
       "\n",
       "                                           candidate true_label  \\\n",
       "0                                   Angular distance      False   \n",
       "1                                Sarracenia purpurea      False   \n",
       "2  World record progression 200 metres individual...      False   \n",
       "3  World record progression 400 metres individual...      False   \n",
       "4                                             AMC-18      False   \n",
       "\n",
       "   jaccard_score  levenstein_score  concur_score BN_results  \n",
       "0          0.317             0.812       0.00450          0  \n",
       "1          0.619             0.842       0.05066          0  \n",
       "2          0.270             0.830       0.02746          0  \n",
       "3          0.452             0.830       0.02698          0  \n",
       "4          0.390             1.000       0.02073          0  "
      ]
     },
     "execution_count": 37,
     "metadata": {},
     "output_type": "execute_result"
    }
   ],
   "source": [
    "train_res_all.head()"
   ]
  },
  {
   "cell_type": "code",
   "execution_count": 38,
   "metadata": {},
   "outputs": [
    {
     "data": {
      "text/plain": [
       "(7608, 8)"
      ]
     },
     "execution_count": 38,
     "metadata": {},
     "output_type": "execute_result"
    }
   ],
   "source": [
    "train_res_all.shape"
   ]
  },
  {
   "cell_type": "code",
   "execution_count": 39,
   "metadata": {},
   "outputs": [],
   "source": [
    "X_train = train_res_all[['BN_results', 'jaccard_score', 'levenstein_score', 'concur_score']].values\n",
    "y_train = train_res_all['true_label'].values.astype(np.bool)"
   ]
  },
  {
   "cell_type": "code",
   "execution_count": 40,
   "metadata": {},
   "outputs": [],
   "source": [
    "# X_test = test_set[['BN_results', 'jaccard_score', 'levenstein_score', 'concur_score']]\n",
    "# X_test = X_test.values\n",
    "#y_test = test_set['true_label']"
   ]
  },
  {
   "cell_type": "code",
   "execution_count": 41,
   "metadata": {
    "scrolled": true
   },
   "outputs": [
    {
     "name": "stderr",
     "output_type": "stream",
     "text": [
      "/home/andrii/apps/anaconda3/lib/python3.6/site-packages/sklearn/linear_model/logistic.py:433: FutureWarning: Default solver will be changed to 'lbfgs' in 0.22. Specify a solver to silence this warning.\n",
      "  FutureWarning)\n"
     ]
    },
    {
     "data": {
      "text/plain": [
       "LogisticRegression(C=1.0, class_weight=None, dual=False, fit_intercept=True,\n",
       "          intercept_scaling=1, max_iter=100, multi_class='warn',\n",
       "          n_jobs=None, penalty='l2', random_state=None, solver='warn',\n",
       "          tol=0.0001, verbose=0, warm_start=False)"
      ]
     },
     "execution_count": 41,
     "metadata": {},
     "output_type": "execute_result"
    }
   ],
   "source": [
    "logreg = LogisticRegression()\n",
    "logreg.fit(X_train, y_train)"
   ]
  },
  {
   "cell_type": "code",
   "execution_count": 42,
   "metadata": {},
   "outputs": [],
   "source": [
    "# make predictions\n",
    "y_pred_train = logreg.predict(X_train)"
   ]
  },
  {
   "cell_type": "code",
   "execution_count": 43,
   "metadata": {},
   "outputs": [
    {
     "data": {
      "text/plain": [
       "0.8208530805687203"
      ]
     },
     "execution_count": 43,
     "metadata": {},
     "output_type": "execute_result"
    }
   ],
   "source": [
    "metrics.f1_score(y_train, y_pred_train)"
   ]
  },
  {
   "cell_type": "code",
   "execution_count": 44,
   "metadata": {},
   "outputs": [
    {
     "name": "stdout",
     "output_type": "stream",
     "text": [
      "              precision    recall  f1-score   support\n",
      "\n",
      "       False       0.93      0.97      0.95      5891\n",
      "        True       0.90      0.76      0.82      1717\n",
      "\n",
      "   micro avg       0.93      0.93      0.93      7608\n",
      "   macro avg       0.91      0.87      0.89      7608\n",
      "weighted avg       0.92      0.93      0.92      7608\n",
      "\n"
     ]
    }
   ],
   "source": [
    "print(metrics.classification_report(y_train, y_pred_train))"
   ]
  },
  {
   "cell_type": "code",
   "execution_count": 45,
   "metadata": {},
   "outputs": [],
   "source": [
    "def calculate_acc(ground_truth, predictions):\n",
    "\n",
    "    tp = np.sum((ground_truth.astype(np.int) + predictions.astype(np.int)) == 2)\n",
    "    tn = np.sum((ground_truth.astype(np.int) + predictions.astype(np.int)) == 0)\n",
    "    fn = np.sum((ground_truth.astype(np.int) - predictions.astype(np.int)) == 1)\n",
    "    fp = np.sum((ground_truth.astype(np.int) - predictions.astype(np.int)) == -1)\n",
    "\n",
    "    r = tp/(tp+fn)\n",
    "    p = tp/(tp+fp)\n",
    "    f1 = 2*r*p/(r+p)\n",
    "    \n",
    "    return r, p, f1"
   ]
  },
  {
   "cell_type": "code",
   "execution_count": 46,
   "metadata": {},
   "outputs": [
    {
     "data": {
      "text/plain": [
       "(0.7565521258008153, 0.8970994475138122, 0.8208530805687203)"
      ]
     },
     "execution_count": 46,
     "metadata": {},
     "output_type": "execute_result"
    }
   ],
   "source": [
    "calculate_acc(y_train, y_pred_train)"
   ]
  },
  {
   "cell_type": "code",
   "execution_count": null,
   "metadata": {},
   "outputs": [],
   "source": []
  },
  {
   "cell_type": "code",
   "execution_count": 47,
   "metadata": {},
   "outputs": [
    {
     "name": "stdout",
     "output_type": "stream",
     "text": [
      "[[ 2.18925364 -0.62120606 -8.00908379  1.65408456]]\n",
      "[3.57781192]\n"
     ]
    }
   ],
   "source": [
    "print(logreg.coef_)\n",
    "print(logreg.intercept_)"
   ]
  },
  {
   "cell_type": "code",
   "execution_count": null,
   "metadata": {},
   "outputs": [],
   "source": []
  },
  {
   "cell_type": "code",
   "execution_count": null,
   "metadata": {},
   "outputs": [],
   "source": []
  },
  {
   "cell_type": "markdown",
   "metadata": {},
   "source": [
    "### LR on Test"
   ]
  },
  {
   "cell_type": "code",
   "execution_count": null,
   "metadata": {},
   "outputs": [],
   "source": []
  },
  {
   "cell_type": "code",
   "execution_count": null,
   "metadata": {},
   "outputs": [],
   "source": []
  },
  {
   "cell_type": "code",
   "execution_count": 48,
   "metadata": {},
   "outputs": [],
   "source": [
    "pick_n = 1"
   ]
  },
  {
   "cell_type": "code",
   "execution_count": 49,
   "metadata": {},
   "outputs": [],
   "source": [
    "grouped = test_pairs.groupby('red_link_name')\n",
    "\n",
    "test_res_jac = pd.DataFrame(columns=['ground truth', 'red_link_name', 'candidate', \n",
    "                                      'true_label', 'jaccard_score', 'levenstein_score', \n",
    "                                      'concur_score', 'BN_results'])\n",
    "for name, group in grouped:\n",
    "    group_sorted = group.sort_values(by=['jaccard_score'], ascending=False)\n",
    "    for i in range(min(group_sorted.shape[0], pick_n)):\n",
    "        new_values = {'ground truth': group_sorted.iloc[i]['ground truth'], \n",
    "                      'red_link_name': group_sorted.iloc[i]['red_link_name'], \n",
    "                      'candidate': group_sorted.iloc[i]['candidate'], \n",
    "                      'true_label': group_sorted.iloc[i]['true_label'], \n",
    "                      'jaccard_score': group_sorted.iloc[i]['jaccard_score'],\n",
    "                      'levenstein_score': group_sorted.iloc[i]['levenstein_score'],\n",
    "                      'concur_score': group_sorted.iloc[i]['concur_score'],\n",
    "                      'BN_results': group_sorted.iloc[i]['BN_results']\n",
    "                     }\n",
    "        test_res_jac = test_res_jac.append(new_values, ignore_index=True)\n",
    "        \n",
    "test_res_lev = pd.DataFrame(columns=['ground truth', 'red_link_name', 'candidate', \n",
    "                                      'true_label', 'jaccard_score', 'levenstein_score', \n",
    "                                      'concur_score', 'BN_results'])\n",
    "for name, group in grouped:\n",
    "    group_sorted = group.sort_values(by=['levenstein_score'], ascending=True)\n",
    "\n",
    "    for i in range(min(group_sorted.shape[0], pick_n)):\n",
    "        new_values = {'ground truth': group_sorted.iloc[i]['ground truth'], \n",
    "                      'red_link_name': group_sorted.iloc[i]['red_link_name'], \n",
    "                      'candidate': group_sorted.iloc[i]['candidate'], \n",
    "                      'true_label': group_sorted.iloc[i]['true_label'], \n",
    "                      'jaccard_score': group_sorted.iloc[i]['jaccard_score'],\n",
    "                      'levenstein_score': group_sorted.iloc[i]['levenstein_score'],\n",
    "                      'concur_score': group_sorted.iloc[i]['concur_score'],\n",
    "                      'BN_results': group_sorted.iloc[i]['BN_results']\n",
    "                     }\n",
    "        test_res_lev = test_res_lev.append(new_values, ignore_index=True)   \n",
    "        \n",
    "test_res_conc = pd.DataFrame(columns=['ground truth', 'red_link_name', 'candidate', \n",
    "                                      'true_label', 'jaccard_score', 'levenstein_score', \n",
    "                                      'concur_score', 'BN_results'])\n",
    "for name, group in grouped:\n",
    "    group_sorted = group.sort_values(by=['concur_score'], ascending=False)\n",
    "\n",
    "    for i in range(min(group_sorted.shape[0], pick_n)):\n",
    "        new_values = {'ground truth': group_sorted.iloc[i]['ground truth'], \n",
    "                      'red_link_name': group_sorted.iloc[i]['red_link_name'], \n",
    "                      'candidate': group_sorted.iloc[i]['candidate'], \n",
    "                      'true_label': group_sorted.iloc[i]['true_label'], \n",
    "                      'jaccard_score': group_sorted.iloc[i]['jaccard_score'],\n",
    "                      'levenstein_score': group_sorted.iloc[i]['levenstein_score'],\n",
    "                      'concur_score': group_sorted.iloc[i]['concur_score'],\n",
    "                      'BN_results': group_sorted.iloc[i]['BN_results']\n",
    "                     }\n",
    "        test_res_conc = test_res_conc.append(new_values, ignore_index=True)    "
   ]
  },
  {
   "cell_type": "code",
   "execution_count": 50,
   "metadata": {},
   "outputs": [],
   "source": [
    "test_res_all = test_res_jac.copy()\n",
    "test_res_all = test_res_all.append(test_res_lev)\n",
    "test_res_all = test_res_all.append(test_res_conc)"
   ]
  },
  {
   "cell_type": "code",
   "execution_count": 51,
   "metadata": {},
   "outputs": [
    {
     "data": {
      "text/html": [
       "<div>\n",
       "<style scoped>\n",
       "    .dataframe tbody tr th:only-of-type {\n",
       "        vertical-align: middle;\n",
       "    }\n",
       "\n",
       "    .dataframe tbody tr th {\n",
       "        vertical-align: top;\n",
       "    }\n",
       "\n",
       "    .dataframe thead th {\n",
       "        text-align: right;\n",
       "    }\n",
       "</style>\n",
       "<table border=\"1\" class=\"dataframe\">\n",
       "  <thead>\n",
       "    <tr style=\"text-align: right;\">\n",
       "      <th></th>\n",
       "      <th>ground truth</th>\n",
       "      <th>red_link_name</th>\n",
       "      <th>candidate</th>\n",
       "      <th>true_label</th>\n",
       "      <th>jaccard_score</th>\n",
       "      <th>levenstein_score</th>\n",
       "      <th>concur_score</th>\n",
       "      <th>BN_results</th>\n",
       "    </tr>\n",
       "  </thead>\n",
       "  <tbody>\n",
       "    <tr>\n",
       "      <th>0</th>\n",
       "      <td>2 Chainz</td>\n",
       "      <td>2 Chainz</td>\n",
       "      <td>Fatboi</td>\n",
       "      <td>False</td>\n",
       "      <td>0.439</td>\n",
       "      <td>0.875</td>\n",
       "      <td>0.03140</td>\n",
       "      <td>0</td>\n",
       "    </tr>\n",
       "    <tr>\n",
       "      <th>1</th>\n",
       "      <td>ASL Airlines Belgium</td>\n",
       "      <td>ASL Airlines Belgium</td>\n",
       "      <td>Maastricht Aachen Airport</td>\n",
       "      <td>False</td>\n",
       "      <td>0.611</td>\n",
       "      <td>0.880</td>\n",
       "      <td>0.07475</td>\n",
       "      <td>0</td>\n",
       "    </tr>\n",
       "    <tr>\n",
       "      <th>2</th>\n",
       "      <td>Abraxas grossulariata</td>\n",
       "      <td>Abraxas grossulariata</td>\n",
       "      <td>Eulamprotes unicolorella</td>\n",
       "      <td>False</td>\n",
       "      <td>0.619</td>\n",
       "      <td>0.792</td>\n",
       "      <td>0.02986</td>\n",
       "      <td>0</td>\n",
       "    </tr>\n",
       "    <tr>\n",
       "      <th>3</th>\n",
       "      <td>Abrostola asclepiadis</td>\n",
       "      <td>Abrostola asclepiadis</td>\n",
       "      <td>Gnophos obfuscata</td>\n",
       "      <td>False</td>\n",
       "      <td>0.622</td>\n",
       "      <td>0.810</td>\n",
       "      <td>0.02985</td>\n",
       "      <td>0</td>\n",
       "    </tr>\n",
       "    <tr>\n",
       "      <th>4</th>\n",
       "      <td>Aglossa pinguinalis</td>\n",
       "      <td>Aglossa pinguinalis</td>\n",
       "      <td>Silver-washed fritillary</td>\n",
       "      <td>False</td>\n",
       "      <td>0.595</td>\n",
       "      <td>0.833</td>\n",
       "      <td>0.02381</td>\n",
       "      <td>0</td>\n",
       "    </tr>\n",
       "  </tbody>\n",
       "</table>\n",
       "</div>"
      ],
      "text/plain": [
       "            ground truth          red_link_name                  candidate  \\\n",
       "0               2 Chainz               2 Chainz                     Fatboi   \n",
       "1   ASL Airlines Belgium   ASL Airlines Belgium  Maastricht Aachen Airport   \n",
       "2  Abraxas grossulariata  Abraxas grossulariata   Eulamprotes unicolorella   \n",
       "3  Abrostola asclepiadis  Abrostola asclepiadis          Gnophos obfuscata   \n",
       "4    Aglossa pinguinalis    Aglossa pinguinalis   Silver-washed fritillary   \n",
       "\n",
       "  true_label  jaccard_score  levenstein_score  concur_score BN_results  \n",
       "0      False          0.439             0.875       0.03140          0  \n",
       "1      False          0.611             0.880       0.07475          0  \n",
       "2      False          0.619             0.792       0.02986          0  \n",
       "3      False          0.622             0.810       0.02985          0  \n",
       "4      False          0.595             0.833       0.02381          0  "
      ]
     },
     "execution_count": 51,
     "metadata": {},
     "output_type": "execute_result"
    }
   ],
   "source": [
    "test_res_all.head()"
   ]
  },
  {
   "cell_type": "code",
   "execution_count": 52,
   "metadata": {},
   "outputs": [
    {
     "data": {
      "text/plain": [
       "(1905, 8)"
      ]
     },
     "execution_count": 52,
     "metadata": {},
     "output_type": "execute_result"
    }
   ],
   "source": [
    "test_res_all.shape"
   ]
  },
  {
   "cell_type": "code",
   "execution_count": 53,
   "metadata": {},
   "outputs": [],
   "source": [
    "X_test = test_res_all[['BN_results', 'jaccard_score', 'levenstein_score', 'concur_score']].values\n",
    "y_test = test_res_all['true_label'].values.astype(np.bool)"
   ]
  },
  {
   "cell_type": "code",
   "execution_count": 54,
   "metadata": {},
   "outputs": [],
   "source": [
    "# X_test = test_set[['BN_results', 'jaccard_score', 'levenstein_score', 'concur_score']]\n",
    "# X_test = X_test.values\n",
    "#y_test = test_set['true_label']"
   ]
  },
  {
   "cell_type": "code",
   "execution_count": 55,
   "metadata": {
    "scrolled": true
   },
   "outputs": [
    {
     "name": "stderr",
     "output_type": "stream",
     "text": [
      "/home/andrii/apps/anaconda3/lib/python3.6/site-packages/sklearn/linear_model/logistic.py:433: FutureWarning: Default solver will be changed to 'lbfgs' in 0.22. Specify a solver to silence this warning.\n",
      "  FutureWarning)\n"
     ]
    },
    {
     "data": {
      "text/plain": [
       "LogisticRegression(C=1.0, class_weight=None, dual=False, fit_intercept=True,\n",
       "          intercept_scaling=1, max_iter=100, multi_class='warn',\n",
       "          n_jobs=None, penalty='l2', random_state=None, solver='warn',\n",
       "          tol=0.0001, verbose=0, warm_start=False)"
      ]
     },
     "execution_count": 55,
     "metadata": {},
     "output_type": "execute_result"
    }
   ],
   "source": [
    "logreg = LogisticRegression()\n",
    "logreg.fit(X_train, y_train)"
   ]
  },
  {
   "cell_type": "code",
   "execution_count": 56,
   "metadata": {},
   "outputs": [],
   "source": [
    "# make predictions\n",
    "y_pred_test = logreg.predict(X_test)"
   ]
  },
  {
   "cell_type": "code",
   "execution_count": 57,
   "metadata": {},
   "outputs": [
    {
     "data": {
      "text/plain": [
       "0.8485607008760951"
      ]
     },
     "execution_count": 57,
     "metadata": {},
     "output_type": "execute_result"
    }
   ],
   "source": [
    "metrics.f1_score(y_test, y_pred_test)"
   ]
  },
  {
   "cell_type": "code",
   "execution_count": 58,
   "metadata": {},
   "outputs": [
    {
     "name": "stdout",
     "output_type": "stream",
     "text": [
      "              precision    recall  f1-score   support\n",
      "\n",
      "       False       0.94      0.98      0.96      1476\n",
      "        True       0.92      0.79      0.85       429\n",
      "\n",
      "   micro avg       0.94      0.94      0.94      1905\n",
      "   macro avg       0.93      0.88      0.90      1905\n",
      "weighted avg       0.94      0.94      0.93      1905\n",
      "\n"
     ]
    }
   ],
   "source": [
    "print(metrics.classification_report(y_test, y_pred_test))"
   ]
  },
  {
   "cell_type": "code",
   "execution_count": 61,
   "metadata": {},
   "outputs": [],
   "source": [
    "def calculate_acc(ground_truth, predictions):\n",
    "\n",
    "    tp = np.sum((ground_truth.astype(np.int) + predictions.astype(np.int)) == 2)\n",
    "    tn = np.sum((ground_truth.astype(np.int) + predictions.astype(np.int)) == 0)\n",
    "    fn = np.sum((ground_truth.astype(np.int) - predictions.astype(np.int)) == 1)\n",
    "    fp = np.sum((ground_truth.astype(np.int) - predictions.astype(np.int)) == -1)\n",
    "\n",
    "    r = tp/(tp+fn)\n",
    "    p = tp/(tp+fp)\n",
    "    f1 = 2*r*p/(r+p)\n",
    "    \n",
    "    print('FP:', fp)\n",
    "    print('TN:', tn)\n",
    "    print('TP:', tp)\n",
    "    print('fn:', fn)\n",
    "    print('precision:', p)\n",
    "    print('recall:', r)\n",
    "    print('f1_score:', f1)\n",
    "    \n",
    "    return r, p, f1"
   ]
  },
  {
   "cell_type": "code",
   "execution_count": 62,
   "metadata": {},
   "outputs": [
    {
     "name": "stdout",
     "output_type": "stream",
     "text": [
      "FP: 31\n",
      "TN: 1445\n",
      "TP: 339\n",
      "fn: 90\n",
      "precision: 0.9162162162162162\n",
      "recall: 0.7902097902097902\n",
      "f1_score: 0.8485607008760951\n"
     ]
    },
    {
     "data": {
      "text/plain": [
       "(0.7902097902097902, 0.9162162162162162, 0.8485607008760951)"
      ]
     },
     "execution_count": 62,
     "metadata": {},
     "output_type": "execute_result"
    }
   ],
   "source": [
    "calculate_acc(y_test, y_pred_test)"
   ]
  },
  {
   "cell_type": "code",
   "execution_count": null,
   "metadata": {},
   "outputs": [],
   "source": []
  },
  {
   "cell_type": "code",
   "execution_count": 69,
   "metadata": {},
   "outputs": [
    {
     "name": "stdout",
     "output_type": "stream",
     "text": [
      "[[ 2.18925364 -0.62120606 -8.00908379  1.65408456]]\n",
      "[3.57781192]\n"
     ]
    }
   ],
   "source": [
    "print(logreg.coef_)\n",
    "print(logreg.intercept_)"
   ]
  },
  {
   "cell_type": "code",
   "execution_count": null,
   "metadata": {},
   "outputs": [],
   "source": []
  },
  {
   "cell_type": "code",
   "execution_count": null,
   "metadata": {},
   "outputs": [],
   "source": []
  }
 ],
 "metadata": {
  "kernelspec": {
   "display_name": "Python 3",
   "language": "python",
   "name": "python3"
  },
  "language_info": {
   "codemirror_mode": {
    "name": "ipython",
    "version": 3
   },
   "file_extension": ".py",
   "mimetype": "text/x-python",
   "name": "python",
   "nbconvert_exporter": "python",
   "pygments_lexer": "ipython3",
   "version": "3.6.9"
  }
 },
 "nbformat": 4,
 "nbformat_minor": 2
}
