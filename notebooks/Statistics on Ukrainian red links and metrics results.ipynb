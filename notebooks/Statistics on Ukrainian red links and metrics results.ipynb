{
 "cells": [
  {
   "cell_type": "code",
   "execution_count": 1,
   "metadata": {},
   "outputs": [],
   "source": [
    "import pandas as pd\n",
    "import numpy as np\n",
    "import matplotlib.pyplot as plt"
   ]
  },
  {
   "cell_type": "code",
   "execution_count": 40,
   "metadata": {},
   "outputs": [],
   "source": [
    "from alphabet_detector import AlphabetDetector"
   ]
  },
  {
   "cell_type": "code",
   "execution_count": 2,
   "metadata": {},
   "outputs": [],
   "source": [
    "%matplotlib inline"
   ]
  },
  {
   "cell_type": "code",
   "execution_count": 5,
   "metadata": {},
   "outputs": [],
   "source": [
    "#path to data\n",
    "PATH_TO_DATA = '/media/andrii/earth/Katia/CS_MasterThesis/Red_links_Project_for_Wiki_01/data/ukwiki/'"
   ]
  },
  {
   "cell_type": "markdown",
   "metadata": {},
   "source": [
    "## Red links frequency"
   ]
  },
  {
   "cell_type": "code",
   "execution_count": 6,
   "metadata": {},
   "outputs": [],
   "source": [
    "all_uk_redlinks_with_parent_ids = pd.read_csv(PATH_TO_DATA+'df_allukredlinks_withentitle.csv', encoding = 'UTF-8')"
   ]
  },
  {
   "cell_type": "code",
   "execution_count": 9,
   "metadata": {},
   "outputs": [],
   "source": [
    "all_uk_redlinks_with_parent_ids = all_uk_redlinks_with_parent_ids.drop_duplicates()"
   ]
  },
  {
   "cell_type": "code",
   "execution_count": 10,
   "metadata": {},
   "outputs": [
    {
     "data": {
      "text/plain": [
       "(1938511, 4)"
      ]
     },
     "execution_count": 10,
     "metadata": {},
     "output_type": "execute_result"
    }
   ],
   "source": [
    "all_uk_redlinks_with_parent_ids.shape"
   ]
  },
  {
   "cell_type": "code",
   "execution_count": 7,
   "metadata": {},
   "outputs": [
    {
     "data": {
      "text/html": [
       "<div>\n",
       "<style scoped>\n",
       "    .dataframe tbody tr th:only-of-type {\n",
       "        vertical-align: middle;\n",
       "    }\n",
       "\n",
       "    .dataframe tbody tr th {\n",
       "        vertical-align: top;\n",
       "    }\n",
       "\n",
       "    .dataframe thead th {\n",
       "        text-align: right;\n",
       "    }\n",
       "</style>\n",
       "<table border=\"1\" class=\"dataframe\">\n",
       "  <thead>\n",
       "    <tr style=\"text-align: right;\">\n",
       "      <th></th>\n",
       "      <th>id_parent</th>\n",
       "      <th>red_link_name</th>\n",
       "      <th>red_link_id</th>\n",
       "      <th>ll_title</th>\n",
       "    </tr>\n",
       "  </thead>\n",
       "  <tbody>\n",
       "    <tr>\n",
       "      <th>0</th>\n",
       "      <td>13</td>\n",
       "      <td>Географія розвитку</td>\n",
       "      <td>2817993</td>\n",
       "      <td>Geography</td>\n",
       "    </tr>\n",
       "    <tr>\n",
       "      <th>1</th>\n",
       "      <td>13</td>\n",
       "      <td>Географія часу</td>\n",
       "      <td>2817994</td>\n",
       "      <td>Geography</td>\n",
       "    </tr>\n",
       "    <tr>\n",
       "      <th>2</th>\n",
       "      <td>1928599</td>\n",
       "      <td>Географія часу</td>\n",
       "      <td>2817994</td>\n",
       "      <td>Geography (disambiguation)</td>\n",
       "    </tr>\n",
       "    <tr>\n",
       "      <th>3</th>\n",
       "      <td>13</td>\n",
       "      <td>Туристична географія</td>\n",
       "      <td>2817995</td>\n",
       "      <td>Geography</td>\n",
       "    </tr>\n",
       "    <tr>\n",
       "      <th>4</th>\n",
       "      <td>584</td>\n",
       "      <td>рентгенівська спектроскопія поглинання</td>\n",
       "      <td>2817996</td>\n",
       "      <td>Atom</td>\n",
       "    </tr>\n",
       "  </tbody>\n",
       "</table>\n",
       "</div>"
      ],
      "text/plain": [
       "   id_parent                           red_link_name  red_link_id  \\\n",
       "0         13                      Географія розвитку      2817993   \n",
       "1         13                          Географія часу      2817994   \n",
       "2    1928599                          Географія часу      2817994   \n",
       "3         13                    Туристична географія      2817995   \n",
       "4        584  рентгенівська спектроскопія поглинання      2817996   \n",
       "\n",
       "                     ll_title  \n",
       "0                   Geography  \n",
       "1                   Geography  \n",
       "2  Geography (disambiguation)  \n",
       "3                   Geography  \n",
       "4                        Atom  "
      ]
     },
     "execution_count": 7,
     "metadata": {},
     "output_type": "execute_result"
    }
   ],
   "source": [
    "all_uk_redlinks_with_parent_ids.head()"
   ]
  },
  {
   "cell_type": "code",
   "execution_count": 16,
   "metadata": {},
   "outputs": [],
   "source": [
    "df_title_count_tmp = pd.DataFrame(all_uk_redlinks_with_parent_ids.groupby('red_link_name').red_link_name.count())"
   ]
  },
  {
   "cell_type": "code",
   "execution_count": 18,
   "metadata": {},
   "outputs": [],
   "source": [
    "df_title_count_tmp.columns = ['link']"
   ]
  },
  {
   "cell_type": "code",
   "execution_count": 19,
   "metadata": {},
   "outputs": [],
   "source": [
    "df_title_count_tmp = df_title_count_tmp.reset_index(col_level=1)"
   ]
  },
  {
   "cell_type": "code",
   "execution_count": 23,
   "metadata": {},
   "outputs": [],
   "source": [
    "df_title_count_tmp.columns = ['link_title', 'in_count']"
   ]
  },
  {
   "cell_type": "code",
   "execution_count": 24,
   "metadata": {},
   "outputs": [
    {
     "data": {
      "text/html": [
       "<div>\n",
       "<style scoped>\n",
       "    .dataframe tbody tr th:only-of-type {\n",
       "        vertical-align: middle;\n",
       "    }\n",
       "\n",
       "    .dataframe tbody tr th {\n",
       "        vertical-align: top;\n",
       "    }\n",
       "\n",
       "    .dataframe thead th {\n",
       "        text-align: right;\n",
       "    }\n",
       "</style>\n",
       "<table border=\"1\" class=\"dataframe\">\n",
       "  <thead>\n",
       "    <tr style=\"text-align: right;\">\n",
       "      <th></th>\n",
       "      <th>link_title</th>\n",
       "      <th>in_count</th>\n",
       "    </tr>\n",
       "  </thead>\n",
       "  <tbody>\n",
       "    <tr>\n",
       "      <th>0</th>\n",
       "      <td>! F</td>\n",
       "      <td>1</td>\n",
       "    </tr>\n",
       "    <tr>\n",
       "      <th>1</th>\n",
       "      <td>!!! (альбом)</td>\n",
       "      <td>1</td>\n",
       "    </tr>\n",
       "    <tr>\n",
       "      <th>2</th>\n",
       "      <td>!Aiboforcen</td>\n",
       "      <td>1</td>\n",
       "    </tr>\n",
       "    <tr>\n",
       "      <th>3</th>\n",
       "      <td>!llmind</td>\n",
       "      <td>1</td>\n",
       "    </tr>\n",
       "    <tr>\n",
       "      <th>4</th>\n",
       "      <td>!хонг</td>\n",
       "      <td>1</td>\n",
       "    </tr>\n",
       "  </tbody>\n",
       "</table>\n",
       "</div>"
      ],
      "text/plain": [
       "     link_title  in_count\n",
       "0           ! F         1\n",
       "1  !!! (альбом)         1\n",
       "2   !Aiboforcen         1\n",
       "3       !llmind         1\n",
       "4         !хонг         1"
      ]
     },
     "execution_count": 24,
     "metadata": {},
     "output_type": "execute_result"
    }
   ],
   "source": [
    "df_title_count_tmp.head()"
   ]
  },
  {
   "cell_type": "code",
   "execution_count": 25,
   "metadata": {},
   "outputs": [],
   "source": [
    "df_title_count = None\n",
    "\n",
    "if df_title_count is not None:\n",
    "        df_title_count = df_title_count.append(df_title_count_tmp)        \n",
    "        #print(\"append\")\n",
    "else:\n",
    "    df_title_count = df_title_count_tmp\n",
    "    #print(\"assign\")    "
   ]
  },
  {
   "cell_type": "code",
   "execution_count": 26,
   "metadata": {},
   "outputs": [
    {
     "data": {
      "text/html": [
       "<div>\n",
       "<style scoped>\n",
       "    .dataframe tbody tr th:only-of-type {\n",
       "        vertical-align: middle;\n",
       "    }\n",
       "\n",
       "    .dataframe tbody tr th {\n",
       "        vertical-align: top;\n",
       "    }\n",
       "\n",
       "    .dataframe thead th {\n",
       "        text-align: right;\n",
       "    }\n",
       "</style>\n",
       "<table border=\"1\" class=\"dataframe\">\n",
       "  <thead>\n",
       "    <tr style=\"text-align: right;\">\n",
       "      <th></th>\n",
       "      <th>link_title</th>\n",
       "      <th>in_count</th>\n",
       "    </tr>\n",
       "  </thead>\n",
       "  <tbody>\n",
       "    <tr>\n",
       "      <th>0</th>\n",
       "      <td>! F</td>\n",
       "      <td>1</td>\n",
       "    </tr>\n",
       "    <tr>\n",
       "      <th>1</th>\n",
       "      <td>!!! (альбом)</td>\n",
       "      <td>1</td>\n",
       "    </tr>\n",
       "    <tr>\n",
       "      <th>2</th>\n",
       "      <td>!Aiboforcen</td>\n",
       "      <td>1</td>\n",
       "    </tr>\n",
       "    <tr>\n",
       "      <th>3</th>\n",
       "      <td>!llmind</td>\n",
       "      <td>1</td>\n",
       "    </tr>\n",
       "    <tr>\n",
       "      <th>4</th>\n",
       "      <td>!хонг</td>\n",
       "      <td>1</td>\n",
       "    </tr>\n",
       "    <tr>\n",
       "      <th>5</th>\n",
       "      <td>\" Космічний спецназ Гарфілда\"</td>\n",
       "      <td>1</td>\n",
       "    </tr>\n",
       "    <tr>\n",
       "      <th>6</th>\n",
       "      <td>\",\"</td>\n",
       "      <td>2</td>\n",
       "    </tr>\n",
       "    <tr>\n",
       "      <th>7</th>\n",
       "      <td>\"12</td>\n",
       "      <td>1</td>\n",
       "    </tr>\n",
       "    <tr>\n",
       "      <th>8</th>\n",
       "      <td>\"5 канал\"</td>\n",
       "      <td>1</td>\n",
       "    </tr>\n",
       "    <tr>\n",
       "      <th>9</th>\n",
       "      <td>\"Across the Universe\"</td>\n",
       "      <td>1</td>\n",
       "    </tr>\n",
       "    <tr>\n",
       "      <th>10</th>\n",
       "      <td>\"All Apologies\"</td>\n",
       "      <td>2</td>\n",
       "    </tr>\n",
       "    <tr>\n",
       "      <th>11</th>\n",
       "      <td>\"All You Need Is Love\"</td>\n",
       "      <td>1</td>\n",
       "    </tr>\n",
       "    <tr>\n",
       "      <th>12</th>\n",
       "      <td>\"Arche Noah\" (1625)</td>\n",
       "      <td>1</td>\n",
       "    </tr>\n",
       "    <tr>\n",
       "      <th>13</th>\n",
       "      <td>\"Art Of Noise\"</td>\n",
       "      <td>1</td>\n",
       "    </tr>\n",
       "    <tr>\n",
       "      <th>14</th>\n",
       "      <td>\"Bandura and Song\"</td>\n",
       "      <td>1</td>\n",
       "    </tr>\n",
       "    <tr>\n",
       "      <th>15</th>\n",
       "      <td>\"Barnetimen for de minste\"</td>\n",
       "      <td>1</td>\n",
       "    </tr>\n",
       "    <tr>\n",
       "      <th>16</th>\n",
       "      <td>\"Barnetimen\"</td>\n",
       "      <td>1</td>\n",
       "    </tr>\n",
       "    <tr>\n",
       "      <th>17</th>\n",
       "      <td>\"BigFoot</td>\n",
       "      <td>1</td>\n",
       "    </tr>\n",
       "    <tr>\n",
       "      <th>18</th>\n",
       "      <td>\"Biters\"</td>\n",
       "      <td>1</td>\n",
       "    </tr>\n",
       "    <tr>\n",
       "      <th>19</th>\n",
       "      <td>\"Black Smokers (752 ° Fahrenheit)\"</td>\n",
       "      <td>1</td>\n",
       "    </tr>\n",
       "    <tr>\n",
       "      <th>20</th>\n",
       "      <td>\"Busicom\"</td>\n",
       "      <td>1</td>\n",
       "    </tr>\n",
       "    <tr>\n",
       "      <th>21</th>\n",
       "      <td>\"Chop Suey\"</td>\n",
       "      <td>1</td>\n",
       "    </tr>\n",
       "    <tr>\n",
       "      <th>22</th>\n",
       "      <td>\"Das Volkslied in Österreich\"</td>\n",
       "      <td>1</td>\n",
       "    </tr>\n",
       "    <tr>\n",
       "      <th>23</th>\n",
       "      <td>\"Dayton To Head To Norway For Troop Celebration\"</td>\n",
       "      <td>1</td>\n",
       "    </tr>\n",
       "    <tr>\n",
       "      <th>24</th>\n",
       "      <td>\"Eclectica\"</td>\n",
       "      <td>1</td>\n",
       "    </tr>\n",
       "    <tr>\n",
       "      <th>25</th>\n",
       "      <td>\"Evangeline\"</td>\n",
       "      <td>1</td>\n",
       "    </tr>\n",
       "    <tr>\n",
       "      <th>26</th>\n",
       "      <td>\"Excellence in Magazines\"</td>\n",
       "      <td>1</td>\n",
       "    </tr>\n",
       "    <tr>\n",
       "      <th>27</th>\n",
       "      <td>\"Expedition GeForce\"</td>\n",
       "      <td>1</td>\n",
       "    </tr>\n",
       "    <tr>\n",
       "      <th>28</th>\n",
       "      <td>\"Eyes of the Insane\"</td>\n",
       "      <td>1</td>\n",
       "    </tr>\n",
       "    <tr>\n",
       "      <th>29</th>\n",
       "      <td>\"Face The Colossus\"</td>\n",
       "      <td>1</td>\n",
       "    </tr>\n",
       "    <tr>\n",
       "      <th>...</th>\n",
       "      <td>...</td>\n",
       "      <td>...</td>\n",
       "    </tr>\n",
       "    <tr>\n",
       "      <th>1231624</th>\n",
       "      <td>鶴嶺八幡宮</td>\n",
       "      <td>1</td>\n",
       "    </tr>\n",
       "    <tr>\n",
       "      <th>1231625</th>\n",
       "      <td>鶴谷八幡宮</td>\n",
       "      <td>1</td>\n",
       "    </tr>\n",
       "    <tr>\n",
       "      <th>1231626</th>\n",
       "      <td>鹽竈神社</td>\n",
       "      <td>1</td>\n",
       "    </tr>\n",
       "    <tr>\n",
       "      <th>1231627</th>\n",
       "      <td>鹿児島市</td>\n",
       "      <td>7</td>\n",
       "    </tr>\n",
       "    <tr>\n",
       "      <th>1231628</th>\n",
       "      <td>鹿児島県</td>\n",
       "      <td>3</td>\n",
       "    </tr>\n",
       "    <tr>\n",
       "      <th>1231629</th>\n",
       "      <td>鹿児島神宮</td>\n",
       "      <td>1</td>\n",
       "    </tr>\n",
       "    <tr>\n",
       "      <th>1231630</th>\n",
       "      <td>鹿屋市</td>\n",
       "      <td>3</td>\n",
       "    </tr>\n",
       "    <tr>\n",
       "      <th>1231631</th>\n",
       "      <td>鹿島市</td>\n",
       "      <td>2</td>\n",
       "    </tr>\n",
       "    <tr>\n",
       "      <th>1231632</th>\n",
       "      <td>鹿島神宮</td>\n",
       "      <td>1</td>\n",
       "    </tr>\n",
       "    <tr>\n",
       "      <th>1231633</th>\n",
       "      <td>黄金山神社 (涌谷町)</td>\n",
       "      <td>1</td>\n",
       "    </tr>\n",
       "    <tr>\n",
       "      <th>1231634</th>\n",
       "      <td>黄金山神社 (石巻市)</td>\n",
       "      <td>1</td>\n",
       "    </tr>\n",
       "    <tr>\n",
       "      <th>1231635</th>\n",
       "      <td>龍田大社</td>\n",
       "      <td>1</td>\n",
       "    </tr>\n",
       "    <tr>\n",
       "      <th>1231636</th>\n",
       "      <td>龍郷町</td>\n",
       "      <td>1</td>\n",
       "    </tr>\n",
       "    <tr>\n",
       "      <th>1231637</th>\n",
       "      <td>龍馬神社</td>\n",
       "      <td>1</td>\n",
       "    </tr>\n",
       "    <tr>\n",
       "      <th>1231638</th>\n",
       "      <td>龙虎网站</td>\n",
       "      <td>1</td>\n",
       "    </tr>\n",
       "    <tr>\n",
       "      <th>1231639</th>\n",
       "      <td>Ꙟ</td>\n",
       "      <td>1</td>\n",
       "    </tr>\n",
       "    <tr>\n",
       "      <th>1231640</th>\n",
       "      <td>감찰</td>\n",
       "      <td>1</td>\n",
       "    </tr>\n",
       "    <tr>\n",
       "      <th>1231641</th>\n",
       "      <td>검상</td>\n",
       "      <td>1</td>\n",
       "    </tr>\n",
       "    <tr>\n",
       "      <th>1231642</th>\n",
       "      <td>대사헌</td>\n",
       "      <td>1</td>\n",
       "    </tr>\n",
       "    <tr>\n",
       "      <th>1231643</th>\n",
       "      <td>사록</td>\n",
       "      <td>1</td>\n",
       "    </tr>\n",
       "    <tr>\n",
       "      <th>1231644</th>\n",
       "      <td>사인 (관직)</td>\n",
       "      <td>1</td>\n",
       "    </tr>\n",
       "    <tr>\n",
       "      <th>1231645</th>\n",
       "      <td>여행기</td>\n",
       "      <td>1</td>\n",
       "    </tr>\n",
       "    <tr>\n",
       "      <th>1231646</th>\n",
       "      <td>우찬성</td>\n",
       "      <td>1</td>\n",
       "    </tr>\n",
       "    <tr>\n",
       "      <th>1231647</th>\n",
       "      <td>우참찬</td>\n",
       "      <td>1</td>\n",
       "    </tr>\n",
       "    <tr>\n",
       "      <th>1231648</th>\n",
       "      <td>장령</td>\n",
       "      <td>1</td>\n",
       "    </tr>\n",
       "    <tr>\n",
       "      <th>1231649</th>\n",
       "      <td>좌찬성</td>\n",
       "      <td>1</td>\n",
       "    </tr>\n",
       "    <tr>\n",
       "      <th>1231650</th>\n",
       "      <td>좌참찬</td>\n",
       "      <td>1</td>\n",
       "    </tr>\n",
       "    <tr>\n",
       "      <th>1231651</th>\n",
       "      <td>지평</td>\n",
       "      <td>1</td>\n",
       "    </tr>\n",
       "    <tr>\n",
       "      <th>1231652</th>\n",
       "      <td>집의</td>\n",
       "      <td>1</td>\n",
       "    </tr>\n",
       "    <tr>\n",
       "      <th>1231653</th>\n",
       "      <td>ﾟ</td>\n",
       "      <td>1</td>\n",
       "    </tr>\n",
       "  </tbody>\n",
       "</table>\n",
       "<p>1231654 rows × 2 columns</p>\n",
       "</div>"
      ],
      "text/plain": [
       "           link_title  in_count\n",
       "0                 ! F         1\n",
       "1        !!! (альбом)         1\n",
       "2         !Aiboforcen         1\n",
       "3             !llmind         1\n",
       "4               !хонг         1\n",
       "...               ...       ...\n",
       "1231649           좌찬성         1\n",
       "1231650           좌참찬         1\n",
       "1231651            지평         1\n",
       "1231652            집의         1\n",
       "1231653             ﾟ         1\n",
       "\n",
       "[1231654 rows x 2 columns]"
      ]
     },
     "execution_count": 26,
     "metadata": {},
     "output_type": "execute_result"
    }
   ],
   "source": [
    "df_title_count"
   ]
  },
  {
   "cell_type": "code",
   "execution_count": 27,
   "metadata": {},
   "outputs": [
    {
     "name": "stdout",
     "output_type": "stream",
     "text": [
      "df_title_count size: (1231654, 2)\n"
     ]
    }
   ],
   "source": [
    "df_title_count = df_title_count.groupby('link_title').in_count.sum().copy()\n",
    "df_title_count.columns = ['link']\n",
    "df_title_count = df_title_count.reset_index()\n",
    "df_title_count.columns = ['link_title', 'in_count']        \n",
    "print(\"df_title_count size: {}\".format(df_title_count.shape))"
   ]
  },
  {
   "cell_type": "code",
   "execution_count": 28,
   "metadata": {},
   "outputs": [],
   "source": [
    "df_count_by_count = pd.DataFrame(df_title_count.groupby('in_count').in_count.count())"
   ]
  },
  {
   "cell_type": "code",
   "execution_count": 29,
   "metadata": {},
   "outputs": [
    {
     "data": {
      "text/html": [
       "<div>\n",
       "<style scoped>\n",
       "    .dataframe tbody tr th:only-of-type {\n",
       "        vertical-align: middle;\n",
       "    }\n",
       "\n",
       "    .dataframe tbody tr th {\n",
       "        vertical-align: top;\n",
       "    }\n",
       "\n",
       "    .dataframe thead th {\n",
       "        text-align: right;\n",
       "    }\n",
       "</style>\n",
       "<table border=\"1\" class=\"dataframe\">\n",
       "  <thead>\n",
       "    <tr style=\"text-align: right;\">\n",
       "      <th></th>\n",
       "      <th>in_count</th>\n",
       "    </tr>\n",
       "    <tr>\n",
       "      <th>in_count</th>\n",
       "      <th></th>\n",
       "    </tr>\n",
       "  </thead>\n",
       "  <tbody>\n",
       "    <tr>\n",
       "      <th>1</th>\n",
       "      <td>1010955</td>\n",
       "    </tr>\n",
       "    <tr>\n",
       "      <th>2</th>\n",
       "      <td>125468</td>\n",
       "    </tr>\n",
       "    <tr>\n",
       "      <th>3</th>\n",
       "      <td>39528</td>\n",
       "    </tr>\n",
       "    <tr>\n",
       "      <th>4</th>\n",
       "      <td>17437</td>\n",
       "    </tr>\n",
       "    <tr>\n",
       "      <th>5</th>\n",
       "      <td>9578</td>\n",
       "    </tr>\n",
       "  </tbody>\n",
       "</table>\n",
       "</div>"
      ],
      "text/plain": [
       "          in_count\n",
       "in_count          \n",
       "1          1010955\n",
       "2           125468\n",
       "3            39528\n",
       "4            17437\n",
       "5             9578"
      ]
     },
     "execution_count": 29,
     "metadata": {},
     "output_type": "execute_result"
    }
   ],
   "source": [
    "df_count_by_count.head()"
   ]
  },
  {
   "cell_type": "code",
   "execution_count": 30,
   "metadata": {},
   "outputs": [],
   "source": [
    "df_count_by_count.columns = ['link']\n",
    "df_count_by_count = df_count_by_count.reset_index()\n",
    "df_count_by_count.columns = ['count', 'in_count']"
   ]
  },
  {
   "cell_type": "code",
   "execution_count": 31,
   "metadata": {},
   "outputs": [],
   "source": [
    "df_count_by_count = df_count_by_count.sort_values(['count'], ascending=[1])"
   ]
  },
  {
   "cell_type": "code",
   "execution_count": 32,
   "metadata": {},
   "outputs": [
    {
     "data": {
      "text/plain": [
       "1231654"
      ]
     },
     "execution_count": 32,
     "metadata": {},
     "output_type": "execute_result"
    }
   ],
   "source": [
    "check = df_count_by_count['in_count'].sum()\n",
    "check"
   ]
  },
  {
   "cell_type": "code",
   "execution_count": 33,
   "metadata": {
    "scrolled": true
   },
   "outputs": [
    {
     "data": {
      "text/plain": [
       "[<matplotlib.lines.Line2D at 0x7fcd18672a58>]"
      ]
     },
     "execution_count": 33,
     "metadata": {},
     "output_type": "execute_result"
    },
    {
     "data": {
      "image/png": "[encoded data removed]",
      "text/plain": [
       "<Figure size 432x288 with 2 Axes>"
      ]
     },
     "metadata": {
      "needs_background": "light"
     },
     "output_type": "display_data"
    }
   ],
   "source": [
    "#ax = plt.gca()\n",
    "ax = plt.subplot(121)\n",
    "plt.semilogy(df_count_by_count['count'][:100], df_count_by_count['in_count'][:100])\n",
    "plt.ylabel(\"number of red links\", fontsize = 12)\n",
    "#plt.xlabel(\"number of articles where red links occur\")\n",
    "ax.set_xlabel(\"number of articles where red links occur\", fontsize = 12)\n",
    "ax.xaxis.set_label_coords(1.1, -0.11)\n",
    "\n",
    "plt.subplot(122)\n",
    "plt.plot(df_count_by_count['count'][100:], df_count_by_count['in_count'][100:])\n",
    "#plt.xlabel(\"number of articles where red links occur\")"
   ]
  },
  {
   "cell_type": "code",
   "execution_count": null,
   "metadata": {
    "collapsed": true
   },
   "outputs": [],
   "source": []
  },
  {
   "cell_type": "markdown",
   "metadata": {},
   "source": [
    "## Scripts stats"
   ]
  },
  {
   "cell_type": "code",
   "execution_count": 36,
   "metadata": {},
   "outputs": [],
   "source": [
    "all_uk_redlinks_unique = all_uk_redlinks_with_parent_ids[['red_link_name']]"
   ]
  },
  {
   "cell_type": "code",
   "execution_count": 38,
   "metadata": {},
   "outputs": [
    {
     "data": {
      "text/html": [
       "<div>\n",
       "<style scoped>\n",
       "    .dataframe tbody tr th:only-of-type {\n",
       "        vertical-align: middle;\n",
       "    }\n",
       "\n",
       "    .dataframe tbody tr th {\n",
       "        vertical-align: top;\n",
       "    }\n",
       "\n",
       "    .dataframe thead th {\n",
       "        text-align: right;\n",
       "    }\n",
       "</style>\n",
       "<table border=\"1\" class=\"dataframe\">\n",
       "  <thead>\n",
       "    <tr style=\"text-align: right;\">\n",
       "      <th></th>\n",
       "      <th>red_link_name</th>\n",
       "    </tr>\n",
       "  </thead>\n",
       "  <tbody>\n",
       "    <tr>\n",
       "      <th>0</th>\n",
       "      <td>Географія розвитку</td>\n",
       "    </tr>\n",
       "    <tr>\n",
       "      <th>1</th>\n",
       "      <td>Географія часу</td>\n",
       "    </tr>\n",
       "    <tr>\n",
       "      <th>3</th>\n",
       "      <td>Туристична географія</td>\n",
       "    </tr>\n",
       "    <tr>\n",
       "      <th>4</th>\n",
       "      <td>рентгенівська спектроскопія поглинання</td>\n",
       "    </tr>\n",
       "    <tr>\n",
       "      <th>5</th>\n",
       "      <td>рентгенівська фото електронна спектроскопія</td>\n",
       "    </tr>\n",
       "  </tbody>\n",
       "</table>\n",
       "</div>"
      ],
      "text/plain": [
       "                                 red_link_name\n",
       "0                           Географія розвитку\n",
       "1                               Географія часу\n",
       "3                         Туристична географія\n",
       "4       рентгенівська спектроскопія поглинання\n",
       "5  рентгенівська фото електронна спектроскопія"
      ]
     },
     "execution_count": 38,
     "metadata": {},
     "output_type": "execute_result"
    }
   ],
   "source": [
    "all_uk_redlinks_unique.head()"
   ]
  },
  {
   "cell_type": "code",
   "execution_count": 43,
   "metadata": {},
   "outputs": [],
   "source": [
    "ad = AlphabetDetector()"
   ]
  },
  {
   "cell_type": "code",
   "execution_count": 41,
   "metadata": {},
   "outputs": [],
   "source": [
    "def get_scripts(x):\n",
    "    x_set = ad.detect_alphabet(str(x))\n",
    "    x_list = list(x_set)\n",
    "    x_string = ' '.join(x_list)\n",
    "    return x_string"
   ]
  },
  {
   "cell_type": "code",
   "execution_count": 44,
   "metadata": {},
   "outputs": [],
   "source": [
    "all_uk_redlinks_unique['red_link_name_script_list_joined'] = all_uk_redlinks_with_parent_ids['red_link_name'].apply(lambda x: get_scripts(x))"
   ]
  },
  {
   "cell_type": "code",
   "execution_count": 46,
   "metadata": {},
   "outputs": [
    {
     "data": {
      "text/html": [
       "<div>\n",
       "<style scoped>\n",
       "    .dataframe tbody tr th:only-of-type {\n",
       "        vertical-align: middle;\n",
       "    }\n",
       "\n",
       "    .dataframe tbody tr th {\n",
       "        vertical-align: top;\n",
       "    }\n",
       "\n",
       "    .dataframe thead th {\n",
       "        text-align: right;\n",
       "    }\n",
       "</style>\n",
       "<table border=\"1\" class=\"dataframe\">\n",
       "  <thead>\n",
       "    <tr style=\"text-align: right;\">\n",
       "      <th></th>\n",
       "      <th>red_link_name</th>\n",
       "      <th>red_link_name_script_list_joined</th>\n",
       "    </tr>\n",
       "  </thead>\n",
       "  <tbody>\n",
       "    <tr>\n",
       "      <th>0</th>\n",
       "      <td>Географія розвитку</td>\n",
       "      <td>CYRILLIC</td>\n",
       "    </tr>\n",
       "    <tr>\n",
       "      <th>1</th>\n",
       "      <td>Географія часу</td>\n",
       "      <td>CYRILLIC</td>\n",
       "    </tr>\n",
       "    <tr>\n",
       "      <th>3</th>\n",
       "      <td>Туристична географія</td>\n",
       "      <td>CYRILLIC</td>\n",
       "    </tr>\n",
       "    <tr>\n",
       "      <th>4</th>\n",
       "      <td>рентгенівська спектроскопія поглинання</td>\n",
       "      <td>CYRILLIC</td>\n",
       "    </tr>\n",
       "    <tr>\n",
       "      <th>5</th>\n",
       "      <td>рентгенівська фото електронна спектроскопія</td>\n",
       "      <td>CYRILLIC</td>\n",
       "    </tr>\n",
       "  </tbody>\n",
       "</table>\n",
       "</div>"
      ],
      "text/plain": [
       "                                 red_link_name  \\\n",
       "0                           Географія розвитку   \n",
       "1                               Географія часу   \n",
       "3                         Туристична географія   \n",
       "4       рентгенівська спектроскопія поглинання   \n",
       "5  рентгенівська фото електронна спектроскопія   \n",
       "\n",
       "  red_link_name_script_list_joined  \n",
       "0                         CYRILLIC  \n",
       "1                         CYRILLIC  \n",
       "3                         CYRILLIC  \n",
       "4                         CYRILLIC  \n",
       "5                         CYRILLIC  "
      ]
     },
     "execution_count": 46,
     "metadata": {},
     "output_type": "execute_result"
    }
   ],
   "source": [
    "all_uk_redlinks_unique.head()"
   ]
  },
  {
   "cell_type": "code",
   "execution_count": 45,
   "metadata": {},
   "outputs": [
    {
     "data": {
      "text/plain": [
       "array(['CYRILLIC', 'LATIN', 'CYRILLIC LATIN', 'GREEK', '', 'CJK',\n",
       "       'GREEK CYRILLIC', 'CYRILLIC GREEK', 'CYRILLIC MODIFIER',\n",
       "       'HIRAGANA CJK', 'ARABIC', 'GREEK LATIN', 'KATAKANA',\n",
       "       'HIRAGANA KATAKANA-HIRAGANA', 'KATAKANA KATAKANA-HIRAGANA',\n",
       "       'KATAKANA CJK', 'HIRAGANA',\n",
       "       'HIRAGANA KATAKANA CJK KATAKANA-HIRAGANA', 'HALFWIDTH',\n",
       "       'CYRILLIC CJK', 'KATAKANA CJK KATAKANA-HIRAGANA',\n",
       "       'CJK IDEOGRAPHIC', 'MASCULINE LATIN', 'CYRILLIC MASCULINE LATIN',\n",
       "       'CYRILLIC MICRO', 'MICRO LATIN', 'CYRILLIC GREEK LATIN',\n",
       "       'GREEK CYRILLIC LATIN', 'CYRILLIC MASCULINE', 'HANGUL',\n",
       "       'CYRILLIC CJK LATIN', 'CYRILLIC HANGUL LATIN', 'ARMENIAN',\n",
       "       'MODIFIER LATIN', 'CYRILLIC MODIFIER LATIN',\n",
       "       'HIRAGANA KATAKANA LATIN', 'CYRILLIC HIRAGANA CJK',\n",
       "       'HIRAGANA KATAKANA KATAKANA-HIRAGANA', 'FEMININE LATIN',\n",
       "       'KATAKANA KATAKANA-HIRAGANA LATIN', 'CJK LATIN',\n",
       "       'KATAKANA LATIN KATAKANA-HIRAGANA', 'GEORGIAN'], dtype=object)"
      ]
     },
     "execution_count": 45,
     "metadata": {},
     "output_type": "execute_result"
    }
   ],
   "source": [
    "all_uk_redlinks_unique['red_link_name_script_list_joined'].unique()"
   ]
  },
  {
   "cell_type": "code",
   "execution_count": 47,
   "metadata": {},
   "outputs": [],
   "source": [
    "cyrillic_scripts = ['CYRILLIC', 'CYRILLIC MODIFIER', 'MASCULINE CYRILLIC']\n",
    "\n",
    "latin_scripts = ['LATIN', 'LATIN MASCULINE', 'LATIN MICRO', 'LATIN MODIFIER', 'LATIN FEMININE']\n",
    "\n",
    "greek_scripts = ['GREEK']\n",
    "\n",
    "cjk_scripts = ['CJK',\n",
    "               'HIRAGANA CJK',\n",
    "               'KATAKANA',\n",
    "               'KATAKANA-HIRAGANA HIRAGANA',\n",
    "               'KATAKANA-HIRAGANA KATAKANA',\n",
    "               'KATAKANA CJK',\n",
    "               'HIRAGANA',\n",
    "               'KATAKANA-HIRAGANA KATAKANA HIRAGANA CJK',\n",
    "               'HANGUL',\n",
    "               'KATAKANA-HIRAGANA KATAKANA CJK',\n",
    "               'IDEOGRAPHIC CJK',\n",
    "               'KATAKANA-HIRAGANA KATAKANA HIRAGANA']\n",
    "\n",
    "arabic_scripts = ['ARABIC']\n",
    "\n",
    "armenian_scripts = ['ARMENIAN']\n",
    "\n",
    "georgian_scripts = ['GEORGIAN']\n",
    "\n",
    "mixed_scripts = ['mixed',\n",
    "                 'LATIN CYRILLIC',\n",
    "                 'LATIN MASCULINE CYRILLIC',\n",
    "                 'MICRO CYRILLIC',\n",
    "                 'LATIN CYRILLIC MODIFIER',\n",
    "                 'GREEK CYRILLIC',\n",
    "                 'LATIN GREEK',\n",
    "                 'CYRILLIC CJK',\n",
    "                 'LATIN GREEK CYRILLIC',\n",
    "                 'LATIN CYRILLIC CJK',\n",
    "                 'LATIN CYRILLIC HANGUL',\n",
    "                 'LATIN KATAKANA HIRAGANA',\n",
    "                 'LATIN KATAKANA-HIRAGANA KATAKANA',\n",
    "                 'LATIN CJK',\n",
    "                 'KATAKANA-HIRAGANA LATIN KATAKANA',\n",
    "                 'CYRILLIC HIRAGANA CJK']\n",
    "\n",
    "number_scripts = ['number', '']\n",
    "\n",
    "symbol_scripts = ['symbol', 'HALFWIDTH']"
   ]
  },
  {
   "cell_type": "code",
   "execution_count": 53,
   "metadata": {},
   "outputs": [],
   "source": [
    "all_scripts = [cyrillic_scripts, latin_scripts, greek_scripts, cjk_scripts,\n",
    "               arabic_scripts, armenian_scripts, georgian_scripts,\n",
    "               mixed_scripts, number_scripts, symbol_scripts]"
   ]
  },
  {
   "cell_type": "code",
   "execution_count": 48,
   "metadata": {},
   "outputs": [],
   "source": [
    "def calculate_script_stats(script_list, df, column_name):\n",
    "    len_s = 0\n",
    "    for s in script_list:\n",
    "        len_s += len(df[df[column_name]==s])\n",
    "        script_perc = len_s/len(df)\n",
    "    print(script_list[0], len_s)\n",
    "    print('script_perc', script_list[0], script_perc)"
   ]
  },
  {
   "cell_type": "code",
   "execution_count": 55,
   "metadata": {},
   "outputs": [
    {
     "name": "stdout",
     "output_type": "stream",
     "text": [
      "CYRILLIC 810953\n",
      "script_perc CYRILLIC 0.6584259865189412\n",
      "\n",
      "LATIN 388409\n",
      "script_perc LATIN 0.31535561123497347\n",
      "\n",
      "GREEK 88\n",
      "script_perc GREEK 7.144863736081724e-05\n",
      "\n",
      "CJK 2120\n",
      "script_perc CJK 0.001721262627328779\n",
      "\n",
      "ARABIC 22\n",
      "script_perc ARABIC 1.786215934020431e-05\n",
      "\n",
      "ARMENIAN 4\n",
      "script_perc ARMENIAN 3.247665334582602e-06\n",
      "\n",
      "GEORGIAN 2\n",
      "script_perc GEORGIAN 1.623832667291301e-06\n",
      "\n",
      "mixed 117\n",
      "script_perc mixed 9.499421103654111e-05\n",
      "\n",
      "number 586\n",
      "script_perc number 0.0004757829715163512\n",
      "\n",
      "symbol 1\n",
      "script_perc symbol 8.119163336456505e-07\n",
      "\n"
     ]
    }
   ],
   "source": [
    "for s in all_scripts:\n",
    "    calculate_script_stats(s, all_uk_redlinks_unique, 'red_link_name_script_list_joined')\n",
    "    print()"
   ]
  },
  {
   "cell_type": "code",
   "execution_count": null,
   "metadata": {
    "collapsed": true
   },
   "outputs": [],
   "source": []
  },
  {
   "cell_type": "markdown",
   "metadata": {},
   "source": [
    "## Distribution of metrics results"
   ]
  },
  {
   "cell_type": "code",
   "execution_count": 56,
   "metadata": {},
   "outputs": [],
   "source": [
    "with_gt_df = pd.read_csv(PATH_TO_DATA + 'ukredlinks_pairs_final.csv')"
   ]
  },
  {
   "cell_type": "code",
   "execution_count": 57,
   "metadata": {},
   "outputs": [
    {
     "data": {
      "text/html": [
       "<div>\n",
       "<style scoped>\n",
       "    .dataframe tbody tr th:only-of-type {\n",
       "        vertical-align: middle;\n",
       "    }\n",
       "\n",
       "    .dataframe tbody tr th {\n",
       "        vertical-align: top;\n",
       "    }\n",
       "\n",
       "    .dataframe thead th {\n",
       "        text-align: right;\n",
       "    }\n",
       "</style>\n",
       "<table border=\"1\" class=\"dataframe\">\n",
       "  <thead>\n",
       "    <tr style=\"text-align: right;\">\n",
       "      <th></th>\n",
       "      <th>Unnamed: 0</th>\n",
       "      <th>red_link_cand</th>\n",
       "      <th>ground truth</th>\n",
       "      <th>concur_score</th>\n",
       "      <th>pair_unique_id</th>\n",
       "      <th>red_link_name</th>\n",
       "      <th>candidate</th>\n",
       "      <th>true_label</th>\n",
       "      <th>BN_results</th>\n",
       "      <th>jaccard_score</th>\n",
       "      <th>levenstein_score</th>\n",
       "    </tr>\n",
       "  </thead>\n",
       "  <tbody>\n",
       "    <tr>\n",
       "      <th>0</th>\n",
       "      <td>0</td>\n",
       "      <td>Panolis flammea Batrachedra praeangusta</td>\n",
       "      <td>Pine beauty</td>\n",
       "      <td>0.02369</td>\n",
       "      <td>6585</td>\n",
       "      <td>Panolis flammea</td>\n",
       "      <td>Batrachedra praeangusta</td>\n",
       "      <td>False</td>\n",
       "      <td>0</td>\n",
       "      <td>0.014</td>\n",
       "      <td>0.826</td>\n",
       "    </tr>\n",
       "    <tr>\n",
       "      <th>1</th>\n",
       "      <td>1</td>\n",
       "      <td>Panolis flammea Argyresthia conjugella</td>\n",
       "      <td>Pine beauty</td>\n",
       "      <td>0.02734</td>\n",
       "      <td>6441</td>\n",
       "      <td>Panolis flammea</td>\n",
       "      <td>Argyresthia conjugella</td>\n",
       "      <td>False</td>\n",
       "      <td>0</td>\n",
       "      <td>0.017</td>\n",
       "      <td>0.818</td>\n",
       "    </tr>\n",
       "    <tr>\n",
       "      <th>2</th>\n",
       "      <td>2</td>\n",
       "      <td>Panolis flammea Wittia sororcula</td>\n",
       "      <td>Pine beauty</td>\n",
       "      <td>0.02767</td>\n",
       "      <td>5053</td>\n",
       "      <td>Panolis flammea</td>\n",
       "      <td>Wittia sororcula</td>\n",
       "      <td>False</td>\n",
       "      <td>0</td>\n",
       "      <td>0.004</td>\n",
       "      <td>0.875</td>\n",
       "    </tr>\n",
       "    <tr>\n",
       "      <th>3</th>\n",
       "      <td>3</td>\n",
       "      <td>Panolis flammea Speckled wood (butterfly)</td>\n",
       "      <td>Pine beauty</td>\n",
       "      <td>0.02197</td>\n",
       "      <td>7390</td>\n",
       "      <td>Panolis flammea</td>\n",
       "      <td>Speckled wood (butterfly)</td>\n",
       "      <td>False</td>\n",
       "      <td>0</td>\n",
       "      <td>0.012</td>\n",
       "      <td>0.880</td>\n",
       "    </tr>\n",
       "    <tr>\n",
       "      <th>4</th>\n",
       "      <td>4</td>\n",
       "      <td>Panolis flammea Nemophora fasciella</td>\n",
       "      <td>Pine beauty</td>\n",
       "      <td>0.02425</td>\n",
       "      <td>7042</td>\n",
       "      <td>Panolis flammea</td>\n",
       "      <td>Nemophora fasciella</td>\n",
       "      <td>False</td>\n",
       "      <td>0</td>\n",
       "      <td>0.004</td>\n",
       "      <td>0.737</td>\n",
       "    </tr>\n",
       "  </tbody>\n",
       "</table>\n",
       "</div>"
      ],
      "text/plain": [
       "   Unnamed: 0                              red_link_cand ground truth  \\\n",
       "0           0    Panolis flammea Batrachedra praeangusta  Pine beauty   \n",
       "1           1     Panolis flammea Argyresthia conjugella  Pine beauty   \n",
       "2           2           Panolis flammea Wittia sororcula  Pine beauty   \n",
       "3           3  Panolis flammea Speckled wood (butterfly)  Pine beauty   \n",
       "4           4        Panolis flammea Nemophora fasciella  Pine beauty   \n",
       "\n",
       "   concur_score  pair_unique_id    red_link_name                  candidate  \\\n",
       "0       0.02369            6585  Panolis flammea    Batrachedra praeangusta   \n",
       "1       0.02734            6441  Panolis flammea     Argyresthia conjugella   \n",
       "2       0.02767            5053  Panolis flammea           Wittia sororcula   \n",
       "3       0.02197            7390  Panolis flammea  Speckled wood (butterfly)   \n",
       "4       0.02425            7042  Panolis flammea        Nemophora fasciella   \n",
       "\n",
       "   true_label  BN_results  jaccard_score  levenstein_score  \n",
       "0       False           0          0.014             0.826  \n",
       "1       False           0          0.017             0.818  \n",
       "2       False           0          0.004             0.875  \n",
       "3       False           0          0.012             0.880  \n",
       "4       False           0          0.004             0.737  "
      ]
     },
     "execution_count": 57,
     "metadata": {},
     "output_type": "execute_result"
    }
   ],
   "source": [
    "with_gt_df.head()"
   ]
  },
  {
   "cell_type": "code",
   "execution_count": 58,
   "metadata": {},
   "outputs": [
    {
     "data": {
      "text/plain": [
       "(2890926, 11)"
      ]
     },
     "execution_count": 58,
     "metadata": {},
     "output_type": "execute_result"
    }
   ],
   "source": [
    "with_gt_df.shape"
   ]
  },
  {
   "cell_type": "markdown",
   "metadata": {},
   "source": [
    "## Distribution for Jaccard scores on incoming links"
   ]
  },
  {
   "cell_type": "code",
   "execution_count": 59,
   "metadata": {},
   "outputs": [
    {
     "data": {
      "image/png": "[encoded data removed]",
      "text/plain": [
       "<Figure size 432x288 with 1 Axes>"
      ]
     },
     "metadata": {
      "needs_background": "light"
     },
     "output_type": "display_data"
    }
   ],
   "source": [
    "# define number of bins and round its values\n",
    "bins_j = np.linspace(0,1,30).tolist()\n",
    "bins_j = list(map(lambda x: round(x, 2), bins_j))\n",
    "\n",
    "# get number of scores in each bin and indexes of scores in each bin\n",
    "indexes = [[] for _ in range(len(bins_j)-1)]\n",
    "\n",
    "for index in range(with_gt_df.shape[0]):\n",
    "    for b in range(len(bins_j)-1):\n",
    "        score = with_gt_df['jaccard_score'][index]\n",
    "        if score < bins_j[b+1]:\n",
    "            indexes[b].append(index)\n",
    "            break\n",
    "            \n",
    "number_of_scores_in_bin = list(map(lambda x: len(x), indexes))\n",
    "\n",
    "# plot Jaccard score distribution\n",
    "plt.bar(bins_j[:-1], number_of_scores_in_bin, width=0.02, align='center')\n",
    "plt.xlabel('Jaccard score', fontsize=14)\n",
    "plt.ylabel('Number of red links', fontsize=14)\n",
    "#plt.title('Jaccard score distribution', fontsize=14)\n",
    "plt.show()"
   ]
  },
  {
   "cell_type": "markdown",
   "metadata": {},
   "source": [
    "### plot distribution of true values"
   ]
  },
  {
   "cell_type": "code",
   "execution_count": 60,
   "metadata": {},
   "outputs": [
    {
     "data": {
      "image/png": "[encoded data removed]",
      "text/plain": [
       "<Figure size 432x288 with 1 Axes>"
      ]
     },
     "metadata": {
      "needs_background": "light"
     },
     "output_type": "display_data"
    }
   ],
   "source": [
    "# get a number of true values in each bin\n",
    "trues_all = []\n",
    "for i in indexes:\n",
    "    trues = list(map(lambda x: with_gt_df['true_label'][x], i))\n",
    "    trues_all.append(trues)\n",
    "\n",
    "truess = list(map(lambda x: x.count(True), trues_all))\n",
    "\n",
    "# plot distribution of true values\n",
    "plt.bar(bins_j[1:], truess, width=0.03, align='edge')\n",
    "plt.xlabel('Jaccard score', fontsize=14)\n",
    "plt.ylabel('Number of red links', fontsize=14)\n",
    "#plt.title('Distribution of true values for Jaccard score distribution')\n",
    "plt.show()"
   ]
  },
  {
   "cell_type": "markdown",
   "metadata": {},
   "source": [
    "### plot relative distribution for Jaccard scores on incoming links"
   ]
  },
  {
   "cell_type": "code",
   "execution_count": 62,
   "metadata": {},
   "outputs": [
    {
     "data": {
      "image/png": "[encoded data removed]",
      "text/plain": [
       "<Figure size 432x288 with 1 Axes>"
      ]
     },
     "metadata": {
      "needs_background": "light"
     },
     "output_type": "display_data"
    }
   ],
   "source": [
    "plt.bar(bins_j[:-1], np.array(truess) / np.array(number_of_scores_in_bin), width=0.02, align='edge')\n",
    "plt.xlabel('Jaccard score', fontsize=14)\n",
    "plt.ylabel('# of true labels / # of red links', fontsize=14)\n",
    "#plt.title('Fraction of true labels for Jaccard distribution')\n",
    "plt.show()"
   ]
  },
  {
   "cell_type": "code",
   "execution_count": null,
   "metadata": {},
   "outputs": [],
   "source": []
  },
  {
   "cell_type": "markdown",
   "metadata": {},
   "source": [
    "## Distribution for Levenstein scores"
   ]
  },
  {
   "cell_type": "code",
   "execution_count": 63,
   "metadata": {},
   "outputs": [
    {
     "data": {
      "image/png": "[encoded data removed]",
      "text/plain": [
       "<Figure size 432x288 with 1 Axes>"
      ]
     },
     "metadata": {
      "needs_background": "light"
     },
     "output_type": "display_data"
    }
   ],
   "source": [
    "# define number of bins and round its values\n",
    "bins = np.linspace(0,1,30).tolist()\n",
    "bins = list(map(lambda x: round(x, 2), bins))\n",
    "\n",
    "indexes_ld = [[] for _ in range(len(bins)-1)]\n",
    "\n",
    "for index in range(with_gt_df.shape[0]):\n",
    "    for b in range(len(bins)-1):\n",
    "        score = with_gt_df['levenstein_score'][index]\n",
    "        if score < bins[b+1]:\n",
    "            indexes_ld[b].append(index)\n",
    "            break\n",
    "            \n",
    "number_of_scores_in_bin_ld = list(map(lambda x: len(x), indexes_ld))\n",
    "\n",
    "# get a number of true values in each bin\n",
    "trues_all_ld = []\n",
    "for i in indexes_ld:\n",
    "    trues = list(map(lambda x: with_gt_df['true_label'][x], i))\n",
    "    trues_all_ld.append(trues)\n",
    "\n",
    "truess_ld = list(map(lambda x: x.count(True), trues_all_ld))\n",
    "\n",
    "# plot Levenstein score distribution\n",
    "plt.bar(bins[:-1], number_of_scores_in_bin_ld, width=0.02, align='edge')\n",
    "plt.xlabel('Levenstein score', fontsize=14)\n",
    "plt.ylabel('Number of red links', fontsize=14)\n",
    "#plt.title('Levenstein score distribution')\n",
    "plt.show()"
   ]
  },
  {
   "cell_type": "markdown",
   "metadata": {},
   "source": [
    "### plot distribution of true values"
   ]
  },
  {
   "cell_type": "code",
   "execution_count": 64,
   "metadata": {},
   "outputs": [
    {
     "data": {
      "image/png": "[encoded data removed]",
      "text/plain": [
       "<Figure size 432x288 with 1 Axes>"
      ]
     },
     "metadata": {
      "needs_background": "light"
     },
     "output_type": "display_data"
    }
   ],
   "source": [
    "plt.bar(bins[:-1], truess_ld, width=0.02, align='edge')\n",
    "plt.xlabel('Levenstein score', fontsize=14)\n",
    "plt.ylabel('Number of red links', fontsize=14)\n",
    "#plt.title('Distribution of true values for Levenstein score distribution')\n",
    "plt.show()"
   ]
  },
  {
   "cell_type": "markdown",
   "metadata": {},
   "source": [
    "### plot relative distribution for Levenshtein scores"
   ]
  },
  {
   "cell_type": "code",
   "execution_count": 65,
   "metadata": {},
   "outputs": [
    {
     "data": {
      "image/png": "[encoded data removed]",
      "text/plain": [
       "<Figure size 432x288 with 1 Axes>"
      ]
     },
     "metadata": {
      "needs_background": "light"
     },
     "output_type": "display_data"
    }
   ],
   "source": [
    "plt.bar(bins[:-1], np.array(truess_ld) / np.array(number_of_scores_in_bin_ld), width=0.02, align='edge')\n",
    "plt.xlabel('Levenstein score distribution', fontsize=14)\n",
    "plt.ylabel('# of true labels / # of red links', fontsize=14)\n",
    "#plt.title('Fraction of true labels for Levenstein distribution')\n",
    "plt.show()"
   ]
  },
  {
   "cell_type": "code",
   "execution_count": null,
   "metadata": {},
   "outputs": [],
   "source": []
  },
  {
   "cell_type": "markdown",
   "metadata": {},
   "source": [
    "## Distribution for Jaccard scores on concurrent links"
   ]
  },
  {
   "cell_type": "code",
   "execution_count": 66,
   "metadata": {},
   "outputs": [
    {
     "data": {
      "image/png": "[encoded data removed]",
      "text/plain": [
       "<Figure size 432x288 with 1 Axes>"
      ]
     },
     "metadata": {
      "needs_background": "light"
     },
     "output_type": "display_data"
    }
   ],
   "source": [
    "# define number of bins and round its values\n",
    "bins_j = np.linspace(0,1,30).tolist()\n",
    "bins_j = list(map(lambda x: round(x, 2), bins_j))\n",
    "\n",
    "# get number of scores in each bin and indexes of scores in each bin\n",
    "indexes = [[] for _ in range(len(bins_j)-1)]\n",
    "\n",
    "for index in range(with_gt_df.shape[0]):\n",
    "    for b in range(len(bins_j)-1):\n",
    "        score = with_gt_df['concur_score'][index]\n",
    "        if score < bins_j[b+1]:\n",
    "            indexes[b].append(index)\n",
    "            break\n",
    "            \n",
    "number_of_scores_in_bin = list(map(lambda x: len(x), indexes))\n",
    "\n",
    "# plot Jaccard score distribution\n",
    "plt.bar(bins_j[:-1], number_of_scores_in_bin, width=0.02, align='center')\n",
    "plt.xlabel('Jaccard concurrent score', fontsize=14)\n",
    "plt.ylabel('Number of red links', fontsize=14)\n",
    "#plt.title('Jaccard concurrent score distribution')\n",
    "plt.show()"
   ]
  },
  {
   "cell_type": "markdown",
   "metadata": {},
   "source": [
    "### plot distribution of true values"
   ]
  },
  {
   "cell_type": "code",
   "execution_count": 67,
   "metadata": {},
   "outputs": [
    {
     "data": {
      "image/png": "[encoded data removed]",
      "text/plain": [
       "<Figure size 432x288 with 1 Axes>"
      ]
     },
     "metadata": {
      "needs_background": "light"
     },
     "output_type": "display_data"
    }
   ],
   "source": [
    "# get a number of true values in each bin\n",
    "trues_all = []\n",
    "for i in indexes:\n",
    "    trues = list(map(lambda x: with_gt_df['true_label'][x], i))\n",
    "    trues_all.append(trues)\n",
    "\n",
    "truess = list(map(lambda x: x.count(True), trues_all))\n",
    "\n",
    "# plot distribution of true values\n",
    "plt.bar(bins_j[1:], truess, width=0.03, align='edge')\n",
    "plt.xlabel('Jaccard concurrent score', fontsize=14)\n",
    "plt.ylabel('Number of red links', fontsize=14)\n",
    "#plt.title('Distribution of true values for Jaccard concurrent score distribution')\n",
    "plt.show()"
   ]
  },
  {
   "cell_type": "markdown",
   "metadata": {},
   "source": [
    "### plot relative distribution for Levenshtein scores"
   ]
  },
  {
   "cell_type": "code",
   "execution_count": 68,
   "metadata": {},
   "outputs": [
    {
     "name": "stderr",
     "output_type": "stream",
     "text": [
      "/home/andrii/virtenvs/tb/lib/python3.6/site-packages/ipykernel_launcher.py:1: RuntimeWarning: invalid value encountered in true_divide\n",
      "  \"\"\"Entry point for launching an IPython kernel.\n"
     ]
    },
    {
     "data": {
      "image/png": "[encoded data removed]",
      "text/plain": [
       "<Figure size 432x288 with 1 Axes>"
      ]
     },
     "metadata": {
      "needs_background": "light"
     },
     "output_type": "display_data"
    }
   ],
   "source": [
    "plt.bar(bins_j[:-1], np.array(truess) / np.array(number_of_scores_in_bin), width=0.02, align='edge')\n",
    "plt.xlabel('Jaccard concurrent score', fontsize=14)\n",
    "plt.ylabel('# of true labels / # of red links', fontsize=14)\n",
    "#plt.title('Fraction of true labels for Jaccard concurrent distribution')\n",
    "plt.show()"
   ]
  },
  {
   "cell_type": "code",
   "execution_count": null,
   "metadata": {},
   "outputs": [],
   "source": []
  }
 ],
 "metadata": {
  "kernelspec": {
   "display_name": "Python 3",
   "language": "python",
   "name": "python3"
  },
  "language_info": {
   "codemirror_mode": {
    "name": "ipython",
    "version": 3
   },
   "file_extension": ".py",
   "mimetype": "text/x-python",
   "name": "python",
   "nbconvert_exporter": "python",
   "pygments_lexer": "ipython3",
   "version": "3.6.9"
  }
 },
 "nbformat": 4,
 "nbformat_minor": 2
}
