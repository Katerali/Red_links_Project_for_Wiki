{
 "cells": [
  {
   "cell_type": "code",
   "execution_count": 1,
   "metadata": {},
   "outputs": [],
   "source": [
    "import pandas as pd\n",
    "import os\n",
    "import re\n",
    "import numpy as np\n",
    "\n",
    "import pickle\n",
    "\n",
    "import sys\n",
    "sys.path.insert(0, '/media/andrii/earth/Katia/CS_MasterThesis/Red_links_Project_for_Wiki_draft/py')\n",
    "import functions\n",
    "\n",
    "import time"
   ]
  },
  {
   "cell_type": "code",
   "execution_count": 2,
   "metadata": {},
   "outputs": [],
   "source": [
    "from multiprocessing import Pool"
   ]
  },
  {
   "cell_type": "code",
   "execution_count": 3,
   "metadata": {},
   "outputs": [],
   "source": [
    "PATH_TO_DATA_UK = '/media/andrii/earth/Katia/CS_MasterThesis/data/ukwiki/ukwiki_20180920/'\n",
    "PATH_TO_DATA_EN = '/media/andrii/earth/Katia/CS_MasterThesis/data/enwiki/enwiki_20180920/'\n",
    "PATH_TO_DATA_RL = '/media/andrii/earth/Katia/CS_MasterThesis/data/ukwiki/uk_red_links/'\n",
    "PATH_TO_WIKIDATA_UK = '/media/andrii/earth/Katia/CS_MasterThesis/data/ukwiki/uk_wikidata/'\n",
    "PATH_TO_WIKIDATA_EN = '/media/andrii/earth/Katia/CS_MasterThesis/data/enwiki/en_wikidata/'"
   ]
  },
  {
   "cell_type": "code",
   "execution_count": null,
   "metadata": {},
   "outputs": [],
   "source": []
  },
  {
   "cell_type": "code",
   "execution_count": null,
   "metadata": {},
   "outputs": [],
   "source": []
  },
  {
   "cell_type": "code",
   "execution_count": null,
   "metadata": {},
   "outputs": [],
   "source": []
  },
  {
   "cell_type": "code",
   "execution_count": null,
   "metadata": {},
   "outputs": [],
   "source": []
  },
  {
   "cell_type": "markdown",
   "metadata": {},
   "source": [
    "### Get Wikidata-Wikipedia correspondences for English pages"
   ]
  },
  {
   "cell_type": "code",
   "execution_count": 4,
   "metadata": {},
   "outputs": [
    {
     "name": "stderr",
     "output_type": "stream",
     "text": [
      "/home/andrii/apps/anaconda3/lib/python3.6/site-packages/numpy/lib/arraysetops.py:522: FutureWarning: elementwise comparison failed; returning scalar instead, but in the future will perform elementwise comparison\n",
      "  mask |= (ar1 == a)\n"
     ]
    }
   ],
   "source": [
    "enwikidata = pd.read_csv(PATH_TO_WIKIDATA_EN+'enwikidataItem.csv', index_col=0)"
   ]
  },
  {
   "cell_type": "code",
   "execution_count": 5,
   "metadata": {},
   "outputs": [],
   "source": [
    "en_id_name = pd.read_csv(PATH_TO_DATA_EN+'enwiki-20180920-id_name.csv', sep='^')"
   ]
  },
  {
   "cell_type": "code",
   "execution_count": 6,
   "metadata": {},
   "outputs": [],
   "source": [
    "en_wikidata_wikipedia = pd.merge(enwikidata, en_id_name, how='left', left_on=['ips_site_page'], right_on=['title'])"
   ]
  },
  {
   "cell_type": "code",
   "execution_count": 7,
   "metadata": {},
   "outputs": [],
   "source": [
    "en_wikidata_wikipedia = en_wikidata_wikipedia[['ips_item_id', 'title', 'id']]\n",
    "en_wikidata_wikipedia.columns = ['wikidata_id', 'title', 'en_wikipedia_id']"
   ]
  },
  {
   "cell_type": "code",
   "execution_count": 8,
   "metadata": {},
   "outputs": [
    {
     "data": {
      "text/html": [
       "<div>\n",
       "<style scoped>\n",
       "    .dataframe tbody tr th:only-of-type {\n",
       "        vertical-align: middle;\n",
       "    }\n",
       "\n",
       "    .dataframe tbody tr th {\n",
       "        vertical-align: top;\n",
       "    }\n",
       "\n",
       "    .dataframe thead th {\n",
       "        text-align: right;\n",
       "    }\n",
       "</style>\n",
       "<table border=\"1\" class=\"dataframe\">\n",
       "  <thead>\n",
       "    <tr style=\"text-align: right;\">\n",
       "      <th></th>\n",
       "      <th>wikidata_id</th>\n",
       "      <th>title</th>\n",
       "      <th>en_wikipedia_id</th>\n",
       "    </tr>\n",
       "  </thead>\n",
       "  <tbody>\n",
       "    <tr>\n",
       "      <th>0</th>\n",
       "      <td>3466056</td>\n",
       "      <td>!PAUS3</td>\n",
       "      <td>33744797.0</td>\n",
       "    </tr>\n",
       "    <tr>\n",
       "      <th>1</th>\n",
       "      <td>4540212</td>\n",
       "      <td>\"And\" theory of conservatism</td>\n",
       "      <td>9003666.0</td>\n",
       "    </tr>\n",
       "    <tr>\n",
       "      <th>2</th>\n",
       "      <td>3284078</td>\n",
       "      <td>\"Buzz!!\" The Movie</td>\n",
       "      <td>13623996.0</td>\n",
       "    </tr>\n",
       "    <tr>\n",
       "      <th>3</th>\n",
       "      <td>4540290</td>\n",
       "      <td>\"In\" Jazz for the Culture Set</td>\n",
       "      <td>32066421.0</td>\n",
       "    </tr>\n",
       "    <tr>\n",
       "      <th>4</th>\n",
       "      <td>4540291</td>\n",
       "      <td>\"Isis\" of the Suebi</td>\n",
       "      <td>31500663.0</td>\n",
       "    </tr>\n",
       "  </tbody>\n",
       "</table>\n",
       "</div>"
      ],
      "text/plain": [
       "   wikidata_id                          title  en_wikipedia_id\n",
       "0      3466056                         !PAUS3       33744797.0\n",
       "1      4540212   \"And\" theory of conservatism        9003666.0\n",
       "2      3284078             \"Buzz!!\" The Movie       13623996.0\n",
       "3      4540290  \"In\" Jazz for the Culture Set       32066421.0\n",
       "4      4540291            \"Isis\" of the Suebi       31500663.0"
      ]
     },
     "execution_count": 8,
     "metadata": {},
     "output_type": "execute_result"
    }
   ],
   "source": [
    "en_wikidata_wikipedia.head()"
   ]
  },
  {
   "cell_type": "code",
   "execution_count": 9,
   "metadata": {
    "scrolled": true
   },
   "outputs": [
    {
     "data": {
      "text/plain": [
       "(8005914, 3)"
      ]
     },
     "execution_count": 9,
     "metadata": {},
     "output_type": "execute_result"
    }
   ],
   "source": [
    "en_wikidata_wikipedia.shape"
   ]
  },
  {
   "cell_type": "code",
   "execution_count": 10,
   "metadata": {},
   "outputs": [],
   "source": [
    "en_wikidata_wikipedia = en_wikidata_wikipedia.drop_duplicates()"
   ]
  },
  {
   "cell_type": "code",
   "execution_count": 11,
   "metadata": {},
   "outputs": [
    {
     "data": {
      "text/plain": [
       "(7928332, 3)"
      ]
     },
     "execution_count": 11,
     "metadata": {},
     "output_type": "execute_result"
    }
   ],
   "source": [
    "en_wikidata_wikipedia.shape"
   ]
  },
  {
   "cell_type": "code",
   "execution_count": null,
   "metadata": {},
   "outputs": [],
   "source": []
  },
  {
   "cell_type": "markdown",
   "metadata": {},
   "source": [
    "### Load candidate pairs"
   ]
  },
  {
   "cell_type": "code",
   "execution_count": 12,
   "metadata": {},
   "outputs": [],
   "source": [
    "files = [f for f in os.listdir(PATH_TO_DATA_RL+'candidates/') if re.match(r'[a-zA-Z]+_\\d+.csv', f)]"
   ]
  },
  {
   "cell_type": "code",
   "execution_count": 13,
   "metadata": {},
   "outputs": [
    {
     "name": "stdout",
     "output_type": "stream",
     "text": [
      "101\n",
      "1/101\n",
      "/media/andrii/earth/Katia/CS_MasterThesis/data/ukwiki/uk_red_links/candidates/candidates_15.csv\n",
      "2/101\n",
      "/media/andrii/earth/Katia/CS_MasterThesis/data/ukwiki/uk_red_links/candidates/candidates_93.csv\n",
      "3/101\n",
      "/media/andrii/earth/Katia/CS_MasterThesis/data/ukwiki/uk_red_links/candidates/candidates_68.csv\n",
      "4/101\n",
      "/media/andrii/earth/Katia/CS_MasterThesis/data/ukwiki/uk_red_links/candidates/candidates_45.csv\n",
      "5/101\n",
      "/media/andrii/earth/Katia/CS_MasterThesis/data/ukwiki/uk_red_links/candidates/candidates_23.csv\n",
      "6/101\n",
      "/media/andrii/earth/Katia/CS_MasterThesis/data/ukwiki/uk_red_links/candidates/candidates_79.csv\n",
      "7/101\n",
      "/media/andrii/earth/Katia/CS_MasterThesis/data/ukwiki/uk_red_links/candidates/candidates_74.csv\n",
      "8/101\n",
      "/media/andrii/earth/Katia/CS_MasterThesis/data/ukwiki/uk_red_links/candidates/candidates_42.csv\n",
      "9/101\n",
      "/media/andrii/earth/Katia/CS_MasterThesis/data/ukwiki/uk_red_links/candidates/candidates_88.csv\n",
      "10/101\n",
      "/media/andrii/earth/Katia/CS_MasterThesis/data/ukwiki/uk_red_links/candidates/candidates_35.csv\n",
      "11/101\n",
      "/media/andrii/earth/Katia/CS_MasterThesis/data/ukwiki/uk_red_links/candidates/candidates_17.csv\n",
      "12/101\n",
      "/media/andrii/earth/Katia/CS_MasterThesis/data/ukwiki/uk_red_links/candidates/candidates_3.csv\n",
      "13/101\n",
      "/media/andrii/earth/Katia/CS_MasterThesis/data/ukwiki/uk_red_links/candidates/candidates_47.csv\n",
      "14/101\n",
      "/media/andrii/earth/Katia/CS_MasterThesis/data/ukwiki/uk_red_links/candidates/candidates_1.csv\n",
      "15/101\n",
      "/media/andrii/earth/Katia/CS_MasterThesis/data/ukwiki/uk_red_links/candidates/candidates_9.csv\n",
      "16/101\n",
      "/media/andrii/earth/Katia/CS_MasterThesis/data/ukwiki/uk_red_links/candidates/candidates_30.csv\n",
      "17/101\n",
      "/media/andrii/earth/Katia/CS_MasterThesis/data/ukwiki/uk_red_links/candidates/candidates_34.csv\n",
      "18/101\n",
      "/media/andrii/earth/Katia/CS_MasterThesis/data/ukwiki/uk_red_links/candidates/candidates_69.csv\n",
      "19/101\n",
      "/media/andrii/earth/Katia/CS_MasterThesis/data/ukwiki/uk_red_links/candidates/candidates_89.csv\n",
      "20/101\n",
      "/media/andrii/earth/Katia/CS_MasterThesis/data/ukwiki/uk_red_links/candidates/candidates_90.csv\n",
      "21/101\n",
      "/media/andrii/earth/Katia/CS_MasterThesis/data/ukwiki/uk_red_links/candidates/candidates_73.csv\n",
      "22/101\n",
      "/media/andrii/earth/Katia/CS_MasterThesis/data/ukwiki/uk_red_links/candidates/candidates_5.csv\n",
      "23/101\n",
      "/media/andrii/earth/Katia/CS_MasterThesis/data/ukwiki/uk_red_links/candidates/candidates_31.csv\n",
      "24/101\n",
      "/media/andrii/earth/Katia/CS_MasterThesis/data/ukwiki/uk_red_links/candidates/candidates_6.csv\n",
      "25/101\n",
      "/media/andrii/earth/Katia/CS_MasterThesis/data/ukwiki/uk_red_links/candidates/candidates_76.csv\n",
      "26/101\n",
      "/media/andrii/earth/Katia/CS_MasterThesis/data/ukwiki/uk_red_links/candidates/candidates_80.csv\n",
      "27/101\n",
      "/media/andrii/earth/Katia/CS_MasterThesis/data/ukwiki/uk_red_links/candidates/candidates_81.csv\n",
      "28/101\n",
      "/media/andrii/earth/Katia/CS_MasterThesis/data/ukwiki/uk_red_links/candidates/candidates_21.csv\n",
      "29/101\n",
      "/media/andrii/earth/Katia/CS_MasterThesis/data/ukwiki/uk_red_links/candidates/candidates_87.csv\n",
      "30/101\n",
      "/media/andrii/earth/Katia/CS_MasterThesis/data/ukwiki/uk_red_links/candidates/candidates_98.csv\n",
      "31/101\n",
      "/media/andrii/earth/Katia/CS_MasterThesis/data/ukwiki/uk_red_links/candidates/candidates_11.csv\n",
      "32/101\n",
      "/media/andrii/earth/Katia/CS_MasterThesis/data/ukwiki/uk_red_links/candidates/candidates_58.csv\n",
      "33/101\n",
      "/media/andrii/earth/Katia/CS_MasterThesis/data/ukwiki/uk_red_links/candidates/candidates_100.csv\n",
      "34/101\n",
      "/media/andrii/earth/Katia/CS_MasterThesis/data/ukwiki/uk_red_links/candidates/candidates_10.csv\n",
      "35/101\n",
      "/media/andrii/earth/Katia/CS_MasterThesis/data/ukwiki/uk_red_links/candidates/candidates_57.csv\n",
      "36/101\n",
      "/media/andrii/earth/Katia/CS_MasterThesis/data/ukwiki/uk_red_links/candidates/candidates_36.csv\n",
      "37/101\n",
      "/media/andrii/earth/Katia/CS_MasterThesis/data/ukwiki/uk_red_links/candidates/candidates_37.csv\n",
      "38/101\n",
      "/media/andrii/earth/Katia/CS_MasterThesis/data/ukwiki/uk_red_links/candidates/candidates_95.csv\n",
      "39/101\n",
      "/media/andrii/earth/Katia/CS_MasterThesis/data/ukwiki/uk_red_links/candidates/candidates_40.csv\n",
      "40/101\n",
      "/media/andrii/earth/Katia/CS_MasterThesis/data/ukwiki/uk_red_links/candidates/candidates_66.csv\n",
      "41/101\n",
      "/media/andrii/earth/Katia/CS_MasterThesis/data/ukwiki/uk_red_links/candidates/candidates_4.csv\n",
      "42/101\n",
      "/media/andrii/earth/Katia/CS_MasterThesis/data/ukwiki/uk_red_links/candidates/candidates_38.csv\n",
      "43/101\n",
      "/media/andrii/earth/Katia/CS_MasterThesis/data/ukwiki/uk_red_links/candidates/candidates_44.csv\n",
      "44/101\n",
      "/media/andrii/earth/Katia/CS_MasterThesis/data/ukwiki/uk_red_links/candidates/candidates_14.csv\n",
      "45/101\n",
      "/media/andrii/earth/Katia/CS_MasterThesis/data/ukwiki/uk_red_links/candidates/candidates_97.csv\n",
      "46/101\n",
      "/media/andrii/earth/Katia/CS_MasterThesis/data/ukwiki/uk_red_links/candidates/candidates_63.csv\n",
      "47/101\n",
      "/media/andrii/earth/Katia/CS_MasterThesis/data/ukwiki/uk_red_links/candidates/candidates_94.csv\n",
      "48/101\n",
      "/media/andrii/earth/Katia/CS_MasterThesis/data/ukwiki/uk_red_links/candidates/candidates_77.csv\n",
      "49/101\n",
      "/media/andrii/earth/Katia/CS_MasterThesis/data/ukwiki/uk_red_links/candidates/candidates_67.csv\n",
      "50/101\n",
      "/media/andrii/earth/Katia/CS_MasterThesis/data/ukwiki/uk_red_links/candidates/candidates_62.csv\n",
      "51/101\n",
      "/media/andrii/earth/Katia/CS_MasterThesis/data/ukwiki/uk_red_links/candidates/candidates_50.csv\n",
      "52/101\n",
      "/media/andrii/earth/Katia/CS_MasterThesis/data/ukwiki/uk_red_links/candidates/candidates_78.csv\n",
      "53/101\n",
      "/media/andrii/earth/Katia/CS_MasterThesis/data/ukwiki/uk_red_links/candidates/candidates_70.csv\n",
      "54/101\n",
      "/media/andrii/earth/Katia/CS_MasterThesis/data/ukwiki/uk_red_links/candidates/candidates_101.csv\n",
      "55/101\n",
      "/media/andrii/earth/Katia/CS_MasterThesis/data/ukwiki/uk_red_links/candidates/candidates_28.csv\n",
      "56/101\n",
      "/media/andrii/earth/Katia/CS_MasterThesis/data/ukwiki/uk_red_links/candidates/candidates_59.csv\n",
      "57/101\n",
      "/media/andrii/earth/Katia/CS_MasterThesis/data/ukwiki/uk_red_links/candidates/candidates_72.csv\n",
      "58/101\n",
      "/media/andrii/earth/Katia/CS_MasterThesis/data/ukwiki/uk_red_links/candidates/candidates_65.csv\n",
      "59/101\n",
      "/media/andrii/earth/Katia/CS_MasterThesis/data/ukwiki/uk_red_links/candidates/candidates_19.csv\n",
      "60/101\n",
      "/media/andrii/earth/Katia/CS_MasterThesis/data/ukwiki/uk_red_links/candidates/candidates_82.csv\n",
      "61/101\n",
      "/media/andrii/earth/Katia/CS_MasterThesis/data/ukwiki/uk_red_links/candidates/candidates_83.csv\n",
      "62/101\n",
      "/media/andrii/earth/Katia/CS_MasterThesis/data/ukwiki/uk_red_links/candidates/candidates_20.csv\n",
      "63/101\n",
      "/media/andrii/earth/Katia/CS_MasterThesis/data/ukwiki/uk_red_links/candidates/candidates_46.csv\n",
      "64/101\n",
      "/media/andrii/earth/Katia/CS_MasterThesis/data/ukwiki/uk_red_links/candidates/candidates_56.csv\n",
      "65/101\n",
      "/media/andrii/earth/Katia/CS_MasterThesis/data/ukwiki/uk_red_links/candidates/candidates_33.csv\n",
      "66/101\n",
      "/media/andrii/earth/Katia/CS_MasterThesis/data/ukwiki/uk_red_links/candidates/candidates_52.csv\n",
      "67/101\n",
      "/media/andrii/earth/Katia/CS_MasterThesis/data/ukwiki/uk_red_links/candidates/candidates_32.csv\n",
      "68/101\n",
      "/media/andrii/earth/Katia/CS_MasterThesis/data/ukwiki/uk_red_links/candidates/candidates_99.csv\n",
      "69/101\n",
      "/media/andrii/earth/Katia/CS_MasterThesis/data/ukwiki/uk_red_links/candidates/candidates_24.csv\n",
      "70/101\n",
      "/media/andrii/earth/Katia/CS_MasterThesis/data/ukwiki/uk_red_links/candidates/candidates_13.csv\n",
      "71/101\n",
      "/media/andrii/earth/Katia/CS_MasterThesis/data/ukwiki/uk_red_links/candidates/candidates_91.csv\n",
      "72/101\n",
      "/media/andrii/earth/Katia/CS_MasterThesis/data/ukwiki/uk_red_links/candidates/candidates_54.csv\n",
      "73/101\n",
      "/media/andrii/earth/Katia/CS_MasterThesis/data/ukwiki/uk_red_links/candidates/candidates_86.csv\n",
      "74/101\n",
      "/media/andrii/earth/Katia/CS_MasterThesis/data/ukwiki/uk_red_links/candidates/candidates_92.csv\n",
      "75/101\n",
      "/media/andrii/earth/Katia/CS_MasterThesis/data/ukwiki/uk_red_links/candidates/candidates_60.csv\n",
      "76/101\n",
      "/media/andrii/earth/Katia/CS_MasterThesis/data/ukwiki/uk_red_links/candidates/candidates_53.csv\n",
      "77/101\n",
      "/media/andrii/earth/Katia/CS_MasterThesis/data/ukwiki/uk_red_links/candidates/candidates_16.csv\n",
      "78/101\n",
      "/media/andrii/earth/Katia/CS_MasterThesis/data/ukwiki/uk_red_links/candidates/candidates_75.csv\n",
      "79/101\n",
      "/media/andrii/earth/Katia/CS_MasterThesis/data/ukwiki/uk_red_links/candidates/candidates_7.csv\n",
      "80/101\n",
      "/media/andrii/earth/Katia/CS_MasterThesis/data/ukwiki/uk_red_links/candidates/candidates_85.csv\n"
     ]
    },
    {
     "name": "stdout",
     "output_type": "stream",
     "text": [
      "81/101\n",
      "/media/andrii/earth/Katia/CS_MasterThesis/data/ukwiki/uk_red_links/candidates/candidates_49.csv\n",
      "82/101\n",
      "/media/andrii/earth/Katia/CS_MasterThesis/data/ukwiki/uk_red_links/candidates/candidates_84.csv\n",
      "83/101\n",
      "/media/andrii/earth/Katia/CS_MasterThesis/data/ukwiki/uk_red_links/candidates/candidates_51.csv\n",
      "84/101\n",
      "/media/andrii/earth/Katia/CS_MasterThesis/data/ukwiki/uk_red_links/candidates/candidates_43.csv\n",
      "85/101\n",
      "/media/andrii/earth/Katia/CS_MasterThesis/data/ukwiki/uk_red_links/candidates/candidates_8.csv\n",
      "86/101\n",
      "/media/andrii/earth/Katia/CS_MasterThesis/data/ukwiki/uk_red_links/candidates/candidates_61.csv\n",
      "87/101\n",
      "/media/andrii/earth/Katia/CS_MasterThesis/data/ukwiki/uk_red_links/candidates/candidates_39.csv\n",
      "88/101\n",
      "/media/andrii/earth/Katia/CS_MasterThesis/data/ukwiki/uk_red_links/candidates/candidates_64.csv\n",
      "89/101\n",
      "/media/andrii/earth/Katia/CS_MasterThesis/data/ukwiki/uk_red_links/candidates/candidates_41.csv\n",
      "90/101\n",
      "/media/andrii/earth/Katia/CS_MasterThesis/data/ukwiki/uk_red_links/candidates/candidates_48.csv\n",
      "91/101\n",
      "/media/andrii/earth/Katia/CS_MasterThesis/data/ukwiki/uk_red_links/candidates/candidates_29.csv\n",
      "92/101\n",
      "/media/andrii/earth/Katia/CS_MasterThesis/data/ukwiki/uk_red_links/candidates/candidates_26.csv\n",
      "93/101\n",
      "/media/andrii/earth/Katia/CS_MasterThesis/data/ukwiki/uk_red_links/candidates/candidates_22.csv\n",
      "94/101\n",
      "/media/andrii/earth/Katia/CS_MasterThesis/data/ukwiki/uk_red_links/candidates/candidates_55.csv\n",
      "95/101\n",
      "/media/andrii/earth/Katia/CS_MasterThesis/data/ukwiki/uk_red_links/candidates/candidates_2.csv\n",
      "96/101\n",
      "/media/andrii/earth/Katia/CS_MasterThesis/data/ukwiki/uk_red_links/candidates/candidates_18.csv\n",
      "97/101\n",
      "/media/andrii/earth/Katia/CS_MasterThesis/data/ukwiki/uk_red_links/candidates/candidates_12.csv\n",
      "98/101\n",
      "/media/andrii/earth/Katia/CS_MasterThesis/data/ukwiki/uk_red_links/candidates/candidates_25.csv\n",
      "99/101\n",
      "/media/andrii/earth/Katia/CS_MasterThesis/data/ukwiki/uk_red_links/candidates/candidates_71.csv\n",
      "100/101\n",
      "/media/andrii/earth/Katia/CS_MasterThesis/data/ukwiki/uk_red_links/candidates/candidates_27.csv\n",
      "101/101\n",
      "/media/andrii/earth/Katia/CS_MasterThesis/data/ukwiki/uk_red_links/candidates/candidates_96.csv\n",
      "Total time: 0.2 minutes\n"
     ]
    }
   ],
   "source": [
    "candidate_pairs = functions.load_csvs_to_df_general(PATH_TO_DATA_RL+'candidates/', files)"
   ]
  },
  {
   "cell_type": "code",
   "execution_count": 14,
   "metadata": {},
   "outputs": [
    {
     "data": {
      "text/plain": [
       "(2964382, 2)"
      ]
     },
     "execution_count": 14,
     "metadata": {},
     "output_type": "execute_result"
    }
   ],
   "source": [
    "candidate_pairs.shape"
   ]
  },
  {
   "cell_type": "code",
   "execution_count": null,
   "metadata": {},
   "outputs": [],
   "source": []
  },
  {
   "cell_type": "markdown",
   "metadata": {},
   "source": [
    "### Load en pagelinks and prepare data for counting concurrent links of candidate pages"
   ]
  },
  {
   "cell_type": "code",
   "execution_count": 15,
   "metadata": {},
   "outputs": [],
   "source": [
    "# load en links for all pages\n",
    "en_pagelinks_np = np.load(PATH_TO_DATA_EN+'results_save.npy')\n",
    "\n",
    "en_pagelinks = pd.DataFrame(en_pagelinks_np)\n",
    "en_pagelinks.columns = ['parent_id', 'child_id']"
   ]
  },
  {
   "cell_type": "code",
   "execution_count": 20,
   "metadata": {},
   "outputs": [],
   "source": [
    "# RUN ONCE! converts en pagelinks df to dictionary and saves it\n",
    "\n",
    "\n",
    "# en_pagelinks_dict = {k: v['child_id'].tolist() for k,v in en_pagelinks.groupby('parent_id')}\n",
    "\n",
    "# with open(PATH_TO_DATA_EN+'en_pagelinks_dict.p', 'wb') as fp:\n",
    "#     pickle.dump(en_pagelinks_dict, fp, protocol=pickle.HIGHEST_PROTOCOL)"
   ]
  },
  {
   "cell_type": "code",
   "execution_count": 16,
   "metadata": {},
   "outputs": [],
   "source": [
    "# load pickle file\n",
    "with open(PATH_TO_DATA_EN+'en_pagelinks_dict.p', 'rb') as fp:\n",
    "    en_pagelinks_dict = pickle.load(fp)"
   ]
  },
  {
   "cell_type": "code",
   "execution_count": null,
   "metadata": {},
   "outputs": [],
   "source": []
  },
  {
   "cell_type": "code",
   "execution_count": 16,
   "metadata": {},
   "outputs": [
    {
     "name": "stdout",
     "output_type": "stream",
     "text": [
      "number of unique candidates is 130152\n"
     ]
    }
   ],
   "source": [
    "# create {title: id} dict for candidates\n",
    "candidates_list = candidate_pairs['candidate'].drop_duplicates().values.tolist()\n",
    "\n",
    "print('number of unique candidates is', len(candidates_list))\n",
    "\n",
    "en_candidates_df = en_wikidata_wikipedia[en_wikidata_wikipedia['title'].isin(candidates_list)]\n",
    "\n",
    "en_candidates_df.head()\n",
    "\n",
    "candidates_dict = dict(zip(en_candidates_df['title'], en_candidates_df['en_wikipedia_id']))\n",
    "\n",
    "\n",
    "pool = Pool()\n",
    "candidates_id_list = pool.map(candidates_dict.get, candidates_list)\n",
    "pool.close()\n",
    "pool.join()"
   ]
  },
  {
   "cell_type": "code",
   "execution_count": 19,
   "metadata": {},
   "outputs": [],
   "source": [
    "with open(PATH_TO_DATA_EN+'candidates_title_id_dict.p', 'wb') as fp:\n",
    "    pickle.dump(candidates_dict, fp, protocol=pickle.HIGHEST_PROTOCOL)"
   ]
  },
  {
   "cell_type": "code",
   "execution_count": null,
   "metadata": {},
   "outputs": [],
   "source": []
  },
  {
   "cell_type": "code",
   "execution_count": 15,
   "metadata": {},
   "outputs": [
    {
     "ename": "NameError",
     "evalue": "name 'en_pagelinks' is not defined",
     "output_type": "error",
     "traceback": [
      "\u001b[0;31m---------------------------------------------------------------------------\u001b[0m",
      "\u001b[0;31mNameError\u001b[0m                                 Traceback (most recent call last)",
      "\u001b[0;32m<ipython-input-15-2401738470a4>\u001b[0m in \u001b[0;36m<module>\u001b[0;34m\u001b[0m\n\u001b[1;32m      3\u001b[0m \u001b[0;34m\u001b[0m\u001b[0m\n\u001b[1;32m      4\u001b[0m \u001b[0;31m# filter pagelinks keeping only with parent pages of candidates\u001b[0m\u001b[0;34m\u001b[0m\u001b[0;34m\u001b[0m\u001b[0;34m\u001b[0m\u001b[0m\n\u001b[0;32m----> 5\u001b[0;31m \u001b[0mpagelinks_only_where_candidates\u001b[0m \u001b[0;34m=\u001b[0m \u001b[0mpd\u001b[0m\u001b[0;34m.\u001b[0m\u001b[0mmerge\u001b[0m\u001b[0;34m(\u001b[0m\u001b[0men_pagelinks\u001b[0m\u001b[0;34m,\u001b[0m \u001b[0men_candidates_df\u001b[0m\u001b[0;34m,\u001b[0m \u001b[0mhow\u001b[0m\u001b[0;34m=\u001b[0m\u001b[0;34m'left'\u001b[0m\u001b[0;34m,\u001b[0m \u001b[0mleft_on\u001b[0m\u001b[0;34m=\u001b[0m\u001b[0;34m[\u001b[0m\u001b[0;34m'child_id'\u001b[0m\u001b[0;34m]\u001b[0m\u001b[0;34m,\u001b[0m \u001b[0mright_on\u001b[0m\u001b[0;34m=\u001b[0m\u001b[0;34m[\u001b[0m\u001b[0;34m'en_wikipedia_id'\u001b[0m\u001b[0;34m]\u001b[0m\u001b[0;34m)\u001b[0m\u001b[0;34m\u001b[0m\u001b[0;34m\u001b[0m\u001b[0m\n\u001b[0m\u001b[1;32m      6\u001b[0m \u001b[0;34m\u001b[0m\u001b[0m\n\u001b[1;32m      7\u001b[0m \u001b[0mpagelinks_only_where_candidates\u001b[0m \u001b[0;34m=\u001b[0m \u001b[0mpagelinks_only_where_candidates\u001b[0m\u001b[0;34m[\u001b[0m\u001b[0mpd\u001b[0m\u001b[0;34m.\u001b[0m\u001b[0mnotna\u001b[0m\u001b[0;34m(\u001b[0m\u001b[0mpagelinks_only_where_candidates\u001b[0m\u001b[0;34m[\u001b[0m\u001b[0;34m'wikidata_id'\u001b[0m\u001b[0;34m]\u001b[0m\u001b[0;34m)\u001b[0m\u001b[0;34m]\u001b[0m\u001b[0;34m\u001b[0m\u001b[0;34m\u001b[0m\u001b[0m\n",
      "\u001b[0;31mNameError\u001b[0m: name 'en_pagelinks' is not defined"
     ]
    }
   ],
   "source": [
    "# RUN ONLY ONCE!! Creates a dict with filtered en pagelinks and saves to a file\n",
    "\n",
    "\n",
    "# filter pagelinks keeping only with parent pages of candidates \n",
    "pagelinks_only_where_candidates = pd.merge(en_pagelinks, en_candidates_df, how='left', left_on=['child_id'], right_on=['en_wikipedia_id'])\n",
    "\n",
    "pagelinks_only_where_candidates = pagelinks_only_where_candidates[pd.notna(pagelinks_only_where_candidates['wikidata_id'])]\n",
    "\n",
    "\n",
    "parent_ids = pagelinks_only_where_candidates['parent_id'].drop_duplicates().values.tolist()\n",
    "\n",
    "parent_ids_df = pd.DataFrame(parent_ids, columns=['parent_id'])\n",
    "\n",
    "\n",
    "pagelinks_only_where_candidate_parents = pd.merge(en_pagelinks, parent_ids_df, how='left', left_on=['parent_id'], right_on=['parent_id'])\n",
    "\n",
    "pagelinks_parents = pagelinks_only_where_candidate_parents[['parent_id', 'child_id']]\n",
    "\n",
    "pagelinks_parents = pagelinks_parents.drop_duplicates()\n",
    "\n",
    "\n",
    "# # convert en filtered pagelinks df to dictionary and save it\n",
    "# pagelinks_only_parents_dict = {k: v['child_id'].tolist() for k,v in pagelinks_parents.groupby('parent_id')}\n",
    "\n",
    "# # save en pagelinks dictionary as a pickle file\n",
    "# with open(PATH_TO_DATA_EN+'pagelinks_only_parents_dict.p', 'wb') as fp:\n",
    "#     pickle.dump(pagelinks_only_parents_dict, fp, protocol=pickle.HIGHEST_PROTOCOL)"
   ]
  },
  {
   "cell_type": "code",
   "execution_count": null,
   "metadata": {},
   "outputs": [],
   "source": []
  },
  {
   "cell_type": "code",
   "execution_count": 16,
   "metadata": {},
   "outputs": [],
   "source": [
    "# load pickle file\n",
    "with open(PATH_TO_DATA_EN+'pagelinks_only_parents_dict.p', 'rb') as fp:\n",
    "    pagelinks_only_parents_dict = pickle.load(fp)"
   ]
  },
  {
   "cell_type": "code",
   "execution_count": null,
   "metadata": {},
   "outputs": [],
   "source": []
  },
  {
   "cell_type": "code",
   "execution_count": null,
   "metadata": {},
   "outputs": [],
   "source": []
  },
  {
   "cell_type": "code",
   "execution_count": 15,
   "metadata": {},
   "outputs": [],
   "source": [
    "def get_concurrent_links_set(page_id):\n",
    "    concurrent_set = set()\n",
    "    \n",
    "    for values in pagelinks_only_parents_dict.values():\n",
    "        if page_id in values:\n",
    "            concurrent_set = concurrent_set|set(values)\n",
    "\n",
    "    return (page_id, concurrent_set)"
   ]
  },
  {
   "cell_type": "code",
   "execution_count": null,
   "metadata": {},
   "outputs": [],
   "source": []
  },
  {
   "cell_type": "code",
   "execution_count": 28,
   "metadata": {},
   "outputs": [],
   "source": [
    "# RUN ONLY ONCE!! Retrieves the concurrent links for candidates and saves it to files\n",
    "\n",
    "num_cand_list = functions.divide_number(len(candidates_id_list), 100)\n",
    "\n",
    "i = len(num_cand_list)\n",
    "start_index = 0\n",
    "num_items_proceed = num_cand_list[i-1]\n",
    "\n",
    "while i > 0:\n",
    "    start_time = time.time()\n",
    "    print(i)\n",
    "    print('start_index =', start_index)\n",
    "    print('num_items_proceed =', num_items_proceed)\n",
    "    \n",
    "    candidates_list_part = candidates_id_list[start_index:num_items_proceed]\n",
    "\n",
    "    p = Pool()\n",
    "    candidate_concurrent_set = p.map(get_concurrent_links_set, candidates_list_part)\n",
    "    p.close()\n",
    "    p.join()\n",
    "\n",
    "    # save concurrent sets as a pickle file\n",
    "    with open(PATH_TO_DATA_EN+'concurrent_for_candidates/'+'candidate_concurrent_set_'+str(i)+'.p', 'wb') as fp:\n",
    "         pickle.dump(candidate_concurrent_set, fp, protocol=pickle.HIGHEST_PROTOCOL)\n",
    "            \n",
    "    i -= 1\n",
    "    start_index = num_items_proceed\n",
    "    num_items_proceed = num_items_proceed + num_cand_list[i-1]\n",
    "    print('Time for a set: %.1f minutes' % ((time.time() - start_time)/60))"
   ]
  },
  {
   "cell_type": "code",
   "execution_count": 74,
   "metadata": {},
   "outputs": [],
   "source": [
    "# load pickle file\n",
    "with open(PATH_TO_DATA_EN+'concurrent_for_candidates/'+'candidate_concurrent_set_100.p', 'rb') as fp:\n",
    "    candidate_concurrent_set_test = pickle.load(fp)"
   ]
  },
  {
   "cell_type": "code",
   "execution_count": null,
   "metadata": {},
   "outputs": [],
   "source": []
  },
  {
   "cell_type": "code",
   "execution_count": null,
   "metadata": {},
   "outputs": [],
   "source": []
  },
  {
   "cell_type": "code",
   "execution_count": null,
   "metadata": {},
   "outputs": [],
   "source": []
  }
 ],
 "metadata": {
  "kernelspec": {
   "display_name": "Python 3",
   "language": "python",
   "name": "python3"
  },
  "language_info": {
   "codemirror_mode": {
    "name": "ipython",
    "version": 3
   },
   "file_extension": ".py",
   "mimetype": "text/x-python",
   "name": "python",
   "nbconvert_exporter": "python",
   "pygments_lexer": "ipython3",
   "version": "3.6.7"
  }
 },
 "nbformat": 4,
 "nbformat_minor": 2
}
