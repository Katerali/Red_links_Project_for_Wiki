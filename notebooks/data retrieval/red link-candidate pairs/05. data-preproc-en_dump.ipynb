{
 "cells": [
  {
   "cell_type": "code",
   "execution_count": 1,
   "metadata": {},
   "outputs": [],
   "source": [
    "import csv\n",
    "import os\n",
    "import re\n",
    "import gzip\n",
    "import pandas as pd\n",
    "import numpy as np"
   ]
  },
  {
   "cell_type": "code",
   "execution_count": 2,
   "metadata": {},
   "outputs": [],
   "source": [
    "PATH_TO_DATA = '/media/andrii/earth/Katia/CS_MasterThesis/data/'\n",
    "PATH_TO_DATA_EN = PATH_TO_DATA+\"enwiki/en_parsed/\"\n",
    "PATH_TO_DATA_UK = PATH_TO_DATA+\"ukwiki/\"\n",
    "data_time = '20180920'"
   ]
  },
  {
   "cell_type": "code",
   "execution_count": 3,
   "metadata": {},
   "outputs": [],
   "source": [
    "def unpack(file_name):\n",
    "    file_name_new = file_name.replace(\".gz\",\"\")\n",
    "    with gzip.open(file_name, 'rb') as f_in, open(file_name_new, 'wb') as f_out:\n",
    "        f_out.writelines(f_in)\n",
    "    return file_name_new"
   ]
  },
  {
   "cell_type": "code",
   "execution_count": 4,
   "metadata": {},
   "outputs": [],
   "source": [
    "def pack_and_remove(file_name):\n",
    "    file_name_new = file_name+'.gz'\n",
    "    with open(file_name, 'rb') as f_in, gzip.open(file_name_new, 'wb') as f_out:\n",
    "        f_out.writelines(f_in)\n",
    "    os.remove(file_name)\n",
    "    return file_name_new"
   ]
  },
  {
   "cell_type": "code",
   "execution_count": 5,
   "metadata": {},
   "outputs": [],
   "source": [
    "ENWIKI_ART_FNMS = []\n",
    "for file in os.listdir(PATH_TO_DATA_EN):\n",
    "    if file.endswith(\"art.csv.gz\"):\n",
    "        ENWIKI_ART_FNMS.append(file)\n",
    "ENWIKI_RED_FNMS = []\n",
    "for file in os.listdir(PATH_TO_DATA_EN):\n",
    "    if file.endswith(\"red.csv.gz\"):\n",
    "        ENWIKI_RED_FNMS.append(file)   "
   ]
  },
  {
   "cell_type": "code",
   "execution_count": 6,
   "metadata": {},
   "outputs": [
    {
     "name": "stdout",
     "output_type": "stream",
     "text": [
      "ENWIKI_ART_FNMS: 55\n",
      "ENWIKI_RED_FNMS: 55\n"
     ]
    }
   ],
   "source": [
    "print('ENWIKI_ART_FNMS:', len(ENWIKI_ART_FNMS))\n",
    "print('ENWIKI_RED_FNMS:', len(ENWIKI_RED_FNMS))"
   ]
  },
  {
   "cell_type": "code",
   "execution_count": null,
   "metadata": {},
   "outputs": [],
   "source": []
  },
  {
   "cell_type": "code",
   "execution_count": 7,
   "metadata": {},
   "outputs": [
    {
     "data": {
      "text/html": [
       "<div>\n",
       "<style scoped>\n",
       "    .dataframe tbody tr th:only-of-type {\n",
       "        vertical-align: middle;\n",
       "    }\n",
       "\n",
       "    .dataframe tbody tr th {\n",
       "        vertical-align: top;\n",
       "    }\n",
       "\n",
       "    .dataframe thead th {\n",
       "        text-align: right;\n",
       "    }\n",
       "</style>\n",
       "<table border=\"1\" class=\"dataframe\">\n",
       "  <thead>\n",
       "    <tr style=\"text-align: right;\">\n",
       "      <th></th>\n",
       "      <th>id</th>\n",
       "      <th>title</th>\n",
       "    </tr>\n",
       "  </thead>\n",
       "  <tbody>\n",
       "    <tr>\n",
       "      <th>0</th>\n",
       "      <td>6197600</td>\n",
       "      <td>Flying Tigers (film)</td>\n",
       "    </tr>\n",
       "    <tr>\n",
       "      <th>1</th>\n",
       "      <td>6197604</td>\n",
       "      <td>Mariano Andreu</td>\n",
       "    </tr>\n",
       "    <tr>\n",
       "      <th>2</th>\n",
       "      <td>6197607</td>\n",
       "      <td>David Prain</td>\n",
       "    </tr>\n",
       "    <tr>\n",
       "      <th>3</th>\n",
       "      <td>6197617</td>\n",
       "      <td>Rut Brandt</td>\n",
       "    </tr>\n",
       "    <tr>\n",
       "      <th>4</th>\n",
       "      <td>6197621</td>\n",
       "      <td>Gregory C. Coleman</td>\n",
       "    </tr>\n",
       "  </tbody>\n",
       "</table>\n",
       "</div>"
      ],
      "text/plain": [
       "        id                 title\n",
       "0  6197600  Flying Tigers (film)\n",
       "1  6197604        Mariano Andreu\n",
       "2  6197607           David Prain\n",
       "3  6197617            Rut Brandt\n",
       "4  6197621    Gregory C. Coleman"
      ]
     },
     "execution_count": 7,
     "metadata": {},
     "output_type": "execute_result"
    }
   ],
   "source": [
    "df_en_id_name = pd.read_csv(PATH_TO_DATA_EN+\"enwiki-\" + data_time + \"-id_name.csv\", encoding='utf-8', sep=\"^\")\n",
    "df_en_id_name.head()"
   ]
  },
  {
   "cell_type": "code",
   "execution_count": 8,
   "metadata": {},
   "outputs": [
    {
     "data": {
      "text/plain": [
       "(5719743, 2)"
      ]
     },
     "execution_count": 8,
     "metadata": {},
     "output_type": "execute_result"
    }
   ],
   "source": [
    "df_en_id_name.shape"
   ]
  },
  {
   "cell_type": "code",
   "execution_count": null,
   "metadata": {
    "collapsed": true
   },
   "outputs": [],
   "source": [
    "# go to alias grabber file"
   ]
  },
  {
   "cell_type": "code",
   "execution_count": null,
   "metadata": {
    "collapsed": true
   },
   "outputs": [],
   "source": []
  },
  {
   "cell_type": "code",
   "execution_count": 10,
   "metadata": {},
   "outputs": [
    {
     "data": {
      "text/html": [
       "<div>\n",
       "<style scoped>\n",
       "    .dataframe tbody tr th:only-of-type {\n",
       "        vertical-align: middle;\n",
       "    }\n",
       "\n",
       "    .dataframe tbody tr th {\n",
       "        vertical-align: top;\n",
       "    }\n",
       "\n",
       "    .dataframe thead th {\n",
       "        text-align: right;\n",
       "    }\n",
       "</style>\n",
       "<table border=\"1\" class=\"dataframe\">\n",
       "  <thead>\n",
       "    <tr style=\"text-align: right;\">\n",
       "      <th></th>\n",
       "      <th>id_orig</th>\n",
       "      <th>title_alias</th>\n",
       "    </tr>\n",
       "  </thead>\n",
       "  <tbody>\n",
       "    <tr>\n",
       "      <th>0</th>\n",
       "      <td>954897</td>\n",
       "      <td>Shaheedka</td>\n",
       "    </tr>\n",
       "    <tr>\n",
       "      <th>1</th>\n",
       "      <td>56160400</td>\n",
       "      <td>Barbarossa cycling trail</td>\n",
       "    </tr>\n",
       "    <tr>\n",
       "      <th>2</th>\n",
       "      <td>36339503</td>\n",
       "      <td>Jessica Lange on screen and stage</td>\n",
       "    </tr>\n",
       "    <tr>\n",
       "      <th>3</th>\n",
       "      <td>56160400</td>\n",
       "      <td>Barbarossa cycleway</td>\n",
       "    </tr>\n",
       "    <tr>\n",
       "      <th>4</th>\n",
       "      <td>20239787</td>\n",
       "      <td>Tomás O'Ryan</td>\n",
       "    </tr>\n",
       "  </tbody>\n",
       "</table>\n",
       "</div>"
      ],
      "text/plain": [
       "    id_orig                        title_alias\n",
       "0    954897                          Shaheedka\n",
       "1  56160400           Barbarossa cycling trail\n",
       "2  36339503  Jessica Lange on screen and stage\n",
       "3  56160400                Barbarossa cycleway\n",
       "4  20239787                       Tomás O'Ryan"
      ]
     },
     "execution_count": 10,
     "metadata": {},
     "output_type": "execute_result"
    }
   ],
   "source": [
    "df_en_id_orig_title_alias = pd.read_csv(PATH_TO_DATA_EN+\"enwiki-\" + data_time + \"-id_orig_title_alias.csv\")\n",
    "df_en_id_orig_title_alias.head()"
   ]
  },
  {
   "cell_type": "code",
   "execution_count": 11,
   "metadata": {},
   "outputs": [
    {
     "data": {
      "text/plain": [
       "(14127867, 2)"
      ]
     },
     "execution_count": 11,
     "metadata": {},
     "output_type": "execute_result"
    }
   ],
   "source": [
    "df_en_id_orig_title_alias.columns = ['id', 'title']\n",
    "df_en_id_name_all = df_en_id_name.append(df_en_id_orig_title_alias)\n",
    "df_en_id_name_all.shape"
   ]
  },
  {
   "cell_type": "code",
   "execution_count": 19,
   "metadata": {
    "collapsed": true
   },
   "outputs": [],
   "source": [
    "#ignored redirections\n",
    "#df_en_id_name_all = df_en_id_name"
   ]
  },
  {
   "cell_type": "code",
   "execution_count": 12,
   "metadata": {},
   "outputs": [],
   "source": [
    "df_en_id_name_all['title'] = df_en_id_name_all['title'].str.strip()"
   ]
  },
  {
   "cell_type": "code",
   "execution_count": 13,
   "metadata": {},
   "outputs": [
    {
     "data": {
      "text/plain": [
       "(13369526, 2)"
      ]
     },
     "execution_count": 13,
     "metadata": {},
     "output_type": "execute_result"
    }
   ],
   "source": [
    "df_en_id_name_all['title_lc'] = df_en_id_name_all['title'].str.lower()\n",
    "df_en_id_name_all = df_en_id_name_all[['id', 'title_lc']]\n",
    "df_en_id_name_all = df_en_id_name_all.drop_duplicates()\n",
    "df_en_id_name_all.shape"
   ]
  },
  {
   "cell_type": "code",
   "execution_count": 14,
   "metadata": {},
   "outputs": [
    {
     "data": {
      "text/html": [
       "<div>\n",
       "<style scoped>\n",
       "    .dataframe tbody tr th:only-of-type {\n",
       "        vertical-align: middle;\n",
       "    }\n",
       "\n",
       "    .dataframe tbody tr th {\n",
       "        vertical-align: top;\n",
       "    }\n",
       "\n",
       "    .dataframe thead th {\n",
       "        text-align: right;\n",
       "    }\n",
       "</style>\n",
       "<table border=\"1\" class=\"dataframe\">\n",
       "  <thead>\n",
       "    <tr style=\"text-align: right;\">\n",
       "      <th></th>\n",
       "      <th>id</th>\n",
       "      <th>title_lc</th>\n",
       "    </tr>\n",
       "  </thead>\n",
       "  <tbody>\n",
       "    <tr>\n",
       "      <th>0</th>\n",
       "      <td>6197600</td>\n",
       "      <td>flying tigers (film)</td>\n",
       "    </tr>\n",
       "    <tr>\n",
       "      <th>1</th>\n",
       "      <td>6197604</td>\n",
       "      <td>mariano andreu</td>\n",
       "    </tr>\n",
       "    <tr>\n",
       "      <th>2</th>\n",
       "      <td>6197607</td>\n",
       "      <td>david prain</td>\n",
       "    </tr>\n",
       "    <tr>\n",
       "      <th>3</th>\n",
       "      <td>6197617</td>\n",
       "      <td>rut brandt</td>\n",
       "    </tr>\n",
       "    <tr>\n",
       "      <th>4</th>\n",
       "      <td>6197621</td>\n",
       "      <td>gregory c. coleman</td>\n",
       "    </tr>\n",
       "  </tbody>\n",
       "</table>\n",
       "</div>"
      ],
      "text/plain": [
       "        id              title_lc\n",
       "0  6197600  flying tigers (film)\n",
       "1  6197604        mariano andreu\n",
       "2  6197607           david prain\n",
       "3  6197617            rut brandt\n",
       "4  6197621    gregory c. coleman"
      ]
     },
     "execution_count": 14,
     "metadata": {},
     "output_type": "execute_result"
    }
   ],
   "source": [
    "df_en_id_name_all.head()"
   ]
  },
  {
   "cell_type": "code",
   "execution_count": 16,
   "metadata": {},
   "outputs": [
    {
     "name": "stdout",
     "output_type": "stream",
     "text": [
      "/media/andrii/earth/Katia/CS_MasterThesis/data/enwiki/en_parsed/enwiki-20180920-pages-meta-current14.xml-p6197598p7697598.bz2_art.csv.gz\n",
      "/media/andrii/earth/Katia/CS_MasterThesis/data/enwiki/en_parsed/enwiki-20180920-pages-meta-current27.xml-p54663462p56163462.bz2_art.csv.gz\n",
      "/media/andrii/earth/Katia/CS_MasterThesis/data/enwiki/en_parsed/enwiki-20180920-pages-meta-current27.xml-p53163462p54663462.bz2_art.csv.gz\n",
      "/media/andrii/earth/Katia/CS_MasterThesis/data/enwiki/en_parsed/enwiki-20180920-pages-meta-current15.xml-p7744803p9244803.bz2_art.csv.gz\n",
      "/media/andrii/earth/Katia/CS_MasterThesis/data/enwiki/en_parsed/enwiki-20180920-pages-meta-current25.xml-p35452816p36952816.bz2_art.csv.gz\n",
      "/media/andrii/earth/Katia/CS_MasterThesis/data/enwiki/en_parsed/enwiki-20180920-pages-meta-current17.xml-p11539268p13039268.bz2_art.csv.gz\n",
      "/media/andrii/earth/Katia/CS_MasterThesis/data/enwiki/en_parsed/enwiki-20180920-pages-meta-current27.xml-p48663462p50163462.bz2_art.csv.gz\n",
      "/media/andrii/earth/Katia/CS_MasterThesis/data/enwiki/en_parsed/enwiki-20180920-pages-meta-current15.xml-p9244803p9518048.bz2_art.csv.gz\n",
      "/media/andrii/earth/Katia/CS_MasterThesis/data/enwiki/en_parsed/enwiki-20180920-pages-meta-current18.xml-p15193074p16120542.bz2_art.csv.gz\n",
      "/media/andrii/earth/Katia/CS_MasterThesis/data/enwiki/en_parsed/enwiki-20180920-pages-meta-current27.xml-p45663462p47163462.bz2_art.csv.gz\n",
      "/media/andrii/earth/Katia/CS_MasterThesis/data/enwiki/en_parsed/enwiki-20180920-pages-meta-current26.xml-p42567203p42663461.bz2_art.csv.gz\n",
      "/media/andrii/earth/Katia/CS_MasterThesis/data/enwiki/en_parsed/enwiki-20180920-pages-meta-current24.xml-p32003451p33503451.bz2_art.csv.gz\n",
      "/media/andrii/earth/Katia/CS_MasterThesis/data/enwiki/en_parsed/enwiki-20180920-pages-meta-current14.xml-p7697598p7744799.bz2_art.csv.gz\n",
      "/media/andrii/earth/Katia/CS_MasterThesis/data/enwiki/en_parsed/enwiki-20180920-pages-meta-current27.xml-p57663462p58534506.bz2_art.csv.gz\n",
      "/media/andrii/earth/Katia/CS_MasterThesis/data/enwiki/en_parsed/enwiki-20180920-pages-meta-current19.xml-p17620543p18754735.bz2_art.csv.gz\n",
      "/media/andrii/earth/Katia/CS_MasterThesis/data/enwiki/en_parsed/enwiki-20180920-pages-meta-current27.xml-p51663462p53163462.bz2_art.csv.gz\n",
      "/media/andrii/earth/Katia/CS_MasterThesis/data/enwiki/en_parsed/enwiki-20180920-pages-meta-current8.xml-p1268692p1791079.bz2_art.csv.gz\n",
      "/media/andrii/earth/Katia/CS_MasterThesis/data/enwiki/en_parsed/enwiki-20180920-pages-meta-current23.xml-p29823661p30503449.bz2_art.csv.gz\n",
      "/media/andrii/earth/Katia/CS_MasterThesis/data/enwiki/en_parsed/enwiki-20180920-pages-meta-current6.xml-p565314p892912.bz2_art.csv.gz\n",
      "/media/andrii/earth/Katia/CS_MasterThesis/data/enwiki/en_parsed/enwiki-20180920-pages-meta-current5.xml-p352690p565313.bz2_art.csv.gz\n",
      "/media/andrii/earth/Katia/CS_MasterThesis/data/enwiki/en_parsed/enwiki-20180920-pages-meta-current3.xml-p88445p200507.bz2_art.csv.gz\n",
      "/media/andrii/earth/Katia/CS_MasterThesis/data/enwiki/en_parsed/enwiki-20180920-pages-meta-current22.xml-p23927984p25427984.bz2_art.csv.gz\n",
      "/media/andrii/earth/Katia/CS_MasterThesis/data/enwiki/en_parsed/enwiki-20180920-pages-meta-current24.xml-p30503451p32003451.bz2_art.csv.gz\n",
      "/media/andrii/earth/Katia/CS_MasterThesis/data/enwiki/en_parsed/enwiki-20180920-pages-meta-current26.xml-p41067203p42567203.bz2_art.csv.gz\n",
      "/media/andrii/earth/Katia/CS_MasterThesis/data/enwiki/en_parsed/enwiki-20180920-pages-meta-current16.xml-p11018050p11539266.bz2_art.csv.gz\n",
      "/media/andrii/earth/Katia/CS_MasterThesis/data/enwiki/en_parsed/enwiki-20180920-pages-meta-current7.xml-p892914p1268691.bz2_art.csv.gz\n",
      "/media/andrii/earth/Katia/CS_MasterThesis/data/enwiki/en_parsed/enwiki-20180920-pages-meta-current18.xml-p13693074p15193074.bz2_art.csv.gz\n",
      "/media/andrii/earth/Katia/CS_MasterThesis/data/enwiki/en_parsed/enwiki-20180920-pages-meta-current21.xml-p22722158p23927983.bz2_art.csv.gz\n",
      "/media/andrii/earth/Katia/CS_MasterThesis/data/enwiki/en_parsed/enwiki-20180920-pages-meta-current10.xml-p2336425p3046511.bz2_art.csv.gz\n",
      "/media/andrii/earth/Katia/CS_MasterThesis/data/enwiki/en_parsed/enwiki-20180920-pages-meta-current22.xml-p25427984p26823660.bz2_art.csv.gz\n",
      "/media/andrii/earth/Katia/CS_MasterThesis/data/enwiki/en_parsed/enwiki-20180920-pages-meta-current11.xml-p3046514p3926861.bz2_art.csv.gz\n",
      "/media/andrii/earth/Katia/CS_MasterThesis/data/enwiki/en_parsed/enwiki-20180920-pages-meta-current17.xml-p13039268p13693071.bz2_art.csv.gz\n",
      "/media/andrii/earth/Katia/CS_MasterThesis/data/enwiki/en_parsed/enwiki-20180920-pages-meta-current27.xml-p56163462p57663462.bz2_art.csv.gz\n",
      "/media/andrii/earth/Katia/CS_MasterThesis/data/enwiki/en_parsed/enwiki-20180920-pages-meta-current24.xml-p33503451p33952815.bz2_art.csv.gz\n",
      "/media/andrii/earth/Katia/CS_MasterThesis/data/enwiki/en_parsed/enwiki-20180920-pages-meta-current27.xml-p42663462p44163462.bz2_art.csv.gz\n",
      "/media/andrii/earth/Katia/CS_MasterThesis/data/enwiki/en_parsed/enwiki-20180920-pages-meta-current20.xml-p18754736p20254736.bz2_art.csv.gz\n",
      "/media/andrii/earth/Katia/CS_MasterThesis/data/enwiki/en_parsed/enwiki-20180920-pages-meta-current16.xml-p9518050p11018050.bz2_art.csv.gz\n",
      "/media/andrii/earth/Katia/CS_MasterThesis/data/enwiki/en_parsed/enwiki-20180920-pages-meta-current27.xml-p47163462p48663462.bz2_art.csv.gz\n",
      "/media/andrii/earth/Katia/CS_MasterThesis/data/enwiki/en_parsed/enwiki-20180920-pages-meta-current19.xml-p16120543p17620543.bz2_art.csv.gz\n",
      "/media/andrii/earth/Katia/CS_MasterThesis/data/enwiki/en_parsed/enwiki-20180920-pages-meta-current4.xml-p200511p352689.bz2_art.csv.gz\n",
      "/media/andrii/earth/Katia/CS_MasterThesis/data/enwiki/en_parsed/enwiki-20180920-pages-meta-current23.xml-p26823661p28323661.bz2_art.csv.gz\n",
      "/media/andrii/earth/Katia/CS_MasterThesis/data/enwiki/en_parsed/enwiki-20180920-pages-meta-current27.xml-p44163462p45663462.bz2_art.csv.gz\n",
      "/media/andrii/earth/Katia/CS_MasterThesis/data/enwiki/en_parsed/enwiki-20180920-pages-meta-current26.xml-p38067203p39567203.bz2_art.csv.gz\n",
      "/media/andrii/earth/Katia/CS_MasterThesis/data/enwiki/en_parsed/enwiki-20180920-pages-meta-current25.xml-p36952816p38067202.bz2_art.csv.gz\n",
      "/media/andrii/earth/Katia/CS_MasterThesis/data/enwiki/en_parsed/enwiki-20180920-pages-meta-current12.xml-p3926863p5040436.bz2_art.csv.gz\n",
      "/media/andrii/earth/Katia/CS_MasterThesis/data/enwiki/en_parsed/enwiki-20180920-pages-meta-current9.xml-p1791080p2336422.bz2_art.csv.gz\n",
      "/media/andrii/earth/Katia/CS_MasterThesis/data/enwiki/en_parsed/enwiki-20180920-pages-meta-current2.xml-p30304p88444.bz2_art.csv.gz\n",
      "/media/andrii/earth/Katia/CS_MasterThesis/data/enwiki/en_parsed/enwiki-20180920-pages-meta-current13.xml-p5040438p6197594.bz2_art.csv.gz\n",
      "/media/andrii/earth/Katia/CS_MasterThesis/data/enwiki/en_parsed/enwiki-20180920-pages-meta-current1.xml-p10p30303.bz2_art.csv.gz\n",
      "/media/andrii/earth/Katia/CS_MasterThesis/data/enwiki/en_parsed/enwiki-20180920-pages-meta-current20.xml-p20254736p21222156.bz2_art.csv.gz\n",
      "/media/andrii/earth/Katia/CS_MasterThesis/data/enwiki/en_parsed/enwiki-20180920-pages-meta-current21.xml-p21222158p22722158.bz2_art.csv.gz\n",
      "/media/andrii/earth/Katia/CS_MasterThesis/data/enwiki/en_parsed/enwiki-20180920-pages-meta-current26.xml-p39567203p41067203.bz2_art.csv.gz\n",
      "/media/andrii/earth/Katia/CS_MasterThesis/data/enwiki/en_parsed/enwiki-20180920-pages-meta-current27.xml-p50163462p51663462.bz2_art.csv.gz\n",
      "/media/andrii/earth/Katia/CS_MasterThesis/data/enwiki/en_parsed/enwiki-20180920-pages-meta-current25.xml-p33952816p35452816.bz2_art.csv.gz\n",
      "/media/andrii/earth/Katia/CS_MasterThesis/data/enwiki/en_parsed/enwiki-20180920-pages-meta-current23.xml-p28323661p29823661.bz2_art.csv.gz\n"
     ]
    }
   ],
   "source": [
    "for fn in ENWIKI_ART_FNMS:\n",
    "    fn = PATH_TO_DATA_EN+fn\n",
    "    print(fn)\n",
    "    fn_new = unpack(fn)\n",
    "    df_articles = pd.read_csv(fn_new, encoding='ISO-8859-1', quotechar=\"\\\"\")\n",
    "    df_articles['link_val'] = df_articles['link_val'].str.split(\"#\").str[0]\n",
    "    #df_articles = df_articles[df_articles['link_val'].notna()]\n",
    "    df_articles = df_articles[df_articles['link_val'].str.strip() != '']\n",
    "    df_articles['link_pos_perc'] = (df_articles['link_pos']/df_articles['text_len']).round(3)       \n",
    "    df_articles['link_val_lc'] = df_articles['link_val'].str.lower()\n",
    "    df_en_titles_series = df_articles.iloc[:,7]\n",
    "    df_en_titles_series_stripped = df_en_titles_series.str.replace('  ', ' ')\n",
    "    df_titles_stripped = df_en_titles_series_stripped.to_frame()\n",
    "    df_articles_less = df_articles[['id', 'title', 'link_val']]\n",
    "    df_articles = pd.concat([df_articles_less, df_titles_stripped], axis=1)\n",
    "    df_articles['link_val_lc'] = df_articles['link_val_lc'].str.strip()\n",
    "    df_articles = pd.merge(df_articles, df_en_id_name_all, how='left', left_on=['link_val_lc'], right_on=['title_lc'])\n",
    "    df_articles = df_articles[['id_x', 'id_y', 'link_val']]\n",
    "    df_articles.columns = ['id', 'link_id', 'link_val']\n",
    "    df_articles = df_articles[pd.notnull(df_articles['link_val'])]\n",
    "    df_articles[['link_id']] = df_articles[['link_id']].fillna(-1).astype(int)\n",
    "    df_articles['is_red_link'] = np.where(df_articles['link_id'] == -1, True, False)\n",
    "    df_articles.to_csv(PATH_TO_DATA_EN+fn_new, index = False, sep='^')\n",
    "    pack_and_remove(fn_new)"
   ]
  },
  {
   "cell_type": "code",
   "execution_count": 17,
   "metadata": {},
   "outputs": [
    {
     "name": "stdout",
     "output_type": "stream",
     "text": [
      "/media/andrii/earth/Katia/CS_MasterThesis/Red_links_Project_for_Wiki_draft/notebooks/data retrieval/red link-candidate pairs\r\n"
     ]
    }
   ],
   "source": [
    "!pwd"
   ]
  },
  {
   "cell_type": "code",
   "execution_count": null,
   "metadata": {
    "collapsed": true
   },
   "outputs": [],
   "source": []
  },
  {
   "cell_type": "code",
   "execution_count": null,
   "metadata": {
    "collapsed": true
   },
   "outputs": [],
   "source": []
  },
  {
   "cell_type": "code",
   "execution_count": null,
   "metadata": {
    "collapsed": true
   },
   "outputs": [],
   "source": [
    "#??????????????????"
   ]
  },
  {
   "cell_type": "code",
   "execution_count": 6,
   "metadata": {},
   "outputs": [],
   "source": [
    "df_id_name = pd.read_csv(PATH_TO_DATA+'enwiki-' + data_time + '-id_name.csv', encoding='ISO-8859-1', quotechar=\"'\", escapechar =\"\\\\\")"
   ]
  },
  {
   "cell_type": "code",
   "execution_count": 21,
   "metadata": {},
   "outputs": [
    {
     "data": {
      "text/html": [
       "<div>\n",
       "<table border=\"1\" class=\"dataframe\">\n",
       "  <thead>\n",
       "    <tr style=\"text-align: right;\">\n",
       "      <th></th>\n",
       "      <th>id</th>\n",
       "      <th>title</th>\n",
       "    </tr>\n",
       "  </thead>\n",
       "  <tbody>\n",
       "    <tr>\n",
       "      <th>0</th>\n",
       "      <td>12</td>\n",
       "      <td>Anarchism</td>\n",
       "    </tr>\n",
       "    <tr>\n",
       "      <th>1</th>\n",
       "      <td>25</td>\n",
       "      <td>Autism</td>\n",
       "    </tr>\n",
       "    <tr>\n",
       "      <th>2</th>\n",
       "      <td>39</td>\n",
       "      <td>Albedo</td>\n",
       "    </tr>\n",
       "    <tr>\n",
       "      <th>3</th>\n",
       "      <td>290</td>\n",
       "      <td>A</td>\n",
       "    </tr>\n",
       "    <tr>\n",
       "      <th>4</th>\n",
       "      <td>303</td>\n",
       "      <td>Alabama</td>\n",
       "    </tr>\n",
       "  </tbody>\n",
       "</table>\n",
       "</div>"
      ],
      "text/plain": [
       "    id      title\n",
       "0   12  Anarchism\n",
       "1   25     Autism\n",
       "2   39     Albedo\n",
       "3  290          A\n",
       "4  303    Alabama"
      ]
     },
     "execution_count": 21,
     "metadata": {},
     "output_type": "execute_result"
    }
   ],
   "source": [
    "df_id_name.head()"
   ]
  },
  {
   "cell_type": "code",
   "execution_count": 18,
   "metadata": {},
   "outputs": [],
   "source": [
    "fn = PATH_TO_DATA_EN+\"enwiki-\" + data_time + \"-langlinks_en.csv\"\n",
    "df_en_langlinks = pd.read_csv(fn, encoding='UTF-16', sep=\"^\")"
   ]
  },
  {
   "cell_type": "code",
   "execution_count": 27,
   "metadata": {},
   "outputs": [],
   "source": [
    "df_en_langlinks = df_en_langlinks[pd.notnull(df_en_langlinks['ll_title'])]"
   ]
  },
  {
   "cell_type": "code",
   "execution_count": 28,
   "metadata": {},
   "outputs": [
    {
     "data": {
      "text/html": [
       "<div>\n",
       "<table border=\"1\" class=\"dataframe\">\n",
       "  <thead>\n",
       "    <tr style=\"text-align: right;\">\n",
       "      <th></th>\n",
       "      <th>ll_from</th>\n",
       "      <th>ll_lang</th>\n",
       "      <th>ll_title</th>\n",
       "    </tr>\n",
       "  </thead>\n",
       "  <tbody>\n",
       "    <tr>\n",
       "      <th>23</th>\n",
       "      <td>2112530</td>\n",
       "      <td>en</td>\n",
       "      <td>! (The Dismemberment Plan album)</td>\n",
       "    </tr>\n",
       "    <tr>\n",
       "      <th>24</th>\n",
       "      <td>1366003</td>\n",
       "      <td>en</td>\n",
       "      <td>! (disambiguation)</td>\n",
       "    </tr>\n",
       "    <tr>\n",
       "      <th>25</th>\n",
       "      <td>2141483</td>\n",
       "      <td>en</td>\n",
       "      <td>!!</td>\n",
       "    </tr>\n",
       "    <tr>\n",
       "      <th>26</th>\n",
       "      <td>425480</td>\n",
       "      <td>en</td>\n",
       "      <td>!!!</td>\n",
       "    </tr>\n",
       "    <tr>\n",
       "      <th>27</th>\n",
       "      <td>848226</td>\n",
       "      <td>en</td>\n",
       "      <td>!Action Pact!</td>\n",
       "    </tr>\n",
       "  </tbody>\n",
       "</table>\n",
       "</div>"
      ],
      "text/plain": [
       "    ll_from ll_lang                          ll_title\n",
       "23  2112530      en  ! (The Dismemberment Plan album)\n",
       "24  1366003      en                ! (disambiguation)\n",
       "25  2141483      en                                !!\n",
       "26   425480      en                               !!!\n",
       "27   848226      en                     !Action Pact!"
      ]
     },
     "execution_count": 28,
     "metadata": {},
     "output_type": "execute_result"
    }
   ],
   "source": [
    "df_en_langlinks.head()"
   ]
  },
  {
   "cell_type": "code",
   "execution_count": 23,
   "metadata": {},
   "outputs": [],
   "source": [
    "df_en_en_links = pd.merge(df_en_langlinks, df_id_name, how='left', left_on=['ll_title'], right_on=['title'])"
   ]
  },
  {
   "cell_type": "code",
   "execution_count": null,
   "metadata": {
    "collapsed": true
   },
   "outputs": [],
   "source": [
    "df_en_en_links = df_en_en_links[['ll_from', 'id']]\n",
    "df_en_en_links.columns = ['id_en', 'id_en']\n",
    "df_en_en_links[['id_en']] = df_en_en_links[['id_en']].fillna(-1).astype(int)\n",
    "df_en_en_links[['id_en']] = df_en_en_links[['id_en']].fillna(-1).astype(int)\n",
    "df_en_en_links.to_csv(PATH_TO_DATA_EN + data_time + \"-langlinks_en_en.csv\", index = False, sep'^')\n",
    "pack_and_remove(fn_new)"
   ]
  },
  {
   "cell_type": "code",
   "execution_count": 30,
   "metadata": {},
   "outputs": [],
   "source": [
    "df_en_langlinks.to_csv(PATH_TO_DATA_EN + data_time + \"-langlinks_en_en.csv\", index = False, sep'^')"
   ]
  },
  {
   "cell_type": "code",
   "execution_count": null,
   "metadata": {
    "collapsed": true
   },
   "outputs": [],
   "source": []
  }
 ],
 "metadata": {
  "kernelspec": {
   "display_name": "Python 3",
   "language": "python",
   "name": "python3"
  },
  "language_info": {
   "codemirror_mode": {
    "name": "ipython",
    "version": 3
   },
   "file_extension": ".py",
   "mimetype": "text/x-python",
   "name": "python",
   "nbconvert_exporter": "python",
   "pygments_lexer": "ipython3",
   "version": "3.6.9"
  }
 },
 "nbformat": 4,
 "nbformat_minor": 2
}
