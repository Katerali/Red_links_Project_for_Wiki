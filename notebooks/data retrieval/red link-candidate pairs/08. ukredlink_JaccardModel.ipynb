{
 "cells": [
  {
   "cell_type": "code",
   "execution_count": 1,
   "metadata": {},
   "outputs": [],
   "source": [
    "import pandas as pd\n",
    "import gzip\n",
    "import numpy as np\n",
    "import time\n",
    "import os\n",
    "import re\n",
    "import progressbar"
   ]
  },
  {
   "cell_type": "code",
   "execution_count": 2,
   "metadata": {},
   "outputs": [],
   "source": [
    "%load_ext autoreload\n",
    "%autoreload 2"
   ]
  },
  {
   "cell_type": "code",
   "execution_count": 3,
   "metadata": {},
   "outputs": [],
   "source": [
    "import sys\n",
    "sys.path.insert(0, '/media/andrii/earth/Katia/CS_MasterThesis/Red_links_Project_for_Wiki_draft/py')\n",
    "import utils"
   ]
  },
  {
   "cell_type": "markdown",
   "metadata": {},
   "source": [
    "### Load en_wiki"
   ]
  },
  {
   "cell_type": "code",
   "execution_count": 4,
   "metadata": {},
   "outputs": [],
   "source": [
    "#path to data\n",
    "PATH_TO_DATA = '/media/andrii/earth/Katia/CS_MasterThesis/data/'\n",
    "PATH_TO_DATA_UK = PATH_TO_DATA+\"ukwiki/\"\n",
    "PATH_TO_DATA_EN = PATH_TO_DATA+\"enwiki/en_parsed/\""
   ]
  },
  {
   "cell_type": "code",
   "execution_count": 5,
   "metadata": {},
   "outputs": [],
   "source": [
    "data_time = '20180920'"
   ]
  },
  {
   "cell_type": "code",
   "execution_count": 9,
   "metadata": {},
   "outputs": [],
   "source": [
    "# get list of archives to unpack for uk wiki\n",
    "ENWIKI_ART_FNMS = []\n",
    "for file in os.listdir(PATH_TO_DATA_EN):\n",
    "    if re.match(r\"enwiki-20180920-pages-meta-current\\d+\\.xml-p\\d+p\\d+\\.bz2_art\\.csv.gz\", file):\n",
    "        ENWIKI_ART_FNMS.append(file) \n",
    " "
   ]
  },
  {
   "cell_type": "code",
   "execution_count": 10,
   "metadata": {},
   "outputs": [
    {
     "data": {
      "text/plain": [
       "55"
      ]
     },
     "execution_count": 10,
     "metadata": {},
     "output_type": "execute_result"
    }
   ],
   "source": [
    "len(ENWIKI_ART_FNMS)"
   ]
  },
  {
   "cell_type": "code",
   "execution_count": 11,
   "metadata": {},
   "outputs": [],
   "source": [
    "EN_ID_NAME = \"enwiki-\"+data_time+\"-id_name.csv\""
   ]
  },
  {
   "cell_type": "code",
   "execution_count": 12,
   "metadata": {},
   "outputs": [],
   "source": [
    "def unpack(file_name):\n",
    "    file_name_new = file_name.replace(\".gz\",\"\")\n",
    "    with gzip.open(file_name, 'rb') as f_in, open(file_name_new, 'wb') as f_out:\n",
    "        f_out.writelines(f_in)\n",
    "    return file_name_new"
   ]
  },
  {
   "cell_type": "code",
   "execution_count": null,
   "metadata": {},
   "outputs": [],
   "source": []
  },
  {
   "cell_type": "code",
   "execution_count": 13,
   "metadata": {
    "scrolled": true
   },
   "outputs": [
    {
     "name": "stdout",
     "output_type": "stream",
     "text": [
      "55\n",
      "1/55\n",
      "/media/andrii/earth/Katia/CS_MasterThesis/data/enwiki/en_parsed/enwiki-20180920-pages-meta-current14.xml-p6197598p7697598.bz2_art.csv.gz\n",
      "df_articles size: (4553133, 2). df_articles columns: ['id', 'link_id']\n",
      "\n",
      "2/55\n",
      "/media/andrii/earth/Katia/CS_MasterThesis/data/enwiki/en_parsed/enwiki-20180920-pages-meta-current27.xml-p54663462p56163462.bz2_art.csv.gz\n",
      "df_articles size: (2318617, 2). df_articles columns: ['id', 'link_id']\n",
      "\n",
      "3/55\n",
      "/media/andrii/earth/Katia/CS_MasterThesis/data/enwiki/en_parsed/enwiki-20180920-pages-meta-current27.xml-p53163462p54663462.bz2_art.csv.gz\n",
      "df_articles size: (2611380, 2). df_articles columns: ['id', 'link_id']\n",
      "\n",
      "4/55\n",
      "/media/andrii/earth/Katia/CS_MasterThesis/data/enwiki/en_parsed/enwiki-20180920-pages-meta-current15.xml-p7744803p9244803.bz2_art.csv.gz\n",
      "df_articles size: (4160343, 2). df_articles columns: ['id', 'link_id']\n",
      "\n",
      "5/55\n",
      "/media/andrii/earth/Katia/CS_MasterThesis/data/enwiki/en_parsed/enwiki-20180920-pages-meta-current25.xml-p35452816p36952816.bz2_art.csv.gz\n",
      "df_articles size: (3233721, 2). df_articles columns: ['id', 'link_id']\n",
      "\n",
      "6/55\n",
      "/media/andrii/earth/Katia/CS_MasterThesis/data/enwiki/en_parsed/enwiki-20180920-pages-meta-current17.xml-p11539268p13039268.bz2_art.csv.gz\n",
      "df_articles size: (4417432, 2). df_articles columns: ['id', 'link_id']\n",
      "\n",
      "7/55\n",
      "/media/andrii/earth/Katia/CS_MasterThesis/data/enwiki/en_parsed/enwiki-20180920-pages-meta-current27.xml-p48663462p50163462.bz2_art.csv.gz\n",
      "df_articles size: (2421685, 2). df_articles columns: ['id', 'link_id']\n",
      "\n",
      "8/55\n",
      "/media/andrii/earth/Katia/CS_MasterThesis/data/enwiki/en_parsed/enwiki-20180920-pages-meta-current15.xml-p9244803p9518048.bz2_art.csv.gz\n",
      "df_articles size: (712772, 2). df_articles columns: ['id', 'link_id']\n",
      "\n",
      "9/55\n",
      "/media/andrii/earth/Katia/CS_MasterThesis/data/enwiki/en_parsed/enwiki-20180920-pages-meta-current18.xml-p15193074p16120542.bz2_art.csv.gz\n",
      "df_articles size: (1996594, 2). df_articles columns: ['id', 'link_id']\n",
      "\n",
      "10/55\n",
      "/media/andrii/earth/Katia/CS_MasterThesis/data/enwiki/en_parsed/enwiki-20180920-pages-meta-current27.xml-p45663462p47163462.bz2_art.csv.gz\n",
      "df_articles size: (2088731, 2). df_articles columns: ['id', 'link_id']\n",
      "\n",
      "11/55\n",
      "/media/andrii/earth/Katia/CS_MasterThesis/data/enwiki/en_parsed/enwiki-20180920-pages-meta-current26.xml-p42567203p42663461.bz2_art.csv.gz\n",
      "df_articles size: (184821, 2). df_articles columns: ['id', 'link_id']\n",
      "\n",
      "12/55\n",
      "/media/andrii/earth/Katia/CS_MasterThesis/data/enwiki/en_parsed/enwiki-20180920-pages-meta-current24.xml-p32003451p33503451.bz2_art.csv.gz\n",
      "df_articles size: (2970352, 2). df_articles columns: ['id', 'link_id']\n",
      "\n",
      "13/55\n",
      "/media/andrii/earth/Katia/CS_MasterThesis/data/enwiki/en_parsed/enwiki-20180920-pages-meta-current14.xml-p7697598p7744799.bz2_art.csv.gz\n",
      "df_articles size: (128392, 2). df_articles columns: ['id', 'link_id']\n",
      "\n",
      "14/55\n",
      "/media/andrii/earth/Katia/CS_MasterThesis/data/enwiki/en_parsed/enwiki-20180920-pages-meta-current27.xml-p57663462p58534506.bz2_art.csv.gz\n",
      "df_articles size: (1080441, 2). df_articles columns: ['id', 'link_id']\n",
      "\n",
      "15/55\n",
      "/media/andrii/earth/Katia/CS_MasterThesis/data/enwiki/en_parsed/enwiki-20180920-pages-meta-current19.xml-p17620543p18754735.bz2_art.csv.gz\n",
      "df_articles size: (2472634, 2). df_articles columns: ['id', 'link_id']\n",
      "\n",
      "16/55\n",
      "/media/andrii/earth/Katia/CS_MasterThesis/data/enwiki/en_parsed/enwiki-20180920-pages-meta-current27.xml-p51663462p53163462.bz2_art.csv.gz\n",
      "df_articles size: (2325434, 2). df_articles columns: ['id', 'link_id']\n",
      "\n",
      "17/55\n",
      "/media/andrii/earth/Katia/CS_MasterThesis/data/enwiki/en_parsed/enwiki-20180920-pages-meta-current8.xml-p1268692p1791079.bz2_art.csv.gz\n",
      "df_articles size: (4581590, 2). df_articles columns: ['id', 'link_id']\n",
      "\n",
      "18/55\n",
      "/media/andrii/earth/Katia/CS_MasterThesis/data/enwiki/en_parsed/enwiki-20180920-pages-meta-current23.xml-p29823661p30503449.bz2_art.csv.gz\n",
      "df_articles size: (1068587, 2). df_articles columns: ['id', 'link_id']\n",
      "\n",
      "19/55\n",
      "/media/andrii/earth/Katia/CS_MasterThesis/data/enwiki/en_parsed/enwiki-20180920-pages-meta-current6.xml-p565314p892912.bz2_art.csv.gz\n",
      "df_articles size: (4327451, 2). df_articles columns: ['id', 'link_id']\n",
      "\n",
      "20/55\n",
      "/media/andrii/earth/Katia/CS_MasterThesis/data/enwiki/en_parsed/enwiki-20180920-pages-meta-current5.xml-p352690p565313.bz2_art.csv.gz\n",
      "df_articles size: (3997765, 2). df_articles columns: ['id', 'link_id']\n",
      "\n",
      "21/55\n",
      "/media/andrii/earth/Katia/CS_MasterThesis/data/enwiki/en_parsed/enwiki-20180920-pages-meta-current3.xml-p88445p200507.bz2_art.csv.gz\n",
      "df_articles size: (4505470, 2). df_articles columns: ['id', 'link_id']\n",
      "\n",
      "22/55\n",
      "/media/andrii/earth/Katia/CS_MasterThesis/data/enwiki/en_parsed/enwiki-20180920-pages-meta-current22.xml-p23927984p25427984.bz2_art.csv.gz\n",
      "df_articles size: (3423429, 2). df_articles columns: ['id', 'link_id']\n",
      "\n",
      "23/55\n",
      "/media/andrii/earth/Katia/CS_MasterThesis/data/enwiki/en_parsed/enwiki-20180920-pages-meta-current24.xml-p30503451p32003451.bz2_art.csv.gz\n",
      "df_articles size: (3396746, 2). df_articles columns: ['id', 'link_id']\n",
      "\n",
      "24/55\n",
      "/media/andrii/earth/Katia/CS_MasterThesis/data/enwiki/en_parsed/enwiki-20180920-pages-meta-current26.xml-p41067203p42567203.bz2_art.csv.gz\n",
      "df_articles size: (3055556, 2). df_articles columns: ['id', 'link_id']\n",
      "\n",
      "25/55\n",
      "/media/andrii/earth/Katia/CS_MasterThesis/data/enwiki/en_parsed/enwiki-20180920-pages-meta-current16.xml-p11018050p11539266.bz2_art.csv.gz\n",
      "df_articles size: (1417092, 2). df_articles columns: ['id', 'link_id']\n",
      "\n",
      "26/55\n",
      "/media/andrii/earth/Katia/CS_MasterThesis/data/enwiki/en_parsed/enwiki-20180920-pages-meta-current7.xml-p892914p1268691.bz2_art.csv.gz\n",
      "df_articles size: (4417951, 2). df_articles columns: ['id', 'link_id']\n",
      "\n",
      "27/55\n",
      "/media/andrii/earth/Katia/CS_MasterThesis/data/enwiki/en_parsed/enwiki-20180920-pages-meta-current18.xml-p13693074p15193074.bz2_art.csv.gz\n",
      "df_articles size: (3572466, 2). df_articles columns: ['id', 'link_id']\n",
      "\n",
      "28/55\n",
      "/media/andrii/earth/Katia/CS_MasterThesis/data/enwiki/en_parsed/enwiki-20180920-pages-meta-current21.xml-p22722158p23927983.bz2_art.csv.gz\n",
      "df_articles size: (2798129, 2). df_articles columns: ['id', 'link_id']\n",
      "\n",
      "29/55\n",
      "/media/andrii/earth/Katia/CS_MasterThesis/data/enwiki/en_parsed/enwiki-20180920-pages-meta-current10.xml-p2336425p3046511.bz2_art.csv.gz\n",
      "df_articles size: (4451377, 2). df_articles columns: ['id', 'link_id']\n",
      "\n",
      "30/55\n",
      "/media/andrii/earth/Katia/CS_MasterThesis/data/enwiki/en_parsed/enwiki-20180920-pages-meta-current22.xml-p25427984p26823660.bz2_art.csv.gz\n",
      "df_articles size: (2926674, 2). df_articles columns: ['id', 'link_id']\n",
      "\n",
      "31/55\n",
      "/media/andrii/earth/Katia/CS_MasterThesis/data/enwiki/en_parsed/enwiki-20180920-pages-meta-current11.xml-p3046514p3926861.bz2_art.csv.gz\n",
      "df_articles size: (4715791, 2). df_articles columns: ['id', 'link_id']\n",
      "\n",
      "32/55\n",
      "/media/andrii/earth/Katia/CS_MasterThesis/data/enwiki/en_parsed/enwiki-20180920-pages-meta-current17.xml-p13039268p13693071.bz2_art.csv.gz\n",
      "df_articles size: (1486409, 2). df_articles columns: ['id', 'link_id']\n",
      "\n",
      "33/55\n",
      "/media/andrii/earth/Katia/CS_MasterThesis/data/enwiki/en_parsed/enwiki-20180920-pages-meta-current27.xml-p56163462p57663462.bz2_art.csv.gz\n",
      "df_articles size: (2368359, 2). df_articles columns: ['id', 'link_id']\n",
      "\n",
      "34/55\n",
      "/media/andrii/earth/Katia/CS_MasterThesis/data/enwiki/en_parsed/enwiki-20180920-pages-meta-current24.xml-p33503451p33952815.bz2_art.csv.gz\n",
      "df_articles size: (875794, 2). df_articles columns: ['id', 'link_id']\n",
      "\n",
      "35/55\n",
      "/media/andrii/earth/Katia/CS_MasterThesis/data/enwiki/en_parsed/enwiki-20180920-pages-meta-current27.xml-p42663462p44163462.bz2_art.csv.gz\n",
      "df_articles size: (3132704, 2). df_articles columns: ['id', 'link_id']\n",
      "\n",
      "36/55\n",
      "/media/andrii/earth/Katia/CS_MasterThesis/data/enwiki/en_parsed/enwiki-20180920-pages-meta-current20.xml-p18754736p20254736.bz2_art.csv.gz\n",
      "df_articles size: (3291606, 2). df_articles columns: ['id', 'link_id']\n",
      "\n",
      "37/55\n",
      "/media/andrii/earth/Katia/CS_MasterThesis/data/enwiki/en_parsed/enwiki-20180920-pages-meta-current16.xml-p9518050p11018050.bz2_art.csv.gz\n",
      "df_articles size: (3551761, 2). df_articles columns: ['id', 'link_id']\n",
      "\n",
      "38/55\n",
      "/media/andrii/earth/Katia/CS_MasterThesis/data/enwiki/en_parsed/enwiki-20180920-pages-meta-current27.xml-p47163462p48663462.bz2_art.csv.gz\n",
      "df_articles size: (2546749, 2). df_articles columns: ['id', 'link_id']\n",
      "\n",
      "39/55\n",
      "/media/andrii/earth/Katia/CS_MasterThesis/data/enwiki/en_parsed/enwiki-20180920-pages-meta-current19.xml-p16120543p17620543.bz2_art.csv.gz\n"
     ]
    },
    {
     "name": "stdout",
     "output_type": "stream",
     "text": [
      "df_articles size: (2974215, 2). df_articles columns: ['id', 'link_id']\n",
      "\n",
      "40/55\n",
      "/media/andrii/earth/Katia/CS_MasterThesis/data/enwiki/en_parsed/enwiki-20180920-pages-meta-current4.xml-p200511p352689.bz2_art.csv.gz\n",
      "df_articles size: (3563252, 2). df_articles columns: ['id', 'link_id']\n",
      "\n",
      "41/55\n",
      "/media/andrii/earth/Katia/CS_MasterThesis/data/enwiki/en_parsed/enwiki-20180920-pages-meta-current23.xml-p26823661p28323661.bz2_art.csv.gz\n",
      "df_articles size: (3301985, 2). df_articles columns: ['id', 'link_id']\n",
      "\n",
      "42/55\n",
      "/media/andrii/earth/Katia/CS_MasterThesis/data/enwiki/en_parsed/enwiki-20180920-pages-meta-current27.xml-p44163462p45663462.bz2_art.csv.gz\n",
      "df_articles size: (2745988, 2). df_articles columns: ['id', 'link_id']\n",
      "\n",
      "43/55\n",
      "/media/andrii/earth/Katia/CS_MasterThesis/data/enwiki/en_parsed/enwiki-20180920-pages-meta-current26.xml-p38067203p39567203.bz2_art.csv.gz\n",
      "df_articles size: (3070338, 2). df_articles columns: ['id', 'link_id']\n",
      "\n",
      "44/55\n",
      "/media/andrii/earth/Katia/CS_MasterThesis/data/enwiki/en_parsed/enwiki-20180920-pages-meta-current25.xml-p36952816p38067202.bz2_art.csv.gz\n",
      "df_articles size: (2183899, 2). df_articles columns: ['id', 'link_id']\n",
      "\n",
      "45/55\n",
      "/media/andrii/earth/Katia/CS_MasterThesis/data/enwiki/en_parsed/enwiki-20180920-pages-meta-current12.xml-p3926863p5040436.bz2_art.csv.gz\n",
      "df_articles size: (4885587, 2). df_articles columns: ['id', 'link_id']\n",
      "\n",
      "46/55\n",
      "/media/andrii/earth/Katia/CS_MasterThesis/data/enwiki/en_parsed/enwiki-20180920-pages-meta-current9.xml-p1791080p2336422.bz2_art.csv.gz\n",
      "df_articles size: (4441058, 2). df_articles columns: ['id', 'link_id']\n",
      "\n",
      "47/55\n",
      "/media/andrii/earth/Katia/CS_MasterThesis/data/enwiki/en_parsed/enwiki-20180920-pages-meta-current2.xml-p30304p88444.bz2_art.csv.gz\n",
      "df_articles size: (2844778, 2). df_articles columns: ['id', 'link_id']\n",
      "\n",
      "48/55\n",
      "/media/andrii/earth/Katia/CS_MasterThesis/data/enwiki/en_parsed/enwiki-20180920-pages-meta-current13.xml-p5040438p6197594.bz2_art.csv.gz\n",
      "df_articles size: (4643128, 2). df_articles columns: ['id', 'link_id']\n",
      "\n",
      "49/55\n",
      "/media/andrii/earth/Katia/CS_MasterThesis/data/enwiki/en_parsed/enwiki-20180920-pages-meta-current1.xml-p10p30303.bz2_art.csv.gz\n",
      "df_articles size: (2084216, 2). df_articles columns: ['id', 'link_id']\n",
      "\n",
      "50/55\n",
      "/media/andrii/earth/Katia/CS_MasterThesis/data/enwiki/en_parsed/enwiki-20180920-pages-meta-current20.xml-p20254736p21222156.bz2_art.csv.gz\n",
      "df_articles size: (2038479, 2). df_articles columns: ['id', 'link_id']\n",
      "\n",
      "51/55\n",
      "/media/andrii/earth/Katia/CS_MasterThesis/data/enwiki/en_parsed/enwiki-20180920-pages-meta-current21.xml-p21222158p22722158.bz2_art.csv.gz\n",
      "df_articles size: (3438545, 2). df_articles columns: ['id', 'link_id']\n",
      "\n",
      "52/55\n",
      "/media/andrii/earth/Katia/CS_MasterThesis/data/enwiki/en_parsed/enwiki-20180920-pages-meta-current26.xml-p39567203p41067203.bz2_art.csv.gz\n",
      "df_articles size: (3232618, 2). df_articles columns: ['id', 'link_id']\n",
      "\n",
      "53/55\n",
      "/media/andrii/earth/Katia/CS_MasterThesis/data/enwiki/en_parsed/enwiki-20180920-pages-meta-current27.xml-p50163462p51663462.bz2_art.csv.gz\n",
      "df_articles size: (2719555, 2). df_articles columns: ['id', 'link_id']\n",
      "\n",
      "54/55\n",
      "/media/andrii/earth/Katia/CS_MasterThesis/data/enwiki/en_parsed/enwiki-20180920-pages-meta-current25.xml-p33952816p35452816.bz2_art.csv.gz\n",
      "df_articles size: (2622196, 2). df_articles columns: ['id', 'link_id']\n",
      "\n",
      "55/55\n",
      "/media/andrii/earth/Katia/CS_MasterThesis/data/enwiki/en_parsed/enwiki-20180920-pages-meta-current23.xml-p28323661p29823661.bz2_art.csv.gz\n",
      "df_articles size: (2641602, 2). df_articles columns: ['id', 'link_id']\n",
      "\n",
      "Total time: 6.6 minutes\n"
     ]
    }
   ],
   "source": [
    "start_time = time.time()\n",
    "# loading all articles to dataframe\n",
    "df_en = pd.DataFrame()\n",
    "n_files = len(ENWIKI_ART_FNMS)\n",
    "print(n_files)\n",
    "\n",
    "for index in range(n_files):\n",
    "    print(str(index+1) + '/' + str(n_files))\n",
    "    fn = ENWIKI_ART_FNMS[index]\n",
    "    fn = PATH_TO_DATA_EN+fn\n",
    "    print(fn)\n",
    "    fn_new = unpack(fn)\n",
    "    df_articles = pd.read_csv(fn_new, encoding='UTF-8', sep='^')  \n",
    "    df_articles = df_articles[df_articles['is_red_link']==False][['id','link_id']]\n",
    "    df_en = pd.concat((df_en, df_articles))\n",
    "    print(\"df_articles size: {}. df_articles columns: {}\\n\".format(df_articles.shape, list(df_articles.columns)))\n",
    "    os.remove(fn_new)\n",
    "    \n",
    "print('Total time: %.1f minutes' % ((time.time() - start_time)/60))"
   ]
  },
  {
   "cell_type": "code",
   "execution_count": 14,
   "metadata": {},
   "outputs": [
    {
     "name": "stdout",
     "output_type": "stream",
     "text": [
      "(161017377, 2)\n",
      "Index(['id', 'link_id'], dtype='object')\n"
     ]
    }
   ],
   "source": [
    "print(df_en.shape)\n",
    "print(df_en.columns)"
   ]
  },
  {
   "cell_type": "code",
   "execution_count": 17,
   "metadata": {},
   "outputs": [
    {
     "name": "stdout",
     "output_type": "stream",
     "text": [
      "(5719743, 2)\n",
      "Index(['id', 'title'], dtype='object')\n"
     ]
    }
   ],
   "source": [
    "# article names\n",
    "df_en_name = pd.read_csv(PATH_TO_DATA_EN+EN_ID_NAME,  encoding='UTF-8', quotechar=\"\\\"\", sep='^')\n",
    "df_en_name = df_en_name[['id','title']]\n",
    "print(df_en_name.shape)\n",
    "print(df_en_name.columns)"
   ]
  },
  {
   "cell_type": "markdown",
   "metadata": {},
   "source": [
    "### Load uk_wiki"
   ]
  },
  {
   "cell_type": "code",
   "execution_count": 21,
   "metadata": {},
   "outputs": [],
   "source": [
    "UKWIKI_ART_FNMS = []\n",
    "for file in os.listdir(PATH_TO_DATA_UK):\n",
    "    if re.match(r\"ukwiki-20180920-pages-links.csv\", file):\n",
    "        UKWIKI_ART_FNMS.append(file)"
   ]
  },
  {
   "cell_type": "code",
   "execution_count": 22,
   "metadata": {},
   "outputs": [
    {
     "data": {
      "text/plain": [
       "['ukwiki-20180920-pages-links.csv']"
      ]
     },
     "execution_count": 22,
     "metadata": {},
     "output_type": "execute_result"
    }
   ],
   "source": [
    "UKWIKI_ART_FNMS"
   ]
  },
  {
   "cell_type": "code",
   "execution_count": 23,
   "metadata": {},
   "outputs": [
    {
     "data": {
      "text/plain": [
       "'ukwiki-20180920-id_name.csv'"
      ]
     },
     "execution_count": 23,
     "metadata": {},
     "output_type": "execute_result"
    }
   ],
   "source": [
    "UK_ID_NAME = \"ukwiki-\"+data_time+\"-id_name.csv\"\n",
    "UK_ID_NAME"
   ]
  },
  {
   "cell_type": "code",
   "execution_count": 24,
   "metadata": {
    "scrolled": true
   },
   "outputs": [
    {
     "name": "stdout",
     "output_type": "stream",
     "text": [
      "1/1\n",
      "/media/andrii/earth/Katia/CS_MasterThesis/data/ukwiki/ukwiki-20180920-pages-links.csv\n",
      "df_articles size: (22693776, 4). df_articles columns: ['id', 'link_id', 'link_val', 'is_red_link']\n",
      "\n",
      "Total time: 0.3 minutes\n"
     ]
    }
   ],
   "source": [
    "start_time = time.time()\n",
    "\n",
    "# loading existing articles and red links to dataframes\n",
    "df_uk_blue = pd.DataFrame()\n",
    "df_uk_red = pd.DataFrame()\n",
    "n_files = len(UKWIKI_ART_FNMS)\n",
    "for index in range(n_files):\n",
    "    print(str(index+1) + '/' + str(n_files))\n",
    "    fn = UKWIKI_ART_FNMS[index]\n",
    "    fn = PATH_TO_DATA_UK+fn\n",
    "    print(fn)\n",
    "    df_articles = pd.read_csv(fn)\n",
    "    \n",
    "    df_articles_blue = df_articles[df_articles['is_red_link']==False]\n",
    "    df_uk_blue = pd.concat((df_uk_blue, df_articles_blue[['id','link_id']]))\n",
    "    df_articles_red = df_articles[df_articles['is_red_link']]\n",
    "    df_uk_red = pd.concat((df_uk_red, df_articles_red[['id','link_val']]))\n",
    "    \n",
    "    print(\"df_articles size: {}. df_articles columns: {}\\n\".format(df_articles.shape, list(df_articles.columns)))\n",
    "\n",
    "print('Total time: %.1f minutes' % ((time.time() - start_time)/60))"
   ]
  },
  {
   "cell_type": "code",
   "execution_count": 25,
   "metadata": {},
   "outputs": [
    {
     "name": "stdout",
     "output_type": "stream",
     "text": [
      "(19818822, 2)\n",
      "Index(['id', 'link_id'], dtype='object')\n",
      "(2874954, 2)\n",
      "Index(['id', 'link_val'], dtype='object')\n"
     ]
    }
   ],
   "source": [
    "print(df_uk_blue.shape)\n",
    "print(df_uk_blue.columns)\n",
    "\n",
    "print(df_uk_red.shape)\n",
    "print(df_uk_red.columns)"
   ]
  },
  {
   "cell_type": "code",
   "execution_count": 26,
   "metadata": {},
   "outputs": [
    {
     "name": "stdout",
     "output_type": "stream",
     "text": [
      "(819212, 3)\n",
      "Index(['id', 'title', 'length'], dtype='object')\n"
     ]
    }
   ],
   "source": [
    "# article names\n",
    "df_uk_name = pd.read_csv(PATH_TO_DATA_UK+UK_ID_NAME, sep='^')\n",
    "\n",
    "print(df_uk_name.shape)\n",
    "print(df_uk_name.columns)"
   ]
  },
  {
   "cell_type": "code",
   "execution_count": 34,
   "metadata": {},
   "outputs": [],
   "source": [
    "# # add ids for red links\n",
    "\n",
    "# # find maximum id among blue links\n",
    "max_id = np.max(df_uk_name['id'])\n",
    "\n",
    "# # find unique titles among red links, create df with\n",
    "# red_links = df_uk_red['link_val'].unique()\n",
    "# red_links_ids = pd.DataFrame({'title': red_links, \n",
    "#                               'id': np.arange(max_id+1, len(red_links)+max_id+1)})\n",
    "# red_links_ids['is_red_link'] = True\n",
    "\n",
    "# # create dataframe with titles and red link tickets / add it to article titles df\n",
    "# df_uk_name['is_red_link'] = False\n",
    "# df_uk_name = pd.concat((df_uk_name,red_links_ids))\n",
    "# df_uk_name = df_uk_name.reset_index(drop=True)\n",
    "\n",
    "# print(df_uk_name.shape)\n",
    "# print(df_uk_name.columns)\n"
   ]
  },
  {
   "cell_type": "code",
   "execution_count": 27,
   "metadata": {},
   "outputs": [],
   "source": [
    "# # add link ids to df_uk_red\n",
    "# df_uk_red = df_uk_red.merge(right = red_links_ids, left_on = 'link_val', right_on = 'title', how = 'left')\n",
    "# df_uk_red = df_uk_red[['id_x','id_y']]\n",
    "# df_uk_red.columns = ['id', 'link_id']\n",
    "\n",
    "df_uk_red = pd.read_csv(PATH_TO_DATA_UK+'all_uk_redlinks_with_parent_ids.csv')"
   ]
  },
  {
   "cell_type": "code",
   "execution_count": 28,
   "metadata": {},
   "outputs": [
    {
     "data": {
      "text/html": [
       "<div>\n",
       "<style scoped>\n",
       "    .dataframe tbody tr th:only-of-type {\n",
       "        vertical-align: middle;\n",
       "    }\n",
       "\n",
       "    .dataframe tbody tr th {\n",
       "        vertical-align: top;\n",
       "    }\n",
       "\n",
       "    .dataframe thead th {\n",
       "        text-align: right;\n",
       "    }\n",
       "</style>\n",
       "<table border=\"1\" class=\"dataframe\">\n",
       "  <thead>\n",
       "    <tr style=\"text-align: right;\">\n",
       "      <th></th>\n",
       "      <th>id_parent</th>\n",
       "      <th>red_link_name</th>\n",
       "      <th>red_link_id</th>\n",
       "    </tr>\n",
       "  </thead>\n",
       "  <tbody>\n",
       "    <tr>\n",
       "      <th>0</th>\n",
       "      <td>13</td>\n",
       "      <td>Географія розвитку</td>\n",
       "      <td>2817993</td>\n",
       "    </tr>\n",
       "    <tr>\n",
       "      <th>1</th>\n",
       "      <td>13</td>\n",
       "      <td>Географія часу</td>\n",
       "      <td>2817994</td>\n",
       "    </tr>\n",
       "    <tr>\n",
       "      <th>2</th>\n",
       "      <td>1928599</td>\n",
       "      <td>Географія часу</td>\n",
       "      <td>2817994</td>\n",
       "    </tr>\n",
       "    <tr>\n",
       "      <th>3</th>\n",
       "      <td>13</td>\n",
       "      <td>Туристична географія</td>\n",
       "      <td>2817995</td>\n",
       "    </tr>\n",
       "    <tr>\n",
       "      <th>4</th>\n",
       "      <td>584</td>\n",
       "      <td>рентгенівська спектроскопія поглинання</td>\n",
       "      <td>2817996</td>\n",
       "    </tr>\n",
       "  </tbody>\n",
       "</table>\n",
       "</div>"
      ],
      "text/plain": [
       "   id_parent                           red_link_name  red_link_id\n",
       "0         13                      Географія розвитку      2817993\n",
       "1         13                          Географія часу      2817994\n",
       "2    1928599                          Географія часу      2817994\n",
       "3         13                    Туристична географія      2817995\n",
       "4        584  рентгенівська спектроскопія поглинання      2817996"
      ]
     },
     "execution_count": 28,
     "metadata": {},
     "output_type": "execute_result"
    }
   ],
   "source": [
    "df_uk_red.head()"
   ]
  },
  {
   "cell_type": "code",
   "execution_count": 29,
   "metadata": {},
   "outputs": [],
   "source": [
    "df_uk_red = df_uk_red[['id_parent', 'red_link_id']]\n",
    "df_uk_red.columns = ['id', 'link_id']"
   ]
  },
  {
   "cell_type": "code",
   "execution_count": 30,
   "metadata": {},
   "outputs": [],
   "source": [
    "# concatenate red and blue article to one df\n",
    "df_uk = pd.concat((df_uk_red, df_uk_blue))"
   ]
  },
  {
   "cell_type": "code",
   "execution_count": 31,
   "metadata": {},
   "outputs": [
    {
     "name": "stdout",
     "output_type": "stream",
     "text": [
      "(22691094, 2)\n",
      "22691094\n"
     ]
    }
   ],
   "source": [
    "print(df_uk.shape)\n",
    "print(df_uk_blue.shape[0] + df_uk_red.shape[0])"
   ]
  },
  {
   "cell_type": "code",
   "execution_count": 32,
   "metadata": {},
   "outputs": [],
   "source": [
    "del df_uk_red, df_uk_blue"
   ]
  },
  {
   "cell_type": "markdown",
   "metadata": {},
   "source": [
    "### Load uk-en correpondences"
   ]
  },
  {
   "cell_type": "code",
   "execution_count": 35,
   "metadata": {},
   "outputs": [
    {
     "name": "stdout",
     "output_type": "stream",
     "text": [
      "(599612, 3)\n",
      "Index(['ll_from', 'll_lang', 'll_title'], dtype='object')\n"
     ]
    }
   ],
   "source": [
    "fn = PATH_TO_DATA_UK+'20180920-langlinks_uk_en.csv'\n",
    "df_link = pd.read_csv(fn, encoding='UTF-8', quotechar='\\'')\n",
    "print(df_link.shape)\n",
    "print(df_link.columns)"
   ]
  },
  {
   "cell_type": "code",
   "execution_count": 36,
   "metadata": {},
   "outputs": [
    {
     "data": {
      "text/html": [
       "<div>\n",
       "<style scoped>\n",
       "    .dataframe tbody tr th:only-of-type {\n",
       "        vertical-align: middle;\n",
       "    }\n",
       "\n",
       "    .dataframe tbody tr th {\n",
       "        vertical-align: top;\n",
       "    }\n",
       "\n",
       "    .dataframe thead th {\n",
       "        text-align: right;\n",
       "    }\n",
       "</style>\n",
       "<table border=\"1\" class=\"dataframe\">\n",
       "  <thead>\n",
       "    <tr style=\"text-align: right;\">\n",
       "      <th></th>\n",
       "      <th>ll_from</th>\n",
       "      <th>ll_lang</th>\n",
       "      <th>ll_title</th>\n",
       "    </tr>\n",
       "  </thead>\n",
       "  <tbody>\n",
       "    <tr>\n",
       "      <th>0</th>\n",
       "      <td>2112530</td>\n",
       "      <td>en</td>\n",
       "      <td>! (The Dismemberment Plan album)</td>\n",
       "    </tr>\n",
       "    <tr>\n",
       "      <th>1</th>\n",
       "      <td>1366003</td>\n",
       "      <td>en</td>\n",
       "      <td>! (disambiguation)</td>\n",
       "    </tr>\n",
       "    <tr>\n",
       "      <th>2</th>\n",
       "      <td>2141483</td>\n",
       "      <td>en</td>\n",
       "      <td>!!</td>\n",
       "    </tr>\n",
       "    <tr>\n",
       "      <th>3</th>\n",
       "      <td>425480</td>\n",
       "      <td>en</td>\n",
       "      <td>!!!</td>\n",
       "    </tr>\n",
       "    <tr>\n",
       "      <th>4</th>\n",
       "      <td>848226</td>\n",
       "      <td>en</td>\n",
       "      <td>!Action Pact!</td>\n",
       "    </tr>\n",
       "  </tbody>\n",
       "</table>\n",
       "</div>"
      ],
      "text/plain": [
       "   ll_from ll_lang                          ll_title\n",
       "0  2112530      en  ! (The Dismemberment Plan album)\n",
       "1  1366003      en                ! (disambiguation)\n",
       "2  2141483      en                                !!\n",
       "3   425480      en                               !!!\n",
       "4   848226      en                     !Action Pact!"
      ]
     },
     "execution_count": 36,
     "metadata": {},
     "output_type": "execute_result"
    }
   ],
   "source": [
    "df_link.head()"
   ]
  },
  {
   "cell_type": "code",
   "execution_count": null,
   "metadata": {
    "collapsed": true
   },
   "outputs": [],
   "source": [
    "# # remove values links to negative values\n",
    "# df_link = df_link[(df_link['id_en']>0) & (df_link['id_en']!=49244)]\n",
    "# print(df_link.shape)"
   ]
  },
  {
   "cell_type": "code",
   "execution_count": 37,
   "metadata": {},
   "outputs": [
    {
     "data": {
      "text/html": [
       "<div>\n",
       "<style scoped>\n",
       "    .dataframe tbody tr th:only-of-type {\n",
       "        vertical-align: middle;\n",
       "    }\n",
       "\n",
       "    .dataframe tbody tr th {\n",
       "        vertical-align: top;\n",
       "    }\n",
       "\n",
       "    .dataframe thead th {\n",
       "        text-align: right;\n",
       "    }\n",
       "</style>\n",
       "<table border=\"1\" class=\"dataframe\">\n",
       "  <thead>\n",
       "    <tr style=\"text-align: right;\">\n",
       "      <th></th>\n",
       "      <th>id</th>\n",
       "      <th>title</th>\n",
       "    </tr>\n",
       "  </thead>\n",
       "  <tbody>\n",
       "    <tr>\n",
       "      <th>0</th>\n",
       "      <td>6197600</td>\n",
       "      <td>Flying Tigers (film)</td>\n",
       "    </tr>\n",
       "    <tr>\n",
       "      <th>1</th>\n",
       "      <td>6197604</td>\n",
       "      <td>Mariano Andreu</td>\n",
       "    </tr>\n",
       "    <tr>\n",
       "      <th>2</th>\n",
       "      <td>6197607</td>\n",
       "      <td>David Prain</td>\n",
       "    </tr>\n",
       "    <tr>\n",
       "      <th>3</th>\n",
       "      <td>6197617</td>\n",
       "      <td>Rut Brandt</td>\n",
       "    </tr>\n",
       "    <tr>\n",
       "      <th>4</th>\n",
       "      <td>6197621</td>\n",
       "      <td>Gregory C. Coleman</td>\n",
       "    </tr>\n",
       "  </tbody>\n",
       "</table>\n",
       "</div>"
      ],
      "text/plain": [
       "        id                 title\n",
       "0  6197600  Flying Tigers (film)\n",
       "1  6197604        Mariano Andreu\n",
       "2  6197607           David Prain\n",
       "3  6197617            Rut Brandt\n",
       "4  6197621    Gregory C. Coleman"
      ]
     },
     "execution_count": 37,
     "metadata": {},
     "output_type": "execute_result"
    }
   ],
   "source": [
    "df_en_name.head()"
   ]
  },
  {
   "cell_type": "code",
   "execution_count": 38,
   "metadata": {},
   "outputs": [],
   "source": [
    "# add uk correspondences to en article names\n",
    "df_en_name = pd.merge(df_en_name, df_link, left_on = 'title', right_on = 'll_title', how = 'left')"
   ]
  },
  {
   "cell_type": "code",
   "execution_count": 39,
   "metadata": {},
   "outputs": [
    {
     "data": {
      "text/html": [
       "<div>\n",
       "<style scoped>\n",
       "    .dataframe tbody tr th:only-of-type {\n",
       "        vertical-align: middle;\n",
       "    }\n",
       "\n",
       "    .dataframe tbody tr th {\n",
       "        vertical-align: top;\n",
       "    }\n",
       "\n",
       "    .dataframe thead th {\n",
       "        text-align: right;\n",
       "    }\n",
       "</style>\n",
       "<table border=\"1\" class=\"dataframe\">\n",
       "  <thead>\n",
       "    <tr style=\"text-align: right;\">\n",
       "      <th></th>\n",
       "      <th>id</th>\n",
       "      <th>title</th>\n",
       "      <th>ll_from</th>\n",
       "      <th>ll_lang</th>\n",
       "      <th>ll_title</th>\n",
       "    </tr>\n",
       "  </thead>\n",
       "  <tbody>\n",
       "    <tr>\n",
       "      <th>0</th>\n",
       "      <td>6197600</td>\n",
       "      <td>Flying Tigers (film)</td>\n",
       "      <td>NaN</td>\n",
       "      <td>NaN</td>\n",
       "      <td>NaN</td>\n",
       "    </tr>\n",
       "    <tr>\n",
       "      <th>1</th>\n",
       "      <td>6197604</td>\n",
       "      <td>Mariano Andreu</td>\n",
       "      <td>NaN</td>\n",
       "      <td>NaN</td>\n",
       "      <td>NaN</td>\n",
       "    </tr>\n",
       "    <tr>\n",
       "      <th>2</th>\n",
       "      <td>6197607</td>\n",
       "      <td>David Prain</td>\n",
       "      <td>1892860.0</td>\n",
       "      <td>en</td>\n",
       "      <td>David Prain</td>\n",
       "    </tr>\n",
       "    <tr>\n",
       "      <th>3</th>\n",
       "      <td>6197617</td>\n",
       "      <td>Rut Brandt</td>\n",
       "      <td>NaN</td>\n",
       "      <td>NaN</td>\n",
       "      <td>NaN</td>\n",
       "    </tr>\n",
       "    <tr>\n",
       "      <th>4</th>\n",
       "      <td>6197621</td>\n",
       "      <td>Gregory C. Coleman</td>\n",
       "      <td>NaN</td>\n",
       "      <td>NaN</td>\n",
       "      <td>NaN</td>\n",
       "    </tr>\n",
       "  </tbody>\n",
       "</table>\n",
       "</div>"
      ],
      "text/plain": [
       "        id                 title    ll_from ll_lang     ll_title\n",
       "0  6197600  Flying Tigers (film)        NaN     NaN          NaN\n",
       "1  6197604        Mariano Andreu        NaN     NaN          NaN\n",
       "2  6197607           David Prain  1892860.0      en  David Prain\n",
       "3  6197617            Rut Brandt        NaN     NaN          NaN\n",
       "4  6197621    Gregory C. Coleman        NaN     NaN          NaN"
      ]
     },
     "execution_count": 39,
     "metadata": {},
     "output_type": "execute_result"
    }
   ],
   "source": [
    "df_en_name.head()"
   ]
  },
  {
   "cell_type": "code",
   "execution_count": 40,
   "metadata": {},
   "outputs": [],
   "source": [
    "df_en_name_ = df_en_name[['id','title', 'll_from']]\n",
    "df_en_name_.columns = ['id', 'title', 'id_uk']"
   ]
  },
  {
   "cell_type": "code",
   "execution_count": 41,
   "metadata": {},
   "outputs": [
    {
     "data": {
      "text/html": [
       "<div>\n",
       "<style scoped>\n",
       "    .dataframe tbody tr th:only-of-type {\n",
       "        vertical-align: middle;\n",
       "    }\n",
       "\n",
       "    .dataframe tbody tr th {\n",
       "        vertical-align: top;\n",
       "    }\n",
       "\n",
       "    .dataframe thead th {\n",
       "        text-align: right;\n",
       "    }\n",
       "</style>\n",
       "<table border=\"1\" class=\"dataframe\">\n",
       "  <thead>\n",
       "    <tr style=\"text-align: right;\">\n",
       "      <th></th>\n",
       "      <th>id</th>\n",
       "      <th>title</th>\n",
       "      <th>id_uk</th>\n",
       "    </tr>\n",
       "  </thead>\n",
       "  <tbody>\n",
       "    <tr>\n",
       "      <th>0</th>\n",
       "      <td>6197600</td>\n",
       "      <td>Flying Tigers (film)</td>\n",
       "      <td>NaN</td>\n",
       "    </tr>\n",
       "    <tr>\n",
       "      <th>1</th>\n",
       "      <td>6197604</td>\n",
       "      <td>Mariano Andreu</td>\n",
       "      <td>NaN</td>\n",
       "    </tr>\n",
       "    <tr>\n",
       "      <th>2</th>\n",
       "      <td>6197607</td>\n",
       "      <td>David Prain</td>\n",
       "      <td>1892860.0</td>\n",
       "    </tr>\n",
       "    <tr>\n",
       "      <th>3</th>\n",
       "      <td>6197617</td>\n",
       "      <td>Rut Brandt</td>\n",
       "      <td>NaN</td>\n",
       "    </tr>\n",
       "    <tr>\n",
       "      <th>4</th>\n",
       "      <td>6197621</td>\n",
       "      <td>Gregory C. Coleman</td>\n",
       "      <td>NaN</td>\n",
       "    </tr>\n",
       "  </tbody>\n",
       "</table>\n",
       "</div>"
      ],
      "text/plain": [
       "        id                 title      id_uk\n",
       "0  6197600  Flying Tigers (film)        NaN\n",
       "1  6197604        Mariano Andreu        NaN\n",
       "2  6197607           David Prain  1892860.0\n",
       "3  6197617            Rut Brandt        NaN\n",
       "4  6197621    Gregory C. Coleman        NaN"
      ]
     },
     "execution_count": 41,
     "metadata": {},
     "output_type": "execute_result"
    }
   ],
   "source": [
    "df_en_name_.head()"
   ]
  },
  {
   "cell_type": "code",
   "execution_count": 42,
   "metadata": {},
   "outputs": [],
   "source": [
    "# several en articles have multiple corresponding uk acticles, just remove oldest one uk article\n",
    "df_en_translated = (df_en_name_[~df_en_name_['id_uk'].isnull()])[['id', 'id_uk']]\n",
    "df_en_translated.columns = ['id_en','id_uk']\n",
    "df_en_translated = df_en_translated.sort_values(by = 'id_en')\n",
    "df_en_translated = df_en_translated.drop_duplicates(keep = 'first', subset = ['id_uk'])"
   ]
  },
  {
   "cell_type": "code",
   "execution_count": 43,
   "metadata": {},
   "outputs": [],
   "source": [
    "# add en correspondences to uk article names"
   ]
  },
  {
   "cell_type": "code",
   "execution_count": 45,
   "metadata": {},
   "outputs": [
    {
     "data": {
      "text/html": [
       "<div>\n",
       "<style scoped>\n",
       "    .dataframe tbody tr th:only-of-type {\n",
       "        vertical-align: middle;\n",
       "    }\n",
       "\n",
       "    .dataframe tbody tr th {\n",
       "        vertical-align: top;\n",
       "    }\n",
       "\n",
       "    .dataframe thead th {\n",
       "        text-align: right;\n",
       "    }\n",
       "</style>\n",
       "<table border=\"1\" class=\"dataframe\">\n",
       "  <thead>\n",
       "    <tr style=\"text-align: right;\">\n",
       "      <th></th>\n",
       "      <th>id</th>\n",
       "      <th>link_id</th>\n",
       "      <th>link_val</th>\n",
       "      <th>is_red_link</th>\n",
       "    </tr>\n",
       "  </thead>\n",
       "  <tbody>\n",
       "    <tr>\n",
       "      <th>0</th>\n",
       "      <td>13</td>\n",
       "      <td>884280</td>\n",
       "      <td>Об'єкт (філософія)</td>\n",
       "      <td>False</td>\n",
       "    </tr>\n",
       "    <tr>\n",
       "      <th>1</th>\n",
       "      <td>13</td>\n",
       "      <td>21623</td>\n",
       "      <td>Ератосфен</td>\n",
       "      <td>False</td>\n",
       "    </tr>\n",
       "    <tr>\n",
       "      <th>2</th>\n",
       "      <td>13</td>\n",
       "      <td>274944</td>\n",
       "      <td>географ</td>\n",
       "      <td>False</td>\n",
       "    </tr>\n",
       "    <tr>\n",
       "      <th>3</th>\n",
       "      <td>13</td>\n",
       "      <td>26194</td>\n",
       "      <td>Клавдій Птолемей</td>\n",
       "      <td>False</td>\n",
       "    </tr>\n",
       "    <tr>\n",
       "      <th>4</th>\n",
       "      <td>13</td>\n",
       "      <td>20459</td>\n",
       "      <td>Відродження</td>\n",
       "      <td>False</td>\n",
       "    </tr>\n",
       "  </tbody>\n",
       "</table>\n",
       "</div>"
      ],
      "text/plain": [
       "   id  link_id            link_val  is_red_link\n",
       "0  13   884280  Об'єкт (філософія)        False\n",
       "1  13    21623           Ератосфен        False\n",
       "2  13   274944             географ        False\n",
       "3  13    26194    Клавдій Птолемей        False\n",
       "4  13    20459         Відродження        False"
      ]
     },
     "execution_count": 45,
     "metadata": {},
     "output_type": "execute_result"
    }
   ],
   "source": [
    "df_articles.head()"
   ]
  },
  {
   "cell_type": "code",
   "execution_count": 46,
   "metadata": {},
   "outputs": [],
   "source": [
    "df_uk_name = df_articles.merge(right = df_en_translated, left_on = 'id', right_on = 'id_uk', how = 'left')"
   ]
  },
  {
   "cell_type": "code",
   "execution_count": 47,
   "metadata": {},
   "outputs": [
    {
     "data": {
      "text/html": [
       "<div>\n",
       "<style scoped>\n",
       "    .dataframe tbody tr th:only-of-type {\n",
       "        vertical-align: middle;\n",
       "    }\n",
       "\n",
       "    .dataframe tbody tr th {\n",
       "        vertical-align: top;\n",
       "    }\n",
       "\n",
       "    .dataframe thead th {\n",
       "        text-align: right;\n",
       "    }\n",
       "</style>\n",
       "<table border=\"1\" class=\"dataframe\">\n",
       "  <thead>\n",
       "    <tr style=\"text-align: right;\">\n",
       "      <th></th>\n",
       "      <th>id</th>\n",
       "      <th>link_id</th>\n",
       "      <th>link_val</th>\n",
       "      <th>is_red_link</th>\n",
       "      <th>id_en</th>\n",
       "      <th>id_uk</th>\n",
       "    </tr>\n",
       "  </thead>\n",
       "  <tbody>\n",
       "    <tr>\n",
       "      <th>0</th>\n",
       "      <td>13</td>\n",
       "      <td>884280</td>\n",
       "      <td>Об'єкт (філософія)</td>\n",
       "      <td>False</td>\n",
       "      <td>18963910.0</td>\n",
       "      <td>13.0</td>\n",
       "    </tr>\n",
       "    <tr>\n",
       "      <th>1</th>\n",
       "      <td>13</td>\n",
       "      <td>21623</td>\n",
       "      <td>Ератосфен</td>\n",
       "      <td>False</td>\n",
       "      <td>18963910.0</td>\n",
       "      <td>13.0</td>\n",
       "    </tr>\n",
       "    <tr>\n",
       "      <th>2</th>\n",
       "      <td>13</td>\n",
       "      <td>274944</td>\n",
       "      <td>географ</td>\n",
       "      <td>False</td>\n",
       "      <td>18963910.0</td>\n",
       "      <td>13.0</td>\n",
       "    </tr>\n",
       "    <tr>\n",
       "      <th>3</th>\n",
       "      <td>13</td>\n",
       "      <td>26194</td>\n",
       "      <td>Клавдій Птолемей</td>\n",
       "      <td>False</td>\n",
       "      <td>18963910.0</td>\n",
       "      <td>13.0</td>\n",
       "    </tr>\n",
       "    <tr>\n",
       "      <th>4</th>\n",
       "      <td>13</td>\n",
       "      <td>20459</td>\n",
       "      <td>Відродження</td>\n",
       "      <td>False</td>\n",
       "      <td>18963910.0</td>\n",
       "      <td>13.0</td>\n",
       "    </tr>\n",
       "  </tbody>\n",
       "</table>\n",
       "</div>"
      ],
      "text/plain": [
       "   id  link_id            link_val  is_red_link       id_en  id_uk\n",
       "0  13   884280  Об'єкт (філософія)        False  18963910.0   13.0\n",
       "1  13    21623           Ератосфен        False  18963910.0   13.0\n",
       "2  13   274944             географ        False  18963910.0   13.0\n",
       "3  13    26194    Клавдій Птолемей        False  18963910.0   13.0\n",
       "4  13    20459         Відродження        False  18963910.0   13.0"
      ]
     },
     "execution_count": 47,
     "metadata": {},
     "output_type": "execute_result"
    }
   ],
   "source": [
    "df_uk_name.head()"
   ]
  },
  {
   "cell_type": "code",
   "execution_count": 48,
   "metadata": {},
   "outputs": [],
   "source": [
    "df_uk_name = df_uk_name[['id','link_val','is_red_link','id_en']]\n",
    "df_uk_name.columns = ['id','title','is_red_link','id_en']\n",
    "df_uk_name = df_uk_name.sort_values(by = 'id')"
   ]
  },
  {
   "cell_type": "code",
   "execution_count": 49,
   "metadata": {},
   "outputs": [
    {
     "data": {
      "text/html": [
       "<div>\n",
       "<style scoped>\n",
       "    .dataframe tbody tr th:only-of-type {\n",
       "        vertical-align: middle;\n",
       "    }\n",
       "\n",
       "    .dataframe tbody tr th {\n",
       "        vertical-align: top;\n",
       "    }\n",
       "\n",
       "    .dataframe thead th {\n",
       "        text-align: right;\n",
       "    }\n",
       "</style>\n",
       "<table border=\"1\" class=\"dataframe\">\n",
       "  <thead>\n",
       "    <tr style=\"text-align: right;\">\n",
       "      <th></th>\n",
       "      <th>id</th>\n",
       "      <th>title</th>\n",
       "      <th>is_red_link</th>\n",
       "      <th>id_en</th>\n",
       "    </tr>\n",
       "  </thead>\n",
       "  <tbody>\n",
       "    <tr>\n",
       "      <th>0</th>\n",
       "      <td>13</td>\n",
       "      <td>Об'єкт (філософія)</td>\n",
       "      <td>False</td>\n",
       "      <td>18963910.0</td>\n",
       "    </tr>\n",
       "    <tr>\n",
       "      <th>59</th>\n",
       "      <td>13</td>\n",
       "      <td>Карл Ріттер</td>\n",
       "      <td>False</td>\n",
       "      <td>18963910.0</td>\n",
       "    </tr>\n",
       "    <tr>\n",
       "      <th>58</th>\n",
       "      <td>13</td>\n",
       "      <td>Александер фон Гумбольдт</td>\n",
       "      <td>False</td>\n",
       "      <td>18963910.0</td>\n",
       "    </tr>\n",
       "    <tr>\n",
       "      <th>57</th>\n",
       "      <td>13</td>\n",
       "      <td>Герард Меркатор</td>\n",
       "      <td>False</td>\n",
       "      <td>18963910.0</td>\n",
       "    </tr>\n",
       "    <tr>\n",
       "      <th>56</th>\n",
       "      <td>13</td>\n",
       "      <td>Мухаммад Аль-Ідрісі</td>\n",
       "      <td>False</td>\n",
       "      <td>18963910.0</td>\n",
       "    </tr>\n",
       "  </tbody>\n",
       "</table>\n",
       "</div>"
      ],
      "text/plain": [
       "    id                     title  is_red_link       id_en\n",
       "0   13        Об'єкт (філософія)        False  18963910.0\n",
       "59  13               Карл Ріттер        False  18963910.0\n",
       "58  13  Александер фон Гумбольдт        False  18963910.0\n",
       "57  13           Герард Меркатор        False  18963910.0\n",
       "56  13       Мухаммад Аль-Ідрісі        False  18963910.0"
      ]
     },
     "execution_count": 49,
     "metadata": {},
     "output_type": "execute_result"
    }
   ],
   "source": [
    "df_uk_name.head()"
   ]
  },
  {
   "cell_type": "code",
   "execution_count": 50,
   "metadata": {},
   "outputs": [
    {
     "data": {
      "text/html": [
       "<div>\n",
       "<style scoped>\n",
       "    .dataframe tbody tr th:only-of-type {\n",
       "        vertical-align: middle;\n",
       "    }\n",
       "\n",
       "    .dataframe tbody tr th {\n",
       "        vertical-align: top;\n",
       "    }\n",
       "\n",
       "    .dataframe thead th {\n",
       "        text-align: right;\n",
       "    }\n",
       "</style>\n",
       "<table border=\"1\" class=\"dataframe\">\n",
       "  <thead>\n",
       "    <tr style=\"text-align: right;\">\n",
       "      <th></th>\n",
       "      <th>id</th>\n",
       "      <th>title</th>\n",
       "      <th>id_uk</th>\n",
       "    </tr>\n",
       "  </thead>\n",
       "  <tbody>\n",
       "    <tr>\n",
       "      <th>0</th>\n",
       "      <td>6197600</td>\n",
       "      <td>Flying Tigers (film)</td>\n",
       "      <td>NaN</td>\n",
       "    </tr>\n",
       "    <tr>\n",
       "      <th>1</th>\n",
       "      <td>6197604</td>\n",
       "      <td>Mariano Andreu</td>\n",
       "      <td>NaN</td>\n",
       "    </tr>\n",
       "    <tr>\n",
       "      <th>2</th>\n",
       "      <td>6197607</td>\n",
       "      <td>David Prain</td>\n",
       "      <td>1892860.0</td>\n",
       "    </tr>\n",
       "    <tr>\n",
       "      <th>3</th>\n",
       "      <td>6197617</td>\n",
       "      <td>Rut Brandt</td>\n",
       "      <td>NaN</td>\n",
       "    </tr>\n",
       "    <tr>\n",
       "      <th>4</th>\n",
       "      <td>6197621</td>\n",
       "      <td>Gregory C. Coleman</td>\n",
       "      <td>NaN</td>\n",
       "    </tr>\n",
       "  </tbody>\n",
       "</table>\n",
       "</div>"
      ],
      "text/plain": [
       "        id                 title      id_uk\n",
       "0  6197600  Flying Tigers (film)        NaN\n",
       "1  6197604        Mariano Andreu        NaN\n",
       "2  6197607           David Prain  1892860.0\n",
       "3  6197617            Rut Brandt        NaN\n",
       "4  6197621    Gregory C. Coleman        NaN"
      ]
     },
     "execution_count": 50,
     "metadata": {},
     "output_type": "execute_result"
    }
   ],
   "source": [
    "df_en_name_.head()"
   ]
  },
  {
   "cell_type": "code",
   "execution_count": 53,
   "metadata": {},
   "outputs": [],
   "source": [
    "# save names to files\n",
    "df_uk_name.to_csv(PATH_TO_DATA_UK+'uk_names.csv', header=True, index=False, sep='^')"
   ]
  },
  {
   "cell_type": "code",
   "execution_count": 54,
   "metadata": {
    "scrolled": true
   },
   "outputs": [],
   "source": [
    "df_en_name_.to_csv(PATH_TO_DATA_EN+'en_names.csv', header=True, index=False, sep='^')"
   ]
  },
  {
   "cell_type": "code",
   "execution_count": null,
   "metadata": {
    "collapsed": true
   },
   "outputs": [],
   "source": []
  },
  {
   "cell_type": "code",
   "execution_count": 55,
   "metadata": {},
   "outputs": [
    {
     "data": {
      "text/html": [
       "<div>\n",
       "<style scoped>\n",
       "    .dataframe tbody tr th:only-of-type {\n",
       "        vertical-align: middle;\n",
       "    }\n",
       "\n",
       "    .dataframe tbody tr th {\n",
       "        vertical-align: top;\n",
       "    }\n",
       "\n",
       "    .dataframe thead th {\n",
       "        text-align: right;\n",
       "    }\n",
       "</style>\n",
       "<table border=\"1\" class=\"dataframe\">\n",
       "  <thead>\n",
       "    <tr style=\"text-align: right;\">\n",
       "      <th></th>\n",
       "      <th>id</th>\n",
       "      <th>title</th>\n",
       "      <th>is_red_link</th>\n",
       "      <th>id_en</th>\n",
       "    </tr>\n",
       "  </thead>\n",
       "  <tbody>\n",
       "    <tr>\n",
       "      <th>0</th>\n",
       "      <td>13</td>\n",
       "      <td>Об'єкт (філософія)</td>\n",
       "      <td>False</td>\n",
       "      <td>18963910.0</td>\n",
       "    </tr>\n",
       "    <tr>\n",
       "      <th>59</th>\n",
       "      <td>13</td>\n",
       "      <td>Карл Ріттер</td>\n",
       "      <td>False</td>\n",
       "      <td>18963910.0</td>\n",
       "    </tr>\n",
       "    <tr>\n",
       "      <th>58</th>\n",
       "      <td>13</td>\n",
       "      <td>Александер фон Гумбольдт</td>\n",
       "      <td>False</td>\n",
       "      <td>18963910.0</td>\n",
       "    </tr>\n",
       "    <tr>\n",
       "      <th>57</th>\n",
       "      <td>13</td>\n",
       "      <td>Герард Меркатор</td>\n",
       "      <td>False</td>\n",
       "      <td>18963910.0</td>\n",
       "    </tr>\n",
       "    <tr>\n",
       "      <th>56</th>\n",
       "      <td>13</td>\n",
       "      <td>Мухаммад Аль-Ідрісі</td>\n",
       "      <td>False</td>\n",
       "      <td>18963910.0</td>\n",
       "    </tr>\n",
       "  </tbody>\n",
       "</table>\n",
       "</div>"
      ],
      "text/plain": [
       "    id                     title  is_red_link       id_en\n",
       "0   13        Об'єкт (філософія)        False  18963910.0\n",
       "59  13               Карл Ріттер        False  18963910.0\n",
       "58  13  Александер фон Гумбольдт        False  18963910.0\n",
       "57  13           Герард Меркатор        False  18963910.0\n",
       "56  13       Мухаммад Аль-Ідрісі        False  18963910.0"
      ]
     },
     "execution_count": 55,
     "metadata": {},
     "output_type": "execute_result"
    }
   ],
   "source": [
    "df_uk_name.head()"
   ]
  },
  {
   "cell_type": "code",
   "execution_count": 6,
   "metadata": {},
   "outputs": [],
   "source": [
    "# load names \n",
    "df_uk_name = pd.read_csv(PATH_TO_DATA_UK+'uk_names.csv', sep='^')\n",
    "df_en_name = pd.read_csv(PATH_TO_DATA_EN+'en_names.csv', sep='^')"
   ]
  },
  {
   "cell_type": "markdown",
   "metadata": {},
   "source": [
    "### Encode en nontranslated article by its incoming links"
   ]
  },
  {
   "cell_type": "code",
   "execution_count": 7,
   "metadata": {},
   "outputs": [
    {
     "name": "stdout",
     "output_type": "stream",
     "text": [
      "Nontranslated en acticles: 5264607\n"
     ]
    }
   ],
   "source": [
    "# select non-translated articles\n",
    "en_nontranslated = np.array(df_en_name[df_en_name['id_uk'].isnull()]['id'])\n",
    "print('Nontranslated en acticles: %6d' % (len(en_nontranslated)))"
   ]
  },
  {
   "cell_type": "code",
   "execution_count": 15,
   "metadata": {},
   "outputs": [
    {
     "name": "stdout",
     "output_type": "stream",
     "text": [
      "Nontranslated en acticles with at least 20 incoming links: 665807\n"
     ]
    }
   ],
   "source": [
    "# select non-translated acticles that have at least 20 distinct incoming links\n",
    "en_nontranslated = df_en[df_en['link_id'].isin(en_nontranslated)].groupby('link_id') \\\n",
    "            .agg({'id': lambda x: x.nunique()})\n",
    "en_nontranslated = en_nontranslated.reset_index()\n",
    "en_nontranslated.columns = ['id','n_incoming']\n",
    "en_nontranslated = en_nontranslated[en_nontranslated['n_incoming']>=20]\n",
    "en_nontranslated = np.array(en_nontranslated['id'])\n",
    "en_nontranslated_ids = np.sort(en_nontranslated)\n",
    "print('Nontranslated en acticles with at least 20 incoming links: %6d' % (len(en_nontranslated)))"
   ]
  },
  {
   "cell_type": "code",
   "execution_count": 16,
   "metadata": {},
   "outputs": [
    {
     "name": "stderr",
     "output_type": "stream",
     "text": [
      "100% |########################################################################|\n"
     ]
    }
   ],
   "source": [
    "# encode each nontranslated article by its incoming links\n",
    "en_nontranslated_encoding_df = df_en[df_en['link_id'].isin(en_nontranslated)]\n",
    "en_nontranslated_encoding_df = en_nontranslated_encoding_df.sort_values(by = ['link_id','id'])\n",
    "en_nontranslated_encoding_df = en_nontranslated_encoding_df.reset_index(drop = True)\n",
    "indices = np.array(en_nontranslated_encoding_df.drop_duplicates(keep='first', subset=['link_id']).index)\n",
    "\n",
    "en_nontranslated_encoding = []\n",
    "pbar = progressbar.ProgressBar()\n",
    "for i in pbar(range(0, len(indices))):\n",
    "    if i == len(indices) - 1:\n",
    "        this_encoding = set(en_nontranslated_encoding_df.iloc[indices[i]:]['id'])\n",
    "    else: \n",
    "        this_encoding = set(en_nontranslated_encoding_df.iloc[indices[i]:indices[i+1]]['id'])\n",
    "    en_nontranslated_encoding.append(this_encoding)\n",
    "    \n",
    "del en_nontranslated_encoding_df, en_nontranslated"
   ]
  },
  {
   "cell_type": "code",
   "execution_count": 17,
   "metadata": {},
   "outputs": [],
   "source": [
    "# save encoding to file\n",
    "np.save(PATH_TO_DATA_EN+'en_nontranslated_encoding.npy', arr=en_nontranslated_encoding)\n",
    "np.save(PATH_TO_DATA_EN+'en_nontranslated_ids.npy', arr=en_nontranslated_ids)"
   ]
  },
  {
   "cell_type": "code",
   "execution_count": null,
   "metadata": {},
   "outputs": [],
   "source": []
  },
  {
   "cell_type": "code",
   "execution_count": 19,
   "metadata": {},
   "outputs": [],
   "source": [
    "# load encoding from file\n",
    "en_nontranslated_encoding = np.load(PATH_TO_DATA_EN+'en_nontranslated_encoding.npy', allow_pickle=True)\n",
    "en_nontranslated_ids = np.load(PATH_TO_DATA_EN+'en_nontranslated_ids.npy', allow_pickle=True)"
   ]
  },
  {
   "cell_type": "markdown",
   "metadata": {},
   "source": [
    "### Encode red links incoming en links"
   ]
  },
  {
   "cell_type": "code",
   "execution_count": 35,
   "metadata": {},
   "outputs": [
    {
     "name": "stdout",
     "output_type": "stream",
     "text": [
      "Number of red links in uk wiki: 1554986\n"
     ]
    }
   ],
   "source": [
    "# select only red links from uk_wiki\n",
    "df_uk_red = df_uk[df_uk['link_id']>max_id]\n",
    "uk_red_ids = df_uk_red['link_id'].unique()\n",
    "print('Number of red links in uk wiki: %d' %(len(uk_red_ids)))"
   ]
  },
  {
   "cell_type": "code",
   "execution_count": 36,
   "metadata": {
    "scrolled": true
   },
   "outputs": [],
   "source": [
    "df_uk_red = df_uk_red.drop_duplicates()"
   ]
  },
  {
   "cell_type": "code",
   "execution_count": 37,
   "metadata": {
    "scrolled": true
   },
   "outputs": [
    {
     "data": {
      "text/plain": [
       "2443148"
      ]
     },
     "execution_count": 37,
     "metadata": {},
     "output_type": "execute_result"
    }
   ],
   "source": [
    "len(df_uk_red)"
   ]
  },
  {
   "cell_type": "code",
   "execution_count": 38,
   "metadata": {},
   "outputs": [
    {
     "data": {
      "text/html": [
       "<div>\n",
       "<style scoped>\n",
       "    .dataframe tbody tr th:only-of-type {\n",
       "        vertical-align: middle;\n",
       "    }\n",
       "\n",
       "    .dataframe tbody tr th {\n",
       "        vertical-align: top;\n",
       "    }\n",
       "\n",
       "    .dataframe thead th {\n",
       "        text-align: right;\n",
       "    }\n",
       "</style>\n",
       "<table border=\"1\" class=\"dataframe\">\n",
       "  <thead>\n",
       "    <tr style=\"text-align: right;\">\n",
       "      <th></th>\n",
       "      <th>id</th>\n",
       "      <th>link_id</th>\n",
       "    </tr>\n",
       "  </thead>\n",
       "  <tbody>\n",
       "    <tr>\n",
       "      <th>0</th>\n",
       "      <td>13</td>\n",
       "      <td>2817993</td>\n",
       "    </tr>\n",
       "    <tr>\n",
       "      <th>1</th>\n",
       "      <td>13</td>\n",
       "      <td>2817994</td>\n",
       "    </tr>\n",
       "    <tr>\n",
       "      <th>2</th>\n",
       "      <td>1928599</td>\n",
       "      <td>2817994</td>\n",
       "    </tr>\n",
       "    <tr>\n",
       "      <th>3</th>\n",
       "      <td>13</td>\n",
       "      <td>2817995</td>\n",
       "    </tr>\n",
       "    <tr>\n",
       "      <th>4</th>\n",
       "      <td>584</td>\n",
       "      <td>2817996</td>\n",
       "    </tr>\n",
       "  </tbody>\n",
       "</table>\n",
       "</div>"
      ],
      "text/plain": [
       "        id  link_id\n",
       "0       13  2817993\n",
       "1       13  2817994\n",
       "2  1928599  2817994\n",
       "3       13  2817995\n",
       "4      584  2817996"
      ]
     },
     "execution_count": 38,
     "metadata": {},
     "output_type": "execute_result"
    }
   ],
   "source": [
    "df_uk_red.head()"
   ]
  },
  {
   "cell_type": "code",
   "execution_count": 39,
   "metadata": {},
   "outputs": [
    {
     "data": {
      "text/html": [
       "<div>\n",
       "<style scoped>\n",
       "    .dataframe tbody tr th:only-of-type {\n",
       "        vertical-align: middle;\n",
       "    }\n",
       "\n",
       "    .dataframe tbody tr th {\n",
       "        vertical-align: top;\n",
       "    }\n",
       "\n",
       "    .dataframe thead th {\n",
       "        text-align: right;\n",
       "    }\n",
       "</style>\n",
       "<table border=\"1\" class=\"dataframe\">\n",
       "  <thead>\n",
       "    <tr style=\"text-align: right;\">\n",
       "      <th></th>\n",
       "      <th>id</th>\n",
       "      <th>title</th>\n",
       "      <th>length</th>\n",
       "    </tr>\n",
       "  </thead>\n",
       "  <tbody>\n",
       "    <tr>\n",
       "      <th>0</th>\n",
       "      <td>3</td>\n",
       "      <td>Головна сторінка</td>\n",
       "      <td>3197</td>\n",
       "    </tr>\n",
       "    <tr>\n",
       "      <th>1</th>\n",
       "      <td>13</td>\n",
       "      <td>Географія</td>\n",
       "      <td>16843</td>\n",
       "    </tr>\n",
       "    <tr>\n",
       "      <th>2</th>\n",
       "      <td>584</td>\n",
       "      <td>Атом</td>\n",
       "      <td>35112</td>\n",
       "    </tr>\n",
       "    <tr>\n",
       "      <th>3</th>\n",
       "      <td>585</td>\n",
       "      <td>Мільярд</td>\n",
       "      <td>1759</td>\n",
       "    </tr>\n",
       "    <tr>\n",
       "      <th>4</th>\n",
       "      <td>586</td>\n",
       "      <td>Ядро</td>\n",
       "      <td>8064</td>\n",
       "    </tr>\n",
       "  </tbody>\n",
       "</table>\n",
       "</div>"
      ],
      "text/plain": [
       "    id             title  length\n",
       "0    3  Головна сторінка    3197\n",
       "1   13         Географія   16843\n",
       "2  584              Атом   35112\n",
       "3  585           Мільярд    1759\n",
       "4  586              Ядро    8064"
      ]
     },
     "execution_count": 39,
     "metadata": {},
     "output_type": "execute_result"
    }
   ],
   "source": [
    "df_uk_name.head()"
   ]
  },
  {
   "cell_type": "code",
   "execution_count": 41,
   "metadata": {},
   "outputs": [],
   "source": [
    "ukredlinks_with_enids_sample = pd.read_csv(PATH_TO_DATA_EN+'ukredlinks_with_enids_sample.csv', sep='^')"
   ]
  },
  {
   "cell_type": "code",
   "execution_count": 42,
   "metadata": {},
   "outputs": [
    {
     "data": {
      "text/html": [
       "<div>\n",
       "<style scoped>\n",
       "    .dataframe tbody tr th:only-of-type {\n",
       "        vertical-align: middle;\n",
       "    }\n",
       "\n",
       "    .dataframe tbody tr th {\n",
       "        vertical-align: top;\n",
       "    }\n",
       "\n",
       "    .dataframe thead th {\n",
       "        text-align: right;\n",
       "    }\n",
       "</style>\n",
       "<table border=\"1\" class=\"dataframe\">\n",
       "  <thead>\n",
       "    <tr style=\"text-align: right;\">\n",
       "      <th></th>\n",
       "      <th>red_link_name</th>\n",
       "      <th>id_parent</th>\n",
       "      <th>red_link_id</th>\n",
       "      <th>id</th>\n",
       "      <th>title</th>\n",
       "    </tr>\n",
       "  </thead>\n",
       "  <tbody>\n",
       "    <tr>\n",
       "      <th>0</th>\n",
       "      <td>Каунт Бейсі</td>\n",
       "      <td>625</td>\n",
       "      <td>2818114</td>\n",
       "      <td>34651.0</td>\n",
       "      <td>1904</td>\n",
       "    </tr>\n",
       "    <tr>\n",
       "      <th>1</th>\n",
       "      <td>Каунт Бейсі</td>\n",
       "      <td>36823</td>\n",
       "      <td>2818114</td>\n",
       "      <td>605856.0</td>\n",
       "      <td>WordPress</td>\n",
       "    </tr>\n",
       "    <tr>\n",
       "      <th>2</th>\n",
       "      <td>Каунт Бейсі</td>\n",
       "      <td>202525</td>\n",
       "      <td>2818114</td>\n",
       "      <td>50350.0</td>\n",
       "      <td>Ella Fitzgerald</td>\n",
       "    </tr>\n",
       "    <tr>\n",
       "      <th>3</th>\n",
       "      <td>Каунт Бейсі</td>\n",
       "      <td>202608</td>\n",
       "      <td>2818114</td>\n",
       "      <td>22519.0</td>\n",
       "      <td>Oscar Peterson</td>\n",
       "    </tr>\n",
       "    <tr>\n",
       "      <th>4</th>\n",
       "      <td>Каунт Бейсі</td>\n",
       "      <td>202613</td>\n",
       "      <td>2818114</td>\n",
       "      <td>2193014.0</td>\n",
       "      <td>Lester Young</td>\n",
       "    </tr>\n",
       "  </tbody>\n",
       "</table>\n",
       "</div>"
      ],
      "text/plain": [
       "  red_link_name  id_parent  red_link_id         id            title\n",
       "0   Каунт Бейсі        625      2818114    34651.0             1904\n",
       "1   Каунт Бейсі      36823      2818114   605856.0        WordPress\n",
       "2   Каунт Бейсі     202525      2818114    50350.0  Ella Fitzgerald\n",
       "3   Каунт Бейсі     202608      2818114    22519.0   Oscar Peterson\n",
       "4   Каунт Бейсі     202613      2818114  2193014.0     Lester Young"
      ]
     },
     "execution_count": 42,
     "metadata": {},
     "output_type": "execute_result"
    }
   ],
   "source": [
    "ukredlinks_with_enids_sample.head()"
   ]
  },
  {
   "cell_type": "code",
   "execution_count": 43,
   "metadata": {},
   "outputs": [],
   "source": [
    "# for every red link from the sample find its correponding en incoming link (only distinct)\n",
    "df_uk_red_encoding = ukredlinks_with_enids_sample[['id', 'red_link_id']]\n",
    "df_uk_red_encoding.columns = ['id_en','link_id']\n",
    "df_uk_red_encoding = df_uk_red_encoding[~df_uk_red_encoding['id_en'].isnull()]\n",
    "df_uk_red_encoding = df_uk_red_encoding.drop_duplicates()"
   ]
  },
  {
   "cell_type": "code",
   "execution_count": 44,
   "metadata": {},
   "outputs": [
    {
     "data": {
      "text/plain": [
       "(164752, 2)"
      ]
     },
     "execution_count": 44,
     "metadata": {},
     "output_type": "execute_result"
    }
   ],
   "source": [
    "df_uk_red_encoding.shape"
   ]
  },
  {
   "cell_type": "code",
   "execution_count": 45,
   "metadata": {},
   "outputs": [
    {
     "data": {
      "text/html": [
       "<div>\n",
       "<style scoped>\n",
       "    .dataframe tbody tr th:only-of-type {\n",
       "        vertical-align: middle;\n",
       "    }\n",
       "\n",
       "    .dataframe tbody tr th {\n",
       "        vertical-align: top;\n",
       "    }\n",
       "\n",
       "    .dataframe thead th {\n",
       "        text-align: right;\n",
       "    }\n",
       "</style>\n",
       "<table border=\"1\" class=\"dataframe\">\n",
       "  <thead>\n",
       "    <tr style=\"text-align: right;\">\n",
       "      <th></th>\n",
       "      <th>id_en</th>\n",
       "      <th>link_id</th>\n",
       "    </tr>\n",
       "  </thead>\n",
       "  <tbody>\n",
       "    <tr>\n",
       "      <th>0</th>\n",
       "      <td>34651.0</td>\n",
       "      <td>2818114</td>\n",
       "    </tr>\n",
       "    <tr>\n",
       "      <th>1</th>\n",
       "      <td>605856.0</td>\n",
       "      <td>2818114</td>\n",
       "    </tr>\n",
       "    <tr>\n",
       "      <th>2</th>\n",
       "      <td>50350.0</td>\n",
       "      <td>2818114</td>\n",
       "    </tr>\n",
       "    <tr>\n",
       "      <th>3</th>\n",
       "      <td>22519.0</td>\n",
       "      <td>2818114</td>\n",
       "    </tr>\n",
       "    <tr>\n",
       "      <th>4</th>\n",
       "      <td>2193014.0</td>\n",
       "      <td>2818114</td>\n",
       "    </tr>\n",
       "  </tbody>\n",
       "</table>\n",
       "</div>"
      ],
      "text/plain": [
       "       id_en  link_id\n",
       "0    34651.0  2818114\n",
       "1   605856.0  2818114\n",
       "2    50350.0  2818114\n",
       "3    22519.0  2818114\n",
       "4  2193014.0  2818114"
      ]
     },
     "execution_count": 45,
     "metadata": {},
     "output_type": "execute_result"
    }
   ],
   "source": [
    "df_uk_red_encoding.head()"
   ]
  },
  {
   "cell_type": "code",
   "execution_count": 46,
   "metadata": {},
   "outputs": [],
   "source": [
    "# for every red link from the sample calculate number of incoming links\n",
    "df_uk_red_incoming = df_uk_red_encoding['link_id'].value_counts().reset_index()\n",
    "df_uk_red_incoming.columns = ['id','n_incoming']"
   ]
  },
  {
   "cell_type": "code",
   "execution_count": 47,
   "metadata": {},
   "outputs": [
    {
     "name": "stdout",
     "output_type": "stream",
     "text": [
      "Number of red links with at least 20 distinct incoming en links: 3198\n"
     ]
    }
   ],
   "source": [
    "# select only those red links that can be encoded with at least 20 en incoming links\n",
    "uk_red_ids = np.array(df_uk_red_incoming[df_uk_red_incoming['n_incoming']>=20]['id'])\n",
    "print('Number of red links with at least 20 distinct incoming en links: %d' % (len(uk_red_ids)))"
   ]
  },
  {
   "cell_type": "code",
   "execution_count": 48,
   "metadata": {},
   "outputs": [
    {
     "name": "stderr",
     "output_type": "stream",
     "text": [
      "100% |########################################################################|\n"
     ]
    }
   ],
   "source": [
    "# encode top red links using incoming en links\n",
    "uk_red_ids = np.sort(uk_red_ids)\n",
    "df_uk_red_encoding = df_uk_red_encoding[df_uk_red_encoding['link_id'].isin(uk_red_ids)]\n",
    "df_uk_red_encoding = df_uk_red_encoding.sort_values(by = 'link_id').reset_index(drop = True)\n",
    "indices = np.array(df_uk_red_encoding.drop_duplicates(keep='first', subset=['link_id']).index)\n",
    "\n",
    "uk_red_encoding = []\n",
    "pbar = progressbar.ProgressBar()\n",
    "for i in pbar(range(0, len(indices))):\n",
    "    if i == len(indices)-1:\n",
    "        this_encoding = set(df_uk_red_encoding.iloc[indices[i]:]['id_en'])\n",
    "    else:\n",
    "        this_encoding = set(df_uk_red_encoding.iloc[indices[i]:indices[i+1]]['id_en'])\n",
    "    uk_red_encoding.append(this_encoding)"
   ]
  },
  {
   "cell_type": "code",
   "execution_count": 49,
   "metadata": {},
   "outputs": [],
   "source": [
    "del df_uk_red_incoming, df_uk_red_encoding"
   ]
  },
  {
   "cell_type": "code",
   "execution_count": 50,
   "metadata": {},
   "outputs": [],
   "source": [
    "# save encoding to file\n",
    "np.save(file='uk_red_ids.npy', arr=uk_red_ids)\n",
    "np.save(file='uk_red_encoding.npy', arr=uk_red_encoding)"
   ]
  },
  {
   "cell_type": "code",
   "execution_count": null,
   "metadata": {},
   "outputs": [],
   "source": []
  },
  {
   "cell_type": "code",
   "execution_count": 52,
   "metadata": {},
   "outputs": [],
   "source": [
    "# load encoding from file\n",
    "uk_red_ids = np.load('uk_red_ids.npy', allow_pickle=True)\n",
    "uk_red_encoding = np.load('uk_red_encoding.npy', allow_pickle=True)"
   ]
  },
  {
   "cell_type": "code",
   "execution_count": 53,
   "metadata": {},
   "outputs": [
    {
     "data": {
      "text/html": [
       "<div>\n",
       "<style scoped>\n",
       "    .dataframe tbody tr th:only-of-type {\n",
       "        vertical-align: middle;\n",
       "    }\n",
       "\n",
       "    .dataframe tbody tr th {\n",
       "        vertical-align: top;\n",
       "    }\n",
       "\n",
       "    .dataframe thead th {\n",
       "        text-align: right;\n",
       "    }\n",
       "</style>\n",
       "<table border=\"1\" class=\"dataframe\">\n",
       "  <thead>\n",
       "    <tr style=\"text-align: right;\">\n",
       "      <th></th>\n",
       "      <th>id</th>\n",
       "      <th>title</th>\n",
       "      <th>length</th>\n",
       "    </tr>\n",
       "  </thead>\n",
       "  <tbody>\n",
       "    <tr>\n",
       "      <th>0</th>\n",
       "      <td>3</td>\n",
       "      <td>Головна сторінка</td>\n",
       "      <td>3197</td>\n",
       "    </tr>\n",
       "    <tr>\n",
       "      <th>1</th>\n",
       "      <td>13</td>\n",
       "      <td>Географія</td>\n",
       "      <td>16843</td>\n",
       "    </tr>\n",
       "    <tr>\n",
       "      <th>2</th>\n",
       "      <td>584</td>\n",
       "      <td>Атом</td>\n",
       "      <td>35112</td>\n",
       "    </tr>\n",
       "    <tr>\n",
       "      <th>3</th>\n",
       "      <td>585</td>\n",
       "      <td>Мільярд</td>\n",
       "      <td>1759</td>\n",
       "    </tr>\n",
       "    <tr>\n",
       "      <th>4</th>\n",
       "      <td>586</td>\n",
       "      <td>Ядро</td>\n",
       "      <td>8064</td>\n",
       "    </tr>\n",
       "  </tbody>\n",
       "</table>\n",
       "</div>"
      ],
      "text/plain": [
       "    id             title  length\n",
       "0    3  Головна сторінка    3197\n",
       "1   13         Географія   16843\n",
       "2  584              Атом   35112\n",
       "3  585           Мільярд    1759\n",
       "4  586              Ядро    8064"
      ]
     },
     "execution_count": 53,
     "metadata": {},
     "output_type": "execute_result"
    }
   ],
   "source": [
    "df_uk_name.head()"
   ]
  },
  {
   "cell_type": "code",
   "execution_count": 55,
   "metadata": {},
   "outputs": [
    {
     "name": "stdout",
     "output_type": "stream",
     "text": [
      "0\n"
     ]
    }
   ],
   "source": [
    "print(len(list(df_uk_name[df_uk_name['id'].isin(uk_red_ids)]['title'])))"
   ]
  },
  {
   "cell_type": "code",
   "execution_count": 58,
   "metadata": {},
   "outputs": [],
   "source": [
    "red_links_names = ukredlinks_with_enids_sample[ukredlinks_with_enids_sample['red_link_id'].isin(uk_red_ids)]['red_link_name'].to_frame()\n",
    "red_links_names = red_links_names.drop_duplicates()\n",
    "list_of_red_link = red_links_names['red_link_name'].tolist()"
   ]
  },
  {
   "cell_type": "code",
   "execution_count": 59,
   "metadata": {},
   "outputs": [
    {
     "name": "stderr",
     "output_type": "stream",
     "text": [
      "100% |########################################################################|\n"
     ]
    }
   ],
   "source": [
    "# create df with incoming uk ids and names for every red link\n",
    "incoming_uk_link_names = []\n",
    "n_incoming_uk = []\n",
    "incoming_en_link_names = []\n",
    "n_incoming_en = []\n",
    "\n",
    "pbar = progressbar.ProgressBar()\n",
    "for i in pbar(range(len(uk_red_ids))):\n",
    "    red_id = uk_red_ids[i]\n",
    "    incoming_ids = list(df_uk_red[df_uk_red['link_id'] == red_id]['id'])\n",
    "    incoming_names = set(df_uk_name[df_uk_name['id'].isin(incoming_ids)]['title'])\n",
    "    incoming_en_names = set(df_en_name[df_en_name['id'].isin(uk_red_encoding[i])]['title'])\n",
    "              \n",
    "    incoming_uk_link_names.append(incoming_names)\n",
    "    n_incoming_uk.append(len(incoming_names))\n",
    "    incoming_en_link_names.append(incoming_en_names) \n",
    "    n_incoming_en.append(len(incoming_en_names))"
   ]
  },
  {
   "cell_type": "code",
   "execution_count": 60,
   "metadata": {},
   "outputs": [],
   "source": [
    "df_red_links = pd.DataFrame({'red_link_id': uk_red_ids, \n",
    "                          'red_link_name': list_of_red_link,\n",
    "                          'incoming_uk_names': incoming_uk_link_names,\n",
    "                          'n_incoming_uk': n_incoming_uk,\n",
    "                          'incoming_en_names': incoming_en_link_names,\n",
    "                          'n_incoming_en': n_incoming_en\n",
    "                          })\n",
    "              \n",
    "df_red_links = df_red_links[['red_link_id','red_link_name','incoming_uk_names',\n",
    "                             'n_incoming_uk', 'incoming_en_names', 'n_incoming_en']]"
   ]
  },
  {
   "cell_type": "code",
   "execution_count": 61,
   "metadata": {},
   "outputs": [
    {
     "name": "stdout",
     "output_type": "stream",
     "text": [
      "(3198, 6)\n"
     ]
    },
    {
     "data": {
      "text/html": [
       "<div>\n",
       "<style scoped>\n",
       "    .dataframe tbody tr th:only-of-type {\n",
       "        vertical-align: middle;\n",
       "    }\n",
       "\n",
       "    .dataframe tbody tr th {\n",
       "        vertical-align: top;\n",
       "    }\n",
       "\n",
       "    .dataframe thead th {\n",
       "        text-align: right;\n",
       "    }\n",
       "</style>\n",
       "<table border=\"1\" class=\"dataframe\">\n",
       "  <thead>\n",
       "    <tr style=\"text-align: right;\">\n",
       "      <th></th>\n",
       "      <th>red_link_id</th>\n",
       "      <th>red_link_name</th>\n",
       "      <th>incoming_uk_names</th>\n",
       "      <th>n_incoming_uk</th>\n",
       "      <th>incoming_en_names</th>\n",
       "      <th>n_incoming_en</th>\n",
       "    </tr>\n",
       "  </thead>\n",
       "  <tbody>\n",
       "    <tr>\n",
       "      <th>0</th>\n",
       "      <td>2818114</td>\n",
       "      <td>Каунт Бейсі</td>\n",
       "      <td>{Мельба Лістон, Джо Ньюмен, Тед Джонс, Бадді К...</td>\n",
       "      <td>45</td>\n",
       "      <td>{Cecil Payne, Harold Ashby, Lorez Alexandria, ...</td>\n",
       "      <td>42</td>\n",
       "    </tr>\n",
       "    <tr>\n",
       "      <th>1</th>\n",
       "      <td>2818231</td>\n",
       "      <td>аль-Каїм</td>\n",
       "      <td>{1050, 1061, 1066, 1074, 1065, 1054, 1046, 103...</td>\n",
       "      <td>46</td>\n",
       "      <td>{1050, 1061, 1066, 1074, 1065, 1054, 1046, 107...</td>\n",
       "      <td>46</td>\n",
       "    </tr>\n",
       "    <tr>\n",
       "      <th>2</th>\n",
       "      <td>2818265</td>\n",
       "      <td>королева</td>\n",
       "      <td>{Жанна III (королева Наварри), 1926, 1 серпня,...</td>\n",
       "      <td>57</td>\n",
       "      <td>{The Twins Effect II, Margaret of Anjou, 1926,...</td>\n",
       "      <td>50</td>\n",
       "    </tr>\n",
       "    <tr>\n",
       "      <th>3</th>\n",
       "      <td>2821142</td>\n",
       "      <td>Prentice Hall</td>\n",
       "      <td>{Транспорт Ватикану, Транспорт Американських В...</td>\n",
       "      <td>253</td>\n",
       "      <td>{Transport in Ireland, Transport in Guyana, Tr...</td>\n",
       "      <td>231</td>\n",
       "    </tr>\n",
       "    <tr>\n",
       "      <th>4</th>\n",
       "      <td>2824527</td>\n",
       "      <td>Tokar.ua</td>\n",
       "      <td>{Сонячна енергетика України, Російсько-українс...</td>\n",
       "      <td>44</td>\n",
       "      <td>{Solar power, Yandex.Direct, Popcorn Time, Cal...</td>\n",
       "      <td>37</td>\n",
       "    </tr>\n",
       "    <tr>\n",
       "      <th>5</th>\n",
       "      <td>2824727</td>\n",
       "      <td>Monthly Notices of the Royal Astronomical Society</td>\n",
       "      <td>{VIRGOHI21, Зоря Тігардена, Зони H II, Кентавр...</td>\n",
       "      <td>57</td>\n",
       "      <td>{Atmosphere of Uranus, VIRGOHI21, Pisces Dwarf...</td>\n",
       "      <td>57</td>\n",
       "    </tr>\n",
       "    <tr>\n",
       "      <th>6</th>\n",
       "      <td>2825668</td>\n",
       "      <td>Світ (видавництво)</td>\n",
       "      <td>{Транспорт Судану, Транспорт Північної Кореї, ...</td>\n",
       "      <td>517</td>\n",
       "      <td>{Transport in Ireland, Transport in Russia, Tr...</td>\n",
       "      <td>472</td>\n",
       "    </tr>\n",
       "    <tr>\n",
       "      <th>7</th>\n",
       "      <td>2825773</td>\n",
       "      <td>Дубович Іван Андрійович</td>\n",
       "      <td>{Транспорт Судану, Транспорт Північної Кореї, ...</td>\n",
       "      <td>487</td>\n",
       "      <td>{Transport in Ireland, Transport in Russia, Tr...</td>\n",
       "      <td>448</td>\n",
       "    </tr>\n",
       "    <tr>\n",
       "      <th>8</th>\n",
       "      <td>2826419</td>\n",
       "      <td>помірні повітряні маси</td>\n",
       "      <td>{Японське море, Гудзонова затока, Ірландське м...</td>\n",
       "      <td>67</td>\n",
       "      <td>{Irminger Sea, Foxe Basin, Geographical zone, ...</td>\n",
       "      <td>65</td>\n",
       "    </tr>\n",
       "    <tr>\n",
       "      <th>9</th>\n",
       "      <td>2826499</td>\n",
       "      <td>Доповідь про торгівлю людьми</td>\n",
       "      <td>{Населення Катару, Населення Тринідаду і Тобаг...</td>\n",
       "      <td>206</td>\n",
       "      <td>{Demographics of Greece, Demographics of Bosni...</td>\n",
       "      <td>200</td>\n",
       "    </tr>\n",
       "    <tr>\n",
       "      <th>10</th>\n",
       "      <td>2826500</td>\n",
       "      <td>Управління з моніторингу та боротьби з торгівл...</td>\n",
       "      <td>{Населення Катару, Населення Тринідаду і Тобаг...</td>\n",
       "      <td>206</td>\n",
       "      <td>{Demographics of Greece, Demographics of Bosni...</td>\n",
       "      <td>200</td>\n",
       "    </tr>\n",
       "    <tr>\n",
       "      <th>11</th>\n",
       "      <td>2826626</td>\n",
       "      <td>Управління з моніторингу та боротьби з торгівл...</td>\n",
       "      <td>{Населення Катару, Населення Тринідаду і Тобаг...</td>\n",
       "      <td>234</td>\n",
       "      <td>{Demographics of Greece, Demographics of Bosni...</td>\n",
       "      <td>218</td>\n",
       "    </tr>\n",
       "    <tr>\n",
       "      <th>12</th>\n",
       "      <td>2826628</td>\n",
       "      <td>Руденко Ірина Станіславівна</td>\n",
       "      <td>{Географія Руанди, Транспорт Судану, Транспорт...</td>\n",
       "      <td>543</td>\n",
       "      <td>{Transport in Ireland, Transport in Russia, Tr...</td>\n",
       "      <td>501</td>\n",
       "    </tr>\n",
       "    <tr>\n",
       "      <th>13</th>\n",
       "      <td>2826629</td>\n",
       "      <td>Радченко Вероніка Вікторівна</td>\n",
       "      <td>{Географія Руанди, Транспорт Судану, Транспорт...</td>\n",
       "      <td>542</td>\n",
       "      <td>{Transport in Ireland, Transport in Russia, Tr...</td>\n",
       "      <td>501</td>\n",
       "    </tr>\n",
       "    <tr>\n",
       "      <th>14</th>\n",
       "      <td>2826630</td>\n",
       "      <td>Вакуленко Олена Володимирівна</td>\n",
       "      <td>{Географія Руанди, Транспорт Судану, Транспорт...</td>\n",
       "      <td>542</td>\n",
       "      <td>{Transport in Ireland, Transport in Russia, Tr...</td>\n",
       "      <td>501</td>\n",
       "    </tr>\n",
       "    <tr>\n",
       "      <th>15</th>\n",
       "      <td>2826631</td>\n",
       "      <td>Скуратович Олег Ярославович</td>\n",
       "      <td>{Географія Руанди, Транспорт Судану, Транспорт...</td>\n",
       "      <td>536</td>\n",
       "      <td>{Transport in Ireland, Transport in Russia, Tr...</td>\n",
       "      <td>494</td>\n",
       "    </tr>\n",
       "    <tr>\n",
       "      <th>16</th>\n",
       "      <td>2826632</td>\n",
       "      <td>Чанцева Ніна Іванівна</td>\n",
       "      <td>{Транспорт Судану, Транспорт Північної Кореї, ...</td>\n",
       "      <td>494</td>\n",
       "      <td>{Transport in Ireland, Transport in Russia, Tr...</td>\n",
       "      <td>453</td>\n",
       "    </tr>\n",
       "    <tr>\n",
       "      <th>17</th>\n",
       "      <td>2826634</td>\n",
       "      <td>Головне управління геодезії та картографії СРСР</td>\n",
       "      <td>{Географія Руанди, Населення Катару, Населення...</td>\n",
       "      <td>266</td>\n",
       "      <td>{Demographics of Greece, Demographics of Bosni...</td>\n",
       "      <td>249</td>\n",
       "    </tr>\n",
       "    <tr>\n",
       "      <th>18</th>\n",
       "      <td>2826660</td>\n",
       "      <td>Random House</td>\n",
       "      <td>{Чорний лебідь (книга), Моріс Дантек, Девід Го...</td>\n",
       "      <td>38</td>\n",
       "      <td>{Edward Gorey, The Works (Queen album), Comet ...</td>\n",
       "      <td>36</td>\n",
       "    </tr>\n",
       "    <tr>\n",
       "      <th>19</th>\n",
       "      <td>2827198</td>\n",
       "      <td>Simon &amp; Schuster</td>\n",
       "      <td>{Вільям Джозеф Донаван, Vivat (видавництво), С...</td>\n",
       "      <td>33</td>\n",
       "      <td>{Kid A, Devoted, Edward Gorey, Jaron Lanier, Q...</td>\n",
       "      <td>31</td>\n",
       "    </tr>\n",
       "    <tr>\n",
       "      <th>20</th>\n",
       "      <td>2828652</td>\n",
       "      <td>Панчакутек Юпанкі</td>\n",
       "      <td>{1467, 1443, 1459, 1466, 1456, 1465, 1442, 146...</td>\n",
       "      <td>33</td>\n",
       "      <td>{1467, 1443, 1466, 1456, 1465, 1445, 1442, 146...</td>\n",
       "      <td>33</td>\n",
       "    </tr>\n",
       "    <tr>\n",
       "      <th>21</th>\n",
       "      <td>2828900</td>\n",
       "      <td>Земун</td>\n",
       "      <td>{Стефан IV, Ілля Гарашанін, Бітола, Локоть Тим...</td>\n",
       "      <td>36</td>\n",
       "      <td>{Srđan Baljak, Nikola Mijailović (footballer),...</td>\n",
       "      <td>32</td>\n",
       "    </tr>\n",
       "    <tr>\n",
       "      <th>22</th>\n",
       "      <td>2828956</td>\n",
       "      <td>Східний тюркський каганат</td>\n",
       "      <td>{623, 592, 610, 615, 602, 626, 584, 580-ті, 62...</td>\n",
       "      <td>50</td>\n",
       "      <td>{623, 592, 610, 615, 626, 602, 584, 628, 617, ...</td>\n",
       "      <td>50</td>\n",
       "    </tr>\n",
       "    <tr>\n",
       "      <th>23</th>\n",
       "      <td>2829164</td>\n",
       "      <td>Приморська Хорватія</td>\n",
       "      <td>{897, 914, 910-ті, 910, 913, 880, 919, 886, 91...</td>\n",
       "      <td>52</td>\n",
       "      <td>{897, 914, 910, 913, 880, 919, 886, 924, 915, ...</td>\n",
       "      <td>52</td>\n",
       "    </tr>\n",
       "    <tr>\n",
       "      <th>24</th>\n",
       "      <td>2829198</td>\n",
       "      <td>Раштакурти</td>\n",
       "      <td>{947, 964, 956, 945, 941, 960, 919, 938, 926, ...</td>\n",
       "      <td>59</td>\n",
       "      <td>{947, 964, 956, 945, 941, 960, 919, 938, 926, ...</td>\n",
       "      <td>59</td>\n",
       "    </tr>\n",
       "    <tr>\n",
       "      <th>25</th>\n",
       "      <td>2829652</td>\n",
       "      <td>моніторинг</td>\n",
       "      <td>{Стохастичність, Гідрометеорологія, Хімічний с...</td>\n",
       "      <td>127</td>\n",
       "      <td>{Wheat, Animal, Ecological forecasting, Proces...</td>\n",
       "      <td>54</td>\n",
       "    </tr>\n",
       "    <tr>\n",
       "      <th>26</th>\n",
       "      <td>2829692</td>\n",
       "      <td>Купрієнко Сергій Анатолійович</td>\n",
       "      <td>{Авокадо, Хроніка Перу, Дієго де Альмагро, Лам...</td>\n",
       "      <td>69</td>\n",
       "      <td>{Pre-Columbian era, Phaseolus vulgaris, Portul...</td>\n",
       "      <td>67</td>\n",
       "    </tr>\n",
       "    <tr>\n",
       "      <th>27</th>\n",
       "      <td>2829694</td>\n",
       "      <td>Талах Віктор Миколайович</td>\n",
       "      <td>{Дієго де Альмагро, Педро Сарм'єнто де Гамбоа,...</td>\n",
       "      <td>38</td>\n",
       "      <td>{Pre-Columbian era, Atahualpa, Sacsayhuamán, I...</td>\n",
       "      <td>37</td>\n",
       "    </tr>\n",
       "    <tr>\n",
       "      <th>28</th>\n",
       "      <td>2830717</td>\n",
       "      <td>Керкраде</td>\n",
       "      <td>{Ередивізі 2016—2017, Віллі Брокамп, Міхаел Ма...</td>\n",
       "      <td>26</td>\n",
       "      <td>{Bernard Tchoutang, Przemysław Tytoń, Roda JC ...</td>\n",
       "      <td>25</td>\n",
       "    </tr>\n",
       "    <tr>\n",
       "      <th>29</th>\n",
       "      <td>2831417</td>\n",
       "      <td>Daylight saving time</td>\n",
       "      <td>{Канзас, Вайомінг, Айдахо, Коннектикут, Нью-Ге...</td>\n",
       "      <td>25</td>\n",
       "      <td>{Connecticut, West Virginia, Washington (state...</td>\n",
       "      <td>25</td>\n",
       "    </tr>\n",
       "    <tr>\n",
       "      <th>...</th>\n",
       "      <td>...</td>\n",
       "      <td>...</td>\n",
       "      <td>...</td>\n",
       "      <td>...</td>\n",
       "      <td>...</td>\n",
       "      <td>...</td>\n",
       "    </tr>\n",
       "    <tr>\n",
       "      <th>70</th>\n",
       "      <td>2865585</td>\n",
       "      <td>Уряд такого-то прем'єра</td>\n",
       "      <td>{Уряд Болівії, Кабінет міністрів Греції, Уряд ...</td>\n",
       "      <td>199</td>\n",
       "      <td>{Cabinet of Liberia, Cabinet of the Bahamas, C...</td>\n",
       "      <td>157</td>\n",
       "    </tr>\n",
       "    <tr>\n",
       "      <th>71</th>\n",
       "      <td>2866595</td>\n",
       "      <td>Сарсель (округ)</td>\n",
       "      <td>{Фосс, Руассі-ан-Франс, Жаньї-су-Буа, Сен-Вітз...</td>\n",
       "      <td>62</td>\n",
       "      <td>{Andilly, Val-d'Oise, Bellefontaine, Val-d'Ois...</td>\n",
       "      <td>62</td>\n",
       "    </tr>\n",
       "    <tr>\n",
       "      <th>72</th>\n",
       "      <td>2867229</td>\n",
       "      <td>David Starr Jordan</td>\n",
       "      <td>{Lile, Перцина, Rastrelliger, Карапусові, Мере...</td>\n",
       "      <td>69</td>\n",
       "      <td>{Cypress minnow, Lile, Rastrelliger, Chimaera ...</td>\n",
       "      <td>67</td>\n",
       "    </tr>\n",
       "    <tr>\n",
       "      <th>73</th>\n",
       "      <td>2867615</td>\n",
       "      <td>Школа (видавництво, Київ)</td>\n",
       "      <td>{Герб Сьєрра-Леоне, Герб Росії, Прапор Йордані...</td>\n",
       "      <td>334</td>\n",
       "      <td>{Flag of Paraguay, Flag of the Netherlands, Fl...</td>\n",
       "      <td>329</td>\n",
       "    </tr>\n",
       "    <tr>\n",
       "      <th>74</th>\n",
       "      <td>2868140</td>\n",
       "      <td>Лейпциг/Галле (аеропорт)</td>\n",
       "      <td>{Міжнародний аеропорт Ататюрк, Лутон (аеропорт...</td>\n",
       "      <td>46</td>\n",
       "      <td>{Ben Gurion Airport, Linz Airport, Oslo Airpor...</td>\n",
       "      <td>46</td>\n",
       "    </tr>\n",
       "    <tr>\n",
       "      <th>75</th>\n",
       "      <td>2868141</td>\n",
       "      <td>DHL Aviation</td>\n",
       "      <td>{Міжнародний аеропорт Ататюрк, Лутон (аеропорт...</td>\n",
       "      <td>45</td>\n",
       "      <td>{Alicante–Elche Airport, Ben Gurion Airport, L...</td>\n",
       "      <td>45</td>\n",
       "    </tr>\n",
       "    <tr>\n",
       "      <th>76</th>\n",
       "      <td>2868144</td>\n",
       "      <td>Льєж (аеропорт)</td>\n",
       "      <td>{Міжнародний аеропорт Ататюрк, Ганновер (аероп...</td>\n",
       "      <td>35</td>\n",
       "      <td>{Alicante–Elche Airport, Ben Gurion Airport, O...</td>\n",
       "      <td>35</td>\n",
       "    </tr>\n",
       "    <tr>\n",
       "      <th>77</th>\n",
       "      <td>2868426</td>\n",
       "      <td>Conservative Party (UK)</td>\n",
       "      <td>{Нортумберленд, Західний Йоркшир, Острів Вайт ...</td>\n",
       "      <td>28</td>\n",
       "      <td>{Kent, Herefordshire, Lincolnshire, Bedfordshi...</td>\n",
       "      <td>28</td>\n",
       "    </tr>\n",
       "    <tr>\n",
       "      <th>78</th>\n",
       "      <td>2868428</td>\n",
       "      <td>Labour Party (UK)</td>\n",
       "      <td>{Дарем (графство), Нортумберленд, Західний Йор...</td>\n",
       "      <td>26</td>\n",
       "      <td>{Kent, Lincolnshire, Bedfordshire, Staffordshi...</td>\n",
       "      <td>26</td>\n",
       "    </tr>\n",
       "    <tr>\n",
       "      <th>79</th>\n",
       "      <td>2868863</td>\n",
       "      <td>Міжнародна комісія з стратиграфії</td>\n",
       "      <td>{Сантонський ярус, Рюпельський ярус, Кембрійсь...</td>\n",
       "      <td>50</td>\n",
       "      <td>{Piacenzian, Calymmian, Rhaetian, Carboniferou...</td>\n",
       "      <td>47</td>\n",
       "    </tr>\n",
       "    <tr>\n",
       "      <th>80</th>\n",
       "      <td>2869137</td>\n",
       "      <td>Платиновий диск</td>\n",
       "      <td>{Szeptem, Pet Sounds, Never Gone, Сертифікація...</td>\n",
       "      <td>28</td>\n",
       "      <td>{The Highwaymen (country supergroup), Madonna ...</td>\n",
       "      <td>27</td>\n",
       "    </tr>\n",
       "    <tr>\n",
       "      <th>81</th>\n",
       "      <td>2869138</td>\n",
       "      <td>Руни Одіна</td>\n",
       "      <td>{Фрейя, Перт (руна), Хеймдалль, Турісаз, Альґі...</td>\n",
       "      <td>31</td>\n",
       "      <td>{Raido, Tiwaz (rune), Odin, Kaunan, Ansuz (run...</td>\n",
       "      <td>29</td>\n",
       "    </tr>\n",
       "    <tr>\n",
       "      <th>82</th>\n",
       "      <td>2869168</td>\n",
       "      <td>Kamelot</td>\n",
       "      <td>{Tuska Open Air, Сімоне Сімонс, Sweden Rock Fe...</td>\n",
       "      <td>27</td>\n",
       "      <td>{List of heavy metal bands by country, Sweden ...</td>\n",
       "      <td>27</td>\n",
       "    </tr>\n",
       "    <tr>\n",
       "      <th>83</th>\n",
       "      <td>2870341</td>\n",
       "      <td>Лілль (округ)</td>\n",
       "      <td>{Сенген-ан-Мелантуа, Моншо, Ескобек, Варнетон ...</td>\n",
       "      <td>124</td>\n",
       "      <td>{Escobecques, Marquette-lez-Lille, Herlies, Le...</td>\n",
       "      <td>124</td>\n",
       "    </tr>\n",
       "    <tr>\n",
       "      <th>84</th>\n",
       "      <td>2872641</td>\n",
       "      <td>Вежа (видавництво)</td>\n",
       "      <td>{Населення Катару, Населення Тринідаду і Тобаг...</td>\n",
       "      <td>241</td>\n",
       "      <td>{Demographics of Greece, Demographics of Bosni...</td>\n",
       "      <td>222</td>\n",
       "    </tr>\n",
       "    <tr>\n",
       "      <th>85</th>\n",
       "      <td>2874743</td>\n",
       "      <td>Spreng.</td>\n",
       "      <td>{Luzula nivalis, Parnassia kotzebuei, Осока ос...</td>\n",
       "      <td>63</td>\n",
       "      <td>{Luzula nivalis, Piper (plant), Lipandra, Cymb...</td>\n",
       "      <td>44</td>\n",
       "    </tr>\n",
       "    <tr>\n",
       "      <th>86</th>\n",
       "      <td>2876554</td>\n",
       "      <td>Рута (видавництво)</td>\n",
       "      <td>{Населення Катару, Населення Тринідаду і Тобаг...</td>\n",
       "      <td>240</td>\n",
       "      <td>{Demographics of Greece, Demographics of Bosni...</td>\n",
       "      <td>222</td>\n",
       "    </tr>\n",
       "    <tr>\n",
       "      <th>87</th>\n",
       "      <td>2876556</td>\n",
       "      <td>Демографический энциклопедический словарь</td>\n",
       "      <td>{Населення Катару, Населення Тринідаду і Тобаг...</td>\n",
       "      <td>246</td>\n",
       "      <td>{Demographics of Greece, Demographics of Bosni...</td>\n",
       "      <td>227</td>\n",
       "    </tr>\n",
       "    <tr>\n",
       "      <th>88</th>\n",
       "      <td>2876557</td>\n",
       "      <td>Валентей Дмитро Ігнатович</td>\n",
       "      <td>{Населення Катару, Населення Тринідаду і Тобаг...</td>\n",
       "      <td>247</td>\n",
       "      <td>{Demographics of Greece, Demographics of Bosni...</td>\n",
       "      <td>228</td>\n",
       "    </tr>\n",
       "    <tr>\n",
       "      <th>89</th>\n",
       "      <td>2876558</td>\n",
       "      <td>Атлас народів світу</td>\n",
       "      <td>{Населення Катару, Населення Тринідаду і Тобаг...</td>\n",
       "      <td>239</td>\n",
       "      <td>{Demographics of Greece, Demographics of Bosni...</td>\n",
       "      <td>222</td>\n",
       "    </tr>\n",
       "    <tr>\n",
       "      <th>90</th>\n",
       "      <td>2876562</td>\n",
       "      <td>ОГИЗ-Госполитиздат</td>\n",
       "      <td>{Населення Боснії і Герцеговини, Населення Ліх...</td>\n",
       "      <td>53</td>\n",
       "      <td>{Demographics of Luxembourg, Demographics of D...</td>\n",
       "      <td>50</td>\n",
       "    </tr>\n",
       "    <tr>\n",
       "      <th>91</th>\n",
       "      <td>2876563</td>\n",
       "      <td>Анджей Ягельський</td>\n",
       "      <td>{Населення Катару, Населення Тринідаду і Тобаг...</td>\n",
       "      <td>248</td>\n",
       "      <td>{Demographics of Greece, Demographics of Bosni...</td>\n",
       "      <td>229</td>\n",
       "    </tr>\n",
       "    <tr>\n",
       "      <th>92</th>\n",
       "      <td>2876564</td>\n",
       "      <td>Відділ економічних і соціальних справ ООН</td>\n",
       "      <td>{Населення Катару, Населення Тринідаду і Тобаг...</td>\n",
       "      <td>244</td>\n",
       "      <td>{Demographics of Greece, Demographics of Bosni...</td>\n",
       "      <td>226</td>\n",
       "    </tr>\n",
       "    <tr>\n",
       "      <th>93</th>\n",
       "      <td>2877813</td>\n",
       "      <td>Link</td>\n",
       "      <td>{Материнка (рід), Пискуха, Пахіфітум, Мітлиця ...</td>\n",
       "      <td>76</td>\n",
       "      <td>{1795 in science, Nicotiana alata, Cornales, G...</td>\n",
       "      <td>56</td>\n",
       "    </tr>\n",
       "    <tr>\n",
       "      <th>94</th>\n",
       "      <td>2879128</td>\n",
       "      <td>Анрі Камара</td>\n",
       "      <td>{Чемпіонат Англії з футболу 2005—2006: Прем'єр...</td>\n",
       "      <td>27</td>\n",
       "      <td>{1962 African Cup of Nations, 1972 African Cup...</td>\n",
       "      <td>27</td>\n",
       "    </tr>\n",
       "    <tr>\n",
       "      <th>95</th>\n",
       "      <td>2880131</td>\n",
       "      <td>Центр учбової літератури</td>\n",
       "      <td>{Транспорт Судану, Транспорт Північної Кореї, ...</td>\n",
       "      <td>480</td>\n",
       "      <td>{Transport in Ireland, Transport in Russia, Tr...</td>\n",
       "      <td>441</td>\n",
       "    </tr>\n",
       "    <tr>\n",
       "      <th>96</th>\n",
       "      <td>2881606</td>\n",
       "      <td>Формула-1 — Гран-прі Австралії 2005</td>\n",
       "      <td>{Список конструкторів Формули-1, Формула-1 — Г...</td>\n",
       "      <td>28</td>\n",
       "      <td>{Australian Grand Prix, Narain Karthikeyan, Vi...</td>\n",
       "      <td>28</td>\n",
       "    </tr>\n",
       "    <tr>\n",
       "      <th>97</th>\n",
       "      <td>2881608</td>\n",
       "      <td>Формула-1 — Гран-прі Малайзії 2005</td>\n",
       "      <td>{Формула-1 — Чемпіонат 2005, Крістіян Алберс, ...</td>\n",
       "      <td>27</td>\n",
       "      <td>{Narain Karthikeyan, Vitantonio Liuzzi, Gianca...</td>\n",
       "      <td>27</td>\n",
       "    </tr>\n",
       "    <tr>\n",
       "      <th>98</th>\n",
       "      <td>2881610</td>\n",
       "      <td>Формула-1 — Гран-прі Бахрейну 2005</td>\n",
       "      <td>{Формула-1 — Гран-прі Бахрейну 2006, Формула-1...</td>\n",
       "      <td>27</td>\n",
       "      <td>{Narain Karthikeyan, Vitantonio Liuzzi, Gianca...</td>\n",
       "      <td>27</td>\n",
       "    </tr>\n",
       "    <tr>\n",
       "      <th>99</th>\n",
       "      <td>2881612</td>\n",
       "      <td>Формула-1 — Гран-прі Іспанії 2005</td>\n",
       "      <td>{Формула-1 — Чемпіонат 2005, Формула-1 — Гран-...</td>\n",
       "      <td>27</td>\n",
       "      <td>{Narain Karthikeyan, Vitantonio Liuzzi, Gianca...</td>\n",
       "      <td>27</td>\n",
       "    </tr>\n",
       "  </tbody>\n",
       "</table>\n",
       "<p>100 rows × 6 columns</p>\n",
       "</div>"
      ],
      "text/plain": [
       "    red_link_id                        red_link_name  \\\n",
       "0       2818114                          Каунт Бейсі   \n",
       "1       2818231                             аль-Каїм   \n",
       "2       2818265                             королева   \n",
       "3       2821142                        Prentice Hall   \n",
       "4       2824527                             Tokar.ua   \n",
       "..          ...                                  ...   \n",
       "95      2880131             Центр учбової літератури   \n",
       "96      2881606  Формула-1 — Гран-прі Австралії 2005   \n",
       "97      2881608   Формула-1 — Гран-прі Малайзії 2005   \n",
       "98      2881610   Формула-1 — Гран-прі Бахрейну 2005   \n",
       "99      2881612    Формула-1 — Гран-прі Іспанії 2005   \n",
       "\n",
       "                                    incoming_uk_names  n_incoming_uk  \\\n",
       "0   {Мельба Лістон, Джо Ньюмен, Тед Джонс, Бадді К...             45   \n",
       "1   {1050, 1061, 1066, 1074, 1065, 1054, 1046, 103...             46   \n",
       "2   {Жанна III (королева Наварри), 1926, 1 серпня,...             57   \n",
       "3   {Транспорт Ватикану, Транспорт Американських В...            253   \n",
       "4   {Сонячна енергетика України, Російсько-українс...             44   \n",
       "..                                                ...            ...   \n",
       "95  {Транспорт Судану, Транспорт Північної Кореї, ...            480   \n",
       "96  {Список конструкторів Формули-1, Формула-1 — Г...             28   \n",
       "97  {Формула-1 — Чемпіонат 2005, Крістіян Алберс, ...             27   \n",
       "98  {Формула-1 — Гран-прі Бахрейну 2006, Формула-1...             27   \n",
       "99  {Формула-1 — Чемпіонат 2005, Формула-1 — Гран-...             27   \n",
       "\n",
       "                                    incoming_en_names  n_incoming_en  \n",
       "0   {Cecil Payne, Harold Ashby, Lorez Alexandria, ...             42  \n",
       "1   {1050, 1061, 1066, 1074, 1065, 1054, 1046, 107...             46  \n",
       "2   {The Twins Effect II, Margaret of Anjou, 1926,...             50  \n",
       "3   {Transport in Ireland, Transport in Guyana, Tr...            231  \n",
       "4   {Solar power, Yandex.Direct, Popcorn Time, Cal...             37  \n",
       "..                                                ...            ...  \n",
       "95  {Transport in Ireland, Transport in Russia, Tr...            441  \n",
       "96  {Australian Grand Prix, Narain Karthikeyan, Vi...             28  \n",
       "97  {Narain Karthikeyan, Vitantonio Liuzzi, Gianca...             27  \n",
       "98  {Narain Karthikeyan, Vitantonio Liuzzi, Gianca...             27  \n",
       "99  {Narain Karthikeyan, Vitantonio Liuzzi, Gianca...             27  \n",
       "\n",
       "[100 rows x 6 columns]"
      ]
     },
     "execution_count": 61,
     "metadata": {},
     "output_type": "execute_result"
    }
   ],
   "source": [
    "print(df_red_links.shape)\n",
    "df_red_links.head(100)"
   ]
  },
  {
   "cell_type": "code",
   "execution_count": 62,
   "metadata": {},
   "outputs": [],
   "source": [
    "# save red links incoming links to files\n",
    "df_red_links.to_csv(PATH_TO_DATA_UK+'red_links_summary_jaccard_model.csv.gz', compression='gzip', header=True, index=False)"
   ]
  },
  {
   "cell_type": "code",
   "execution_count": 63,
   "metadata": {},
   "outputs": [],
   "source": [
    "# load \n",
    "df_red_links = pd.read_csv(PATH_TO_DATA_UK+'red_links_summary_jaccard_model.csv.gz')"
   ]
  },
  {
   "cell_type": "markdown",
   "metadata": {},
   "source": [
    "### Find most similar uk articles for red links"
   ]
  },
  {
   "cell_type": "code",
   "execution_count": 64,
   "metadata": {},
   "outputs": [],
   "source": [
    "# jaccard similarity\n",
    "def jaccard(a, b):\n",
    "    c = a.intersection(b)\n",
    "    return len(c) / (len(a) + len(b) - len(c))"
   ]
  },
  {
   "cell_type": "code",
   "execution_count": 124,
   "metadata": {},
   "outputs": [
    {
     "name": "stderr",
     "output_type": "stream",
     "text": [
      "100% |########################################################################|\n"
     ]
    }
   ],
   "source": [
    "! Version 1\n",
    "\n",
    "en_article_list = []\n",
    "en_article_found = []\n",
    "\n",
    "pbar = progressbar.ProgressBar()\n",
    "for j in pbar(range(len(uk_red_ids))):\n",
    "    red_link = uk_red_ids[j]\n",
    "    red_link_encoding = uk_red_encoding[j]\n",
    "    similarities = []\n",
    "    for i in range(len(en_nontranslated_ids)):\n",
    "        similarity = jaccard(red_link_encoding, en_nontranslated_encoding[i])\n",
    "        similarities.append(similarity)\n",
    "    \n",
    "    # select top 5 most similar uk article, zero similarities excluded\n",
    "    similarities = np.array(similarities)\n",
    "    indices = np.argsort(-similarities)[:5]\n",
    "    score = np.round(similarities[indices],3)\n",
    "    n_nonzero = np.sum(score>0)\n",
    "    indices = np.sort(indices[:n_nonzero])\n",
    "\n",
    "    # scores and article names sorted by article ids\n",
    "    score = np.round(similarities[indices],3)\n",
    "    en_article_ids = en_nontranslated_ids[indices]\n",
    "    en_article_names = list(df_en_name[df_en_name['id'].isin(en_article_ids)]['title'])\n",
    "    \n",
    "    # sort by jaccard similarity\n",
    "    d = dict(zip(en_article_names, score))\n",
    "    d_sorted = sorted(((value, key) for (key,value) in d.items()), reverse=True)\n",
    "    \n",
    "    # save to list\n",
    "    en_article_list.append(d_sorted)\n",
    "    \n",
    "    if len(en_article_names)>0:\n",
    "        en_article_found.append(True)\n",
    "    else:\n",
    "        en_article_found.append(False)\n",
    "\n",
    "        \n",
    "# create df to show results\n",
    "df_similarities = pd.DataFrame({'red_link_id': uk_red_ids,\n",
    "                   'en_similar_found': en_article_found, \n",
    "                   'en_similar': en_article_list\n",
    "                  })\n",
    "    \n",
    "    "
   ]
  },
  {
   "cell_type": "code",
   "execution_count": 65,
   "metadata": {},
   "outputs": [
    {
     "name": "stderr",
     "output_type": "stream",
     "text": [
      "100% |########################################################################|\n"
     ]
    }
   ],
   "source": [
    "# version for getting all candidates\n",
    "\n",
    "\n",
    "en_article_list = []\n",
    "en_article_found = []\n",
    "\n",
    "pbar = progressbar.ProgressBar()\n",
    "for j in pbar(range(len(uk_red_ids))):\n",
    "    red_link = uk_red_ids[j]\n",
    "    red_link_encoding = uk_red_encoding[j]\n",
    "    similarities = []\n",
    "    for i in range(len(en_nontranslated_ids)):\n",
    "        similarity = jaccard(red_link_encoding, en_nontranslated_encoding[i])\n",
    "        similarities.append(similarity)\n",
    "    \n",
    "    # zero similarities excluded\n",
    "    similarities = np.array(similarities)\n",
    "    indices = np.argsort(-similarities)\n",
    "    score = np.round(similarities[indices],3)\n",
    "    n_nonzero = np.sum(score>0)\n",
    "    indices = np.sort(indices[:n_nonzero])\n",
    "\n",
    "    # scores and article names sorted by article ids\n",
    "    score = np.round(similarities[indices],3)\n",
    "    en_article_ids = en_nontranslated_ids[indices]\n",
    "    en_article_names = list(df_en_name[df_en_name['id'].isin(en_article_ids)]['title'])\n",
    "    \n",
    "    # sort by jaccard similarity\n",
    "    d = dict(zip(en_article_names, score))\n",
    "    d_sorted = sorted(((value, key) for (key,value) in d.items()), reverse=True)\n",
    "    \n",
    "    # save to list\n",
    "    en_article_list.append(d_sorted)\n",
    "    \n",
    "    if len(en_article_names)>0:\n",
    "        en_article_found.append(True)\n",
    "    else:\n",
    "        en_article_found.append(False)\n",
    "\n",
    "        \n",
    "# create df to show results\n",
    "df_similarities = pd.DataFrame({'red_link_id': uk_red_ids,\n",
    "                   'en_similar_found': en_article_found, \n",
    "                   'en_similar': en_article_list\n",
    "                  })\n",
    "    \n",
    "    "
   ]
  },
  {
   "cell_type": "code",
   "execution_count": 74,
   "metadata": {},
   "outputs": [],
   "source": [
    "df_red_results = df_red_links.merge(right=df_similarities, right_on = 'red_link_id',\n",
    "                                     left_on = 'red_link_id', how = 'left')"
   ]
  },
  {
   "cell_type": "code",
   "execution_count": 75,
   "metadata": {},
   "outputs": [
    {
     "data": {
      "text/html": [
       "<div>\n",
       "<style scoped>\n",
       "    .dataframe tbody tr th:only-of-type {\n",
       "        vertical-align: middle;\n",
       "    }\n",
       "\n",
       "    .dataframe tbody tr th {\n",
       "        vertical-align: top;\n",
       "    }\n",
       "\n",
       "    .dataframe thead th {\n",
       "        text-align: right;\n",
       "    }\n",
       "</style>\n",
       "<table border=\"1\" class=\"dataframe\">\n",
       "  <thead>\n",
       "    <tr style=\"text-align: right;\">\n",
       "      <th></th>\n",
       "      <th>red_link_id</th>\n",
       "      <th>red_link_name</th>\n",
       "      <th>incoming_uk_names</th>\n",
       "      <th>n_incoming_uk</th>\n",
       "      <th>incoming_en_names</th>\n",
       "      <th>n_incoming_en</th>\n",
       "      <th>en_similar_found</th>\n",
       "      <th>en_similar</th>\n",
       "    </tr>\n",
       "  </thead>\n",
       "  <tbody>\n",
       "    <tr>\n",
       "      <th>0</th>\n",
       "      <td>2818114</td>\n",
       "      <td>Каунт Бейсі</td>\n",
       "      <td>{'Мельба Лістон', 'Джо Ньюмен', 'Тед Джонс', '...</td>\n",
       "      <td>45</td>\n",
       "      <td>{'Cecil Payne', 'Harold Ashby', 'Lorez Alexand...</td>\n",
       "      <td>42</td>\n",
       "      <td>True</td>\n",
       "      <td>[(0.081, James Chirillo), (0.076, Bud Freeman)...</td>\n",
       "    </tr>\n",
       "    <tr>\n",
       "      <th>1</th>\n",
       "      <td>2818231</td>\n",
       "      <td>аль-Каїм</td>\n",
       "      <td>{'1050', '1061', '1066', '1074', '1065', '1054...</td>\n",
       "      <td>46</td>\n",
       "      <td>{'1050', '1061', '1066', '1074', '1065', '1054...</td>\n",
       "      <td>46</td>\n",
       "      <td>True</td>\n",
       "      <td>[(0.031, Anselm of Lucca), (0.03, Kilbeggan), ...</td>\n",
       "    </tr>\n",
       "    <tr>\n",
       "      <th>2</th>\n",
       "      <td>2818265</td>\n",
       "      <td>королева</td>\n",
       "      <td>{'Жанна III (королева Наварри)', '1926', '1 се...</td>\n",
       "      <td>57</td>\n",
       "      <td>{'The Twins Effect II', 'Margaret of Anjou', '...</td>\n",
       "      <td>50</td>\n",
       "      <td>True</td>\n",
       "      <td>[(0.033, Charles Weeghman), (0.029, Thomas Bol...</td>\n",
       "    </tr>\n",
       "    <tr>\n",
       "      <th>3</th>\n",
       "      <td>2821142</td>\n",
       "      <td>Prentice Hall</td>\n",
       "      <td>{'Транспорт Ватикану', 'Транспорт Американськи...</td>\n",
       "      <td>253</td>\n",
       "      <td>{'Transport in Ireland', 'Transport in Guyana'...</td>\n",
       "      <td>231</td>\n",
       "      <td>True</td>\n",
       "      <td>[(0.078, Skyways Limited), (0.067, Connexxion)...</td>\n",
       "    </tr>\n",
       "    <tr>\n",
       "      <th>4</th>\n",
       "      <td>2824527</td>\n",
       "      <td>Tokar.ua</td>\n",
       "      <td>{'Сонячна енергетика України', 'Російсько-укра...</td>\n",
       "      <td>44</td>\n",
       "      <td>{'Solar power', 'Yandex.Direct', 'Popcorn Time...</td>\n",
       "      <td>37</td>\n",
       "      <td>True</td>\n",
       "      <td>[(0.05, Turbo-diesel), (0.032, List of virtual...</td>\n",
       "    </tr>\n",
       "  </tbody>\n",
       "</table>\n",
       "</div>"
      ],
      "text/plain": [
       "   red_link_id  red_link_name  \\\n",
       "0      2818114    Каунт Бейсі   \n",
       "1      2818231       аль-Каїм   \n",
       "2      2818265       королева   \n",
       "3      2821142  Prentice Hall   \n",
       "4      2824527       Tokar.ua   \n",
       "\n",
       "                                   incoming_uk_names  n_incoming_uk  \\\n",
       "0  {'Мельба Лістон', 'Джо Ньюмен', 'Тед Джонс', '...             45   \n",
       "1  {'1050', '1061', '1066', '1074', '1065', '1054...             46   \n",
       "2  {'Жанна III (королева Наварри)', '1926', '1 се...             57   \n",
       "3  {'Транспорт Ватикану', 'Транспорт Американськи...            253   \n",
       "4  {'Сонячна енергетика України', 'Російсько-укра...             44   \n",
       "\n",
       "                                   incoming_en_names  n_incoming_en  \\\n",
       "0  {'Cecil Payne', 'Harold Ashby', 'Lorez Alexand...             42   \n",
       "1  {'1050', '1061', '1066', '1074', '1065', '1054...             46   \n",
       "2  {'The Twins Effect II', 'Margaret of Anjou', '...             50   \n",
       "3  {'Transport in Ireland', 'Transport in Guyana'...            231   \n",
       "4  {'Solar power', 'Yandex.Direct', 'Popcorn Time...             37   \n",
       "\n",
       "   en_similar_found                                         en_similar  \n",
       "0              True  [(0.081, James Chirillo), (0.076, Bud Freeman)...  \n",
       "1              True  [(0.031, Anselm of Lucca), (0.03, Kilbeggan), ...  \n",
       "2              True  [(0.033, Charles Weeghman), (0.029, Thomas Bol...  \n",
       "3              True  [(0.078, Skyways Limited), (0.067, Connexxion)...  \n",
       "4              True  [(0.05, Turbo-diesel), (0.032, List of virtual...  "
      ]
     },
     "execution_count": 75,
     "metadata": {},
     "output_type": "execute_result"
    }
   ],
   "source": [
    "df_red_results.head()"
   ]
  },
  {
   "cell_type": "code",
   "execution_count": 76,
   "metadata": {},
   "outputs": [
    {
     "data": {
      "text/plain": [
       "True     3187\n",
       "False      11\n",
       "Name: en_similar_found, dtype: int64"
      ]
     },
     "execution_count": 76,
     "metadata": {},
     "output_type": "execute_result"
    }
   ],
   "source": [
    "df_red_results['en_similar_found'].value_counts()"
   ]
  },
  {
   "cell_type": "code",
   "execution_count": 77,
   "metadata": {},
   "outputs": [],
   "source": [
    "# save results with all candidates to file\n",
    "df_red_results.to_csv(PATH_TO_DATA_UK+'uk_red_links_results_all_candidates.csv', header=True, index=False, encoding = 'UTF-8', sep='^')"
   ]
  },
  {
   "cell_type": "code",
   "execution_count": 78,
   "metadata": {},
   "outputs": [],
   "source": [
    "# save results to file\n",
    "df_red_results.to_csv(PATH_TO_DATA_UK+'uk_red_links_results.csv', header=True, index=False, encoding = 'UTF-8', sep='^')"
   ]
  },
  {
   "cell_type": "code",
   "execution_count": null,
   "metadata": {},
   "outputs": [],
   "source": []
  },
  {
   "cell_type": "code",
   "execution_count": 79,
   "metadata": {},
   "outputs": [],
   "source": [
    "# load \n",
    "df_red_results = pd.read_csv(PATH_TO_DATA_UK+'uk_red_links_results.csv', encoding = 'UTF-8', sep='^')"
   ]
  },
  {
   "cell_type": "code",
   "execution_count": 80,
   "metadata": {},
   "outputs": [],
   "source": [
    "df_red_results = df_red_results[['red_link_name', 'en_similar']]"
   ]
  },
  {
   "cell_type": "code",
   "execution_count": 81,
   "metadata": {},
   "outputs": [],
   "source": [
    "# save results to file\n",
    "df_red_results.to_csv(PATH_TO_DATA_UK+'uk_red_links_results_lighter.csv', header=True, index=False, encoding = 'UTF-8', sep='^')"
   ]
  },
  {
   "cell_type": "code",
   "execution_count": null,
   "metadata": {
    "collapsed": true
   },
   "outputs": [],
   "source": []
  }
 ],
 "metadata": {
  "kernelspec": {
   "display_name": "Python 3",
   "language": "python",
   "name": "python3"
  },
  "language_info": {
   "codemirror_mode": {
    "name": "ipython",
    "version": 3
   },
   "file_extension": ".py",
   "mimetype": "text/x-python",
   "name": "python",
   "nbconvert_exporter": "python",
   "pygments_lexer": "ipython3",
   "version": "3.6.9"
  }
 },
 "nbformat": 4,
 "nbformat_minor": 1
}
