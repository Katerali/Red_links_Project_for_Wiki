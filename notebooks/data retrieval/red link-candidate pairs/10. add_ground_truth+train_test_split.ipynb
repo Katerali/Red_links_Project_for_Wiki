{
 "cells": [
  {
   "cell_type": "markdown",
   "metadata": {},
   "source": [
    "## Split data into train and test sets with ground truth"
   ]
  },
  {
   "cell_type": "code",
   "execution_count": 1,
   "metadata": {},
   "outputs": [],
   "source": [
    "import pandas as pd\n",
    "import os"
   ]
  },
  {
   "cell_type": "code",
   "execution_count": 2,
   "metadata": {},
   "outputs": [],
   "source": [
    "import sys\n",
    "sys.path.insert(0, '/media/andrii/earth/Katia/CS_MasterThesis/Red_links_Project_for_Wiki_draft/py')\n",
    "import utils"
   ]
  },
  {
   "cell_type": "code",
   "execution_count": 3,
   "metadata": {},
   "outputs": [],
   "source": [
    "PATH_TO_DATA = '/media/andrii/earth/Katia/CS_MasterThesis/data/ukwiki/'"
   ]
  },
  {
   "cell_type": "code",
   "execution_count": null,
   "metadata": {},
   "outputs": [],
   "source": []
  },
  {
   "cell_type": "code",
   "execution_count": 10,
   "metadata": {},
   "outputs": [],
   "source": [
    "red_links_with_gt = pd.read_csv(PATH_TO_DATA+'ukredlinks_with_ground_truth.csv', sep='^')"
   ]
  },
  {
   "cell_type": "code",
   "execution_count": 13,
   "metadata": {},
   "outputs": [],
   "source": [
    "red_links_with_gt.columns = ['red link name', 'ground truth']"
   ]
  },
  {
   "cell_type": "code",
   "execution_count": 6,
   "metadata": {},
   "outputs": [],
   "source": [
    "rl_with_candidates = os.listdir(PATH_TO_DATA+'candidates/')"
   ]
  },
  {
   "cell_type": "code",
   "execution_count": 7,
   "metadata": {},
   "outputs": [
    {
     "name": "stdout",
     "output_type": "stream",
     "text": [
      "101\n",
      "1/101\n",
      "/media/andrii/earth/Katia/CS_MasterThesis/data/ukwiki/candidates/candidates_15.csv\n",
      "2/101\n",
      "/media/andrii/earth/Katia/CS_MasterThesis/data/ukwiki/candidates/candidates_93.csv\n",
      "3/101\n",
      "/media/andrii/earth/Katia/CS_MasterThesis/data/ukwiki/candidates/candidates_68.csv\n",
      "4/101\n",
      "/media/andrii/earth/Katia/CS_MasterThesis/data/ukwiki/candidates/candidates_45.csv\n",
      "5/101\n",
      "/media/andrii/earth/Katia/CS_MasterThesis/data/ukwiki/candidates/candidates_23.csv\n",
      "6/101\n",
      "/media/andrii/earth/Katia/CS_MasterThesis/data/ukwiki/candidates/candidates_79.csv\n",
      "7/101\n",
      "/media/andrii/earth/Katia/CS_MasterThesis/data/ukwiki/candidates/candidates_74.csv\n",
      "8/101\n",
      "/media/andrii/earth/Katia/CS_MasterThesis/data/ukwiki/candidates/candidates_42.csv\n",
      "9/101\n",
      "/media/andrii/earth/Katia/CS_MasterThesis/data/ukwiki/candidates/candidates_88.csv\n",
      "10/101\n",
      "/media/andrii/earth/Katia/CS_MasterThesis/data/ukwiki/candidates/candidates_35.csv\n",
      "11/101\n",
      "/media/andrii/earth/Katia/CS_MasterThesis/data/ukwiki/candidates/candidates_17.csv\n",
      "12/101\n",
      "/media/andrii/earth/Katia/CS_MasterThesis/data/ukwiki/candidates/candidates_3.csv\n",
      "13/101\n",
      "/media/andrii/earth/Katia/CS_MasterThesis/data/ukwiki/candidates/candidates_47.csv\n",
      "14/101\n",
      "/media/andrii/earth/Katia/CS_MasterThesis/data/ukwiki/candidates/candidates_1.csv\n",
      "15/101\n",
      "/media/andrii/earth/Katia/CS_MasterThesis/data/ukwiki/candidates/candidates_9.csv\n",
      "16/101\n",
      "/media/andrii/earth/Katia/CS_MasterThesis/data/ukwiki/candidates/candidates_30.csv\n",
      "17/101\n",
      "/media/andrii/earth/Katia/CS_MasterThesis/data/ukwiki/candidates/candidates_34.csv\n",
      "18/101\n",
      "/media/andrii/earth/Katia/CS_MasterThesis/data/ukwiki/candidates/candidates_69.csv\n",
      "19/101\n",
      "/media/andrii/earth/Katia/CS_MasterThesis/data/ukwiki/candidates/candidates_89.csv\n",
      "20/101\n",
      "/media/andrii/earth/Katia/CS_MasterThesis/data/ukwiki/candidates/candidates_90.csv\n",
      "21/101\n",
      "/media/andrii/earth/Katia/CS_MasterThesis/data/ukwiki/candidates/candidates_73.csv\n",
      "22/101\n",
      "/media/andrii/earth/Katia/CS_MasterThesis/data/ukwiki/candidates/candidates_5.csv\n",
      "23/101\n",
      "/media/andrii/earth/Katia/CS_MasterThesis/data/ukwiki/candidates/candidates_31.csv\n",
      "24/101\n",
      "/media/andrii/earth/Katia/CS_MasterThesis/data/ukwiki/candidates/candidates_6.csv\n",
      "25/101\n",
      "/media/andrii/earth/Katia/CS_MasterThesis/data/ukwiki/candidates/candidates_76.csv\n",
      "26/101\n",
      "/media/andrii/earth/Katia/CS_MasterThesis/data/ukwiki/candidates/candidates_80.csv\n",
      "27/101\n",
      "/media/andrii/earth/Katia/CS_MasterThesis/data/ukwiki/candidates/candidates_81.csv\n",
      "28/101\n",
      "/media/andrii/earth/Katia/CS_MasterThesis/data/ukwiki/candidates/candidates_21.csv\n",
      "29/101\n",
      "/media/andrii/earth/Katia/CS_MasterThesis/data/ukwiki/candidates/candidates_87.csv\n",
      "30/101\n",
      "/media/andrii/earth/Katia/CS_MasterThesis/data/ukwiki/candidates/candidates_98.csv\n",
      "31/101\n",
      "/media/andrii/earth/Katia/CS_MasterThesis/data/ukwiki/candidates/candidates_11.csv\n",
      "32/101\n",
      "/media/andrii/earth/Katia/CS_MasterThesis/data/ukwiki/candidates/candidates_58.csv\n",
      "33/101\n",
      "/media/andrii/earth/Katia/CS_MasterThesis/data/ukwiki/candidates/candidates_100.csv\n",
      "34/101\n",
      "/media/andrii/earth/Katia/CS_MasterThesis/data/ukwiki/candidates/candidates_10.csv\n",
      "35/101\n",
      "/media/andrii/earth/Katia/CS_MasterThesis/data/ukwiki/candidates/candidates_57.csv\n",
      "36/101\n",
      "/media/andrii/earth/Katia/CS_MasterThesis/data/ukwiki/candidates/candidates_36.csv\n",
      "37/101\n",
      "/media/andrii/earth/Katia/CS_MasterThesis/data/ukwiki/candidates/candidates_37.csv\n",
      "38/101\n",
      "/media/andrii/earth/Katia/CS_MasterThesis/data/ukwiki/candidates/candidates_95.csv\n",
      "39/101\n",
      "/media/andrii/earth/Katia/CS_MasterThesis/data/ukwiki/candidates/candidates_40.csv\n",
      "40/101\n",
      "/media/andrii/earth/Katia/CS_MasterThesis/data/ukwiki/candidates/candidates_66.csv\n",
      "41/101\n",
      "/media/andrii/earth/Katia/CS_MasterThesis/data/ukwiki/candidates/candidates_4.csv\n",
      "42/101\n",
      "/media/andrii/earth/Katia/CS_MasterThesis/data/ukwiki/candidates/candidates_38.csv\n",
      "43/101\n",
      "/media/andrii/earth/Katia/CS_MasterThesis/data/ukwiki/candidates/candidates_44.csv\n",
      "44/101\n",
      "/media/andrii/earth/Katia/CS_MasterThesis/data/ukwiki/candidates/candidates_14.csv\n",
      "45/101\n",
      "/media/andrii/earth/Katia/CS_MasterThesis/data/ukwiki/candidates/candidates_97.csv\n",
      "46/101\n",
      "/media/andrii/earth/Katia/CS_MasterThesis/data/ukwiki/candidates/candidates_63.csv\n",
      "47/101\n",
      "/media/andrii/earth/Katia/CS_MasterThesis/data/ukwiki/candidates/candidates_94.csv\n",
      "48/101\n",
      "/media/andrii/earth/Katia/CS_MasterThesis/data/ukwiki/candidates/candidates_77.csv\n",
      "49/101\n",
      "/media/andrii/earth/Katia/CS_MasterThesis/data/ukwiki/candidates/candidates_67.csv\n",
      "50/101\n",
      "/media/andrii/earth/Katia/CS_MasterThesis/data/ukwiki/candidates/candidates_62.csv\n",
      "51/101\n",
      "/media/andrii/earth/Katia/CS_MasterThesis/data/ukwiki/candidates/candidates_50.csv\n",
      "52/101\n",
      "/media/andrii/earth/Katia/CS_MasterThesis/data/ukwiki/candidates/candidates_78.csv\n",
      "53/101\n",
      "/media/andrii/earth/Katia/CS_MasterThesis/data/ukwiki/candidates/candidates_70.csv\n",
      "54/101\n",
      "/media/andrii/earth/Katia/CS_MasterThesis/data/ukwiki/candidates/candidates_101.csv\n",
      "55/101\n",
      "/media/andrii/earth/Katia/CS_MasterThesis/data/ukwiki/candidates/candidates_28.csv\n",
      "56/101\n",
      "/media/andrii/earth/Katia/CS_MasterThesis/data/ukwiki/candidates/candidates_59.csv\n",
      "57/101\n",
      "/media/andrii/earth/Katia/CS_MasterThesis/data/ukwiki/candidates/candidates_72.csv\n",
      "58/101\n",
      "/media/andrii/earth/Katia/CS_MasterThesis/data/ukwiki/candidates/candidates_65.csv\n",
      "59/101\n",
      "/media/andrii/earth/Katia/CS_MasterThesis/data/ukwiki/candidates/candidates_19.csv\n",
      "60/101\n",
      "/media/andrii/earth/Katia/CS_MasterThesis/data/ukwiki/candidates/candidates_82.csv\n",
      "61/101\n",
      "/media/andrii/earth/Katia/CS_MasterThesis/data/ukwiki/candidates/candidates_83.csv\n",
      "62/101\n",
      "/media/andrii/earth/Katia/CS_MasterThesis/data/ukwiki/candidates/candidates_20.csv\n",
      "63/101\n",
      "/media/andrii/earth/Katia/CS_MasterThesis/data/ukwiki/candidates/candidates_46.csv\n",
      "64/101\n",
      "/media/andrii/earth/Katia/CS_MasterThesis/data/ukwiki/candidates/candidates_56.csv\n",
      "65/101\n",
      "/media/andrii/earth/Katia/CS_MasterThesis/data/ukwiki/candidates/candidates_33.csv\n",
      "66/101\n",
      "/media/andrii/earth/Katia/CS_MasterThesis/data/ukwiki/candidates/candidates_52.csv\n",
      "67/101\n",
      "/media/andrii/earth/Katia/CS_MasterThesis/data/ukwiki/candidates/candidates_32.csv\n",
      "68/101\n",
      "/media/andrii/earth/Katia/CS_MasterThesis/data/ukwiki/candidates/candidates_99.csv\n",
      "69/101\n",
      "/media/andrii/earth/Katia/CS_MasterThesis/data/ukwiki/candidates/candidates_24.csv\n",
      "70/101\n",
      "/media/andrii/earth/Katia/CS_MasterThesis/data/ukwiki/candidates/candidates_13.csv\n",
      "71/101\n",
      "/media/andrii/earth/Katia/CS_MasterThesis/data/ukwiki/candidates/candidates_91.csv\n",
      "72/101\n",
      "/media/andrii/earth/Katia/CS_MasterThesis/data/ukwiki/candidates/candidates_54.csv\n",
      "73/101\n",
      "/media/andrii/earth/Katia/CS_MasterThesis/data/ukwiki/candidates/candidates_86.csv\n",
      "74/101\n",
      "/media/andrii/earth/Katia/CS_MasterThesis/data/ukwiki/candidates/candidates_92.csv\n",
      "75/101\n",
      "/media/andrii/earth/Katia/CS_MasterThesis/data/ukwiki/candidates/candidates_60.csv\n",
      "76/101\n",
      "/media/andrii/earth/Katia/CS_MasterThesis/data/ukwiki/candidates/candidates_53.csv\n",
      "77/101\n",
      "/media/andrii/earth/Katia/CS_MasterThesis/data/ukwiki/candidates/candidates_16.csv\n",
      "78/101\n",
      "/media/andrii/earth/Katia/CS_MasterThesis/data/ukwiki/candidates/candidates_75.csv\n",
      "79/101\n",
      "/media/andrii/earth/Katia/CS_MasterThesis/data/ukwiki/candidates/candidates_7.csv\n",
      "80/101\n",
      "/media/andrii/earth/Katia/CS_MasterThesis/data/ukwiki/candidates/candidates_85.csv\n",
      "81/101\n",
      "/media/andrii/earth/Katia/CS_MasterThesis/data/ukwiki/candidates/candidates_49.csv\n",
      "82/101\n",
      "/media/andrii/earth/Katia/CS_MasterThesis/data/ukwiki/candidates/candidates_84.csv\n",
      "83/101\n",
      "/media/andrii/earth/Katia/CS_MasterThesis/data/ukwiki/candidates/candidates_51.csv\n",
      "84/101\n",
      "/media/andrii/earth/Katia/CS_MasterThesis/data/ukwiki/candidates/candidates_43.csv\n",
      "85/101\n",
      "/media/andrii/earth/Katia/CS_MasterThesis/data/ukwiki/candidates/candidates_8.csv\n",
      "86/101\n",
      "/media/andrii/earth/Katia/CS_MasterThesis/data/ukwiki/candidates/candidates_61.csv\n",
      "87/101\n",
      "/media/andrii/earth/Katia/CS_MasterThesis/data/ukwiki/candidates/candidates_39.csv\n",
      "88/101\n",
      "/media/andrii/earth/Katia/CS_MasterThesis/data/ukwiki/candidates/candidates_64.csv\n",
      "89/101\n",
      "/media/andrii/earth/Katia/CS_MasterThesis/data/ukwiki/candidates/candidates_41.csv\n",
      "90/101\n",
      "/media/andrii/earth/Katia/CS_MasterThesis/data/ukwiki/candidates/candidates_48.csv\n",
      "91/101\n",
      "/media/andrii/earth/Katia/CS_MasterThesis/data/ukwiki/candidates/candidates_29.csv\n",
      "92/101\n",
      "/media/andrii/earth/Katia/CS_MasterThesis/data/ukwiki/candidates/candidates_26.csv\n"
     ]
    },
    {
     "name": "stdout",
     "output_type": "stream",
     "text": [
      "93/101\n",
      "/media/andrii/earth/Katia/CS_MasterThesis/data/ukwiki/candidates/candidates_22.csv\n",
      "94/101\n",
      "/media/andrii/earth/Katia/CS_MasterThesis/data/ukwiki/candidates/candidates_55.csv\n",
      "95/101\n",
      "/media/andrii/earth/Katia/CS_MasterThesis/data/ukwiki/candidates/candidates_2.csv\n",
      "96/101\n",
      "/media/andrii/earth/Katia/CS_MasterThesis/data/ukwiki/candidates/candidates_18.csv\n",
      "97/101\n",
      "/media/andrii/earth/Katia/CS_MasterThesis/data/ukwiki/candidates/candidates_12.csv\n",
      "98/101\n",
      "/media/andrii/earth/Katia/CS_MasterThesis/data/ukwiki/candidates/candidates_25.csv\n",
      "99/101\n",
      "/media/andrii/earth/Katia/CS_MasterThesis/data/ukwiki/candidates/candidates_71.csv\n",
      "100/101\n",
      "/media/andrii/earth/Katia/CS_MasterThesis/data/ukwiki/candidates/candidates_27.csv\n",
      "101/101\n",
      "/media/andrii/earth/Katia/CS_MasterThesis/data/ukwiki/candidates/candidates_96.csv\n",
      "Total time: 0.1 minutes\n"
     ]
    }
   ],
   "source": [
    "df_with_all_candidates = utils.load_csvs_to_df_general(PATH_TO_DATA+'candidates/', rl_with_candidates)"
   ]
  },
  {
   "cell_type": "code",
   "execution_count": 8,
   "metadata": {},
   "outputs": [
    {
     "data": {
      "text/html": [
       "<div>\n",
       "<style scoped>\n",
       "    .dataframe tbody tr th:only-of-type {\n",
       "        vertical-align: middle;\n",
       "    }\n",
       "\n",
       "    .dataframe tbody tr th {\n",
       "        vertical-align: top;\n",
       "    }\n",
       "\n",
       "    .dataframe thead th {\n",
       "        text-align: right;\n",
       "    }\n",
       "</style>\n",
       "<table border=\"1\" class=\"dataframe\">\n",
       "  <thead>\n",
       "    <tr style=\"text-align: right;\">\n",
       "      <th></th>\n",
       "      <th>red_link</th>\n",
       "      <th>candidate</th>\n",
       "    </tr>\n",
       "  </thead>\n",
       "  <tbody>\n",
       "    <tr>\n",
       "      <th>0</th>\n",
       "      <td>Panolis flammea</td>\n",
       "      <td>Batrachedra praeangusta</td>\n",
       "    </tr>\n",
       "    <tr>\n",
       "      <th>1</th>\n",
       "      <td>Panolis flammea</td>\n",
       "      <td>Argyresthia conjugella</td>\n",
       "    </tr>\n",
       "    <tr>\n",
       "      <th>2</th>\n",
       "      <td>Panolis flammea</td>\n",
       "      <td>Wittia sororcula</td>\n",
       "    </tr>\n",
       "    <tr>\n",
       "      <th>3</th>\n",
       "      <td>Panolis flammea</td>\n",
       "      <td>Speckled wood (butterfly)</td>\n",
       "    </tr>\n",
       "    <tr>\n",
       "      <th>4</th>\n",
       "      <td>Panolis flammea</td>\n",
       "      <td>Nemophora fasciella</td>\n",
       "    </tr>\n",
       "  </tbody>\n",
       "</table>\n",
       "</div>"
      ],
      "text/plain": [
       "          red_link                  candidate\n",
       "0  Panolis flammea    Batrachedra praeangusta\n",
       "1  Panolis flammea     Argyresthia conjugella\n",
       "2  Panolis flammea           Wittia sororcula\n",
       "3  Panolis flammea  Speckled wood (butterfly)\n",
       "4  Panolis flammea        Nemophora fasciella"
      ]
     },
     "execution_count": 8,
     "metadata": {},
     "output_type": "execute_result"
    }
   ],
   "source": [
    "df_with_all_candidates.head()"
   ]
  },
  {
   "cell_type": "code",
   "execution_count": 9,
   "metadata": {},
   "outputs": [
    {
     "data": {
      "text/plain": [
       "(2897150, 2)"
      ]
     },
     "execution_count": 9,
     "metadata": {},
     "output_type": "execute_result"
    }
   ],
   "source": [
    "df_with_all_candidates.shape"
   ]
  },
  {
   "cell_type": "code",
   "execution_count": 9,
   "metadata": {
    "scrolled": true
   },
   "outputs": [
    {
     "data": {
      "text/plain": [
       "(2964382, 2)"
      ]
     },
     "execution_count": 9,
     "metadata": {},
     "output_type": "execute_result"
    }
   ],
   "source": [
    "df_with_all_candidates.shape"
   ]
  },
  {
   "cell_type": "code",
   "execution_count": 14,
   "metadata": {},
   "outputs": [],
   "source": [
    "rl_all_pairs_gt = pd.merge(df_with_all_candidates, red_links_with_gt, how='left', left_on=['red_link'], right_on=['red link name'])"
   ]
  },
  {
   "cell_type": "code",
   "execution_count": 15,
   "metadata": {},
   "outputs": [],
   "source": [
    "rl_all_pairs_gt = rl_all_pairs_gt[['red_link', 'candidate', 'ground truth']]"
   ]
  },
  {
   "cell_type": "code",
   "execution_count": null,
   "metadata": {},
   "outputs": [],
   "source": []
  },
  {
   "cell_type": "code",
   "execution_count": 16,
   "metadata": {},
   "outputs": [],
   "source": [
    "# add true label to train pairs\n",
    "gt_results = []\n",
    "for index, row in rl_all_pairs_gt.iterrows():\n",
    "    gt_result = row['candidate'] == row['ground truth']\n",
    "    gt_results.append(gt_result)\n",
    "\n",
    "gt_df = pd.DataFrame(gt_results)\n",
    "gt_df.columns = ['true_label']\n",
    "\n",
    "with_gt_df = pd.concat([rl_all_pairs_gt, gt_df], axis=1)"
   ]
  },
  {
   "cell_type": "code",
   "execution_count": 23,
   "metadata": {},
   "outputs": [
    {
     "data": {
      "text/html": [
       "<div>\n",
       "<style scoped>\n",
       "    .dataframe tbody tr th:only-of-type {\n",
       "        vertical-align: middle;\n",
       "    }\n",
       "\n",
       "    .dataframe tbody tr th {\n",
       "        vertical-align: top;\n",
       "    }\n",
       "\n",
       "    .dataframe thead th {\n",
       "        text-align: right;\n",
       "    }\n",
       "</style>\n",
       "<table border=\"1\" class=\"dataframe\">\n",
       "  <thead>\n",
       "    <tr style=\"text-align: right;\">\n",
       "      <th></th>\n",
       "      <th>red_link</th>\n",
       "      <th>candidate</th>\n",
       "      <th>ground truth</th>\n",
       "      <th>true_label</th>\n",
       "    </tr>\n",
       "  </thead>\n",
       "  <tbody>\n",
       "    <tr>\n",
       "      <th>0</th>\n",
       "      <td>Panolis flammea</td>\n",
       "      <td>Batrachedra praeangusta</td>\n",
       "      <td>Pine beauty</td>\n",
       "      <td>False</td>\n",
       "    </tr>\n",
       "    <tr>\n",
       "      <th>1</th>\n",
       "      <td>Panolis flammea</td>\n",
       "      <td>Argyresthia conjugella</td>\n",
       "      <td>Pine beauty</td>\n",
       "      <td>False</td>\n",
       "    </tr>\n",
       "    <tr>\n",
       "      <th>2</th>\n",
       "      <td>Panolis flammea</td>\n",
       "      <td>Wittia sororcula</td>\n",
       "      <td>Pine beauty</td>\n",
       "      <td>False</td>\n",
       "    </tr>\n",
       "    <tr>\n",
       "      <th>3</th>\n",
       "      <td>Panolis flammea</td>\n",
       "      <td>Speckled wood (butterfly)</td>\n",
       "      <td>Pine beauty</td>\n",
       "      <td>False</td>\n",
       "    </tr>\n",
       "    <tr>\n",
       "      <th>4</th>\n",
       "      <td>Panolis flammea</td>\n",
       "      <td>Nemophora fasciella</td>\n",
       "      <td>Pine beauty</td>\n",
       "      <td>False</td>\n",
       "    </tr>\n",
       "  </tbody>\n",
       "</table>\n",
       "</div>"
      ],
      "text/plain": [
       "          red_link                  candidate ground truth  true_label\n",
       "0  Panolis flammea    Batrachedra praeangusta  Pine beauty       False\n",
       "1  Panolis flammea     Argyresthia conjugella  Pine beauty       False\n",
       "2  Panolis flammea           Wittia sororcula  Pine beauty       False\n",
       "3  Panolis flammea  Speckled wood (butterfly)  Pine beauty       False\n",
       "4  Panolis flammea        Nemophora fasciella  Pine beauty       False"
      ]
     },
     "execution_count": 23,
     "metadata": {},
     "output_type": "execute_result"
    }
   ],
   "source": [
    "with_gt_df.head()"
   ]
  },
  {
   "cell_type": "code",
   "execution_count": null,
   "metadata": {},
   "outputs": [],
   "source": []
  },
  {
   "cell_type": "code",
   "execution_count": 18,
   "metadata": {},
   "outputs": [
    {
     "name": "stdout",
     "output_type": "stream",
     "text": [
      "train length = 2318009\n",
      "test length = 579141\n"
     ]
    }
   ],
   "source": [
    "utils.train_test_split(PATH_TO_DATA, with_gt_df)"
   ]
  },
  {
   "cell_type": "code",
   "execution_count": null,
   "metadata": {},
   "outputs": [],
   "source": []
  },
  {
   "cell_type": "code",
   "execution_count": 19,
   "metadata": {},
   "outputs": [],
   "source": [
    "with_gt_df.to_csv(PATH_TO_DATA+'ukredlinks_with_all_candidates&true_label', index=False, sep='^')"
   ]
  },
  {
   "cell_type": "code",
   "execution_count": null,
   "metadata": {
    "collapsed": true
   },
   "outputs": [],
   "source": []
  }
 ],
 "metadata": {
  "kernelspec": {
   "display_name": "Python 3",
   "language": "python",
   "name": "python3"
  },
  "language_info": {
   "codemirror_mode": {
    "name": "ipython",
    "version": 3
   },
   "file_extension": ".py",
   "mimetype": "text/x-python",
   "name": "python",
   "nbconvert_exporter": "python",
   "pygments_lexer": "ipython3",
   "version": "3.6.9"
  }
 },
 "nbformat": 4,
 "nbformat_minor": 2
}
