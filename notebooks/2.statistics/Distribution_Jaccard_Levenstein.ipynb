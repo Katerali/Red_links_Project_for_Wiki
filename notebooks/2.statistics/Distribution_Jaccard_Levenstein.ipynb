{
 "cells": [
  {
   "cell_type": "code",
   "execution_count": 1,
   "metadata": {
    "collapsed": true
   },
   "outputs": [],
   "source": [
    "import pandas as pd"
   ]
  },
  {
   "cell_type": "code",
   "execution_count": 2,
   "metadata": {
    "collapsed": true
   },
   "outputs": [],
   "source": [
    "import numpy as np"
   ]
  },
  {
   "cell_type": "code",
   "execution_count": 3,
   "metadata": {
    "collapsed": true
   },
   "outputs": [],
   "source": [
    "import matplotlib.pyplot as plt\n",
    "%matplotlib inline"
   ]
  },
  {
   "cell_type": "code",
   "execution_count": 4,
   "metadata": {
    "collapsed": true
   },
   "outputs": [],
   "source": [
    "#PATH_TO_DATA = '/media/andrii/earth/Katia/CS_MasterThesis/data/'\n",
    "PATH_TO_DATA_RL = '/home/katia/Documents/ComputerScience/UCU_Master_Program/MasterThesis/data/'"
   ]
  },
  {
   "cell_type": "code",
   "execution_count": 5,
   "metadata": {},
   "outputs": [],
   "source": [
    "with_gt_df = pd.read_csv(PATH_TO_DATA_RL+'red_links_uk_with_features.csv', encoding = 'UTF-8')"
   ]
  },
  {
   "cell_type": "code",
   "execution_count": 6,
   "metadata": {},
   "outputs": [
    {
     "data": {
      "text/html": [
       "<div>\n",
       "<style>\n",
       "    .dataframe thead tr:only-child th {\n",
       "        text-align: right;\n",
       "    }\n",
       "\n",
       "    .dataframe thead th {\n",
       "        text-align: left;\n",
       "    }\n",
       "\n",
       "    .dataframe tbody tr th {\n",
       "        vertical-align: top;\n",
       "    }\n",
       "</style>\n",
       "<table border=\"1\" class=\"dataframe\">\n",
       "  <thead>\n",
       "    <tr style=\"text-align: right;\">\n",
       "      <th></th>\n",
       "      <th>red_link_name</th>\n",
       "      <th>candidate</th>\n",
       "      <th>true_label</th>\n",
       "      <th>BN_results</th>\n",
       "      <th>jaccard_score</th>\n",
       "      <th>levenstein_score</th>\n",
       "    </tr>\n",
       "  </thead>\n",
       "  <tbody>\n",
       "    <tr>\n",
       "      <th>0</th>\n",
       "      <td>Pachetra sagittigera</td>\n",
       "      <td>Phytometra viridaria</td>\n",
       "      <td>False</td>\n",
       "      <td>0</td>\n",
       "      <td>0.081</td>\n",
       "      <td>0.650</td>\n",
       "    </tr>\n",
       "    <tr>\n",
       "      <th>1</th>\n",
       "      <td>Pachetra sagittigera</td>\n",
       "      <td>Conistra rubiginea</td>\n",
       "      <td>False</td>\n",
       "      <td>0</td>\n",
       "      <td>0.076</td>\n",
       "      <td>0.600</td>\n",
       "    </tr>\n",
       "    <tr>\n",
       "      <th>2</th>\n",
       "      <td>Pachetra sagittigera</td>\n",
       "      <td>Tholera decimalis</td>\n",
       "      <td>False</td>\n",
       "      <td>0</td>\n",
       "      <td>0.068</td>\n",
       "      <td>0.750</td>\n",
       "    </tr>\n",
       "    <tr>\n",
       "      <th>3</th>\n",
       "      <td>Pachetra sagittigera</td>\n",
       "      <td>Pachetra sagittigera</td>\n",
       "      <td>True</td>\n",
       "      <td>0</td>\n",
       "      <td>0.066</td>\n",
       "      <td>0.000</td>\n",
       "    </tr>\n",
       "    <tr>\n",
       "      <th>4</th>\n",
       "      <td>Pachetra sagittigera</td>\n",
       "      <td>Hoplodrina octogenaria</td>\n",
       "      <td>False</td>\n",
       "      <td>0</td>\n",
       "      <td>0.066</td>\n",
       "      <td>0.727</td>\n",
       "    </tr>\n",
       "  </tbody>\n",
       "</table>\n",
       "</div>"
      ],
      "text/plain": [
       "          red_link_name               candidate  true_label  BN_results  \\\n",
       "0  Pachetra sagittigera    Phytometra viridaria       False           0   \n",
       "1  Pachetra sagittigera      Conistra rubiginea       False           0   \n",
       "2  Pachetra sagittigera       Tholera decimalis       False           0   \n",
       "3  Pachetra sagittigera    Pachetra sagittigera        True           0   \n",
       "4  Pachetra sagittigera  Hoplodrina octogenaria       False           0   \n",
       "\n",
       "   jaccard_score  levenstein_score  \n",
       "0          0.081             0.650  \n",
       "1          0.076             0.600  \n",
       "2          0.068             0.750  \n",
       "3          0.066             0.000  \n",
       "4          0.066             0.727  "
      ]
     },
     "execution_count": 6,
     "metadata": {},
     "output_type": "execute_result"
    }
   ],
   "source": [
    "with_gt_df.head()"
   ]
  },
  {
   "cell_type": "code",
   "execution_count": 7,
   "metadata": {},
   "outputs": [
    {
     "data": {
      "text/plain": [
       "(2964382, 6)"
      ]
     },
     "execution_count": 7,
     "metadata": {},
     "output_type": "execute_result"
    }
   ],
   "source": [
    "with_gt_df.shape"
   ]
  },
  {
   "cell_type": "markdown",
   "metadata": {},
   "source": [
    "## Distribution for Jaccard scores"
   ]
  },
  {
   "cell_type": "code",
   "execution_count": 8,
   "metadata": {},
   "outputs": [
    {
     "name": "stdout",
     "output_type": "stream",
     "text": [
      "Number of items with the worst Jaccard score and still TRUE is 25\n"
     ]
    }
   ],
   "source": [
    "# check items with the worst Jaccard score and still TRUE\n",
    "worst_score = min(with_gt_df['jaccard_score'])\n",
    "min_score_df = with_gt_df[with_gt_df['jaccard_score'] == worst_score]\n",
    "print('Number of items with the worst Jaccard score and still TRUE is', len(min_score_df[min_score_df['true_label'] == True]))"
   ]
  },
  {
   "cell_type": "code",
   "execution_count": 34,
   "metadata": {},
   "outputs": [
    {
     "name": "stdout",
     "output_type": "stream",
     "text": [
      "Number of items with the best Jaccard score is 1045\n",
      "Number of items with the best Jaccard score and TRUE is 0\n"
     ]
    }
   ],
   "source": [
    "# check items with the best Jaccard score and TRUE\n",
    "max_score_df = with_gt_df[with_gt_df['jaccard_score'] > 0.6]\n",
    "print('Number of items with the best Jaccard score is', len(max_score_df))\n",
    "print('Number of items with the best Jaccard score and TRUE is', len(max_score_df[max_score_df['true_label'] == True]))"
   ]
  },
  {
   "cell_type": "code",
   "execution_count": 45,
   "metadata": {},
   "outputs": [
    {
     "name": "stdout",
     "output_type": "stream",
     "text": [
      "Number of items with less then 0.03 Jaccard score is 844283\n",
      "Number of items with less then 0.03 Jaccard score and TRUE is 665\n"
     ]
    }
   ],
   "source": [
    "# check items with Jaccard score 0.001-0.03 and TRUE\n",
    "upper_bound = 0.03\n",
    "some_score_df = with_gt_df[with_gt_df['jaccard_score'] < upper_bound]\n",
    "print('Number of items with' + ' less then ' + str(upper_bound) + ' ' + 'Jaccard score is', len(some_score_df))\n",
    "print('Number of items with' + ' less then ' + str(upper_bound) + ' ' + 'Jaccard score and TRUE is', len(some_score_df[some_score_df['true_label'] == True]))"
   ]
  },
  {
   "cell_type": "code",
   "execution_count": 9,
   "metadata": {},
   "outputs": [
    {
     "data": {
      "text/plain": [
       "False    2962292\n",
       "True        2090\n",
       "Name: true_label, dtype: int64"
      ]
     },
     "execution_count": 9,
     "metadata": {},
     "output_type": "execute_result"
    }
   ],
   "source": [
    "with_gt_df['true_label'].value_counts()"
   ]
  },
  {
   "cell_type": "code",
   "execution_count": 10,
   "metadata": {},
   "outputs": [
    {
     "data": {
      "text/html": [
       "<div>\n",
       "<style>\n",
       "    .dataframe thead tr:only-child th {\n",
       "        text-align: right;\n",
       "    }\n",
       "\n",
       "    .dataframe thead th {\n",
       "        text-align: left;\n",
       "    }\n",
       "\n",
       "    .dataframe tbody tr th {\n",
       "        vertical-align: top;\n",
       "    }\n",
       "</style>\n",
       "<table border=\"1\" class=\"dataframe\">\n",
       "  <thead>\n",
       "    <tr style=\"text-align: right;\">\n",
       "      <th></th>\n",
       "      <th>red_link_name</th>\n",
       "      <th>candidate</th>\n",
       "      <th>true_label</th>\n",
       "      <th>BN_results</th>\n",
       "      <th>jaccard_score</th>\n",
       "      <th>levenstein_score</th>\n",
       "    </tr>\n",
       "  </thead>\n",
       "  <tbody>\n",
       "    <tr>\n",
       "      <th>12467</th>\n",
       "      <td>Parastichtis suspecta</td>\n",
       "      <td>Parastichtis suspecta</td>\n",
       "      <td>True</td>\n",
       "      <td>0</td>\n",
       "      <td>0.001</td>\n",
       "      <td>0.000</td>\n",
       "    </tr>\n",
       "    <tr>\n",
       "      <th>81233</th>\n",
       "      <td>Куніцин Ігор Костянтинович</td>\n",
       "      <td>Igor Kunitsyn</td>\n",
       "      <td>True</td>\n",
       "      <td>0</td>\n",
       "      <td>0.001</td>\n",
       "      <td>0.846</td>\n",
       "    </tr>\n",
       "    <tr>\n",
       "      <th>90547</th>\n",
       "      <td>Крістоф Вліген</td>\n",
       "      <td>Kristof Vliegen</td>\n",
       "      <td>True</td>\n",
       "      <td>0</td>\n",
       "      <td>0.001</td>\n",
       "      <td>0.133</td>\n",
       "    </tr>\n",
       "    <tr>\n",
       "      <th>106616</th>\n",
       "      <td>Драфт НХЛ 1998</td>\n",
       "      <td>1998 NHL Entry Draft</td>\n",
       "      <td>True</td>\n",
       "      <td>0</td>\n",
       "      <td>0.001</td>\n",
       "      <td>0.900</td>\n",
       "    </tr>\n",
       "    <tr>\n",
       "      <th>188029</th>\n",
       "      <td>Jodis lactearia</td>\n",
       "      <td>Jodis lactearia</td>\n",
       "      <td>True</td>\n",
       "      <td>1</td>\n",
       "      <td>0.001</td>\n",
       "      <td>0.000</td>\n",
       "    </tr>\n",
       "    <tr>\n",
       "      <th>231325</th>\n",
       "      <td>Седа Норландер</td>\n",
       "      <td>Seda Noorlander</td>\n",
       "      <td>True</td>\n",
       "      <td>0</td>\n",
       "      <td>0.001</td>\n",
       "      <td>0.067</td>\n",
       "    </tr>\n",
       "    <tr>\n",
       "      <th>244463</th>\n",
       "      <td>Чемпіонат Європи з академічного веслування 2016</td>\n",
       "      <td>2016 European Rowing Championships</td>\n",
       "      <td>True</td>\n",
       "      <td>0</td>\n",
       "      <td>0.001</td>\n",
       "      <td>0.894</td>\n",
       "    </tr>\n",
       "    <tr>\n",
       "      <th>252684</th>\n",
       "      <td>Пучкова Ольга Олексіївна</td>\n",
       "      <td>Olga Puchkova</td>\n",
       "      <td>True</td>\n",
       "      <td>0</td>\n",
       "      <td>0.001</td>\n",
       "      <td>0.833</td>\n",
       "    </tr>\n",
       "    <tr>\n",
       "      <th>328698</th>\n",
       "      <td>Hyppa rectilinea</td>\n",
       "      <td>Hyppa rectilinea</td>\n",
       "      <td>True</td>\n",
       "      <td>0</td>\n",
       "      <td>0.001</td>\n",
       "      <td>0.000</td>\n",
       "    </tr>\n",
       "    <tr>\n",
       "      <th>386923</th>\n",
       "      <td>Андреа Леанд</td>\n",
       "      <td>Andrea Leand</td>\n",
       "      <td>True</td>\n",
       "      <td>0</td>\n",
       "      <td>0.001</td>\n",
       "      <td>0.000</td>\n",
       "    </tr>\n",
       "    <tr>\n",
       "      <th>388538</th>\n",
       "      <td>Пінат Луї Гарпер</td>\n",
       "      <td>Peanut Louie Harper</td>\n",
       "      <td>True</td>\n",
       "      <td>0</td>\n",
       "      <td>0.001</td>\n",
       "      <td>0.316</td>\n",
       "    </tr>\n",
       "    <tr>\n",
       "      <th>393383</th>\n",
       "      <td>С'юзен Маскарін</td>\n",
       "      <td>Susan Mascarin</td>\n",
       "      <td>True</td>\n",
       "      <td>0</td>\n",
       "      <td>0.001</td>\n",
       "      <td>0.333</td>\n",
       "    </tr>\n",
       "    <tr>\n",
       "      <th>447180</th>\n",
       "      <td>Zeuzera pyrina</td>\n",
       "      <td>Zeuzera pyrina</td>\n",
       "      <td>True</td>\n",
       "      <td>0</td>\n",
       "      <td>0.001</td>\n",
       "      <td>0.000</td>\n",
       "    </tr>\n",
       "    <tr>\n",
       "      <th>525200</th>\n",
       "      <td>Формула-1 — Гран-прі Індії 2013</td>\n",
       "      <td>2013 Indian Grand Prix</td>\n",
       "      <td>True</td>\n",
       "      <td>0</td>\n",
       "      <td>0.001</td>\n",
       "      <td>0.806</td>\n",
       "    </tr>\n",
       "    <tr>\n",
       "      <th>579679</th>\n",
       "      <td>Алекса Ґлетч</td>\n",
       "      <td>Alexa Glatch</td>\n",
       "      <td>True</td>\n",
       "      <td>0</td>\n",
       "      <td>0.001</td>\n",
       "      <td>0.250</td>\n",
       "    </tr>\n",
       "    <tr>\n",
       "      <th>622262</th>\n",
       "      <td>Erebia aethiops</td>\n",
       "      <td>Scotch argus</td>\n",
       "      <td>True</td>\n",
       "      <td>0</td>\n",
       "      <td>0.001</td>\n",
       "      <td>0.800</td>\n",
       "    </tr>\n",
       "    <tr>\n",
       "      <th>657684</th>\n",
       "      <td>Pararge aegeria</td>\n",
       "      <td>Speckled wood (butterfly)</td>\n",
       "      <td>True</td>\n",
       "      <td>1</td>\n",
       "      <td>0.001</td>\n",
       "      <td>0.840</td>\n",
       "    </tr>\n",
       "    <tr>\n",
       "      <th>686745</th>\n",
       "      <td>Ольга Барабанщикова</td>\n",
       "      <td>Olga Barabanschikova</td>\n",
       "      <td>True</td>\n",
       "      <td>0</td>\n",
       "      <td>0.001</td>\n",
       "      <td>0.200</td>\n",
       "    </tr>\n",
       "    <tr>\n",
       "      <th>694573</th>\n",
       "      <td>Бовіна Олена Олегівна</td>\n",
       "      <td>Elena Bovina</td>\n",
       "      <td>True</td>\n",
       "      <td>0</td>\n",
       "      <td>0.001</td>\n",
       "      <td>0.619</td>\n",
       "    </tr>\n",
       "    <tr>\n",
       "      <th>710356</th>\n",
       "      <td>Сільвія Ганіка</td>\n",
       "      <td>Sylvia Hanika</td>\n",
       "      <td>True</td>\n",
       "      <td>0</td>\n",
       "      <td>0.001</td>\n",
       "      <td>0.214</td>\n",
       "    </tr>\n",
       "    <tr>\n",
       "      <th>762413</th>\n",
       "      <td>Parornix anglicella</td>\n",
       "      <td>Parornix anglicella</td>\n",
       "      <td>True</td>\n",
       "      <td>0</td>\n",
       "      <td>0.001</td>\n",
       "      <td>0.000</td>\n",
       "    </tr>\n",
       "    <tr>\n",
       "      <th>789926</th>\n",
       "      <td>Macrothylacia rubi</td>\n",
       "      <td>Macrothylacia rubi</td>\n",
       "      <td>True</td>\n",
       "      <td>0</td>\n",
       "      <td>0.001</td>\n",
       "      <td>0.000</td>\n",
       "    </tr>\n",
       "    <tr>\n",
       "      <th>804888</th>\n",
       "      <td>Чесноков Андрій Едуардович</td>\n",
       "      <td>Andrei Chesnokov</td>\n",
       "      <td>True</td>\n",
       "      <td>0</td>\n",
       "      <td>0.001</td>\n",
       "      <td>0.846</td>\n",
       "    </tr>\n",
       "    <tr>\n",
       "      <th>1088649</th>\n",
       "      <td>Xestia baja</td>\n",
       "      <td>Xestia baja</td>\n",
       "      <td>True</td>\n",
       "      <td>0</td>\n",
       "      <td>0.001</td>\n",
       "      <td>0.000</td>\n",
       "    </tr>\n",
       "    <tr>\n",
       "      <th>2886150</th>\n",
       "      <td>Herminia tarsicrinalis</td>\n",
       "      <td>Herminia tarsicrinalis</td>\n",
       "      <td>True</td>\n",
       "      <td>1</td>\n",
       "      <td>0.001</td>\n",
       "      <td>0.000</td>\n",
       "    </tr>\n",
       "  </tbody>\n",
       "</table>\n",
       "</div>"
      ],
      "text/plain": [
       "                                           red_link_name  \\\n",
       "12467                              Parastichtis suspecta   \n",
       "81233                         Куніцин Ігор Костянтинович   \n",
       "90547                                     Крістоф Вліген   \n",
       "106616                                    Драфт НХЛ 1998   \n",
       "188029                                   Jodis lactearia   \n",
       "231325                                    Седа Норландер   \n",
       "244463   Чемпіонат Європи з академічного веслування 2016   \n",
       "252684                          Пучкова Ольга Олексіївна   \n",
       "328698                                  Hyppa rectilinea   \n",
       "386923                                      Андреа Леанд   \n",
       "388538                                  Пінат Луї Гарпер   \n",
       "393383                                   С'юзен Маскарін   \n",
       "447180                                    Zeuzera pyrina   \n",
       "525200                   Формула-1 — Гран-прі Індії 2013   \n",
       "579679                                      Алекса Ґлетч   \n",
       "622262                                   Erebia aethiops   \n",
       "657684                                   Pararge aegeria   \n",
       "686745                               Ольга Барабанщикова   \n",
       "694573                             Бовіна Олена Олегівна   \n",
       "710356                                    Сільвія Ганіка   \n",
       "762413                               Parornix anglicella   \n",
       "789926                                Macrothylacia rubi   \n",
       "804888                        Чесноков Андрій Едуардович   \n",
       "1088649                                      Xestia baja   \n",
       "2886150                           Herminia tarsicrinalis   \n",
       "\n",
       "                                  candidate  true_label  BN_results  \\\n",
       "12467                 Parastichtis suspecta        True           0   \n",
       "81233                         Igor Kunitsyn        True           0   \n",
       "90547                       Kristof Vliegen        True           0   \n",
       "106616                 1998 NHL Entry Draft        True           0   \n",
       "188029                      Jodis lactearia        True           1   \n",
       "231325                      Seda Noorlander        True           0   \n",
       "244463   2016 European Rowing Championships        True           0   \n",
       "252684                        Olga Puchkova        True           0   \n",
       "328698                     Hyppa rectilinea        True           0   \n",
       "386923                         Andrea Leand        True           0   \n",
       "388538                  Peanut Louie Harper        True           0   \n",
       "393383                       Susan Mascarin        True           0   \n",
       "447180                       Zeuzera pyrina        True           0   \n",
       "525200               2013 Indian Grand Prix        True           0   \n",
       "579679                         Alexa Glatch        True           0   \n",
       "622262                         Scotch argus        True           0   \n",
       "657684            Speckled wood (butterfly)        True           1   \n",
       "686745                 Olga Barabanschikova        True           0   \n",
       "694573                         Elena Bovina        True           0   \n",
       "710356                        Sylvia Hanika        True           0   \n",
       "762413                  Parornix anglicella        True           0   \n",
       "789926                   Macrothylacia rubi        True           0   \n",
       "804888                     Andrei Chesnokov        True           0   \n",
       "1088649                         Xestia baja        True           0   \n",
       "2886150              Herminia tarsicrinalis        True           1   \n",
       "\n",
       "         jaccard_score  levenstein_score  \n",
       "12467            0.001             0.000  \n",
       "81233            0.001             0.846  \n",
       "90547            0.001             0.133  \n",
       "106616           0.001             0.900  \n",
       "188029           0.001             0.000  \n",
       "231325           0.001             0.067  \n",
       "244463           0.001             0.894  \n",
       "252684           0.001             0.833  \n",
       "328698           0.001             0.000  \n",
       "386923           0.001             0.000  \n",
       "388538           0.001             0.316  \n",
       "393383           0.001             0.333  \n",
       "447180           0.001             0.000  \n",
       "525200           0.001             0.806  \n",
       "579679           0.001             0.250  \n",
       "622262           0.001             0.800  \n",
       "657684           0.001             0.840  \n",
       "686745           0.001             0.200  \n",
       "694573           0.001             0.619  \n",
       "710356           0.001             0.214  \n",
       "762413           0.001             0.000  \n",
       "789926           0.001             0.000  \n",
       "804888           0.001             0.846  \n",
       "1088649          0.001             0.000  \n",
       "2886150          0.001             0.000  "
      ]
     },
     "execution_count": 10,
     "metadata": {},
     "output_type": "execute_result"
    }
   ],
   "source": [
    "min_score_df[min_score_df['true_label'] == True]"
   ]
  },
  {
   "cell_type": "code",
   "execution_count": 15,
   "metadata": {},
   "outputs": [],
   "source": [
    "# define number of bins and round its values\n",
    "bins_j = np.linspace(0,1,30).tolist()\n",
    "bins_j = list(map(lambda x: round(x, 2), bins_j))"
   ]
  },
  {
   "cell_type": "code",
   "execution_count": 16,
   "metadata": {},
   "outputs": [],
   "source": [
    "# get number of scores in each bin and indexes of scores in each bin\n",
    "indexes = [[] for _ in range(len(bins_j)-1)]\n",
    "\n",
    "for index in range(with_gt_df.shape[0]):\n",
    "    for b in range(len(bins_j)-1):\n",
    "        score = with_gt_df['jaccard_score'][index]\n",
    "        if score < bins_j[b+1]:\n",
    "            indexes[b].append(index)\n",
    "            break"
   ]
  },
  {
   "cell_type": "code",
   "execution_count": 17,
   "metadata": {
    "collapsed": true
   },
   "outputs": [],
   "source": [
    "number_of_scores_in_bin = list(map(lambda x: len(x), indexes))"
   ]
  },
  {
   "cell_type": "code",
   "execution_count": 69,
   "metadata": {},
   "outputs": [
    {
     "data": {
      "image/png": "[encoded data removed]",
      "text/plain": [
       "<matplotlib.figure.Figure at 0x7f4f7fd13a58>"
      ]
     },
     "metadata": {},
     "output_type": "display_data"
    }
   ],
   "source": [
    "# plot Jaccard score distribution\n",
    "plt.bar(bins_j[:-1], number_of_scores_in_bin, width=0.02, align='center')\n",
    "plt.xlabel('Jaccard score')\n",
    "plt.ylabel('Number of red links')\n",
    "plt.title('Jaccard score distribution')\n",
    "plt.show()"
   ]
  },
  {
   "cell_type": "code",
   "execution_count": null,
   "metadata": {
    "collapsed": true
   },
   "outputs": [],
   "source": []
  },
  {
   "cell_type": "code",
   "execution_count": 26,
   "metadata": {
    "collapsed": true
   },
   "outputs": [],
   "source": [
    "# get a number of true values in each bin\n",
    "trues_all = []\n",
    "for i in indexes:\n",
    "    trues = list(map(lambda x: with_gt_df['true_label'][x], i))\n",
    "    trues_all.append(trues)\n",
    "\n",
    "truess = list(map(lambda x: x.count(True), trues_all))"
   ]
  },
  {
   "cell_type": "code",
   "execution_count": 74,
   "metadata": {
    "scrolled": true
   },
   "outputs": [
    {
     "data": {
      "image/png": "[encoded data removed]",
      "text/plain": [
       "<matplotlib.figure.Figure at 0x7f4f7ff34240>"
      ]
     },
     "metadata": {},
     "output_type": "display_data"
    }
   ],
   "source": [
    "# plot distribution of true values\n",
    "plt.bar(bins_j[1:], truess, width=0.03, align='edge')\n",
    "plt.xlabel('Jaccard score')\n",
    "plt.ylabel('Number of red links')\n",
    "plt.title('Distribution of true values for Jaccard score distribution')\n",
    "plt.show()"
   ]
  },
  {
   "cell_type": "code",
   "execution_count": 78,
   "metadata": {},
   "outputs": [
    {
     "data": {
      "image/png": "[encoded data removed]",
      "text/plain": [
       "<matplotlib.figure.Figure at 0x7f4f66b07eb8>"
      ]
     },
     "metadata": {},
     "output_type": "display_data"
    }
   ],
   "source": [
    "plt.bar(bins_j[:-1], np.array(truess) / np.array(number_of_scores_in_bin), width=0.02, align='edge')\n",
    "plt.xlabel('Jaccard score')\n",
    "plt.ylabel('# of true labels / # of red links')\n",
    "plt.title('Fraction of true labels for Jaccard distribution')\n",
    "plt.show()"
   ]
  },
  {
   "cell_type": "code",
   "execution_count": null,
   "metadata": {
    "collapsed": true
   },
   "outputs": [],
   "source": []
  },
  {
   "cell_type": "code",
   "execution_count": null,
   "metadata": {
    "collapsed": true
   },
   "outputs": [],
   "source": []
  },
  {
   "cell_type": "code",
   "execution_count": null,
   "metadata": {
    "collapsed": true
   },
   "outputs": [],
   "source": []
  },
  {
   "cell_type": "markdown",
   "metadata": {},
   "source": [
    "## Distribution for Levenstein scores"
   ]
  },
  {
   "cell_type": "code",
   "execution_count": 46,
   "metadata": {},
   "outputs": [
    {
     "name": "stdout",
     "output_type": "stream",
     "text": [
      "Number of items with the worst Levenstein score and still TRUE is 34\n"
     ]
    }
   ],
   "source": [
    "# check items with the worst Levenstein score and still TRUE\n",
    "worst_score_ld = max(with_gt_df['levenstein_score'])\n",
    "ld_score_df = with_gt_df[with_gt_df['levenstein_score'] >= round(worst_score_ld)]\n",
    "print('Number of items with the worst Levenstein score and still TRUE is', len(ld_score_df[ld_score_df['true_label'] == True]))"
   ]
  },
  {
   "cell_type": "code",
   "execution_count": 55,
   "metadata": {},
   "outputs": [
    {
     "name": "stdout",
     "output_type": "stream",
     "text": [
      "Number of items with the best Levenstein score and TRUE is 1235\n"
     ]
    }
   ],
   "source": [
    "# check items with the best Levenstein score and TRUE\n",
    "best_score_ld = 0.1\n",
    "ld_score_df_best = with_gt_df[with_gt_df['levenstein_score'] >= best_score_ld]\n",
    "print('Number of items with the best Levenstein score and TRUE is', len(ld_score_df_best[ld_score_df_best['true_label'] == True]))"
   ]
  },
  {
   "cell_type": "code",
   "execution_count": 61,
   "metadata": {},
   "outputs": [
    {
     "name": "stdout",
     "output_type": "stream",
     "text": [
      "Number of items with more then 0.8 Levenstein score is 1606501\n",
      "Number of items with more then 0.8 Levenstein score and TRUE is 403\n"
     ]
    }
   ],
   "source": [
    "# check items with Jaccard score 0.001-0.03 and TRUE\n",
    "lower_bound = 0.8\n",
    "some_ld_score_df = with_gt_df[with_gt_df['levenstein_score'] > lower_bound]\n",
    "print('Number of items with' + ' more then ' + str(lower_bound) + ' ' + 'Levenstein score is', len(some_ld_score_df))\n",
    "print('Number of items with' + ' more then ' + str(lower_bound) + ' ' + 'Levenstein score and TRUE is', len(some_ld_score_df[some_ld_score_df['true_label'] == True]))"
   ]
  },
  {
   "cell_type": "code",
   "execution_count": 47,
   "metadata": {
    "collapsed": true
   },
   "outputs": [],
   "source": [
    "indexes_ld = [[] for _ in range(len(bins)-1)]\n",
    "\n",
    "for index in range(with_gt_df.shape[0]):\n",
    "    for b in range(len(bins)-1):\n",
    "        score = with_gt_df['levenstein_score'][index]\n",
    "        if score < bins[b+1]:\n",
    "            indexes_ld[b].append(index)\n",
    "            break"
   ]
  },
  {
   "cell_type": "code",
   "execution_count": 48,
   "metadata": {
    "collapsed": true
   },
   "outputs": [],
   "source": [
    "number_of_scores_in_bin_ld = list(map(lambda x: len(x), indexes_ld))"
   ]
  },
  {
   "cell_type": "code",
   "execution_count": 49,
   "metadata": {
    "collapsed": true
   },
   "outputs": [],
   "source": [
    "# get a number of true values in each bin\n",
    "trues_all_ld = []\n",
    "for i in indexes_ld:\n",
    "    trues = list(map(lambda x: with_gt_df['true_label'][x], i))\n",
    "    trues_all_ld.append(trues)\n",
    "\n",
    "truess_ld = list(map(lambda x: x.count(True), trues_all_ld))"
   ]
  },
  {
   "cell_type": "code",
   "execution_count": 70,
   "metadata": {},
   "outputs": [
    {
     "data": {
      "image/png": "[encoded data removed]",
      "text/plain": [
       "<matplotlib.figure.Figure at 0x7f4f6c704ac8>"
      ]
     },
     "metadata": {},
     "output_type": "display_data"
    }
   ],
   "source": [
    "# plot Levenstein score distribution\n",
    "plt.bar(bins[:-1], number_of_scores_in_bin_ld, width=0.02, align='edge')\n",
    "plt.xlabel('Levenstein score')\n",
    "plt.ylabel('Number of red links')\n",
    "plt.title('Levenstein score distribution')\n",
    "plt.show()"
   ]
  },
  {
   "cell_type": "code",
   "execution_count": 76,
   "metadata": {
    "scrolled": true
   },
   "outputs": [
    {
     "data": {
      "image/png": "[encoded data removed]",
      "text/plain": [
       "<matplotlib.figure.Figure at 0x7f4f6664abe0>"
      ]
     },
     "metadata": {},
     "output_type": "display_data"
    }
   ],
   "source": [
    "# plot distribution of true values\n",
    "plt.bar(bins[:-1], truess_ld, width=0.02, align='edge')\n",
    "plt.xlabel('Levenstein score')\n",
    "plt.ylabel('Number of red links')\n",
    "plt.title('Distribution of true values for Levenstein score distribution')\n",
    "plt.show()"
   ]
  },
  {
   "cell_type": "code",
   "execution_count": 79,
   "metadata": {},
   "outputs": [
    {
     "data": {
      "image/png": "[encoded data removed]",
      "text/plain": [
       "<matplotlib.figure.Figure at 0x7f4f66abaf98>"
      ]
     },
     "metadata": {},
     "output_type": "display_data"
    }
   ],
   "source": [
    "plt.bar(bins[:-1], np.array(truess_ld) / np.array(number_of_scores_in_bin_ld), width=0.02, align='edge')\n",
    "plt.xlabel('Levenstein score distribution')\n",
    "plt.ylabel('# of true labels / # of red links')\n",
    "plt.title('Fraction of true labels for Levenstein distribution')\n",
    "plt.show()"
   ]
  },
  {
   "cell_type": "code",
   "execution_count": null,
   "metadata": {
    "collapsed": true
   },
   "outputs": [],
   "source": []
  }
 ],
 "metadata": {
  "kernelspec": {
   "display_name": "Python 3",
   "language": "python",
   "name": "python3"
  },
  "language_info": {
   "codemirror_mode": {
    "name": "ipython",
    "version": 3
   },
   "file_extension": ".py",
   "mimetype": "text/x-python",
   "name": "python",
   "nbconvert_exporter": "python",
   "pygments_lexer": "ipython3",
   "version": "3.6.7"
  }
 },
 "nbformat": 4,
 "nbformat_minor": 2
}
