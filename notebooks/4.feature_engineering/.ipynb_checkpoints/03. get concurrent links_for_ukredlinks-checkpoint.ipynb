{
 "cells": [
  {
   "cell_type": "code",
   "execution_count": 1,
   "metadata": {},
   "outputs": [],
   "source": [
    "import pandas as pd\n",
    "import numpy as np\n",
    "import gzip\n",
    "import os\n",
    "import re"
   ]
  },
  {
   "cell_type": "code",
   "execution_count": 2,
   "metadata": {},
   "outputs": [],
   "source": [
    "def unpack(file_name):\n",
    "    file_name_new = file_name.replace(\".gz\",\"\")\n",
    "    with gzip.open(file_name, 'rb') as f_in, open(file_name_new, 'wb') as f_out:\n",
    "        f_out.writelines(f_in)\n",
    "    return file_name_new"
   ]
  },
  {
   "cell_type": "code",
   "execution_count": 3,
   "metadata": {},
   "outputs": [],
   "source": [
    "def pack_and_remove(file_name):\n",
    "    file_name_new = file_name+'.gz'\n",
    "    with open(file_name, 'rb') as f_in, gzip.open(file_name_new, 'wb') as f_out:\n",
    "        f_out.writelines(f_in)\n",
    "    os.remove(file_name)\n",
    "    return file_name_new"
   ]
  },
  {
   "cell_type": "code",
   "execution_count": 4,
   "metadata": {},
   "outputs": [],
   "source": [
    "PATH_TO_DATA_UK = '/media/andrii/earth/Katia/CS_MasterThesis/data/ukwiki/ukwiki_20180920/'\n",
    "PATH_TO_DATA_EN = '/media/andrii/earth/Katia/CS_MasterThesis/data/enwiki/enwiki_20180920/'\n",
    "PATH_TO_DATA_RL = '/media/andrii/earth/Katia/CS_MasterThesis/data/ukwiki/uk_red_links/'\n",
    "PATH_TO_WIKIDATA = '/media/andrii/earth/Katia/CS_MasterThesis/data/ukwiki/uk_wikidata/'"
   ]
  },
  {
   "cell_type": "markdown",
   "metadata": {},
   "source": [
    "### Get concurrent links for Ukrainian red links"
   ]
  },
  {
   "cell_type": "code",
   "execution_count": 5,
   "metadata": {},
   "outputs": [],
   "source": [
    "uk_pagelinks = 'ukwiki-20180920-pages-links.csv.gz'"
   ]
  },
  {
   "cell_type": "code",
   "execution_count": 6,
   "metadata": {},
   "outputs": [],
   "source": [
    "unpacked_pagelinks = unpack(PATH_TO_DATA_UK+uk_pagelinks)"
   ]
  },
  {
   "cell_type": "code",
   "execution_count": 7,
   "metadata": {},
   "outputs": [],
   "source": [
    "df_uk_pagelinks = pd.read_csv(unpacked_pagelinks)"
   ]
  },
  {
   "cell_type": "code",
   "execution_count": 8,
   "metadata": {},
   "outputs": [
    {
     "data": {
      "text/plain": [
       "'/media/andrii/earth/Katia/CS_MasterThesis/data/ukwiki/ukwiki_20180920/ukwiki-20180920-pages-links.csv.gz'"
      ]
     },
     "execution_count": 8,
     "metadata": {},
     "output_type": "execute_result"
    }
   ],
   "source": [
    "pack_and_remove(unpacked_pagelinks)"
   ]
  },
  {
   "cell_type": "code",
   "execution_count": 9,
   "metadata": {},
   "outputs": [
    {
     "data": {
      "text/html": [
       "<div>\n",
       "<style scoped>\n",
       "    .dataframe tbody tr th:only-of-type {\n",
       "        vertical-align: middle;\n",
       "    }\n",
       "\n",
       "    .dataframe tbody tr th {\n",
       "        vertical-align: top;\n",
       "    }\n",
       "\n",
       "    .dataframe thead th {\n",
       "        text-align: right;\n",
       "    }\n",
       "</style>\n",
       "<table border=\"1\" class=\"dataframe\">\n",
       "  <thead>\n",
       "    <tr style=\"text-align: right;\">\n",
       "      <th></th>\n",
       "      <th>id</th>\n",
       "      <th>link_id</th>\n",
       "      <th>link_val</th>\n",
       "      <th>is_red_link</th>\n",
       "    </tr>\n",
       "  </thead>\n",
       "  <tbody>\n",
       "    <tr>\n",
       "      <th>0</th>\n",
       "      <td>13</td>\n",
       "      <td>884280</td>\n",
       "      <td>Об'єкт (філософія)</td>\n",
       "      <td>False</td>\n",
       "    </tr>\n",
       "    <tr>\n",
       "      <th>1</th>\n",
       "      <td>13</td>\n",
       "      <td>21623</td>\n",
       "      <td>Ератосфен</td>\n",
       "      <td>False</td>\n",
       "    </tr>\n",
       "    <tr>\n",
       "      <th>2</th>\n",
       "      <td>13</td>\n",
       "      <td>274944</td>\n",
       "      <td>географ</td>\n",
       "      <td>False</td>\n",
       "    </tr>\n",
       "    <tr>\n",
       "      <th>3</th>\n",
       "      <td>13</td>\n",
       "      <td>26194</td>\n",
       "      <td>Клавдій Птолемей</td>\n",
       "      <td>False</td>\n",
       "    </tr>\n",
       "    <tr>\n",
       "      <th>4</th>\n",
       "      <td>13</td>\n",
       "      <td>20459</td>\n",
       "      <td>Відродження</td>\n",
       "      <td>False</td>\n",
       "    </tr>\n",
       "  </tbody>\n",
       "</table>\n",
       "</div>"
      ],
      "text/plain": [
       "   id  link_id            link_val  is_red_link\n",
       "0  13   884280  Об'єкт (філософія)        False\n",
       "1  13    21623           Ератосфен        False\n",
       "2  13   274944             географ        False\n",
       "3  13    26194    Клавдій Птолемей        False\n",
       "4  13    20459         Відродження        False"
      ]
     },
     "execution_count": 9,
     "metadata": {},
     "output_type": "execute_result"
    }
   ],
   "source": [
    "df_uk_pagelinks.head()"
   ]
  },
  {
   "cell_type": "code",
   "execution_count": 10,
   "metadata": {},
   "outputs": [
    {
     "data": {
      "text/plain": [
       "(22693778, 4)"
      ]
     },
     "execution_count": 10,
     "metadata": {},
     "output_type": "execute_result"
    }
   ],
   "source": [
    "df_uk_pagelinks.shape"
   ]
  },
  {
   "cell_type": "code",
   "execution_count": null,
   "metadata": {},
   "outputs": [],
   "source": []
  },
  {
   "cell_type": "code",
   "execution_count": 11,
   "metadata": {},
   "outputs": [],
   "source": [
    "rlsample = pd.read_csv(PATH_TO_DATA_RL+'ukredlinks_ground_truth_3194.csv')"
   ]
  },
  {
   "cell_type": "code",
   "execution_count": 12,
   "metadata": {},
   "outputs": [],
   "source": [
    "df_rl_with_all_parents = pd.merge(df_uk_pagelinks, rlsample, how='inner', left_on='link_val', right_on='red link name')"
   ]
  },
  {
   "cell_type": "code",
   "execution_count": 13,
   "metadata": {},
   "outputs": [
    {
     "data": {
      "text/plain": [
       "3194"
      ]
     },
     "execution_count": 13,
     "metadata": {},
     "output_type": "execute_result"
    }
   ],
   "source": [
    "len(df_rl_with_all_parents['link_val'].unique())"
   ]
  },
  {
   "cell_type": "code",
   "execution_count": 14,
   "metadata": {},
   "outputs": [],
   "source": [
    "false_redlinks = df_rl_with_all_parents[df_rl_with_all_parents['is_red_link']==False]"
   ]
  },
  {
   "cell_type": "code",
   "execution_count": 15,
   "metadata": {},
   "outputs": [
    {
     "data": {
      "text/plain": [
       "array(['Велика Британія', 'легка атлетика', 'кінний спорт',\n",
       "       'Міжнародний олімпійський комітет', 'Південна Корея',\n",
       "       'Спортивне плавання', 'Боротьба (спорт)', 'академічне веслування',\n",
       "       'Спортивна гімнастика', 'вітрильний спорт', '1914 у кіно',\n",
       "       '1913 у кіно'], dtype=object)"
      ]
     },
     "execution_count": 15,
     "metadata": {},
     "output_type": "execute_result"
    }
   ],
   "source": [
    "false_redlinks['link_val'].unique()"
   ]
  },
  {
   "cell_type": "code",
   "execution_count": 20,
   "metadata": {},
   "outputs": [
    {
     "data": {
      "text/html": [
       "<div>\n",
       "<style scoped>\n",
       "    .dataframe tbody tr th:only-of-type {\n",
       "        vertical-align: middle;\n",
       "    }\n",
       "\n",
       "    .dataframe tbody tr th {\n",
       "        vertical-align: top;\n",
       "    }\n",
       "\n",
       "    .dataframe thead th {\n",
       "        text-align: right;\n",
       "    }\n",
       "</style>\n",
       "<table border=\"1\" class=\"dataframe\">\n",
       "  <thead>\n",
       "    <tr style=\"text-align: right;\">\n",
       "      <th></th>\n",
       "      <th>id</th>\n",
       "      <th>link_id</th>\n",
       "      <th>link_val</th>\n",
       "      <th>is_red_link</th>\n",
       "      <th>red link name</th>\n",
       "      <th>ground truth</th>\n",
       "      <th>Remarks</th>\n",
       "    </tr>\n",
       "  </thead>\n",
       "  <tbody>\n",
       "    <tr>\n",
       "      <th>0</th>\n",
       "      <td>601</td>\n",
       "      <td>1782</td>\n",
       "      <td>Велика Британія</td>\n",
       "      <td>False</td>\n",
       "      <td>Велика Британія</td>\n",
       "      <td>?? Great Britain, United Kingdom</td>\n",
       "      <td>NaN</td>\n",
       "    </tr>\n",
       "    <tr>\n",
       "      <th>1</th>\n",
       "      <td>630</td>\n",
       "      <td>1782</td>\n",
       "      <td>Велика Британія</td>\n",
       "      <td>False</td>\n",
       "      <td>Велика Британія</td>\n",
       "      <td>?? Great Britain, United Kingdom</td>\n",
       "      <td>NaN</td>\n",
       "    </tr>\n",
       "    <tr>\n",
       "      <th>2</th>\n",
       "      <td>640</td>\n",
       "      <td>1782</td>\n",
       "      <td>Велика Британія</td>\n",
       "      <td>False</td>\n",
       "      <td>Велика Британія</td>\n",
       "      <td>?? Great Britain, United Kingdom</td>\n",
       "      <td>NaN</td>\n",
       "    </tr>\n",
       "    <tr>\n",
       "      <th>3</th>\n",
       "      <td>676</td>\n",
       "      <td>1782</td>\n",
       "      <td>Велика Британія</td>\n",
       "      <td>False</td>\n",
       "      <td>Велика Британія</td>\n",
       "      <td>?? Great Britain, United Kingdom</td>\n",
       "      <td>NaN</td>\n",
       "    </tr>\n",
       "    <tr>\n",
       "      <th>4</th>\n",
       "      <td>687</td>\n",
       "      <td>1782</td>\n",
       "      <td>Велика Британія</td>\n",
       "      <td>False</td>\n",
       "      <td>Велика Британія</td>\n",
       "      <td>?? Great Britain, United Kingdom</td>\n",
       "      <td>NaN</td>\n",
       "    </tr>\n",
       "  </tbody>\n",
       "</table>\n",
       "</div>"
      ],
      "text/plain": [
       "    id  link_id         link_val  is_red_link    red link name  \\\n",
       "0  601     1782  Велика Британія        False  Велика Британія   \n",
       "1  630     1782  Велика Британія        False  Велика Британія   \n",
       "2  640     1782  Велика Британія        False  Велика Британія   \n",
       "3  676     1782  Велика Британія        False  Велика Британія   \n",
       "4  687     1782  Велика Британія        False  Велика Британія   \n",
       "\n",
       "                       ground truth Remarks  \n",
       "0  ?? Great Britain, United Kingdom     NaN  \n",
       "1  ?? Great Britain, United Kingdom     NaN  \n",
       "2  ?? Great Britain, United Kingdom     NaN  \n",
       "3  ?? Great Britain, United Kingdom     NaN  \n",
       "4  ?? Great Britain, United Kingdom     NaN  "
      ]
     },
     "execution_count": 20,
     "metadata": {},
     "output_type": "execute_result"
    }
   ],
   "source": [
    "df_rl_with_all_parents.head()"
   ]
  },
  {
   "cell_type": "code",
   "execution_count": 22,
   "metadata": {},
   "outputs": [],
   "source": [
    "df_rl_with_all_parents_no_false_rl = \\\n",
    "df_rl_with_all_parents[df_rl_with_all_parents['is_red_link'].map(lambda x: x == True)]"
   ]
  },
  {
   "cell_type": "code",
   "execution_count": 24,
   "metadata": {},
   "outputs": [],
   "source": [
    "df_rl_with_all_parents = df_rl_with_all_parents_no_false_rl[['id', 'link_id', 'link_val']]"
   ]
  },
  {
   "cell_type": "code",
   "execution_count": 25,
   "metadata": {},
   "outputs": [
    {
     "data": {
      "text/html": [
       "<div>\n",
       "<style scoped>\n",
       "    .dataframe tbody tr th:only-of-type {\n",
       "        vertical-align: middle;\n",
       "    }\n",
       "\n",
       "    .dataframe tbody tr th {\n",
       "        vertical-align: top;\n",
       "    }\n",
       "\n",
       "    .dataframe thead th {\n",
       "        text-align: right;\n",
       "    }\n",
       "</style>\n",
       "<table border=\"1\" class=\"dataframe\">\n",
       "  <thead>\n",
       "    <tr style=\"text-align: right;\">\n",
       "      <th></th>\n",
       "      <th>id</th>\n",
       "      <th>link_id</th>\n",
       "      <th>link_val</th>\n",
       "    </tr>\n",
       "  </thead>\n",
       "  <tbody>\n",
       "    <tr>\n",
       "      <th>18168</th>\n",
       "      <td>625</td>\n",
       "      <td>-1</td>\n",
       "      <td>Каунт Бейсі</td>\n",
       "    </tr>\n",
       "    <tr>\n",
       "      <th>18169</th>\n",
       "      <td>36823</td>\n",
       "      <td>-1</td>\n",
       "      <td>Каунт Бейсі</td>\n",
       "    </tr>\n",
       "    <tr>\n",
       "      <th>18170</th>\n",
       "      <td>154226</td>\n",
       "      <td>-1</td>\n",
       "      <td>Каунт Бейсі</td>\n",
       "    </tr>\n",
       "    <tr>\n",
       "      <th>18171</th>\n",
       "      <td>159088</td>\n",
       "      <td>-1</td>\n",
       "      <td>Каунт Бейсі</td>\n",
       "    </tr>\n",
       "    <tr>\n",
       "      <th>18172</th>\n",
       "      <td>202525</td>\n",
       "      <td>-1</td>\n",
       "      <td>Каунт Бейсі</td>\n",
       "    </tr>\n",
       "  </tbody>\n",
       "</table>\n",
       "</div>"
      ],
      "text/plain": [
       "           id  link_id     link_val\n",
       "18168     625       -1  Каунт Бейсі\n",
       "18169   36823       -1  Каунт Бейсі\n",
       "18170  154226       -1  Каунт Бейсі\n",
       "18171  159088       -1  Каунт Бейсі\n",
       "18172  202525       -1  Каунт Бейсі"
      ]
     },
     "execution_count": 25,
     "metadata": {},
     "output_type": "execute_result"
    }
   ],
   "source": [
    "df_rl_with_all_parents.head()"
   ]
  },
  {
   "cell_type": "code",
   "execution_count": 26,
   "metadata": {},
   "outputs": [],
   "source": [
    "rl_with_concurrent = pd.merge(df_rl_with_all_parents, df_uk_pagelinks, how='left', left_on='id', right_on='id')"
   ]
  },
  {
   "cell_type": "code",
   "execution_count": 27,
   "metadata": {},
   "outputs": [
    {
     "data": {
      "text/html": [
       "<div>\n",
       "<style scoped>\n",
       "    .dataframe tbody tr th:only-of-type {\n",
       "        vertical-align: middle;\n",
       "    }\n",
       "\n",
       "    .dataframe tbody tr th {\n",
       "        vertical-align: top;\n",
       "    }\n",
       "\n",
       "    .dataframe thead th {\n",
       "        text-align: right;\n",
       "    }\n",
       "</style>\n",
       "<table border=\"1\" class=\"dataframe\">\n",
       "  <thead>\n",
       "    <tr style=\"text-align: right;\">\n",
       "      <th></th>\n",
       "      <th>id</th>\n",
       "      <th>link_id_x</th>\n",
       "      <th>link_val_x</th>\n",
       "      <th>link_id_y</th>\n",
       "      <th>link_val_y</th>\n",
       "      <th>is_red_link</th>\n",
       "    </tr>\n",
       "  </thead>\n",
       "  <tbody>\n",
       "    <tr>\n",
       "      <th>0</th>\n",
       "      <td>625</td>\n",
       "      <td>-1</td>\n",
       "      <td>Каунт Бейсі</td>\n",
       "      <td>1521</td>\n",
       "      <td>22 січня</td>\n",
       "      <td>False</td>\n",
       "    </tr>\n",
       "    <tr>\n",
       "      <th>1</th>\n",
       "      <td>625</td>\n",
       "      <td>-1</td>\n",
       "      <td>Каунт Бейсі</td>\n",
       "      <td>749695</td>\n",
       "      <td>Запорізька обласна універсальна наукова бібліо...</td>\n",
       "      <td>False</td>\n",
       "    </tr>\n",
       "    <tr>\n",
       "      <th>2</th>\n",
       "      <td>625</td>\n",
       "      <td>-1</td>\n",
       "      <td>Каунт Бейсі</td>\n",
       "      <td>1544</td>\n",
       "      <td>8 лютого</td>\n",
       "      <td>False</td>\n",
       "    </tr>\n",
       "    <tr>\n",
       "      <th>3</th>\n",
       "      <td>625</td>\n",
       "      <td>-1</td>\n",
       "      <td>Каунт Бейсі</td>\n",
       "      <td>26544</td>\n",
       "      <td>Російсько-японська війна</td>\n",
       "      <td>False</td>\n",
       "    </tr>\n",
       "    <tr>\n",
       "      <th>4</th>\n",
       "      <td>625</td>\n",
       "      <td>-1</td>\n",
       "      <td>Каунт Бейсі</td>\n",
       "      <td>1492428</td>\n",
       "      <td>Всесвітня виставка (1904)</td>\n",
       "      <td>False</td>\n",
       "    </tr>\n",
       "  </tbody>\n",
       "</table>\n",
       "</div>"
      ],
      "text/plain": [
       "    id  link_id_x   link_val_x  link_id_y  \\\n",
       "0  625         -1  Каунт Бейсі       1521   \n",
       "1  625         -1  Каунт Бейсі     749695   \n",
       "2  625         -1  Каунт Бейсі       1544   \n",
       "3  625         -1  Каунт Бейсі      26544   \n",
       "4  625         -1  Каунт Бейсі    1492428   \n",
       "\n",
       "                                          link_val_y  is_red_link  \n",
       "0                                           22 січня        False  \n",
       "1  Запорізька обласна універсальна наукова бібліо...        False  \n",
       "2                                           8 лютого        False  \n",
       "3                           Російсько-японська війна        False  \n",
       "4                          Всесвітня виставка (1904)        False  "
      ]
     },
     "execution_count": 27,
     "metadata": {},
     "output_type": "execute_result"
    }
   ],
   "source": [
    "rl_with_concurrent.head()"
   ]
  },
  {
   "cell_type": "code",
   "execution_count": 28,
   "metadata": {},
   "outputs": [],
   "source": [
    "rl_with_concurrent = rl_with_concurrent[['id', 'link_val_x', 'link_id_y', 'link_val_y']]\n",
    "rl_with_concurrent.columns = ['parent_id', 'red_link_name', 'concurrent_id', 'concurrent_name']"
   ]
  },
  {
   "cell_type": "code",
   "execution_count": 29,
   "metadata": {},
   "outputs": [],
   "source": [
    "rl_with_concurrent = rl_with_concurrent.drop_duplicates()"
   ]
  },
  {
   "cell_type": "code",
   "execution_count": 30,
   "metadata": {},
   "outputs": [
    {
     "data": {
      "text/plain": [
       "(73881533, 4)"
      ]
     },
     "execution_count": 30,
     "metadata": {},
     "output_type": "execute_result"
    }
   ],
   "source": [
    "rl_with_concurrent.shape"
   ]
  },
  {
   "cell_type": "code",
   "execution_count": 31,
   "metadata": {
    "scrolled": true
   },
   "outputs": [
    {
     "data": {
      "text/html": [
       "<div>\n",
       "<style scoped>\n",
       "    .dataframe tbody tr th:only-of-type {\n",
       "        vertical-align: middle;\n",
       "    }\n",
       "\n",
       "    .dataframe tbody tr th {\n",
       "        vertical-align: top;\n",
       "    }\n",
       "\n",
       "    .dataframe thead th {\n",
       "        text-align: right;\n",
       "    }\n",
       "</style>\n",
       "<table border=\"1\" class=\"dataframe\">\n",
       "  <thead>\n",
       "    <tr style=\"text-align: right;\">\n",
       "      <th></th>\n",
       "      <th>parent_id</th>\n",
       "      <th>red_link_name</th>\n",
       "      <th>concurrent_id</th>\n",
       "      <th>concurrent_name</th>\n",
       "    </tr>\n",
       "  </thead>\n",
       "  <tbody>\n",
       "    <tr>\n",
       "      <th>0</th>\n",
       "      <td>625</td>\n",
       "      <td>Каунт Бейсі</td>\n",
       "      <td>1521</td>\n",
       "      <td>22 січня</td>\n",
       "    </tr>\n",
       "    <tr>\n",
       "      <th>1</th>\n",
       "      <td>625</td>\n",
       "      <td>Каунт Бейсі</td>\n",
       "      <td>749695</td>\n",
       "      <td>Запорізька обласна універсальна наукова бібліо...</td>\n",
       "    </tr>\n",
       "    <tr>\n",
       "      <th>2</th>\n",
       "      <td>625</td>\n",
       "      <td>Каунт Бейсі</td>\n",
       "      <td>1544</td>\n",
       "      <td>8 лютого</td>\n",
       "    </tr>\n",
       "    <tr>\n",
       "      <th>3</th>\n",
       "      <td>625</td>\n",
       "      <td>Каунт Бейсі</td>\n",
       "      <td>26544</td>\n",
       "      <td>Російсько-японська війна</td>\n",
       "    </tr>\n",
       "    <tr>\n",
       "      <th>4</th>\n",
       "      <td>625</td>\n",
       "      <td>Каунт Бейсі</td>\n",
       "      <td>1492428</td>\n",
       "      <td>Всесвітня виставка (1904)</td>\n",
       "    </tr>\n",
       "  </tbody>\n",
       "</table>\n",
       "</div>"
      ],
      "text/plain": [
       "   parent_id red_link_name  concurrent_id  \\\n",
       "0        625   Каунт Бейсі           1521   \n",
       "1        625   Каунт Бейсі         749695   \n",
       "2        625   Каунт Бейсі           1544   \n",
       "3        625   Каунт Бейсі          26544   \n",
       "4        625   Каунт Бейсі        1492428   \n",
       "\n",
       "                                     concurrent_name  \n",
       "0                                           22 січня  \n",
       "1  Запорізька обласна універсальна наукова бібліо...  \n",
       "2                                           8 лютого  \n",
       "3                           Російсько-японська війна  \n",
       "4                          Всесвітня виставка (1904)  "
      ]
     },
     "execution_count": 31,
     "metadata": {},
     "output_type": "execute_result"
    }
   ],
   "source": [
    "rl_with_concurrent.head()"
   ]
  },
  {
   "cell_type": "code",
   "execution_count": 41,
   "metadata": {},
   "outputs": [],
   "source": [
    "langlinks_df = pd.read_csv(PATH_TO_DATA_EN+'translated_en_articles.csv', sep='^')"
   ]
  },
  {
   "cell_type": "code",
   "execution_count": 42,
   "metadata": {
    "scrolled": false
   },
   "outputs": [
    {
     "data": {
      "text/html": [
       "<div>\n",
       "<style scoped>\n",
       "    .dataframe tbody tr th:only-of-type {\n",
       "        vertical-align: middle;\n",
       "    }\n",
       "\n",
       "    .dataframe tbody tr th {\n",
       "        vertical-align: top;\n",
       "    }\n",
       "\n",
       "    .dataframe thead th {\n",
       "        text-align: right;\n",
       "    }\n",
       "</style>\n",
       "<table border=\"1\" class=\"dataframe\">\n",
       "  <thead>\n",
       "    <tr style=\"text-align: right;\">\n",
       "      <th></th>\n",
       "      <th>id</th>\n",
       "      <th>title</th>\n",
       "      <th>ll_from</th>\n",
       "    </tr>\n",
       "  </thead>\n",
       "  <tbody>\n",
       "    <tr>\n",
       "      <th>0</th>\n",
       "      <td>12</td>\n",
       "      <td>Anarchism</td>\n",
       "      <td>12101.0</td>\n",
       "    </tr>\n",
       "    <tr>\n",
       "      <th>1</th>\n",
       "      <td>25</td>\n",
       "      <td>Autism</td>\n",
       "      <td>37656.0</td>\n",
       "    </tr>\n",
       "    <tr>\n",
       "      <th>2</th>\n",
       "      <td>39</td>\n",
       "      <td>Albedo</td>\n",
       "      <td>10899.0</td>\n",
       "    </tr>\n",
       "    <tr>\n",
       "      <th>3</th>\n",
       "      <td>290</td>\n",
       "      <td>A</td>\n",
       "      <td>235422.0</td>\n",
       "    </tr>\n",
       "    <tr>\n",
       "      <th>4</th>\n",
       "      <td>303</td>\n",
       "      <td>Alabama</td>\n",
       "      <td>6320.0</td>\n",
       "    </tr>\n",
       "  </tbody>\n",
       "</table>\n",
       "</div>"
      ],
      "text/plain": [
       "    id      title   ll_from\n",
       "0   12  Anarchism   12101.0\n",
       "1   25     Autism   37656.0\n",
       "2   39     Albedo   10899.0\n",
       "3  290          A  235422.0\n",
       "4  303    Alabama    6320.0"
      ]
     },
     "execution_count": 42,
     "metadata": {},
     "output_type": "execute_result"
    }
   ],
   "source": [
    "langlinks_df.head()"
   ]
  },
  {
   "cell_type": "code",
   "execution_count": 43,
   "metadata": {},
   "outputs": [
    {
     "data": {
      "text/plain": [
       "(455740, 3)"
      ]
     },
     "execution_count": 43,
     "metadata": {},
     "output_type": "execute_result"
    }
   ],
   "source": [
    "langlinks_df.shape"
   ]
  },
  {
   "cell_type": "code",
   "execution_count": 63,
   "metadata": {},
   "outputs": [],
   "source": [
    "rl_with_concurrent_enwiki = pd.merge(rl_with_concurrent, langlinks_df, how='left', left_on='concurrent_id', right_on='ll_from')"
   ]
  },
  {
   "cell_type": "code",
   "execution_count": 64,
   "metadata": {},
   "outputs": [
    {
     "data": {
      "text/html": [
       "<div>\n",
       "<style scoped>\n",
       "    .dataframe tbody tr th:only-of-type {\n",
       "        vertical-align: middle;\n",
       "    }\n",
       "\n",
       "    .dataframe tbody tr th {\n",
       "        vertical-align: top;\n",
       "    }\n",
       "\n",
       "    .dataframe thead th {\n",
       "        text-align: right;\n",
       "    }\n",
       "</style>\n",
       "<table border=\"1\" class=\"dataframe\">\n",
       "  <thead>\n",
       "    <tr style=\"text-align: right;\">\n",
       "      <th></th>\n",
       "      <th>parent_id</th>\n",
       "      <th>red_link_name</th>\n",
       "      <th>concurrent_id</th>\n",
       "      <th>concurrent_name</th>\n",
       "      <th>id</th>\n",
       "      <th>title</th>\n",
       "      <th>ll_from</th>\n",
       "    </tr>\n",
       "  </thead>\n",
       "  <tbody>\n",
       "    <tr>\n",
       "      <th>0</th>\n",
       "      <td>625</td>\n",
       "      <td>Каунт Бейсі</td>\n",
       "      <td>1521</td>\n",
       "      <td>22 січня</td>\n",
       "      <td>15940.0</td>\n",
       "      <td>January 22</td>\n",
       "      <td>1521.0</td>\n",
       "    </tr>\n",
       "    <tr>\n",
       "      <th>1</th>\n",
       "      <td>625</td>\n",
       "      <td>Каунт Бейсі</td>\n",
       "      <td>749695</td>\n",
       "      <td>Запорізька обласна універсальна наукова бібліо...</td>\n",
       "      <td>27858444.0</td>\n",
       "      <td>Zaporizhia Region Universal Scientific Library</td>\n",
       "      <td>749695.0</td>\n",
       "    </tr>\n",
       "    <tr>\n",
       "      <th>2</th>\n",
       "      <td>625</td>\n",
       "      <td>Каунт Бейсі</td>\n",
       "      <td>1544</td>\n",
       "      <td>8 лютого</td>\n",
       "      <td>11360.0</td>\n",
       "      <td>February 8</td>\n",
       "      <td>1544.0</td>\n",
       "    </tr>\n",
       "    <tr>\n",
       "      <th>3</th>\n",
       "      <td>625</td>\n",
       "      <td>Каунт Бейсі</td>\n",
       "      <td>26544</td>\n",
       "      <td>Російсько-японська війна</td>\n",
       "      <td>44575.0</td>\n",
       "      <td>Russo-Japanese War</td>\n",
       "      <td>26544.0</td>\n",
       "    </tr>\n",
       "    <tr>\n",
       "      <th>4</th>\n",
       "      <td>625</td>\n",
       "      <td>Каунт Бейсі</td>\n",
       "      <td>1492428</td>\n",
       "      <td>Всесвітня виставка (1904)</td>\n",
       "      <td>50272.0</td>\n",
       "      <td>Louisiana Purchase Exposition</td>\n",
       "      <td>1492428.0</td>\n",
       "    </tr>\n",
       "  </tbody>\n",
       "</table>\n",
       "</div>"
      ],
      "text/plain": [
       "   parent_id red_link_name  concurrent_id  \\\n",
       "0        625   Каунт Бейсі           1521   \n",
       "1        625   Каунт Бейсі         749695   \n",
       "2        625   Каунт Бейсі           1544   \n",
       "3        625   Каунт Бейсі          26544   \n",
       "4        625   Каунт Бейсі        1492428   \n",
       "\n",
       "                                     concurrent_name          id  \\\n",
       "0                                           22 січня     15940.0   \n",
       "1  Запорізька обласна універсальна наукова бібліо...  27858444.0   \n",
       "2                                           8 лютого     11360.0   \n",
       "3                           Російсько-японська війна     44575.0   \n",
       "4                          Всесвітня виставка (1904)     50272.0   \n",
       "\n",
       "                                            title    ll_from  \n",
       "0                                      January 22     1521.0  \n",
       "1  Zaporizhia Region Universal Scientific Library   749695.0  \n",
       "2                                      February 8     1544.0  \n",
       "3                              Russo-Japanese War    26544.0  \n",
       "4                   Louisiana Purchase Exposition  1492428.0  "
      ]
     },
     "execution_count": 64,
     "metadata": {},
     "output_type": "execute_result"
    }
   ],
   "source": [
    "rl_with_concurrent_enwiki.head()"
   ]
  },
  {
   "cell_type": "code",
   "execution_count": 65,
   "metadata": {
    "scrolled": true
   },
   "outputs": [
    {
     "data": {
      "text/plain": [
       "(73881533, 7)"
      ]
     },
     "execution_count": 65,
     "metadata": {},
     "output_type": "execute_result"
    }
   ],
   "source": [
    "rl_with_concurrent_enwiki.shape"
   ]
  },
  {
   "cell_type": "code",
   "execution_count": 66,
   "metadata": {},
   "outputs": [],
   "source": [
    "# checking na values\n",
    "rl_with_concurrent_enwiki_na = rl_with_concurrent_enwiki[pd.isnull(rl_with_concurrent_enwiki['id'])]"
   ]
  },
  {
   "cell_type": "code",
   "execution_count": 68,
   "metadata": {},
   "outputs": [
    {
     "data": {
      "text/html": [
       "<div>\n",
       "<style scoped>\n",
       "    .dataframe tbody tr th:only-of-type {\n",
       "        vertical-align: middle;\n",
       "    }\n",
       "\n",
       "    .dataframe tbody tr th {\n",
       "        vertical-align: top;\n",
       "    }\n",
       "\n",
       "    .dataframe thead th {\n",
       "        text-align: right;\n",
       "    }\n",
       "</style>\n",
       "<table border=\"1\" class=\"dataframe\">\n",
       "  <thead>\n",
       "    <tr style=\"text-align: right;\">\n",
       "      <th></th>\n",
       "      <th>parent_id</th>\n",
       "      <th>red_link_name</th>\n",
       "      <th>concurrent_id</th>\n",
       "      <th>concurrent_name</th>\n",
       "      <th>id</th>\n",
       "      <th>title</th>\n",
       "      <th>ll_from</th>\n",
       "    </tr>\n",
       "  </thead>\n",
       "  <tbody>\n",
       "    <tr>\n",
       "      <th>9</th>\n",
       "      <td>625</td>\n",
       "      <td>Каунт Бейсі</td>\n",
       "      <td>229272</td>\n",
       "      <td>Бориславський страйк 1904</td>\n",
       "      <td>NaN</td>\n",
       "      <td>NaN</td>\n",
       "      <td>NaN</td>\n",
       "    </tr>\n",
       "    <tr>\n",
       "      <th>10</th>\n",
       "      <td>625</td>\n",
       "      <td>Каунт Бейсі</td>\n",
       "      <td>1276919</td>\n",
       "      <td>Катерининська залізниця</td>\n",
       "      <td>NaN</td>\n",
       "      <td>NaN</td>\n",
       "      <td>NaN</td>\n",
       "    </tr>\n",
       "    <tr>\n",
       "      <th>13</th>\n",
       "      <td>625</td>\n",
       "      <td>Каунт Бейсі</td>\n",
       "      <td>1272770</td>\n",
       "      <td>Комиш-Зоря (станція)</td>\n",
       "      <td>NaN</td>\n",
       "      <td>NaN</td>\n",
       "      <td>NaN</td>\n",
       "    </tr>\n",
       "    <tr>\n",
       "      <th>21</th>\n",
       "      <td>625</td>\n",
       "      <td>Каунт Бейсі</td>\n",
       "      <td>-1</td>\n",
       "      <td>Йосіно (крейсер)</td>\n",
       "      <td>NaN</td>\n",
       "      <td>NaN</td>\n",
       "      <td>NaN</td>\n",
       "    </tr>\n",
       "    <tr>\n",
       "      <th>22</th>\n",
       "      <td>625</td>\n",
       "      <td>Каунт Бейсі</td>\n",
       "      <td>-1</td>\n",
       "      <td>Касуґа (крейсер)</td>\n",
       "      <td>NaN</td>\n",
       "      <td>NaN</td>\n",
       "      <td>NaN</td>\n",
       "    </tr>\n",
       "  </tbody>\n",
       "</table>\n",
       "</div>"
      ],
      "text/plain": [
       "    parent_id red_link_name  concurrent_id            concurrent_name  id  \\\n",
       "9         625   Каунт Бейсі         229272  Бориславський страйк 1904 NaN   \n",
       "10        625   Каунт Бейсі        1276919    Катерининська залізниця NaN   \n",
       "13        625   Каунт Бейсі        1272770       Комиш-Зоря (станція) NaN   \n",
       "21        625   Каунт Бейсі             -1           Йосіно (крейсер) NaN   \n",
       "22        625   Каунт Бейсі             -1           Касуґа (крейсер) NaN   \n",
       "\n",
       "   title  ll_from  \n",
       "9    NaN      NaN  \n",
       "10   NaN      NaN  \n",
       "13   NaN      NaN  \n",
       "21   NaN      NaN  \n",
       "22   NaN      NaN  "
      ]
     },
     "execution_count": 68,
     "metadata": {},
     "output_type": "execute_result"
    }
   ],
   "source": [
    "rl_with_concurrent_enwiki_na.head()\n",
    "# the most of seen is correst but still bugs occur"
   ]
  },
  {
   "cell_type": "code",
   "execution_count": null,
   "metadata": {},
   "outputs": [],
   "source": []
  },
  {
   "cell_type": "code",
   "execution_count": 55,
   "metadata": {},
   "outputs": [],
   "source": [
    "rl_with_concurrent_enwiki_name_id = rl_with_concurrent_enwiki[['red_link_name', 'id']]\n",
    "rl_with_concurrent_enwiki_name_id.columns = ['red_link_name', 'enwiki_id']"
   ]
  },
  {
   "cell_type": "code",
   "execution_count": 57,
   "metadata": {},
   "outputs": [],
   "source": [
    "rl_with_concurrent_enwiki_clean = rl_with_concurrent_enwiki[pd.notna(rl_with_concurrent_enwiki['enwiki_id'])]"
   ]
  },
  {
   "cell_type": "code",
   "execution_count": 58,
   "metadata": {},
   "outputs": [
    {
     "data": {
      "text/html": [
       "<div>\n",
       "<style scoped>\n",
       "    .dataframe tbody tr th:only-of-type {\n",
       "        vertical-align: middle;\n",
       "    }\n",
       "\n",
       "    .dataframe tbody tr th {\n",
       "        vertical-align: top;\n",
       "    }\n",
       "\n",
       "    .dataframe thead th {\n",
       "        text-align: right;\n",
       "    }\n",
       "</style>\n",
       "<table border=\"1\" class=\"dataframe\">\n",
       "  <thead>\n",
       "    <tr style=\"text-align: right;\">\n",
       "      <th></th>\n",
       "      <th>red_link_name</th>\n",
       "      <th>enwiki_id</th>\n",
       "    </tr>\n",
       "  </thead>\n",
       "  <tbody>\n",
       "    <tr>\n",
       "      <th>0</th>\n",
       "      <td>Каунт Бейсі</td>\n",
       "      <td>15940.0</td>\n",
       "    </tr>\n",
       "    <tr>\n",
       "      <th>1</th>\n",
       "      <td>Каунт Бейсі</td>\n",
       "      <td>27858444.0</td>\n",
       "    </tr>\n",
       "    <tr>\n",
       "      <th>2</th>\n",
       "      <td>Каунт Бейсі</td>\n",
       "      <td>11360.0</td>\n",
       "    </tr>\n",
       "    <tr>\n",
       "      <th>3</th>\n",
       "      <td>Каунт Бейсі</td>\n",
       "      <td>44575.0</td>\n",
       "    </tr>\n",
       "    <tr>\n",
       "      <th>4</th>\n",
       "      <td>Каунт Бейсі</td>\n",
       "      <td>50272.0</td>\n",
       "    </tr>\n",
       "  </tbody>\n",
       "</table>\n",
       "</div>"
      ],
      "text/plain": [
       "  red_link_name   enwiki_id\n",
       "0   Каунт Бейсі     15940.0\n",
       "1   Каунт Бейсі  27858444.0\n",
       "2   Каунт Бейсі     11360.0\n",
       "3   Каунт Бейсі     44575.0\n",
       "4   Каунт Бейсі     50272.0"
      ]
     },
     "execution_count": 58,
     "metadata": {},
     "output_type": "execute_result"
    }
   ],
   "source": [
    "rl_with_concurrent_enwiki_clean.head()"
   ]
  },
  {
   "cell_type": "code",
   "execution_count": 59,
   "metadata": {},
   "outputs": [
    {
     "data": {
      "text/plain": [
       "(7771910, 2)"
      ]
     },
     "execution_count": 59,
     "metadata": {},
     "output_type": "execute_result"
    }
   ],
   "source": [
    "rl_with_concurrent_enwiki_clean.shape\n",
    "# this number means that we have dropped 66 109 623 of not existing ukrainian pages in en wiki ??"
   ]
  },
  {
   "cell_type": "code",
   "execution_count": 61,
   "metadata": {},
   "outputs": [],
   "source": [
    "rl_with_concurrent_enwiki_clean"
   ]
  },
  {
   "cell_type": "code",
   "execution_count": null,
   "metadata": {},
   "outputs": [],
   "source": []
  },
  {
   "cell_type": "markdown",
   "metadata": {},
   "source": [
    "## Merge with Wikidata ID"
   ]
  },
  {
   "cell_type": "code",
   "execution_count": 25,
   "metadata": {},
   "outputs": [],
   "source": [
    "ukwikidata = pd.read_csv(PATH_TO_WIKIDATA+'ukwikidata.csv')\n",
    "\n",
    "rl_with_concurrent['concurrent_name'] = rl_with_concurrent['concurrent_name'].str.strip()\n",
    "ukwikidata['ips_site_page'] = ukwikidata['ips_site_page'].str.strip()\n",
    "\n",
    "rl_with_concurrent['concurrent_name'] = rl_with_concurrent['concurrent_name'].str.lower()\n",
    "ukwikidata['ips_site_page'] = ukwikidata['ips_site_page'].str.lower()\n",
    "\n",
    "rl_with_concurrent['concurrent_name'] = rl_with_concurrent['concurrent_name'].str.replace('  ', ' ')\n",
    "ukwikidata['ips_site_page'] = ukwikidata['ips_site_page'].str.replace('  ', ' ')\n",
    "\n",
    "concurrent_with_wikidata = pd.merge(rl_with_concurrent, ukwikidata, how='left', left_on='concurrent_name', right_on='ips_site_page')\n",
    "\n",
    "concurrent_with_wikidata"
   ]
  },
  {
   "cell_type": "code",
   "execution_count": 32,
   "metadata": {},
   "outputs": [],
   "source": [
    "uk_concurrent_links_dict = {k: v['ips_item_id'].tolist() for k,v in concurrent_with_wikidata.groupby('red_link_name')}"
   ]
  },
  {
   "cell_type": "code",
   "execution_count": 33,
   "metadata": {},
   "outputs": [],
   "source": [
    "uk_concurrent_links_str_dict = {k: v['concurrent_name'].tolist() for k,v in concurrent_with_wikidata.groupby('red_link_name')}"
   ]
  },
  {
   "cell_type": "code",
   "execution_count": null,
   "metadata": {},
   "outputs": [],
   "source": []
  },
  {
   "cell_type": "code",
   "execution_count": 41,
   "metadata": {},
   "outputs": [],
   "source": [
    "concurrent_with_wikidata.to_csv(PATH_TO_DATA_RL+'concurrent_links_with_wikidataID.csv')"
   ]
  },
  {
   "cell_type": "code",
   "execution_count": null,
   "metadata": {
    "collapsed": true
   },
   "outputs": [],
   "source": []
  }
 ],
 "metadata": {
  "kernelspec": {
   "display_name": "Python 3",
   "language": "python",
   "name": "python3"
  },
  "language_info": {
   "codemirror_mode": {
    "name": "ipython",
    "version": 3
   },
   "file_extension": ".py",
   "mimetype": "text/x-python",
   "name": "python",
   "nbconvert_exporter": "python",
   "pygments_lexer": "ipython3",
   "version": "3.6.7"
  }
 },
 "nbformat": 4,
 "nbformat_minor": 2
}
