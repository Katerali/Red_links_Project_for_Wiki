{
 "cells": [
  {
   "cell_type": "code",
   "execution_count": 1,
   "metadata": {},
   "outputs": [],
   "source": [
    "import pandas as pd\n",
    "import pickle\n",
    "import time\n",
    "import os\n",
    "import re\n",
    "import numpy as np\n",
    "\n",
    "import matplotlib.pyplot as plt\n",
    "%matplotlib inline"
   ]
  },
  {
   "cell_type": "code",
   "execution_count": 2,
   "metadata": {},
   "outputs": [],
   "source": [
    "import sys\n",
    "sys.path.insert(0, '/media/andrii/earth/Katia/CS_MasterThesis/Red_links_Project_for_Wiki_draft/py')\n",
    "import functions"
   ]
  },
  {
   "cell_type": "code",
   "execution_count": 3,
   "metadata": {},
   "outputs": [],
   "source": [
    "PATH_TO_DATA_RL = '/media/andrii/earth/Katia/CS_MasterThesis/data/ukwiki/uk_red_links/'"
   ]
  },
  {
   "cell_type": "code",
   "execution_count": 4,
   "metadata": {},
   "outputs": [],
   "source": [
    "candidate_pairs = pd.read_csv(PATH_TO_DATA_RL+'red_links_uk_with_features.csv', sep='^')"
   ]
  },
  {
   "cell_type": "code",
   "execution_count": 5,
   "metadata": {},
   "outputs": [
    {
     "data": {
      "text/html": [
       "<div>\n",
       "<style scoped>\n",
       "    .dataframe tbody tr th:only-of-type {\n",
       "        vertical-align: middle;\n",
       "    }\n",
       "\n",
       "    .dataframe tbody tr th {\n",
       "        vertical-align: top;\n",
       "    }\n",
       "\n",
       "    .dataframe thead th {\n",
       "        text-align: right;\n",
       "    }\n",
       "</style>\n",
       "<table border=\"1\" class=\"dataframe\">\n",
       "  <thead>\n",
       "    <tr style=\"text-align: right;\">\n",
       "      <th></th>\n",
       "      <th>pair_unique_id</th>\n",
       "      <th>red_link_name</th>\n",
       "      <th>candidate</th>\n",
       "      <th>true_label</th>\n",
       "      <th>BN_results</th>\n",
       "      <th>jaccard_score</th>\n",
       "      <th>levenstein_score</th>\n",
       "      <th>concur_score</th>\n",
       "    </tr>\n",
       "  </thead>\n",
       "  <tbody>\n",
       "    <tr>\n",
       "      <th>0</th>\n",
       "      <td>0</td>\n",
       "      <td>Pachetra sagittigera</td>\n",
       "      <td>Phytometra viridaria</td>\n",
       "      <td>False</td>\n",
       "      <td>0</td>\n",
       "      <td>0.081</td>\n",
       "      <td>0.650</td>\n",
       "      <td>0.03060</td>\n",
       "    </tr>\n",
       "    <tr>\n",
       "      <th>1</th>\n",
       "      <td>1</td>\n",
       "      <td>Pachetra sagittigera</td>\n",
       "      <td>Conistra rubiginea</td>\n",
       "      <td>False</td>\n",
       "      <td>0</td>\n",
       "      <td>0.076</td>\n",
       "      <td>0.600</td>\n",
       "      <td>0.03053</td>\n",
       "    </tr>\n",
       "    <tr>\n",
       "      <th>2</th>\n",
       "      <td>2</td>\n",
       "      <td>Pachetra sagittigera</td>\n",
       "      <td>Tholera decimalis</td>\n",
       "      <td>False</td>\n",
       "      <td>0</td>\n",
       "      <td>0.068</td>\n",
       "      <td>0.750</td>\n",
       "      <td>0.03026</td>\n",
       "    </tr>\n",
       "    <tr>\n",
       "      <th>3</th>\n",
       "      <td>3</td>\n",
       "      <td>Pachetra sagittigera</td>\n",
       "      <td>Pachetra sagittigera</td>\n",
       "      <td>True</td>\n",
       "      <td>0</td>\n",
       "      <td>0.066</td>\n",
       "      <td>0.000</td>\n",
       "      <td>0.03271</td>\n",
       "    </tr>\n",
       "    <tr>\n",
       "      <th>4</th>\n",
       "      <td>4</td>\n",
       "      <td>Pachetra sagittigera</td>\n",
       "      <td>Hoplodrina octogenaria</td>\n",
       "      <td>False</td>\n",
       "      <td>0</td>\n",
       "      <td>0.066</td>\n",
       "      <td>0.727</td>\n",
       "      <td>0.03297</td>\n",
       "    </tr>\n",
       "  </tbody>\n",
       "</table>\n",
       "</div>"
      ],
      "text/plain": [
       "   pair_unique_id         red_link_name               candidate  true_label  \\\n",
       "0               0  Pachetra sagittigera    Phytometra viridaria       False   \n",
       "1               1  Pachetra sagittigera      Conistra rubiginea       False   \n",
       "2               2  Pachetra sagittigera       Tholera decimalis       False   \n",
       "3               3  Pachetra sagittigera    Pachetra sagittigera        True   \n",
       "4               4  Pachetra sagittigera  Hoplodrina octogenaria       False   \n",
       "\n",
       "   BN_results  jaccard_score  levenstein_score  concur_score  \n",
       "0           0          0.081             0.650       0.03060  \n",
       "1           0          0.076             0.600       0.03053  \n",
       "2           0          0.068             0.750       0.03026  \n",
       "3           0          0.066             0.000       0.03271  \n",
       "4           0          0.066             0.727       0.03297  "
      ]
     },
     "execution_count": 5,
     "metadata": {},
     "output_type": "execute_result"
    }
   ],
   "source": [
    "candidate_pairs.head()"
   ]
  },
  {
   "cell_type": "code",
   "execution_count": 25,
   "metadata": {},
   "outputs": [
    {
     "data": {
      "text/html": [
       "<div>\n",
       "<style scoped>\n",
       "    .dataframe tbody tr th:only-of-type {\n",
       "        vertical-align: middle;\n",
       "    }\n",
       "\n",
       "    .dataframe tbody tr th {\n",
       "        vertical-align: top;\n",
       "    }\n",
       "\n",
       "    .dataframe thead th {\n",
       "        text-align: right;\n",
       "    }\n",
       "</style>\n",
       "<table border=\"1\" class=\"dataframe\">\n",
       "  <thead>\n",
       "    <tr style=\"text-align: right;\">\n",
       "      <th></th>\n",
       "      <th>pair_unique_id</th>\n",
       "      <th>red_link_name</th>\n",
       "      <th>candidate</th>\n",
       "      <th>true_label</th>\n",
       "      <th>BN_results</th>\n",
       "      <th>jaccard_score</th>\n",
       "      <th>levenstein_score</th>\n",
       "      <th>concur_score</th>\n",
       "    </tr>\n",
       "  </thead>\n",
       "  <tbody>\n",
       "    <tr>\n",
       "      <th>0</th>\n",
       "      <td>0</td>\n",
       "      <td>Pachetra sagittigera</td>\n",
       "      <td>Phytometra viridaria</td>\n",
       "      <td>False</td>\n",
       "      <td>0</td>\n",
       "      <td>0.081</td>\n",
       "      <td>0.650</td>\n",
       "      <td>0.03060</td>\n",
       "    </tr>\n",
       "    <tr>\n",
       "      <th>1</th>\n",
       "      <td>1</td>\n",
       "      <td>Pachetra sagittigera</td>\n",
       "      <td>Conistra rubiginea</td>\n",
       "      <td>False</td>\n",
       "      <td>0</td>\n",
       "      <td>0.076</td>\n",
       "      <td>0.600</td>\n",
       "      <td>0.03053</td>\n",
       "    </tr>\n",
       "    <tr>\n",
       "      <th>2</th>\n",
       "      <td>2</td>\n",
       "      <td>Pachetra sagittigera</td>\n",
       "      <td>Tholera decimalis</td>\n",
       "      <td>False</td>\n",
       "      <td>0</td>\n",
       "      <td>0.068</td>\n",
       "      <td>0.750</td>\n",
       "      <td>0.03026</td>\n",
       "    </tr>\n",
       "    <tr>\n",
       "      <th>3</th>\n",
       "      <td>3</td>\n",
       "      <td>Pachetra sagittigera</td>\n",
       "      <td>Pachetra sagittigera</td>\n",
       "      <td>True</td>\n",
       "      <td>0</td>\n",
       "      <td>0.066</td>\n",
       "      <td>0.000</td>\n",
       "      <td>0.03271</td>\n",
       "    </tr>\n",
       "    <tr>\n",
       "      <th>4</th>\n",
       "      <td>4</td>\n",
       "      <td>Pachetra sagittigera</td>\n",
       "      <td>Hoplodrina octogenaria</td>\n",
       "      <td>False</td>\n",
       "      <td>0</td>\n",
       "      <td>0.066</td>\n",
       "      <td>0.727</td>\n",
       "      <td>0.03297</td>\n",
       "    </tr>\n",
       "    <tr>\n",
       "      <th>5</th>\n",
       "      <td>5</td>\n",
       "      <td>Pachetra sagittigera</td>\n",
       "      <td>Tiliacea aurago</td>\n",
       "      <td>False</td>\n",
       "      <td>0</td>\n",
       "      <td>0.065</td>\n",
       "      <td>0.800</td>\n",
       "      <td>0.03155</td>\n",
       "    </tr>\n",
       "    <tr>\n",
       "      <th>6</th>\n",
       "      <td>6</td>\n",
       "      <td>Pachetra sagittigera</td>\n",
       "      <td>Apamea illyria</td>\n",
       "      <td>False</td>\n",
       "      <td>0</td>\n",
       "      <td>0.063</td>\n",
       "      <td>0.750</td>\n",
       "      <td>0.03033</td>\n",
       "    </tr>\n",
       "    <tr>\n",
       "      <th>7</th>\n",
       "      <td>7</td>\n",
       "      <td>Pachetra sagittigera</td>\n",
       "      <td>Apamea lithoxylaea</td>\n",
       "      <td>False</td>\n",
       "      <td>0</td>\n",
       "      <td>0.063</td>\n",
       "      <td>0.800</td>\n",
       "      <td>0.03323</td>\n",
       "    </tr>\n",
       "    <tr>\n",
       "      <th>8</th>\n",
       "      <td>8</td>\n",
       "      <td>Pachetra sagittigera</td>\n",
       "      <td>Apamea lateritia</td>\n",
       "      <td>False</td>\n",
       "      <td>0</td>\n",
       "      <td>0.063</td>\n",
       "      <td>0.700</td>\n",
       "      <td>0.02899</td>\n",
       "    </tr>\n",
       "    <tr>\n",
       "      <th>9</th>\n",
       "      <td>9</td>\n",
       "      <td>Pachetra sagittigera</td>\n",
       "      <td>Actinotia polyodon</td>\n",
       "      <td>False</td>\n",
       "      <td>0</td>\n",
       "      <td>0.062</td>\n",
       "      <td>0.900</td>\n",
       "      <td>0.02929</td>\n",
       "    </tr>\n",
       "    <tr>\n",
       "      <th>10</th>\n",
       "      <td>10</td>\n",
       "      <td>Pachetra sagittigera</td>\n",
       "      <td>Acronicta euphorbiae</td>\n",
       "      <td>False</td>\n",
       "      <td>0</td>\n",
       "      <td>0.061</td>\n",
       "      <td>0.900</td>\n",
       "      <td>0.03313</td>\n",
       "    </tr>\n",
       "    <tr>\n",
       "      <th>11</th>\n",
       "      <td>11</td>\n",
       "      <td>Pachetra sagittigera</td>\n",
       "      <td>Cerastis rubricosa</td>\n",
       "      <td>False</td>\n",
       "      <td>0</td>\n",
       "      <td>0.059</td>\n",
       "      <td>0.800</td>\n",
       "      <td>0.03123</td>\n",
       "    </tr>\n",
       "    <tr>\n",
       "      <th>12</th>\n",
       "      <td>12</td>\n",
       "      <td>Pachetra sagittigera</td>\n",
       "      <td>Callistege mi</td>\n",
       "      <td>False</td>\n",
       "      <td>0</td>\n",
       "      <td>0.051</td>\n",
       "      <td>0.800</td>\n",
       "      <td>0.03038</td>\n",
       "    </tr>\n",
       "    <tr>\n",
       "      <th>13</th>\n",
       "      <td>13</td>\n",
       "      <td>Pachetra sagittigera</td>\n",
       "      <td>Xestia baja</td>\n",
       "      <td>False</td>\n",
       "      <td>0</td>\n",
       "      <td>0.051</td>\n",
       "      <td>0.750</td>\n",
       "      <td>0.03195</td>\n",
       "    </tr>\n",
       "    <tr>\n",
       "      <th>14</th>\n",
       "      <td>14</td>\n",
       "      <td>Pachetra sagittigera</td>\n",
       "      <td>Pseudoips prasinana</td>\n",
       "      <td>False</td>\n",
       "      <td>0</td>\n",
       "      <td>0.051</td>\n",
       "      <td>0.800</td>\n",
       "      <td>0.02778</td>\n",
       "    </tr>\n",
       "    <tr>\n",
       "      <th>15</th>\n",
       "      <td>15</td>\n",
       "      <td>Pachetra sagittigera</td>\n",
       "      <td>Laspeyria flexula</td>\n",
       "      <td>False</td>\n",
       "      <td>0</td>\n",
       "      <td>0.050</td>\n",
       "      <td>0.750</td>\n",
       "      <td>0.02742</td>\n",
       "    </tr>\n",
       "    <tr>\n",
       "      <th>16</th>\n",
       "      <td>16</td>\n",
       "      <td>Pachetra sagittigera</td>\n",
       "      <td>Lacanobia w-latinum</td>\n",
       "      <td>False</td>\n",
       "      <td>0</td>\n",
       "      <td>0.050</td>\n",
       "      <td>0.750</td>\n",
       "      <td>0.03011</td>\n",
       "    </tr>\n",
       "    <tr>\n",
       "      <th>17</th>\n",
       "      <td>17</td>\n",
       "      <td>Pachetra sagittigera</td>\n",
       "      <td>Fissipunctia ypsillon</td>\n",
       "      <td>False</td>\n",
       "      <td>0</td>\n",
       "      <td>0.049</td>\n",
       "      <td>0.905</td>\n",
       "      <td>0.03051</td>\n",
       "    </tr>\n",
       "    <tr>\n",
       "      <th>18</th>\n",
       "      <td>18</td>\n",
       "      <td>Pachetra sagittigera</td>\n",
       "      <td>Conistra vaccinii</td>\n",
       "      <td>False</td>\n",
       "      <td>0</td>\n",
       "      <td>0.049</td>\n",
       "      <td>0.700</td>\n",
       "      <td>0.02874</td>\n",
       "    </tr>\n",
       "    <tr>\n",
       "      <th>19</th>\n",
       "      <td>19</td>\n",
       "      <td>Pachetra sagittigera</td>\n",
       "      <td>Apamea sublustris</td>\n",
       "      <td>False</td>\n",
       "      <td>0</td>\n",
       "      <td>0.049</td>\n",
       "      <td>0.800</td>\n",
       "      <td>0.03494</td>\n",
       "    </tr>\n",
       "    <tr>\n",
       "      <th>20</th>\n",
       "      <td>20</td>\n",
       "      <td>Pachetra sagittigera</td>\n",
       "      <td>Rusina ferruginea</td>\n",
       "      <td>False</td>\n",
       "      <td>0</td>\n",
       "      <td>0.048</td>\n",
       "      <td>0.750</td>\n",
       "      <td>0.03250</td>\n",
       "    </tr>\n",
       "    <tr>\n",
       "      <th>21</th>\n",
       "      <td>21</td>\n",
       "      <td>Pachetra sagittigera</td>\n",
       "      <td>Mniotype adusta</td>\n",
       "      <td>False</td>\n",
       "      <td>0</td>\n",
       "      <td>0.048</td>\n",
       "      <td>0.800</td>\n",
       "      <td>0.03022</td>\n",
       "    </tr>\n",
       "    <tr>\n",
       "      <th>22</th>\n",
       "      <td>22</td>\n",
       "      <td>Pachetra sagittigera</td>\n",
       "      <td>Hoplodrina blanda</td>\n",
       "      <td>False</td>\n",
       "      <td>0</td>\n",
       "      <td>0.048</td>\n",
       "      <td>0.850</td>\n",
       "      <td>0.02961</td>\n",
       "    </tr>\n",
       "    <tr>\n",
       "      <th>23</th>\n",
       "      <td>23</td>\n",
       "      <td>Pachetra sagittigera</td>\n",
       "      <td>Lasionycta proxima</td>\n",
       "      <td>False</td>\n",
       "      <td>0</td>\n",
       "      <td>0.047</td>\n",
       "      <td>0.850</td>\n",
       "      <td>0.03009</td>\n",
       "    </tr>\n",
       "    <tr>\n",
       "      <th>24</th>\n",
       "      <td>24</td>\n",
       "      <td>Pachetra sagittigera</td>\n",
       "      <td>Spaelotis ravida</td>\n",
       "      <td>False</td>\n",
       "      <td>0</td>\n",
       "      <td>0.046</td>\n",
       "      <td>0.750</td>\n",
       "      <td>0.02911</td>\n",
       "    </tr>\n",
       "    <tr>\n",
       "      <th>25</th>\n",
       "      <td>25</td>\n",
       "      <td>Pachetra sagittigera</td>\n",
       "      <td>Rhodostrophia vibicaria</td>\n",
       "      <td>False</td>\n",
       "      <td>0</td>\n",
       "      <td>0.046</td>\n",
       "      <td>0.739</td>\n",
       "      <td>0.02796</td>\n",
       "    </tr>\n",
       "    <tr>\n",
       "      <th>26</th>\n",
       "      <td>26</td>\n",
       "      <td>Pachetra sagittigera</td>\n",
       "      <td>Peridea anceps</td>\n",
       "      <td>False</td>\n",
       "      <td>0</td>\n",
       "      <td>0.045</td>\n",
       "      <td>0.750</td>\n",
       "      <td>0.03040</td>\n",
       "    </tr>\n",
       "    <tr>\n",
       "      <th>27</th>\n",
       "      <td>27</td>\n",
       "      <td>Pachetra sagittigera</td>\n",
       "      <td>Hypena rostralis</td>\n",
       "      <td>False</td>\n",
       "      <td>0</td>\n",
       "      <td>0.043</td>\n",
       "      <td>0.800</td>\n",
       "      <td>0.02809</td>\n",
       "    </tr>\n",
       "    <tr>\n",
       "      <th>28</th>\n",
       "      <td>28</td>\n",
       "      <td>Pachetra sagittigera</td>\n",
       "      <td>Eremobia ochroleuca</td>\n",
       "      <td>False</td>\n",
       "      <td>0</td>\n",
       "      <td>0.041</td>\n",
       "      <td>0.850</td>\n",
       "      <td>0.02831</td>\n",
       "    </tr>\n",
       "    <tr>\n",
       "      <th>29</th>\n",
       "      <td>29</td>\n",
       "      <td>Pachetra sagittigera</td>\n",
       "      <td>Apamea furva</td>\n",
       "      <td>False</td>\n",
       "      <td>0</td>\n",
       "      <td>0.038</td>\n",
       "      <td>0.800</td>\n",
       "      <td>0.03294</td>\n",
       "    </tr>\n",
       "    <tr>\n",
       "      <th>30</th>\n",
       "      <td>30</td>\n",
       "      <td>Pachetra sagittigera</td>\n",
       "      <td>Agrotis cinerea</td>\n",
       "      <td>False</td>\n",
       "      <td>0</td>\n",
       "      <td>0.036</td>\n",
       "      <td>0.750</td>\n",
       "      <td>0.03202</td>\n",
       "    </tr>\n",
       "    <tr>\n",
       "      <th>31</th>\n",
       "      <td>31</td>\n",
       "      <td>Pachetra sagittigera</td>\n",
       "      <td>Xanthorhoe spadicearia</td>\n",
       "      <td>False</td>\n",
       "      <td>0</td>\n",
       "      <td>0.034</td>\n",
       "      <td>0.727</td>\n",
       "      <td>0.03139</td>\n",
       "    </tr>\n",
       "    <tr>\n",
       "      <th>32</th>\n",
       "      <td>32</td>\n",
       "      <td>Pachetra sagittigera</td>\n",
       "      <td>Sideridis reticulata</td>\n",
       "      <td>False</td>\n",
       "      <td>0</td>\n",
       "      <td>0.033</td>\n",
       "      <td>0.850</td>\n",
       "      <td>0.03006</td>\n",
       "    </tr>\n",
       "    <tr>\n",
       "      <th>33</th>\n",
       "      <td>33</td>\n",
       "      <td>Pachetra sagittigera</td>\n",
       "      <td>Odezia atrata</td>\n",
       "      <td>False</td>\n",
       "      <td>0</td>\n",
       "      <td>0.033</td>\n",
       "      <td>0.700</td>\n",
       "      <td>0.03024</td>\n",
       "    </tr>\n",
       "    <tr>\n",
       "      <th>34</th>\n",
       "      <td>34</td>\n",
       "      <td>Pachetra sagittigera</td>\n",
       "      <td>Mesoligia furuncula</td>\n",
       "      <td>False</td>\n",
       "      <td>0</td>\n",
       "      <td>0.032</td>\n",
       "      <td>0.900</td>\n",
       "      <td>0.03052</td>\n",
       "    </tr>\n",
       "    <tr>\n",
       "      <th>35</th>\n",
       "      <td>35</td>\n",
       "      <td>Pachetra sagittigera</td>\n",
       "      <td>Macdunnoughia confusa</td>\n",
       "      <td>False</td>\n",
       "      <td>0</td>\n",
       "      <td>0.032</td>\n",
       "      <td>0.857</td>\n",
       "      <td>0.02900</td>\n",
       "    </tr>\n",
       "    <tr>\n",
       "      <th>36</th>\n",
       "      <td>36</td>\n",
       "      <td>Pachetra sagittigera</td>\n",
       "      <td>Euxoa obelisca</td>\n",
       "      <td>False</td>\n",
       "      <td>0</td>\n",
       "      <td>0.032</td>\n",
       "      <td>0.800</td>\n",
       "      <td>0.03124</td>\n",
       "    </tr>\n",
       "    <tr>\n",
       "      <th>37</th>\n",
       "      <td>37</td>\n",
       "      <td>Pachetra sagittigera</td>\n",
       "      <td>Burnet companion moth</td>\n",
       "      <td>False</td>\n",
       "      <td>0</td>\n",
       "      <td>0.032</td>\n",
       "      <td>0.810</td>\n",
       "      <td>0.02986</td>\n",
       "    </tr>\n",
       "    <tr>\n",
       "      <th>38</th>\n",
       "      <td>38</td>\n",
       "      <td>Pachetra sagittigera</td>\n",
       "      <td>Oligia latruncula</td>\n",
       "      <td>False</td>\n",
       "      <td>0</td>\n",
       "      <td>0.032</td>\n",
       "      <td>0.800</td>\n",
       "      <td>0.02337</td>\n",
       "    </tr>\n",
       "    <tr>\n",
       "      <th>39</th>\n",
       "      <td>39</td>\n",
       "      <td>Pachetra sagittigera</td>\n",
       "      <td>Mesapamea secalis</td>\n",
       "      <td>False</td>\n",
       "      <td>0</td>\n",
       "      <td>0.032</td>\n",
       "      <td>0.850</td>\n",
       "      <td>0.02912</td>\n",
       "    </tr>\n",
       "    <tr>\n",
       "      <th>40</th>\n",
       "      <td>40</td>\n",
       "      <td>Pachetra sagittigera</td>\n",
       "      <td>Abrostola triplasia</td>\n",
       "      <td>False</td>\n",
       "      <td>0</td>\n",
       "      <td>0.031</td>\n",
       "      <td>0.800</td>\n",
       "      <td>0.02987</td>\n",
       "    </tr>\n",
       "    <tr>\n",
       "      <th>41</th>\n",
       "      <td>41</td>\n",
       "      <td>Pachetra sagittigera</td>\n",
       "      <td>Orthosia populeti</td>\n",
       "      <td>False</td>\n",
       "      <td>0</td>\n",
       "      <td>0.031</td>\n",
       "      <td>0.800</td>\n",
       "      <td>0.03169</td>\n",
       "    </tr>\n",
       "    <tr>\n",
       "      <th>42</th>\n",
       "      <td>42</td>\n",
       "      <td>Pachetra sagittigera</td>\n",
       "      <td>Lygephila viciae</td>\n",
       "      <td>False</td>\n",
       "      <td>0</td>\n",
       "      <td>0.031</td>\n",
       "      <td>0.800</td>\n",
       "      <td>0.02835</td>\n",
       "    </tr>\n",
       "    <tr>\n",
       "      <th>43</th>\n",
       "      <td>43</td>\n",
       "      <td>Pachetra sagittigera</td>\n",
       "      <td>Leucania obsoleta</td>\n",
       "      <td>False</td>\n",
       "      <td>0</td>\n",
       "      <td>0.031</td>\n",
       "      <td>0.750</td>\n",
       "      <td>0.02818</td>\n",
       "    </tr>\n",
       "    <tr>\n",
       "      <th>44</th>\n",
       "      <td>44</td>\n",
       "      <td>Pachetra sagittigera</td>\n",
       "      <td>Ammoconia caecimacula</td>\n",
       "      <td>False</td>\n",
       "      <td>0</td>\n",
       "      <td>0.029</td>\n",
       "      <td>0.810</td>\n",
       "      <td>0.02819</td>\n",
       "    </tr>\n",
       "    <tr>\n",
       "      <th>45</th>\n",
       "      <td>45</td>\n",
       "      <td>Pachetra sagittigera</td>\n",
       "      <td>Rhyparia purpurata</td>\n",
       "      <td>False</td>\n",
       "      <td>0</td>\n",
       "      <td>0.029</td>\n",
       "      <td>0.850</td>\n",
       "      <td>0.02454</td>\n",
       "    </tr>\n",
       "    <tr>\n",
       "      <th>46</th>\n",
       "      <td>46</td>\n",
       "      <td>Pachetra sagittigera</td>\n",
       "      <td>Polypogon tentacularia</td>\n",
       "      <td>False</td>\n",
       "      <td>0</td>\n",
       "      <td>0.029</td>\n",
       "      <td>0.818</td>\n",
       "      <td>0.02715</td>\n",
       "    </tr>\n",
       "    <tr>\n",
       "      <th>47</th>\n",
       "      <td>47</td>\n",
       "      <td>Pachetra sagittigera</td>\n",
       "      <td>Orthosia gracilis</td>\n",
       "      <td>False</td>\n",
       "      <td>0</td>\n",
       "      <td>0.029</td>\n",
       "      <td>0.750</td>\n",
       "      <td>0.03130</td>\n",
       "    </tr>\n",
       "    <tr>\n",
       "      <th>48</th>\n",
       "      <td>48</td>\n",
       "      <td>Pachetra sagittigera</td>\n",
       "      <td>Mythimna straminea</td>\n",
       "      <td>False</td>\n",
       "      <td>0</td>\n",
       "      <td>0.027</td>\n",
       "      <td>0.650</td>\n",
       "      <td>0.03203</td>\n",
       "    </tr>\n",
       "    <tr>\n",
       "      <th>49</th>\n",
       "      <td>49</td>\n",
       "      <td>Pachetra sagittigera</td>\n",
       "      <td>Lygephila pastinum</td>\n",
       "      <td>False</td>\n",
       "      <td>0</td>\n",
       "      <td>0.027</td>\n",
       "      <td>0.800</td>\n",
       "      <td>0.02802</td>\n",
       "    </tr>\n",
       "  </tbody>\n",
       "</table>\n",
       "</div>"
      ],
      "text/plain": [
       "    pair_unique_id         red_link_name                candidate  true_label  \\\n",
       "0                0  Pachetra sagittigera     Phytometra viridaria       False   \n",
       "1                1  Pachetra sagittigera       Conistra rubiginea       False   \n",
       "2                2  Pachetra sagittigera        Tholera decimalis       False   \n",
       "3                3  Pachetra sagittigera     Pachetra sagittigera        True   \n",
       "4                4  Pachetra sagittigera   Hoplodrina octogenaria       False   \n",
       "5                5  Pachetra sagittigera          Tiliacea aurago       False   \n",
       "6                6  Pachetra sagittigera           Apamea illyria       False   \n",
       "7                7  Pachetra sagittigera       Apamea lithoxylaea       False   \n",
       "8                8  Pachetra sagittigera         Apamea lateritia       False   \n",
       "9                9  Pachetra sagittigera       Actinotia polyodon       False   \n",
       "10              10  Pachetra sagittigera     Acronicta euphorbiae       False   \n",
       "11              11  Pachetra sagittigera       Cerastis rubricosa       False   \n",
       "12              12  Pachetra sagittigera            Callistege mi       False   \n",
       "13              13  Pachetra sagittigera              Xestia baja       False   \n",
       "14              14  Pachetra sagittigera      Pseudoips prasinana       False   \n",
       "15              15  Pachetra sagittigera        Laspeyria flexula       False   \n",
       "16              16  Pachetra sagittigera      Lacanobia w-latinum       False   \n",
       "17              17  Pachetra sagittigera    Fissipunctia ypsillon       False   \n",
       "18              18  Pachetra sagittigera        Conistra vaccinii       False   \n",
       "19              19  Pachetra sagittigera        Apamea sublustris       False   \n",
       "20              20  Pachetra sagittigera        Rusina ferruginea       False   \n",
       "21              21  Pachetra sagittigera          Mniotype adusta       False   \n",
       "22              22  Pachetra sagittigera        Hoplodrina blanda       False   \n",
       "23              23  Pachetra sagittigera       Lasionycta proxima       False   \n",
       "24              24  Pachetra sagittigera         Spaelotis ravida       False   \n",
       "25              25  Pachetra sagittigera  Rhodostrophia vibicaria       False   \n",
       "26              26  Pachetra sagittigera           Peridea anceps       False   \n",
       "27              27  Pachetra sagittigera         Hypena rostralis       False   \n",
       "28              28  Pachetra sagittigera      Eremobia ochroleuca       False   \n",
       "29              29  Pachetra sagittigera             Apamea furva       False   \n",
       "30              30  Pachetra sagittigera          Agrotis cinerea       False   \n",
       "31              31  Pachetra sagittigera   Xanthorhoe spadicearia       False   \n",
       "32              32  Pachetra sagittigera     Sideridis reticulata       False   \n",
       "33              33  Pachetra sagittigera            Odezia atrata       False   \n",
       "34              34  Pachetra sagittigera      Mesoligia furuncula       False   \n",
       "35              35  Pachetra sagittigera    Macdunnoughia confusa       False   \n",
       "36              36  Pachetra sagittigera           Euxoa obelisca       False   \n",
       "37              37  Pachetra sagittigera    Burnet companion moth       False   \n",
       "38              38  Pachetra sagittigera        Oligia latruncula       False   \n",
       "39              39  Pachetra sagittigera        Mesapamea secalis       False   \n",
       "40              40  Pachetra sagittigera      Abrostola triplasia       False   \n",
       "41              41  Pachetra sagittigera        Orthosia populeti       False   \n",
       "42              42  Pachetra sagittigera         Lygephila viciae       False   \n",
       "43              43  Pachetra sagittigera        Leucania obsoleta       False   \n",
       "44              44  Pachetra sagittigera    Ammoconia caecimacula       False   \n",
       "45              45  Pachetra sagittigera       Rhyparia purpurata       False   \n",
       "46              46  Pachetra sagittigera   Polypogon tentacularia       False   \n",
       "47              47  Pachetra sagittigera        Orthosia gracilis       False   \n",
       "48              48  Pachetra sagittigera       Mythimna straminea       False   \n",
       "49              49  Pachetra sagittigera       Lygephila pastinum       False   \n",
       "\n",
       "    BN_results  jaccard_score  levenstein_score  concur_score  \n",
       "0            0          0.081             0.650       0.03060  \n",
       "1            0          0.076             0.600       0.03053  \n",
       "2            0          0.068             0.750       0.03026  \n",
       "3            0          0.066             0.000       0.03271  \n",
       "4            0          0.066             0.727       0.03297  \n",
       "5            0          0.065             0.800       0.03155  \n",
       "6            0          0.063             0.750       0.03033  \n",
       "7            0          0.063             0.800       0.03323  \n",
       "8            0          0.063             0.700       0.02899  \n",
       "9            0          0.062             0.900       0.02929  \n",
       "10           0          0.061             0.900       0.03313  \n",
       "11           0          0.059             0.800       0.03123  \n",
       "12           0          0.051             0.800       0.03038  \n",
       "13           0          0.051             0.750       0.03195  \n",
       "14           0          0.051             0.800       0.02778  \n",
       "15           0          0.050             0.750       0.02742  \n",
       "16           0          0.050             0.750       0.03011  \n",
       "17           0          0.049             0.905       0.03051  \n",
       "18           0          0.049             0.700       0.02874  \n",
       "19           0          0.049             0.800       0.03494  \n",
       "20           0          0.048             0.750       0.03250  \n",
       "21           0          0.048             0.800       0.03022  \n",
       "22           0          0.048             0.850       0.02961  \n",
       "23           0          0.047             0.850       0.03009  \n",
       "24           0          0.046             0.750       0.02911  \n",
       "25           0          0.046             0.739       0.02796  \n",
       "26           0          0.045             0.750       0.03040  \n",
       "27           0          0.043             0.800       0.02809  \n",
       "28           0          0.041             0.850       0.02831  \n",
       "29           0          0.038             0.800       0.03294  \n",
       "30           0          0.036             0.750       0.03202  \n",
       "31           0          0.034             0.727       0.03139  \n",
       "32           0          0.033             0.850       0.03006  \n",
       "33           0          0.033             0.700       0.03024  \n",
       "34           0          0.032             0.900       0.03052  \n",
       "35           0          0.032             0.857       0.02900  \n",
       "36           0          0.032             0.800       0.03124  \n",
       "37           0          0.032             0.810       0.02986  \n",
       "38           0          0.032             0.800       0.02337  \n",
       "39           0          0.032             0.850       0.02912  \n",
       "40           0          0.031             0.800       0.02987  \n",
       "41           0          0.031             0.800       0.03169  \n",
       "42           0          0.031             0.800       0.02835  \n",
       "43           0          0.031             0.750       0.02818  \n",
       "44           0          0.029             0.810       0.02819  \n",
       "45           0          0.029             0.850       0.02454  \n",
       "46           0          0.029             0.818       0.02715  \n",
       "47           0          0.029             0.750       0.03130  \n",
       "48           0          0.027             0.650       0.03203  \n",
       "49           0          0.027             0.800       0.02802  "
      ]
     },
     "execution_count": 25,
     "metadata": {},
     "output_type": "execute_result"
    }
   ],
   "source": [
    "candidate_pairs.head(50)"
   ]
  },
  {
   "cell_type": "code",
   "execution_count": 6,
   "metadata": {},
   "outputs": [
    {
     "data": {
      "text/plain": [
       "<matplotlib.axes._subplots.AxesSubplot at 0x7f1fdaa92748>"
      ]
     },
     "execution_count": 6,
     "metadata": {},
     "output_type": "execute_result"
    },
    {
     "data": {
      "image/png": "[encoded data removed]",
      "text/plain": [
       "<Figure size 432x288 with 1 Axes>"
      ]
     },
     "metadata": {
      "needs_background": "light"
     },
     "output_type": "display_data"
    }
   ],
   "source": [
    "candidate_pairs.plot(x='levenstein_score', y='concur_score', style='o')"
   ]
  },
  {
   "cell_type": "code",
   "execution_count": 7,
   "metadata": {},
   "outputs": [],
   "source": [
    "df = candidate_pairs[['levenstein_score', 'concur_score', 'true_label']]"
   ]
  },
  {
   "cell_type": "code",
   "execution_count": 8,
   "metadata": {},
   "outputs": [],
   "source": [
    "df_true = df[df['true_label']==True]"
   ]
  },
  {
   "cell_type": "code",
   "execution_count": 9,
   "metadata": {},
   "outputs": [
    {
     "data": {
      "text/plain": [
       "<seaborn.axisgrid.FacetGrid at 0x7f1fda9d5320>"
      ]
     },
     "execution_count": 9,
     "metadata": {},
     "output_type": "execute_result"
    },
    {
     "data": {
      "image/png": "[encoded data removed]",
      "text/plain": [
       "<Figure size 416.219x216 with 1 Axes>"
      ]
     },
     "metadata": {},
     "output_type": "display_data"
    }
   ],
   "source": [
    "import seaborn\n",
    "seaborn.set(style='ticks')\n",
    "\n",
    "true_values = [True, False]\n",
    "\n",
    "fg = seaborn.FacetGrid(data=df_true, hue='true_label', hue_order=true_values, aspect=1.61)\n",
    "fg.map(plt.scatter, 'levenstein_score', 'concur_score', alpha=.4).add_legend()"
   ]
  },
  {
   "cell_type": "code",
   "execution_count": 10,
   "metadata": {},
   "outputs": [
    {
     "data": {
      "text/plain": [
       "<seaborn.axisgrid.FacetGrid at 0x7f1faf3e2a90>"
      ]
     },
     "execution_count": 10,
     "metadata": {},
     "output_type": "execute_result"
    },
    {
     "data": {
      "image/png": "[encoded data removed]",
      "text/plain": [
       "<Figure size 416.219x216 with 1 Axes>"
      ]
     },
     "metadata": {},
     "output_type": "display_data"
    }
   ],
   "source": [
    "import seaborn\n",
    "seaborn.set(style='ticks')\n",
    "\n",
    "true_values = [True, False]\n",
    "\n",
    "fg = seaborn.FacetGrid(data=df_true, hue='true_label', hue_order=true_values, aspect=1.61)\n",
    "fg.map(plt.scatter, 'levenstein_score', 'concur_score', alpha=.4).add_legend()"
   ]
  },
  {
   "cell_type": "code",
   "execution_count": null,
   "metadata": {},
   "outputs": [],
   "source": []
  },
  {
   "cell_type": "code",
   "execution_count": 11,
   "metadata": {},
   "outputs": [],
   "source": [
    "df = candidate_pairs[['concur_score', 'jaccard_score', 'true_label']]\n",
    "\n",
    "import seaborn\n",
    "seaborn.set(style='ticks')\n",
    "\n",
    "true_values = [True, False]"
   ]
  },
  {
   "cell_type": "code",
   "execution_count": 12,
   "metadata": {},
   "outputs": [
    {
     "data": {
      "text/plain": [
       "<seaborn.axisgrid.FacetGrid at 0x7f1faed71550>"
      ]
     },
     "execution_count": 12,
     "metadata": {},
     "output_type": "execute_result"
    },
    {
     "data": {
      "image/png": "[encoded data removed]",
      "text/plain": [
       "<Figure size 500.459x216 with 1 Axes>"
      ]
     },
     "metadata": {},
     "output_type": "display_data"
    }
   ],
   "source": [
    "fg = seaborn.FacetGrid(data=df, hue='true_label', hue_order=true_values, aspect=2)\n",
    "fg.map(plt.scatter, 'concur_score', 'jaccard_score').add_legend()"
   ]
  },
  {
   "cell_type": "code",
   "execution_count": null,
   "metadata": {},
   "outputs": [],
   "source": []
  },
  {
   "cell_type": "markdown",
   "metadata": {},
   "source": [
    "## Run Logistic regression"
   ]
  },
  {
   "cell_type": "code",
   "execution_count": 13,
   "metadata": {},
   "outputs": [],
   "source": [
    "# Run Once!\n",
    "#functions.train_test_split(PATH_TO_DATA_RL, candidate_pairs)"
   ]
  },
  {
   "cell_type": "code",
   "execution_count": 35,
   "metadata": {},
   "outputs": [],
   "source": [
    "train_set = pd.read_csv(PATH_TO_DATA_RL+'train_set.csv', sep='^')"
   ]
  },
  {
   "cell_type": "code",
   "execution_count": 36,
   "metadata": {},
   "outputs": [
    {
     "data": {
      "text/html": [
       "<div>\n",
       "<style scoped>\n",
       "    .dataframe tbody tr th:only-of-type {\n",
       "        vertical-align: middle;\n",
       "    }\n",
       "\n",
       "    .dataframe tbody tr th {\n",
       "        vertical-align: top;\n",
       "    }\n",
       "\n",
       "    .dataframe thead th {\n",
       "        text-align: right;\n",
       "    }\n",
       "</style>\n",
       "<table border=\"1\" class=\"dataframe\">\n",
       "  <thead>\n",
       "    <tr style=\"text-align: right;\">\n",
       "      <th></th>\n",
       "      <th>pair_unique_id</th>\n",
       "      <th>red_link_name</th>\n",
       "      <th>candidate</th>\n",
       "      <th>true_label</th>\n",
       "      <th>BN_results</th>\n",
       "      <th>jaccard_score</th>\n",
       "      <th>levenstein_score</th>\n",
       "      <th>concur_score</th>\n",
       "    </tr>\n",
       "  </thead>\n",
       "  <tbody>\n",
       "    <tr>\n",
       "      <th>0</th>\n",
       "      <td>0</td>\n",
       "      <td>Pachetra sagittigera</td>\n",
       "      <td>Phytometra viridaria</td>\n",
       "      <td>False</td>\n",
       "      <td>0</td>\n",
       "      <td>0.081</td>\n",
       "      <td>0.650</td>\n",
       "      <td>0.03060</td>\n",
       "    </tr>\n",
       "    <tr>\n",
       "      <th>1</th>\n",
       "      <td>1</td>\n",
       "      <td>Pachetra sagittigera</td>\n",
       "      <td>Conistra rubiginea</td>\n",
       "      <td>False</td>\n",
       "      <td>0</td>\n",
       "      <td>0.076</td>\n",
       "      <td>0.600</td>\n",
       "      <td>0.03053</td>\n",
       "    </tr>\n",
       "    <tr>\n",
       "      <th>2</th>\n",
       "      <td>2</td>\n",
       "      <td>Pachetra sagittigera</td>\n",
       "      <td>Tholera decimalis</td>\n",
       "      <td>False</td>\n",
       "      <td>0</td>\n",
       "      <td>0.068</td>\n",
       "      <td>0.750</td>\n",
       "      <td>0.03026</td>\n",
       "    </tr>\n",
       "    <tr>\n",
       "      <th>3</th>\n",
       "      <td>3</td>\n",
       "      <td>Pachetra sagittigera</td>\n",
       "      <td>Pachetra sagittigera</td>\n",
       "      <td>True</td>\n",
       "      <td>0</td>\n",
       "      <td>0.066</td>\n",
       "      <td>0.000</td>\n",
       "      <td>0.03271</td>\n",
       "    </tr>\n",
       "    <tr>\n",
       "      <th>4</th>\n",
       "      <td>4</td>\n",
       "      <td>Pachetra sagittigera</td>\n",
       "      <td>Hoplodrina octogenaria</td>\n",
       "      <td>False</td>\n",
       "      <td>0</td>\n",
       "      <td>0.066</td>\n",
       "      <td>0.727</td>\n",
       "      <td>0.03297</td>\n",
       "    </tr>\n",
       "  </tbody>\n",
       "</table>\n",
       "</div>"
      ],
      "text/plain": [
       "   pair_unique_id         red_link_name               candidate  true_label  \\\n",
       "0               0  Pachetra sagittigera    Phytometra viridaria       False   \n",
       "1               1  Pachetra sagittigera      Conistra rubiginea       False   \n",
       "2               2  Pachetra sagittigera       Tholera decimalis       False   \n",
       "3               3  Pachetra sagittigera    Pachetra sagittigera        True   \n",
       "4               4  Pachetra sagittigera  Hoplodrina octogenaria       False   \n",
       "\n",
       "   BN_results  jaccard_score  levenstein_score  concur_score  \n",
       "0           0          0.081             0.650       0.03060  \n",
       "1           0          0.076             0.600       0.03053  \n",
       "2           0          0.068             0.750       0.03026  \n",
       "3           0          0.066             0.000       0.03271  \n",
       "4           0          0.066             0.727       0.03297  "
      ]
     },
     "execution_count": 36,
     "metadata": {},
     "output_type": "execute_result"
    }
   ],
   "source": [
    "train_set.head()"
   ]
  },
  {
   "cell_type": "code",
   "execution_count": 37,
   "metadata": {},
   "outputs": [],
   "source": [
    "test_set = pd.read_csv(PATH_TO_DATA_RL+'test_set.csv', sep='^')"
   ]
  },
  {
   "cell_type": "code",
   "execution_count": 17,
   "metadata": {},
   "outputs": [],
   "source": [
    "import sklearn\n",
    "from sklearn.linear_model import LogisticRegression\n",
    "from sklearn import metrics"
   ]
  },
  {
   "cell_type": "code",
   "execution_count": 39,
   "metadata": {},
   "outputs": [],
   "source": [
    "X_train_df = train_set[['BN_results', 'jaccard_score', 'levenstein_score', 'concur_score']]\n",
    "\n",
    "X_train = X_train_df.values"
   ]
  },
  {
   "cell_type": "code",
   "execution_count": 19,
   "metadata": {},
   "outputs": [],
   "source": [
    "y_train = train_set['true_label']"
   ]
  },
  {
   "cell_type": "code",
   "execution_count": 20,
   "metadata": {},
   "outputs": [],
   "source": [
    "X_test = test_set[['BN_results', 'jaccard_score', 'levenstein_score', 'concur_score']]\n",
    "\n",
    "X_test = X_test.values"
   ]
  },
  {
   "cell_type": "code",
   "execution_count": 21,
   "metadata": {},
   "outputs": [],
   "source": [
    "y_test = test_set['true_label']"
   ]
  },
  {
   "cell_type": "code",
   "execution_count": 22,
   "metadata": {},
   "outputs": [
    {
     "name": "stderr",
     "output_type": "stream",
     "text": [
      "/home/andrii/apps/anaconda3/lib/python3.6/site-packages/sklearn/linear_model/logistic.py:433: FutureWarning: Default solver will be changed to 'lbfgs' in 0.22. Specify a solver to silence this warning.\n",
      "  FutureWarning)\n"
     ]
    },
    {
     "data": {
      "text/plain": [
       "LogisticRegression(C=1.0, class_weight=None, dual=False, fit_intercept=True,\n",
       "          intercept_scaling=1, max_iter=100, multi_class='warn',\n",
       "          n_jobs=None, penalty='l2', random_state=None, solver='warn',\n",
       "          tol=0.0001, verbose=0, warm_start=False)"
      ]
     },
     "execution_count": 22,
     "metadata": {},
     "output_type": "execute_result"
    }
   ],
   "source": [
    "logreg = LogisticRegression()\n",
    "logreg.fit(X_train, y_train)"
   ]
  },
  {
   "cell_type": "code",
   "execution_count": 23,
   "metadata": {},
   "outputs": [
    {
     "name": "stdout",
     "output_type": "stream",
     "text": [
      "Accuracy of logistic regression classifier on test set: 1.00\n"
     ]
    }
   ],
   "source": [
    "y_pred = logreg.predict(X_test)\n",
    "print('Accuracy of logistic regression classifier on test set: {:.2f}'.format(logreg.score(X_test, y_test)))"
   ]
  },
  {
   "cell_type": "code",
   "execution_count": 24,
   "metadata": {},
   "outputs": [
    {
     "name": "stdout",
     "output_type": "stream",
     "text": [
      "              precision    recall  f1-score   support\n",
      "\n",
      "       False       1.00      1.00      1.00    590915\n",
      "        True       0.98      0.45      0.62       394\n",
      "\n",
      "   micro avg       1.00      1.00      1.00    591309\n",
      "   macro avg       0.99      0.73      0.81    591309\n",
      "weighted avg       1.00      1.00      1.00    591309\n",
      "\n"
     ]
    }
   ],
   "source": [
    "from sklearn.metrics import classification_report\n",
    "print(classification_report(y_test, y_pred))"
   ]
  },
  {
   "cell_type": "code",
   "execution_count": 26,
   "metadata": {},
   "outputs": [
    {
     "name": "stdout",
     "output_type": "stream",
     "text": [
      "[[ 10.78395409  -0.36286886 -13.05411743  13.23091561]]\n"
     ]
    }
   ],
   "source": [
    "print(logreg.coef_)"
   ]
  },
  {
   "cell_type": "code",
   "execution_count": 27,
   "metadata": {},
   "outputs": [],
   "source": [
    "from sklearn.feature_selection import RFE"
   ]
  },
  {
   "cell_type": "code",
   "execution_count": 29,
   "metadata": {},
   "outputs": [
    {
     "name": "stderr",
     "output_type": "stream",
     "text": [
      "/home/andrii/apps/anaconda3/lib/python3.6/site-packages/sklearn/linear_model/logistic.py:433: FutureWarning: Default solver will be changed to 'lbfgs' in 0.22. Specify a solver to silence this warning.\n",
      "  FutureWarning)\n",
      "/home/andrii/apps/anaconda3/lib/python3.6/site-packages/sklearn/linear_model/logistic.py:433: FutureWarning: Default solver will be changed to 'lbfgs' in 0.22. Specify a solver to silence this warning.\n",
      "  FutureWarning)\n",
      "/home/andrii/apps/anaconda3/lib/python3.6/site-packages/sklearn/linear_model/logistic.py:433: FutureWarning: Default solver will be changed to 'lbfgs' in 0.22. Specify a solver to silence this warning.\n",
      "  FutureWarning)\n",
      "/home/andrii/apps/anaconda3/lib/python3.6/site-packages/sklearn/linear_model/logistic.py:433: FutureWarning: Default solver will be changed to 'lbfgs' in 0.22. Specify a solver to silence this warning.\n",
      "  FutureWarning)\n"
     ]
    },
    {
     "name": "stdout",
     "output_type": "stream",
     "text": [
      "[False False  True False]\n",
      "[3 4 1 2]\n"
     ]
    }
   ],
   "source": [
    "rfe = RFE(logreg, 1)\n",
    "rfe = rfe.fit(X_train, y_train.values.ravel())\n",
    "print(rfe.support_)\n",
    "print(rfe.ranking_)"
   ]
  },
  {
   "cell_type": "code",
   "execution_count": null,
   "metadata": {},
   "outputs": [],
   "source": [
    "#Make difference in feature dependance\n",
    "y = (3 + x1 + 2*x2 + 5*x3 + 0.2*np.random.randn()) > 0\n",
    "\n",
    "X = pd.DataFrame({'x1':x1,'x2':x2,'x3':x3})\n",
    "\n",
    "#Scale your data\n",
    "scaler = StandardScaler()\n",
    "scaler.fit(X) \n",
    "X_scaled = pd.DataFrame(scaler.transform(X),columns = X.columns)\n",
    "\n",
    "clf = LogisticRegression(random_state = 0)\n",
    "clf.fit(X_scaled, y)\n",
    "\n",
    "feature_importance = abs(clf.coef_[0])\n",
    "feature_importance = 100.0 * (feature_importance / feature_importance.max())\n",
    "sorted_idx = np.argsort(feature_importance)\n",
    "pos = np.arange(sorted_idx.shape[0]) + .5\n",
    "\n",
    "featfig = plt.figure()\n",
    "featax = featfig.add_subplot(1, 1, 1)\n",
    "featax.barh(pos, feature_importance[sorted_idx], align='center')\n",
    "featax.set_yticks(pos)\n",
    "featax.set_yticklabels(np.array(X.columns)[sorted_idx], fontsize=8)\n",
    "featax.set_xlabel('Relative Feature Importance')\n",
    "\n",
    "plt.tight_layout()   \n",
    "plt.show()"
   ]
  },
  {
   "cell_type": "code",
   "execution_count": 42,
   "metadata": {},
   "outputs": [
    {
     "data": {
      "text/plain": [
       "array([ True,  True,  True, False,  True,  True,  True,  True,  True,\n",
       "        True,  True,  True, False,  True,  True,  True, False, False,\n",
       "       False,  True,  True, False,  True,  True,  True,  True,  True,\n",
       "        True,  True, False,  True,  True,  True, False,  True,  True,\n",
       "        True, False,  True,  True,  True,  True,  True,  True,  True,\n",
       "        True,  True,  True,  True,  True,  True, False,  True,  True,\n",
       "       False,  True,  True,  True,  True,  True,  True,  True, False,\n",
       "        True, False,  True,  True,  True,  True, False,  True,  True,\n",
       "       False,  True,  True,  True,  True,  True,  True,  True, False,\n",
       "        True,  True,  True, False,  True,  True,  True,  True, False,\n",
       "        True,  True, False,  True,  True,  True, False,  True,  True,\n",
       "       False])"
      ]
     },
     "execution_count": 42,
     "metadata": {},
     "output_type": "execute_result"
    }
   ],
   "source": [
    "x1 = np.random.randn(100)\n",
    "x2 = np.random.randn(100)\n",
    "x3 = np.random.randn(100)\n",
    "y = (3 + x1 + 2*x2 + 5*x3 + 0.2*np.random.randn()) > 0\n",
    "y"
   ]
  },
  {
   "cell_type": "code",
   "execution_count": 31,
   "metadata": {},
   "outputs": [],
   "source": [
    "from sklearn.preprocessing import StandardScaler"
   ]
  },
  {
   "cell_type": "code",
   "execution_count": 40,
   "metadata": {},
   "outputs": [
    {
     "name": "stderr",
     "output_type": "stream",
     "text": [
      "/home/andrii/apps/anaconda3/lib/python3.6/site-packages/sklearn/preprocessing/data.py:625: DataConversionWarning: Data with input dtype int64, float64 were all converted to float64 by StandardScaler.\n",
      "  return self.partial_fit(X, y)\n",
      "/home/andrii/apps/anaconda3/lib/python3.6/site-packages/ipykernel_launcher.py:4: DataConversionWarning: Data with input dtype int64, float64 were all converted to float64 by StandardScaler.\n",
      "  after removing the cwd from sys.path.\n"
     ]
    }
   ],
   "source": [
    "# try\n",
    "scaler = StandardScaler()\n",
    "scaler.fit(X_train_df) \n",
    "X_scaled = pd.DataFrame(scaler.transform(X_train_df),columns = X_train_df.columns)"
   ]
  },
  {
   "cell_type": "code",
   "execution_count": 44,
   "metadata": {},
   "outputs": [
    {
     "name": "stderr",
     "output_type": "stream",
     "text": [
      "/home/andrii/apps/anaconda3/lib/python3.6/site-packages/sklearn/linear_model/logistic.py:433: FutureWarning: Default solver will be changed to 'lbfgs' in 0.22. Specify a solver to silence this warning.\n",
      "  FutureWarning)\n"
     ]
    },
    {
     "data": {
      "text/plain": [
       "LogisticRegression(C=1.0, class_weight=None, dual=False, fit_intercept=True,\n",
       "          intercept_scaling=1, max_iter=100, multi_class='warn',\n",
       "          n_jobs=None, penalty='l2', random_state=0, solver='warn',\n",
       "          tol=0.0001, verbose=0, warm_start=False)"
      ]
     },
     "execution_count": 44,
     "metadata": {},
     "output_type": "execute_result"
    }
   ],
   "source": [
    "clf = LogisticRegression(random_state = 0)\n",
    "clf.fit(X_scaled, y_train)"
   ]
  },
  {
   "cell_type": "code",
   "execution_count": 46,
   "metadata": {},
   "outputs": [
    {
     "data": {
      "image/png": "[encoded data removed]",
      "text/plain": [
       "<Figure size 432x288 with 1 Axes>"
      ]
     },
     "metadata": {},
     "output_type": "display_data"
    }
   ],
   "source": [
    "feature_importance = abs(clf.coef_[0])\n",
    "feature_importance = 100.0 * (feature_importance / feature_importance.max())\n",
    "sorted_idx = np.argsort(feature_importance)\n",
    "pos = np.arange(sorted_idx.shape[0]) + .5\n",
    "\n",
    "featfig = plt.figure()\n",
    "featax = featfig.add_subplot(1, 1, 1)\n",
    "featax.barh(pos, feature_importance[sorted_idx], align='center')\n",
    "featax.set_yticks(pos)\n",
    "featax.set_yticklabels(np.array(X_train_df.columns)[sorted_idx], fontsize=8)\n",
    "featax.set_xlabel('Relative Feature Importance')\n",
    "\n",
    "plt.tight_layout()   \n",
    "plt.show()"
   ]
  },
  {
   "cell_type": "code",
   "execution_count": null,
   "metadata": {},
   "outputs": [],
   "source": []
  }
 ],
 "metadata": {
  "kernelspec": {
   "display_name": "Python 3",
   "language": "python",
   "name": "python3"
  },
  "language_info": {
   "codemirror_mode": {
    "name": "ipython",
    "version": 3
   },
   "file_extension": ".py",
   "mimetype": "text/x-python",
   "name": "python",
   "nbconvert_exporter": "python",
   "pygments_lexer": "ipython3",
   "version": "3.6.7"
  }
 },
 "nbformat": 4,
 "nbformat_minor": 2
}
