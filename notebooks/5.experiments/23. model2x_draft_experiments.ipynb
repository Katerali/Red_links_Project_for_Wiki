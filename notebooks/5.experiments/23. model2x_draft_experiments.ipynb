{
 "cells": [
  {
   "cell_type": "code",
   "execution_count": 1,
   "metadata": {
    "collapsed": true
   },
   "outputs": [],
   "source": [
    "import pandas as pd"
   ]
  },
  {
   "cell_type": "code",
   "execution_count": 2,
   "metadata": {
    "collapsed": true
   },
   "outputs": [],
   "source": [
    "PATH_TO_DATA = '/media/andrii/earth/Katia/CS_MasterThesis/data/'\n",
    "PATH_TO_DATA_RL = '/media/andrii/earth/Katia/CS_MasterThesis/data/ukwiki/uk_red_links/'"
   ]
  },
  {
   "cell_type": "code",
   "execution_count": 3,
   "metadata": {
    "collapsed": true
   },
   "outputs": [],
   "source": [
    "import sys\n",
    "sys.path.insert(0, '/media/andrii/earth/Katia/CS_MasterThesis/Red_links_Project_for_Wiki_draft/py')\n",
    "import babel_net_module"
   ]
  },
  {
   "cell_type": "code",
   "execution_count": 17,
   "metadata": {
    "collapsed": true
   },
   "outputs": [],
   "source": [
    "import functions"
   ]
  },
  {
   "cell_type": "code",
   "execution_count": null,
   "metadata": {
    "collapsed": true
   },
   "outputs": [],
   "source": []
  },
  {
   "cell_type": "code",
   "execution_count": 7,
   "metadata": {},
   "outputs": [],
   "source": [
    "# read a sample with features\n",
    "with_gt_df = pd.read_csv(PATH_TO_DATA_RL+'red_links_uk_with_features.csv', encoding = 'UTF-8')"
   ]
  },
  {
   "cell_type": "code",
   "execution_count": 8,
   "metadata": {},
   "outputs": [
    {
     "data": {
      "text/html": [
       "<div>\n",
       "<table border=\"1\" class=\"dataframe\">\n",
       "  <thead>\n",
       "    <tr style=\"text-align: right;\">\n",
       "      <th></th>\n",
       "      <th>red_link_name</th>\n",
       "      <th>candidate</th>\n",
       "      <th>true_label</th>\n",
       "      <th>BN_results</th>\n",
       "      <th>jaccard_score</th>\n",
       "      <th>levenstein_score</th>\n",
       "    </tr>\n",
       "  </thead>\n",
       "  <tbody>\n",
       "    <tr>\n",
       "      <th>0</th>\n",
       "      <td>Pachetra sagittigera</td>\n",
       "      <td>Phytometra viridaria</td>\n",
       "      <td>False</td>\n",
       "      <td>0</td>\n",
       "      <td>0.081</td>\n",
       "      <td>0.650</td>\n",
       "    </tr>\n",
       "    <tr>\n",
       "      <th>1</th>\n",
       "      <td>Pachetra sagittigera</td>\n",
       "      <td>Conistra rubiginea</td>\n",
       "      <td>False</td>\n",
       "      <td>0</td>\n",
       "      <td>0.076</td>\n",
       "      <td>0.600</td>\n",
       "    </tr>\n",
       "    <tr>\n",
       "      <th>2</th>\n",
       "      <td>Pachetra sagittigera</td>\n",
       "      <td>Tholera decimalis</td>\n",
       "      <td>False</td>\n",
       "      <td>0</td>\n",
       "      <td>0.068</td>\n",
       "      <td>0.750</td>\n",
       "    </tr>\n",
       "    <tr>\n",
       "      <th>3</th>\n",
       "      <td>Pachetra sagittigera</td>\n",
       "      <td>Pachetra sagittigera</td>\n",
       "      <td>True</td>\n",
       "      <td>0</td>\n",
       "      <td>0.066</td>\n",
       "      <td>0.000</td>\n",
       "    </tr>\n",
       "    <tr>\n",
       "      <th>4</th>\n",
       "      <td>Pachetra sagittigera</td>\n",
       "      <td>Hoplodrina octogenaria</td>\n",
       "      <td>False</td>\n",
       "      <td>0</td>\n",
       "      <td>0.066</td>\n",
       "      <td>0.727</td>\n",
       "    </tr>\n",
       "  </tbody>\n",
       "</table>\n",
       "</div>"
      ],
      "text/plain": [
       "          red_link_name               candidate true_label  BN_results  \\\n",
       "0  Pachetra sagittigera    Phytometra viridaria      False           0   \n",
       "1  Pachetra sagittigera      Conistra rubiginea      False           0   \n",
       "2  Pachetra sagittigera       Tholera decimalis      False           0   \n",
       "3  Pachetra sagittigera    Pachetra sagittigera       True           0   \n",
       "4  Pachetra sagittigera  Hoplodrina octogenaria      False           0   \n",
       "\n",
       "   jaccard_score  levenstein_score  \n",
       "0          0.081             0.650  \n",
       "1          0.076             0.600  \n",
       "2          0.068             0.750  \n",
       "3          0.066             0.000  \n",
       "4          0.066             0.727  "
      ]
     },
     "execution_count": 8,
     "metadata": {},
     "output_type": "execute_result"
    }
   ],
   "source": [
    "with_gt_df.head()"
   ]
  },
  {
   "cell_type": "markdown",
   "metadata": {
    "collapsed": true
   },
   "source": [
    "### Model 1"
   ]
  },
  {
   "cell_type": "code",
   "execution_count": 10,
   "metadata": {},
   "outputs": [],
   "source": [
    "with_gt_df['BabelNet_model_results'] = with_gt_df.apply (lambda row: babel_net_module.babel_net_model(row['BN_results']),axis=1)"
   ]
  },
  {
   "cell_type": "code",
   "execution_count": 11,
   "metadata": {},
   "outputs": [
    {
     "data": {
      "text/html": [
       "<div>\n",
       "<table border=\"1\" class=\"dataframe\">\n",
       "  <thead>\n",
       "    <tr style=\"text-align: right;\">\n",
       "      <th></th>\n",
       "      <th>red_link_name</th>\n",
       "      <th>candidate</th>\n",
       "      <th>true_label</th>\n",
       "      <th>BN_results</th>\n",
       "      <th>jaccard_score</th>\n",
       "      <th>levenstein_score</th>\n",
       "      <th>BabelNet_model_results</th>\n",
       "    </tr>\n",
       "  </thead>\n",
       "  <tbody>\n",
       "    <tr>\n",
       "      <th>0</th>\n",
       "      <td>Pachetra sagittigera</td>\n",
       "      <td>Phytometra viridaria</td>\n",
       "      <td>False</td>\n",
       "      <td>0</td>\n",
       "      <td>0.081</td>\n",
       "      <td>0.650</td>\n",
       "      <td>False</td>\n",
       "    </tr>\n",
       "    <tr>\n",
       "      <th>1</th>\n",
       "      <td>Pachetra sagittigera</td>\n",
       "      <td>Conistra rubiginea</td>\n",
       "      <td>False</td>\n",
       "      <td>0</td>\n",
       "      <td>0.076</td>\n",
       "      <td>0.600</td>\n",
       "      <td>False</td>\n",
       "    </tr>\n",
       "    <tr>\n",
       "      <th>2</th>\n",
       "      <td>Pachetra sagittigera</td>\n",
       "      <td>Tholera decimalis</td>\n",
       "      <td>False</td>\n",
       "      <td>0</td>\n",
       "      <td>0.068</td>\n",
       "      <td>0.750</td>\n",
       "      <td>False</td>\n",
       "    </tr>\n",
       "    <tr>\n",
       "      <th>3</th>\n",
       "      <td>Pachetra sagittigera</td>\n",
       "      <td>Pachetra sagittigera</td>\n",
       "      <td>True</td>\n",
       "      <td>0</td>\n",
       "      <td>0.066</td>\n",
       "      <td>0.000</td>\n",
       "      <td>False</td>\n",
       "    </tr>\n",
       "    <tr>\n",
       "      <th>4</th>\n",
       "      <td>Pachetra sagittigera</td>\n",
       "      <td>Hoplodrina octogenaria</td>\n",
       "      <td>False</td>\n",
       "      <td>0</td>\n",
       "      <td>0.066</td>\n",
       "      <td>0.727</td>\n",
       "      <td>False</td>\n",
       "    </tr>\n",
       "  </tbody>\n",
       "</table>\n",
       "</div>"
      ],
      "text/plain": [
       "          red_link_name               candidate true_label  BN_results  \\\n",
       "0  Pachetra sagittigera    Phytometra viridaria      False           0   \n",
       "1  Pachetra sagittigera      Conistra rubiginea      False           0   \n",
       "2  Pachetra sagittigera       Tholera decimalis      False           0   \n",
       "3  Pachetra sagittigera    Pachetra sagittigera       True           0   \n",
       "4  Pachetra sagittigera  Hoplodrina octogenaria      False           0   \n",
       "\n",
       "   jaccard_score  levenstein_score BabelNet_model_results  \n",
       "0          0.081             0.650                  False  \n",
       "1          0.076             0.600                  False  \n",
       "2          0.068             0.750                  False  \n",
       "3          0.066             0.000                  False  \n",
       "4          0.066             0.727                  False  "
      ]
     },
     "execution_count": 11,
     "metadata": {},
     "output_type": "execute_result"
    }
   ],
   "source": [
    "with_gt_df.head()"
   ]
  },
  {
   "cell_type": "markdown",
   "metadata": {},
   "source": [
    "### EVALUATION"
   ]
  },
  {
   "cell_type": "code",
   "execution_count": 22,
   "metadata": {
    "collapsed": true
   },
   "outputs": [],
   "source": [
    "with_gt_df['BabelNet_model_evaluation'] = with_gt_df.apply\\\n",
    "(lambda row: babel_net_module.evaluate_BabelNet_model(row['true_label'], row['BabelNet_model_results']),axis=1)"
   ]
  },
  {
   "cell_type": "code",
   "execution_count": 39,
   "metadata": {
    "scrolled": true
   },
   "outputs": [
    {
     "name": "stdout",
     "output_type": "stream",
     "text": [
      "precision = 1.0\n",
      "recall = 0.20397111913357402\n",
      "f1_score = 0.3388305847076462\n"
     ]
    },
    {
     "data": {
      "text/plain": [
       "(1.0, 0.20397111913357402, 0.3388305847076462)"
      ]
     },
     "execution_count": 39,
     "metadata": {},
     "output_type": "execute_result"
    }
   ],
   "source": [
    "functions.f1_score(with_gt_df['BabelNet_model_evaluation'])"
   ]
  },
  {
   "cell_type": "code",
   "execution_count": null,
   "metadata": {
    "collapsed": true
   },
   "outputs": [],
   "source": []
  }
 ],
 "metadata": {
  "kernelspec": {
   "display_name": "Python 3",
   "language": "python",
   "name": "python3"
  },
  "language_info": {
   "codemirror_mode": {
    "name": "ipython",
    "version": 3
   },
   "file_extension": ".py",
   "mimetype": "text/x-python",
   "name": "python",
   "nbconvert_exporter": "python",
   "pygments_lexer": "ipython3",
   "version": "3.6.7"
  }
 },
 "nbformat": 4,
 "nbformat_minor": 2
}
