{
 "cells": [
  {
   "cell_type": "code",
   "execution_count": 1,
   "metadata": {},
   "outputs": [],
   "source": [
    "import pandas as pd\n",
    "import os\n",
    "import re\n",
    "import numpy as np\n",
    "\n",
    "import pickle\n",
    "\n",
    "import sys\n",
    "sys.path.insert(0, '/media/andrii/earth/Katia/CS_MasterThesis/Red_links_Project_for_Wiki_draft/py')\n",
    "import functions\n",
    "\n",
    "import time"
   ]
  },
  {
   "cell_type": "code",
   "execution_count": 2,
   "metadata": {},
   "outputs": [],
   "source": [
    "PATH_TO_DATA_UK = '/media/andrii/earth/Katia/CS_MasterThesis/data/ukwiki/ukwiki_20180920/'\n",
    "PATH_TO_DATA_EN = '/media/andrii/earth/Katia/CS_MasterThesis/data/enwiki/enwiki_20180920/'\n",
    "PATH_TO_DATA_RL = '/media/andrii/earth/Katia/CS_MasterThesis/data/ukwiki/uk_red_links/'\n",
    "PATH_TO_WIKIDATA_UK = '/media/andrii/earth/Katia/CS_MasterThesis/data/ukwiki/uk_wikidata/'\n",
    "PATH_TO_WIKIDATA_EN = '/media/andrii/earth/Katia/CS_MasterThesis/data/enwiki/en_wikidata/'"
   ]
  },
  {
   "cell_type": "code",
   "execution_count": null,
   "metadata": {},
   "outputs": [],
   "source": []
  },
  {
   "cell_type": "code",
   "execution_count": null,
   "metadata": {},
   "outputs": [],
   "source": []
  },
  {
   "cell_type": "code",
   "execution_count": null,
   "metadata": {},
   "outputs": [],
   "source": [
    "def jaccard_similarity_on_concurrent_links(red_link, candidate_link):\n",
    "    # define function here"
   ]
  },
  {
   "cell_type": "code",
   "execution_count": 55,
   "metadata": {},
   "outputs": [],
   "source": [
    "def get_concurrent_links_set(page_title):\n",
    "    # define function here\n",
    "    return concurrent_set"
   ]
  },
  {
   "cell_type": "code",
   "execution_count": null,
   "metadata": {},
   "outputs": [],
   "source": [
    "def jaccard(set1, set2):\n",
    "    # define function here"
   ]
  },
  {
   "cell_type": "code",
   "execution_count": null,
   "metadata": {},
   "outputs": [],
   "source": []
  },
  {
   "cell_type": "code",
   "execution_count": null,
   "metadata": {},
   "outputs": [],
   "source": []
  },
  {
   "cell_type": "markdown",
   "metadata": {},
   "source": [
    "### Get Wikidata-Wikipedia correspondences for English pages"
   ]
  },
  {
   "cell_type": "code",
   "execution_count": 9,
   "metadata": {},
   "outputs": [
    {
     "name": "stderr",
     "output_type": "stream",
     "text": [
      "/home/andrii/apps/anaconda3/lib/python3.6/site-packages/numpy/lib/arraysetops.py:522: FutureWarning: elementwise comparison failed; returning scalar instead, but in the future will perform elementwise comparison\n",
      "  mask |= (ar1 == a)\n"
     ]
    }
   ],
   "source": [
    "enwikidata = pd.read_csv(PATH_TO_WIKIDATA_EN+'enwikidataItem.csv', index_col=0)"
   ]
  },
  {
   "cell_type": "code",
   "execution_count": 10,
   "metadata": {},
   "outputs": [],
   "source": [
    "en_id_name = pd.read_csv(PATH_TO_DATA_EN+'enwiki-20180920-id_name.csv', sep='^')"
   ]
  },
  {
   "cell_type": "code",
   "execution_count": 11,
   "metadata": {},
   "outputs": [],
   "source": [
    "en_wikidata_wikipedia = pd.merge(enwikidata, en_id_name, how='left', left_on=['ips_site_page'], right_on=['title'])"
   ]
  },
  {
   "cell_type": "code",
   "execution_count": 12,
   "metadata": {},
   "outputs": [],
   "source": [
    "en_wikidata_wikipedia = en_wikidata_wikipedia[['ips_item_id', 'title', 'id']]\n",
    "en_wikidata_wikipedia.columns = ['wikidata_id', 'title', 'en_wikipedia_id']"
   ]
  },
  {
   "cell_type": "code",
   "execution_count": 13,
   "metadata": {},
   "outputs": [
    {
     "data": {
      "text/html": [
       "<div>\n",
       "<style scoped>\n",
       "    .dataframe tbody tr th:only-of-type {\n",
       "        vertical-align: middle;\n",
       "    }\n",
       "\n",
       "    .dataframe tbody tr th {\n",
       "        vertical-align: top;\n",
       "    }\n",
       "\n",
       "    .dataframe thead th {\n",
       "        text-align: right;\n",
       "    }\n",
       "</style>\n",
       "<table border=\"1\" class=\"dataframe\">\n",
       "  <thead>\n",
       "    <tr style=\"text-align: right;\">\n",
       "      <th></th>\n",
       "      <th>wikidata_id</th>\n",
       "      <th>title</th>\n",
       "      <th>en_wikipedia_id</th>\n",
       "    </tr>\n",
       "  </thead>\n",
       "  <tbody>\n",
       "    <tr>\n",
       "      <th>0</th>\n",
       "      <td>3466056</td>\n",
       "      <td>!PAUS3</td>\n",
       "      <td>33744797.0</td>\n",
       "    </tr>\n",
       "    <tr>\n",
       "      <th>1</th>\n",
       "      <td>4540212</td>\n",
       "      <td>\"And\" theory of conservatism</td>\n",
       "      <td>9003666.0</td>\n",
       "    </tr>\n",
       "    <tr>\n",
       "      <th>2</th>\n",
       "      <td>3284078</td>\n",
       "      <td>\"Buzz!!\" The Movie</td>\n",
       "      <td>13623996.0</td>\n",
       "    </tr>\n",
       "    <tr>\n",
       "      <th>3</th>\n",
       "      <td>4540290</td>\n",
       "      <td>\"In\" Jazz for the Culture Set</td>\n",
       "      <td>32066421.0</td>\n",
       "    </tr>\n",
       "    <tr>\n",
       "      <th>4</th>\n",
       "      <td>4540291</td>\n",
       "      <td>\"Isis\" of the Suebi</td>\n",
       "      <td>31500663.0</td>\n",
       "    </tr>\n",
       "  </tbody>\n",
       "</table>\n",
       "</div>"
      ],
      "text/plain": [
       "   wikidata_id                          title  en_wikipedia_id\n",
       "0      3466056                         !PAUS3       33744797.0\n",
       "1      4540212   \"And\" theory of conservatism        9003666.0\n",
       "2      3284078             \"Buzz!!\" The Movie       13623996.0\n",
       "3      4540290  \"In\" Jazz for the Culture Set       32066421.0\n",
       "4      4540291            \"Isis\" of the Suebi       31500663.0"
      ]
     },
     "execution_count": 13,
     "metadata": {},
     "output_type": "execute_result"
    }
   ],
   "source": [
    "en_wikidata_wikipedia.head()"
   ]
  },
  {
   "cell_type": "code",
   "execution_count": 14,
   "metadata": {
    "scrolled": true
   },
   "outputs": [
    {
     "data": {
      "text/plain": [
       "(8005914, 3)"
      ]
     },
     "execution_count": 14,
     "metadata": {},
     "output_type": "execute_result"
    }
   ],
   "source": [
    "en_wikidata_wikipedia.shape"
   ]
  },
  {
   "cell_type": "code",
   "execution_count": 15,
   "metadata": {},
   "outputs": [],
   "source": [
    "en_wikidata_wikipedia = en_wikidata_wikipedia.drop_duplicates()"
   ]
  },
  {
   "cell_type": "code",
   "execution_count": 16,
   "metadata": {},
   "outputs": [
    {
     "data": {
      "text/plain": [
       "(7928332, 3)"
      ]
     },
     "execution_count": 16,
     "metadata": {},
     "output_type": "execute_result"
    }
   ],
   "source": [
    "en_wikidata_wikipedia.shape"
   ]
  },
  {
   "cell_type": "code",
   "execution_count": null,
   "metadata": {},
   "outputs": [],
   "source": []
  },
  {
   "cell_type": "markdown",
   "metadata": {},
   "source": [
    "### Load candidate pairs"
   ]
  },
  {
   "cell_type": "code",
   "execution_count": 17,
   "metadata": {},
   "outputs": [],
   "source": [
    "# rerun creating candidates\n",
    "files = [f for f in os.listdir(PATH_TO_DATA_RL+'candidates/') if re.match(r'[a-zA-Z]+_\\d+.csv', f)]"
   ]
  },
  {
   "cell_type": "code",
   "execution_count": 18,
   "metadata": {},
   "outputs": [
    {
     "name": "stdout",
     "output_type": "stream",
     "text": [
      "100\n",
      "1/100\n",
      "/media/andrii/earth/Katia/CS_MasterThesis/data/ukwiki/uk_red_links/candidates/candidates_93.csv\n",
      "2/100\n",
      "/media/andrii/earth/Katia/CS_MasterThesis/data/ukwiki/uk_red_links/candidates/candidates_68.csv\n",
      "3/100\n",
      "/media/andrii/earth/Katia/CS_MasterThesis/data/ukwiki/uk_red_links/candidates/candidates_45.csv\n",
      "4/100\n",
      "/media/andrii/earth/Katia/CS_MasterThesis/data/ukwiki/uk_red_links/candidates/candidates_23.csv\n",
      "5/100\n",
      "/media/andrii/earth/Katia/CS_MasterThesis/data/ukwiki/uk_red_links/candidates/candidates_79.csv\n",
      "6/100\n",
      "/media/andrii/earth/Katia/CS_MasterThesis/data/ukwiki/uk_red_links/candidates/candidates_74.csv\n",
      "7/100\n",
      "/media/andrii/earth/Katia/CS_MasterThesis/data/ukwiki/uk_red_links/candidates/candidates_42.csv\n",
      "8/100\n",
      "/media/andrii/earth/Katia/CS_MasterThesis/data/ukwiki/uk_red_links/candidates/candidates_88.csv\n",
      "9/100\n",
      "/media/andrii/earth/Katia/CS_MasterThesis/data/ukwiki/uk_red_links/candidates/candidates_35.csv\n",
      "10/100\n",
      "/media/andrii/earth/Katia/CS_MasterThesis/data/ukwiki/uk_red_links/candidates/candidates_17.csv\n",
      "11/100\n",
      "/media/andrii/earth/Katia/CS_MasterThesis/data/ukwiki/uk_red_links/candidates/candidates_3.csv\n",
      "12/100\n",
      "/media/andrii/earth/Katia/CS_MasterThesis/data/ukwiki/uk_red_links/candidates/candidates_47.csv\n",
      "13/100\n",
      "/media/andrii/earth/Katia/CS_MasterThesis/data/ukwiki/uk_red_links/candidates/candidates_1.csv\n",
      "14/100\n",
      "/media/andrii/earth/Katia/CS_MasterThesis/data/ukwiki/uk_red_links/candidates/candidates_9.csv\n",
      "15/100\n",
      "/media/andrii/earth/Katia/CS_MasterThesis/data/ukwiki/uk_red_links/candidates/candidates_30.csv\n",
      "16/100\n",
      "/media/andrii/earth/Katia/CS_MasterThesis/data/ukwiki/uk_red_links/candidates/candidates_34.csv\n",
      "17/100\n",
      "/media/andrii/earth/Katia/CS_MasterThesis/data/ukwiki/uk_red_links/candidates/candidates_69.csv\n",
      "18/100\n",
      "/media/andrii/earth/Katia/CS_MasterThesis/data/ukwiki/uk_red_links/candidates/candidates_89.csv\n",
      "19/100\n",
      "/media/andrii/earth/Katia/CS_MasterThesis/data/ukwiki/uk_red_links/candidates/candidates_90.csv\n",
      "20/100\n",
      "/media/andrii/earth/Katia/CS_MasterThesis/data/ukwiki/uk_red_links/candidates/candidates_73.csv\n",
      "21/100\n",
      "/media/andrii/earth/Katia/CS_MasterThesis/data/ukwiki/uk_red_links/candidates/candidates_5.csv\n",
      "22/100\n",
      "/media/andrii/earth/Katia/CS_MasterThesis/data/ukwiki/uk_red_links/candidates/candidates_31.csv\n",
      "23/100\n",
      "/media/andrii/earth/Katia/CS_MasterThesis/data/ukwiki/uk_red_links/candidates/candidates_6.csv\n",
      "24/100\n",
      "/media/andrii/earth/Katia/CS_MasterThesis/data/ukwiki/uk_red_links/candidates/candidates_76.csv\n",
      "25/100\n",
      "/media/andrii/earth/Katia/CS_MasterThesis/data/ukwiki/uk_red_links/candidates/candidates_80.csv\n",
      "26/100\n",
      "/media/andrii/earth/Katia/CS_MasterThesis/data/ukwiki/uk_red_links/candidates/candidates_81.csv\n",
      "27/100\n",
      "/media/andrii/earth/Katia/CS_MasterThesis/data/ukwiki/uk_red_links/candidates/candidates_21.csv\n",
      "28/100\n",
      "/media/andrii/earth/Katia/CS_MasterThesis/data/ukwiki/uk_red_links/candidates/candidates_87.csv\n",
      "29/100\n",
      "/media/andrii/earth/Katia/CS_MasterThesis/data/ukwiki/uk_red_links/candidates/candidates_98.csv\n",
      "30/100\n",
      "/media/andrii/earth/Katia/CS_MasterThesis/data/ukwiki/uk_red_links/candidates/candidates_11.csv\n",
      "31/100\n",
      "/media/andrii/earth/Katia/CS_MasterThesis/data/ukwiki/uk_red_links/candidates/candidates_58.csv\n",
      "32/100\n",
      "/media/andrii/earth/Katia/CS_MasterThesis/data/ukwiki/uk_red_links/candidates/candidates_100.csv\n",
      "33/100\n",
      "/media/andrii/earth/Katia/CS_MasterThesis/data/ukwiki/uk_red_links/candidates/candidates_10.csv\n",
      "34/100\n",
      "/media/andrii/earth/Katia/CS_MasterThesis/data/ukwiki/uk_red_links/candidates/candidates_57.csv\n",
      "35/100\n",
      "/media/andrii/earth/Katia/CS_MasterThesis/data/ukwiki/uk_red_links/candidates/candidates_36.csv\n",
      "36/100\n",
      "/media/andrii/earth/Katia/CS_MasterThesis/data/ukwiki/uk_red_links/candidates/candidates_37.csv\n",
      "37/100\n",
      "/media/andrii/earth/Katia/CS_MasterThesis/data/ukwiki/uk_red_links/candidates/candidates_95.csv\n",
      "38/100\n",
      "/media/andrii/earth/Katia/CS_MasterThesis/data/ukwiki/uk_red_links/candidates/candidates_40.csv\n",
      "39/100\n",
      "/media/andrii/earth/Katia/CS_MasterThesis/data/ukwiki/uk_red_links/candidates/candidates_66.csv\n",
      "40/100\n",
      "/media/andrii/earth/Katia/CS_MasterThesis/data/ukwiki/uk_red_links/candidates/candidates_4.csv\n",
      "41/100\n",
      "/media/andrii/earth/Katia/CS_MasterThesis/data/ukwiki/uk_red_links/candidates/candidates_38.csv\n",
      "42/100\n",
      "/media/andrii/earth/Katia/CS_MasterThesis/data/ukwiki/uk_red_links/candidates/candidates_44.csv\n",
      "43/100\n",
      "/media/andrii/earth/Katia/CS_MasterThesis/data/ukwiki/uk_red_links/candidates/candidates_14.csv\n",
      "44/100\n",
      "/media/andrii/earth/Katia/CS_MasterThesis/data/ukwiki/uk_red_links/candidates/candidates_97.csv\n",
      "45/100\n",
      "/media/andrii/earth/Katia/CS_MasterThesis/data/ukwiki/uk_red_links/candidates/candidates_63.csv\n",
      "46/100\n",
      "/media/andrii/earth/Katia/CS_MasterThesis/data/ukwiki/uk_red_links/candidates/candidates_94.csv\n",
      "47/100\n",
      "/media/andrii/earth/Katia/CS_MasterThesis/data/ukwiki/uk_red_links/candidates/candidates_77.csv\n",
      "48/100\n",
      "/media/andrii/earth/Katia/CS_MasterThesis/data/ukwiki/uk_red_links/candidates/candidates_67.csv\n",
      "49/100\n",
      "/media/andrii/earth/Katia/CS_MasterThesis/data/ukwiki/uk_red_links/candidates/candidates_62.csv\n",
      "50/100\n",
      "/media/andrii/earth/Katia/CS_MasterThesis/data/ukwiki/uk_red_links/candidates/candidates_50.csv\n",
      "51/100\n",
      "/media/andrii/earth/Katia/CS_MasterThesis/data/ukwiki/uk_red_links/candidates/candidates_78.csv\n",
      "52/100\n",
      "/media/andrii/earth/Katia/CS_MasterThesis/data/ukwiki/uk_red_links/candidates/candidates_70.csv\n",
      "53/100\n",
      "/media/andrii/earth/Katia/CS_MasterThesis/data/ukwiki/uk_red_links/candidates/candidates_101.csv\n",
      "54/100\n",
      "/media/andrii/earth/Katia/CS_MasterThesis/data/ukwiki/uk_red_links/candidates/candidates_28.csv\n",
      "55/100\n",
      "/media/andrii/earth/Katia/CS_MasterThesis/data/ukwiki/uk_red_links/candidates/candidates_59.csv\n",
      "56/100\n",
      "/media/andrii/earth/Katia/CS_MasterThesis/data/ukwiki/uk_red_links/candidates/candidates_72.csv\n",
      "57/100\n",
      "/media/andrii/earth/Katia/CS_MasterThesis/data/ukwiki/uk_red_links/candidates/candidates_65.csv\n",
      "58/100\n",
      "/media/andrii/earth/Katia/CS_MasterThesis/data/ukwiki/uk_red_links/candidates/candidates_19.csv\n",
      "59/100\n",
      "/media/andrii/earth/Katia/CS_MasterThesis/data/ukwiki/uk_red_links/candidates/candidates_82.csv\n",
      "60/100\n",
      "/media/andrii/earth/Katia/CS_MasterThesis/data/ukwiki/uk_red_links/candidates/candidates_83.csv\n",
      "61/100\n",
      "/media/andrii/earth/Katia/CS_MasterThesis/data/ukwiki/uk_red_links/candidates/candidates_20.csv\n",
      "62/100\n",
      "/media/andrii/earth/Katia/CS_MasterThesis/data/ukwiki/uk_red_links/candidates/candidates_46.csv\n",
      "63/100\n",
      "/media/andrii/earth/Katia/CS_MasterThesis/data/ukwiki/uk_red_links/candidates/candidates_56.csv\n",
      "64/100\n",
      "/media/andrii/earth/Katia/CS_MasterThesis/data/ukwiki/uk_red_links/candidates/candidates_33.csv\n",
      "65/100\n",
      "/media/andrii/earth/Katia/CS_MasterThesis/data/ukwiki/uk_red_links/candidates/candidates_52.csv\n",
      "66/100\n",
      "/media/andrii/earth/Katia/CS_MasterThesis/data/ukwiki/uk_red_links/candidates/candidates_32.csv\n",
      "67/100\n",
      "/media/andrii/earth/Katia/CS_MasterThesis/data/ukwiki/uk_red_links/candidates/candidates_99.csv\n",
      "68/100\n",
      "/media/andrii/earth/Katia/CS_MasterThesis/data/ukwiki/uk_red_links/candidates/candidates_24.csv\n",
      "69/100\n",
      "/media/andrii/earth/Katia/CS_MasterThesis/data/ukwiki/uk_red_links/candidates/candidates_13.csv\n",
      "70/100\n",
      "/media/andrii/earth/Katia/CS_MasterThesis/data/ukwiki/uk_red_links/candidates/candidates_91.csv\n",
      "71/100\n",
      "/media/andrii/earth/Katia/CS_MasterThesis/data/ukwiki/uk_red_links/candidates/candidates_54.csv\n",
      "72/100\n",
      "/media/andrii/earth/Katia/CS_MasterThesis/data/ukwiki/uk_red_links/candidates/candidates_86.csv\n",
      "73/100\n",
      "/media/andrii/earth/Katia/CS_MasterThesis/data/ukwiki/uk_red_links/candidates/candidates_92.csv\n",
      "74/100\n",
      "/media/andrii/earth/Katia/CS_MasterThesis/data/ukwiki/uk_red_links/candidates/candidates_60.csv\n",
      "75/100\n",
      "/media/andrii/earth/Katia/CS_MasterThesis/data/ukwiki/uk_red_links/candidates/candidates_53.csv\n",
      "76/100\n",
      "/media/andrii/earth/Katia/CS_MasterThesis/data/ukwiki/uk_red_links/candidates/candidates_16.csv\n",
      "77/100\n",
      "/media/andrii/earth/Katia/CS_MasterThesis/data/ukwiki/uk_red_links/candidates/candidates_75.csv\n",
      "78/100\n",
      "/media/andrii/earth/Katia/CS_MasterThesis/data/ukwiki/uk_red_links/candidates/candidates_7.csv\n",
      "79/100\n",
      "/media/andrii/earth/Katia/CS_MasterThesis/data/ukwiki/uk_red_links/candidates/candidates_85.csv\n",
      "80/100\n",
      "/media/andrii/earth/Katia/CS_MasterThesis/data/ukwiki/uk_red_links/candidates/candidates_49.csv\n",
      "81/100\n",
      "/media/andrii/earth/Katia/CS_MasterThesis/data/ukwiki/uk_red_links/candidates/candidates_84.csv\n"
     ]
    },
    {
     "name": "stdout",
     "output_type": "stream",
     "text": [
      "82/100\n",
      "/media/andrii/earth/Katia/CS_MasterThesis/data/ukwiki/uk_red_links/candidates/candidates_51.csv\n",
      "83/100\n",
      "/media/andrii/earth/Katia/CS_MasterThesis/data/ukwiki/uk_red_links/candidates/candidates_43.csv\n",
      "84/100\n",
      "/media/andrii/earth/Katia/CS_MasterThesis/data/ukwiki/uk_red_links/candidates/candidates_8.csv\n",
      "85/100\n",
      "/media/andrii/earth/Katia/CS_MasterThesis/data/ukwiki/uk_red_links/candidates/candidates_61.csv\n",
      "86/100\n",
      "/media/andrii/earth/Katia/CS_MasterThesis/data/ukwiki/uk_red_links/candidates/candidates_39.csv\n",
      "87/100\n",
      "/media/andrii/earth/Katia/CS_MasterThesis/data/ukwiki/uk_red_links/candidates/candidates_64.csv\n",
      "88/100\n",
      "/media/andrii/earth/Katia/CS_MasterThesis/data/ukwiki/uk_red_links/candidates/candidates_41.csv\n",
      "89/100\n",
      "/media/andrii/earth/Katia/CS_MasterThesis/data/ukwiki/uk_red_links/candidates/candidates_48.csv\n",
      "90/100\n",
      "/media/andrii/earth/Katia/CS_MasterThesis/data/ukwiki/uk_red_links/candidates/candidates_29.csv\n",
      "91/100\n",
      "/media/andrii/earth/Katia/CS_MasterThesis/data/ukwiki/uk_red_links/candidates/candidates_26.csv\n",
      "92/100\n",
      "/media/andrii/earth/Katia/CS_MasterThesis/data/ukwiki/uk_red_links/candidates/candidates_22.csv\n",
      "93/100\n",
      "/media/andrii/earth/Katia/CS_MasterThesis/data/ukwiki/uk_red_links/candidates/candidates_55.csv\n",
      "94/100\n",
      "/media/andrii/earth/Katia/CS_MasterThesis/data/ukwiki/uk_red_links/candidates/candidates_2.csv\n",
      "95/100\n",
      "/media/andrii/earth/Katia/CS_MasterThesis/data/ukwiki/uk_red_links/candidates/candidates_18.csv\n",
      "96/100\n",
      "/media/andrii/earth/Katia/CS_MasterThesis/data/ukwiki/uk_red_links/candidates/candidates_12.csv\n",
      "97/100\n",
      "/media/andrii/earth/Katia/CS_MasterThesis/data/ukwiki/uk_red_links/candidates/candidates_25.csv\n",
      "98/100\n",
      "/media/andrii/earth/Katia/CS_MasterThesis/data/ukwiki/uk_red_links/candidates/candidates_71.csv\n",
      "99/100\n",
      "/media/andrii/earth/Katia/CS_MasterThesis/data/ukwiki/uk_red_links/candidates/candidates_27.csv\n",
      "100/100\n",
      "/media/andrii/earth/Katia/CS_MasterThesis/data/ukwiki/uk_red_links/candidates/candidates_96.csv\n",
      "Total time: 0.2 minutes\n"
     ]
    }
   ],
   "source": [
    "candidate_pairs = functions.load_csvs_to_df_general(PATH_TO_DATA_RL+'candidates/', files)"
   ]
  },
  {
   "cell_type": "code",
   "execution_count": 19,
   "metadata": {},
   "outputs": [
    {
     "data": {
      "text/html": [
       "<div>\n",
       "<style scoped>\n",
       "    .dataframe tbody tr th:only-of-type {\n",
       "        vertical-align: middle;\n",
       "    }\n",
       "\n",
       "    .dataframe tbody tr th {\n",
       "        vertical-align: top;\n",
       "    }\n",
       "\n",
       "    .dataframe thead th {\n",
       "        text-align: right;\n",
       "    }\n",
       "</style>\n",
       "<table border=\"1\" class=\"dataframe\">\n",
       "  <thead>\n",
       "    <tr style=\"text-align: right;\">\n",
       "      <th></th>\n",
       "      <th>red_link</th>\n",
       "      <th>candidate</th>\n",
       "    </tr>\n",
       "  </thead>\n",
       "  <tbody>\n",
       "    <tr>\n",
       "      <th>0</th>\n",
       "      <td>Штефан Коубек</td>\n",
       "      <td>Alexander Popp</td>\n",
       "    </tr>\n",
       "    <tr>\n",
       "      <th>1</th>\n",
       "      <td>Штефан Коубек</td>\n",
       "      <td>Stefan Koubek</td>\n",
       "    </tr>\n",
       "    <tr>\n",
       "      <th>2</th>\n",
       "      <td>Штефан Коубек</td>\n",
       "      <td>Markus Hipfl</td>\n",
       "    </tr>\n",
       "    <tr>\n",
       "      <th>3</th>\n",
       "      <td>Штефан Коубек</td>\n",
       "      <td>Cyril Saulnier</td>\n",
       "    </tr>\n",
       "    <tr>\n",
       "      <th>4</th>\n",
       "      <td>Штефан Коубек</td>\n",
       "      <td>Julien Boutter</td>\n",
       "    </tr>\n",
       "  </tbody>\n",
       "</table>\n",
       "</div>"
      ],
      "text/plain": [
       "        red_link       candidate\n",
       "0  Штефан Коубек  Alexander Popp\n",
       "1  Штефан Коубек   Stefan Koubek\n",
       "2  Штефан Коубек    Markus Hipfl\n",
       "3  Штефан Коубек  Cyril Saulnier\n",
       "4  Штефан Коубек  Julien Boutter"
      ]
     },
     "execution_count": 19,
     "metadata": {},
     "output_type": "execute_result"
    }
   ],
   "source": [
    "candidate_pairs.head()"
   ]
  },
  {
   "cell_type": "code",
   "execution_count": null,
   "metadata": {},
   "outputs": [],
   "source": []
  },
  {
   "cell_type": "markdown",
   "metadata": {},
   "source": [
    "### Load en pagelinks and prepare data for counting concurrent links of candidate pages"
   ]
  },
  {
   "cell_type": "code",
   "execution_count": 20,
   "metadata": {},
   "outputs": [],
   "source": [
    "# load en links for all pages\n",
    "en_pagelinks_np = np.load(PATH_TO_DATA_EN+'results_save.npy')\n",
    "\n",
    "en_pagelinks = pd.DataFrame(en_pagelinks_np)\n",
    "en_pagelinks.columns = ['parent_id', 'child_id']"
   ]
  },
  {
   "cell_type": "code",
   "execution_count": 20,
   "metadata": {},
   "outputs": [],
   "source": [
    "# # RUN ONCE!\n",
    "\n",
    "# # convert en pagelinks df to dictionary and save it\n",
    "# en_pagelinks_dict = {k: v['child_id'].tolist() for k,v in en_pagelinks.groupby('parent_id')}\n",
    "\n",
    "# # save en pagelinks dictionary as a pickle file\n",
    "# with open(PATH_TO_DATA_EN+'en_pagelinks_dict.p', 'wb') as fp:\n",
    "#     pickle.dump(en_pagelinks_dict, fp, protocol=pickle.HIGHEST_PROTOCOL)"
   ]
  },
  {
   "cell_type": "code",
   "execution_count": null,
   "metadata": {},
   "outputs": [],
   "source": []
  },
  {
   "cell_type": "code",
   "execution_count": 21,
   "metadata": {},
   "outputs": [],
   "source": [
    "# load pickle file\n",
    "with open(PATH_TO_DATA_EN+'en_pagelinks_dict.p', 'rb') as fp:\n",
    "    en_pagelinks_dict = pickle.load(fp)"
   ]
  },
  {
   "cell_type": "code",
   "execution_count": 22,
   "metadata": {},
   "outputs": [
    {
     "name": "stdout",
     "output_type": "stream",
     "text": [
      "number of unique candidates is 130152\n"
     ]
    }
   ],
   "source": [
    "# create {title: id} dict for candidates\n",
    "candidates_list = candidate_pairs['candidate'].drop_duplicates().values.tolist()\n",
    "print('number of unique candidates is', len(candidates_list))\n",
    "en_candidates_df = en_wikidata_wikipedia[en_wikidata_wikipedia['title'].isin(candidates_list)]"
   ]
  },
  {
   "cell_type": "code",
   "execution_count": 23,
   "metadata": {},
   "outputs": [
    {
     "data": {
      "text/html": [
       "<div>\n",
       "<style scoped>\n",
       "    .dataframe tbody tr th:only-of-type {\n",
       "        vertical-align: middle;\n",
       "    }\n",
       "\n",
       "    .dataframe tbody tr th {\n",
       "        vertical-align: top;\n",
       "    }\n",
       "\n",
       "    .dataframe thead th {\n",
       "        text-align: right;\n",
       "    }\n",
       "</style>\n",
       "<table border=\"1\" class=\"dataframe\">\n",
       "  <thead>\n",
       "    <tr style=\"text-align: right;\">\n",
       "      <th></th>\n",
       "      <th>wikidata_id</th>\n",
       "      <th>title</th>\n",
       "      <th>en_wikipedia_id</th>\n",
       "    </tr>\n",
       "  </thead>\n",
       "  <tbody>\n",
       "    <tr>\n",
       "      <th>246</th>\n",
       "      <td>4545902</td>\n",
       "      <td>10-foot user interface</td>\n",
       "      <td>4184791.0</td>\n",
       "    </tr>\n",
       "    <tr>\n",
       "      <th>326</th>\n",
       "      <td>4028187</td>\n",
       "      <td>100th Infantry Division (United States)</td>\n",
       "      <td>889510.0</td>\n",
       "    </tr>\n",
       "    <tr>\n",
       "      <th>566</th>\n",
       "      <td>4546968</td>\n",
       "      <td>10th (Irish) Division</td>\n",
       "      <td>396230.0</td>\n",
       "    </tr>\n",
       "    <tr>\n",
       "      <th>668</th>\n",
       "      <td>1288987</td>\n",
       "      <td>10th Primetime Emmy Awards</td>\n",
       "      <td>17451125.0</td>\n",
       "    </tr>\n",
       "    <tr>\n",
       "      <th>698</th>\n",
       "      <td>4547194</td>\n",
       "      <td>10th Youth in Film Awards</td>\n",
       "      <td>31747683.0</td>\n",
       "    </tr>\n",
       "  </tbody>\n",
       "</table>\n",
       "</div>"
      ],
      "text/plain": [
       "     wikidata_id                                    title  en_wikipedia_id\n",
       "246      4545902                   10-foot user interface        4184791.0\n",
       "326      4028187  100th Infantry Division (United States)         889510.0\n",
       "566      4546968                    10th (Irish) Division         396230.0\n",
       "668      1288987               10th Primetime Emmy Awards       17451125.0\n",
       "698      4547194                10th Youth in Film Awards       31747683.0"
      ]
     },
     "execution_count": 23,
     "metadata": {},
     "output_type": "execute_result"
    }
   ],
   "source": [
    "en_candidates_df.head()"
   ]
  },
  {
   "cell_type": "code",
   "execution_count": 43,
   "metadata": {},
   "outputs": [],
   "source": [
    "candidates_dict = dict(zip(en_candidates_df['title'], en_candidates_df['en_wikipedia_id']))"
   ]
  },
  {
   "cell_type": "code",
   "execution_count": 24,
   "metadata": {},
   "outputs": [],
   "source": [
    "# filter pagelinks keeping only with parent pages of candidates\n",
    "pagelinks_only_where_candidates = pd.merge(en_pagelinks, en_candidates_df, how='left', left_on=['child_id'], right_on=['en_wikipedia_id'])\n",
    "\n",
    "pagelinks_only_where_candidates = pagelinks_only_where_candidates[pd.notna(pagelinks_only_where_candidates['wikidata_id'])]\n",
    "\n",
    "\n",
    "parent_ids = pagelinks_only_where_candidates['parent_id'].drop_duplicates().values.tolist()\n",
    "\n",
    "parent_ids_df = pd.DataFrame(parent_ids, columns=['parent_id'])\n",
    "\n",
    "\n",
    "pagelinks_only_where_candidate_parents = pd.merge(en_pagelinks, parent_ids_df, how='left', left_on=['parent_id'], right_on=['parent_id'])\n",
    "\n",
    "pagelinks_parents = pagelinks_only_where_candidate_parents[['parent_id', 'child_id']]\n",
    "\n",
    "pagelinks_parents = pagelinks_parents.drop_duplicates()"
   ]
  },
  {
   "cell_type": "code",
   "execution_count": 37,
   "metadata": {},
   "outputs": [
    {
     "data": {
      "text/plain": [
       "(118955525, 2)"
      ]
     },
     "execution_count": 37,
     "metadata": {},
     "output_type": "execute_result"
    }
   ],
   "source": [
    "pagelinks_parents.shape"
   ]
  },
  {
   "cell_type": "code",
   "execution_count": 33,
   "metadata": {},
   "outputs": [
    {
     "data": {
      "text/plain": [
       "(161017765, 2)"
      ]
     },
     "execution_count": 33,
     "metadata": {},
     "output_type": "execute_result"
    }
   ],
   "source": [
    "en_pagelinks.shape"
   ]
  },
  {
   "cell_type": "code",
   "execution_count": 41,
   "metadata": {},
   "outputs": [],
   "source": [
    "# # RUN ONCE!\n",
    "\n",
    "# # convert en filtered pagelinks df to dictionary and save it\n",
    "# pagelinks_only_parents_dict = {k: v['child_id'].tolist() for k,v in pagelinks_parents.groupby('parent_id')}\n",
    "\n",
    "# # save en pagelinks dictionary as a pickle file\n",
    "# with open(PATH_TO_DATA_EN+'pagelinks_only_parents_dict.p', 'wb') as fp:\n",
    "#     pickle.dump(pagelinks_only_parents_dict, fp, protocol=pickle.HIGHEST_PROTOCOL)"
   ]
  },
  {
   "cell_type": "code",
   "execution_count": null,
   "metadata": {},
   "outputs": [],
   "source": []
  },
  {
   "cell_type": "code",
   "execution_count": null,
   "metadata": {},
   "outputs": [],
   "source": []
  },
  {
   "cell_type": "code",
   "execution_count": 48,
   "metadata": {},
   "outputs": [
    {
     "name": "stdout",
     "output_type": "stream",
     "text": [
      "Number of concurrent links for  Norwegian continental shelf  is 2664\n",
      "--- 5.411500692367554 seconds ---\n"
     ]
    }
   ],
   "source": [
    "# get concurrent links of a single candidate\n",
    "item = 'Norwegian continental shelf'\n",
    "cand_concur_dict = {}\n",
    "start_time = time.time()\n",
    "cand_id = candidates_dict.get(item)\n",
    "\n",
    "concurrent_set = set()\n",
    "for values in pagelinks_only_parents_dict.values():\n",
    "    if cand_id in values:\n",
    "        concurrent_set = concurrent_set|set(values)\n",
    "print('Number of concurrent links for ', item, ' is', len(concurrent_set))\n",
    "cand_concur_dict[cand_id] = concurrent_set\n",
    "\n",
    "print(\"--- %s seconds ---\" % (time.time() - start_time))"
   ]
  },
  {
   "cell_type": "code",
   "execution_count": null,
   "metadata": {},
   "outputs": [],
   "source": []
  },
  {
   "cell_type": "code",
   "execution_count": null,
   "metadata": {},
   "outputs": [],
   "source": []
  },
  {
   "cell_type": "code",
   "execution_count": null,
   "metadata": {},
   "outputs": [],
   "source": []
  },
  {
   "cell_type": "code",
   "execution_count": null,
   "metadata": {},
   "outputs": [],
   "source": []
  },
  {
   "cell_type": "markdown",
   "metadata": {},
   "source": [
    "### Get Wikidata-Wikipedia correspondences for Ukrainian pages"
   ]
  },
  {
   "cell_type": "code",
   "execution_count": 3,
   "metadata": {},
   "outputs": [],
   "source": [
    "ukwikidata = pd.read_csv(PATH_TO_WIKIDATA_UK+'ukwikidata.csv')"
   ]
  },
  {
   "cell_type": "code",
   "execution_count": 4,
   "metadata": {},
   "outputs": [],
   "source": [
    "uk_id_name = pd.read_csv(PATH_TO_DATA_UK+'ukwiki-20180920-id_name.csv', sep='^')"
   ]
  },
  {
   "cell_type": "code",
   "execution_count": 5,
   "metadata": {},
   "outputs": [],
   "source": [
    "uk_wikidata_wikipedia = pd.merge(ukwikidata, uk_id_name, how='left', left_on=['ips_site_page'], right_on=['title'])"
   ]
  },
  {
   "cell_type": "code",
   "execution_count": 6,
   "metadata": {},
   "outputs": [],
   "source": [
    "uk_wikidata_wikipedia = uk_wikidata_wikipedia[['ips_item_id', 'title', 'id']]\n",
    "uk_wikidata_wikipedia.columns = ['wikidata_id', 'title', 'uk_wikipedia_id']"
   ]
  },
  {
   "cell_type": "code",
   "execution_count": 7,
   "metadata": {},
   "outputs": [],
   "source": [
    "uk_wikidata_wikipedia = uk_wikidata_wikipedia.drop_duplicates()"
   ]
  },
  {
   "cell_type": "code",
   "execution_count": 8,
   "metadata": {},
   "outputs": [
    {
     "data": {
      "text/html": [
       "<div>\n",
       "<style scoped>\n",
       "    .dataframe tbody tr th:only-of-type {\n",
       "        vertical-align: middle;\n",
       "    }\n",
       "\n",
       "    .dataframe tbody tr th {\n",
       "        vertical-align: top;\n",
       "    }\n",
       "\n",
       "    .dataframe thead th {\n",
       "        text-align: right;\n",
       "    }\n",
       "</style>\n",
       "<table border=\"1\" class=\"dataframe\">\n",
       "  <thead>\n",
       "    <tr style=\"text-align: right;\">\n",
       "      <th></th>\n",
       "      <th>wikidata_id</th>\n",
       "      <th>title</th>\n",
       "      <th>uk_wikipedia_id</th>\n",
       "    </tr>\n",
       "  </thead>\n",
       "  <tbody>\n",
       "    <tr>\n",
       "      <th>0</th>\n",
       "      <td>4405243</td>\n",
       "      <td>'Lac Motion</td>\n",
       "      <td>1499746.0</td>\n",
       "    </tr>\n",
       "    <tr>\n",
       "      <th>1</th>\n",
       "      <td>4027892</td>\n",
       "      <td>+100500</td>\n",
       "      <td>1309248.0</td>\n",
       "    </tr>\n",
       "    <tr>\n",
       "      <th>2</th>\n",
       "      <td>1993825</td>\n",
       "      <td>06</td>\n",
       "      <td>699990.0</td>\n",
       "    </tr>\n",
       "    <tr>\n",
       "      <th>3</th>\n",
       "      <td>4206146</td>\n",
       "      <td>06704 Чайка-Б (тип атомних підводних човнів СРСР)</td>\n",
       "      <td>1415954.0</td>\n",
       "    </tr>\n",
       "    <tr>\n",
       "      <th>4</th>\n",
       "      <td>821727</td>\n",
       "      <td>1-й військовий округ (Третій Рейх)</td>\n",
       "      <td>1131096.0</td>\n",
       "    </tr>\n",
       "  </tbody>\n",
       "</table>\n",
       "</div>"
      ],
      "text/plain": [
       "   wikidata_id                                              title  \\\n",
       "0      4405243                                        'Lac Motion   \n",
       "1      4027892                                            +100500   \n",
       "2      1993825                                                 06   \n",
       "3      4206146  06704 Чайка-Б (тип атомних підводних човнів СРСР)   \n",
       "4       821727                 1-й військовий округ (Третій Рейх)   \n",
       "\n",
       "   uk_wikipedia_id  \n",
       "0        1499746.0  \n",
       "1        1309248.0  \n",
       "2         699990.0  \n",
       "3        1415954.0  \n",
       "4        1131096.0  "
      ]
     },
     "execution_count": 8,
     "metadata": {},
     "output_type": "execute_result"
    }
   ],
   "source": [
    "uk_wikidata_wikipedia.head()"
   ]
  },
  {
   "cell_type": "code",
   "execution_count": null,
   "metadata": {},
   "outputs": [],
   "source": []
  },
  {
   "cell_type": "code",
   "execution_count": 22,
   "metadata": {
    "scrolled": true
   },
   "outputs": [
    {
     "name": "stderr",
     "output_type": "stream",
     "text": [
      "/home/andrii/apps/anaconda3/lib/python3.6/site-packages/IPython/core/interactiveshell.py:3020: DtypeWarning: Columns (2) have mixed types. Specify dtype option on import or set low_memory=False.\n",
      "  interactivity=interactivity, compiler=compiler, result=result)\n"
     ]
    }
   ],
   "source": [
    "# load parent pages for uk red links\n",
    "red_links_with_parent_ids = pd.read_csv(PATH_TO_DATA_RL+'all_uk_redlinks_with_parent_ids.csv')"
   ]
  },
  {
   "cell_type": "code",
   "execution_count": null,
   "metadata": {},
   "outputs": [],
   "source": []
  },
  {
   "cell_type": "code",
   "execution_count": null,
   "metadata": {},
   "outputs": [],
   "source": []
  },
  {
   "cell_type": "code",
   "execution_count": null,
   "metadata": {},
   "outputs": [],
   "source": []
  },
  {
   "cell_type": "code",
   "execution_count": 133,
   "metadata": {},
   "outputs": [],
   "source": []
  },
  {
   "cell_type": "code",
   "execution_count": 71,
   "metadata": {},
   "outputs": [],
   "source": []
  },
  {
   "cell_type": "code",
   "execution_count": null,
   "metadata": {},
   "outputs": [],
   "source": []
  }
 ],
 "metadata": {
  "kernelspec": {
   "display_name": "Python 3",
   "language": "python",
   "name": "python3"
  },
  "language_info": {
   "codemirror_mode": {
    "name": "ipython",
    "version": 3
   },
   "file_extension": ".py",
   "mimetype": "text/x-python",
   "name": "python",
   "nbconvert_exporter": "python",
   "pygments_lexer": "ipython3",
   "version": "3.6.7"
  }
 },
 "nbformat": 4,
 "nbformat_minor": 2
}
