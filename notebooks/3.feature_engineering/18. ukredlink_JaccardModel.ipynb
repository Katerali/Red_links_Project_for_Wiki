{
 "cells": [
  {
   "cell_type": "code",
   "execution_count": 1,
   "metadata": {
    "collapsed": true
   },
   "outputs": [],
   "source": [
    "import pandas as pd\n",
    "import numpy as np\n",
    "import time\n",
    "import os\n",
    "import progressbar"
   ]
  },
  {
   "cell_type": "code",
   "execution_count": 2,
   "metadata": {
    "collapsed": true
   },
   "outputs": [],
   "source": [
    "import sys\n",
    "sys.path.insert(0, '/media/andrii/earth/Katia/CS_MasterThesis/Red_links_Project_for_Wiki_draft/py')\n",
    "import functions"
   ]
  },
  {
   "cell_type": "markdown",
   "metadata": {},
   "source": [
    "### Load en_wiki"
   ]
  },
  {
   "cell_type": "code",
   "execution_count": 3,
   "metadata": {
    "collapsed": true
   },
   "outputs": [],
   "source": [
    "#path to data\n",
    "PATH_TO_DATA = '/media/andrii/earth/Katia/CS_MasterThesis/data/'\n",
    "PATH_TO_DATA_UK = PATH_TO_DATA+\"ukwiki/\"\n",
    "PATH_TO_DATA_EN = PATH_TO_DATA+\"enwiki/\""
   ]
  },
  {
   "cell_type": "code",
   "execution_count": 4,
   "metadata": {
    "collapsed": true
   },
   "outputs": [],
   "source": [
    "data_time = '20180920'"
   ]
  },
  {
   "cell_type": "code",
   "execution_count": 5,
   "metadata": {
    "collapsed": false
   },
   "outputs": [
    {
     "data": {
      "text/plain": [
       "55"
      ]
     },
     "execution_count": 5,
     "metadata": {},
     "output_type": "execute_result"
    }
   ],
   "source": [
    "ENWIKI_ART_FNMS = functions.list_from_dir(PATH_TO_DATA_EN+'enwiki_20180920/art_red/', 'art.csv.gz', [])\n",
    "len(ENWIKI_ART_FNMS)"
   ]
  },
  {
   "cell_type": "code",
   "execution_count": 6,
   "metadata": {
    "collapsed": false
   },
   "outputs": [
    {
     "name": "stdout",
     "output_type": "stream",
     "text": [
      "55\n",
      "1/55\n",
      "/media/andrii/earth/Katia/CS_MasterThesis/data/enwiki/enwiki_20180920/art_red/enwiki-20180920-pages-meta-current14.xml-p6197598p7697598.bz2_art.csv.gz\n",
      "Total time: 0.3 minutes\n"
     ]
    }
   ],
   "source": [
    "df_en, df_red = functions.load_csvs_to_df(PATH_TO_DATA_EN+'enwiki_20180920/art_red/', ENWIKI_ART_FNMS)"
   ]
  },
  {
   "cell_type": "code",
   "execution_count": 7,
   "metadata": {
    "collapsed": false
   },
   "outputs": [
    {
     "name": "stdout",
     "output_type": "stream",
     "text": [
      "(4553133, 2)\n",
      "Index(['id', 'link_id'], dtype='object')\n"
     ]
    }
   ],
   "source": [
    "print(df_en.shape)\n",
    "print(df_en.columns)"
   ]
  },
  {
   "cell_type": "code",
   "execution_count": null,
   "metadata": {
    "collapsed": true
   },
   "outputs": [],
   "source": []
  },
  {
   "cell_type": "code",
   "execution_count": 8,
   "metadata": {
    "collapsed": true
   },
   "outputs": [],
   "source": [
    "# load en article names"
   ]
  },
  {
   "cell_type": "code",
   "execution_count": 9,
   "metadata": {
    "collapsed": true
   },
   "outputs": [],
   "source": [
    "EN_ID_NAME = \"enwiki-\"+data_time+\"-id_name.csv\""
   ]
  },
  {
   "cell_type": "code",
   "execution_count": 10,
   "metadata": {
    "collapsed": false
   },
   "outputs": [
    {
     "name": "stdout",
     "output_type": "stream",
     "text": [
      "(5719743, 2)\n",
      "Index(['id', 'title'], dtype='object')\n"
     ]
    }
   ],
   "source": [
    "df_en_name = pd.read_csv(PATH_TO_DATA_EN+'enwiki_20180920/'+EN_ID_NAME, encoding='UTF-8', quotechar=\"\\\"\", sep='^')\n",
    "df_en_name = df_en_name[['id','title']]\n",
    "print(df_en_name.shape)\n",
    "print(df_en_name.columns)"
   ]
  },
  {
   "cell_type": "markdown",
   "metadata": {},
   "source": [
    "### Load uk_wiki"
   ]
  },
  {
   "cell_type": "code",
   "execution_count": 11,
   "metadata": {
    "collapsed": true
   },
   "outputs": [],
   "source": [
    "UKWIKI_ART_FNMS = functions.list_from_dir(PATH_TO_DATA_UK+'ukwiki_20180920/', 'pages-links.csv.gz', [])"
   ]
  },
  {
   "cell_type": "code",
   "execution_count": 12,
   "metadata": {
    "collapsed": false
   },
   "outputs": [
    {
     "data": {
      "text/plain": [
       "['ukwiki-20180920-pages-links.csv.gz']"
      ]
     },
     "execution_count": 12,
     "metadata": {},
     "output_type": "execute_result"
    }
   ],
   "source": [
    "UKWIKI_ART_FNMS"
   ]
  },
  {
   "cell_type": "code",
   "execution_count": 13,
   "metadata": {
    "collapsed": false
   },
   "outputs": [
    {
     "name": "stdout",
     "output_type": "stream",
     "text": [
      "1\n",
      "1/1\n",
      "/media/andrii/earth/Katia/CS_MasterThesis/data/ukwiki/ukwiki_20180920/ukwiki-20180920-pages-links.csv.gz\n",
      "Total time: 1.3 minutes\n"
     ]
    }
   ],
   "source": [
    "df_uk_blue, df_uk_red = functions.load_csvs_to_df(PATH_TO_DATA_UK+'ukwiki_20180920/', UKWIKI_ART_FNMS)"
   ]
  },
  {
   "cell_type": "code",
   "execution_count": 14,
   "metadata": {
    "collapsed": false
   },
   "outputs": [
    {
     "name": "stdout",
     "output_type": "stream",
     "text": [
      "(19818824, 2)\n",
      "Index(['id', 'link_id'], dtype='object')\n",
      "(2874954, 2)\n",
      "Index(['id', 'link_val'], dtype='object')\n"
     ]
    }
   ],
   "source": [
    "print(df_uk_blue.shape)\n",
    "print(df_uk_blue.columns)\n",
    "\n",
    "print(df_uk_red.shape)\n",
    "print(df_uk_red.columns)"
   ]
  },
  {
   "cell_type": "code",
   "execution_count": null,
   "metadata": {
    "collapsed": true
   },
   "outputs": [],
   "source": []
  },
  {
   "cell_type": "code",
   "execution_count": 15,
   "metadata": {
    "collapsed": true
   },
   "outputs": [],
   "source": [
    "# load uk article names"
   ]
  },
  {
   "cell_type": "code",
   "execution_count": 16,
   "metadata": {
    "collapsed": false
   },
   "outputs": [
    {
     "data": {
      "text/plain": [
       "'ukwiki-20180920-id_name.csv'"
      ]
     },
     "execution_count": 16,
     "metadata": {},
     "output_type": "execute_result"
    }
   ],
   "source": [
    "UK_ID_NAME = \"ukwiki-\"+data_time+\"-id_name.csv\"\n",
    "UK_ID_NAME"
   ]
  },
  {
   "cell_type": "code",
   "execution_count": 17,
   "metadata": {
    "collapsed": false
   },
   "outputs": [
    {
     "name": "stdout",
     "output_type": "stream",
     "text": [
      "(819212, 3)\n",
      "Index(['id', 'title', 'length'], dtype='object')\n"
     ]
    }
   ],
   "source": [
    "df_uk_name = pd.read_csv(PATH_TO_DATA_UK+'ukwiki_20180920/'+UK_ID_NAME, sep='^')\n",
    "\n",
    "print(df_uk_name.shape)\n",
    "print(df_uk_name.columns)"
   ]
  },
  {
   "cell_type": "code",
   "execution_count": null,
   "metadata": {
    "collapsed": true
   },
   "outputs": [],
   "source": []
  },
  {
   "cell_type": "code",
   "execution_count": null,
   "metadata": {
    "collapsed": true
   },
   "outputs": [],
   "source": []
  },
  {
   "cell_type": "code",
   "execution_count": 18,
   "metadata": {
    "collapsed": false
   },
   "outputs": [],
   "source": [
    "# add ids to red links\n",
    "\n",
    "red_links_ids = functions.ids_red_links(df_uk_name['id'], df_uk_red['link_val'])\n",
    "red_links_ids['is_red_link'] = True"
   ]
  },
  {
   "cell_type": "code",
   "execution_count": 19,
   "metadata": {
    "collapsed": false
   },
   "outputs": [
    {
     "name": "stdout",
     "output_type": "stream",
     "text": [
      "(2382910, 4)\n",
      "Index(['id', 'is_red_link', 'length', 'title'], dtype='object')\n"
     ]
    }
   ],
   "source": [
    "# create dataframe with titles and red link titles / add it to article titles df\n",
    "df_uk_name['is_red_link'] = False\n",
    "df_uk_name = pd.concat((df_uk_name,red_links_ids))\n",
    "df_uk_name = df_uk_name.reset_index(drop=True)\n",
    "\n",
    "print(df_uk_name.shape)\n",
    "print(df_uk_name.columns)\n"
   ]
  },
  {
   "cell_type": "code",
   "execution_count": 20,
   "metadata": {
    "collapsed": true
   },
   "outputs": [],
   "source": [
    "# Variant 1\n",
    "\n",
    "# # add link ids to df_uk_red\n",
    "# df_uk_red = df_uk_red.merge(right = red_links_ids, left_on = 'link_val', right_on = 'title', how = 'left')\n",
    "# df_uk_red = df_uk_red[['id_x','id_y']]\n",
    "# df_uk_red.columns = ['id', 'link_id']"
   ]
  },
  {
   "cell_type": "code",
   "execution_count": 23,
   "metadata": {
    "collapsed": false
   },
   "outputs": [
    {
     "name": "stderr",
     "output_type": "stream",
     "text": [
      "/home/andrii/apps/anaconda3/lib/python3.6/site-packages/IPython/core/interactiveshell.py:2717: DtypeWarning: Columns (3) have mixed types. Specify dtype option on import or set low_memory=False.\n",
      "  interactivity=interactivity, compiler=compiler, result=result)\n"
     ]
    }
   ],
   "source": [
    "# Variant 2\n",
    "\n",
    "df_uk_red = pd.read_csv(PATH_TO_DATA_UK+'uk_red_links/'+'all_uk_redlinks_with_parent_ids.csv')\n",
    "\n",
    "df_uk_red.head()\n",
    "\n",
    "df_uk_red = df_uk_red[['id_parent', 'red_link_id']]\n",
    "df_uk_red.columns = ['id', 'link_id']"
   ]
  },
  {
   "cell_type": "code",
   "execution_count": 24,
   "metadata": {
    "collapsed": true
   },
   "outputs": [],
   "source": [
    "# concatenate red and blue article to one df\n",
    "df_uk = pd.concat((df_uk_red, df_uk_blue))"
   ]
  },
  {
   "cell_type": "code",
   "execution_count": 64,
   "metadata": {
    "collapsed": false
   },
   "outputs": [
    {
     "name": "stdout",
     "output_type": "stream",
     "text": [
      "(20867399, 2)\n"
     ]
    }
   ],
   "source": [
    "print(df_uk.shape)\n",
    "#print(df_uk_blue.shape[0] + df_uk_red.shape[0])"
   ]
  },
  {
   "cell_type": "code",
   "execution_count": 26,
   "metadata": {
    "collapsed": false
   },
   "outputs": [],
   "source": [
    "del df_uk_red, df_uk_blue"
   ]
  },
  {
   "cell_type": "code",
   "execution_count": null,
   "metadata": {
    "collapsed": true
   },
   "outputs": [],
   "source": []
  },
  {
   "cell_type": "markdown",
   "metadata": {},
   "source": [
    "### Load uk-en correpondences"
   ]
  },
  {
   "cell_type": "code",
   "execution_count": 45,
   "metadata": {
    "collapsed": false
   },
   "outputs": [],
   "source": [
    "df_uk_name = pd.read_csv(PATH_TO_DATA_UK+'ukwiki_20180920/uk_names.csv.gz')\n",
    "df_en_name = pd.read_csv(PATH_TO_DATA_EN+'enwiki_20180920/en_names.csv.gz')"
   ]
  },
  {
   "cell_type": "code",
   "execution_count": 18,
   "metadata": {
    "collapsed": false
   },
   "outputs": [
    {
     "data": {
      "text/html": [
       "<div>\n",
       "<table border=\"1\" class=\"dataframe\">\n",
       "  <thead>\n",
       "    <tr style=\"text-align: right;\">\n",
       "      <th></th>\n",
       "      <th>id</th>\n",
       "      <th>title</th>\n",
       "      <th>is_red_link</th>\n",
       "      <th>id_en</th>\n",
       "    </tr>\n",
       "  </thead>\n",
       "  <tbody>\n",
       "    <tr>\n",
       "      <th>0</th>\n",
       "      <td>13</td>\n",
       "      <td>Об'єкт (філософія)</td>\n",
       "      <td>False</td>\n",
       "      <td>18963910.0</td>\n",
       "    </tr>\n",
       "    <tr>\n",
       "      <th>1</th>\n",
       "      <td>13</td>\n",
       "      <td>Карл Ріттер</td>\n",
       "      <td>False</td>\n",
       "      <td>18963910.0</td>\n",
       "    </tr>\n",
       "    <tr>\n",
       "      <th>2</th>\n",
       "      <td>13</td>\n",
       "      <td>Александер фон Гумбольдт</td>\n",
       "      <td>False</td>\n",
       "      <td>18963910.0</td>\n",
       "    </tr>\n",
       "    <tr>\n",
       "      <th>3</th>\n",
       "      <td>13</td>\n",
       "      <td>Герард Меркатор</td>\n",
       "      <td>False</td>\n",
       "      <td>18963910.0</td>\n",
       "    </tr>\n",
       "    <tr>\n",
       "      <th>4</th>\n",
       "      <td>13</td>\n",
       "      <td>Мухаммад Аль-Ідрісі</td>\n",
       "      <td>False</td>\n",
       "      <td>18963910.0</td>\n",
       "    </tr>\n",
       "  </tbody>\n",
       "</table>\n",
       "</div>"
      ],
      "text/plain": [
       "   id                     title is_red_link       id_en\n",
       "0  13        Об'єкт (філософія)       False  18963910.0\n",
       "1  13               Карл Ріттер       False  18963910.0\n",
       "2  13  Александер фон Гумбольдт       False  18963910.0\n",
       "3  13           Герард Меркатор       False  18963910.0\n",
       "4  13       Мухаммад Аль-Ідрісі       False  18963910.0"
      ]
     },
     "execution_count": 18,
     "metadata": {},
     "output_type": "execute_result"
    }
   ],
   "source": [
    "df_uk_name.head()"
   ]
  },
  {
   "cell_type": "code",
   "execution_count": 19,
   "metadata": {
    "collapsed": false
   },
   "outputs": [
    {
     "data": {
      "text/html": [
       "<div>\n",
       "<table border=\"1\" class=\"dataframe\">\n",
       "  <thead>\n",
       "    <tr style=\"text-align: right;\">\n",
       "      <th></th>\n",
       "      <th>id</th>\n",
       "      <th>title</th>\n",
       "      <th>id_uk</th>\n",
       "    </tr>\n",
       "  </thead>\n",
       "  <tbody>\n",
       "    <tr>\n",
       "      <th>0</th>\n",
       "      <td>12</td>\n",
       "      <td>Anarchism</td>\n",
       "      <td>12101.0</td>\n",
       "    </tr>\n",
       "    <tr>\n",
       "      <th>1</th>\n",
       "      <td>25</td>\n",
       "      <td>Autism</td>\n",
       "      <td>37656.0</td>\n",
       "    </tr>\n",
       "    <tr>\n",
       "      <th>2</th>\n",
       "      <td>39</td>\n",
       "      <td>Albedo</td>\n",
       "      <td>10899.0</td>\n",
       "    </tr>\n",
       "    <tr>\n",
       "      <th>3</th>\n",
       "      <td>290</td>\n",
       "      <td>A</td>\n",
       "      <td>235422.0</td>\n",
       "    </tr>\n",
       "    <tr>\n",
       "      <th>4</th>\n",
       "      <td>303</td>\n",
       "      <td>Alabama</td>\n",
       "      <td>6320.0</td>\n",
       "    </tr>\n",
       "  </tbody>\n",
       "</table>\n",
       "</div>"
      ],
      "text/plain": [
       "    id      title     id_uk\n",
       "0   12  Anarchism   12101.0\n",
       "1   25     Autism   37656.0\n",
       "2   39     Albedo   10899.0\n",
       "3  290          A  235422.0\n",
       "4  303    Alabama    6320.0"
      ]
     },
     "execution_count": 19,
     "metadata": {},
     "output_type": "execute_result"
    }
   ],
   "source": [
    "df_en_name.head()"
   ]
  },
  {
   "cell_type": "code",
   "execution_count": null,
   "metadata": {
    "collapsed": true
   },
   "outputs": [],
   "source": []
  },
  {
   "cell_type": "code",
   "execution_count": null,
   "metadata": {
    "collapsed": true
   },
   "outputs": [],
   "source": []
  },
  {
   "cell_type": "code",
   "execution_count": 25,
   "metadata": {
    "collapsed": true
   },
   "outputs": [],
   "source": [
    "# load encoding from file\n",
    "en_nontranslated_encoding = np.load(PATH_TO_DATA+'en_nontranslated_encoding_draft.npy')\n",
    "en_nontranslated_ids = np.load(PATH_TO_DATA+'en_nontranslated_ids_draft.npy')"
   ]
  },
  {
   "cell_type": "code",
   "execution_count": 36,
   "metadata": {
    "collapsed": false
   },
   "outputs": [
    {
     "data": {
      "text/plain": [
       "array([     344,      615,      643, ..., 57258258, 57715716, 58144667])"
      ]
     },
     "execution_count": 36,
     "metadata": {},
     "output_type": "execute_result"
    }
   ],
   "source": [
    "en_nontranslated_ids"
   ]
  },
  {
   "cell_type": "code",
   "execution_count": 31,
   "metadata": {
    "collapsed": false
   },
   "outputs": [
    {
     "data": {
      "text/plain": [
       "array([{6771078, 7558407, 7364232, 7354126, 7338001, 6963476, 7368729, 6712860, 7338041, 6349630, 7377736, 7353548, 7323731, 6750805, 7324000, 7368672, 7331300, 7571304, 7232746, 7443960, 6747004, 7353597, 6963455},\n",
       "       {7441155, 7302788, 6669315, 6936068, 7441414, 7441292, 6614034, 7441178, 6913179, 7441439, 7441314, 7441331, 6236472, 7441468, 7441362, 7441493, 7440984, 6930664, 7440873, 7441386, 7441266, 7584249, 7501052},\n",
       "       {6268548, 6481925, 6870788, 6275482, 7434910, 7073059, 7164323, 7542058, 6361135, 6804166, 6870983, 7038409, 6766156, 6558033, 6914005, 7078613, 6593111, 6835293, 7074660, 7561447, 6360939, 6663147, 6525805, 7178348, 6655090, 6220797},\n",
       "       ...,\n",
       "       {6815488, 7249665, 6737538, 7112706, 7187973, 7336074, 7618448, 7137688, 6761880, 6646682, 7220640, 7307810, 6643235, 6693796, 6746918, 7469478, 7664297, 6489651, 6457526, 7351351, 6626489, 7332793, 7497403, 6958397, 7209280, 7073473, 6246466, 6532674, 7079361, 6831561, 6659786, 7536459, 7661642, 7585741, 7249870, 7689423, 6333142, 6751062, 7010135, 7694939, 6737503, 6216162, 6274787, 7078754, 7280868, 6257001, 6385402, 6278779, 6977532},\n",
       "       {7539972, 6258053, 6529160, 6602893, 6423704, 7010981, 7578409, 7539759, 6304584, 7450318, 6402895, 6987091, 7510485, 7346135, 7627097, 6251482, 6603100, 6649573, 6511085, 7128691, 6402293},\n",
       "       {6515462, 7117196, 6504079, 6737426, 7646869, 6707496, 6215983, 6216253, 7459647, 6987456, 7556035, 6356549, 6215628, 6215886, 6894169, 7431774, 6216292, 6310634, 6375148, 6211696, 6681588, 7199100}],\n",
       "      dtype=object)"
      ]
     },
     "execution_count": 31,
     "metadata": {},
     "output_type": "execute_result"
    }
   ],
   "source": [
    "en_nontranslated_encoding"
   ]
  },
  {
   "cell_type": "markdown",
   "metadata": {},
   "source": [
    "### Encode red links incoming en links"
   ]
  },
  {
   "cell_type": "code",
   "execution_count": 49,
   "metadata": {
    "collapsed": true
   },
   "outputs": [],
   "source": [
    "max_id = np.max(df_uk_name['id'])"
   ]
  },
  {
   "cell_type": "code",
   "execution_count": 73,
   "metadata": {
    "collapsed": false
   },
   "outputs": [
    {
     "ename": "KeyError",
     "evalue": "\"['2817993' '2817994' '2817994' ... 2773289 340314 340314] not in index\"",
     "output_type": "error",
     "traceback": [
      "\u001b[0;31m---------------------------------------------------------------------------\u001b[0m",
      "\u001b[0;31mKeyError\u001b[0m                                  Traceback (most recent call last)",
      "\u001b[0;32m<ipython-input-73-eff3ea441a17>\u001b[0m in \u001b[0;36m<module>\u001b[0;34m()\u001b[0m\n\u001b[0;32m----> 1\u001b[0;31m \u001b[0mdf_uk\u001b[0m\u001b[0;34m[\u001b[0m\u001b[0mdf_uk\u001b[0m\u001b[0;34m[\u001b[0m\u001b[0;34m'link_id'\u001b[0m\u001b[0;34m]\u001b[0m\u001b[0;34m]\u001b[0m\u001b[0;34m.\u001b[0m\u001b[0mdtypes\u001b[0m\u001b[0;34m\u001b[0m\u001b[0m\n\u001b[0m",
      "\u001b[0;32m/home/andrii/apps/anaconda3/lib/python3.6/site-packages/pandas/core/frame.py\u001b[0m in \u001b[0;36m__getitem__\u001b[0;34m(self, key)\u001b[0m\n\u001b[1;32m   2051\u001b[0m         \u001b[0;32mif\u001b[0m \u001b[0misinstance\u001b[0m\u001b[0;34m(\u001b[0m\u001b[0mkey\u001b[0m\u001b[0;34m,\u001b[0m \u001b[0;34m(\u001b[0m\u001b[0mSeries\u001b[0m\u001b[0;34m,\u001b[0m \u001b[0mnp\u001b[0m\u001b[0;34m.\u001b[0m\u001b[0mndarray\u001b[0m\u001b[0;34m,\u001b[0m \u001b[0mIndex\u001b[0m\u001b[0;34m,\u001b[0m \u001b[0mlist\u001b[0m\u001b[0;34m)\u001b[0m\u001b[0;34m)\u001b[0m\u001b[0;34m:\u001b[0m\u001b[0;34m\u001b[0m\u001b[0m\n\u001b[1;32m   2052\u001b[0m             \u001b[0;31m# either boolean or fancy integer index\u001b[0m\u001b[0;34m\u001b[0m\u001b[0;34m\u001b[0m\u001b[0m\n\u001b[0;32m-> 2053\u001b[0;31m             \u001b[0;32mreturn\u001b[0m \u001b[0mself\u001b[0m\u001b[0;34m.\u001b[0m\u001b[0m_getitem_array\u001b[0m\u001b[0;34m(\u001b[0m\u001b[0mkey\u001b[0m\u001b[0;34m)\u001b[0m\u001b[0;34m\u001b[0m\u001b[0m\n\u001b[0m\u001b[1;32m   2054\u001b[0m         \u001b[0;32melif\u001b[0m \u001b[0misinstance\u001b[0m\u001b[0;34m(\u001b[0m\u001b[0mkey\u001b[0m\u001b[0;34m,\u001b[0m \u001b[0mDataFrame\u001b[0m\u001b[0;34m)\u001b[0m\u001b[0;34m:\u001b[0m\u001b[0;34m\u001b[0m\u001b[0m\n\u001b[1;32m   2055\u001b[0m             \u001b[0;32mreturn\u001b[0m \u001b[0mself\u001b[0m\u001b[0;34m.\u001b[0m\u001b[0m_getitem_frame\u001b[0m\u001b[0;34m(\u001b[0m\u001b[0mkey\u001b[0m\u001b[0;34m)\u001b[0m\u001b[0;34m\u001b[0m\u001b[0m\n",
      "\u001b[0;32m/home/andrii/apps/anaconda3/lib/python3.6/site-packages/pandas/core/frame.py\u001b[0m in \u001b[0;36m_getitem_array\u001b[0;34m(self, key)\u001b[0m\n\u001b[1;32m   2095\u001b[0m             \u001b[0;32mreturn\u001b[0m \u001b[0mself\u001b[0m\u001b[0;34m.\u001b[0m\u001b[0mtake\u001b[0m\u001b[0;34m(\u001b[0m\u001b[0mindexer\u001b[0m\u001b[0;34m,\u001b[0m \u001b[0maxis\u001b[0m\u001b[0;34m=\u001b[0m\u001b[0;36m0\u001b[0m\u001b[0;34m,\u001b[0m \u001b[0mconvert\u001b[0m\u001b[0;34m=\u001b[0m\u001b[0;32mFalse\u001b[0m\u001b[0;34m)\u001b[0m\u001b[0;34m\u001b[0m\u001b[0m\n\u001b[1;32m   2096\u001b[0m         \u001b[0;32melse\u001b[0m\u001b[0;34m:\u001b[0m\u001b[0;34m\u001b[0m\u001b[0m\n\u001b[0;32m-> 2097\u001b[0;31m             \u001b[0mindexer\u001b[0m \u001b[0;34m=\u001b[0m \u001b[0mself\u001b[0m\u001b[0;34m.\u001b[0m\u001b[0mix\u001b[0m\u001b[0;34m.\u001b[0m\u001b[0m_convert_to_indexer\u001b[0m\u001b[0;34m(\u001b[0m\u001b[0mkey\u001b[0m\u001b[0;34m,\u001b[0m \u001b[0maxis\u001b[0m\u001b[0;34m=\u001b[0m\u001b[0;36m1\u001b[0m\u001b[0;34m)\u001b[0m\u001b[0;34m\u001b[0m\u001b[0m\n\u001b[0m\u001b[1;32m   2098\u001b[0m             \u001b[0;32mreturn\u001b[0m \u001b[0mself\u001b[0m\u001b[0;34m.\u001b[0m\u001b[0mtake\u001b[0m\u001b[0;34m(\u001b[0m\u001b[0mindexer\u001b[0m\u001b[0;34m,\u001b[0m \u001b[0maxis\u001b[0m\u001b[0;34m=\u001b[0m\u001b[0;36m1\u001b[0m\u001b[0;34m,\u001b[0m \u001b[0mconvert\u001b[0m\u001b[0;34m=\u001b[0m\u001b[0;32mTrue\u001b[0m\u001b[0;34m)\u001b[0m\u001b[0;34m\u001b[0m\u001b[0m\n\u001b[1;32m   2099\u001b[0m \u001b[0;34m\u001b[0m\u001b[0m\n",
      "\u001b[0;32m/home/andrii/apps/anaconda3/lib/python3.6/site-packages/pandas/core/indexing.py\u001b[0m in \u001b[0;36m_convert_to_indexer\u001b[0;34m(self, obj, axis, is_setter)\u001b[0m\n\u001b[1;32m   1228\u001b[0m                 \u001b[0mmask\u001b[0m \u001b[0;34m=\u001b[0m \u001b[0mcheck\u001b[0m \u001b[0;34m==\u001b[0m \u001b[0;34m-\u001b[0m\u001b[0;36m1\u001b[0m\u001b[0;34m\u001b[0m\u001b[0m\n\u001b[1;32m   1229\u001b[0m                 \u001b[0;32mif\u001b[0m \u001b[0mmask\u001b[0m\u001b[0;34m.\u001b[0m\u001b[0many\u001b[0m\u001b[0;34m(\u001b[0m\u001b[0;34m)\u001b[0m\u001b[0;34m:\u001b[0m\u001b[0;34m\u001b[0m\u001b[0m\n\u001b[0;32m-> 1230\u001b[0;31m                     \u001b[0;32mraise\u001b[0m \u001b[0mKeyError\u001b[0m\u001b[0;34m(\u001b[0m\u001b[0;34m'%s not in index'\u001b[0m \u001b[0;34m%\u001b[0m \u001b[0mobjarr\u001b[0m\u001b[0;34m[\u001b[0m\u001b[0mmask\u001b[0m\u001b[0;34m]\u001b[0m\u001b[0;34m)\u001b[0m\u001b[0;34m\u001b[0m\u001b[0m\n\u001b[0m\u001b[1;32m   1231\u001b[0m \u001b[0;34m\u001b[0m\u001b[0m\n\u001b[1;32m   1232\u001b[0m                 \u001b[0;32mreturn\u001b[0m \u001b[0m_values_from_object\u001b[0m\u001b[0;34m(\u001b[0m\u001b[0mindexer\u001b[0m\u001b[0;34m)\u001b[0m\u001b[0;34m\u001b[0m\u001b[0m\n",
      "\u001b[0;31mKeyError\u001b[0m: \"['2817993' '2817994' '2817994' ... 2773289 340314 340314] not in index\""
     ]
    }
   ],
   "source": [
    "df_uk[df_uk['link_id']].dtypes"
   ]
  },
  {
   "cell_type": "code",
   "execution_count": 72,
   "metadata": {
    "collapsed": false
   },
   "outputs": [
    {
     "ename": "TypeError",
     "evalue": "'<' not supported between instances of 'numpy.ndarray' and 'str'",
     "output_type": "error",
     "traceback": [
      "\u001b[0;31m---------------------------------------------------------------------------\u001b[0m",
      "\u001b[0;31mTypeError\u001b[0m                                 Traceback (most recent call last)",
      "\u001b[0;32m<ipython-input-72-00acf2336dc1>\u001b[0m in \u001b[0;36m<module>\u001b[0;34m()\u001b[0m\n\u001b[1;32m      2\u001b[0m \u001b[0mmax_id\u001b[0m \u001b[0;34m=\u001b[0m \u001b[0mnp\u001b[0m\u001b[0;34m.\u001b[0m\u001b[0mmax\u001b[0m\u001b[0;34m(\u001b[0m\u001b[0mdf_uk_name\u001b[0m\u001b[0;34m[\u001b[0m\u001b[0;34m'id'\u001b[0m\u001b[0;34m]\u001b[0m\u001b[0;34m)\u001b[0m\u001b[0;34m\u001b[0m\u001b[0m\n\u001b[1;32m      3\u001b[0m \u001b[0mdf_uk\u001b[0m \u001b[0;34m=\u001b[0m \u001b[0mdf_uk\u001b[0m\u001b[0;34m[\u001b[0m\u001b[0mpd\u001b[0m\u001b[0;34m.\u001b[0m\u001b[0mnotnull\u001b[0m\u001b[0;34m(\u001b[0m\u001b[0mdf_uk\u001b[0m\u001b[0;34m[\u001b[0m\u001b[0;34m'link_id'\u001b[0m\u001b[0;34m]\u001b[0m\u001b[0;34m)\u001b[0m\u001b[0;34m]\u001b[0m\u001b[0;34m\u001b[0m\u001b[0m\n\u001b[0;32m----> 4\u001b[0;31m \u001b[0mdf_uk_red\u001b[0m \u001b[0;34m=\u001b[0m \u001b[0mdf_uk\u001b[0m\u001b[0;34m[\u001b[0m\u001b[0mdf_uk\u001b[0m\u001b[0;34m[\u001b[0m\u001b[0;34m'link_id'\u001b[0m\u001b[0;34m]\u001b[0m\u001b[0;34m>\u001b[0m\u001b[0mmax_id\u001b[0m\u001b[0;34m]\u001b[0m\u001b[0;34m\u001b[0m\u001b[0m\n\u001b[0m\u001b[1;32m      5\u001b[0m \u001b[0muk_red_ids\u001b[0m \u001b[0;34m=\u001b[0m \u001b[0mdf_uk_red\u001b[0m\u001b[0;34m[\u001b[0m\u001b[0;34m'link_id'\u001b[0m\u001b[0;34m]\u001b[0m\u001b[0;34m.\u001b[0m\u001b[0munique\u001b[0m\u001b[0;34m(\u001b[0m\u001b[0;34m)\u001b[0m\u001b[0;34m\u001b[0m\u001b[0m\n\u001b[1;32m      6\u001b[0m \u001b[0mprint\u001b[0m\u001b[0;34m(\u001b[0m\u001b[0;34m'Number of red links in uk wiki: %d'\u001b[0m \u001b[0;34m%\u001b[0m\u001b[0;34m(\u001b[0m\u001b[0mlen\u001b[0m\u001b[0;34m(\u001b[0m\u001b[0muk_red_ids\u001b[0m\u001b[0;34m)\u001b[0m\u001b[0;34m)\u001b[0m\u001b[0;34m)\u001b[0m\u001b[0;34m\u001b[0m\u001b[0m\n",
      "\u001b[0;32m/home/andrii/apps/anaconda3/lib/python3.6/site-packages/pandas/core/ops.py\u001b[0m in \u001b[0;36mwrapper\u001b[0;34m(self, other, axis)\u001b[0m\n\u001b[1;32m    853\u001b[0m \u001b[0;34m\u001b[0m\u001b[0m\n\u001b[1;32m    854\u001b[0m             \u001b[0;32mwith\u001b[0m \u001b[0mnp\u001b[0m\u001b[0;34m.\u001b[0m\u001b[0merrstate\u001b[0m\u001b[0;34m(\u001b[0m\u001b[0mall\u001b[0m\u001b[0;34m=\u001b[0m\u001b[0;34m'ignore'\u001b[0m\u001b[0;34m)\u001b[0m\u001b[0;34m:\u001b[0m\u001b[0;34m\u001b[0m\u001b[0m\n\u001b[0;32m--> 855\u001b[0;31m                 \u001b[0mres\u001b[0m \u001b[0;34m=\u001b[0m \u001b[0mna_op\u001b[0m\u001b[0;34m(\u001b[0m\u001b[0mvalues\u001b[0m\u001b[0;34m,\u001b[0m \u001b[0mother\u001b[0m\u001b[0;34m)\u001b[0m\u001b[0;34m\u001b[0m\u001b[0m\n\u001b[0m\u001b[1;32m    856\u001b[0m             \u001b[0;32mif\u001b[0m \u001b[0misscalar\u001b[0m\u001b[0;34m(\u001b[0m\u001b[0mres\u001b[0m\u001b[0;34m)\u001b[0m\u001b[0;34m:\u001b[0m\u001b[0;34m\u001b[0m\u001b[0m\n\u001b[1;32m    857\u001b[0m                 raise TypeError('Could not compare %s type with Series' %\n",
      "\u001b[0;32m/home/andrii/apps/anaconda3/lib/python3.6/site-packages/pandas/core/ops.py\u001b[0m in \u001b[0;36mna_op\u001b[0;34m(x, y)\u001b[0m\n\u001b[1;32m    757\u001b[0m \u001b[0;34m\u001b[0m\u001b[0m\n\u001b[1;32m    758\u001b[0m         \u001b[0;32mif\u001b[0m \u001b[0mis_object_dtype\u001b[0m\u001b[0;34m(\u001b[0m\u001b[0mx\u001b[0m\u001b[0;34m.\u001b[0m\u001b[0mdtype\u001b[0m\u001b[0;34m)\u001b[0m\u001b[0;34m:\u001b[0m\u001b[0;34m\u001b[0m\u001b[0m\n\u001b[0;32m--> 759\u001b[0;31m             \u001b[0mresult\u001b[0m \u001b[0;34m=\u001b[0m \u001b[0m_comp_method_OBJECT_ARRAY\u001b[0m\u001b[0;34m(\u001b[0m\u001b[0mop\u001b[0m\u001b[0;34m,\u001b[0m \u001b[0mx\u001b[0m\u001b[0;34m,\u001b[0m \u001b[0my\u001b[0m\u001b[0;34m)\u001b[0m\u001b[0;34m\u001b[0m\u001b[0m\n\u001b[0m\u001b[1;32m    760\u001b[0m         \u001b[0;32melse\u001b[0m\u001b[0;34m:\u001b[0m\u001b[0;34m\u001b[0m\u001b[0m\n\u001b[1;32m    761\u001b[0m \u001b[0;34m\u001b[0m\u001b[0m\n",
      "\u001b[0;32m/home/andrii/apps/anaconda3/lib/python3.6/site-packages/pandas/core/ops.py\u001b[0m in \u001b[0;36m_comp_method_OBJECT_ARRAY\u001b[0;34m(op, x, y)\u001b[0m\n\u001b[1;32m    737\u001b[0m         \u001b[0mresult\u001b[0m \u001b[0;34m=\u001b[0m \u001b[0mlib\u001b[0m\u001b[0;34m.\u001b[0m\u001b[0mvec_compare\u001b[0m\u001b[0;34m(\u001b[0m\u001b[0mx\u001b[0m\u001b[0;34m,\u001b[0m \u001b[0my\u001b[0m\u001b[0;34m,\u001b[0m \u001b[0mop\u001b[0m\u001b[0;34m)\u001b[0m\u001b[0;34m\u001b[0m\u001b[0m\n\u001b[1;32m    738\u001b[0m     \u001b[0;32melse\u001b[0m\u001b[0;34m:\u001b[0m\u001b[0;34m\u001b[0m\u001b[0m\n\u001b[0;32m--> 739\u001b[0;31m         \u001b[0mresult\u001b[0m \u001b[0;34m=\u001b[0m \u001b[0mlib\u001b[0m\u001b[0;34m.\u001b[0m\u001b[0mscalar_compare\u001b[0m\u001b[0;34m(\u001b[0m\u001b[0mx\u001b[0m\u001b[0;34m,\u001b[0m \u001b[0my\u001b[0m\u001b[0;34m,\u001b[0m \u001b[0mop\u001b[0m\u001b[0;34m)\u001b[0m\u001b[0;34m\u001b[0m\u001b[0m\n\u001b[0m\u001b[1;32m    740\u001b[0m     \u001b[0;32mreturn\u001b[0m \u001b[0mresult\u001b[0m\u001b[0;34m\u001b[0m\u001b[0m\n\u001b[1;32m    741\u001b[0m \u001b[0;34m\u001b[0m\u001b[0m\n",
      "\u001b[0;32mpandas/lib.pyx\u001b[0m in \u001b[0;36mpandas.lib.scalar_compare (pandas/lib.c:14847)\u001b[0;34m()\u001b[0m\n",
      "\u001b[0;31mTypeError\u001b[0m: '<' not supported between instances of 'numpy.ndarray' and 'str'"
     ]
    }
   ],
   "source": [
    "# select only red links from uk_wiki\n",
    "max_id = np.max(df_uk_name['id'])\n",
    "df_uk = df_uk[pd.notnull(df_uk['link_id'])]\n",
    "df_uk_red = df_uk[df_uk['link_id']>max_id]\n",
    "uk_red_ids = df_uk_red['link_id'].unique()\n",
    "print('Number of red links in uk wiki: %d' %(len(uk_red_ids)))"
   ]
  },
  {
   "cell_type": "code",
   "execution_count": 41,
   "metadata": {
    "collapsed": false,
    "scrolled": true
   },
   "outputs": [],
   "source": [
    "df_uk_red = df_uk_red.drop_duplicates()"
   ]
  },
  {
   "cell_type": "code",
   "execution_count": 42,
   "metadata": {
    "collapsed": false,
    "scrolled": true
   },
   "outputs": [
    {
     "data": {
      "text/plain": [
       "2443148"
      ]
     },
     "execution_count": 42,
     "metadata": {},
     "output_type": "execute_result"
    }
   ],
   "source": [
    "len(df_uk_red)"
   ]
  },
  {
   "cell_type": "code",
   "execution_count": 43,
   "metadata": {
    "collapsed": false
   },
   "outputs": [
    {
     "data": {
      "text/html": [
       "<div>\n",
       "<table border=\"1\" class=\"dataframe\">\n",
       "  <thead>\n",
       "    <tr style=\"text-align: right;\">\n",
       "      <th></th>\n",
       "      <th>id</th>\n",
       "      <th>link_id</th>\n",
       "    </tr>\n",
       "  </thead>\n",
       "  <tbody>\n",
       "    <tr>\n",
       "      <th>0</th>\n",
       "      <td>13</td>\n",
       "      <td>2817993</td>\n",
       "    </tr>\n",
       "    <tr>\n",
       "      <th>1</th>\n",
       "      <td>13</td>\n",
       "      <td>2817994</td>\n",
       "    </tr>\n",
       "    <tr>\n",
       "      <th>2</th>\n",
       "      <td>1928599</td>\n",
       "      <td>2817994</td>\n",
       "    </tr>\n",
       "    <tr>\n",
       "      <th>3</th>\n",
       "      <td>13</td>\n",
       "      <td>2817995</td>\n",
       "    </tr>\n",
       "    <tr>\n",
       "      <th>4</th>\n",
       "      <td>584</td>\n",
       "      <td>2817996</td>\n",
       "    </tr>\n",
       "  </tbody>\n",
       "</table>\n",
       "</div>"
      ],
      "text/plain": [
       "        id  link_id\n",
       "0       13  2817993\n",
       "1       13  2817994\n",
       "2  1928599  2817994\n",
       "3       13  2817995\n",
       "4      584  2817996"
      ]
     },
     "execution_count": 43,
     "metadata": {},
     "output_type": "execute_result"
    }
   ],
   "source": [
    "df_uk_red.head()"
   ]
  },
  {
   "cell_type": "code",
   "execution_count": 35,
   "metadata": {
    "collapsed": false
   },
   "outputs": [
    {
     "data": {
      "text/html": [
       "<div>\n",
       "<table border=\"1\" class=\"dataframe\">\n",
       "  <thead>\n",
       "    <tr style=\"text-align: right;\">\n",
       "      <th></th>\n",
       "      <th>id</th>\n",
       "      <th>title</th>\n",
       "      <th>is_red_link</th>\n",
       "      <th>id_en</th>\n",
       "    </tr>\n",
       "  </thead>\n",
       "  <tbody>\n",
       "    <tr>\n",
       "      <th>0</th>\n",
       "      <td>13</td>\n",
       "      <td>Об'єкт (філософія)</td>\n",
       "      <td>False</td>\n",
       "      <td>18963910.0</td>\n",
       "    </tr>\n",
       "    <tr>\n",
       "      <th>1</th>\n",
       "      <td>13</td>\n",
       "      <td>Карл Ріттер</td>\n",
       "      <td>False</td>\n",
       "      <td>18963910.0</td>\n",
       "    </tr>\n",
       "    <tr>\n",
       "      <th>2</th>\n",
       "      <td>13</td>\n",
       "      <td>Александер фон Гумбольдт</td>\n",
       "      <td>False</td>\n",
       "      <td>18963910.0</td>\n",
       "    </tr>\n",
       "    <tr>\n",
       "      <th>3</th>\n",
       "      <td>13</td>\n",
       "      <td>Герард Меркатор</td>\n",
       "      <td>False</td>\n",
       "      <td>18963910.0</td>\n",
       "    </tr>\n",
       "    <tr>\n",
       "      <th>4</th>\n",
       "      <td>13</td>\n",
       "      <td>Мухаммад Аль-Ідрісі</td>\n",
       "      <td>False</td>\n",
       "      <td>18963910.0</td>\n",
       "    </tr>\n",
       "  </tbody>\n",
       "</table>\n",
       "</div>"
      ],
      "text/plain": [
       "   id                     title is_red_link       id_en\n",
       "0  13        Об'єкт (філософія)       False  18963910.0\n",
       "1  13               Карл Ріттер       False  18963910.0\n",
       "2  13  Александер фон Гумбольдт       False  18963910.0\n",
       "3  13           Герард Меркатор       False  18963910.0\n",
       "4  13       Мухаммад Аль-Ідрісі       False  18963910.0"
      ]
     },
     "execution_count": 35,
     "metadata": {},
     "output_type": "execute_result"
    }
   ],
   "source": [
    "df_uk_name.head()"
   ]
  },
  {
   "cell_type": "code",
   "execution_count": 45,
   "metadata": {
    "collapsed": false
   },
   "outputs": [],
   "source": [
    "ukredlinks_with_enids_sample = pd.read_csv(PATH_TO_DATA_UK+'ukredlinks_with_enids_sample.csv', sep='^')"
   ]
  },
  {
   "cell_type": "code",
   "execution_count": 95,
   "metadata": {
    "collapsed": false
   },
   "outputs": [
    {
     "data": {
      "text/html": [
       "<div>\n",
       "<table border=\"1\" class=\"dataframe\">\n",
       "  <thead>\n",
       "    <tr style=\"text-align: right;\">\n",
       "      <th></th>\n",
       "      <th>red_link_name</th>\n",
       "      <th>id_parent</th>\n",
       "      <th>red_link_id</th>\n",
       "      <th>id</th>\n",
       "      <th>title</th>\n",
       "    </tr>\n",
       "  </thead>\n",
       "  <tbody>\n",
       "    <tr>\n",
       "      <th>0</th>\n",
       "      <td>Каунт Бейсі</td>\n",
       "      <td>625</td>\n",
       "      <td>2818114</td>\n",
       "      <td>34651.0</td>\n",
       "      <td>1904</td>\n",
       "    </tr>\n",
       "    <tr>\n",
       "      <th>1</th>\n",
       "      <td>Каунт Бейсі</td>\n",
       "      <td>36823</td>\n",
       "      <td>2818114</td>\n",
       "      <td>605856.0</td>\n",
       "      <td>WordPress</td>\n",
       "    </tr>\n",
       "    <tr>\n",
       "      <th>2</th>\n",
       "      <td>Каунт Бейсі</td>\n",
       "      <td>202525</td>\n",
       "      <td>2818114</td>\n",
       "      <td>50350.0</td>\n",
       "      <td>Ella Fitzgerald</td>\n",
       "    </tr>\n",
       "    <tr>\n",
       "      <th>3</th>\n",
       "      <td>Каунт Бейсі</td>\n",
       "      <td>202608</td>\n",
       "      <td>2818114</td>\n",
       "      <td>22519.0</td>\n",
       "      <td>Oscar Peterson</td>\n",
       "    </tr>\n",
       "    <tr>\n",
       "      <th>4</th>\n",
       "      <td>Каунт Бейсі</td>\n",
       "      <td>202613</td>\n",
       "      <td>2818114</td>\n",
       "      <td>2193014.0</td>\n",
       "      <td>Lester Young</td>\n",
       "    </tr>\n",
       "  </tbody>\n",
       "</table>\n",
       "</div>"
      ],
      "text/plain": [
       "  red_link_name  id_parent  red_link_id         id            title\n",
       "0   Каунт Бейсі        625      2818114    34651.0             1904\n",
       "1   Каунт Бейсі      36823      2818114   605856.0        WordPress\n",
       "2   Каунт Бейсі     202525      2818114    50350.0  Ella Fitzgerald\n",
       "3   Каунт Бейсі     202608      2818114    22519.0   Oscar Peterson\n",
       "4   Каунт Бейсі     202613      2818114  2193014.0     Lester Young"
      ]
     },
     "execution_count": 95,
     "metadata": {},
     "output_type": "execute_result"
    }
   ],
   "source": [
    "ukredlinks_with_enids_sample.head()"
   ]
  },
  {
   "cell_type": "code",
   "execution_count": 48,
   "metadata": {
    "collapsed": true
   },
   "outputs": [],
   "source": [
    "# for every red link from the sample find its correponding en incoming link (only distinct)\n",
    "df_uk_red_encoding = ukredlinks_with_enids_sample[['id', 'red_link_id']]\n",
    "df_uk_red_encoding.columns = ['id_en','link_id']\n",
    "df_uk_red_encoding = df_uk_red_encoding[~df_uk_red_encoding['id_en'].isnull()]\n",
    "df_uk_red_encoding = df_uk_red_encoding.drop_duplicates()"
   ]
  },
  {
   "cell_type": "code",
   "execution_count": 52,
   "metadata": {
    "collapsed": false
   },
   "outputs": [
    {
     "data": {
      "text/plain": [
       "(164526, 2)"
      ]
     },
     "execution_count": 52,
     "metadata": {},
     "output_type": "execute_result"
    }
   ],
   "source": [
    "df_uk_red_encoding.shape"
   ]
  },
  {
   "cell_type": "code",
   "execution_count": 50,
   "metadata": {
    "collapsed": false
   },
   "outputs": [
    {
     "data": {
      "text/html": [
       "<div>\n",
       "<table border=\"1\" class=\"dataframe\">\n",
       "  <thead>\n",
       "    <tr style=\"text-align: right;\">\n",
       "      <th></th>\n",
       "      <th>id_en</th>\n",
       "      <th>link_id</th>\n",
       "    </tr>\n",
       "  </thead>\n",
       "  <tbody>\n",
       "    <tr>\n",
       "      <th>0</th>\n",
       "      <td>34651.0</td>\n",
       "      <td>2818114</td>\n",
       "    </tr>\n",
       "    <tr>\n",
       "      <th>1</th>\n",
       "      <td>605856.0</td>\n",
       "      <td>2818114</td>\n",
       "    </tr>\n",
       "    <tr>\n",
       "      <th>2</th>\n",
       "      <td>50350.0</td>\n",
       "      <td>2818114</td>\n",
       "    </tr>\n",
       "    <tr>\n",
       "      <th>3</th>\n",
       "      <td>22519.0</td>\n",
       "      <td>2818114</td>\n",
       "    </tr>\n",
       "    <tr>\n",
       "      <th>4</th>\n",
       "      <td>2193014.0</td>\n",
       "      <td>2818114</td>\n",
       "    </tr>\n",
       "  </tbody>\n",
       "</table>\n",
       "</div>"
      ],
      "text/plain": [
       "       id_en  link_id\n",
       "0    34651.0  2818114\n",
       "1   605856.0  2818114\n",
       "2    50350.0  2818114\n",
       "3    22519.0  2818114\n",
       "4  2193014.0  2818114"
      ]
     },
     "execution_count": 50,
     "metadata": {},
     "output_type": "execute_result"
    }
   ],
   "source": [
    "df_uk_red_encoding.head()"
   ]
  },
  {
   "cell_type": "code",
   "execution_count": 53,
   "metadata": {
    "collapsed": true
   },
   "outputs": [],
   "source": [
    "# for every red link from the sample calculate number of incoming links\n",
    "df_uk_red_incoming = df_uk_red_encoding['link_id'].value_counts().reset_index()\n",
    "df_uk_red_incoming.columns = ['id','n_incoming']"
   ]
  },
  {
   "cell_type": "code",
   "execution_count": 55,
   "metadata": {
    "collapsed": false
   },
   "outputs": [
    {
     "name": "stdout",
     "output_type": "stream",
     "text": [
      "Number of red links with at least 20 distinct incoming en links: 3196\n"
     ]
    }
   ],
   "source": [
    "# select only those red links that can be encoded with at least 20 en incoming links\n",
    "uk_red_ids = np.array(df_uk_red_incoming[df_uk_red_incoming['n_incoming']>=20]['id'])\n",
    "print('Number of red links with at least 20 distinct incoming en links: %d' % (len(uk_red_ids)))"
   ]
  },
  {
   "cell_type": "code",
   "execution_count": 56,
   "metadata": {
    "collapsed": false
   },
   "outputs": [
    {
     "name": "stderr",
     "output_type": "stream",
     "text": [
      "100% |########################################################################|\n"
     ]
    }
   ],
   "source": [
    "# encode top red links using incoming en links\n",
    "uk_red_ids = np.sort(uk_red_ids)\n",
    "df_uk_red_encoding = df_uk_red_encoding[df_uk_red_encoding['link_id'].isin(uk_red_ids)]\n",
    "df_uk_red_encoding = df_uk_red_encoding.sort_values(by = 'link_id').reset_index(drop = True)\n",
    "indices = np.array(df_uk_red_encoding.drop_duplicates(keep='first', subset=['link_id']).index)\n",
    "\n",
    "uk_red_encoding = []\n",
    "pbar = progressbar.ProgressBar()\n",
    "for i in pbar(range(0, len(indices))):\n",
    "    if i == len(indices)-1:\n",
    "        this_encoding = set(df_uk_red_encoding.iloc[indices[i]:]['id_en'])\n",
    "    else:\n",
    "        this_encoding = set(df_uk_red_encoding.iloc[indices[i]:indices[i+1]]['id_en'])\n",
    "    uk_red_encoding.append(this_encoding)"
   ]
  },
  {
   "cell_type": "code",
   "execution_count": 58,
   "metadata": {
    "collapsed": true
   },
   "outputs": [],
   "source": [
    "del df_uk_red_incoming, df_uk_red_encoding"
   ]
  },
  {
   "cell_type": "code",
   "execution_count": 57,
   "metadata": {
    "collapsed": true
   },
   "outputs": [],
   "source": [
    "# save encoding to file\n",
    "np.save(file='uk_red_ids.npy', arr=uk_red_ids)\n",
    "np.save(file='uk_red_encoding.npy', arr=uk_red_encoding)"
   ]
  },
  {
   "cell_type": "code",
   "execution_count": null,
   "metadata": {
    "collapsed": true
   },
   "outputs": [],
   "source": []
  },
  {
   "cell_type": "code",
   "execution_count": 12,
   "metadata": {
    "collapsed": false
   },
   "outputs": [],
   "source": [
    "# load encoding from file\n",
    "uk_red_ids = np.load('uk_red_ids.npy')\n",
    "uk_red_encoding = np.load('uk_red_encoding.npy')"
   ]
  },
  {
   "cell_type": "code",
   "execution_count": null,
   "metadata": {
    "collapsed": true
   },
   "outputs": [],
   "source": []
  },
  {
   "cell_type": "code",
   "execution_count": 81,
   "metadata": {
    "collapsed": false
   },
   "outputs": [
    {
     "data": {
      "text/html": [
       "<div>\n",
       "<table border=\"1\" class=\"dataframe\">\n",
       "  <thead>\n",
       "    <tr style=\"text-align: right;\">\n",
       "      <th></th>\n",
       "      <th>id</th>\n",
       "      <th>title</th>\n",
       "      <th>is_red_link</th>\n",
       "      <th>id_en</th>\n",
       "    </tr>\n",
       "  </thead>\n",
       "  <tbody>\n",
       "    <tr>\n",
       "      <th>0</th>\n",
       "      <td>13</td>\n",
       "      <td>Об'єкт (філософія)</td>\n",
       "      <td>False</td>\n",
       "      <td>18963910.0</td>\n",
       "    </tr>\n",
       "    <tr>\n",
       "      <th>1</th>\n",
       "      <td>13</td>\n",
       "      <td>Карл Ріттер</td>\n",
       "      <td>False</td>\n",
       "      <td>18963910.0</td>\n",
       "    </tr>\n",
       "    <tr>\n",
       "      <th>2</th>\n",
       "      <td>13</td>\n",
       "      <td>Александер фон Гумбольдт</td>\n",
       "      <td>False</td>\n",
       "      <td>18963910.0</td>\n",
       "    </tr>\n",
       "    <tr>\n",
       "      <th>3</th>\n",
       "      <td>13</td>\n",
       "      <td>Герард Меркатор</td>\n",
       "      <td>False</td>\n",
       "      <td>18963910.0</td>\n",
       "    </tr>\n",
       "    <tr>\n",
       "      <th>4</th>\n",
       "      <td>13</td>\n",
       "      <td>Мухаммад Аль-Ідрісі</td>\n",
       "      <td>False</td>\n",
       "      <td>18963910.0</td>\n",
       "    </tr>\n",
       "  </tbody>\n",
       "</table>\n",
       "</div>"
      ],
      "text/plain": [
       "   id                     title is_red_link       id_en\n",
       "0  13        Об'єкт (філософія)       False  18963910.0\n",
       "1  13               Карл Ріттер       False  18963910.0\n",
       "2  13  Александер фон Гумбольдт       False  18963910.0\n",
       "3  13           Герард Меркатор       False  18963910.0\n",
       "4  13       Мухаммад Аль-Ідрісі       False  18963910.0"
      ]
     },
     "execution_count": 81,
     "metadata": {},
     "output_type": "execute_result"
    }
   ],
   "source": [
    "df_uk_name.head()"
   ]
  },
  {
   "cell_type": "code",
   "execution_count": 112,
   "metadata": {
    "collapsed": false
   },
   "outputs": [
    {
     "data": {
      "text/plain": [
       "3196"
      ]
     },
     "execution_count": 112,
     "metadata": {},
     "output_type": "execute_result"
    }
   ],
   "source": [
    "len(red_links_names.drop_duplicates())"
   ]
  },
  {
   "cell_type": "code",
   "execution_count": 82,
   "metadata": {
    "collapsed": false
   },
   "outputs": [
    {
     "name": "stdout",
     "output_type": "stream",
     "text": [
      "0\n"
     ]
    }
   ],
   "source": [
    "print(len(list(df_uk_name[df_uk_name['id'].isin(uk_red_ids)]['title'])))"
   ]
  },
  {
   "cell_type": "code",
   "execution_count": 79,
   "metadata": {
    "collapsed": false
   },
   "outputs": [
    {
     "name": "stdout",
     "output_type": "stream",
     "text": [
      "3196\n",
      "0\n",
      "3196\n",
      "3196\n",
      "3196\n",
      "3196\n"
     ]
    }
   ],
   "source": [
    "print(len(uk_red_ids))\n",
    "print(len(list(df_uk_name[df_uk_name['id'].isin(uk_red_ids)]['title'])))\n",
    "print(len(incoming_uk_link_names))\n",
    "print(len(n_incoming_uk))\n",
    "print(len(incoming_en_link_names))\n",
    "print(len(n_incoming_en))"
   ]
  },
  {
   "cell_type": "code",
   "execution_count": 77,
   "metadata": {
    "collapsed": false
   },
   "outputs": [
    {
     "data": {
      "text/plain": [
       "46"
      ]
     },
     "execution_count": 77,
     "metadata": {},
     "output_type": "execute_result"
    }
   ],
   "source": [
    "n_incoming_en[1]"
   ]
  },
  {
   "cell_type": "code",
   "execution_count": 109,
   "metadata": {
    "collapsed": false
   },
   "outputs": [],
   "source": [
    "red_links_names = ukredlinks_with_enids_sample[ukredlinks_with_enids_sample['red_link_id'].isin(uk_red_ids)]['red_link_name'].to_frame()\n",
    "red_links_names = red_links_names.drop_duplicates()\n",
    "list_of_red_link = red_links_names['red_link_name'].tolist()"
   ]
  },
  {
   "cell_type": "code",
   "execution_count": null,
   "metadata": {
    "collapsed": true
   },
   "outputs": [],
   "source": [
    "# create df with incoming uk ids and names for every red link\n",
    "incoming_uk_link_names = []\n",
    "n_incoming_uk = []\n",
    "incoming_en_link_names = []\n",
    "n_incoming_en = []\n",
    "\n",
    "pbar = progressbar.ProgressBar()\n",
    "for i in pbar(range(len(uk_red_ids))):\n",
    "    red_id = uk_red_ids[i]\n",
    "    incoming_ids = list(df_uk_red[df_uk_red['link_id'] == red_id]['id'])\n",
    "    incoming_names = set(df_uk_name[df_uk_name['id'].isin(incoming_ids)]['title'])\n",
    "    incoming_en_names = set(df_en_name[df_en_name['id'].isin(uk_red_encoding[i])]['title'])\n",
    "              \n",
    "    incoming_uk_link_names.append(incoming_names)\n",
    "    n_incoming_uk.append(len(incoming_names))\n",
    "    incoming_en_link_names.append(incoming_en_names) \n",
    "    n_incoming_en.append(len(incoming_en_names))"
   ]
  },
  {
   "cell_type": "code",
   "execution_count": 117,
   "metadata": {
    "collapsed": false
   },
   "outputs": [],
   "source": [
    "df_red_links = pd.DataFrame({'red_link_id': uk_red_ids, \n",
    "                          'red_link_name': list_of_red_link,\n",
    "                          'incoming_uk_names': incoming_uk_link_names,\n",
    "                          'n_incoming_uk': n_incoming_uk,\n",
    "                          'incoming_en_names': incoming_en_link_names,\n",
    "                          'n_incoming_en': n_incoming_en\n",
    "                          })\n",
    "              \n",
    "df_red_links = df_red_links[['red_link_id','red_link_name','incoming_uk_names',\n",
    "                             'n_incoming_uk', 'incoming_en_names', 'n_incoming_en']]"
   ]
  },
  {
   "cell_type": "code",
   "execution_count": 119,
   "metadata": {
    "collapsed": false
   },
   "outputs": [
    {
     "name": "stdout",
     "output_type": "stream",
     "text": [
      "(3196, 6)\n"
     ]
    },
    {
     "data": {
      "text/html": [
       "<div>\n",
       "<table border=\"1\" class=\"dataframe\">\n",
       "  <thead>\n",
       "    <tr style=\"text-align: right;\">\n",
       "      <th></th>\n",
       "      <th>red_link_id</th>\n",
       "      <th>red_link_name</th>\n",
       "      <th>incoming_uk_names</th>\n",
       "      <th>n_incoming_uk</th>\n",
       "      <th>incoming_en_names</th>\n",
       "      <th>n_incoming_en</th>\n",
       "    </tr>\n",
       "  </thead>\n",
       "  <tbody>\n",
       "    <tr>\n",
       "      <th>0</th>\n",
       "      <td>2818114</td>\n",
       "      <td>Каунт Бейсі</td>\n",
       "      <td>{кларнет, Джонні Ріверс, Баррі Гарріс, Money (...</td>\n",
       "      <td>1598</td>\n",
       "      <td>{Billie Holiday, Al McKibbon, Bob Cranshaw, Bu...</td>\n",
       "      <td>42</td>\n",
       "    </tr>\n",
       "    <tr>\n",
       "      <th>1</th>\n",
       "      <td>2818231</td>\n",
       "      <td>аль-Каїм</td>\n",
       "      <td>{папа Римський, Феодосій Печерський, Гослар, а...</td>\n",
       "      <td>552</td>\n",
       "      <td>{1043, 1071, 1048, 1040, 1030s, 1062, 1032, 10...</td>\n",
       "      <td>46</td>\n",
       "    </tr>\n",
       "    <tr>\n",
       "      <th>2</th>\n",
       "      <td>2818265</td>\n",
       "      <td>королева</td>\n",
       "      <td>{тайська мова, Станіслав Август Понятовський, ...</td>\n",
       "      <td>2985</td>\n",
       "      <td>{Australia, Jeanne d'Albret, 1601, Joan II of ...</td>\n",
       "      <td>50</td>\n",
       "    </tr>\n",
       "    <tr>\n",
       "      <th>3</th>\n",
       "      <td>2821142</td>\n",
       "      <td>Prentice Hall</td>\n",
       "      <td>{Бандама, Вировитиця, Метрополітен Ченду, Міні...</td>\n",
       "      <td>3614</td>\n",
       "      <td>{Transport in Guernsey, Transport in Colombia,...</td>\n",
       "      <td>231</td>\n",
       "    </tr>\n",
       "    <tr>\n",
       "      <th>4</th>\n",
       "      <td>2824527</td>\n",
       "      <td>Tokar.ua</td>\n",
       "      <td>{кадмій, Криптоанархізм, VoIP, Nissan Sunny, П...</td>\n",
       "      <td>1885</td>\n",
       "      <td>{Hyperloop, Hromadske.TV, Volvo, Hearing loss,...</td>\n",
       "      <td>37</td>\n",
       "    </tr>\n",
       "    <tr>\n",
       "      <th>5</th>\n",
       "      <td>2824727</td>\n",
       "      <td>Monthly Notices of the Royal Astronomical Society</td>\n",
       "      <td>{Хромосфера, Жирафа (сузір'я), григоріанський ...</td>\n",
       "      <td>2016</td>\n",
       "      <td>{List of galaxies, WASP-2b, WASP-1, Atmosphere...</td>\n",
       "      <td>57</td>\n",
       "    </tr>\n",
       "    <tr>\n",
       "      <th>6</th>\n",
       "      <td>2825668</td>\n",
       "      <td>Світ (видавництво)</td>\n",
       "      <td>{тайська мова, Горючі корисні копалини, Карлос...</td>\n",
       "      <td>10421</td>\n",
       "      <td>{Transport in Guernsey, Demographics of Tonga,...</td>\n",
       "      <td>472</td>\n",
       "    </tr>\n",
       "    <tr>\n",
       "      <th>7</th>\n",
       "      <td>2825773</td>\n",
       "      <td>Дубович Іван Андрійович</td>\n",
       "      <td>{тайська мова, Горючі корисні копалини, Карлос...</td>\n",
       "      <td>9621</td>\n",
       "      <td>{Transport in Guernsey, Demographics of Tonga,...</td>\n",
       "      <td>448</td>\n",
       "    </tr>\n",
       "    <tr>\n",
       "      <th>8</th>\n",
       "      <td>2826419</td>\n",
       "      <td>помірні повітряні маси</td>\n",
       "      <td>{безодня Моллой, Таганрозький морський торгове...</td>\n",
       "      <td>4132</td>\n",
       "      <td>{Geography of Algeria, Sea of the Hebrides, Sc...</td>\n",
       "      <td>65</td>\n",
       "    </tr>\n",
       "    <tr>\n",
       "      <th>9</th>\n",
       "      <td>2826499</td>\n",
       "      <td>Доповідь про торгівлю людьми</td>\n",
       "      <td>{тайська мова, Горючі корисні копалини, бемба,...</td>\n",
       "      <td>5955</td>\n",
       "      <td>{Demographics of Madagascar, Demographics of T...</td>\n",
       "      <td>200</td>\n",
       "    </tr>\n",
       "    <tr>\n",
       "      <th>10</th>\n",
       "      <td>2826500</td>\n",
       "      <td>Управління з моніторингу та боротьби з торгівл...</td>\n",
       "      <td>{тайська мова, Горючі корисні копалини, бемба,...</td>\n",
       "      <td>5955</td>\n",
       "      <td>{Demographics of Madagascar, Demographics of T...</td>\n",
       "      <td>200</td>\n",
       "    </tr>\n",
       "    <tr>\n",
       "      <th>11</th>\n",
       "      <td>2826626</td>\n",
       "      <td>Управління з моніторингу та боротьби з торгівл...</td>\n",
       "      <td>{тайська мова, Горючі корисні копалини, бемба,...</td>\n",
       "      <td>6129</td>\n",
       "      <td>{Demographics of Madagascar, Demographics of T...</td>\n",
       "      <td>218</td>\n",
       "    </tr>\n",
       "    <tr>\n",
       "      <th>12</th>\n",
       "      <td>2826628</td>\n",
       "      <td>Руденко Ірина Станіславівна</td>\n",
       "      <td>{тайська мова, Етнонім, Латеритна кірка, Дуїда...</td>\n",
       "      <td>10566</td>\n",
       "      <td>{Transport in Guernsey, Demographics of Tonga,...</td>\n",
       "      <td>501</td>\n",
       "    </tr>\n",
       "    <tr>\n",
       "      <th>13</th>\n",
       "      <td>2826629</td>\n",
       "      <td>Радченко Вероніка Вікторівна</td>\n",
       "      <td>{тайська мова, Етнонім, Латеритна кірка, Дуїда...</td>\n",
       "      <td>10267</td>\n",
       "      <td>{Transport in Guernsey, Demographics of Tonga,...</td>\n",
       "      <td>501</td>\n",
       "    </tr>\n",
       "    <tr>\n",
       "      <th>14</th>\n",
       "      <td>2826630</td>\n",
       "      <td>Вакуленко Олена Володимирівна</td>\n",
       "      <td>{тайська мова, Етнонім, Латеритна кірка, Дуїда...</td>\n",
       "      <td>10267</td>\n",
       "      <td>{Transport in Guernsey, Demographics of Tonga,...</td>\n",
       "      <td>501</td>\n",
       "    </tr>\n",
       "    <tr>\n",
       "      <th>15</th>\n",
       "      <td>2826631</td>\n",
       "      <td>Скуратович Олег Ярославович</td>\n",
       "      <td>{тайська мова, Етнонім, Латеритна кірка, Дуїда...</td>\n",
       "      <td>10504</td>\n",
       "      <td>{Transport in Guernsey, Demographics of Tonga,...</td>\n",
       "      <td>494</td>\n",
       "    </tr>\n",
       "    <tr>\n",
       "      <th>16</th>\n",
       "      <td>2826632</td>\n",
       "      <td>Чанцева Ніна Іванівна</td>\n",
       "      <td>{тайська мова, Горючі корисні копалини, Карлос...</td>\n",
       "      <td>8720</td>\n",
       "      <td>{Transport in Guernsey, Demographics of Tonga,...</td>\n",
       "      <td>453</td>\n",
       "    </tr>\n",
       "    <tr>\n",
       "      <th>17</th>\n",
       "      <td>2826634</td>\n",
       "      <td>Головне управління геодезії та картографії СРСР</td>\n",
       "      <td>{тайська мова, Етнонім, Горючі корисні копалин...</td>\n",
       "      <td>7032</td>\n",
       "      <td>{Demographics of Madagascar, Demographics of T...</td>\n",
       "      <td>249</td>\n",
       "    </tr>\n",
       "    <tr>\n",
       "      <th>18</th>\n",
       "      <td>2826660</td>\n",
       "      <td>Random House</td>\n",
       "      <td>{кларнет, Вировитиця, Ебрагім Азгарзадех, 2012...</td>\n",
       "      <td>2110</td>\n",
       "      <td>{Comet (book), The Bridge at Andau, The Beatle...</td>\n",
       "      <td>36</td>\n",
       "    </tr>\n",
       "    <tr>\n",
       "      <th>19</th>\n",
       "      <td>2827198</td>\n",
       "      <td>Simon &amp; Schuster</td>\n",
       "      <td>{Суддя Джуді, Huey Lewis and The News, Сильна ...</td>\n",
       "      <td>2159</td>\n",
       "      <td>{The Innovators (book), William J. Donovan, Di...</td>\n",
       "      <td>31</td>\n",
       "    </tr>\n",
       "    <tr>\n",
       "      <th>20</th>\n",
       "      <td>2828652</td>\n",
       "      <td>Панчакутек Юпанкі</td>\n",
       "      <td>{6 жовтня, 3 лютого, Яжельбицький мир, Київськ...</td>\n",
       "      <td>510</td>\n",
       "      <td>{1461, 1440, 1465, 1451, 1446, 1444, 1449, 143...</td>\n",
       "      <td>33</td>\n",
       "    </tr>\n",
       "    <tr>\n",
       "      <th>21</th>\n",
       "      <td>2828900</td>\n",
       "      <td>Земун</td>\n",
       "      <td>{Молодіжна збірна Югославії з футболу, Варшавс...</td>\n",
       "      <td>2087</td>\n",
       "      <td>{Administrative divisions of Serbia, Croatia d...</td>\n",
       "      <td>32</td>\n",
       "    </tr>\n",
       "    <tr>\n",
       "      <th>22</th>\n",
       "      <td>2828956</td>\n",
       "      <td>Східний тюркський каганат</td>\n",
       "      <td>{династія Тан, 16 липня, Констанца, Адалоальд ...</td>\n",
       "      <td>272</td>\n",
       "      <td>{612, 617, 610, 623, 618, 596, 615, 625, 595, ...</td>\n",
       "      <td>50</td>\n",
       "    </tr>\n",
       "    <tr>\n",
       "      <th>23</th>\n",
       "      <td>2829164</td>\n",
       "      <td>Приморська Хорватія</td>\n",
       "      <td>{Херсонес Таврійський, Бабенберги, григоріансь...</td>\n",
       "      <td>532</td>\n",
       "      <td>{898, 880s, 892, 890, 870s, White Croatia, 910...</td>\n",
       "      <td>52</td>\n",
       "    </tr>\n",
       "    <tr>\n",
       "      <th>24</th>\n",
       "      <td>2829198</td>\n",
       "      <td>Раштакурти</td>\n",
       "      <td>{Херсонес Таврійський, Ордоньйо IV, Никифор Фо...</td>\n",
       "      <td>500</td>\n",
       "      <td>{943, 966, 968, 937, 935, 954, 953, 971, 938, ...</td>\n",
       "      <td>59</td>\n",
       "    </tr>\n",
       "    <tr>\n",
       "      <th>25</th>\n",
       "      <td>2829652</td>\n",
       "      <td>моніторинг</td>\n",
       "      <td>{науково-дослідний інститут, Основи гідрохімії...</td>\n",
       "      <td>5107</td>\n",
       "      <td>{Strategic management, Agreement on the Conser...</td>\n",
       "      <td>54</td>\n",
       "    </tr>\n",
       "    <tr>\n",
       "      <th>26</th>\n",
       "      <td>2829692</td>\n",
       "      <td>Купрієнко Сергій Анатолійович</td>\n",
       "      <td>{Кахамарка, будівельна техніка, Викупна жертва...</td>\n",
       "      <td>3067</td>\n",
       "      <td>{Pre-Columbian era, Domestic turkey, Solanum, ...</td>\n",
       "      <td>67</td>\n",
       "    </tr>\n",
       "    <tr>\n",
       "      <th>27</th>\n",
       "      <td>2829694</td>\n",
       "      <td>Талах Віктор Миколайович</td>\n",
       "      <td>{Кахамарка, будівельна техніка, Викупна жертва...</td>\n",
       "      <td>1767</td>\n",
       "      <td>{Pre-Columbian era, Pedro Sarmiento de Gamboa,...</td>\n",
       "      <td>37</td>\n",
       "    </tr>\n",
       "    <tr>\n",
       "      <th>28</th>\n",
       "      <td>2830717</td>\n",
       "      <td>Керкраде</td>\n",
       "      <td>{Фортуна (Сіттард), Кольшайд, папа Римський, л...</td>\n",
       "      <td>766</td>\n",
       "      <td>{Franconian languages, Vladan Kujović, Interna...</td>\n",
       "      <td>25</td>\n",
       "    </tr>\n",
       "    <tr>\n",
       "      <th>29</th>\n",
       "      <td>2831417</td>\n",
       "      <td>Daylight saving time</td>\n",
       "      <td>{Джордж Вашингтон, Американська війна за незал...</td>\n",
       "      <td>1211</td>\n",
       "      <td>{Louisiana, Oregon, Alaska, North Carolina, Vi...</td>\n",
       "      <td>25</td>\n",
       "    </tr>\n",
       "    <tr>\n",
       "      <th>...</th>\n",
       "      <td>...</td>\n",
       "      <td>...</td>\n",
       "      <td>...</td>\n",
       "      <td>...</td>\n",
       "      <td>...</td>\n",
       "      <td>...</td>\n",
       "    </tr>\n",
       "    <tr>\n",
       "      <th>70</th>\n",
       "      <td>2865585</td>\n",
       "      <td>Уряд такого-то прем'єра</td>\n",
       "      <td>{Аскар Мирзахметов, Міністерство інформаційної...</td>\n",
       "      <td>10389</td>\n",
       "      <td>{Cabinet of Antigua and Barbuda, Cabinet of Ma...</td>\n",
       "      <td>157</td>\n",
       "    </tr>\n",
       "    <tr>\n",
       "      <th>71</th>\n",
       "      <td>2866595</td>\n",
       "      <td>Сарсель (округ)</td>\n",
       "      <td>{Eaubonne, Jean-Jacques Rousseau, Dominique St...</td>\n",
       "      <td>103</td>\n",
       "      <td>{Vaudherland, Bellefontaine, Val-d'Oise, Saint...</td>\n",
       "      <td>62</td>\n",
       "    </tr>\n",
       "    <tr>\n",
       "      <th>72</th>\n",
       "      <td>2867229</td>\n",
       "      <td>David Starr Jordan</td>\n",
       "      <td>{Scymnodalatias oligodon, Lutjanus buccanella,...</td>\n",
       "      <td>2622</td>\n",
       "      <td>{Centriscidae, Coris (fish), Bonefishes, Cryst...</td>\n",
       "      <td>67</td>\n",
       "    </tr>\n",
       "    <tr>\n",
       "      <th>73</th>\n",
       "      <td>2867615</td>\n",
       "      <td>Школа (видавництво, Київ)</td>\n",
       "      <td>{Герб Боснії і Герцеговини, Герб Грузії, імпер...</td>\n",
       "      <td>3374</td>\n",
       "      <td>{Flag of Finland, Flag of Iraq, Flag of Guatem...</td>\n",
       "      <td>329</td>\n",
       "    </tr>\n",
       "    <tr>\n",
       "      <th>74</th>\n",
       "      <td>2868140</td>\n",
       "      <td>Лейпциг/Галле (аеропорт)</td>\n",
       "      <td>{Міжнародний аеропорт Гонконгу, Pegas Fly, Скі...</td>\n",
       "      <td>1917</td>\n",
       "      <td>{MNG Airlines, Manchester Airport, Göteborg La...</td>\n",
       "      <td>46</td>\n",
       "    </tr>\n",
       "    <tr>\n",
       "      <th>75</th>\n",
       "      <td>2868141</td>\n",
       "      <td>DHL Aviation</td>\n",
       "      <td>{Міжнародний аеропорт Гонконгу, Скіатос (аероп...</td>\n",
       "      <td>2138</td>\n",
       "      <td>{Manchester Airport, Göteborg Landvetter Airpo...</td>\n",
       "      <td>45</td>\n",
       "    </tr>\n",
       "    <tr>\n",
       "      <th>76</th>\n",
       "      <td>2868144</td>\n",
       "      <td>Льєж (аеропорт)</td>\n",
       "      <td>{Міжнародний аеропорт Гонконгу, Pegas Fly, Скі...</td>\n",
       "      <td>1772</td>\n",
       "      <td>{Göteborg Landvetter Airport, Sofia Airport, P...</td>\n",
       "      <td>35</td>\n",
       "    </tr>\n",
       "    <tr>\n",
       "      <th>77</th>\n",
       "      <td>2868426</td>\n",
       "      <td>Conservative Party (UK)</td>\n",
       "      <td>{Kitty Ussher, 43 до н. е., яблуко, Andrew Mac...</td>\n",
       "      <td>683</td>\n",
       "      <td>{Staffordshire, Cheshire, Lancashire, Rutland,...</td>\n",
       "      <td>28</td>\n",
       "    </tr>\n",
       "    <tr>\n",
       "      <th>78</th>\n",
       "      <td>2868428</td>\n",
       "      <td>Labour Party (UK)</td>\n",
       "      <td>{Kitty Ussher, 43 до н. е., яблуко, Andrew Mac...</td>\n",
       "      <td>698</td>\n",
       "      <td>{Staffordshire, Cheshire, Lancashire, Northumb...</td>\n",
       "      <td>26</td>\n",
       "    </tr>\n",
       "    <tr>\n",
       "      <th>79</th>\n",
       "      <td>2868863</td>\n",
       "      <td>Міжнародна комісія з стратиграфії</td>\n",
       "      <td>{ератема, Карагандинський вугільний басейн, То...</td>\n",
       "      <td>484</td>\n",
       "      <td>{Messinian, Campanian, Kimmeridgian, Aquitania...</td>\n",
       "      <td>47</td>\n",
       "    </tr>\n",
       "    <tr>\n",
       "      <th>80</th>\n",
       "      <td>2869137</td>\n",
       "      <td>Платиновий диск</td>\n",
       "      <td>{Pipes of Peace, I Choose, кларнет, 14 вересня...</td>\n",
       "      <td>1329</td>\n",
       "      <td>{Inna discography, Never Gone, The Highwaymen ...</td>\n",
       "      <td>27</td>\n",
       "    </tr>\n",
       "    <tr>\n",
       "      <th>81</th>\n",
       "      <td>2869138</td>\n",
       "      <td>Руни Одіна</td>\n",
       "      <td>{500, Пресняков Максимільян Анатолійович, Сінд...</td>\n",
       "      <td>251</td>\n",
       "      <td>{Thurisaz, Haglaz, Naudiz, Tiwaz (rune), Odal ...</td>\n",
       "      <td>29</td>\n",
       "    </tr>\n",
       "    <tr>\n",
       "      <th>82</th>\n",
       "      <td>2869168</td>\n",
       "      <td>Kamelot</td>\n",
       "      <td>{Ессен, Emeraldmonkey, Megaherz, The Road to P...</td>\n",
       "      <td>2909</td>\n",
       "      <td>{Sweden Rock Festival, Sziget Festival, Wacken...</td>\n",
       "      <td>27</td>\n",
       "    </tr>\n",
       "    <tr>\n",
       "      <th>83</th>\n",
       "      <td>2870341</td>\n",
       "      <td>Лілль (округ)</td>\n",
       "      <td>{Ла-Невіль, Бії-Беркло, Варнетон (Нор), Буа-Гр...</td>\n",
       "      <td>311</td>\n",
       "      <td>{Sainghin-en-Mélantois, Gondecourt, Bois-Greni...</td>\n",
       "      <td>124</td>\n",
       "    </tr>\n",
       "    <tr>\n",
       "      <th>84</th>\n",
       "      <td>2872641</td>\n",
       "      <td>Вежа (видавництво)</td>\n",
       "      <td>{тайська мова, Кемак (мова), Питна вода, Іслам...</td>\n",
       "      <td>5376</td>\n",
       "      <td>{Demographics of Madagascar, Demographics of T...</td>\n",
       "      <td>222</td>\n",
       "    </tr>\n",
       "    <tr>\n",
       "      <th>85</th>\n",
       "      <td>2874743</td>\n",
       "      <td>Spreng.</td>\n",
       "      <td>{C.A.Gardner, Taraxacum platycarpum, наголоват...</td>\n",
       "      <td>14534</td>\n",
       "      <td>{Antidesma bunius, Lipandra, Lobaria pulmonari...</td>\n",
       "      <td>44</td>\n",
       "    </tr>\n",
       "    <tr>\n",
       "      <th>86</th>\n",
       "      <td>2876554</td>\n",
       "      <td>Рута (видавництво)</td>\n",
       "      <td>{тайська мова, Кемак (мова), Питна вода, Іслам...</td>\n",
       "      <td>5380</td>\n",
       "      <td>{Demographics of Madagascar, Demographics of T...</td>\n",
       "      <td>222</td>\n",
       "    </tr>\n",
       "    <tr>\n",
       "      <th>87</th>\n",
       "      <td>2876556</td>\n",
       "      <td>Демографический энциклопедический словарь</td>\n",
       "      <td>{тайська мова, Кемак (мова), Іслам у Малайзії,...</td>\n",
       "      <td>5234</td>\n",
       "      <td>{Demographics of Madagascar, Mortality rate, D...</td>\n",
       "      <td>227</td>\n",
       "    </tr>\n",
       "    <tr>\n",
       "      <th>88</th>\n",
       "      <td>2876557</td>\n",
       "      <td>Валентей Дмитро Ігнатович</td>\n",
       "      <td>{тайська мова, Кемак (мова), Питна вода, Іслам...</td>\n",
       "      <td>5442</td>\n",
       "      <td>{Demographics of Madagascar, Mortality rate, D...</td>\n",
       "      <td>228</td>\n",
       "    </tr>\n",
       "    <tr>\n",
       "      <th>89</th>\n",
       "      <td>2876558</td>\n",
       "      <td>Атлас народів світу</td>\n",
       "      <td>{тайська мова, Кемак (мова), Питна вода, Іслам...</td>\n",
       "      <td>5325</td>\n",
       "      <td>{Demographics of Madagascar, Demographics of T...</td>\n",
       "      <td>222</td>\n",
       "    </tr>\n",
       "    <tr>\n",
       "      <th>90</th>\n",
       "      <td>2876562</td>\n",
       "      <td>ОГИЗ-Госполитиздат</td>\n",
       "      <td>{Питна вода, Населення Азії, Чорнобильська кат...</td>\n",
       "      <td>2584</td>\n",
       "      <td>{Demographics of Romania, Demographics of Koso...</td>\n",
       "      <td>50</td>\n",
       "    </tr>\n",
       "    <tr>\n",
       "      <th>91</th>\n",
       "      <td>2876563</td>\n",
       "      <td>Анджей Ягельський</td>\n",
       "      <td>{тайська мова, Кемак (мова), Питна вода, Іслам...</td>\n",
       "      <td>5449</td>\n",
       "      <td>{Demographics of Madagascar, Mortality rate, D...</td>\n",
       "      <td>229</td>\n",
       "    </tr>\n",
       "    <tr>\n",
       "      <th>92</th>\n",
       "      <td>2876564</td>\n",
       "      <td>Відділ економічних і соціальних справ ООН</td>\n",
       "      <td>{тайська мова, Кемак (мова), Питна вода, Іслам...</td>\n",
       "      <td>5343</td>\n",
       "      <td>{Demographics of Madagascar, Mortality rate, D...</td>\n",
       "      <td>226</td>\n",
       "    </tr>\n",
       "    <tr>\n",
       "      <th>93</th>\n",
       "      <td>2877813</td>\n",
       "      <td>Link</td>\n",
       "      <td>{C.A.Gardner, наголоваток жовтий, Wettst., Mat...</td>\n",
       "      <td>9742</td>\n",
       "      <td>{Melocactus, Eleocharis, Torilis arvensis, Cyt...</td>\n",
       "      <td>56</td>\n",
       "    </tr>\n",
       "    <tr>\n",
       "      <th>94</th>\n",
       "      <td>2879128</td>\n",
       "      <td>Анрі Камара</td>\n",
       "      <td>{Грецька Суперліга 2017—18, 14 вересня, 3 люто...</td>\n",
       "      <td>673</td>\n",
       "      <td>{1968 African Cup of Nations, 1978 African Cup...</td>\n",
       "      <td>27</td>\n",
       "    </tr>\n",
       "    <tr>\n",
       "      <th>95</th>\n",
       "      <td>2880131</td>\n",
       "      <td>Центр учбової літератури</td>\n",
       "      <td>{тайська мова, Карлос Мескуїта, бемба, Накала,...</td>\n",
       "      <td>7656</td>\n",
       "      <td>{Transport in Guernsey, Demographics of Tonga,...</td>\n",
       "      <td>441</td>\n",
       "    </tr>\n",
       "    <tr>\n",
       "      <th>96</th>\n",
       "      <td>2881606</td>\n",
       "      <td>Формула-1 — Гран-прі Австралії 2005</td>\n",
       "      <td>{Формула-1 — Гран-прі Сан-Марино 2006, Sauber ...</td>\n",
       "      <td>1723</td>\n",
       "      <td>{Jarno Trulli, BAR 007, Anthony Davidson, Mark...</td>\n",
       "      <td>28</td>\n",
       "    </tr>\n",
       "    <tr>\n",
       "      <th>97</th>\n",
       "      <td>2881608</td>\n",
       "      <td>Формула-1 — Гран-прі Малайзії 2005</td>\n",
       "      <td>{Формула-1 — Гран-прі Абу-Дабі 2015, Рубенс Ба...</td>\n",
       "      <td>1280</td>\n",
       "      <td>{Jarno Trulli, 2006 Malaysian Grand Prix, BAR ...</td>\n",
       "      <td>27</td>\n",
       "    </tr>\n",
       "    <tr>\n",
       "      <th>98</th>\n",
       "      <td>2881610</td>\n",
       "      <td>Формула-1 — Гран-прі Бахрейну 2005</td>\n",
       "      <td>{Формула-1 — Гран-прі Абу-Дабі 2015, Рубенс Ба...</td>\n",
       "      <td>1240</td>\n",
       "      <td>{Jarno Trulli, BAR 007, Anthony Davidson, 2006...</td>\n",
       "      <td>27</td>\n",
       "    </tr>\n",
       "    <tr>\n",
       "      <th>99</th>\n",
       "      <td>2881612</td>\n",
       "      <td>Формула-1 — Гран-прі Іспанії 2005</td>\n",
       "      <td>{Формула-1 — Гран-прі Сан-Марино 2006, Sauber ...</td>\n",
       "      <td>1372</td>\n",
       "      <td>{Circuit de Barcelona-Catalunya, Jarno Trulli,...</td>\n",
       "      <td>27</td>\n",
       "    </tr>\n",
       "  </tbody>\n",
       "</table>\n",
       "<p>100 rows × 6 columns</p>\n",
       "</div>"
      ],
      "text/plain": [
       "    red_link_id                                      red_link_name  \\\n",
       "0       2818114                                        Каунт Бейсі   \n",
       "1       2818231                                           аль-Каїм   \n",
       "2       2818265                                           королева   \n",
       "3       2821142                                      Prentice Hall   \n",
       "4       2824527                                           Tokar.ua   \n",
       "5       2824727  Monthly Notices of the Royal Astronomical Society   \n",
       "6       2825668                                 Світ (видавництво)   \n",
       "7       2825773                            Дубович Іван Андрійович   \n",
       "8       2826419                             помірні повітряні маси   \n",
       "9       2826499                       Доповідь про торгівлю людьми   \n",
       "10      2826500  Управління з моніторингу та боротьби з торгівл...   \n",
       "11      2826626  Управління з моніторингу та боротьби з торгівл...   \n",
       "12      2826628                        Руденко Ірина Станіславівна   \n",
       "13      2826629                       Радченко Вероніка Вікторівна   \n",
       "14      2826630                      Вакуленко Олена Володимирівна   \n",
       "15      2826631                        Скуратович Олег Ярославович   \n",
       "16      2826632                              Чанцева Ніна Іванівна   \n",
       "17      2826634    Головне управління геодезії та картографії СРСР   \n",
       "18      2826660                                       Random House   \n",
       "19      2827198                                   Simon & Schuster   \n",
       "20      2828652                                  Панчакутек Юпанкі   \n",
       "21      2828900                                              Земун   \n",
       "22      2828956                          Східний тюркський каганат   \n",
       "23      2829164                                Приморська Хорватія   \n",
       "24      2829198                                         Раштакурти   \n",
       "25      2829652                                         моніторинг   \n",
       "26      2829692                      Купрієнко Сергій Анатолійович   \n",
       "27      2829694                           Талах Віктор Миколайович   \n",
       "28      2830717                                           Керкраде   \n",
       "29      2831417                               Daylight saving time   \n",
       "..          ...                                                ...   \n",
       "70      2865585                            Уряд такого-то прем'єра   \n",
       "71      2866595                                    Сарсель (округ)   \n",
       "72      2867229                                 David Starr Jordan   \n",
       "73      2867615                          Школа (видавництво, Київ)   \n",
       "74      2868140                           Лейпциг/Галле (аеропорт)   \n",
       "75      2868141                                       DHL Aviation   \n",
       "76      2868144                                    Льєж (аеропорт)   \n",
       "77      2868426                            Conservative Party (UK)   \n",
       "78      2868428                                  Labour Party (UK)   \n",
       "79      2868863                  Міжнародна комісія з стратиграфії   \n",
       "80      2869137                                    Платиновий диск   \n",
       "81      2869138                                         Руни Одіна   \n",
       "82      2869168                                            Kamelot   \n",
       "83      2870341                                      Лілль (округ)   \n",
       "84      2872641                                 Вежа (видавництво)   \n",
       "85      2874743                                            Spreng.   \n",
       "86      2876554                                 Рута (видавництво)   \n",
       "87      2876556          Демографический энциклопедический словарь   \n",
       "88      2876557                          Валентей Дмитро Ігнатович   \n",
       "89      2876558                                Атлас народів світу   \n",
       "90      2876562                                 ОГИЗ-Госполитиздат   \n",
       "91      2876563                                  Анджей Ягельський   \n",
       "92      2876564          Відділ економічних і соціальних справ ООН   \n",
       "93      2877813                                               Link   \n",
       "94      2879128                                        Анрі Камара   \n",
       "95      2880131                           Центр учбової літератури   \n",
       "96      2881606                Формула-1 — Гран-прі Австралії 2005   \n",
       "97      2881608                 Формула-1 — Гран-прі Малайзії 2005   \n",
       "98      2881610                 Формула-1 — Гран-прі Бахрейну 2005   \n",
       "99      2881612                  Формула-1 — Гран-прі Іспанії 2005   \n",
       "\n",
       "                                    incoming_uk_names  n_incoming_uk  \\\n",
       "0   {кларнет, Джонні Ріверс, Баррі Гарріс, Money (...           1598   \n",
       "1   {папа Римський, Феодосій Печерський, Гослар, а...            552   \n",
       "2   {тайська мова, Станіслав Август Понятовський, ...           2985   \n",
       "3   {Бандама, Вировитиця, Метрополітен Ченду, Міні...           3614   \n",
       "4   {кадмій, Криптоанархізм, VoIP, Nissan Sunny, П...           1885   \n",
       "5   {Хромосфера, Жирафа (сузір'я), григоріанський ...           2016   \n",
       "6   {тайська мова, Горючі корисні копалини, Карлос...          10421   \n",
       "7   {тайська мова, Горючі корисні копалини, Карлос...           9621   \n",
       "8   {безодня Моллой, Таганрозький морський торгове...           4132   \n",
       "9   {тайська мова, Горючі корисні копалини, бемба,...           5955   \n",
       "10  {тайська мова, Горючі корисні копалини, бемба,...           5955   \n",
       "11  {тайська мова, Горючі корисні копалини, бемба,...           6129   \n",
       "12  {тайська мова, Етнонім, Латеритна кірка, Дуїда...          10566   \n",
       "13  {тайська мова, Етнонім, Латеритна кірка, Дуїда...          10267   \n",
       "14  {тайська мова, Етнонім, Латеритна кірка, Дуїда...          10267   \n",
       "15  {тайська мова, Етнонім, Латеритна кірка, Дуїда...          10504   \n",
       "16  {тайська мова, Горючі корисні копалини, Карлос...           8720   \n",
       "17  {тайська мова, Етнонім, Горючі корисні копалин...           7032   \n",
       "18  {кларнет, Вировитиця, Ебрагім Азгарзадех, 2012...           2110   \n",
       "19  {Суддя Джуді, Huey Lewis and The News, Сильна ...           2159   \n",
       "20  {6 жовтня, 3 лютого, Яжельбицький мир, Київськ...            510   \n",
       "21  {Молодіжна збірна Югославії з футболу, Варшавс...           2087   \n",
       "22  {династія Тан, 16 липня, Констанца, Адалоальд ...            272   \n",
       "23  {Херсонес Таврійський, Бабенберги, григоріансь...            532   \n",
       "24  {Херсонес Таврійський, Ордоньйо IV, Никифор Фо...            500   \n",
       "25  {науково-дослідний інститут, Основи гідрохімії...           5107   \n",
       "26  {Кахамарка, будівельна техніка, Викупна жертва...           3067   \n",
       "27  {Кахамарка, будівельна техніка, Викупна жертва...           1767   \n",
       "28  {Фортуна (Сіттард), Кольшайд, папа Римський, л...            766   \n",
       "29  {Джордж Вашингтон, Американська війна за незал...           1211   \n",
       "..                                                ...            ...   \n",
       "70  {Аскар Мирзахметов, Міністерство інформаційної...          10389   \n",
       "71  {Eaubonne, Jean-Jacques Rousseau, Dominique St...            103   \n",
       "72  {Scymnodalatias oligodon, Lutjanus buccanella,...           2622   \n",
       "73  {Герб Боснії і Герцеговини, Герб Грузії, імпер...           3374   \n",
       "74  {Міжнародний аеропорт Гонконгу, Pegas Fly, Скі...           1917   \n",
       "75  {Міжнародний аеропорт Гонконгу, Скіатос (аероп...           2138   \n",
       "76  {Міжнародний аеропорт Гонконгу, Pegas Fly, Скі...           1772   \n",
       "77  {Kitty Ussher, 43 до н. е., яблуко, Andrew Mac...            683   \n",
       "78  {Kitty Ussher, 43 до н. е., яблуко, Andrew Mac...            698   \n",
       "79  {ератема, Карагандинський вугільний басейн, То...            484   \n",
       "80  {Pipes of Peace, I Choose, кларнет, 14 вересня...           1329   \n",
       "81  {500, Пресняков Максимільян Анатолійович, Сінд...            251   \n",
       "82  {Ессен, Emeraldmonkey, Megaherz, The Road to P...           2909   \n",
       "83  {Ла-Невіль, Бії-Беркло, Варнетон (Нор), Буа-Гр...            311   \n",
       "84  {тайська мова, Кемак (мова), Питна вода, Іслам...           5376   \n",
       "85  {C.A.Gardner, Taraxacum platycarpum, наголоват...          14534   \n",
       "86  {тайська мова, Кемак (мова), Питна вода, Іслам...           5380   \n",
       "87  {тайська мова, Кемак (мова), Іслам у Малайзії,...           5234   \n",
       "88  {тайська мова, Кемак (мова), Питна вода, Іслам...           5442   \n",
       "89  {тайська мова, Кемак (мова), Питна вода, Іслам...           5325   \n",
       "90  {Питна вода, Населення Азії, Чорнобильська кат...           2584   \n",
       "91  {тайська мова, Кемак (мова), Питна вода, Іслам...           5449   \n",
       "92  {тайська мова, Кемак (мова), Питна вода, Іслам...           5343   \n",
       "93  {C.A.Gardner, наголоваток жовтий, Wettst., Mat...           9742   \n",
       "94  {Грецька Суперліга 2017—18, 14 вересня, 3 люто...            673   \n",
       "95  {тайська мова, Карлос Мескуїта, бемба, Накала,...           7656   \n",
       "96  {Формула-1 — Гран-прі Сан-Марино 2006, Sauber ...           1723   \n",
       "97  {Формула-1 — Гран-прі Абу-Дабі 2015, Рубенс Ба...           1280   \n",
       "98  {Формула-1 — Гран-прі Абу-Дабі 2015, Рубенс Ба...           1240   \n",
       "99  {Формула-1 — Гран-прі Сан-Марино 2006, Sauber ...           1372   \n",
       "\n",
       "                                    incoming_en_names  n_incoming_en  \n",
       "0   {Billie Holiday, Al McKibbon, Bob Cranshaw, Bu...             42  \n",
       "1   {1043, 1071, 1048, 1040, 1030s, 1062, 1032, 10...             46  \n",
       "2   {Australia, Jeanne d'Albret, 1601, Joan II of ...             50  \n",
       "3   {Transport in Guernsey, Transport in Colombia,...            231  \n",
       "4   {Hyperloop, Hromadske.TV, Volvo, Hearing loss,...             37  \n",
       "5   {List of galaxies, WASP-2b, WASP-1, Atmosphere...             57  \n",
       "6   {Transport in Guernsey, Demographics of Tonga,...            472  \n",
       "7   {Transport in Guernsey, Demographics of Tonga,...            448  \n",
       "8   {Geography of Algeria, Sea of the Hebrides, Sc...             65  \n",
       "9   {Demographics of Madagascar, Demographics of T...            200  \n",
       "10  {Demographics of Madagascar, Demographics of T...            200  \n",
       "11  {Demographics of Madagascar, Demographics of T...            218  \n",
       "12  {Transport in Guernsey, Demographics of Tonga,...            501  \n",
       "13  {Transport in Guernsey, Demographics of Tonga,...            501  \n",
       "14  {Transport in Guernsey, Demographics of Tonga,...            501  \n",
       "15  {Transport in Guernsey, Demographics of Tonga,...            494  \n",
       "16  {Transport in Guernsey, Demographics of Tonga,...            453  \n",
       "17  {Demographics of Madagascar, Demographics of T...            249  \n",
       "18  {Comet (book), The Bridge at Andau, The Beatle...             36  \n",
       "19  {The Innovators (book), William J. Donovan, Di...             31  \n",
       "20  {1461, 1440, 1465, 1451, 1446, 1444, 1449, 143...             33  \n",
       "21  {Administrative divisions of Serbia, Croatia d...             32  \n",
       "22  {612, 617, 610, 623, 618, 596, 615, 625, 595, ...             50  \n",
       "23  {898, 880s, 892, 890, 870s, White Croatia, 910...             52  \n",
       "24  {943, 966, 968, 937, 935, 954, 953, 971, 938, ...             59  \n",
       "25  {Strategic management, Agreement on the Conser...             54  \n",
       "26  {Pre-Columbian era, Domestic turkey, Solanum, ...             67  \n",
       "27  {Pre-Columbian era, Pedro Sarmiento de Gamboa,...             37  \n",
       "28  {Franconian languages, Vladan Kujović, Interna...             25  \n",
       "29  {Louisiana, Oregon, Alaska, North Carolina, Vi...             25  \n",
       "..                                                ...            ...  \n",
       "70  {Cabinet of Antigua and Barbuda, Cabinet of Ma...            157  \n",
       "71  {Vaudherland, Bellefontaine, Val-d'Oise, Saint...             62  \n",
       "72  {Centriscidae, Coris (fish), Bonefishes, Cryst...             67  \n",
       "73  {Flag of Finland, Flag of Iraq, Flag of Guatem...            329  \n",
       "74  {MNG Airlines, Manchester Airport, Göteborg La...             46  \n",
       "75  {Manchester Airport, Göteborg Landvetter Airpo...             45  \n",
       "76  {Göteborg Landvetter Airport, Sofia Airport, P...             35  \n",
       "77  {Staffordshire, Cheshire, Lancashire, Rutland,...             28  \n",
       "78  {Staffordshire, Cheshire, Lancashire, Northumb...             26  \n",
       "79  {Messinian, Campanian, Kimmeridgian, Aquitania...             47  \n",
       "80  {Inna discography, Never Gone, The Highwaymen ...             27  \n",
       "81  {Thurisaz, Haglaz, Naudiz, Tiwaz (rune), Odal ...             29  \n",
       "82  {Sweden Rock Festival, Sziget Festival, Wacken...             27  \n",
       "83  {Sainghin-en-Mélantois, Gondecourt, Bois-Greni...            124  \n",
       "84  {Demographics of Madagascar, Demographics of T...            222  \n",
       "85  {Antidesma bunius, Lipandra, Lobaria pulmonari...             44  \n",
       "86  {Demographics of Madagascar, Demographics of T...            222  \n",
       "87  {Demographics of Madagascar, Mortality rate, D...            227  \n",
       "88  {Demographics of Madagascar, Mortality rate, D...            228  \n",
       "89  {Demographics of Madagascar, Demographics of T...            222  \n",
       "90  {Demographics of Romania, Demographics of Koso...             50  \n",
       "91  {Demographics of Madagascar, Mortality rate, D...            229  \n",
       "92  {Demographics of Madagascar, Mortality rate, D...            226  \n",
       "93  {Melocactus, Eleocharis, Torilis arvensis, Cyt...             56  \n",
       "94  {1968 African Cup of Nations, 1978 African Cup...             27  \n",
       "95  {Transport in Guernsey, Demographics of Tonga,...            441  \n",
       "96  {Jarno Trulli, BAR 007, Anthony Davidson, Mark...             28  \n",
       "97  {Jarno Trulli, 2006 Malaysian Grand Prix, BAR ...             27  \n",
       "98  {Jarno Trulli, BAR 007, Anthony Davidson, 2006...             27  \n",
       "99  {Circuit de Barcelona-Catalunya, Jarno Trulli,...             27  \n",
       "\n",
       "[100 rows x 6 columns]"
      ]
     },
     "execution_count": 119,
     "metadata": {},
     "output_type": "execute_result"
    }
   ],
   "source": [
    "print(df_red_links.shape)\n",
    "df_red_links.head(100)"
   ]
  },
  {
   "cell_type": "code",
   "execution_count": 120,
   "metadata": {
    "collapsed": true
   },
   "outputs": [],
   "source": [
    "# save red links incoming links to files\n",
    "df_red_links.to_csv(PATH_TO_DATA+'red_links_summary_jaccard_model.csv.gz', compression='gzip', header=True, index=False)"
   ]
  },
  {
   "cell_type": "code",
   "execution_count": 20,
   "metadata": {
    "collapsed": false
   },
   "outputs": [],
   "source": [
    "# load \n",
    "df_red_links = pd.read_csv(PATH_TO_DATA+'red_links_summary_jaccard_model.csv.gz')"
   ]
  },
  {
   "cell_type": "markdown",
   "metadata": {},
   "source": [
    "### Find most similar uk articles for red links"
   ]
  },
  {
   "cell_type": "code",
   "execution_count": 124,
   "metadata": {
    "collapsed": false
   },
   "outputs": [
    {
     "name": "stderr",
     "output_type": "stream",
     "text": [
      "100% |########################################################################|\n"
     ]
    }
   ],
   "source": [
    "en_article_list = []\n",
    "en_article_found = []\n",
    "\n",
    "pbar = progressbar.ProgressBar()\n",
    "for j in pbar(range(len(uk_red_ids))):\n",
    "    red_link = uk_red_ids[j]\n",
    "    red_link_encoding = uk_red_encoding[j]\n",
    "    similarities = []\n",
    "    for i in range(len(en_nontranslated_ids)):\n",
    "        similarity = functions.jaccard(red_link_encoding, en_nontranslated_encoding[i])\n",
    "        similarities.append(similarity)\n",
    "    \n",
    "    # select top 5 most similar uk article, zero similarities excluded\n",
    "    similarities = np.array(similarities)\n",
    "    indices = np.argsort(-similarities)[:5]\n",
    "    score = np.round(similarities[indices],3)\n",
    "    n_nonzero = np.sum(score>0)\n",
    "    indices = np.sort(indices[:n_nonzero])\n",
    "\n",
    "    # scores and article names sorted by article ids\n",
    "    score = np.round(similarities[indices],3)\n",
    "    en_article_ids = en_nontranslated_ids[indices]\n",
    "    en_article_names = list(df_en_name[df_en_name['id'].isin(en_article_ids)]['title'])\n",
    "    \n",
    "    # sort by jaccard similarity\n",
    "    d = dict(zip(en_article_names, score))\n",
    "    d_sorted = sorted(((value, key) for (key,value) in d.items()), reverse=True)\n",
    "    \n",
    "    # save to list\n",
    "    en_article_list.append(d_sorted)\n",
    "    \n",
    "    if len(en_article_names)>0:\n",
    "        en_article_found.append(True)\n",
    "    else:\n",
    "        en_article_found.append(False)\n",
    "\n",
    "        \n",
    "# create df to show results\n",
    "df_similarities = pd.DataFrame({'red_link_id': uk_red_ids,\n",
    "                   'en_similar_found': en_article_found, \n",
    "                   'en_similar': en_article_list\n",
    "                  })\n",
    "    \n",
    "    "
   ]
  },
  {
   "cell_type": "code",
   "execution_count": 19,
   "metadata": {
    "collapsed": false
   },
   "outputs": [
    {
     "name": "stderr",
     "output_type": "stream",
     "text": [
      "100% |########################################################################|\n"
     ]
    }
   ],
   "source": [
    "# version for getting all candidates\n",
    "\n",
    "\n",
    "en_article_list = []\n",
    "en_article_found = []\n",
    "\n",
    "pbar = progressbar.ProgressBar()\n",
    "for j in pbar(range(len(uk_red_ids))):\n",
    "    red_link = uk_red_ids[j]\n",
    "    red_link_encoding = uk_red_encoding[j]\n",
    "    similarities = []\n",
    "    for i in range(len(en_nontranslated_ids)):\n",
    "        similarity = functions.jaccard(red_link_encoding, en_nontranslated_encoding[i])\n",
    "        similarities.append(similarity)\n",
    "    \n",
    "    # zero similarities excluded\n",
    "    similarities = np.array(similarities)\n",
    "    indices = np.argsort(-similarities)\n",
    "    score = np.round(similarities[indices],3)\n",
    "    n_nonzero = np.sum(score>0)\n",
    "    indices = np.sort(indices[:n_nonzero])\n",
    "\n",
    "    # scores and article names sorted by article ids\n",
    "    score = np.round(similarities[indices],3)\n",
    "    en_article_ids = en_nontranslated_ids[indices]\n",
    "    en_article_names = list(df_en_name[df_en_name['id'].isin(en_article_ids)]['title'])\n",
    "    \n",
    "    # sort by jaccard similarity\n",
    "    d = dict(zip(en_article_names, score))\n",
    "    d_sorted = sorted(((value, key) for (key,value) in d.items()), reverse=True)\n",
    "    \n",
    "    # save to list\n",
    "    en_article_list.append(d_sorted)\n",
    "    \n",
    "    if len(en_article_names)>0:\n",
    "        en_article_found.append(True)\n",
    "    else:\n",
    "        en_article_found.append(False)\n",
    "\n",
    "        \n",
    "# create df to show results\n",
    "df_similarities = pd.DataFrame({'red_link_id': uk_red_ids,\n",
    "                   'en_similar_found': en_article_found, \n",
    "                   'en_similar': en_article_list\n",
    "                  })\n",
    "    \n",
    "    "
   ]
  },
  {
   "cell_type": "code",
   "execution_count": 21,
   "metadata": {
    "collapsed": true
   },
   "outputs": [],
   "source": [
    "df_red_results = df_red_links.merge(right=df_similarities, right_on = 'red_link_id',\n",
    "                                     left_on = 'red_link_id', how = 'left')"
   ]
  },
  {
   "cell_type": "code",
   "execution_count": 22,
   "metadata": {
    "collapsed": false
   },
   "outputs": [
    {
     "data": {
      "text/html": [
       "<div>\n",
       "<table border=\"1\" class=\"dataframe\">\n",
       "  <thead>\n",
       "    <tr style=\"text-align: right;\">\n",
       "      <th></th>\n",
       "      <th>red_link_id</th>\n",
       "      <th>red_link_name</th>\n",
       "      <th>incoming_uk_names</th>\n",
       "      <th>n_incoming_uk</th>\n",
       "      <th>incoming_en_names</th>\n",
       "      <th>n_incoming_en</th>\n",
       "      <th>en_similar</th>\n",
       "      <th>en_similar_found</th>\n",
       "    </tr>\n",
       "  </thead>\n",
       "  <tbody>\n",
       "    <tr>\n",
       "      <th>0</th>\n",
       "      <td>2818114</td>\n",
       "      <td>Каунт Бейсі</td>\n",
       "      <td>{'кларнет', 'Джонні Ріверс', 'Баррі Гарріс', \"...</td>\n",
       "      <td>1598</td>\n",
       "      <td>{'Billie Holiday', 'Al McKibbon', 'Bob Cransha...</td>\n",
       "      <td>42</td>\n",
       "      <td>[(0.081, The Count Basie Story), (0.076, The A...</td>\n",
       "      <td>True</td>\n",
       "    </tr>\n",
       "    <tr>\n",
       "      <th>1</th>\n",
       "      <td>2818231</td>\n",
       "      <td>аль-Каїм</td>\n",
       "      <td>{'папа Римський', 'Феодосій Печерський', 'Госл...</td>\n",
       "      <td>552</td>\n",
       "      <td>{'1043', '1071', '1048', '1040', '1030s', '106...</td>\n",
       "      <td>46</td>\n",
       "      <td>[(0.031, Ahmad al-Muqtadir), (0.03, Cai Xiang)...</td>\n",
       "      <td>True</td>\n",
       "    </tr>\n",
       "    <tr>\n",
       "      <th>2</th>\n",
       "      <td>2818265</td>\n",
       "      <td>королева</td>\n",
       "      <td>{'тайська мова', 'Станіслав Август Понятовськи...</td>\n",
       "      <td>2985</td>\n",
       "      <td>{'Australia', \"Jeanne d'Albret\", '1601', 'Joan...</td>\n",
       "      <td>50</td>\n",
       "      <td>[(0.033, List of consorts of the monarch of Ir...</td>\n",
       "      <td>True</td>\n",
       "    </tr>\n",
       "    <tr>\n",
       "      <th>3</th>\n",
       "      <td>2821142</td>\n",
       "      <td>Prentice Hall</td>\n",
       "      <td>{'Бандама', 'Вировитиця', 'Метрополітен Ченду'...</td>\n",
       "      <td>3614</td>\n",
       "      <td>{'Transport in Guernsey', 'Transport in Colomb...</td>\n",
       "      <td>231</td>\n",
       "      <td>[(0.078, Chemical tanker), (0.067, Break of ga...</td>\n",
       "      <td>True</td>\n",
       "    </tr>\n",
       "    <tr>\n",
       "      <th>4</th>\n",
       "      <td>2824527</td>\n",
       "      <td>Tokar.ua</td>\n",
       "      <td>{'кадмій', 'Криптоанархізм', 'VoIP', 'Nissan S...</td>\n",
       "      <td>1885</td>\n",
       "      <td>{'Hyperloop', 'Hromadske.TV', 'Volvo', 'Hearin...</td>\n",
       "      <td>37</td>\n",
       "      <td>[(0.05, List of virtual communities with more ...</td>\n",
       "      <td>True</td>\n",
       "    </tr>\n",
       "  </tbody>\n",
       "</table>\n",
       "</div>"
      ],
      "text/plain": [
       "   red_link_id  red_link_name  \\\n",
       "0      2818114    Каунт Бейсі   \n",
       "1      2818231       аль-Каїм   \n",
       "2      2818265       королева   \n",
       "3      2821142  Prentice Hall   \n",
       "4      2824527       Tokar.ua   \n",
       "\n",
       "                                   incoming_uk_names  n_incoming_uk  \\\n",
       "0  {'кларнет', 'Джонні Ріверс', 'Баррі Гарріс', \"...           1598   \n",
       "1  {'папа Римський', 'Феодосій Печерський', 'Госл...            552   \n",
       "2  {'тайська мова', 'Станіслав Август Понятовськи...           2985   \n",
       "3  {'Бандама', 'Вировитиця', 'Метрополітен Ченду'...           3614   \n",
       "4  {'кадмій', 'Криптоанархізм', 'VoIP', 'Nissan S...           1885   \n",
       "\n",
       "                                   incoming_en_names  n_incoming_en  \\\n",
       "0  {'Billie Holiday', 'Al McKibbon', 'Bob Cransha...             42   \n",
       "1  {'1043', '1071', '1048', '1040', '1030s', '106...             46   \n",
       "2  {'Australia', \"Jeanne d'Albret\", '1601', 'Joan...             50   \n",
       "3  {'Transport in Guernsey', 'Transport in Colomb...            231   \n",
       "4  {'Hyperloop', 'Hromadske.TV', 'Volvo', 'Hearin...             37   \n",
       "\n",
       "                                          en_similar en_similar_found  \n",
       "0  [(0.081, The Count Basie Story), (0.076, The A...             True  \n",
       "1  [(0.031, Ahmad al-Muqtadir), (0.03, Cai Xiang)...             True  \n",
       "2  [(0.033, List of consorts of the monarch of Ir...             True  \n",
       "3  [(0.078, Chemical tanker), (0.067, Break of ga...             True  \n",
       "4  [(0.05, List of virtual communities with more ...             True  "
      ]
     },
     "execution_count": 22,
     "metadata": {},
     "output_type": "execute_result"
    }
   ],
   "source": [
    "df_red_results.head()"
   ]
  },
  {
   "cell_type": "code",
   "execution_count": 128,
   "metadata": {
    "collapsed": false
   },
   "outputs": [
    {
     "data": {
      "text/plain": [
       "True     3185\n",
       "False      11\n",
       "Name: en_similar_found, dtype: int64"
      ]
     },
     "execution_count": 128,
     "metadata": {},
     "output_type": "execute_result"
    }
   ],
   "source": [
    "df_red_results['en_similar_found'].value_counts()"
   ]
  },
  {
   "cell_type": "code",
   "execution_count": 24,
   "metadata": {
    "collapsed": true
   },
   "outputs": [],
   "source": [
    "# save results with all candidates to file\n",
    "df_red_results.to_csv(PATH_TO_DATA+'uk_red_links_results_all_candidates.csv', header=True, index=False, encoding = 'UTF-8')"
   ]
  },
  {
   "cell_type": "code",
   "execution_count": 129,
   "metadata": {
    "collapsed": true
   },
   "outputs": [],
   "source": [
    "# save results to file\n",
    "df_red_results.to_csv(PATH_TO_DATA+'uk_red_links_results.csv', header=True, index=False, encoding = 'UTF-8')"
   ]
  },
  {
   "cell_type": "code",
   "execution_count": 131,
   "metadata": {
    "collapsed": false
   },
   "outputs": [],
   "source": [
    "# load \n",
    "df_red_results = pd.read_csv(PATH_TO_DATA+'uk_red_links_results.csv', encoding = 'UTF-8')"
   ]
  },
  {
   "cell_type": "code",
   "execution_count": 23,
   "metadata": {
    "collapsed": false
   },
   "outputs": [],
   "source": [
    "df_red_results = df_red_results[['red_link_name', 'en_similar']]"
   ]
  },
  {
   "cell_type": "code",
   "execution_count": 134,
   "metadata": {
    "collapsed": true
   },
   "outputs": [],
   "source": [
    "# save results to file\n",
    "df_red_results.to_csv(PATH_TO_DATA+'uk_red_links_results_lighter.csv', header=True, index=False, encoding = 'UTF-8')"
   ]
  },
  {
   "cell_type": "code",
   "execution_count": null,
   "metadata": {
    "collapsed": true
   },
   "outputs": [],
   "source": []
  }
 ],
 "metadata": {
  "kernelspec": {
   "display_name": "Python 3",
   "language": "python",
   "name": "python3"
  },
  "language_info": {
   "codemirror_mode": {
    "name": "ipython",
    "version": 3
   },
   "file_extension": ".py",
   "mimetype": "text/x-python",
   "name": "python",
   "nbconvert_exporter": "python",
   "pygments_lexer": "ipython3",
   "version": "3.6.0"
  }
 },
 "nbformat": 4,
 "nbformat_minor": 1
}
