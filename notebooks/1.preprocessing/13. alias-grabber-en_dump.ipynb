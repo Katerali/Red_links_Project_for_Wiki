{
 "cells": [
  {
   "cell_type": "code",
   "execution_count": 1,
   "metadata": {
    "collapsed": true
   },
   "outputs": [],
   "source": [
    "import codecs\n",
    "import csv\n",
    "import time\n",
    "import os\n",
    "import re\n",
    "import gzip\n",
    "import pandas as pd\n",
    "import numpy as np"
   ]
  },
  {
   "cell_type": "code",
   "execution_count": 2,
   "metadata": {
    "collapsed": false
   },
   "outputs": [],
   "source": [
    "PATH_TO_DATA = '/media/andrii/earth/Katia/CS_MasterThesis/data/'\n",
    "PATH_TO_DATA_EN = PATH_TO_DATA+\"enwiki/\"\n",
    "PATH_TO_DATA_UK = PATH_TO_DATA+\"ukwiki/\"\n",
    "data_time = '20180920'"
   ]
  },
  {
   "cell_type": "code",
   "execution_count": 3,
   "metadata": {
    "collapsed": false
   },
   "outputs": [],
   "source": [
    "ENWIKI_ALI_FNMS = []\n",
    "for file in os.listdir(PATH_TO_DATA):\n",
    "    if file.endswith(\"red.csv.gz\"):\n",
    "        ENWIKI_ALI_FNMS.append(file)  "
   ]
  },
  {
   "cell_type": "code",
   "execution_count": 4,
   "metadata": {
    "collapsed": false
   },
   "outputs": [],
   "source": [
    "EN_ID_NAME = \"enwiki-\" + data_time + \"-id_name.csv\"  "
   ]
  },
  {
   "cell_type": "code",
   "execution_count": 5,
   "metadata": {
    "collapsed": false
   },
   "outputs": [
    {
     "data": {
      "text/plain": [
       "55"
      ]
     },
     "execution_count": 5,
     "metadata": {},
     "output_type": "execute_result"
    }
   ],
   "source": [
    "len(ENWIKI_ALI_FNMS)"
   ]
  },
  {
   "cell_type": "code",
   "execution_count": 6,
   "metadata": {
    "collapsed": true
   },
   "outputs": [],
   "source": [
    "def unpack(file_name):\n",
    "    file_name_new = file_name.replace(\".gz\",\"\")\n",
    "    with gzip.open(file_name, 'rb') as f_in, open(file_name_new, 'wb') as f_out:\n",
    "        f_out.writelines(f_in)\n",
    "    return file_name_new"
   ]
  },
  {
   "cell_type": "code",
   "execution_count": 7,
   "metadata": {
    "collapsed": true
   },
   "outputs": [],
   "source": [
    "def pack_and_remove(file_name):\n",
    "    file_name_new = file_name+'.gz'\n",
    "    with open(file_name, 'rb') as f_in, gzip.open(file_name_new, 'wb') as f_out:\n",
    "        f_out.writelines(f_in)\n",
    "    os.remove(file_name)\n",
    "    return file_name_new"
   ]
  },
  {
   "cell_type": "code",
   "execution_count": 9,
   "metadata": {
    "collapsed": false
   },
   "outputs": [
    {
     "data": {
      "text/html": [
       "<div>\n",
       "<table border=\"1\" class=\"dataframe\">\n",
       "  <thead>\n",
       "    <tr style=\"text-align: right;\">\n",
       "      <th></th>\n",
       "      <th>id</th>\n",
       "      <th>title</th>\n",
       "    </tr>\n",
       "  </thead>\n",
       "  <tbody>\n",
       "    <tr>\n",
       "      <th>0</th>\n",
       "      <td>6197600</td>\n",
       "      <td>Flying Tigers (film)</td>\n",
       "    </tr>\n",
       "    <tr>\n",
       "      <th>1</th>\n",
       "      <td>6197604</td>\n",
       "      <td>Mariano Andreu</td>\n",
       "    </tr>\n",
       "    <tr>\n",
       "      <th>2</th>\n",
       "      <td>6197607</td>\n",
       "      <td>David Prain</td>\n",
       "    </tr>\n",
       "    <tr>\n",
       "      <th>3</th>\n",
       "      <td>6197617</td>\n",
       "      <td>Rut Brandt</td>\n",
       "    </tr>\n",
       "    <tr>\n",
       "      <th>4</th>\n",
       "      <td>6197621</td>\n",
       "      <td>Gregory C. Coleman</td>\n",
       "    </tr>\n",
       "  </tbody>\n",
       "</table>\n",
       "</div>"
      ],
      "text/plain": [
       "        id                 title\n",
       "0  6197600  Flying Tigers (film)\n",
       "1  6197604        Mariano Andreu\n",
       "2  6197607           David Prain\n",
       "3  6197617            Rut Brandt\n",
       "4  6197621    Gregory C. Coleman"
      ]
     },
     "execution_count": 9,
     "metadata": {},
     "output_type": "execute_result"
    }
   ],
   "source": [
    "df_en_id_name = pd.read_csv(PATH_TO_DATA+EN_ID_NAME, encoding='utf-8', sep=\"^\")\n",
    "df_en_id_name.head()"
   ]
  },
  {
   "cell_type": "code",
   "execution_count": 10,
   "metadata": {
    "collapsed": false
   },
   "outputs": [
    {
     "name": "stdout",
     "output_type": "stream",
     "text": [
      "/media/andrii/earth/Katia/CS_MasterThesis/BabelNet_baseline/uk-en_redlinks/data/enwiki_20180920/art_red/enwiki-20180920-pages-meta-current27.xml-p56163462p57663462.bz2_red.csv.gz\n",
      "df_id_alias_title_alias size: (201075, 2)\n",
      "df_id_alias_id_orig size: (201075, 2)\n",
      "df_id_orig_title_alias size: (201075, 2)\n",
      "/media/andrii/earth/Katia/CS_MasterThesis/BabelNet_baseline/uk-en_redlinks/data/enwiki_20180920/art_red/enwiki-20180920-pages-meta-current18.xml-p15193074p16120542.bz2_red.csv.gz\n",
      "df_id_alias_title_alias size: (309487, 2)\n",
      "df_id_alias_id_orig size: (309487, 2)\n",
      "df_id_orig_title_alias size: (309487, 2)\n",
      "/media/andrii/earth/Katia/CS_MasterThesis/BabelNet_baseline/uk-en_redlinks/data/enwiki_20180920/art_red/enwiki-20180920-pages-meta-current27.xml-p53163462p54663462.bz2_red.csv.gz\n",
      "df_id_alias_title_alias size: (518951, 2)\n",
      "df_id_alias_id_orig size: (518951, 2)\n",
      "df_id_orig_title_alias size: (518951, 2)\n",
      "/media/andrii/earth/Katia/CS_MasterThesis/BabelNet_baseline/uk-en_redlinks/data/enwiki_20180920/art_red/enwiki-20180920-pages-meta-current19.xml-p16120543p17620543.bz2_red.csv.gz\n",
      "df_id_alias_title_alias size: (799196, 2)\n",
      "df_id_alias_id_orig size: (799196, 2)\n",
      "df_id_orig_title_alias size: (799196, 2)\n",
      "/media/andrii/earth/Katia/CS_MasterThesis/BabelNet_baseline/uk-en_redlinks/data/enwiki_20180920/art_red/enwiki-20180920-pages-meta-current16.xml-p9518050p11018050.bz2_red.csv.gz\n",
      "df_id_alias_title_alias size: (954627, 2)\n",
      "df_id_alias_id_orig size: (954627, 2)\n",
      "df_id_orig_title_alias size: (954627, 2)\n",
      "/media/andrii/earth/Katia/CS_MasterThesis/BabelNet_baseline/uk-en_redlinks/data/enwiki_20180920/art_red/enwiki-20180920-pages-meta-current27.xml-p51663462p53163462.bz2_red.csv.gz\n",
      "df_id_alias_title_alias size: (1135124, 2)\n",
      "df_id_alias_id_orig size: (1135124, 2)\n",
      "df_id_orig_title_alias size: (1135124, 2)\n",
      "/media/andrii/earth/Katia/CS_MasterThesis/BabelNet_baseline/uk-en_redlinks/data/enwiki_20180920/art_red/enwiki-20180920-pages-meta-current22.xml-p25427984p26823660.bz2_red.csv.gz\n",
      "df_id_alias_title_alias size: (1316289, 2)\n",
      "df_id_alias_id_orig size: (1316289, 2)\n",
      "df_id_orig_title_alias size: (1316289, 2)\n",
      "/media/andrii/earth/Katia/CS_MasterThesis/BabelNet_baseline/uk-en_redlinks/data/enwiki_20180920/art_red/enwiki-20180920-pages-meta-current27.xml-p48663462p50163462.bz2_red.csv.gz\n",
      "df_id_alias_title_alias size: (1575796, 2)\n",
      "df_id_alias_id_orig size: (1575796, 2)\n",
      "df_id_orig_title_alias size: (1575796, 2)\n",
      "/media/andrii/earth/Katia/CS_MasterThesis/BabelNet_baseline/uk-en_redlinks/data/enwiki_20180920/art_red/enwiki-20180920-pages-meta-current14.xml-p7697598p7744799.bz2_red.csv.gz\n",
      "df_id_alias_title_alias size: (1581353, 2)\n",
      "df_id_alias_id_orig size: (1581353, 2)\n",
      "df_id_orig_title_alias size: (1581353, 2)\n",
      "/media/andrii/earth/Katia/CS_MasterThesis/BabelNet_baseline/uk-en_redlinks/data/enwiki_20180920/art_red/enwiki-20180920-pages-meta-current14.xml-p6197598p7697598.bz2_red.csv.gz\n",
      "df_id_alias_title_alias size: (1776549, 2)\n",
      "df_id_alias_id_orig size: (1776549, 2)\n",
      "df_id_orig_title_alias size: (1776549, 2)\n",
      "/media/andrii/earth/Katia/CS_MasterThesis/BabelNet_baseline/uk-en_redlinks/data/enwiki_20180920/art_red/enwiki-20180920-pages-meta-current22.xml-p23927984p25427984.bz2_red.csv.gz\n",
      "df_id_alias_title_alias size: (1972856, 2)\n",
      "df_id_alias_id_orig size: (1972856, 2)\n",
      "df_id_orig_title_alias size: (1972856, 2)\n",
      "/media/andrii/earth/Katia/CS_MasterThesis/BabelNet_baseline/uk-en_redlinks/data/enwiki_20180920/art_red/enwiki-20180920-pages-meta-current15.xml-p9244803p9518048.bz2_red.csv.gz\n",
      "df_id_alias_title_alias size: (2006094, 2)\n",
      "df_id_alias_id_orig size: (2006094, 2)\n",
      "df_id_orig_title_alias size: (2006094, 2)\n",
      "/media/andrii/earth/Katia/CS_MasterThesis/BabelNet_baseline/uk-en_redlinks/data/enwiki_20180920/art_red/enwiki-20180920-pages-meta-current15.xml-p7744803p9244803.bz2_red.csv.gz\n",
      "df_id_alias_title_alias size: (2201497, 2)\n",
      "df_id_alias_id_orig size: (2201497, 2)\n",
      "df_id_orig_title_alias size: (2201497, 2)\n",
      "/media/andrii/earth/Katia/CS_MasterThesis/BabelNet_baseline/uk-en_redlinks/data/enwiki_20180920/art_red/enwiki-20180920-pages-meta-current17.xml-p13039268p13693071.bz2_red.csv.gz\n",
      "df_id_alias_title_alias size: (2291308, 2)\n",
      "df_id_alias_id_orig size: (2291308, 2)\n",
      "df_id_orig_title_alias size: (2291308, 2)\n",
      "/media/andrii/earth/Katia/CS_MasterThesis/BabelNet_baseline/uk-en_redlinks/data/enwiki_20180920/art_red/enwiki-20180920-pages-meta-current21.xml-p22722158p23927983.bz2_red.csv.gz\n",
      "df_id_alias_title_alias size: (2495998, 2)\n",
      "df_id_alias_id_orig size: (2495998, 2)\n",
      "df_id_orig_title_alias size: (2495998, 2)\n",
      "/media/andrii/earth/Katia/CS_MasterThesis/BabelNet_baseline/uk-en_redlinks/data/enwiki_20180920/art_red/enwiki-20180920-pages-meta-current24.xml-p32003451p33503451.bz2_red.csv.gz\n",
      "df_id_alias_title_alias size: (2695156, 2)\n",
      "df_id_alias_id_orig size: (2695156, 2)\n",
      "df_id_orig_title_alias size: (2695156, 2)\n",
      "/media/andrii/earth/Katia/CS_MasterThesis/BabelNet_baseline/uk-en_redlinks/data/enwiki_20180920/art_red/enwiki-20180920-pages-meta-current25.xml-p33952816p35452816.bz2_red.csv.gz\n",
      "df_id_alias_title_alias size: (2897927, 2)\n",
      "df_id_alias_id_orig size: (2897927, 2)\n",
      "df_id_orig_title_alias size: (2897927, 2)\n",
      "/media/andrii/earth/Katia/CS_MasterThesis/BabelNet_baseline/uk-en_redlinks/data/enwiki_20180920/art_red/enwiki-20180920-pages-meta-current12.xml-p3926863p5040436.bz2_red.csv.gz\n",
      "df_id_alias_title_alias size: (3069929, 2)\n",
      "df_id_alias_id_orig size: (3069929, 2)\n",
      "df_id_orig_title_alias size: (3069929, 2)\n",
      "/media/andrii/earth/Katia/CS_MasterThesis/BabelNet_baseline/uk-en_redlinks/data/enwiki_20180920/art_red/enwiki-20180920-pages-meta-current23.xml-p29823661p30503449.bz2_red.csv.gz\n",
      "df_id_alias_title_alias size: (3190393, 2)\n",
      "df_id_alias_id_orig size: (3190393, 2)\n",
      "df_id_orig_title_alias size: (3190393, 2)\n",
      "/media/andrii/earth/Katia/CS_MasterThesis/BabelNet_baseline/uk-en_redlinks/data/enwiki_20180920/art_red/enwiki-20180920-pages-meta-current4.xml-p200511p352689.bz2_red.csv.gz\n",
      "df_id_alias_title_alias size: (3224719, 2)\n",
      "df_id_alias_id_orig size: (3224719, 2)\n",
      "df_id_orig_title_alias size: (3224719, 2)\n",
      "/media/andrii/earth/Katia/CS_MasterThesis/BabelNet_baseline/uk-en_redlinks/data/enwiki_20180920/art_red/enwiki-20180920-pages-meta-current19.xml-p17620543p18754735.bz2_red.csv.gz\n",
      "df_id_alias_title_alias size: (3364456, 2)\n",
      "df_id_alias_id_orig size: (3364456, 2)\n",
      "df_id_orig_title_alias size: (3364456, 2)\n",
      "/media/andrii/earth/Katia/CS_MasterThesis/BabelNet_baseline/uk-en_redlinks/data/enwiki_20180920/art_red/enwiki-20180920-pages-meta-current6.xml-p565314p892912.bz2_red.csv.gz\n",
      "df_id_alias_title_alias size: (3463287, 2)\n",
      "df_id_alias_id_orig size: (3463287, 2)\n",
      "df_id_orig_title_alias size: (3463287, 2)\n",
      "/media/andrii/earth/Katia/CS_MasterThesis/BabelNet_baseline/uk-en_redlinks/data/enwiki_20180920/art_red/enwiki-20180920-pages-meta-current26.xml-p41067203p42567203.bz2_red.csv.gz\n",
      "df_id_alias_title_alias size: (3661735, 2)\n",
      "df_id_alias_id_orig size: (3661735, 2)\n",
      "df_id_orig_title_alias size: (3661735, 2)\n",
      "/media/andrii/earth/Katia/CS_MasterThesis/BabelNet_baseline/uk-en_redlinks/data/enwiki_20180920/art_red/enwiki-20180920-pages-meta-current27.xml-p42663462p44163462.bz2_red.csv.gz\n",
      "df_id_alias_title_alias size: (3897289, 2)\n",
      "df_id_alias_id_orig size: (3897289, 2)\n",
      "df_id_orig_title_alias size: (3897289, 2)\n",
      "/media/andrii/earth/Katia/CS_MasterThesis/BabelNet_baseline/uk-en_redlinks/data/enwiki_20180920/art_red/enwiki-20180920-pages-meta-current27.xml-p54663462p56163462.bz2_red.csv.gz\n",
      "df_id_alias_title_alias size: (4147134, 2)\n",
      "df_id_alias_id_orig size: (4147134, 2)\n",
      "df_id_orig_title_alias size: (4147134, 2)\n",
      "/media/andrii/earth/Katia/CS_MasterThesis/BabelNet_baseline/uk-en_redlinks/data/enwiki_20180920/art_red/enwiki-20180920-pages-meta-current17.xml-p11539268p13039268.bz2_red.csv.gz\n",
      "df_id_alias_title_alias size: (4361309, 2)\n",
      "df_id_alias_id_orig size: (4361309, 2)\n",
      "df_id_orig_title_alias size: (4361309, 2)\n",
      "/media/andrii/earth/Katia/CS_MasterThesis/BabelNet_baseline/uk-en_redlinks/data/enwiki_20180920/art_red/enwiki-20180920-pages-meta-current20.xml-p20254736p21222156.bz2_red.csv.gz\n",
      "df_id_alias_title_alias size: (4470256, 2)\n",
      "df_id_alias_id_orig size: (4470256, 2)\n",
      "df_id_orig_title_alias size: (4470256, 2)\n",
      "/media/andrii/earth/Katia/CS_MasterThesis/BabelNet_baseline/uk-en_redlinks/data/enwiki_20180920/art_red/enwiki-20180920-pages-meta-current25.xml-p35452816p36952816.bz2_red.csv.gz\n",
      "df_id_alias_title_alias size: (4683664, 2)\n",
      "df_id_alias_id_orig size: (4683664, 2)\n",
      "df_id_orig_title_alias size: (4683664, 2)\n",
      "/media/andrii/earth/Katia/CS_MasterThesis/BabelNet_baseline/uk-en_redlinks/data/enwiki_20180920/art_red/enwiki-20180920-pages-meta-current27.xml-p50163462p51663462.bz2_red.csv.gz\n",
      "df_id_alias_title_alias size: (4903221, 2)\n",
      "df_id_alias_id_orig size: (4903221, 2)\n",
      "df_id_orig_title_alias size: (4903221, 2)\n",
      "/media/andrii/earth/Katia/CS_MasterThesis/BabelNet_baseline/uk-en_redlinks/data/enwiki_20180920/art_red/enwiki-20180920-pages-meta-current5.xml-p352690p565313.bz2_red.csv.gz\n",
      "df_id_alias_title_alias size: (4957675, 2)\n",
      "df_id_alias_id_orig size: (4957675, 2)\n",
      "df_id_orig_title_alias size: (4957675, 2)\n",
      "/media/andrii/earth/Katia/CS_MasterThesis/BabelNet_baseline/uk-en_redlinks/data/enwiki_20180920/art_red/enwiki-20180920-pages-meta-current27.xml-p44163462p45663462.bz2_red.csv.gz\n",
      "df_id_alias_title_alias size: (5119359, 2)\n",
      "df_id_alias_id_orig size: (5119359, 2)\n",
      "df_id_orig_title_alias size: (5119359, 2)\n",
      "/media/andrii/earth/Katia/CS_MasterThesis/BabelNet_baseline/uk-en_redlinks/data/enwiki_20180920/art_red/enwiki-20180920-pages-meta-current26.xml-p42567203p42663461.bz2_red.csv.gz\n",
      "df_id_alias_title_alias size: (5132062, 2)\n",
      "df_id_alias_id_orig size: (5132062, 2)\n",
      "df_id_orig_title_alias size: (5132062, 2)\n",
      "/media/andrii/earth/Katia/CS_MasterThesis/BabelNet_baseline/uk-en_redlinks/data/enwiki_20180920/art_red/enwiki-20180920-pages-meta-current3.xml-p88445p200507.bz2_red.csv.gz\n",
      "df_id_alias_title_alias size: (5148450, 2)\n",
      "df_id_alias_id_orig size: (5148450, 2)\n",
      "df_id_orig_title_alias size: (5148450, 2)\n",
      "/media/andrii/earth/Katia/CS_MasterThesis/BabelNet_baseline/uk-en_redlinks/data/enwiki_20180920/art_red/enwiki-20180920-pages-meta-current27.xml-p47163462p48663462.bz2_red.csv.gz\n",
      "df_id_alias_title_alias size: (5330485, 2)\n",
      "df_id_alias_id_orig size: (5330485, 2)\n",
      "df_id_orig_title_alias size: (5330485, 2)\n",
      "/media/andrii/earth/Katia/CS_MasterThesis/BabelNet_baseline/uk-en_redlinks/data/enwiki_20180920/art_red/enwiki-20180920-pages-meta-current7.xml-p892914p1268691.bz2_red.csv.gz\n",
      "df_id_alias_title_alias size: (5407746, 2)\n",
      "df_id_alias_id_orig size: (5407746, 2)\n",
      "df_id_orig_title_alias size: (5407746, 2)\n",
      "/media/andrii/earth/Katia/CS_MasterThesis/BabelNet_baseline/uk-en_redlinks/data/enwiki_20180920/art_red/enwiki-20180920-pages-meta-current26.xml-p39567203p41067203.bz2_red.csv.gz\n",
      "df_id_alias_title_alias size: (5604907, 2)\n",
      "df_id_alias_id_orig size: (5604907, 2)\n",
      "df_id_orig_title_alias size: (5604907, 2)\n",
      "/media/andrii/earth/Katia/CS_MasterThesis/BabelNet_baseline/uk-en_redlinks/data/enwiki_20180920/art_red/enwiki-20180920-pages-meta-current24.xml-p30503451p32003451.bz2_red.csv.gz\n",
      "df_id_alias_title_alias size: (5808343, 2)\n",
      "df_id_alias_id_orig size: (5808343, 2)\n",
      "df_id_orig_title_alias size: (5808343, 2)\n",
      "/media/andrii/earth/Katia/CS_MasterThesis/BabelNet_baseline/uk-en_redlinks/data/enwiki_20180920/art_red/enwiki-20180920-pages-meta-current11.xml-p3046514p3926861.bz2_red.csv.gz\n",
      "df_id_alias_title_alias size: (5956950, 2)\n",
      "df_id_alias_id_orig size: (5956950, 2)\n",
      "df_id_orig_title_alias size: (5956950, 2)\n",
      "/media/andrii/earth/Katia/CS_MasterThesis/BabelNet_baseline/uk-en_redlinks/data/enwiki_20180920/art_red/enwiki-20180920-pages-meta-current1.xml-p10p30303.bz2_red.csv.gz\n",
      "df_id_alias_title_alias size: (5961628, 2)\n",
      "df_id_alias_id_orig size: (5961628, 2)\n",
      "df_id_orig_title_alias size: (5961628, 2)\n",
      "/media/andrii/earth/Katia/CS_MasterThesis/BabelNet_baseline/uk-en_redlinks/data/enwiki_20180920/art_red/enwiki-20180920-pages-meta-current8.xml-p1268692p1791079.bz2_red.csv.gz\n",
      "df_id_alias_title_alias size: (6074476, 2)\n",
      "df_id_alias_id_orig size: (6074476, 2)\n",
      "df_id_orig_title_alias size: (6074476, 2)\n",
      "/media/andrii/earth/Katia/CS_MasterThesis/BabelNet_baseline/uk-en_redlinks/data/enwiki_20180920/art_red/enwiki-20180920-pages-meta-current2.xml-p30304p88444.bz2_red.csv.gz\n",
      "df_id_alias_title_alias size: (6086179, 2)\n",
      "df_id_alias_id_orig size: (6086179, 2)\n",
      "df_id_orig_title_alias size: (6086179, 2)\n",
      "/media/andrii/earth/Katia/CS_MasterThesis/BabelNet_baseline/uk-en_redlinks/data/enwiki_20180920/art_red/enwiki-20180920-pages-meta-current20.xml-p18754736p20254736.bz2_red.csv.gz\n",
      "df_id_alias_title_alias size: (6300701, 2)\n",
      "df_id_alias_id_orig size: (6300701, 2)\n",
      "df_id_orig_title_alias size: (6300701, 2)\n",
      "/media/andrii/earth/Katia/CS_MasterThesis/BabelNet_baseline/uk-en_redlinks/data/enwiki_20180920/art_red/enwiki-20180920-pages-meta-current27.xml-p45663462p47163462.bz2_red.csv.gz\n",
      "df_id_alias_title_alias size: (6445948, 2)\n",
      "df_id_alias_id_orig size: (6445948, 2)\n",
      "df_id_orig_title_alias size: (6445948, 2)\n",
      "/media/andrii/earth/Katia/CS_MasterThesis/BabelNet_baseline/uk-en_redlinks/data/enwiki_20180920/art_red/enwiki-20180920-pages-meta-current26.xml-p38067203p39567203.bz2_red.csv.gz\n",
      "df_id_alias_title_alias size: (6677518, 2)\n",
      "df_id_alias_id_orig size: (6677518, 2)\n",
      "df_id_orig_title_alias size: (6677518, 2)\n",
      "/media/andrii/earth/Katia/CS_MasterThesis/BabelNet_baseline/uk-en_redlinks/data/enwiki_20180920/art_red/enwiki-20180920-pages-meta-current16.xml-p11018050p11539266.bz2_red.csv.gz\n",
      "df_id_alias_title_alias size: (6738860, 2)\n",
      "df_id_alias_id_orig size: (6738860, 2)\n",
      "df_id_orig_title_alias size: (6738860, 2)\n",
      "/media/andrii/earth/Katia/CS_MasterThesis/BabelNet_baseline/uk-en_redlinks/data/enwiki_20180920/art_red/enwiki-20180920-pages-meta-current25.xml-p36952816p38067202.bz2_red.csv.gz\n",
      "df_id_alias_title_alias size: (6898909, 2)\n",
      "df_id_alias_id_orig size: (6898909, 2)\n",
      "df_id_orig_title_alias size: (6898909, 2)\n",
      "/media/andrii/earth/Katia/CS_MasterThesis/BabelNet_baseline/uk-en_redlinks/data/enwiki_20180920/art_red/enwiki-20180920-pages-meta-current27.xml-p57663462p58534506.bz2_red.csv.gz\n",
      "df_id_alias_title_alias size: (7010413, 2)\n",
      "df_id_alias_id_orig size: (7010413, 2)\n",
      "df_id_orig_title_alias size: (7010413, 2)\n",
      "/media/andrii/earth/Katia/CS_MasterThesis/BabelNet_baseline/uk-en_redlinks/data/enwiki_20180920/art_red/enwiki-20180920-pages-meta-current21.xml-p21222158p22722158.bz2_red.csv.gz\n",
      "df_id_alias_title_alias size: (7213499, 2)\n",
      "df_id_alias_id_orig size: (7213499, 2)\n",
      "df_id_orig_title_alias size: (7213499, 2)\n",
      "/media/andrii/earth/Katia/CS_MasterThesis/BabelNet_baseline/uk-en_redlinks/data/enwiki_20180920/art_red/enwiki-20180920-pages-meta-current23.xml-p26823661p28323661.bz2_red.csv.gz\n",
      "df_id_alias_title_alias size: (7435312, 2)\n",
      "df_id_alias_id_orig size: (7435312, 2)\n",
      "df_id_orig_title_alias size: (7435312, 2)\n",
      "/media/andrii/earth/Katia/CS_MasterThesis/BabelNet_baseline/uk-en_redlinks/data/enwiki_20180920/art_red/enwiki-20180920-pages-meta-current13.xml-p5040438p6197594.bz2_red.csv.gz\n",
      "df_id_alias_title_alias size: (7618473, 2)\n",
      "df_id_alias_id_orig size: (7618473, 2)\n",
      "df_id_orig_title_alias size: (7618473, 2)\n",
      "/media/andrii/earth/Katia/CS_MasterThesis/BabelNet_baseline/uk-en_redlinks/data/enwiki_20180920/art_red/enwiki-20180920-pages-meta-current9.xml-p1791080p2336422.bz2_red.csv.gz\n",
      "df_id_alias_title_alias size: (7738923, 2)\n",
      "df_id_alias_id_orig size: (7738923, 2)\n",
      "df_id_orig_title_alias size: (7738923, 2)\n",
      "/media/andrii/earth/Katia/CS_MasterThesis/BabelNet_baseline/uk-en_redlinks/data/enwiki_20180920/art_red/enwiki-20180920-pages-meta-current10.xml-p2336425p3046511.bz2_red.csv.gz\n",
      "df_id_alias_title_alias size: (7866361, 2)\n",
      "df_id_alias_id_orig size: (7866361, 2)\n",
      "df_id_orig_title_alias size: (7866361, 2)\n",
      "/media/andrii/earth/Katia/CS_MasterThesis/BabelNet_baseline/uk-en_redlinks/data/enwiki_20180920/art_red/enwiki-20180920-pages-meta-current18.xml-p13693074p15193074.bz2_red.csv.gz\n",
      "df_id_alias_title_alias size: (8096478, 2)\n",
      "df_id_alias_id_orig size: (8096478, 2)\n",
      "df_id_orig_title_alias size: (8096478, 2)\n",
      "/media/andrii/earth/Katia/CS_MasterThesis/BabelNet_baseline/uk-en_redlinks/data/enwiki_20180920/art_red/enwiki-20180920-pages-meta-current23.xml-p28323661p29823661.bz2_red.csv.gz\n",
      "df_id_alias_title_alias size: (8352159, 2)\n",
      "df_id_alias_id_orig size: (8352159, 2)\n",
      "df_id_orig_title_alias size: (8352159, 2)\n",
      "/media/andrii/earth/Katia/CS_MasterThesis/BabelNet_baseline/uk-en_redlinks/data/enwiki_20180920/art_red/enwiki-20180920-pages-meta-current24.xml-p33503451p33952815.bz2_red.csv.gz\n",
      "df_id_alias_title_alias size: (8408124, 2)\n",
      "df_id_alias_id_orig size: (8408124, 2)\n",
      "df_id_orig_title_alias size: (8408124, 2)\n"
     ]
    }
   ],
   "source": [
    "df_id_alias_title_alias = None\n",
    "df_id_alias_id_orig = None\n",
    "df_id_orig_title_alias = None\n",
    "for fn in ENWIKI_ALI_FNMS:\n",
    "    fn = PATH_TO_DATA+fn\n",
    "    print(fn)\n",
    "    fn_new = unpack(fn)\n",
    "    df_aliases = pd.read_csv(fn_new, encoding='UTF-8', quotechar=\"\\\"\")\n",
    "    df_aliases = pd.merge(df_aliases, df_en_id_name, how='left', left_on=['redirect'], right_on=['title'])    \n",
    "    df_aliases = df_aliases[['id_x', 'id_y', 'title_x', 'redirect']]\n",
    "    df_aliases.columns = ['id_alias', 'id_orig', 'title_alias', 'title_orig']    \n",
    "    \n",
    "    df_id_alias_title_alias_tmp = df_aliases[['id_alias', 'title_alias']]\n",
    "    if df_id_alias_title_alias is not None:\n",
    "        df_id_alias_title_alias = df_id_alias_title_alias.append(df_id_alias_title_alias_tmp)        \n",
    "    else:\n",
    "        df_id_alias_title_alias = df_id_alias_title_alias_tmp\n",
    "    print(\"df_id_alias_title_alias size: {}\".format(df_id_alias_title_alias.shape))\n",
    "    \n",
    "    df_id_alias_id_orig_tmp = df_aliases[['id_alias', 'id_orig']]\n",
    "    if df_id_alias_id_orig is not None:\n",
    "        df_id_alias_id_orig = df_id_alias_id_orig.append(df_id_alias_id_orig_tmp)        \n",
    "    else:\n",
    "        df_id_alias_id_orig = df_id_alias_id_orig_tmp\n",
    "    print(\"df_id_alias_id_orig size: {}\".format(df_id_alias_id_orig.shape))\n",
    "    \n",
    "    df_id_orig_title_alias_tmp = df_aliases[['id_orig', 'title_alias']]\n",
    "    if df_id_orig_title_alias is not None:\n",
    "        df_id_orig_title_alias = df_id_orig_title_alias.append(df_id_orig_title_alias_tmp)        \n",
    "    else:\n",
    "        df_id_orig_title_alias = df_id_orig_title_alias_tmp\n",
    "    print(\"df_id_orig_title_alias size: {}\".format(df_id_orig_title_alias.shape))\n",
    "    os.remove(fn_new)"
   ]
  },
  {
   "cell_type": "code",
   "execution_count": 11,
   "metadata": {
    "collapsed": false
   },
   "outputs": [
    {
     "data": {
      "text/html": [
       "<div>\n",
       "<table border=\"1\" class=\"dataframe\">\n",
       "  <thead>\n",
       "    <tr style=\"text-align: right;\">\n",
       "      <th></th>\n",
       "      <th>id_alias</th>\n",
       "      <th>title_alias</th>\n",
       "    </tr>\n",
       "  </thead>\n",
       "  <tbody>\n",
       "    <tr>\n",
       "      <th>0</th>\n",
       "      <td>56163490</td>\n",
       "      <td>Shaheedka</td>\n",
       "    </tr>\n",
       "    <tr>\n",
       "      <th>1</th>\n",
       "      <td>56163494</td>\n",
       "      <td>Barbarossa cycling trail</td>\n",
       "    </tr>\n",
       "    <tr>\n",
       "      <th>2</th>\n",
       "      <td>56163497</td>\n",
       "      <td>Jessica Lange on screen and stage</td>\n",
       "    </tr>\n",
       "    <tr>\n",
       "      <th>3</th>\n",
       "      <td>56163499</td>\n",
       "      <td>Barbarossa cycleway</td>\n",
       "    </tr>\n",
       "    <tr>\n",
       "      <th>4</th>\n",
       "      <td>56163519</td>\n",
       "      <td>Tomás O'Ryan</td>\n",
       "    </tr>\n",
       "  </tbody>\n",
       "</table>\n",
       "</div>"
      ],
      "text/plain": [
       "   id_alias                        title_alias\n",
       "0  56163490                          Shaheedka\n",
       "1  56163494           Barbarossa cycling trail\n",
       "2  56163497  Jessica Lange on screen and stage\n",
       "3  56163499                Barbarossa cycleway\n",
       "4  56163519                       Tomás O'Ryan"
      ]
     },
     "execution_count": 11,
     "metadata": {},
     "output_type": "execute_result"
    }
   ],
   "source": [
    "df_id_alias_title_alias.head()"
   ]
  },
  {
   "cell_type": "code",
   "execution_count": 12,
   "metadata": {
    "collapsed": true
   },
   "outputs": [],
   "source": [
    "df_id_alias_title_alias.to_csv(PATH_TO_DATA+'enwiki-' + data_time + '-id_alias_title_alias.csv', index = False, encoding='UTF-8', quotechar=\"\\\"\")"
   ]
  },
  {
   "cell_type": "code",
   "execution_count": null,
   "metadata": {
    "collapsed": true
   },
   "outputs": [],
   "source": []
  },
  {
   "cell_type": "code",
   "execution_count": 13,
   "metadata": {
    "collapsed": false
   },
   "outputs": [],
   "source": [
    "df_id_alias_id_orig[['id_orig']] = df_id_alias_id_orig[['id_orig']].fillna(-1).astype(int)"
   ]
  },
  {
   "cell_type": "code",
   "execution_count": 14,
   "metadata": {
    "collapsed": false
   },
   "outputs": [
    {
     "data": {
      "text/html": [
       "<div>\n",
       "<table border=\"1\" class=\"dataframe\">\n",
       "  <thead>\n",
       "    <tr style=\"text-align: right;\">\n",
       "      <th></th>\n",
       "      <th>id_alias</th>\n",
       "      <th>id_orig</th>\n",
       "    </tr>\n",
       "  </thead>\n",
       "  <tbody>\n",
       "    <tr>\n",
       "      <th>0</th>\n",
       "      <td>56163490</td>\n",
       "      <td>954897</td>\n",
       "    </tr>\n",
       "    <tr>\n",
       "      <th>1</th>\n",
       "      <td>56163494</td>\n",
       "      <td>56160400</td>\n",
       "    </tr>\n",
       "    <tr>\n",
       "      <th>2</th>\n",
       "      <td>56163497</td>\n",
       "      <td>36339503</td>\n",
       "    </tr>\n",
       "    <tr>\n",
       "      <th>3</th>\n",
       "      <td>56163499</td>\n",
       "      <td>56160400</td>\n",
       "    </tr>\n",
       "    <tr>\n",
       "      <th>4</th>\n",
       "      <td>56163519</td>\n",
       "      <td>20239787</td>\n",
       "    </tr>\n",
       "  </tbody>\n",
       "</table>\n",
       "</div>"
      ],
      "text/plain": [
       "   id_alias   id_orig\n",
       "0  56163490    954897\n",
       "1  56163494  56160400\n",
       "2  56163497  36339503\n",
       "3  56163499  56160400\n",
       "4  56163519  20239787"
      ]
     },
     "execution_count": 14,
     "metadata": {},
     "output_type": "execute_result"
    }
   ],
   "source": [
    "df_id_alias_id_orig.head()"
   ]
  },
  {
   "cell_type": "code",
   "execution_count": 15,
   "metadata": {
    "collapsed": false
   },
   "outputs": [],
   "source": [
    "df_id_alias_id_orig.to_csv(PATH_TO_DATA+'enwiki-' + data_time + '-id_alias_id_orig.csv', index = False, encoding='UTF-8', quotechar=\"\\\"\")"
   ]
  },
  {
   "cell_type": "code",
   "execution_count": 16,
   "metadata": {
    "collapsed": false
   },
   "outputs": [],
   "source": [
    "df_id_orig_title_alias[['id_orig']] = df_id_orig_title_alias[['id_orig']].fillna(-1).astype(int)"
   ]
  },
  {
   "cell_type": "code",
   "execution_count": 17,
   "metadata": {
    "collapsed": false
   },
   "outputs": [
    {
     "data": {
      "text/plain": [
       "(8408124, 2)"
      ]
     },
     "execution_count": 17,
     "metadata": {},
     "output_type": "execute_result"
    }
   ],
   "source": [
    "df_id_orig_title_alias.shape"
   ]
  },
  {
   "cell_type": "code",
   "execution_count": 18,
   "metadata": {
    "collapsed": false
   },
   "outputs": [
    {
     "data": {
      "text/plain": [
       "(8408124, 2)"
      ]
     },
     "execution_count": 18,
     "metadata": {},
     "output_type": "execute_result"
    }
   ],
   "source": [
    "df_id_orig_title_alias = df_id_orig_title_alias.drop_duplicates()\n",
    "df_id_orig_title_alias.shape"
   ]
  },
  {
   "cell_type": "code",
   "execution_count": 19,
   "metadata": {
    "collapsed": false
   },
   "outputs": [
    {
     "data": {
      "text/html": [
       "<div>\n",
       "<table border=\"1\" class=\"dataframe\">\n",
       "  <thead>\n",
       "    <tr style=\"text-align: right;\">\n",
       "      <th></th>\n",
       "      <th>id_orig</th>\n",
       "      <th>title_alias</th>\n",
       "    </tr>\n",
       "  </thead>\n",
       "  <tbody>\n",
       "    <tr>\n",
       "      <th>0</th>\n",
       "      <td>954897</td>\n",
       "      <td>Shaheedka</td>\n",
       "    </tr>\n",
       "    <tr>\n",
       "      <th>1</th>\n",
       "      <td>56160400</td>\n",
       "      <td>Barbarossa cycling trail</td>\n",
       "    </tr>\n",
       "    <tr>\n",
       "      <th>2</th>\n",
       "      <td>36339503</td>\n",
       "      <td>Jessica Lange on screen and stage</td>\n",
       "    </tr>\n",
       "    <tr>\n",
       "      <th>3</th>\n",
       "      <td>56160400</td>\n",
       "      <td>Barbarossa cycleway</td>\n",
       "    </tr>\n",
       "    <tr>\n",
       "      <th>4</th>\n",
       "      <td>20239787</td>\n",
       "      <td>Tomás O'Ryan</td>\n",
       "    </tr>\n",
       "  </tbody>\n",
       "</table>\n",
       "</div>"
      ],
      "text/plain": [
       "    id_orig                        title_alias\n",
       "0    954897                          Shaheedka\n",
       "1  56160400           Barbarossa cycling trail\n",
       "2  36339503  Jessica Lange on screen and stage\n",
       "3  56160400                Barbarossa cycleway\n",
       "4  20239787                       Tomás O'Ryan"
      ]
     },
     "execution_count": 19,
     "metadata": {},
     "output_type": "execute_result"
    }
   ],
   "source": [
    "df_id_orig_title_alias.head()"
   ]
  },
  {
   "cell_type": "code",
   "execution_count": 20,
   "metadata": {
    "collapsed": true
   },
   "outputs": [],
   "source": [
    "df_id_orig_title_alias.to_csv(PATH_TO_DATA+'enwiki-' + data_time + '-id_orig_title_alias.csv', index = False, encoding='UTF-8', quotechar=\"\\\"\")"
   ]
  },
  {
   "cell_type": "code",
   "execution_count": null,
   "metadata": {
    "collapsed": true
   },
   "outputs": [],
   "source": []
  },
  {
   "cell_type": "code",
   "execution_count": null,
   "metadata": {
    "collapsed": true
   },
   "outputs": [],
   "source": []
  }
 ],
 "metadata": {
  "kernelspec": {
   "display_name": "Python 3",
   "language": "python",
   "name": "python3"
  },
  "language_info": {
   "codemirror_mode": {
    "name": "ipython",
    "version": 3
   },
   "file_extension": ".py",
   "mimetype": "text/x-python",
   "name": "python",
   "nbconvert_exporter": "python",
   "pygments_lexer": "ipython3",
   "version": "3.6.0"
  }
 },
 "nbformat": 4,
 "nbformat_minor": 2
}
