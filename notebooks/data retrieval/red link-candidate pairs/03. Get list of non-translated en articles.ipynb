{
 "cells": [
  {
   "cell_type": "code",
   "execution_count": 1,
   "metadata": {},
   "outputs": [],
   "source": [
    "import pandas as pd"
   ]
  },
  {
   "cell_type": "code",
   "execution_count": 9,
   "metadata": {},
   "outputs": [],
   "source": [
    "PATH_TO_DATA_UK = '/media/andrii/earth/Katia/CS_MasterThesis/data/ukwiki/'\n",
    "PATH_TO_DATA_EN = '/media/andrii/earth/Katia/CS_MasterThesis/data/enwiki/en_parsed/'\n",
    "data_time = '20180920'"
   ]
  },
  {
   "cell_type": "code",
   "execution_count": 7,
   "metadata": {},
   "outputs": [],
   "source": [
    "ukredlinks_with_en = pd.read_csv(PATH_TO_DATA_UK+'df_allukredlinks_withentitle.csv')"
   ]
  },
  {
   "cell_type": "code",
   "execution_count": 8,
   "metadata": {},
   "outputs": [
    {
     "data": {
      "text/html": [
       "<div>\n",
       "<style scoped>\n",
       "    .dataframe tbody tr th:only-of-type {\n",
       "        vertical-align: middle;\n",
       "    }\n",
       "\n",
       "    .dataframe tbody tr th {\n",
       "        vertical-align: top;\n",
       "    }\n",
       "\n",
       "    .dataframe thead th {\n",
       "        text-align: right;\n",
       "    }\n",
       "</style>\n",
       "<table border=\"1\" class=\"dataframe\">\n",
       "  <thead>\n",
       "    <tr style=\"text-align: right;\">\n",
       "      <th></th>\n",
       "      <th>id_parent</th>\n",
       "      <th>red_link_name</th>\n",
       "      <th>red_link_id</th>\n",
       "      <th>ll_title</th>\n",
       "    </tr>\n",
       "  </thead>\n",
       "  <tbody>\n",
       "    <tr>\n",
       "      <th>0</th>\n",
       "      <td>13</td>\n",
       "      <td>Географія розвитку</td>\n",
       "      <td>2817993</td>\n",
       "      <td>Geography</td>\n",
       "    </tr>\n",
       "    <tr>\n",
       "      <th>1</th>\n",
       "      <td>13</td>\n",
       "      <td>Географія часу</td>\n",
       "      <td>2817994</td>\n",
       "      <td>Geography</td>\n",
       "    </tr>\n",
       "    <tr>\n",
       "      <th>2</th>\n",
       "      <td>1928599</td>\n",
       "      <td>Географія часу</td>\n",
       "      <td>2817994</td>\n",
       "      <td>Geography (disambiguation)</td>\n",
       "    </tr>\n",
       "    <tr>\n",
       "      <th>3</th>\n",
       "      <td>13</td>\n",
       "      <td>Туристична географія</td>\n",
       "      <td>2817995</td>\n",
       "      <td>Geography</td>\n",
       "    </tr>\n",
       "    <tr>\n",
       "      <th>4</th>\n",
       "      <td>584</td>\n",
       "      <td>рентгенівська спектроскопія поглинання</td>\n",
       "      <td>2817996</td>\n",
       "      <td>Atom</td>\n",
       "    </tr>\n",
       "  </tbody>\n",
       "</table>\n",
       "</div>"
      ],
      "text/plain": [
       "   id_parent                           red_link_name  red_link_id  \\\n",
       "0         13                      Географія розвитку      2817993   \n",
       "1         13                          Географія часу      2817994   \n",
       "2    1928599                          Географія часу      2817994   \n",
       "3         13                    Туристична географія      2817995   \n",
       "4        584  рентгенівська спектроскопія поглинання      2817996   \n",
       "\n",
       "                     ll_title  \n",
       "0                   Geography  \n",
       "1                   Geography  \n",
       "2  Geography (disambiguation)  \n",
       "3                   Geography  \n",
       "4                        Atom  "
      ]
     },
     "execution_count": 8,
     "metadata": {},
     "output_type": "execute_result"
    }
   ],
   "source": [
    "ukredlinks_with_en.head()"
   ]
  },
  {
   "cell_type": "code",
   "execution_count": 10,
   "metadata": {},
   "outputs": [],
   "source": [
    "# add en ids for parent articles\n",
    "en_idname = pd.read_csv(PATH_TO_DATA_EN+'enwiki-20180920-id_name.csv', sep='^')"
   ]
  },
  {
   "cell_type": "code",
   "execution_count": 11,
   "metadata": {},
   "outputs": [
    {
     "data": {
      "text/html": [
       "<div>\n",
       "<style scoped>\n",
       "    .dataframe tbody tr th:only-of-type {\n",
       "        vertical-align: middle;\n",
       "    }\n",
       "\n",
       "    .dataframe tbody tr th {\n",
       "        vertical-align: top;\n",
       "    }\n",
       "\n",
       "    .dataframe thead th {\n",
       "        text-align: right;\n",
       "    }\n",
       "</style>\n",
       "<table border=\"1\" class=\"dataframe\">\n",
       "  <thead>\n",
       "    <tr style=\"text-align: right;\">\n",
       "      <th></th>\n",
       "      <th>id</th>\n",
       "      <th>title</th>\n",
       "    </tr>\n",
       "  </thead>\n",
       "  <tbody>\n",
       "    <tr>\n",
       "      <th>0</th>\n",
       "      <td>6197600</td>\n",
       "      <td>Flying Tigers (film)</td>\n",
       "    </tr>\n",
       "    <tr>\n",
       "      <th>1</th>\n",
       "      <td>6197604</td>\n",
       "      <td>Mariano Andreu</td>\n",
       "    </tr>\n",
       "    <tr>\n",
       "      <th>2</th>\n",
       "      <td>6197607</td>\n",
       "      <td>David Prain</td>\n",
       "    </tr>\n",
       "    <tr>\n",
       "      <th>3</th>\n",
       "      <td>6197617</td>\n",
       "      <td>Rut Brandt</td>\n",
       "    </tr>\n",
       "    <tr>\n",
       "      <th>4</th>\n",
       "      <td>6197621</td>\n",
       "      <td>Gregory C. Coleman</td>\n",
       "    </tr>\n",
       "  </tbody>\n",
       "</table>\n",
       "</div>"
      ],
      "text/plain": [
       "        id                 title\n",
       "0  6197600  Flying Tigers (film)\n",
       "1  6197604        Mariano Andreu\n",
       "2  6197607           David Prain\n",
       "3  6197617            Rut Brandt\n",
       "4  6197621    Gregory C. Coleman"
      ]
     },
     "execution_count": 11,
     "metadata": {},
     "output_type": "execute_result"
    }
   ],
   "source": [
    "en_idname.head()"
   ]
  },
  {
   "cell_type": "code",
   "execution_count": 12,
   "metadata": {},
   "outputs": [],
   "source": [
    "ukredlinks_with_enids = pd.merge(ukredlinks_with_en, en_idname, how='left', left_on=['ll_title'], right_on=['title'])"
   ]
  },
  {
   "cell_type": "code",
   "execution_count": 13,
   "metadata": {},
   "outputs": [],
   "source": [
    "ukredlinks_with_enids = ukredlinks_with_enids[['id_parent', 'red_link_name', 'red_link_id', 'id', 'title']]"
   ]
  },
  {
   "cell_type": "code",
   "execution_count": 14,
   "metadata": {},
   "outputs": [
    {
     "data": {
      "text/html": [
       "<div>\n",
       "<style scoped>\n",
       "    .dataframe tbody tr th:only-of-type {\n",
       "        vertical-align: middle;\n",
       "    }\n",
       "\n",
       "    .dataframe tbody tr th {\n",
       "        vertical-align: top;\n",
       "    }\n",
       "\n",
       "    .dataframe thead th {\n",
       "        text-align: right;\n",
       "    }\n",
       "</style>\n",
       "<table border=\"1\" class=\"dataframe\">\n",
       "  <thead>\n",
       "    <tr style=\"text-align: right;\">\n",
       "      <th></th>\n",
       "      <th>id_parent</th>\n",
       "      <th>red_link_name</th>\n",
       "      <th>red_link_id</th>\n",
       "      <th>id</th>\n",
       "      <th>title</th>\n",
       "    </tr>\n",
       "  </thead>\n",
       "  <tbody>\n",
       "    <tr>\n",
       "      <th>0</th>\n",
       "      <td>13</td>\n",
       "      <td>Географія розвитку</td>\n",
       "      <td>2817993</td>\n",
       "      <td>18963910.0</td>\n",
       "      <td>Geography</td>\n",
       "    </tr>\n",
       "    <tr>\n",
       "      <th>1</th>\n",
       "      <td>13</td>\n",
       "      <td>Географія часу</td>\n",
       "      <td>2817994</td>\n",
       "      <td>18963910.0</td>\n",
       "      <td>Geography</td>\n",
       "    </tr>\n",
       "    <tr>\n",
       "      <th>2</th>\n",
       "      <td>1928599</td>\n",
       "      <td>Географія часу</td>\n",
       "      <td>2817994</td>\n",
       "      <td>17717598.0</td>\n",
       "      <td>Geography (disambiguation)</td>\n",
       "    </tr>\n",
       "    <tr>\n",
       "      <th>3</th>\n",
       "      <td>13</td>\n",
       "      <td>Туристична географія</td>\n",
       "      <td>2817995</td>\n",
       "      <td>18963910.0</td>\n",
       "      <td>Geography</td>\n",
       "    </tr>\n",
       "    <tr>\n",
       "      <th>4</th>\n",
       "      <td>584</td>\n",
       "      <td>рентгенівська спектроскопія поглинання</td>\n",
       "      <td>2817996</td>\n",
       "      <td>902.0</td>\n",
       "      <td>Atom</td>\n",
       "    </tr>\n",
       "  </tbody>\n",
       "</table>\n",
       "</div>"
      ],
      "text/plain": [
       "   id_parent                           red_link_name  red_link_id          id  \\\n",
       "0         13                      Географія розвитку      2817993  18963910.0   \n",
       "1         13                          Географія часу      2817994  18963910.0   \n",
       "2    1928599                          Географія часу      2817994  17717598.0   \n",
       "3         13                    Туристична географія      2817995  18963910.0   \n",
       "4        584  рентгенівська спектроскопія поглинання      2817996       902.0   \n",
       "\n",
       "                        title  \n",
       "0                   Geography  \n",
       "1                   Geography  \n",
       "2  Geography (disambiguation)  \n",
       "3                   Geography  \n",
       "4                        Atom  "
      ]
     },
     "execution_count": 14,
     "metadata": {},
     "output_type": "execute_result"
    }
   ],
   "source": [
    "ukredlinks_with_enids.head()"
   ]
  },
  {
   "cell_type": "code",
   "execution_count": 15,
   "metadata": {},
   "outputs": [],
   "source": [
    "# read cleaned sample\n",
    "ukredlinks_sample = pd.read_csv(PATH_TO_DATA_UK+'ukredlinks_sample.csv')"
   ]
  },
  {
   "cell_type": "code",
   "execution_count": 16,
   "metadata": {},
   "outputs": [],
   "source": [
    "ukredlinks_with_enids_sample = pd.merge(ukredlinks_sample, ukredlinks_with_enids,\n",
    "                                        how='left', left_on=['red_link_name'], right_on=['red_link_name'])"
   ]
  },
  {
   "cell_type": "code",
   "execution_count": 17,
   "metadata": {},
   "outputs": [],
   "source": [
    "ukredlinks_with_enids_sample = ukredlinks_with_enids_sample[pd.notnull(ukredlinks_with_enids_sample['id'])]"
   ]
  },
  {
   "cell_type": "code",
   "execution_count": 18,
   "metadata": {
    "scrolled": true
   },
   "outputs": [],
   "source": [
    "ukredlinks_with_enids_sample = ukredlinks_with_enids_sample.drop_duplicates()"
   ]
  },
  {
   "cell_type": "code",
   "execution_count": 19,
   "metadata": {},
   "outputs": [],
   "source": [
    "ukredlinks_with_enids_sample.to_csv(PATH_TO_DATA+\"ukredlinks_with_enids_sample.csv\", \n",
    "                     index = False, encoding='UTF-8', quotechar=\"\\\"\", sep =\"^\")"
   ]
  },
  {
   "cell_type": "code",
   "execution_count": 20,
   "metadata": {},
   "outputs": [
    {
     "data": {
      "text/html": [
       "<div>\n",
       "<style scoped>\n",
       "    .dataframe tbody tr th:only-of-type {\n",
       "        vertical-align: middle;\n",
       "    }\n",
       "\n",
       "    .dataframe tbody tr th {\n",
       "        vertical-align: top;\n",
       "    }\n",
       "\n",
       "    .dataframe thead th {\n",
       "        text-align: right;\n",
       "    }\n",
       "</style>\n",
       "<table border=\"1\" class=\"dataframe\">\n",
       "  <thead>\n",
       "    <tr style=\"text-align: right;\">\n",
       "      <th></th>\n",
       "      <th>red_link_name</th>\n",
       "      <th>id_parent</th>\n",
       "      <th>red_link_id</th>\n",
       "      <th>id</th>\n",
       "      <th>title</th>\n",
       "    </tr>\n",
       "  </thead>\n",
       "  <tbody>\n",
       "    <tr>\n",
       "      <th>0</th>\n",
       "      <td>Каунт Бейсі</td>\n",
       "      <td>625</td>\n",
       "      <td>2818114</td>\n",
       "      <td>34651.0</td>\n",
       "      <td>1904</td>\n",
       "    </tr>\n",
       "    <tr>\n",
       "      <th>1</th>\n",
       "      <td>Каунт Бейсі</td>\n",
       "      <td>36823</td>\n",
       "      <td>2818114</td>\n",
       "      <td>605856.0</td>\n",
       "      <td>WordPress</td>\n",
       "    </tr>\n",
       "    <tr>\n",
       "      <th>3</th>\n",
       "      <td>Каунт Бейсі</td>\n",
       "      <td>202525</td>\n",
       "      <td>2818114</td>\n",
       "      <td>50350.0</td>\n",
       "      <td>Ella Fitzgerald</td>\n",
       "    </tr>\n",
       "    <tr>\n",
       "      <th>4</th>\n",
       "      <td>Каунт Бейсі</td>\n",
       "      <td>202608</td>\n",
       "      <td>2818114</td>\n",
       "      <td>22519.0</td>\n",
       "      <td>Oscar Peterson</td>\n",
       "    </tr>\n",
       "    <tr>\n",
       "      <th>5</th>\n",
       "      <td>Каунт Бейсі</td>\n",
       "      <td>202613</td>\n",
       "      <td>2818114</td>\n",
       "      <td>2193014.0</td>\n",
       "      <td>Lester Young</td>\n",
       "    </tr>\n",
       "  </tbody>\n",
       "</table>\n",
       "</div>"
      ],
      "text/plain": [
       "  red_link_name  id_parent  red_link_id         id            title\n",
       "0   Каунт Бейсі        625      2818114    34651.0             1904\n",
       "1   Каунт Бейсі      36823      2818114   605856.0        WordPress\n",
       "3   Каунт Бейсі     202525      2818114    50350.0  Ella Fitzgerald\n",
       "4   Каунт Бейсі     202608      2818114    22519.0   Oscar Peterson\n",
       "5   Каунт Бейсі     202613      2818114  2193014.0     Lester Young"
      ]
     },
     "execution_count": 20,
     "metadata": {},
     "output_type": "execute_result"
    }
   ],
   "source": [
    "ukredlinks_with_enids_sample.head()"
   ]
  },
  {
   "cell_type": "code",
   "execution_count": 21,
   "metadata": {},
   "outputs": [],
   "source": [
    "# get non-translated English articles\n",
    "fn = PATH_TO_DATA_UK+'20180920-langlinks_uk_en.csv'\n",
    "df_link = pd.read_csv(fn,  encoding='UTF-8', quotechar='\\'')"
   ]
  },
  {
   "cell_type": "code",
   "execution_count": 22,
   "metadata": {},
   "outputs": [],
   "source": [
    "translated_en_articles = pd.merge(en_idname, df_link,\n",
    "                                        how='left', left_on=['title'], right_on=['ll_title'])"
   ]
  },
  {
   "cell_type": "code",
   "execution_count": 23,
   "metadata": {},
   "outputs": [],
   "source": [
    "translated_en_articles = translated_en_articles[['id', 'title', 'll_from']]"
   ]
  },
  {
   "cell_type": "code",
   "execution_count": 24,
   "metadata": {},
   "outputs": [],
   "source": [
    "translated_en_articles = translated_en_articles[pd.notnull(translated_en_articles['ll_from'])]"
   ]
  },
  {
   "cell_type": "code",
   "execution_count": 25,
   "metadata": {},
   "outputs": [],
   "source": [
    "non_translated_en_articles = translated_en_articles[translated_en_articles['ll_from'].isnull()]"
   ]
  },
  {
   "cell_type": "code",
   "execution_count": 27,
   "metadata": {},
   "outputs": [],
   "source": [
    "translated_en_articles.to_csv(PATH_TO_DATA_EN+\"translated_en_articles.csv\", \n",
    "                     index = False, encoding='UTF-8', quotechar=\"\\\"\", sep =\"^\")"
   ]
  },
  {
   "cell_type": "code",
   "execution_count": 28,
   "metadata": {},
   "outputs": [],
   "source": [
    "non_translated_en_articles = non_translated_en_articles[['id', 'title']]"
   ]
  },
  {
   "cell_type": "code",
   "execution_count": 30,
   "metadata": {},
   "outputs": [],
   "source": [
    "non_translated_en_articles.to_csv(PATH_TO_DATA_EN+\"non_translated_en_articles.csv\", \n",
    "                     index = False, encoding='UTF-8', quotechar=\"\\\"\", sep =\"^\")"
   ]
  },
  {
   "cell_type": "code",
   "execution_count": null,
   "metadata": {},
   "outputs": [],
   "source": []
  }
 ],
 "metadata": {
  "kernelspec": {
   "display_name": "Python 3",
   "language": "python",
   "name": "python3"
  },
  "language_info": {
   "codemirror_mode": {
    "name": "ipython",
    "version": 3
   },
   "file_extension": ".py",
   "mimetype": "text/x-python",
   "name": "python",
   "nbconvert_exporter": "python",
   "pygments_lexer": "ipython3",
   "version": "3.6.9"
  }
 },
 "nbformat": 4,
 "nbformat_minor": 2
}
