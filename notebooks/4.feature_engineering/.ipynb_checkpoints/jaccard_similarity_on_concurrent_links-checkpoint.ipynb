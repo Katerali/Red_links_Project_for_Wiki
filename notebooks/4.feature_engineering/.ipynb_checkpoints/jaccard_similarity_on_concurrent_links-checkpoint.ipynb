{
 "cells": [
  {
   "cell_type": "code",
   "execution_count": 1,
   "metadata": {},
   "outputs": [],
   "source": [
    "# input data:\n",
    "# candidate pairs (strings) as a dataframe\n",
    "# dictionary candidates_dict with 'title:ids' name for candidates\n",
    "# concurrent links for candidates as a set in a tuple in a list in 101 files\n",
    "# concurrent set for red links as a values set in a dictionary"
   ]
  },
  {
   "cell_type": "code",
   "execution_count": 2,
   "metadata": {},
   "outputs": [],
   "source": [
    "import pandas as pd\n",
    "import os\n",
    "import re\n",
    "\n",
    "import pickle\n",
    "\n",
    "import sys\n",
    "sys.path.insert(0, '/media/andrii/earth/Katia/CS_MasterThesis/Red_links_Project_for_Wiki_draft/py')\n",
    "import functions\n",
    "\n",
    "import time\n",
    "\n",
    "from multiprocessing import Pool"
   ]
  },
  {
   "cell_type": "code",
   "execution_count": 3,
   "metadata": {},
   "outputs": [],
   "source": [
    "PATH_TO_DATA_UK = '/media/andrii/earth/Katia/CS_MasterThesis/data/ukwiki/ukwiki_20180920/'\n",
    "PATH_TO_DATA_EN = '/media/andrii/earth/Katia/CS_MasterThesis/data/enwiki/enwiki_20180920/'\n",
    "PATH_TO_DATA_RL = '/media/andrii/earth/Katia/CS_MasterThesis/data/ukwiki/uk_red_links/'\n",
    "PATH_TO_WIKIDATA_UK = '/media/andrii/earth/Katia/CS_MasterThesis/data/ukwiki/uk_wikidata/'\n",
    "PATH_TO_WIKIDATA_EN = '/media/andrii/earth/Katia/CS_MasterThesis/data/enwiki/en_wikidata/'"
   ]
  },
  {
   "cell_type": "code",
   "execution_count": 4,
   "metadata": {},
   "outputs": [
    {
     "data": {
      "text/plain": [
       "(2964382, 6)"
      ]
     },
     "execution_count": 4,
     "metadata": {},
     "output_type": "execute_result"
    }
   ],
   "source": [
    "# Load candidate pairs\n",
    "candidate_pairs = pd.read_csv(PATH_TO_DATA_RL+'red_links_uk_with_features.csv')\n",
    "candidate_pairs.shape"
   ]
  },
  {
   "cell_type": "code",
   "execution_count": 34,
   "metadata": {},
   "outputs": [],
   "source": [
    "# add unique id for each pair\n",
    "\n",
    "candidate_pairs['pair_unique_id'] = candidate_pairs.index\n",
    "\n",
    "cols = candidate_pairs.columns.tolist()\n",
    "\n",
    "cols = cols[-1:] + cols[:-1]\n",
    "\n",
    "candidate_pairs = candidate_pairs[cols]"
   ]
  },
  {
   "cell_type": "code",
   "execution_count": 5,
   "metadata": {},
   "outputs": [],
   "source": [
    "# load candidates_dict with 'title:ids' name for candidates\n",
    "with open(PATH_TO_DATA_EN+'candidates_title_id_dict.p', 'rb') as fp:\n",
    "    candidates_title_id_dict = pickle.load(fp)"
   ]
  },
  {
   "cell_type": "code",
   "execution_count": 6,
   "metadata": {},
   "outputs": [],
   "source": [
    "# load uk concurrent links pickle file\n",
    "with open(PATH_TO_DATA_UK+'uk_concurrent_links_dict.p', 'rb') as fp:\n",
    "    uk_concurrent_links_dict = pickle.load(fp)"
   ]
  },
  {
   "cell_type": "code",
   "execution_count": 14,
   "metadata": {},
   "outputs": [],
   "source": [
    "tuples = candidate_pairs.apply(lambda x: (x['candidate'], x['red_link_name']), axis=1)"
   ]
  },
  {
   "cell_type": "code",
   "execution_count": 15,
   "metadata": {},
   "outputs": [],
   "source": [
    "tuples_with_id = tuples.apply(lambda x: (candidates_title_id_dict.get(x[0]), x[1]))"
   ]
  },
  {
   "cell_type": "code",
   "execution_count": 16,
   "metadata": {},
   "outputs": [
    {
     "data": {
      "text/plain": [
       "0    (19043714.0, Pachetra sagittigera)\n",
       "1    (20081651.0, Pachetra sagittigera)\n",
       "2    (19058763.0, Pachetra sagittigera)\n",
       "3    (24455798.0, Pachetra sagittigera)\n",
       "4    (18755597.0, Pachetra sagittigera)\n",
       "dtype: object"
      ]
     },
     "execution_count": 16,
     "metadata": {},
     "output_type": "execute_result"
    }
   ],
   "source": [
    "tuples_with_id[:5]"
   ]
  },
  {
   "cell_type": "code",
   "execution_count": 16,
   "metadata": {},
   "outputs": [],
   "source": []
  },
  {
   "cell_type": "code",
   "execution_count": 36,
   "metadata": {},
   "outputs": [
    {
     "name": "stdout",
     "output_type": "stream",
     "text": [
      "start_index = 0\n",
      "num_items_proceed = 26\n",
      "/media/andrii/earth/Katia/CS_MasterThesis/data/enwiki/enwiki_20180920/concurrent_for_candidates/candidate_concurrent_set_1.p\n",
      "/media/andrii/earth/Katia/CS_MasterThesis/data/enwiki/enwiki_20180920/concurrent_for_candidates/candidate_concurrent_set_2.p\n",
      "/media/andrii/earth/Katia/CS_MasterThesis/data/enwiki/enwiki_20180920/concurrent_for_candidates/candidate_concurrent_set_3.p\n",
      "/media/andrii/earth/Katia/CS_MasterThesis/data/enwiki/enwiki_20180920/concurrent_for_candidates/candidate_concurrent_set_4.p\n",
      "/media/andrii/earth/Katia/CS_MasterThesis/data/enwiki/enwiki_20180920/concurrent_for_candidates/candidate_concurrent_set_5.p\n",
      "/media/andrii/earth/Katia/CS_MasterThesis/data/enwiki/enwiki_20180920/concurrent_for_candidates/candidate_concurrent_set_6.p\n",
      "/media/andrii/earth/Katia/CS_MasterThesis/data/enwiki/enwiki_20180920/concurrent_for_candidates/candidate_concurrent_set_7.p\n",
      "/media/andrii/earth/Katia/CS_MasterThesis/data/enwiki/enwiki_20180920/concurrent_for_candidates/candidate_concurrent_set_8.p\n",
      "/media/andrii/earth/Katia/CS_MasterThesis/data/enwiki/enwiki_20180920/concurrent_for_candidates/candidate_concurrent_set_9.p\n",
      "/media/andrii/earth/Katia/CS_MasterThesis/data/enwiki/enwiki_20180920/concurrent_for_candidates/candidate_concurrent_set_10.p\n",
      "/media/andrii/earth/Katia/CS_MasterThesis/data/enwiki/enwiki_20180920/concurrent_for_candidates/candidate_concurrent_set_11.p\n",
      "/media/andrii/earth/Katia/CS_MasterThesis/data/enwiki/enwiki_20180920/concurrent_for_candidates/candidate_concurrent_set_12.p\n",
      "/media/andrii/earth/Katia/CS_MasterThesis/data/enwiki/enwiki_20180920/concurrent_for_candidates/candidate_concurrent_set_13.p\n",
      "/media/andrii/earth/Katia/CS_MasterThesis/data/enwiki/enwiki_20180920/concurrent_for_candidates/candidate_concurrent_set_14.p\n",
      "/media/andrii/earth/Katia/CS_MasterThesis/data/enwiki/enwiki_20180920/concurrent_for_candidates/candidate_concurrent_set_15.p\n",
      "/media/andrii/earth/Katia/CS_MasterThesis/data/enwiki/enwiki_20180920/concurrent_for_candidates/candidate_concurrent_set_16.p\n",
      "/media/andrii/earth/Katia/CS_MasterThesis/data/enwiki/enwiki_20180920/concurrent_for_candidates/candidate_concurrent_set_17.p\n",
      "/media/andrii/earth/Katia/CS_MasterThesis/data/enwiki/enwiki_20180920/concurrent_for_candidates/candidate_concurrent_set_18.p\n",
      "/media/andrii/earth/Katia/CS_MasterThesis/data/enwiki/enwiki_20180920/concurrent_for_candidates/candidate_concurrent_set_19.p\n",
      "/media/andrii/earth/Katia/CS_MasterThesis/data/enwiki/enwiki_20180920/concurrent_for_candidates/candidate_concurrent_set_20.p\n",
      "/media/andrii/earth/Katia/CS_MasterThesis/data/enwiki/enwiki_20180920/concurrent_for_candidates/candidate_concurrent_set_21.p\n",
      "/media/andrii/earth/Katia/CS_MasterThesis/data/enwiki/enwiki_20180920/concurrent_for_candidates/candidate_concurrent_set_22.p\n",
      "/media/andrii/earth/Katia/CS_MasterThesis/data/enwiki/enwiki_20180920/concurrent_for_candidates/candidate_concurrent_set_23.p\n",
      "/media/andrii/earth/Katia/CS_MasterThesis/data/enwiki/enwiki_20180920/concurrent_for_candidates/candidate_concurrent_set_24.p\n",
      "/media/andrii/earth/Katia/CS_MasterThesis/data/enwiki/enwiki_20180920/concurrent_for_candidates/candidate_concurrent_set_25.p\n",
      "/media/andrii/earth/Katia/CS_MasterThesis/data/enwiki/enwiki_20180920/concurrent_for_candidates/candidate_concurrent_set_26.p\n",
      "Time: 0.6 minutes\n",
      "start_index = 26\n",
      "num_items_proceed = 51\n",
      "/media/andrii/earth/Katia/CS_MasterThesis/data/enwiki/enwiki_20180920/concurrent_for_candidates/candidate_concurrent_set_27.p\n",
      "/media/andrii/earth/Katia/CS_MasterThesis/data/enwiki/enwiki_20180920/concurrent_for_candidates/candidate_concurrent_set_28.p\n",
      "/media/andrii/earth/Katia/CS_MasterThesis/data/enwiki/enwiki_20180920/concurrent_for_candidates/candidate_concurrent_set_29.p\n",
      "/media/andrii/earth/Katia/CS_MasterThesis/data/enwiki/enwiki_20180920/concurrent_for_candidates/candidate_concurrent_set_30.p\n",
      "/media/andrii/earth/Katia/CS_MasterThesis/data/enwiki/enwiki_20180920/concurrent_for_candidates/candidate_concurrent_set_31.p\n",
      "/media/andrii/earth/Katia/CS_MasterThesis/data/enwiki/enwiki_20180920/concurrent_for_candidates/candidate_concurrent_set_32.p\n",
      "/media/andrii/earth/Katia/CS_MasterThesis/data/enwiki/enwiki_20180920/concurrent_for_candidates/candidate_concurrent_set_33.p\n",
      "/media/andrii/earth/Katia/CS_MasterThesis/data/enwiki/enwiki_20180920/concurrent_for_candidates/candidate_concurrent_set_34.p\n",
      "/media/andrii/earth/Katia/CS_MasterThesis/data/enwiki/enwiki_20180920/concurrent_for_candidates/candidate_concurrent_set_35.p\n",
      "/media/andrii/earth/Katia/CS_MasterThesis/data/enwiki/enwiki_20180920/concurrent_for_candidates/candidate_concurrent_set_36.p\n",
      "/media/andrii/earth/Katia/CS_MasterThesis/data/enwiki/enwiki_20180920/concurrent_for_candidates/candidate_concurrent_set_37.p\n",
      "/media/andrii/earth/Katia/CS_MasterThesis/data/enwiki/enwiki_20180920/concurrent_for_candidates/candidate_concurrent_set_38.p\n",
      "/media/andrii/earth/Katia/CS_MasterThesis/data/enwiki/enwiki_20180920/concurrent_for_candidates/candidate_concurrent_set_39.p\n",
      "/media/andrii/earth/Katia/CS_MasterThesis/data/enwiki/enwiki_20180920/concurrent_for_candidates/candidate_concurrent_set_40.p\n",
      "/media/andrii/earth/Katia/CS_MasterThesis/data/enwiki/enwiki_20180920/concurrent_for_candidates/candidate_concurrent_set_41.p\n",
      "/media/andrii/earth/Katia/CS_MasterThesis/data/enwiki/enwiki_20180920/concurrent_for_candidates/candidate_concurrent_set_42.p\n",
      "/media/andrii/earth/Katia/CS_MasterThesis/data/enwiki/enwiki_20180920/concurrent_for_candidates/candidate_concurrent_set_43.p\n",
      "/media/andrii/earth/Katia/CS_MasterThesis/data/enwiki/enwiki_20180920/concurrent_for_candidates/candidate_concurrent_set_44.p\n",
      "/media/andrii/earth/Katia/CS_MasterThesis/data/enwiki/enwiki_20180920/concurrent_for_candidates/candidate_concurrent_set_45.p\n",
      "/media/andrii/earth/Katia/CS_MasterThesis/data/enwiki/enwiki_20180920/concurrent_for_candidates/candidate_concurrent_set_46.p\n",
      "/media/andrii/earth/Katia/CS_MasterThesis/data/enwiki/enwiki_20180920/concurrent_for_candidates/candidate_concurrent_set_47.p\n",
      "/media/andrii/earth/Katia/CS_MasterThesis/data/enwiki/enwiki_20180920/concurrent_for_candidates/candidate_concurrent_set_48.p\n",
      "/media/andrii/earth/Katia/CS_MasterThesis/data/enwiki/enwiki_20180920/concurrent_for_candidates/candidate_concurrent_set_49.p\n",
      "/media/andrii/earth/Katia/CS_MasterThesis/data/enwiki/enwiki_20180920/concurrent_for_candidates/candidate_concurrent_set_50.p\n",
      "/media/andrii/earth/Katia/CS_MasterThesis/data/enwiki/enwiki_20180920/concurrent_for_candidates/candidate_concurrent_set_51.p\n",
      "Time: 0.7 minutes\n",
      "start_index = 51\n",
      "num_items_proceed = 76\n",
      "/media/andrii/earth/Katia/CS_MasterThesis/data/enwiki/enwiki_20180920/concurrent_for_candidates/candidate_concurrent_set_52.p\n",
      "/media/andrii/earth/Katia/CS_MasterThesis/data/enwiki/enwiki_20180920/concurrent_for_candidates/candidate_concurrent_set_53.p\n",
      "/media/andrii/earth/Katia/CS_MasterThesis/data/enwiki/enwiki_20180920/concurrent_for_candidates/candidate_concurrent_set_54.p\n",
      "/media/andrii/earth/Katia/CS_MasterThesis/data/enwiki/enwiki_20180920/concurrent_for_candidates/candidate_concurrent_set_55.p\n",
      "/media/andrii/earth/Katia/CS_MasterThesis/data/enwiki/enwiki_20180920/concurrent_for_candidates/candidate_concurrent_set_56.p\n",
      "/media/andrii/earth/Katia/CS_MasterThesis/data/enwiki/enwiki_20180920/concurrent_for_candidates/candidate_concurrent_set_57.p\n",
      "/media/andrii/earth/Katia/CS_MasterThesis/data/enwiki/enwiki_20180920/concurrent_for_candidates/candidate_concurrent_set_58.p\n",
      "/media/andrii/earth/Katia/CS_MasterThesis/data/enwiki/enwiki_20180920/concurrent_for_candidates/candidate_concurrent_set_59.p\n",
      "/media/andrii/earth/Katia/CS_MasterThesis/data/enwiki/enwiki_20180920/concurrent_for_candidates/candidate_concurrent_set_60.p\n",
      "/media/andrii/earth/Katia/CS_MasterThesis/data/enwiki/enwiki_20180920/concurrent_for_candidates/candidate_concurrent_set_61.p\n",
      "/media/andrii/earth/Katia/CS_MasterThesis/data/enwiki/enwiki_20180920/concurrent_for_candidates/candidate_concurrent_set_62.p\n",
      "/media/andrii/earth/Katia/CS_MasterThesis/data/enwiki/enwiki_20180920/concurrent_for_candidates/candidate_concurrent_set_63.p\n",
      "/media/andrii/earth/Katia/CS_MasterThesis/data/enwiki/enwiki_20180920/concurrent_for_candidates/candidate_concurrent_set_64.p\n"
     ]
    },
    {
     "name": "stdout",
     "output_type": "stream",
     "text": [
      "/media/andrii/earth/Katia/CS_MasterThesis/data/enwiki/enwiki_20180920/concurrent_for_candidates/candidate_concurrent_set_65.p\n",
      "/media/andrii/earth/Katia/CS_MasterThesis/data/enwiki/enwiki_20180920/concurrent_for_candidates/candidate_concurrent_set_66.p\n",
      "/media/andrii/earth/Katia/CS_MasterThesis/data/enwiki/enwiki_20180920/concurrent_for_candidates/candidate_concurrent_set_67.p\n",
      "/media/andrii/earth/Katia/CS_MasterThesis/data/enwiki/enwiki_20180920/concurrent_for_candidates/candidate_concurrent_set_68.p\n",
      "/media/andrii/earth/Katia/CS_MasterThesis/data/enwiki/enwiki_20180920/concurrent_for_candidates/candidate_concurrent_set_69.p\n",
      "/media/andrii/earth/Katia/CS_MasterThesis/data/enwiki/enwiki_20180920/concurrent_for_candidates/candidate_concurrent_set_70.p\n",
      "/media/andrii/earth/Katia/CS_MasterThesis/data/enwiki/enwiki_20180920/concurrent_for_candidates/candidate_concurrent_set_71.p\n",
      "/media/andrii/earth/Katia/CS_MasterThesis/data/enwiki/enwiki_20180920/concurrent_for_candidates/candidate_concurrent_set_72.p\n",
      "/media/andrii/earth/Katia/CS_MasterThesis/data/enwiki/enwiki_20180920/concurrent_for_candidates/candidate_concurrent_set_73.p\n",
      "/media/andrii/earth/Katia/CS_MasterThesis/data/enwiki/enwiki_20180920/concurrent_for_candidates/candidate_concurrent_set_74.p\n",
      "/media/andrii/earth/Katia/CS_MasterThesis/data/enwiki/enwiki_20180920/concurrent_for_candidates/candidate_concurrent_set_75.p\n",
      "/media/andrii/earth/Katia/CS_MasterThesis/data/enwiki/enwiki_20180920/concurrent_for_candidates/candidate_concurrent_set_76.p\n",
      "Time: 0.9 minutes\n",
      "start_index = 76\n",
      "num_items_proceed = 101\n",
      "/media/andrii/earth/Katia/CS_MasterThesis/data/enwiki/enwiki_20180920/concurrent_for_candidates/candidate_concurrent_set_77.p\n",
      "/media/andrii/earth/Katia/CS_MasterThesis/data/enwiki/enwiki_20180920/concurrent_for_candidates/candidate_concurrent_set_78.p\n",
      "/media/andrii/earth/Katia/CS_MasterThesis/data/enwiki/enwiki_20180920/concurrent_for_candidates/candidate_concurrent_set_79.p\n",
      "/media/andrii/earth/Katia/CS_MasterThesis/data/enwiki/enwiki_20180920/concurrent_for_candidates/candidate_concurrent_set_80.p\n",
      "/media/andrii/earth/Katia/CS_MasterThesis/data/enwiki/enwiki_20180920/concurrent_for_candidates/candidate_concurrent_set_81.p\n",
      "/media/andrii/earth/Katia/CS_MasterThesis/data/enwiki/enwiki_20180920/concurrent_for_candidates/candidate_concurrent_set_82.p\n",
      "/media/andrii/earth/Katia/CS_MasterThesis/data/enwiki/enwiki_20180920/concurrent_for_candidates/candidate_concurrent_set_83.p\n",
      "/media/andrii/earth/Katia/CS_MasterThesis/data/enwiki/enwiki_20180920/concurrent_for_candidates/candidate_concurrent_set_84.p\n",
      "/media/andrii/earth/Katia/CS_MasterThesis/data/enwiki/enwiki_20180920/concurrent_for_candidates/candidate_concurrent_set_85.p\n",
      "/media/andrii/earth/Katia/CS_MasterThesis/data/enwiki/enwiki_20180920/concurrent_for_candidates/candidate_concurrent_set_86.p\n",
      "/media/andrii/earth/Katia/CS_MasterThesis/data/enwiki/enwiki_20180920/concurrent_for_candidates/candidate_concurrent_set_87.p\n",
      "/media/andrii/earth/Katia/CS_MasterThesis/data/enwiki/enwiki_20180920/concurrent_for_candidates/candidate_concurrent_set_88.p\n",
      "/media/andrii/earth/Katia/CS_MasterThesis/data/enwiki/enwiki_20180920/concurrent_for_candidates/candidate_concurrent_set_89.p\n",
      "/media/andrii/earth/Katia/CS_MasterThesis/data/enwiki/enwiki_20180920/concurrent_for_candidates/candidate_concurrent_set_90.p\n",
      "/media/andrii/earth/Katia/CS_MasterThesis/data/enwiki/enwiki_20180920/concurrent_for_candidates/candidate_concurrent_set_91.p\n",
      "/media/andrii/earth/Katia/CS_MasterThesis/data/enwiki/enwiki_20180920/concurrent_for_candidates/candidate_concurrent_set_92.p\n",
      "/media/andrii/earth/Katia/CS_MasterThesis/data/enwiki/enwiki_20180920/concurrent_for_candidates/candidate_concurrent_set_93.p\n",
      "/media/andrii/earth/Katia/CS_MasterThesis/data/enwiki/enwiki_20180920/concurrent_for_candidates/candidate_concurrent_set_94.p\n",
      "/media/andrii/earth/Katia/CS_MasterThesis/data/enwiki/enwiki_20180920/concurrent_for_candidates/candidate_concurrent_set_95.p\n",
      "/media/andrii/earth/Katia/CS_MasterThesis/data/enwiki/enwiki_20180920/concurrent_for_candidates/candidate_concurrent_set_96.p\n",
      "/media/andrii/earth/Katia/CS_MasterThesis/data/enwiki/enwiki_20180920/concurrent_for_candidates/candidate_concurrent_set_97.p\n",
      "/media/andrii/earth/Katia/CS_MasterThesis/data/enwiki/enwiki_20180920/concurrent_for_candidates/candidate_concurrent_set_98.p\n",
      "/media/andrii/earth/Katia/CS_MasterThesis/data/enwiki/enwiki_20180920/concurrent_for_candidates/candidate_concurrent_set_99.p\n",
      "/media/andrii/earth/Katia/CS_MasterThesis/data/enwiki/enwiki_20180920/concurrent_for_candidates/candidate_concurrent_set_100.p\n",
      "/media/andrii/earth/Katia/CS_MasterThesis/data/enwiki/enwiki_20180920/concurrent_for_candidates/candidate_concurrent_set_101.p\n",
      "Time: 0.8 minutes\n"
     ]
    }
   ],
   "source": [
    "# !! RUN ONCE\n",
    "# combine concurrent links for candidates into 4 files (instead of 101)\n",
    "\n",
    "number_of_files = [25, 25, 25, 26]\n",
    "\n",
    "i = len(number_of_files)\n",
    "start_index = 0\n",
    "num_files_proceed = number_of_files[i-1]\n",
    "\n",
    "while i > 0:\n",
    "    start_time = time.time()\n",
    "    candidate_concurrent_sets = []\n",
    "    print('start_index =', start_index)\n",
    "    print('num_items_proceed =', num_files_proceed)\n",
    "    \n",
    "    for n in range(start_index, num_files_proceed):\n",
    "        filename = PATH_TO_DATA_EN+'concurrent_for_candidates/'+'candidate_concurrent_set_'+str(n+1)+'.p'\n",
    "        print(filename)\n",
    "        with open(filename, 'rb') as fp:\n",
    "            candidate_concurrent_set = pickle.load(fp)\n",
    "            candidate_concurrent_sets += candidate_concurrent_set\n",
    "    with open(PATH_TO_DATA_EN+'concurrent_for_candidates_large/'+'candidate_concurrent_sets_'+str(i)+'.p', 'wb') as fp:\n",
    "        pickle.dump(candidate_concurrent_sets, fp, protocol=pickle.HIGHEST_PROTOCOL)\n",
    "    i -= 1\n",
    "    start_index = num_files_proceed\n",
    "    num_files_proceed = num_files_proceed + number_of_files[i-1]\n",
    "    print('Time: %.1f minutes' % ((time.time() - start_time)/60))"
   ]
  },
  {
   "cell_type": "code",
   "execution_count": 7,
   "metadata": {},
   "outputs": [],
   "source": [
    "with open(PATH_TO_DATA_EN+'concurrent_for_candidates_large/'+'candidate_concurrent_sets_1.p', 'rb') as fp:\n",
    "            candidate_concurrent_sets = pickle.load(fp)\n",
    "            candidate_concurrent_sets_dict = dict(list(candidate_concurrent_sets))"
   ]
  },
  {
   "cell_type": "code",
   "execution_count": 12,
   "metadata": {},
   "outputs": [],
   "source": [
    "res = candidate_concurrent_sets_dict.get(23455656767856734)"
   ]
  },
  {
   "cell_type": "code",
   "execution_count": 19,
   "metadata": {},
   "outputs": [
    {
     "data": {
      "text/plain": [
       "True"
      ]
     },
     "execution_count": 19,
     "metadata": {},
     "output_type": "execute_result"
    }
   ],
   "source": [
    "res is None"
   ]
  },
  {
   "cell_type": "code",
   "execution_count": 10,
   "metadata": {},
   "outputs": [],
   "source": [
    "concur_files = [f for f in os.listdir(PATH_TO_DATA_EN+'concurrent_for_candidates_large/') if re.match(r'candidate_concurrent_sets_\\d+.p', f)]"
   ]
  },
  {
   "cell_type": "code",
   "execution_count": 16,
   "metadata": {},
   "outputs": [],
   "source": [
    "# incomplete\n",
    "\n",
    "def jaccard_similarity_on_concurrent_links_tuple(pair):\n",
    "    tuples_to_proccess = []\n",
    "    \n",
    "    cand_id = pair[0]\n",
    "    red_link = pair[1]\n",
    "    \n",
    "    \n",
    "    for f in concur_files:\n",
    "        with open(PATH_TO_DATA_EN+'concurrent_for_candidates_large/'+f, 'rb') as fp:\n",
    "            candidate_concurrent_sets = pickle.load(fp)\n",
    "            candidate_concurrent_sets_dict = dict(list(candidate_concurrent_sets))\n",
    "            \n",
    "        en_set = candidate_concurrent_sets_dict.get(cand_id)\n",
    "        uk_set = uk_concurrent_links_dict.get(red_link)\n",
    "            \n",
    "        try:\n",
    "            jaccard_score = functions.jaccard(uk_set, en_set)\n",
    "            jaccard_score = round(jaccard_score, 5)\n",
    "            \n",
    "        except:\n",
    "            tuples_to_proccess.append((cand_id, red_link))\n",
    "    \n",
    "    \n",
    "    jaccard_similarity_on_concurrent_links_tuple(pair)\n",
    "    \n",
    "    return (red_link, cand_id, jaccard_score)"
   ]
  },
  {
   "cell_type": "code",
   "execution_count": 24,
   "metadata": {},
   "outputs": [],
   "source": [
    "# jaccard per concurrent file\n",
    "\n",
    "def jaccard_similarity_on_concurrent_links(triple):\n",
    "    cand_id = triple[0]\n",
    "    red_link = triple[1]\n",
    "    pair_id = triple[2]\n",
    "    \n",
    "\n",
    "    en_set = candidate_concurrent_sets_dict.get(cand_id)\n",
    "    uk_set = uk_concurrent_links_dict.get(red_link)\n",
    "\n",
    "    if en_set is None:\n",
    "        jaccard_score = None\n",
    "    else:\n",
    "        jaccard_score = functions.jaccard(uk_set, en_set)\n",
    "        jaccard_score = round(jaccard_score, 5)\n",
    "        \n",
    "    return {pair_id: jaccard_score}"
   ]
  },
  {
   "cell_type": "code",
   "execution_count": 9,
   "metadata": {},
   "outputs": [],
   "source": [
    "candidate_pairs_test = candidate_pairs.head()"
   ]
  },
  {
   "cell_type": "code",
   "execution_count": 21,
   "metadata": {},
   "outputs": [
    {
     "data": {
      "text/plain": [
       "0    (19043714.0, Pachetra sagittigera)\n",
       "1    (20081651.0, Pachetra sagittigera)\n",
       "2    (19058763.0, Pachetra sagittigera)\n",
       "3    (24455798.0, Pachetra sagittigera)\n",
       "4    (18755597.0, Pachetra sagittigera)\n",
       "dtype: object"
      ]
     },
     "execution_count": 21,
     "metadata": {},
     "output_type": "execute_result"
    }
   ],
   "source": [
    "tuples_with_id_test = tuples_with_id[:5]\n",
    "tuples_with_id_test"
   ]
  },
  {
   "cell_type": "code",
   "execution_count": 25,
   "metadata": {},
   "outputs": [
    {
     "name": "stdout",
     "output_type": "stream",
     "text": [
      "Time: 2.7497942447662354econds\n"
     ]
    }
   ],
   "source": [
    "start_time = time.time()\n",
    "pool = Pool()\n",
    "jac = pool.map(jaccard_similarity_on_concurrent_links, tuples_with_id_test)\n",
    "pool.close()\n",
    "pool.join()\n",
    "#print('Time: %.1f minutes' % ((time.time() - start_time)/60))\n",
    "print('Time: % seconds' % ((time.time() - start_time)))"
   ]
  },
  {
   "cell_type": "code",
   "execution_count": 26,
   "metadata": {},
   "outputs": [
    {
     "data": {
      "text/plain": [
       "[0.0306, 0.03053, 0.03026, 0.03271, 0.03297]"
      ]
     },
     "execution_count": 26,
     "metadata": {},
     "output_type": "execute_result"
    }
   ],
   "source": [
    "jac"
   ]
  },
  {
   "cell_type": "code",
   "execution_count": 11,
   "metadata": {},
   "outputs": [
    {
     "data": {
      "text/html": [
       "<div>\n",
       "<style scoped>\n",
       "    .dataframe tbody tr th:only-of-type {\n",
       "        vertical-align: middle;\n",
       "    }\n",
       "\n",
       "    .dataframe tbody tr th {\n",
       "        vertical-align: top;\n",
       "    }\n",
       "\n",
       "    .dataframe thead th {\n",
       "        text-align: right;\n",
       "    }\n",
       "</style>\n",
       "<table border=\"1\" class=\"dataframe\">\n",
       "  <thead>\n",
       "    <tr style=\"text-align: right;\">\n",
       "      <th></th>\n",
       "      <th>red_link_name</th>\n",
       "      <th>candidate</th>\n",
       "      <th>true_label</th>\n",
       "      <th>BN_results</th>\n",
       "      <th>jaccard_score</th>\n",
       "      <th>levenstein_score</th>\n",
       "      <th>concurrent_jac_score</th>\n",
       "    </tr>\n",
       "  </thead>\n",
       "  <tbody>\n",
       "    <tr>\n",
       "      <th>0</th>\n",
       "      <td>Pachetra sagittigera</td>\n",
       "      <td>Phytometra viridaria</td>\n",
       "      <td>False</td>\n",
       "      <td>0</td>\n",
       "      <td>0.081</td>\n",
       "      <td>0.650</td>\n",
       "      <td>None</td>\n",
       "    </tr>\n",
       "    <tr>\n",
       "      <th>1</th>\n",
       "      <td>Pachetra sagittigera</td>\n",
       "      <td>Conistra rubiginea</td>\n",
       "      <td>False</td>\n",
       "      <td>0</td>\n",
       "      <td>0.076</td>\n",
       "      <td>0.600</td>\n",
       "      <td>None</td>\n",
       "    </tr>\n",
       "    <tr>\n",
       "      <th>2</th>\n",
       "      <td>Pachetra sagittigera</td>\n",
       "      <td>Tholera decimalis</td>\n",
       "      <td>False</td>\n",
       "      <td>0</td>\n",
       "      <td>0.068</td>\n",
       "      <td>0.750</td>\n",
       "      <td>None</td>\n",
       "    </tr>\n",
       "    <tr>\n",
       "      <th>3</th>\n",
       "      <td>Pachetra sagittigera</td>\n",
       "      <td>Pachetra sagittigera</td>\n",
       "      <td>True</td>\n",
       "      <td>0</td>\n",
       "      <td>0.066</td>\n",
       "      <td>0.000</td>\n",
       "      <td>None</td>\n",
       "    </tr>\n",
       "    <tr>\n",
       "      <th>4</th>\n",
       "      <td>Pachetra sagittigera</td>\n",
       "      <td>Hoplodrina octogenaria</td>\n",
       "      <td>False</td>\n",
       "      <td>0</td>\n",
       "      <td>0.066</td>\n",
       "      <td>0.727</td>\n",
       "      <td>None</td>\n",
       "    </tr>\n",
       "  </tbody>\n",
       "</table>\n",
       "</div>"
      ],
      "text/plain": [
       "          red_link_name               candidate  true_label  BN_results  \\\n",
       "0  Pachetra sagittigera    Phytometra viridaria       False           0   \n",
       "1  Pachetra sagittigera      Conistra rubiginea       False           0   \n",
       "2  Pachetra sagittigera       Tholera decimalis       False           0   \n",
       "3  Pachetra sagittigera    Pachetra sagittigera        True           0   \n",
       "4  Pachetra sagittigera  Hoplodrina octogenaria       False           0   \n",
       "\n",
       "   jaccard_score  levenstein_score concurrent_jac_score  \n",
       "0          0.081             0.650                 None  \n",
       "1          0.076             0.600                 None  \n",
       "2          0.068             0.750                 None  \n",
       "3          0.066             0.000                 None  \n",
       "4          0.066             0.727                 None  "
      ]
     },
     "execution_count": 11,
     "metadata": {},
     "output_type": "execute_result"
    }
   ],
   "source": [
    "candidate_pairs_test"
   ]
  },
  {
   "cell_type": "code",
   "execution_count": null,
   "metadata": {},
   "outputs": [],
   "source": []
  },
  {
   "cell_type": "code",
   "execution_count": 20,
   "metadata": {},
   "outputs": [
    {
     "name": "stdout",
     "output_type": "stream",
     "text": [
      "Time for a set: 0.0 minutes\n"
     ]
    }
   ],
   "source": [
    "with_jaccard_list = []\n",
    "\n",
    "for f in concur_files:\n",
    "\n",
    "    start_time = time.time()\n",
    "\n",
    "    with open(PATH_TO_DATA_EN+'concurrent_for_candidates_large/'+f, 'rb') as fp:\n",
    "        candidate_concurrent_sets_test = pickle.load(fp)\n",
    "\n",
    "    pool = Pool()\n",
    "    jac = pool.map(jaccard_similarity_on_concurrent_links_tuple, candidate_concurrent_sets_test)\n",
    "    pool.close()\n",
    "    pool.join()\n",
    "    with_jaccard_list += jac\n",
    "print('Time: %.1f minutes' % ((time.time() - start_time)/60))"
   ]
  },
  {
   "cell_type": "code",
   "execution_count": 21,
   "metadata": {},
   "outputs": [
    {
     "data": {
      "text/plain": [
       "130152"
      ]
     },
     "execution_count": 21,
     "metadata": {},
     "output_type": "execute_result"
    }
   ],
   "source": [
    "len(with_jaccard_list)"
   ]
  },
  {
   "cell_type": "code",
   "execution_count": null,
   "metadata": {},
   "outputs": [],
   "source": []
  },
  {
   "cell_type": "code",
   "execution_count": null,
   "metadata": {},
   "outputs": [],
   "source": []
  },
  {
   "cell_type": "code",
   "execution_count": 92,
   "metadata": {},
   "outputs": [
    {
     "name": "stdout",
     "output_type": "stream",
     "text": [
      "Time for a set: 2.3 minutes\n"
     ]
    },
    {
     "name": "stderr",
     "output_type": "stream",
     "text": [
      "/home/andrii/apps/anaconda3/lib/python3.6/site-packages/ipykernel_launcher.py:3: SettingWithCopyWarning: \n",
      "A value is trying to be set on a copy of a slice from a DataFrame.\n",
      "Try using .loc[row_indexer,col_indexer] = value instead\n",
      "\n",
      "See the caveats in the documentation: http://pandas.pydata.org/pandas-docs/stable/indexing.html#indexing-view-versus-copy\n",
      "  This is separate from the ipykernel package so we can avoid doing imports until\n"
     ]
    }
   ],
   "source": [
    "start_time = time.time()\n",
    "red_links_uk_with_features_df_sample['jaccard_concur_score'] = \\\n",
    "red_links_uk_with_features_df_sample.apply(jaccard_similarity_on_concurrent_links, axis=1)\n",
    "print('Time for a set: %.1f minutes' % ((time.time() - start_time)/60))"
   ]
  },
  {
   "cell_type": "code",
   "execution_count": 93,
   "metadata": {},
   "outputs": [
    {
     "data": {
      "text/html": [
       "<div>\n",
       "<style scoped>\n",
       "    .dataframe tbody tr th:only-of-type {\n",
       "        vertical-align: middle;\n",
       "    }\n",
       "\n",
       "    .dataframe tbody tr th {\n",
       "        vertical-align: top;\n",
       "    }\n",
       "\n",
       "    .dataframe thead th {\n",
       "        text-align: right;\n",
       "    }\n",
       "</style>\n",
       "<table border=\"1\" class=\"dataframe\">\n",
       "  <thead>\n",
       "    <tr style=\"text-align: right;\">\n",
       "      <th></th>\n",
       "      <th>red_link_name</th>\n",
       "      <th>candidate</th>\n",
       "      <th>true_label</th>\n",
       "      <th>BN_results</th>\n",
       "      <th>jaccard_score</th>\n",
       "      <th>levenstein_score</th>\n",
       "      <th>jaccard_concur_score</th>\n",
       "    </tr>\n",
       "  </thead>\n",
       "  <tbody>\n",
       "    <tr>\n",
       "      <th>0</th>\n",
       "      <td>Pachetra sagittigera</td>\n",
       "      <td>Phytometra viridaria</td>\n",
       "      <td>False</td>\n",
       "      <td>0</td>\n",
       "      <td>0.081</td>\n",
       "      <td>0.65</td>\n",
       "      <td>0.030600</td>\n",
       "    </tr>\n",
       "    <tr>\n",
       "      <th>1</th>\n",
       "      <td>Pachetra sagittigera</td>\n",
       "      <td>Conistra rubiginea</td>\n",
       "      <td>False</td>\n",
       "      <td>0</td>\n",
       "      <td>0.076</td>\n",
       "      <td>0.60</td>\n",
       "      <td>0.030532</td>\n",
       "    </tr>\n",
       "    <tr>\n",
       "      <th>2</th>\n",
       "      <td>Pachetra sagittigera</td>\n",
       "      <td>Tholera decimalis</td>\n",
       "      <td>False</td>\n",
       "      <td>0</td>\n",
       "      <td>0.068</td>\n",
       "      <td>0.75</td>\n",
       "      <td>0.030263</td>\n",
       "    </tr>\n",
       "    <tr>\n",
       "      <th>3</th>\n",
       "      <td>Pachetra sagittigera</td>\n",
       "      <td>Pachetra sagittigera</td>\n",
       "      <td>True</td>\n",
       "      <td>0</td>\n",
       "      <td>0.066</td>\n",
       "      <td>0.00</td>\n",
       "      <td>0.032709</td>\n",
       "    </tr>\n",
       "  </tbody>\n",
       "</table>\n",
       "</div>"
      ],
      "text/plain": [
       "          red_link_name             candidate  true_label  BN_results  \\\n",
       "0  Pachetra sagittigera  Phytometra viridaria       False           0   \n",
       "1  Pachetra sagittigera    Conistra rubiginea       False           0   \n",
       "2  Pachetra sagittigera     Tholera decimalis       False           0   \n",
       "3  Pachetra sagittigera  Pachetra sagittigera        True           0   \n",
       "\n",
       "   jaccard_score  levenstein_score  jaccard_concur_score  \n",
       "0          0.081              0.65              0.030600  \n",
       "1          0.076              0.60              0.030532  \n",
       "2          0.068              0.75              0.030263  \n",
       "3          0.066              0.00              0.032709  "
      ]
     },
     "execution_count": 93,
     "metadata": {},
     "output_type": "execute_result"
    }
   ],
   "source": [
    "red_links_uk_with_features_df_sample"
   ]
  },
  {
   "cell_type": "code",
   "execution_count": null,
   "metadata": {},
   "outputs": [],
   "source": []
  },
  {
   "cell_type": "code",
   "execution_count": 108,
   "metadata": {},
   "outputs": [],
   "source": [
    "tuples = red_links_uk_with_features_df_sample.apply(lambda x: (x['red_link_name'], x['candidate']), axis=1)"
   ]
  },
  {
   "cell_type": "code",
   "execution_count": 115,
   "metadata": {
    "scrolled": true
   },
   "outputs": [
    {
     "data": {
      "text/plain": [
       "('Pachetra sagittigera', 'Phytometra viridaria')"
      ]
     },
     "execution_count": 115,
     "metadata": {},
     "output_type": "execute_result"
    }
   ],
   "source": [
    "tuples[0]"
   ]
  },
  {
   "cell_type": "code",
   "execution_count": 117,
   "metadata": {},
   "outputs": [
    {
     "name": "stdout",
     "output_type": "stream",
     "text": [
      "Time for a set: 0.7 minutes\n"
     ]
    }
   ],
   "source": [
    "start_time = time.time()\n",
    "pool = Pool()\n",
    "jac = pool.map(jaccard_similarity_on_concurrent_links_tuple, tuples)\n",
    "pool.close()\n",
    "pool.join()\n",
    "print('Time for a set: %.1f minutes' % ((time.time() - start_time)/60))"
   ]
  },
  {
   "cell_type": "code",
   "execution_count": 131,
   "metadata": {},
   "outputs": [],
   "source": [
    "a = pd.DataFrame(jac)\n",
    "b = pd.DataFrame(jac)"
   ]
  },
  {
   "cell_type": "code",
   "execution_count": 137,
   "metadata": {},
   "outputs": [
    {
     "data": {
      "text/html": [
       "<div>\n",
       "<style scoped>\n",
       "    .dataframe tbody tr th:only-of-type {\n",
       "        vertical-align: middle;\n",
       "    }\n",
       "\n",
       "    .dataframe tbody tr th {\n",
       "        vertical-align: top;\n",
       "    }\n",
       "\n",
       "    .dataframe thead th {\n",
       "        text-align: right;\n",
       "    }\n",
       "</style>\n",
       "<table border=\"1\" class=\"dataframe\">\n",
       "  <thead>\n",
       "    <tr style=\"text-align: right;\">\n",
       "      <th></th>\n",
       "      <th>0</th>\n",
       "      <th>0</th>\n",
       "    </tr>\n",
       "  </thead>\n",
       "  <tbody>\n",
       "    <tr>\n",
       "      <th>0</th>\n",
       "      <td>0.030600</td>\n",
       "      <td>0.030600</td>\n",
       "    </tr>\n",
       "    <tr>\n",
       "      <th>1</th>\n",
       "      <td>0.030532</td>\n",
       "      <td>0.030532</td>\n",
       "    </tr>\n",
       "    <tr>\n",
       "      <th>2</th>\n",
       "      <td>0.030263</td>\n",
       "      <td>0.030263</td>\n",
       "    </tr>\n",
       "    <tr>\n",
       "      <th>3</th>\n",
       "      <td>0.032709</td>\n",
       "      <td>0.032709</td>\n",
       "    </tr>\n",
       "  </tbody>\n",
       "</table>\n",
       "</div>"
      ],
      "text/plain": [
       "          0         0\n",
       "0  0.030600  0.030600\n",
       "1  0.030532  0.030532\n",
       "2  0.030263  0.030263\n",
       "3  0.032709  0.032709"
      ]
     },
     "execution_count": 137,
     "metadata": {},
     "output_type": "execute_result"
    }
   ],
   "source": [
    "pd.concat([a, b], axis=1)"
   ]
  },
  {
   "cell_type": "code",
   "execution_count": null,
   "metadata": {},
   "outputs": [],
   "source": []
  }
 ],
 "metadata": {
  "kernelspec": {
   "display_name": "Python 3",
   "language": "python",
   "name": "python3"
  },
  "language_info": {
   "codemirror_mode": {
    "name": "ipython",
    "version": 3
   },
   "file_extension": ".py",
   "mimetype": "text/x-python",
   "name": "python",
   "nbconvert_exporter": "python",
   "pygments_lexer": "ipython3",
   "version": "3.6.7"
  }
 },
 "nbformat": 4,
 "nbformat_minor": 2
}
