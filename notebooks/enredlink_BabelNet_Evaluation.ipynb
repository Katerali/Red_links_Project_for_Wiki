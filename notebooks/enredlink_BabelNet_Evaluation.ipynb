{
 "cells": [
  {
   "cell_type": "code",
   "execution_count": 1,
   "metadata": {
    "collapsed": true
   },
   "outputs": [],
   "source": [
    "import pandas as pd"
   ]
  },
  {
   "cell_type": "code",
   "execution_count": 1,
   "metadata": {
    "collapsed": true
   },
   "outputs": [],
   "source": [
    "PATH_TO_DATA = '/media/andrii/earth/Katia/CS_MasterThesis/Red_links_Project_for_Wiki/results'"
   ]
  },
  {
   "cell_type": "code",
   "execution_count": 3,
   "metadata": {
    "collapsed": false
   },
   "outputs": [],
   "source": [
    "bn_results_df = pd.read_csv(PATH_TO_DATA+'bn_results_all_final.csv', encoding='UTF-8')"
   ]
  },
  {
   "cell_type": "code",
   "execution_count": 83,
   "metadata": {
    "collapsed": false
   },
   "outputs": [
    {
     "name": "stdout",
     "output_type": "stream",
     "text": [
      "Nan = 3336\n",
      "found uk translations = 257\n"
     ]
    }
   ],
   "source": [
    "nans = bn_results_df['UK'].isnull().sum()\n",
    "print('Nan =', nans)\n",
    "print('found uk translations =', len(bn_results_df)-nans)"
   ]
  },
  {
   "cell_type": "code",
   "execution_count": 84,
   "metadata": {
    "collapsed": false
   },
   "outputs": [
    {
     "data": {
      "text/plain": [
       "False      3228\n",
       "True        362\n",
       "unknown       3\n",
       "Name: en_wiki_res, dtype: int64"
      ]
     },
     "execution_count": 84,
     "metadata": {},
     "output_type": "execute_result"
    }
   ],
   "source": [
    "en_already_exist = bn_results_df['en_wiki_res'].value_counts()\n",
    "en_already_exist\n",
    "# 10 % of our red links sample already exist in en wiki"
   ]
  },
  {
   "cell_type": "code",
   "execution_count": 4,
   "metadata": {
    "collapsed": false
   },
   "outputs": [],
   "source": [
    "res = bn_results_df['Evaluation'].value_counts()"
   ]
  },
  {
   "cell_type": "code",
   "execution_count": 5,
   "metadata": {
    "collapsed": false
   },
   "outputs": [
    {
     "data": {
      "text/plain": [
       "TN    3036\n",
       "FN     294\n",
       "TP     231\n",
       "FP      30\n",
       "Name: Evaluation, dtype: int64"
      ]
     },
     "execution_count": 5,
     "metadata": {},
     "output_type": "execute_result"
    }
   ],
   "source": [
    "res"
   ]
  },
  {
   "cell_type": "code",
   "execution_count": 6,
   "metadata": {
    "collapsed": true
   },
   "outputs": [],
   "source": [
    "tp = res['TP']\n",
    "tn = res['TN']\n",
    "fp = res['FP']\n",
    "fn = res['FN']"
   ]
  },
  {
   "cell_type": "code",
   "execution_count": 7,
   "metadata": {
    "collapsed": false
   },
   "outputs": [
    {
     "name": "stdout",
     "output_type": "stream",
     "text": [
      "precision = 0.885057471264\n"
     ]
    }
   ],
   "source": [
    "precision = tp/(tp + fp)\n",
    "print('precision =', precision)"
   ]
  },
  {
   "cell_type": "code",
   "execution_count": 8,
   "metadata": {
    "collapsed": false
   },
   "outputs": [
    {
     "name": "stdout",
     "output_type": "stream",
     "text": [
      "recall = 0.44\n"
     ]
    }
   ],
   "source": [
    "recall = tp/(tp + fn)\n",
    "print('recall =', recall)"
   ]
  },
  {
   "cell_type": "code",
   "execution_count": 77,
   "metadata": {
    "collapsed": false
   },
   "outputs": [],
   "source": [
    "false_negatives_df = bn_results_df.loc[bn_results_df['Evaluation'] == 'FN']"
   ]
  },
  {
   "cell_type": "code",
   "execution_count": 78,
   "metadata": {
    "collapsed": true
   },
   "outputs": [],
   "source": [
    "false_negatives_df.to_csv('false_negatives_df.csv', encoding='UTF-8')"
   ]
  },
  {
   "cell_type": "code",
   "execution_count": null,
   "metadata": {
    "collapsed": true
   },
   "outputs": [],
   "source": []
  },
  {
   "cell_type": "code",
   "execution_count": 49,
   "metadata": {
    "collapsed": true
   },
   "outputs": [],
   "source": [
    "false_neg_df = pd.read_csv('false_negatives_df.csv', encoding='UTF-8')"
   ]
  },
  {
   "cell_type": "code",
   "execution_count": 53,
   "metadata": {
    "collapsed": true
   },
   "outputs": [],
   "source": [
    "false_neg_df_trimmed = false_neg_df.apply(lambda x: x.str.strip() if x.dtype == \"object\" else x)"
   ]
  },
  {
   "cell_type": "code",
   "execution_count": 56,
   "metadata": {
    "collapsed": false
   },
   "outputs": [
    {
     "data": {
      "text/plain": [
       "['Lucius Sempronius Atratinus (consul 444 BC)',\n",
       " 'Lucius Quinctius Cincinnatus (consular tribune)',\n",
       " 'Agrippa Menenius Lanatus (consul 439 BC)',\n",
       " 'FK_Hajduk Kula',\n",
       " 'FK_Smederevo',\n",
       " 'Alice Volpi',\n",
       " 'Piotr Ianulov',\n",
       " 'Vasyl Prodan',\n",
       " 'Hryhoriy Haranyan',\n",
       " 'Quintus Caecilius Bassus',\n",
       " 'Inge Jansen',\n",
       " 'ż',\n",
       " 'Oleksiy Hrachov',\n",
       " 'Oleh Fedyukov',\n",
       " 'Fusion (music)',\n",
       " 'Mark van Nydeck Erdmann',\n",
       " 'Viktor Tymoshenko',\n",
       " '23rd Tank Corps',\n",
       " 'HC Bellerive Vevey',\n",
       " 'HC Bern',\n",
       " 'Encyclopedia of History of Ukraine',\n",
       " 'Serhiy Shelukhin',\n",
       " 'Olonets Viceroyalty',\n",
       " 'Denys Arendaruk',\n",
       " 'A.D. Oliveirense',\n",
       " '2005 European Wrestling Championships',\n",
       " 'Mykyta Shapoval',\n",
       " 'Yuriy Karasyk',\n",
       " 'Yuriy Melnyk',\n",
       " 'μ-opioid receptor',\n",
       " 'Anatoliy Holovko',\n",
       " 'Serhiy Polyakov',\n",
       " 'W-CDMA (UMTS)',\n",
       " 'Mikhail Nazvanov',\n",
       " 'FC Lokomotyv Poltava',\n",
       " 'FC Torpedo Kharkiv',\n",
       " 'Andrei Dukov',\n",
       " 'Roksana Zasina',\n",
       " 'Anzhela Dorogan',\n",
       " 'Jaqueline Schellin',\n",
       " 'Hiroe Minagawa',\n",
       " 'Aliaksandr Hrabovik',\n",
       " 'fusion (music)',\n",
       " 'Fotogramas de Plata',\n",
       " '1999 European Wrestling Championships',\n",
       " 'Military transport aircraft',\n",
       " 'Paweł Raczkowski',\n",
       " '2010–11 Ukrainian Basketball SuperLeague',\n",
       " 'Vladimir Alenishko',\n",
       " 'Roman Pryma',\n",
       " 'Catalogue of Icelandic Volcanoes',\n",
       " 'Mikhail Shumilov',\n",
       " '15th Air Army',\n",
       " 'Surva',\n",
       " 'Overtime_(sports)',\n",
       " '5th Guards Cavalry Corps',\n",
       " 'FC Wien',\n",
       " 'XXIV Panzer Corps (Germany)',\n",
       " '371st Infantry Division (Wehrmacht)',\n",
       " '253rd Infantry Division (Wehrmacht)',\n",
       " 'Volodymyr Shyshkov',\n",
       " 'Oleksandr Kundenok',\n",
       " 'Bohdan Bandura',\n",
       " 'Oleksandr Novikov',\n",
       " 'Ivan Chistyakov',\n",
       " 'Pavel Volkov',\n",
       " 'Suter MMX2',\n",
       " 'FC Kolos Zachepylivka',\n",
       " 'Gnaeus Manlius Capitolinus Imperiosus',\n",
       " 'Puławy (województwo podkarpackie)',\n",
       " 'Fiona Gordon',\n",
       " 'The Stranger (Camus novel)',\n",
       " 'Savinja Statistical Region',\n",
       " 'Oleksandr Ostashov',\n",
       " 'Janusz Zasławski',\n",
       " 'FC Avanhard Lozova',\n",
       " 'Anatoliy Lukashenko',\n",
       " 'Serhiy Dumenko',\n",
       " 'Smerichka',\n",
       " 'FC Spartak Kharkiv',\n",
       " '18th Air Army',\n",
       " 'ASV Hertha',\n",
       " 'SC Rudolfshügel',\n",
       " '1.Simmeringer SC',\n",
       " 'SK Slovan',\n",
       " 'Metsakalmistu',\n",
       " '2017–18 Czech Extraliga season',\n",
       " 'Moldova telephone area codes',\n",
       " 'Night of Champions (bodybuilding)',\n",
       " 'Mykola Zhulynsky',\n",
       " 'Leonid Kostyuchenko',\n",
       " 'Valentyn Landyk',\n",
       " 'Viktor Suslov',\n",
       " 'Mykhailo Pavlovsky',\n",
       " 'Ivan Sakhan',\n",
       " 'District',\n",
       " 'FC Alazani Gurjaani',\n",
       " 'John Stephen Sparks',\n",
       " '1993–94 Belarusian Cup',\n",
       " 'župan',\n",
       " 'Roman Kulesza',\n",
       " 'Lääne-Harju Parish',\n",
       " \"Sant'Antonio da Padova\",\n",
       " 'hydraulic engineer',\n",
       " 'Aradius Rufinus',\n",
       " 'β-catenin',\n",
       " 'Visa_(document)',\n",
       " 'Cyrillization of Japanese',\n",
       " 'Andrei Kovalev',\n",
       " 'Alexandra Drucka',\n",
       " 'FC Naftovyk Drohobych',\n",
       " 'Figure skating at the 2018 Winter Olympics – Team trophy',\n",
       " 'Gheorghe Alexianu',\n",
       " 'Bigmir.net',\n",
       " 'Gerhard Krefft',\n",
       " 'Eurocar',\n",
       " '37th Rifle Corps',\n",
       " 'Python_(programming_language)',\n",
       " 'C_Sharp_(programming_language)',\n",
       " 'Gaius Valerius Potitus Volusus',\n",
       " 'Gnaeus Cornelius Cossus',\n",
       " 'Lucius Valerius Potitus Poplicola',\n",
       " 'Gaius Aemilius Mamercinus',\n",
       " 'Lucius Lucretius Tricipitinus Flavus',\n",
       " 'Lucius Aemilius Mamercinus',\n",
       " 'FC Volyn-Tsement Zdolbuniv',\n",
       " 'FC Khodak Cherkasy',\n",
       " 'Marina Levtova',\n",
       " 'Mykola Sadovsky',\n",
       " 'Publius Volumnius Amintinus Gallus',\n",
       " \"Cross-country skiing at the 2018 Winter Olympics –  Men's 30 kilometre skiathlon\",\n",
       " 'Andres de la Garma',\n",
       " 'Hungarian language',\n",
       " 'Pavel Arsenov',\n",
       " 'Vasyl Onopenko',\n",
       " 'Knyazha Arena',\n",
       " 'Bálint Korpási',\n",
       " 'Viktor Oliynyk',\n",
       " 'Tatyana Gavrilova',\n",
       " 'Yevhen Dereviaha',\n",
       " 'Birgitta Bremer',\n",
       " 'Daniel Stefański',\n",
       " 'FC Tavria-Skif Rozdol',\n",
       " \"Ben O'Connor (ice hockey)\",\n",
       " 'Anatoly Zhukov',\n",
       " 'Andrei Ilienko',\n",
       " 'Legionovia Legionowo',\n",
       " 'Mykhaylo Popov',\n",
       " 'Gaius Aurelius Cotta (consul 200 BC)',\n",
       " 'Mykola Fedorko',\n",
       " 'Vyacheslav Mazarati',\n",
       " 'Ivan Dotsenko',\n",
       " 'Diana Shelestyuk',\n",
       " 'English language',\n",
       " 'Fortunguavis',\n",
       " 'Gaius Sentius Saturninus (consul 4)',\n",
       " 'Stefan Potocki, voivode of Bratslav',\n",
       " 'Shevchenkivskyi District, Zaporizhia',\n",
       " 'Paweł Sapieha',\n",
       " 'Piatykhatky, Horlivka',\n",
       " 'Úrvalsdeild_karla_(football)',\n",
       " 'Stella Hryniuk',\n",
       " 'Lavina Music',\n",
       " 'Toropetsky Uyezd',\n",
       " 'Vyacheslav Yeremeyev',\n",
       " 'FC Vradiyivka',\n",
       " 'Serhiy Strashnenko',\n",
       " 'Adrian Cervantes',\n",
       " 'FC Yalynka Velykyi Bychkiv',\n",
       " 'FC Shakhtar Chervonohrad',\n",
       " 'FC Pidshypnyk Lutsk',\n",
       " 'FC Lokomotyv Znamianka',\n",
       " 'FC Nyva Terebovlia',\n",
       " 'FC Khimik Rivne',\n",
       " 'FC Nizhyn',\n",
       " 'FC Dnipro Kyiv',\n",
       " 'FC Kolos Stepove',\n",
       " 'Krasnye Chetai',\n",
       " 'Stadion Dolcanu',\n",
       " 'Vitaliy Bohdanov',\n",
       " 'α-actinin',\n",
       " 'Baptême',\n",
       " \"Swimming at the  2016 Summer Olympics – Women's 4 × 200 metre freestyle relay\",\n",
       " 'Mykhailo Tkachenko',\n",
       " 'Volodymyr Kuratchenko',\n",
       " 'Anatoliy Tolstoukhov',\n",
       " 'Petro Talanchuk',\n",
       " 'FC Hvardiyets Hvardiyske',\n",
       " 'FC Mayak Sarny',\n",
       " 'FC Lehion Zhytomyr',\n",
       " 'FC Avanhard Koryukivka',\n",
       " 'FC Retro Vatutine',\n",
       " 'FC Burevisnyk Petrove',\n",
       " 'FC Metalurh Malyn',\n",
       " 'FC Putrivka',\n",
       " 'FC Khimmash Korosten',\n",
       " 'Evgeniya Sedova',\n",
       " 'Mezdra Municipality',\n",
       " 'Sabachwalden',\n",
       " 'Romanian language',\n",
       " 'Mykola Rudkovsky',\n",
       " 'α-amanitin',\n",
       " 'Jacques Saulnier',\n",
       " 'Tyrol (state)',\n",
       " 'FC Nyva Terebovlya',\n",
       " 'FC Tavriya-Skif Rozdol',\n",
       " 'SCC Demnya',\n",
       " 'Mykhailo Tsymbalyuk',\n",
       " 'Hubert Charuel',\n",
       " 'Alexey Slepov',\n",
       " 'Administrative divisions of Republic of China',\n",
       " 'List_of_IOC_country_codes',\n",
       " 'Business Ukraine',\n",
       " 'Aleksander Wiśniowiecki',\n",
       " 'Dual_EC_DRBG',\n",
       " '1997 European Wrestling Championships',\n",
       " '2000 European Wrestling Championships',\n",
       " '2001 European Wrestling Championships',\n",
       " '2002 European Wrestling Championships',\n",
       " 'Mykola Derkach',\n",
       " 'śīla',\n",
       " 'Clan Celentano',\n",
       " 'Žužemberk',\n",
       " 'Ahrarne',\n",
       " 'Ihor Artymovych',\n",
       " 'FC Shakhtar Konotop',\n",
       " 'Kamenskaya (TV series)',\n",
       " 'Vadim Medvedev',\n",
       " 'Anatoliy Piskovets',\n",
       " 'Yunist Stadium (Lviv)',\n",
       " 'Ihor Volkov',\n",
       " 'Ruslan Romanchuk',\n",
       " 'Andriy Oparin',\n",
       " 'Oleksandr Spitsyn',\n",
       " 'IIHF  World U20 Championship',\n",
       " 'Frank T. Burbrink',\n",
       " 'Order of the Red Banner (Mongolia)',\n",
       " 'Mikhail Shapiro',\n",
       " 'Testudinae',\n",
       " 'Dierochelyinae',\n",
       " 'Mariinsky Water System',\n",
       " 'Valerij Filippov',\n",
       " 'Order of Friendship of Peoples (Belarus)',\n",
       " 'Volodymyr Reva',\n",
       " 'Publius Sulpicius Saverrio (consul 279 BC)',\n",
       " 'Velyka Pysarivka',\n",
       " 'Yampil, Sumy Oblast',\n",
       " 'Linonen',\n",
       " 'Dionysios Lavrangas',\n",
       " 'Quintus Minucius Esquilinus Augurinus',\n",
       " 'Giorgi Giorgadze',\n",
       " 'Oleksandr Shcherbakov',\n",
       " 'Salt_(chemistry)',\n",
       " 'Luben Popov',\n",
       " 'Atanas Kolarov',\n",
       " 'Alexander Pashutin',\n",
       " 'Petro Bolbochan',\n",
       " 'Marcus Fabius Licinus',\n",
       " 'Oleksandr Kapusta',\n",
       " 'Aliaksandr Babchyn',\n",
       " 'Tiraspol Uyezd',\n",
       " 'Voznesensk Viceroyalty',\n",
       " 'bark (biology)',\n",
       " 'Metropolitan City  of Turin',\n",
       " 'Dolo (Italia)',\n",
       " 'Syd Barnett',\n",
       " 'Metropolitan City  of Milan',\n",
       " 'Oleksandrivka, Kirovohrad Oblast',\n",
       " 'Mikhail Kazakov',\n",
       " 'Vitaliy Prokopchenko',\n",
       " 'Lucius Cornelius Scipio (consul 350 BC)',\n",
       " 'Pascal Marti',\n",
       " 'LB.ua',\n",
       " 'Vita Nuova Holdings',\n",
       " 'Sul Goiano',\n",
       " 'Dinamo Kharkiv',\n",
       " 'Svapa River']"
      ]
     },
     "execution_count": 56,
     "metadata": {},
     "output_type": "execute_result"
    }
   ],
   "source": [
    "false_neg_df_trimmed['red_link_name'].tolist()"
   ]
  },
  {
   "cell_type": "code",
   "execution_count": 79,
   "metadata": {
    "collapsed": true
   },
   "outputs": [],
   "source": [
    "false_positives_df = bn_results_df.loc[bn_results_df['Evaluation'] == 'FP']"
   ]
  },
  {
   "cell_type": "code",
   "execution_count": 80,
   "metadata": {
    "collapsed": false
   },
   "outputs": [],
   "source": [
    "false_positives_df.to_csv('false_positives_df.csv', encoding='UTF-8')"
   ]
  },
  {
   "cell_type": "code",
   "execution_count": null,
   "metadata": {
    "collapsed": true
   },
   "outputs": [],
   "source": []
  }
 ],
 "metadata": {
  "kernelspec": {
   "display_name": "Python 3",
   "language": "python",
   "name": "python3"
  },
  "language_info": {
   "codemirror_mode": {
    "name": "ipython",
    "version": 3
   },
   "file_extension": ".py",
   "mimetype": "text/x-python",
   "name": "python",
   "nbconvert_exporter": "python",
   "pygments_lexer": "ipython3",
   "version": "3.6.0"
  }
 },
 "nbformat": 4,
 "nbformat_minor": 2
}
